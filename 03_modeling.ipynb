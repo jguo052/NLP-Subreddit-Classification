{
 "cells": [
  {
   "cell_type": "code",
   "execution_count": 32,
   "id": "b3929971-9470-45b0-9538-331fe140f439",
   "metadata": {},
   "outputs": [],
   "source": [
    "# rerun models with random state\n",
    "# rerun gradient boost with tvec (slightly edit parameters)"
   ]
  },
  {
   "cell_type": "markdown",
   "id": "9ab34c03-27d6-4709-84b8-ca815eb42603",
   "metadata": {},
   "source": [
    "# Modeling"
   ]
  },
  {
   "cell_type": "markdown",
   "id": "b3b371dc-4221-47b8-94dc-adee19c244b0",
   "metadata": {},
   "source": [
    "## Imports"
   ]
  },
  {
   "cell_type": "code",
   "execution_count": 1,
   "id": "2a746533-b640-4c61-98fe-2c6d889eff0b",
   "metadata": {},
   "outputs": [],
   "source": [
    "# basic imports\n",
    "import pandas as pd\n",
    "import numpy as np\n",
    "import matplotlib.pyplot as plt\n",
    "import seaborn as sns\n",
    "import plotly.express as px\n",
    "\n",
    "# core\n",
    "from sklearn.model_selection import train_test_split, GridSearchCV\n",
    "from sklearn.pipeline import Pipeline\n",
    "\n",
    "# transformers\n",
    "from sklearn.feature_extraction.text import CountVectorizer, TfidfVectorizer\n",
    "from sklearn.preprocessing import StandardScaler\n",
    "\n",
    "# models\n",
    "from sklearn.linear_model import LogisticRegression\n",
    "from sklearn.naive_bayes import MultinomialNB\n",
    "from sklearn.ensemble import BaggingClassifier, RandomForestClassifier, AdaBoostClassifier, \\\n",
    "                            GradientBoostingClassifier, StackingClassifier, VotingClassifier"
   ]
  },
  {
   "cell_type": "markdown",
   "id": "a276e8bc-be85-457b-8039-7b903df32bb6",
   "metadata": {},
   "source": [
    "## Model Preparation"
   ]
  },
  {
   "cell_type": "code",
   "execution_count": 2,
   "id": "2e74827e-45ea-4aed-b2ed-47dc278bc291",
   "metadata": {},
   "outputs": [],
   "source": [
    "# read in r/Seattle and r/SeattleWA data\n",
    "sea = pd.read_csv('datasets/Cleaned_Seattle.csv')\n",
    "sea_wa = pd.read_csv('datasets/Cleaned_SeattleWA.csv')"
   ]
  },
  {
   "cell_type": "code",
   "execution_count": 3,
   "id": "2e064350-ccf3-490a-a66e-2aa0e0ff3641",
   "metadata": {},
   "outputs": [],
   "source": [
    "# combine r/Seattle and r/SeattleWA data into single DataFrame\n",
    "all_posts = pd.concat([sea, sea_wa])"
   ]
  },
  {
   "cell_type": "code",
   "execution_count": 4,
   "id": "8c45d822-3994-49c9-ba09-cc51922ea0ba",
   "metadata": {},
   "outputs": [],
   "source": [
    "# convert Seattle to 0 and SeattleWA to 1 in subreddit column\n",
    "all_posts['subreddit'] = all_posts['subreddit'].map({'Seattle': 0, 'SeattleWA': 1})"
   ]
  },
  {
   "cell_type": "code",
   "execution_count": 5,
   "id": "bc5b9d5f-7d77-4606-96ce-3a3879ce1eb8",
   "metadata": {},
   "outputs": [],
   "source": [
    "# create X (text) and y (subreddit)\n",
    "X = all_posts['text']\n",
    "y = all_posts['subreddit']"
   ]
  },
  {
   "cell_type": "code",
   "execution_count": 6,
   "id": "e29e293b-1274-44b0-985f-2892074c0769",
   "metadata": {},
   "outputs": [],
   "source": [
    "X_train, X_test, y_train, y_test = train_test_split(X, y, random_state = 42, stratify = y)"
   ]
  },
  {
   "cell_type": "markdown",
   "id": "3e710266-271d-4852-9cde-c6538487c914",
   "metadata": {},
   "source": [
    "## Modeling with CountVectorizer\n",
    "#### Logistic Regression"
   ]
  },
  {
   "cell_type": "code",
   "execution_count": 7,
   "id": "85c9eeee-5e57-4724-b6e3-c5b9386f2b75",
   "metadata": {},
   "outputs": [
    {
     "data": {
      "text/plain": [
       "GridSearchCV(estimator=Pipeline(steps=[('cvec', CountVectorizer()),\n",
       "                                       ('lr', LogisticRegression())]),\n",
       "             param_grid={'cvec__max_df': [0.8, 0.825],\n",
       "                         'cvec__max_features': [7000, 7500],\n",
       "                         'cvec__ngram_range': [(1, 2), (1, 3)],\n",
       "                         'cvec__stop_words': ['english'],\n",
       "                         'lr__max_iter': [200]})"
      ]
     },
     "execution_count": 7,
     "metadata": {},
     "output_type": "execute_result"
    }
   ],
   "source": [
    "log_cvec_pipe = Pipeline([\n",
    "    ('cvec', CountVectorizer()),\n",
    "    ('lr', LogisticRegression())\n",
    "])\n",
    "\n",
    "log_cvec_params = {\n",
    "    'cvec__max_features': [7000, 7500],\n",
    "    'cvec__max_df': [0.8, 0.825],\n",
    "    'cvec__stop_words': ['english'],\n",
    "    'cvec__ngram_range': [(1,2), (1,3)],\n",
    "    'lr__max_iter': [200]\n",
    "}\n",
    "\n",
    "log_cvec_gs = GridSearchCV(log_cvec_pipe,\n",
    "                     param_grid = log_cvec_params)\n",
    "\n",
    "log_cvec_gs.fit(X_train, y_train)"
   ]
  },
  {
   "cell_type": "code",
   "execution_count": 8,
   "id": "88a381ea-cc58-42cd-8d36-cf661bae0c95",
   "metadata": {},
   "outputs": [
    {
     "name": "stdout",
     "output_type": "stream",
     "text": [
      "{'cvec__max_df': 0.8, 'cvec__max_features': 7500, 'cvec__ngram_range': (1, 3), 'cvec__stop_words': 'english', 'lr__max_iter': 200}\n",
      "0.98464025869038\n",
      "0.5411954765751211\n"
     ]
    }
   ],
   "source": [
    "print(log_cvec_gs.best_params_)\n",
    "print(log_cvec_gs.score(X_train, y_train))\n",
    "print(log_cvec_gs.score(X_test, y_test))"
   ]
  },
  {
   "cell_type": "markdown",
   "id": "45d64984-229e-4dc9-9404-5063f701c0ea",
   "metadata": {},
   "source": [
    "#### Bagging"
   ]
  },
  {
   "cell_type": "code",
   "execution_count": 9,
   "id": "8770c255-c465-4c92-84b5-9d8539e89ee6",
   "metadata": {},
   "outputs": [
    {
     "data": {
      "text/plain": [
       "GridSearchCV(estimator=Pipeline(steps=[('cvec', CountVectorizer()),\n",
       "                                       ('bag', BaggingClassifier())]),\n",
       "             param_grid={'bag__max_features': [0.6, 0.8, 1],\n",
       "                         'bag__n_estimators': [7, 10, 15],\n",
       "                         'cvec__max_df': [0.8, 0.825],\n",
       "                         'cvec__max_features': [7000, 7500],\n",
       "                         'cvec__ngram_range': [(1, 2), (1, 3)],\n",
       "                         'cvec__stop_words': ['english']})"
      ]
     },
     "execution_count": 9,
     "metadata": {},
     "output_type": "execute_result"
    }
   ],
   "source": [
    "bag_cvec_pipe = Pipeline([\n",
    "    ('cvec', CountVectorizer()),\n",
    "    ('bag', BaggingClassifier())\n",
    "])\n",
    "\n",
    "bag_cvec_params = {\n",
    "    'cvec__max_features': [7000, 7500],\n",
    "    'cvec__max_df': [0.8, 0.825],\n",
    "    'cvec__stop_words': ['english'],\n",
    "    'cvec__ngram_range': [(1,2), (1,3)],\n",
    "    'bag__n_estimators': [7, 10, 15],\n",
    "    'bag__max_features': [0.6, 0.8, 1],\n",
    "    \n",
    "\n",
    "}\n",
    "\n",
    "bag_cvec_gs = GridSearchCV(bag_cvec_pipe,\n",
    "                     param_grid = bag_cvec_params)\n",
    "\n",
    "bag_cvec_gs.fit(X_train, y_train)"
   ]
  },
  {
   "cell_type": "code",
   "execution_count": 10,
   "id": "8e0c0c28-69c8-4d0f-a326-947a945bda93",
   "metadata": {},
   "outputs": [
    {
     "name": "stdout",
     "output_type": "stream",
     "text": [
      "{'bag__max_features': 0.8, 'bag__n_estimators': 10, 'cvec__max_df': 0.825, 'cvec__max_features': 7000, 'cvec__ngram_range': (1, 2), 'cvec__stop_words': 'english'}\n",
      "0.9765561843168957\n",
      "0.5290791599353797\n"
     ]
    }
   ],
   "source": [
    "print(bag_cvec_gs.best_params_)\n",
    "print(bag_cvec_gs.score(X_train, y_train))\n",
    "print(bag_cvec_gs.score(X_test, y_test))"
   ]
  },
  {
   "cell_type": "markdown",
   "id": "3cbb81f4-cd64-4b80-b33a-768f5d578a11",
   "metadata": {},
   "source": [
    "#### Random Forest"
   ]
  },
  {
   "cell_type": "code",
   "execution_count": 12,
   "id": "e52b9757-d1d9-4bff-979a-3d5b484c107f",
   "metadata": {},
   "outputs": [
    {
     "data": {
      "text/plain": [
       "GridSearchCV(estimator=Pipeline(steps=[('cvec', CountVectorizer()),\n",
       "                                       ('rf', RandomForestClassifier())]),\n",
       "             param_grid={'cvec__max_df': [0.8, 0.85],\n",
       "                         'cvec__max_features': [7000, 7500],\n",
       "                         'cvec__ngram_range': [(1, 2), (1, 3)],\n",
       "                         'cvec__stop_words': ['english'],\n",
       "                         'rf__max_samples': [0.4, 0.6, 1],\n",
       "                         'rf__n_estimators': [150, 200]})"
      ]
     },
     "execution_count": 12,
     "metadata": {},
     "output_type": "execute_result"
    }
   ],
   "source": [
    "rf_cvec_pipe = Pipeline([\n",
    "    ('cvec', CountVectorizer()),\n",
    "    ('rf', RandomForestClassifier())\n",
    "])\n",
    "\n",
    "rf_cvec_params = {\n",
    "    'cvec__max_features': [7000, 7500],\n",
    "    'cvec__max_df': [0.8, 0.85],\n",
    "    'cvec__stop_words': ['english'],\n",
    "    'cvec__ngram_range': [(1,2), (1,3)],\n",
    "    'rf__n_estimators': [150, 200],\n",
    "    'rf__max_samples': [0.4, 0.6, 1],\n",
    "\n",
    "}\n",
    "\n",
    "rf_cvec_gs = GridSearchCV(rf_cvec_pipe,\n",
    "                     param_grid = rf_cvec_params)\n",
    "\n",
    "rf_cvec_gs.fit(X_train, y_train)"
   ]
  },
  {
   "cell_type": "code",
   "execution_count": 13,
   "id": "c22b593c-71b6-42ae-9812-1cd002fe4b3d",
   "metadata": {},
   "outputs": [
    {
     "name": "stdout",
     "output_type": "stream",
     "text": [
      "{'cvec__max_df': 0.85, 'cvec__max_features': 7500, 'cvec__ngram_range': (1, 2), 'cvec__stop_words': 'english', 'rf__max_samples': 0.6, 'rf__n_estimators': 200}\n",
      "0.9935327405012127\n",
      "0.5621970920840065\n"
     ]
    }
   ],
   "source": [
    "print(rf_cvec_gs.best_params_)\n",
    "print(rf_cvec_gs.score(X_train, y_train))\n",
    "print(rf_cvec_gs.score(X_test, y_test))"
   ]
  },
  {
   "cell_type": "markdown",
   "id": "e730bc70-00fe-4f52-8849-b563921ee6fb",
   "metadata": {},
   "source": [
    "#### AdaBoost"
   ]
  },
  {
   "cell_type": "code",
   "execution_count": 14,
   "id": "b2f5ec3e-8e24-444e-9a32-1c83d1954164",
   "metadata": {},
   "outputs": [
    {
     "data": {
      "text/plain": [
       "GridSearchCV(estimator=Pipeline(steps=[('cvec', CountVectorizer()),\n",
       "                                       ('ada', AdaBoostClassifier())]),\n",
       "             param_grid={'ada__n_estimators': [50, 75, 100],\n",
       "                         'cvec__max_df': [0.8, 0.85],\n",
       "                         'cvec__max_features': [6500, 7000],\n",
       "                         'cvec__ngram_range': [(1, 2), (1, 3)],\n",
       "                         'cvec__stop_words': ['english']})"
      ]
     },
     "execution_count": 14,
     "metadata": {},
     "output_type": "execute_result"
    }
   ],
   "source": [
    "ada_cvec_pipe = Pipeline([\n",
    "    ('cvec', CountVectorizer()),\n",
    "    ('ada', AdaBoostClassifier())\n",
    "])\n",
    "\n",
    "ada_cvec_params = {\n",
    "    'cvec__max_features': [6500, 7000],\n",
    "    'cvec__max_df': [0.8, 0.85],\n",
    "    'cvec__stop_words': ['english'],\n",
    "    'cvec__ngram_range': [(1,2), (1,3)],\n",
    "    'ada__n_estimators': [50, 75, 100],\n",
    "\n",
    "}\n",
    "\n",
    "ada_cvec_gs = GridSearchCV(ada_cvec_pipe,\n",
    "                     param_grid = ada_cvec_params)\n",
    "\n",
    "ada_cvec_gs.fit(X_train, y_train)"
   ]
  },
  {
   "cell_type": "code",
   "execution_count": 15,
   "id": "52530b2e-7241-45ad-9ef4-6b3e1e691bea",
   "metadata": {},
   "outputs": [
    {
     "name": "stdout",
     "output_type": "stream",
     "text": [
      "{'ada__n_estimators': 75, 'cvec__max_df': 0.8, 'cvec__max_features': 6500, 'cvec__ngram_range': (1, 2), 'cvec__stop_words': 'english'}\n",
      "0.646456480732956\n",
      "0.5395799676898223\n"
     ]
    }
   ],
   "source": [
    "print(ada_cvec_gs.best_params_)\n",
    "print(ada_cvec_gs.score(X_train, y_train))\n",
    "print(ada_cvec_gs.score(X_test, y_test))"
   ]
  },
  {
   "cell_type": "markdown",
   "id": "7f891b96-64ec-4155-beb2-2b7470881342",
   "metadata": {},
   "source": [
    "#### Gradient Boosting"
   ]
  },
  {
   "cell_type": "code",
   "execution_count": 16,
   "id": "4dd05e69-9c01-40ec-991b-d8191b167a5a",
   "metadata": {},
   "outputs": [
    {
     "data": {
      "text/plain": [
       "GridSearchCV(estimator=Pipeline(steps=[('cvec', CountVectorizer()),\n",
       "                                       ('gb', GradientBoostingClassifier())]),\n",
       "             param_grid={'cvec__max_df': [0.8, 0.85],\n",
       "                         'cvec__max_features': [7000, 7500],\n",
       "                         'cvec__ngram_range': [(1, 2), (1, 3)],\n",
       "                         'cvec__stop_words': ['english'],\n",
       "                         'gb__max_depth': [4, 5],\n",
       "                         'gb__n_estimators': [100, 150],\n",
       "                         'gb__subsample': [0.5, 0.6, 0.7]})"
      ]
     },
     "execution_count": 16,
     "metadata": {},
     "output_type": "execute_result"
    }
   ],
   "source": [
    "gb_cvec_pipe = Pipeline([\n",
    "    ('cvec', CountVectorizer()),\n",
    "    ('gb', GradientBoostingClassifier())\n",
    "])\n",
    "\n",
    "gb_cvec_params = {\n",
    "    'cvec__max_features': [7000, 7500],\n",
    "    'cvec__max_df': [0.8, 0.85],\n",
    "    'cvec__stop_words': ['english'],\n",
    "    'cvec__ngram_range': [(1,2), (1,3)],\n",
    "    'gb__n_estimators': [100, 150],\n",
    "    'gb__subsample': [0.5, 0.6, 0.7],\n",
    "    'gb__max_depth': [4, 5]\n",
    "\n",
    "}\n",
    "\n",
    "gb_cvec_gs = GridSearchCV(gb_cvec_pipe,\n",
    "                     param_grid = gb_cvec_params)\n",
    "\n",
    "gb_cvec_gs.fit(X_train, y_train)"
   ]
  },
  {
   "cell_type": "code",
   "execution_count": 17,
   "id": "d571340b-79e2-4379-a88e-87fd3555d5d1",
   "metadata": {},
   "outputs": [
    {
     "name": "stdout",
     "output_type": "stream",
     "text": [
      "{'cvec__max_df': 0.8, 'cvec__max_features': 7500, 'cvec__ngram_range': (1, 2), 'cvec__stop_words': 'english', 'gb__max_depth': 5, 'gb__n_estimators': 150, 'gb__subsample': 0.5}\n",
      "0.841552142279709\n",
      "0.537156704361874\n"
     ]
    }
   ],
   "source": [
    "print(gb_cvec_gs.best_params_)\n",
    "print(gb_cvec_gs.score(X_train, y_train))\n",
    "print(gb_cvec_gs.score(X_test, y_test))"
   ]
  },
  {
   "cell_type": "markdown",
   "id": "b9904de2-a5aa-4df6-9d9a-9269d789496c",
   "metadata": {},
   "source": [
    "#### Multinomial Naive Bayes"
   ]
  },
  {
   "cell_type": "code",
   "execution_count": 18,
   "id": "013eeac2-a4ff-43ab-9c9d-e89afee39bba",
   "metadata": {},
   "outputs": [
    {
     "data": {
      "text/plain": [
       "GridSearchCV(estimator=Pipeline(steps=[('cvec', CountVectorizer()),\n",
       "                                       ('nb', MultinomialNB())]),\n",
       "             param_grid={'cvec__max_df': [0.825, 0.85],\n",
       "                         'cvec__max_features': [7000, 7500],\n",
       "                         'cvec__ngram_range': [(1, 2), (1, 3)],\n",
       "                         'cvec__stop_words': ['english']})"
      ]
     },
     "execution_count": 18,
     "metadata": {},
     "output_type": "execute_result"
    }
   ],
   "source": [
    "nb_cvec_pipe = Pipeline([\n",
    "    ('cvec', CountVectorizer()),\n",
    "    ('nb', MultinomialNB())\n",
    "])\n",
    "\n",
    "nb_cvec_params = {\n",
    "    'cvec__max_features': [7000, 7500],\n",
    "    'cvec__max_df': [0.825, 0.85],\n",
    "    'cvec__stop_words': ['english'],\n",
    "    'cvec__ngram_range': [(1,2), (1,3)],\n",
    "}\n",
    "\n",
    "nb_cvec_gs = GridSearchCV(nb_cvec_pipe,\n",
    "                     param_grid = nb_cvec_params)\n",
    "\n",
    "nb_cvec_gs.fit(X_train, y_train)"
   ]
  },
  {
   "cell_type": "code",
   "execution_count": 19,
   "id": "baacae7d-90aa-497f-8e7b-0a23883852e8",
   "metadata": {},
   "outputs": [
    {
     "name": "stdout",
     "output_type": "stream",
     "text": [
      "{'cvec__max_df': 0.825, 'cvec__max_features': 7000, 'cvec__ngram_range': (1, 2), 'cvec__stop_words': 'english'}\n",
      "0.8264618701158717\n",
      "0.555735056542811\n"
     ]
    }
   ],
   "source": [
    "print(nb_cvec_gs.best_params_)\n",
    "print(nb_cvec_gs.score(X_train, y_train))\n",
    "print(nb_cvec_gs.score(X_test, y_test))"
   ]
  },
  {
   "cell_type": "markdown",
   "id": "6c8fb9fe-15a5-4b1f-abea-3c43e36e872c",
   "metadata": {},
   "source": [
    "## Tfidf Vectorizer"
   ]
  },
  {
   "cell_type": "markdown",
   "id": "092c29cf-59ae-4fc0-a5fd-4c5624db6e70",
   "metadata": {},
   "source": [
    "#### Logistic Regression"
   ]
  },
  {
   "cell_type": "code",
   "execution_count": 20,
   "id": "ec1441cd-e2bb-4367-b76d-31b51ef80189",
   "metadata": {},
   "outputs": [
    {
     "data": {
      "text/plain": [
       "GridSearchCV(estimator=Pipeline(steps=[('tvec', TfidfVectorizer()),\n",
       "                                       ('lr', LogisticRegression())]),\n",
       "             param_grid={'lr__max_iter': [100, 200],\n",
       "                         'tvec__max_df': [0.8, 0.85],\n",
       "                         'tvec__max_features': [7000, 7500],\n",
       "                         'tvec__ngram_range': [(1, 2), (1, 3)],\n",
       "                         'tvec__stop_words': ['english']})"
      ]
     },
     "execution_count": 20,
     "metadata": {},
     "output_type": "execute_result"
    }
   ],
   "source": [
    "log_tvec_pipe = Pipeline([\n",
    "    ('tvec', TfidfVectorizer()),\n",
    "    ('lr', LogisticRegression())\n",
    "])\n",
    "\n",
    "log_tvec_params = {\n",
    "    'tvec__max_features': [7000, 7500],\n",
    "    'tvec__max_df': [0.8, 0.85],\n",
    "    'tvec__stop_words': ['english'],\n",
    "    'tvec__ngram_range': [(1,2), (1,3)],\n",
    "    'lr__max_iter': [100, 200]\n",
    "}\n",
    "\n",
    "log_tvec_gs = GridSearchCV(log_tvec_pipe,\n",
    "                     param_grid = log_tvec_params)\n",
    "\n",
    "log_tvec_gs.fit(X_train, y_train)"
   ]
  },
  {
   "cell_type": "code",
   "execution_count": 21,
   "id": "76070fee-6339-4c5a-8c48-d5966c1fec17",
   "metadata": {},
   "outputs": [
    {
     "name": "stdout",
     "output_type": "stream",
     "text": [
      "{'lr__max_iter': 100, 'tvec__max_df': 0.8, 'tvec__max_features': 7000, 'tvec__ngram_range': (1, 3), 'tvec__stop_words': 'english'}\n",
      "0.8563729452977634\n",
      "0.5662358642972536\n"
     ]
    }
   ],
   "source": [
    "print(log_tvec_gs.best_params_)\n",
    "print(log_tvec_gs.score(X_train, y_train))\n",
    "print(log_tvec_gs.score(X_test, y_test))"
   ]
  },
  {
   "cell_type": "markdown",
   "id": "95f51e67-cbff-41c8-ad86-299b0b116f4f",
   "metadata": {},
   "source": [
    "#### Bagging"
   ]
  },
  {
   "cell_type": "code",
   "execution_count": 22,
   "id": "8ac36681-7ac3-490d-a9a8-0354ba41e042",
   "metadata": {},
   "outputs": [
    {
     "data": {
      "text/plain": [
       "GridSearchCV(estimator=Pipeline(steps=[('tvec', TfidfVectorizer()),\n",
       "                                       ('bag', BaggingClassifier())]),\n",
       "             param_grid={'bag__max_features': [0.7, 0.8],\n",
       "                         'bag__n_estimators': [7, 10, 15],\n",
       "                         'tvec__max_df': [0.8, 0.85],\n",
       "                         'tvec__max_features': [7000, 7500],\n",
       "                         'tvec__ngram_range': [(1, 2), (1, 3)],\n",
       "                         'tvec__stop_words': ['english']})"
      ]
     },
     "execution_count": 22,
     "metadata": {},
     "output_type": "execute_result"
    }
   ],
   "source": [
    "bag_tvec_pipe = Pipeline([\n",
    "    ('tvec', TfidfVectorizer()),\n",
    "    ('bag', BaggingClassifier())\n",
    "])\n",
    "\n",
    "bag_tvec_params = {\n",
    "    'tvec__max_features': [7000, 7500],\n",
    "    'tvec__max_df': [0.8, 0.85],\n",
    "    'tvec__stop_words': ['english'],\n",
    "    'tvec__ngram_range': [(1,2), (1,3)],\n",
    "    'bag__n_estimators': [7, 10, 15],\n",
    "    'bag__max_features': [0.7, 0.8],\n",
    "}\n",
    "\n",
    "bag_tvec_gs = GridSearchCV(bag_tvec_pipe,\n",
    "                     param_grid = bag_tvec_params)\n",
    "\n",
    "bag_tvec_gs.fit(X_train, y_train)"
   ]
  },
  {
   "cell_type": "code",
   "execution_count": 23,
   "id": "9c922a2c-9aed-48fe-a1c0-cc96150b364e",
   "metadata": {},
   "outputs": [
    {
     "name": "stdout",
     "output_type": "stream",
     "text": [
      "{'bag__max_features': 0.8, 'bag__n_estimators': 10, 'tvec__max_df': 0.8, 'tvec__max_features': 7500, 'tvec__ngram_range': (1, 3), 'tvec__stop_words': 'english'}\n",
      "0.9757477768795473\n",
      "0.5444264943457189\n"
     ]
    }
   ],
   "source": [
    "print(bag_tvec_gs.best_params_)\n",
    "print(bag_tvec_gs.score(X_train, y_train))\n",
    "print(bag_tvec_gs.score(X_test, y_test))"
   ]
  },
  {
   "cell_type": "markdown",
   "id": "18594c2d-6f68-4b23-8811-ce30034f2398",
   "metadata": {},
   "source": [
    "#### Random Forest"
   ]
  },
  {
   "cell_type": "code",
   "execution_count": 24,
   "id": "51ccd6ae-800c-4560-9c8c-cce799ddb3b4",
   "metadata": {},
   "outputs": [
    {
     "data": {
      "text/plain": [
       "GridSearchCV(estimator=Pipeline(steps=[('tvec', TfidfVectorizer()),\n",
       "                                       ('rf', RandomForestClassifier())]),\n",
       "             param_grid={'rf__max_samples': [0.4, 0.5],\n",
       "                         'rf__n_estimators': [150, 200],\n",
       "                         'tvec__max_df': [0.825, 0.85],\n",
       "                         'tvec__max_features': [7000, 7500],\n",
       "                         'tvec__ngram_range': [(1, 2), (1, 3)],\n",
       "                         'tvec__stop_words': ['english']})"
      ]
     },
     "execution_count": 24,
     "metadata": {},
     "output_type": "execute_result"
    }
   ],
   "source": [
    "rf_tvec_pipe = Pipeline([\n",
    "    ('tvec', TfidfVectorizer()),\n",
    "    ('rf', RandomForestClassifier())\n",
    "])\n",
    "\n",
    "rf_tvec_params = {\n",
    "    'tvec__max_features': [7000, 7500],\n",
    "    'tvec__max_df': [0.825, 0.85],\n",
    "    'tvec__stop_words': ['english'],\n",
    "    'tvec__ngram_range': [(1,2), (1,3)],\n",
    "    'rf__n_estimators': [150, 200],\n",
    "    'rf__max_samples': [0.4, 0.5],\n",
    "}\n",
    "\n",
    "rf_tvec_gs = GridSearchCV(rf_tvec_pipe,\n",
    "                     param_grid = rf_tvec_params)\n",
    "\n",
    "rf_tvec_gs.fit(X_train, y_train)"
   ]
  },
  {
   "cell_type": "code",
   "execution_count": 25,
   "id": "d2f56ddd-82cd-42aa-8d06-57832bf0d2e6",
   "metadata": {},
   "outputs": [
    {
     "name": "stdout",
     "output_type": "stream",
     "text": [
      "{'rf__max_samples': 0.4, 'rf__n_estimators': 200, 'tvec__max_df': 0.825, 'tvec__max_features': 7000, 'tvec__ngram_range': (1, 3), 'tvec__stop_words': 'english'}\n",
      "0.9822150363783346\n",
      "0.5573505654281099\n"
     ]
    }
   ],
   "source": [
    "print(rf_tvec_gs.best_params_)\n",
    "print(rf_tvec_gs.score(X_train, y_train))\n",
    "print(rf_tvec_gs.score(X_test, y_test))"
   ]
  },
  {
   "cell_type": "markdown",
   "id": "90ce89ae-3f90-4429-8b80-edb566109b7f",
   "metadata": {},
   "source": [
    "#### AdaBoost"
   ]
  },
  {
   "cell_type": "code",
   "execution_count": 26,
   "id": "3fa5fc5b-ac9c-4aa7-8a9a-e1ab37c47bad",
   "metadata": {},
   "outputs": [
    {
     "data": {
      "text/plain": [
       "GridSearchCV(estimator=Pipeline(steps=[('tvec', TfidfVectorizer()),\n",
       "                                       ('ada', AdaBoostClassifier())]),\n",
       "             param_grid={'ada__n_estimators': [100, 125],\n",
       "                         'tvec__max_df': [0.8, 0.825],\n",
       "                         'tvec__max_features': [7000, 7500],\n",
       "                         'tvec__ngram_range': [(1, 2), (1, 3)],\n",
       "                         'tvec__stop_words': ['english']})"
      ]
     },
     "execution_count": 26,
     "metadata": {},
     "output_type": "execute_result"
    }
   ],
   "source": [
    "ada_tvec_pipe = Pipeline([\n",
    "    ('tvec', TfidfVectorizer()),\n",
    "    ('ada', AdaBoostClassifier())\n",
    "])\n",
    "\n",
    "ada_tvec_params = {\n",
    "    'tvec__max_features': [7000, 7500],\n",
    "    'tvec__max_df': [0.8, 0.825],\n",
    "    'tvec__stop_words': ['english'],\n",
    "    'tvec__ngram_range': [(1,2), (1,3)],\n",
    "    'ada__n_estimators': [100, 125]\n",
    "}\n",
    "\n",
    "ada_tvec_gs = GridSearchCV(ada_tvec_pipe,\n",
    "                     param_grid = ada_tvec_params)\n",
    "\n",
    "ada_tvec_gs.fit(X_train, y_train)"
   ]
  },
  {
   "cell_type": "code",
   "execution_count": 27,
   "id": "fb688fdd-dfe2-49af-87ff-68338eed545d",
   "metadata": {},
   "outputs": [
    {
     "name": "stdout",
     "output_type": "stream",
     "text": [
      "{'ada__n_estimators': 125, 'tvec__max_df': 0.8, 'tvec__max_features': 7000, 'tvec__ngram_range': (1, 2), 'tvec__stop_words': 'english'}\n",
      "0.7178658043654002\n",
      "0.5460420032310178\n"
     ]
    }
   ],
   "source": [
    "print(ada_tvec_gs.best_params_)\n",
    "print(ada_tvec_gs.score(X_train, y_train))\n",
    "print(ada_tvec_gs.score(X_test, y_test))"
   ]
  },
  {
   "cell_type": "markdown",
   "id": "8ab73248-bae6-4800-aa60-9ac8fde97722",
   "metadata": {},
   "source": [
    "#### Gradient Boosting"
   ]
  },
  {
   "cell_type": "code",
   "execution_count": 28,
   "id": "1b22252a-c73a-41c6-b38c-345c6da6dcbc",
   "metadata": {},
   "outputs": [
    {
     "data": {
      "text/plain": [
       "GridSearchCV(estimator=Pipeline(steps=[('tvec', TfidfVectorizer()),\n",
       "                                       ('gb', GradientBoostingClassifier())]),\n",
       "             param_grid={'gb__max_depth': [5, 6],\n",
       "                         'gb__n_estimators': [100, 125],\n",
       "                         'gb__subsample': [0.3, 0.4],\n",
       "                         'tvec__max_df': [0.8, 0.85],\n",
       "                         'tvec__max_features': [7000, 7500],\n",
       "                         'tvec__ngram_range': [(1, 2), (1, 3)],\n",
       "                         'tvec__stop_words': ['english']})"
      ]
     },
     "execution_count": 28,
     "metadata": {},
     "output_type": "execute_result"
    }
   ],
   "source": [
    "gb_tvec_pipe = Pipeline([\n",
    "    ('tvec', TfidfVectorizer()),\n",
    "    ('gb', GradientBoostingClassifier())\n",
    "])\n",
    "\n",
    "gb_tvec_params = {\n",
    "    'tvec__max_features': [7000, 7500],\n",
    "    'tvec__max_df': [0.8, 0.85],\n",
    "    'tvec__stop_words': ['english'],\n",
    "    'tvec__ngram_range': [(1,2), (1,3)],\n",
    "    'gb__n_estimators': [100, 125],\n",
    "    'gb__subsample': [0.3, 0.4],\n",
    "    'gb__max_depth': [5, 6]\n",
    "}\n",
    "\n",
    "gb_tvec_gs = GridSearchCV(gb_tvec_pipe,\n",
    "                     param_grid = gb_tvec_params)\n",
    "\n",
    "gb_tvec_gs.fit(X_train, y_train)"
   ]
  },
  {
   "cell_type": "code",
   "execution_count": 29,
   "id": "8b6afabf-e192-4237-a145-ad449cc469ae",
   "metadata": {},
   "outputs": [
    {
     "name": "stdout",
     "output_type": "stream",
     "text": [
      "{'gb__max_depth': 6, 'gb__n_estimators': 100, 'gb__subsample': 0.4, 'tvec__max_df': 0.8, 'tvec__max_features': 7000, 'tvec__ngram_range': (1, 2), 'tvec__stop_words': 'english'}\n",
      "0.8485583400700619\n",
      "0.531502423263328\n"
     ]
    }
   ],
   "source": [
    "print(gb_tvec_gs.best_params_)\n",
    "print(gb_tvec_gs.score(X_train, y_train))\n",
    "print(gb_tvec_gs.score(X_test, y_test))"
   ]
  },
  {
   "cell_type": "markdown",
   "id": "eafdc87a-fbde-4aad-98f7-27b0ee8386c8",
   "metadata": {},
   "source": [
    "#### Multinomial Naive Bayes"
   ]
  },
  {
   "cell_type": "code",
   "execution_count": 30,
   "id": "e2e0169b-431c-41c2-89ff-88425bd58977",
   "metadata": {},
   "outputs": [
    {
     "data": {
      "text/plain": [
       "GridSearchCV(estimator=Pipeline(steps=[('tvec', TfidfVectorizer()),\n",
       "                                       ('nb', MultinomialNB())]),\n",
       "             param_grid={'tvec__max_df': [0.8, 0.825, 0.85],\n",
       "                         'tvec__max_features': [7250, 7500, 7750],\n",
       "                         'tvec__ngram_range': [(1, 2), (1, 3)],\n",
       "                         'tvec__stop_words': ['english']})"
      ]
     },
     "execution_count": 30,
     "metadata": {},
     "output_type": "execute_result"
    }
   ],
   "source": [
    "nb_tvec_pipe = Pipeline([\n",
    "    ('tvec', TfidfVectorizer()),\n",
    "    ('nb', MultinomialNB())\n",
    "])\n",
    "\n",
    "nb_tvec_params = {\n",
    "    'tvec__max_features': [7250, 7500, 7750],\n",
    "    'tvec__max_df': [0.8, 0.825, 0.85,],\n",
    "    'tvec__stop_words': ['english'],\n",
    "    'tvec__ngram_range': [(1,2), (1,3)],\n",
    "}\n",
    "\n",
    "nb_tvec_gs = GridSearchCV(nb_tvec_pipe,\n",
    "                     param_grid = nb_tvec_params)\n",
    "\n",
    "nb_tvec_gs.fit(X_train, y_train)"
   ]
  },
  {
   "cell_type": "code",
   "execution_count": 31,
   "id": "314c75e5-2fb3-4f57-ac34-388b533057a8",
   "metadata": {},
   "outputs": [
    {
     "name": "stdout",
     "output_type": "stream",
     "text": [
      "{'tvec__max_df': 0.8, 'tvec__max_features': 7750, 'tvec__ngram_range': (1, 2), 'tvec__stop_words': 'english'}\n",
      "0.8609539207760711\n",
      "0.574313408723748\n"
     ]
    }
   ],
   "source": [
    "print(nb_tvec_gs.best_params_)\n",
    "print(nb_tvec_gs.score(X_train, y_train))\n",
    "print(nb_tvec_gs.score(X_test, y_test))"
   ]
  },
  {
   "cell_type": "markdown",
   "id": "0c31fe9f-92ec-4209-aa91-b223f37d4722",
   "metadata": {},
   "source": [
    "## Voting Classifier"
   ]
  },
  {
   "cell_type": "code",
   "execution_count": null,
   "id": "54ad61fa-84ad-454a-acd3-273521e20987",
   "metadata": {},
   "outputs": [],
   "source": [
    "# names for pipes for VotingClassifier\n",
    "pipe_names = ['logc', 'bagc', 'rfc', 'adac', 'gbc', 'nbc',\n",
    "             'logt', 'bagt', 'rft', 'adat', 'gbt', 'nbt']\n",
    "\n",
    "# pipes for VotingClassifier\n",
    "pipes = [log_cvec_pipe, bag_cvec_pipe, rf_cvec_pipe, ada_cvec_pip, gb_cvec_pipe, nb_cvec_pipe,\n",
    "         log_tvec_pipe, bag_tvec_pipe, rf_tvec_pipe, ada_tvec_pip, gb_tvec_pipe, tb_cvec_pipe]\n",
    "\n",
    "# pregridsearched models with hyperparameters tuned\n",
    "tuned_models = [log__cvec_gs, bag_cvec_gs, rf_cvec_gs, ada_cvec_gs, gb_cvec_gs, nb_cvec_gs,\n",
    "                log_tvec_gs, bag_tvec_gs, rf_tvec_gs, ada_tvec_gs, gb_tvec_gs, nb_tvec_gs]"
   ]
  },
  {
   "cell_type": "code",
   "execution_count": null,
   "id": "e146db02-0233-4807-bb8d-dc24d7b9cf3b",
   "metadata": {},
   "outputs": [],
   "source": [
    "# aliases and pipes for voting classifers\n",
    "pipe_tuples = list(zip(pipe_names, pipes))\n",
    "voters = VotingClassifier(pipe_tuples)\n",
    "\n",
    "# voting model paramters\n",
    "voter_params = {}\n",
    "\n",
    "# collect hyperparameters from gridsearch fits for voting classifier\n",
    "for i, model in enumerate(tuned_models):\n",
    "    for param_name, param_val in model.best_params_.items():\n",
    "        # make sure hyperparameter names are of the form\n",
    "        # (pipe name)__(transformer or estimatorname)__(parameter name)\n",
    "        voter_param_name = pipe_names[i] + '__' + param_name\n",
    "        voter_params[voter_param_name] = [param_val]"
   ]
  },
  {
   "cell_type": "code",
   "execution_count": null,
   "id": "796bf28c-83af-4e6f-86dd-d358f1dd71f0",
   "metadata": {},
   "outputs": [],
   "source": [
    "# fit voting classifier over best found parameters\n",
    "vote_gs = GridSearchCV(voters, param_grid = voter_params)\n",
    "vote_gs.fit(X_train, y_train)"
   ]
  },
  {
   "cell_type": "code",
   "execution_count": null,
   "id": "a1e9d521-e601-468f-9a31-3ef7cfa8cfe9",
   "metadata": {},
   "outputs": [],
   "source": [
    "print(vote_gs.score(X_train, y_train))\n",
    "print(vote_gs.score(X_test, y_test))"
   ]
  },
  {
   "cell_type": "markdown",
   "id": "9468f23d-5560-4922-8868-9bb25f5c1718",
   "metadata": {},
   "source": [
    "## Stacking"
   ]
  },
  {
   "cell_type": "code",
   "execution_count": null,
   "id": "5fcee550-01ce-4457-93bb-f046da716e4c",
   "metadata": {},
   "outputs": [],
   "source": [
    "# pipe_tuples are already in the form for stacking\n",
    "# due to setup for VotingClassifier\n",
    "stack = StackingClassifier(estimators = pipe_tuples,\n",
    "                                 final_estimator = LogisticRegression())\n",
    "\n",
    "stack.fit(X_train, y_train)"
   ]
  },
  {
   "cell_type": "code",
   "execution_count": null,
   "id": "d5655db2-8fa4-4ac2-b5d3-6d016265e274",
   "metadata": {},
   "outputs": [],
   "source": [
    "print(stack.score(X_train, y_train))\n",
    "print(stack.score(X_test, y_test))"
   ]
  },
  {
   "cell_type": "markdown",
   "id": "7e3ce7f2-a286-4d68-ab71-597cf5d3641b",
   "metadata": {},
   "source": [
    "## Modeling On Non Text Data"
   ]
  },
  {
   "cell_type": "code",
   "execution_count": null,
   "id": "f53506dc-238e-47ed-9ef6-13d36b9219bc",
   "metadata": {},
   "outputs": [],
   "source": [
    "# nt for Non Text\n",
    "X_nt = all_posts[['created_utc', 'sent_pos', 'sent_neg', 'sent_compound', 'word_count']]\n",
    "y_nt = all_posts['subreddit']"
   ]
  },
  {
   "cell_type": "code",
   "execution_count": null,
   "id": "e6d24afc-ab7a-48ad-a950-d54642a48a91",
   "metadata": {},
   "outputs": [],
   "source": [
    "X_train_nt, X_test_nt, y_train_nt, y_test_nt = train_test_split(X, y, random_state = 42, stratify = y)"
   ]
  },
  {
   "cell_type": "code",
   "execution_count": null,
   "id": "117cece4-cbae-45f9-b6ae-8bb61df763c5",
   "metadata": {},
   "outputs": [],
   "source": [
    "lr = LogisticRegression()\n",
    "lr.fit(X_train_2, y_train_2)"
   ]
  }
 ],
 "metadata": {
  "kernelspec": {
   "display_name": "Python 3 (ipykernel)",
   "language": "python",
   "name": "python3"
  },
  "language_info": {
   "codemirror_mode": {
    "name": "ipython",
    "version": 3
   },
   "file_extension": ".py",
   "mimetype": "text/x-python",
   "name": "python",
   "nbconvert_exporter": "python",
   "pygments_lexer": "ipython3",
   "version": "3.9.12"
  }
 },
 "nbformat": 4,
 "nbformat_minor": 5
}
