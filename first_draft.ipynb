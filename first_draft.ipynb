{
 "cells": [
  {
   "cell_type": "code",
   "execution_count": 1,
   "id": "12ea0d0a-3cbe-4356-ab2a-3e71e00a2542",
   "metadata": {},
   "outputs": [],
   "source": [
    "# consider dealing with outliers\n",
    "# analyze sentiment and word count on both\n",
    "# most frequent words in (1,2)\n",
    "\n",
    "# things to clean\n",
    "# appostrophes? quotes?\n",
    "# Streets? NW E | st, ave, lane, ...\n",
    "# lower?\n",
    "\n",
    "# helpful for seeing if text cleaning was successful\n",
    "# print(sea.loc[sea['text'].str.contains('City Council Newsletters'), 'text'].iloc[0])\n",
    "# print()\n",
    "\n",
    "# look at results of drop stop stem text\n",
    "#"
   ]
  },
  {
   "cell_type": "markdown",
   "id": "4a172fcd-d4e7-4823-8cfe-82ae1eb965d7",
   "metadata": {
    "tags": []
   },
   "source": [
    "# Comparing r/seattle and r/seattlewa"
   ]
  },
  {
   "cell_type": "markdown",
   "id": "8306a50d-11e0-4e14-8c5c-9d7745a57d37",
   "metadata": {},
   "source": [
    "---\n",
    "\n",
    "# Problem Statement"
   ]
  },
  {
   "cell_type": "markdown",
   "id": "57600735-922c-463b-8324-7e1be89e81d0",
   "metadata": {},
   "source": [
    "---\n",
    "\n",
    "Describe Reddit\n",
    "\n",
    "Interestingly, there are at least two subreddits for the city of Seattle: r/Seattle and r/SeattleWA. Our goal is to create an NLP model that will attempt to distinguish posts between these two subreddits. In the process, we hope to gain insight about why these two separate subreddits exist for the same city.\n",
    "\n",
    "Classification model. This is a challenging problem, and there are certainly people who post in either subreddit without a considering why they are choosing one over the other. This is a level of randomness we do not know the size of and cannot eliminate in our examination. Since we should expect an accuracy of 50% without any help of a model, let us call success an accuracy above 70%."
   ]
  },
  {
   "cell_type": "markdown",
   "id": "8b23487a-03ea-4d35-821e-0db3b35512d4",
   "metadata": {},
   "source": [
    "---\n",
    "\n",
    "## Imports and Functions"
   ]
  },
  {
   "cell_type": "code",
   "execution_count": 1,
   "id": "e095bc62-e37c-42c2-a48a-b3d0d200b694",
   "metadata": {},
   "outputs": [],
   "source": [
    "import requests\n",
    "import time\n",
    "from ratelimit import limits\n",
    "\n",
    "import pandas as pd\n",
    "import numpy as np\n",
    "import matplotlib.pyplot as plt\n",
    "import seaborn as sns\n",
    "\n",
    "from sklearn.tree import DecisionTreeRegressor\n",
    "from sklearn.neighbors import KNeighborsClassifier\n",
    "from sklearn.naive_bayes import MultinomialNB\n",
    "from sklearn.ensemble import BaggingClassifier, RandomForestClassifier, GradientBoostingClassifier\n",
    "from sklearn.model_selection import train_test_split, GridSearchCV\n",
    "from sklearn.pipeline import Pipeline\n",
    "from sklearn.feature_extraction.text import CountVectorizer, TfidfVectorizer\n",
    "\n",
    "import re\n",
    "from nltk.sentiment.vader import SentimentIntensityAnalyzer\n",
    "from nltk.stem.porter import PorterStemmer\n",
    "from nltk.corpus import stopwords"
   ]
  },
  {
   "cell_type": "code",
   "execution_count": 56,
   "id": "6283908f-353e-4345-8ff5-151a39374b34",
   "metadata": {},
   "outputs": [],
   "source": [
    "def scrape_subreddit(subreddit):\n",
    "    '''\n",
    "    Given subreddit's name, request the most recent 2,250\n",
    "    posts from the given subreddit.\n",
    "    \n",
    "    Combines the data into a csv file.\n",
    "    '''\n",
    "    \n",
    "    url = 'https://api.pushshift.io/reddit/search/submission'\n",
    "    params = {'subreddit': subreddit,\n",
    "              'size': 250,\n",
    "              'is_self': True,\n",
    "              'selftext:not': '[removed]'}\n",
    "    \n",
    "    # assigns post data to variable 'posts'\n",
    "    data = requests.get(url, params).json()\n",
    "    posts = data['data']\n",
    "    \n",
    "    # adds the earliest post time to the 'before' API parameter\n",
    "    # next request will collect posts before this time\n",
    "    params['before'] = posts[-1]['created_utc']\n",
    "    \n",
    "    time.sleep(30)\n",
    "    \n",
    "    while len(posts) < 2_250:\n",
    "        # collects next batch of posts data as 'next_posts'\n",
    "        next_data = requests.get(url, params).json()\n",
    "        next_posts = next_data['data']\n",
    "        \n",
    "        # concatenate posts data to 'posts'\n",
    "        posts += next_posts\n",
    "        \n",
    "        # update API parameters to so the following 250 posts\n",
    "        # will be requested in the next iteration of the loop\n",
    "        earliest_post_time = next_posts[-1]['created_utc']\n",
    "        params['before'] = earliest_post_time\n",
    "        \n",
    "        # delay next request and not spam the API\n",
    "        time.sleep(30)\n",
    "        \n",
    "    posts_df = pd.DataFrame(posts)\n",
    "    posts_df.to_csv(f'datasets/{subreddit}.csv', index = False)\n",
    "    \n",
    "\n",
    "def text_cleaning(text):\n",
    "    '''\n",
    "    Cleans text by removing [bracketed statements], urls, emails,\n",
    "    some special characters (parentheses and stars), and some common html phrases.\n",
    "    \n",
    "    Returns the cleaned text\n",
    "    '''\n",
    "    \n",
    "    # remove new lines\n",
    "    text = re.sub('\\n', ' ', text)\n",
    "    \n",
    "    # remove parentheses and asterisks\n",
    "    text = re.sub(\"[\\(\\)\\*]\", '', text)\n",
    "    \n",
    "    # remove urls and do not include closing bracket ]\n",
    "    text = re.sub('http\\S+|www\\.\\S+', '', text)\n",
    "    \n",
    "    # remove bracketed strings\n",
    "    text = re.sub('\\[(\\w|\\s)*\\]', '', text)\n",
    "    \n",
    "    # remove any leftover brackets\n",
    "    text = re.sub('[\\[\\]]', '', text)\n",
    "    \n",
    "    # replace parentheses with spaces\n",
    "    text = re.sub(\"/\", ' ', text)\n",
    "    \n",
    "    # remove some common html phrases\n",
    "    text = re.sub('&(gt|lt);', '', text)\n",
    "    text = re.sub('&amp;', '', text)\n",
    "    text = re.sub('&?#x200b;?', '', text)\n",
    "    text = re.sub('&?#x200B;?', '', text)\n",
    "    \n",
    "    # remove email accounts\n",
    "    text = re.sub('\\S+@\\S+', '', text)\n",
    "    \n",
    "    # replace whitespace with single space\n",
    "    text = re.sub('\\s+', ' ', text)\n",
    "    \n",
    "    # drop stopwords and stem\n",
    "    #pstem = PorterStemmer()\n",
    "    #text = ' '.join([pstem.stem(word) for word in text.split() if word not in stopwords.words('english')])\n",
    "    \n",
    "    return text\n",
    "\n",
    "\n",
    "# although stop_drop_and_stem is a cooler name\n",
    "# it would be slightly less clear :(\n",
    "def drop_stop_and_stem(text):\n",
    "    '''\n",
    "    Takes a string, drops the stop words,\n",
    "    and stems the remaining words with PorterStemmer.\n",
    "    \n",
    "    Returns the stemmed, non-stopwords\n",
    "    '''\n",
    "    \n",
    "    pstem = PorterStemmer()\n",
    "    \n",
    "    #stem non-stopwords and put into a list\n",
    "    stemmed_list = [pstem.stem(word) for word in text.split()\n",
    "                    if word not in stopwords.words('english')]\n",
    "    \n",
    "    # return words separated by a space\n",
    "    return ' '.join(stemmed_list)\n",
    "\n",
    "\n",
    "def create_sentiment(df):\n",
    "    '''\n",
    "    Using Vader, collects sentiment from a DataFrame's \"text\" column.\n",
    "    Creates three new columns titled \"sent_pos\", \"sent_neg\", and \"sent_comp\" from the \n",
    "    positive, negative, and compound sentiment scores.\n",
    "    \n",
    "    Returns the DataFrame with additional columns \"sent_pos\", \"sent_neg\", and \"sent_comp\".\n",
    "    '''\n",
    "    \n",
    "    sent = SentimentIntensityAnalyzer()\n",
    "    \n",
    "    df['sent_pos'] = df['text'].apply(lambda x: sent.polarity_scores(x)['pos'])\n",
    "    df['sent_neg'] = df['text'].apply(lambda x: sent.polarity_scores(x)['neg'])\n",
    "    df['sent_compound'] = df['text'].apply(lambda x: sent.polarity_scores(x)['compound'])\n",
    "    \n",
    "\n",
    "def sample_three(series):\n",
    "    '''\n",
    "    Prints three random entries from a given series.\n",
    "    '''\n",
    "    for entry in series.sample(3):\n",
    "        print(entry)\n",
    "        print('----------\\n')"
   ]
  },
  {
   "cell_type": "code",
   "execution_count": 3,
   "id": "a597840a-240f-40fa-ab65-cd25ffee0f96",
   "metadata": {},
   "outputs": [],
   "source": [
    "# collect more than 2,250 posts from /r/Seattle and /r/SeattleWA subreddits\n",
    "# commented out because the data has already been collected\n",
    "\n",
    "#scrape_subreddit('Seattle')\n",
    "#scrape_subreddit('SeattleWA')"
   ]
  },
  {
   "cell_type": "markdown",
   "id": "2c6650a2-1002-4d85-865b-03793cac443a",
   "metadata": {},
   "source": [
    "---\n",
    "\n",
    "## Basic Cleaning"
   ]
  },
  {
   "cell_type": "code",
   "execution_count": 36,
   "id": "019e4993-2d4c-459a-bb45-01b34db5309f",
   "metadata": {},
   "outputs": [],
   "source": [
    "sea = pd.read_csv('datasets/Seattle.csv')\n",
    "sea_wa = pd.read_csv('datasets/SeattleWA.csv')"
   ]
  },
  {
   "cell_type": "markdown",
   "id": "f2ff3eec-adc5-41c7-b62c-d7d3d40a9b27",
   "metadata": {},
   "source": [
    "Through reading the two csv files I identified the columns below would be most relevant in search."
   ]
  },
  {
   "cell_type": "code",
   "execution_count": 37,
   "id": "00f91eaa-60f6-4025-821b-0a54022d3c11",
   "metadata": {},
   "outputs": [],
   "source": [
    "# columns of interest\n",
    "init_cols = ['subreddit', 'author', 'created_utc', 'title', 'selftext']\n",
    "\n",
    "sea = sea[init_cols].copy()\n",
    "sea_wa = sea_wa[init_cols].copy()"
   ]
  },
  {
   "cell_type": "markdown",
   "id": "85d5f9cc-dbe1-494c-88aa-3d00b76b5cab",
   "metadata": {},
   "source": [
    "Let us see if there are any blatant things to clean in the data."
   ]
  },
  {
   "cell_type": "code",
   "execution_count": 38,
   "id": "aa5be538-45e1-4845-a4b0-6802aad26d61",
   "metadata": {},
   "outputs": [
    {
     "data": {
      "text/plain": [
       "subreddit      0\n",
       "author         0\n",
       "created_utc    0\n",
       "title          0\n",
       "selftext       0\n",
       "dtype: int64"
      ]
     },
     "execution_count": 38,
     "metadata": {},
     "output_type": "execute_result"
    }
   ],
   "source": [
    "sea.isnull().sum()"
   ]
  },
  {
   "cell_type": "code",
   "execution_count": 39,
   "id": "fe3e443b-dc02-4e80-b292-3dcefd960783",
   "metadata": {},
   "outputs": [
    {
     "data": {
      "text/plain": [
       "subreddit      0\n",
       "author         0\n",
       "created_utc    0\n",
       "title          0\n",
       "selftext       3\n",
       "dtype: int64"
      ]
     },
     "execution_count": 39,
     "metadata": {},
     "output_type": "execute_result"
    }
   ],
   "source": [
    "sea_wa.isnull().sum()"
   ]
  },
  {
   "cell_type": "code",
   "execution_count": 40,
   "id": "b9a278c4-7b82-43d2-966c-5ea62d49234f",
   "metadata": {},
   "outputs": [
    {
     "name": "stdout",
     "output_type": "stream",
     "text": [
      "(2499, 5)\n",
      "(2499, 5)\n"
     ]
    }
   ],
   "source": [
    "print(sea.shape)\n",
    "print(sea_wa.shape)"
   ]
  },
  {
   "cell_type": "code",
   "execution_count": 41,
   "id": "2d71575e-111f-447a-8390-5fb2a130e932",
   "metadata": {},
   "outputs": [],
   "source": [
    "sea_wa.dropna(inplace = True)"
   ]
  },
  {
   "cell_type": "markdown",
   "id": "273deceb-a7e1-4343-be08-897f3264e416",
   "metadata": {},
   "source": [
    "There should not be any harm in removing three entries with missing selftext data out of nearly 2,500 posts."
   ]
  },
  {
   "cell_type": "markdown",
   "id": "769b7d5f-2951-46b1-8db1-58348fb41126",
   "metadata": {},
   "source": [
    "Since we will eventually want to look over text from both title and selftext, let us concatenate these columns."
   ]
  },
  {
   "cell_type": "code",
   "execution_count": 42,
   "id": "42a18621-efad-40ba-a8b5-7bb800fdb2f9",
   "metadata": {},
   "outputs": [],
   "source": [
    "# create a new column from joining title text and selftext\n",
    "sea['text'] = sea['title'] + ' ' + sea['selftext']\n",
    "sea_wa['text'] = sea_wa['title'] + ' ' + sea_wa['selftext']"
   ]
  },
  {
   "cell_type": "markdown",
   "id": "f1f5a02c-8075-4983-8ae8-0fd9686fc9cb",
   "metadata": {},
   "source": [
    "Next we clean need to clean the data. Below we our `text_cleaning` function to do basic cleaning like remove urls, select special characters, and bracketed text.\n",
    "\n",
    "After cleaning we will collect sentiment from our text through `vader`, then drop stopwords, and finally stem. We collect sentiment first because `vader` may have trouble performing sentiment analysis on stemmed text."
   ]
  },
  {
   "cell_type": "code",
   "execution_count": 43,
   "id": "24e00aaa-09b7-4595-a8f7-440a2bdd65a5",
   "metadata": {},
   "outputs": [],
   "source": [
    "# remove urls and emails, special characters ()/*, and [bracketed strings]\n",
    "sea['text'] = sea['text'].apply(text_cleaning)\n",
    "sea_wa['text'] = sea_wa['text'].apply(text_cleaning)"
   ]
  },
  {
   "cell_type": "code",
   "execution_count": 44,
   "id": "37f9ff68-5bd3-4504-95f7-7bf4c0f8f0d6",
   "metadata": {},
   "outputs": [],
   "source": [
    "# in place methods that generate positive and negative sentiment scores\n",
    "# for the given dataframes\n",
    "create_sentiment(sea)\n",
    "create_sentiment(sea_wa)"
   ]
  },
  {
   "cell_type": "code",
   "execution_count": 46,
   "id": "25bffcbb-6004-4ec4-a90a-53028e7f022b",
   "metadata": {},
   "outputs": [],
   "source": [
    "# count number of words by splitting text across white space and recording list length\n",
    "sea['word_count'] = sea['text'].str.split().str.len()\n",
    "sea_wa['word_count'] = sea_wa['text'].str.split().str.len()"
   ]
  },
  {
   "cell_type": "code",
   "execution_count": 57,
   "id": "12fc0240-0954-4633-908c-9355fc5d4ed5",
   "metadata": {},
   "outputs": [
    {
     "data": {
      "text/html": [
       "<div>\n",
       "<style scoped>\n",
       "    .dataframe tbody tr th:only-of-type {\n",
       "        vertical-align: middle;\n",
       "    }\n",
       "\n",
       "    .dataframe tbody tr th {\n",
       "        vertical-align: top;\n",
       "    }\n",
       "\n",
       "    .dataframe thead th {\n",
       "        text-align: right;\n",
       "    }\n",
       "</style>\n",
       "<table border=\"1\" class=\"dataframe\">\n",
       "  <thead>\n",
       "    <tr style=\"text-align: right;\">\n",
       "      <th></th>\n",
       "      <th>subreddit</th>\n",
       "      <th>author</th>\n",
       "      <th>created_utc</th>\n",
       "      <th>title</th>\n",
       "      <th>selftext</th>\n",
       "      <th>text</th>\n",
       "      <th>sent_pos</th>\n",
       "      <th>sent_neg</th>\n",
       "      <th>sent_compound</th>\n",
       "      <th>word_count</th>\n",
       "    </tr>\n",
       "  </thead>\n",
       "  <tbody>\n",
       "    <tr>\n",
       "      <th>0</th>\n",
       "      <td>SeattleWA</td>\n",
       "      <td>Sinkholediaries</td>\n",
       "      <td>1664416603</td>\n",
       "      <td>Archspire fans?</td>\n",
       "      <td>I'm a lady who is obsessed. I need other frien...</td>\n",
       "      <td>Archspire fans? I'm a lady who is obsessed. I ...</td>\n",
       "      <td>0.206</td>\n",
       "      <td>0.284</td>\n",
       "      <td>-0.4939</td>\n",
       "      <td>31</td>\n",
       "    </tr>\n",
       "    <tr>\n",
       "      <th>1</th>\n",
       "      <td>SeattleWA</td>\n",
       "      <td>prf_q</td>\n",
       "      <td>1664406559</td>\n",
       "      <td>Is it the overseeding season yet?</td>\n",
       "      <td>Those who are maintaining a lawn: Are you over...</td>\n",
       "      <td>Is it the overseeding season yet? Those who ar...</td>\n",
       "      <td>0.069</td>\n",
       "      <td>0.000</td>\n",
       "      <td>0.3485</td>\n",
       "      <td>35</td>\n",
       "    </tr>\n",
       "    <tr>\n",
       "      <th>2</th>\n",
       "      <td>SeattleWA</td>\n",
       "      <td>eatmoremeatnow</td>\n",
       "      <td>1664404071</td>\n",
       "      <td>Showbox Box Office?</td>\n",
       "      <td>Has anybody recently bought a ticket from the ...</td>\n",
       "      <td>Showbox Box Office? Has anybody recently bough...</td>\n",
       "      <td>0.034</td>\n",
       "      <td>0.058</td>\n",
       "      <td>-0.3270</td>\n",
       "      <td>55</td>\n",
       "    </tr>\n",
       "    <tr>\n",
       "      <th>3</th>\n",
       "      <td>SeattleWA</td>\n",
       "      <td>xixi90</td>\n",
       "      <td>1664398109</td>\n",
       "      <td>[Public Policy Poll] Patty Murray (D) leads Ti...</td>\n",
       "      <td>https://www.publicpolicypolling.com/wp-content...</td>\n",
       "      <td>Patty Murray D leads Tiffany Smiley R 52.0 - ...</td>\n",
       "      <td>0.114</td>\n",
       "      <td>0.000</td>\n",
       "      <td>0.4019</td>\n",
       "      <td>25</td>\n",
       "    </tr>\n",
       "    <tr>\n",
       "      <th>4</th>\n",
       "      <td>SeattleWA</td>\n",
       "      <td>irish_gnome</td>\n",
       "      <td>1664320032</td>\n",
       "      <td>Gas prices going back up?</td>\n",
       "      <td>Just watched the local gas station raise their...</td>\n",
       "      <td>Gas prices going back up? Just watched the loc...</td>\n",
       "      <td>0.000</td>\n",
       "      <td>0.084</td>\n",
       "      <td>-0.3736</td>\n",
       "      <td>29</td>\n",
       "    </tr>\n",
       "  </tbody>\n",
       "</table>\n",
       "</div>"
      ],
      "text/plain": [
       "   subreddit           author  created_utc  \\\n",
       "0  SeattleWA  Sinkholediaries   1664416603   \n",
       "1  SeattleWA            prf_q   1664406559   \n",
       "2  SeattleWA   eatmoremeatnow   1664404071   \n",
       "3  SeattleWA           xixi90   1664398109   \n",
       "4  SeattleWA      irish_gnome   1664320032   \n",
       "\n",
       "                                               title  \\\n",
       "0                                    Archspire fans?   \n",
       "1                  Is it the overseeding season yet?   \n",
       "2                                Showbox Box Office?   \n",
       "3  [Public Policy Poll] Patty Murray (D) leads Ti...   \n",
       "4                          Gas prices going back up?   \n",
       "\n",
       "                                            selftext  \\\n",
       "0  I'm a lady who is obsessed. I need other frien...   \n",
       "1  Those who are maintaining a lawn: Are you over...   \n",
       "2  Has anybody recently bought a ticket from the ...   \n",
       "3  https://www.publicpolicypolling.com/wp-content...   \n",
       "4  Just watched the local gas station raise their...   \n",
       "\n",
       "                                                text  sent_pos  sent_neg  \\\n",
       "0  Archspire fans? I'm a lady who is obsessed. I ...     0.206     0.284   \n",
       "1  Is it the overseeding season yet? Those who ar...     0.069     0.000   \n",
       "2  Showbox Box Office? Has anybody recently bough...     0.034     0.058   \n",
       "3   Patty Murray D leads Tiffany Smiley R 52.0 - ...     0.114     0.000   \n",
       "4  Gas prices going back up? Just watched the loc...     0.000     0.084   \n",
       "\n",
       "   sent_compound  word_count  \n",
       "0        -0.4939          31  \n",
       "1         0.3485          35  \n",
       "2        -0.3270          55  \n",
       "3         0.4019          25  \n",
       "4        -0.3736          29  "
      ]
     },
     "execution_count": 57,
     "metadata": {},
     "output_type": "execute_result"
    }
   ],
   "source": [
    "sea_wa.head()"
   ]
  },
  {
   "cell_type": "code",
   "execution_count": 65,
   "id": "df6c1f6c-c797-4e1f-a891-0c60b9e4cba0",
   "metadata": {},
   "outputs": [
    {
     "name": "stdout",
     "output_type": "stream",
     "text": [
      "(0, 10)\n",
      "(0, 10)\n"
     ]
    },
    {
     "data": {
      "text/html": [
       "<div>\n",
       "<style scoped>\n",
       "    .dataframe tbody tr th:only-of-type {\n",
       "        vertical-align: middle;\n",
       "    }\n",
       "\n",
       "    .dataframe tbody tr th {\n",
       "        vertical-align: top;\n",
       "    }\n",
       "\n",
       "    .dataframe thead th {\n",
       "        text-align: right;\n",
       "    }\n",
       "</style>\n",
       "<table border=\"1\" class=\"dataframe\">\n",
       "  <thead>\n",
       "    <tr style=\"text-align: right;\">\n",
       "      <th></th>\n",
       "      <th>subreddit</th>\n",
       "      <th>author</th>\n",
       "      <th>created_utc</th>\n",
       "      <th>title</th>\n",
       "      <th>selftext</th>\n",
       "      <th>text</th>\n",
       "      <th>sent_pos</th>\n",
       "      <th>sent_neg</th>\n",
       "      <th>sent_compound</th>\n",
       "      <th>word_count</th>\n",
       "    </tr>\n",
       "  </thead>\n",
       "  <tbody>\n",
       "  </tbody>\n",
       "</table>\n",
       "</div>"
      ],
      "text/plain": [
       "Empty DataFrame\n",
       "Columns: [subreddit, author, created_utc, title, selftext, text, sent_pos, sent_neg, sent_compound, word_count]\n",
       "Index: []"
      ]
     },
     "execution_count": 65,
     "metadata": {},
     "output_type": "execute_result"
    }
   ],
   "source": [
    "# clean up print statements and rerun fresh\n",
    "print(sea[sea['text'].duplicated()].sort_values(by = 'author').shape)\n",
    "print(sea_wa[sea_wa['text'].duplicated()].sort_values(by = 'author').shape)\n",
    "sea_wa[sea_wa['text'].duplicated()].sort_values(by = 'author').head(10)"
   ]
  },
  {
   "cell_type": "code",
   "execution_count": 64,
   "id": "e5caabb8-df36-414f-86a4-07691b0f33d5",
   "metadata": {},
   "outputs": [],
   "source": [
    "sea.drop_duplicates('text', inplace = True)\n",
    "sea_wa.drop_duplicates('text', inplace = True)"
   ]
  },
  {
   "cell_type": "code",
   "execution_count": 47,
   "id": "05233aea-867d-4604-a84f-65cdc26b13c2",
   "metadata": {},
   "outputs": [
    {
     "data": {
      "image/png": "[encoded data removed]",
      "text/plain": [
       "<Figure size 432x288 with 1 Axes>"
      ]
     },
     "metadata": {
      "needs_background": "light"
     },
     "output_type": "display_data"
    }
   ],
   "source": [
    "sns.boxplot(x = sea['word_count']);"
   ]
  },
  {
   "cell_type": "code",
   "execution_count": null,
   "id": "13727523-643f-4051-ae18-f7411d0eaaa2",
   "metadata": {},
   "outputs": [],
   "source": []
  },
  {
   "cell_type": "code",
   "execution_count": 48,
   "id": "ebfcf812-286e-47f6-ae56-c02f8cf0e04a",
   "metadata": {},
   "outputs": [
    {
     "data": {
      "image/png": "[encoded data removed]",
      "text/plain": [
       "<Figure size 432x288 with 1 Axes>"
      ]
     },
     "metadata": {
      "needs_background": "light"
     },
     "output_type": "display_data"
    }
   ],
   "source": [
    "plt.hist(sea_wa['word_count'], bins = 40);"
   ]
  },
  {
   "cell_type": "code",
   "execution_count": 49,
   "id": "fcf5c3b4-a295-448c-949e-54fed03635ff",
   "metadata": {},
   "outputs": [],
   "source": [
    "# before dropping, analyze length (build word count column)\n",
    "# drop outliers (look at distribution of word counts)\n",
    "# concatenate"
   ]
  },
  {
   "cell_type": "code",
   "execution_count": 52,
   "id": "8f5ef66b-cafe-44aa-80e2-918df164e98c",
   "metadata": {},
   "outputs": [
    {
     "data": {
      "text/plain": [
       "<AxesSubplot:ylabel='Frequency'>"
      ]
     },
     "execution_count": 52,
     "metadata": {},
     "output_type": "execute_result"
    },
    {
     "data": {
      "image/png": "[encoded data removed]",
      "text/plain": [
       "<Figure size 432x288 with 1 Axes>"
      ]
     },
     "metadata": {
      "needs_background": "light"
     },
     "output_type": "display_data"
    }
   ],
   "source": [
    "sea_wa['sent_compound'].plot.hist(bins = 40)"
   ]
  },
  {
   "cell_type": "code",
   "execution_count": 53,
   "id": "979e4d02-231c-446b-9367-7ac432f2b37b",
   "metadata": {},
   "outputs": [
    {
     "data": {
      "image/png": "[encoded data removed]",
      "text/plain": [
       "<Figure size 432x288 with 1 Axes>"
      ]
     },
     "metadata": {
      "needs_background": "light"
     },
     "output_type": "display_data"
    }
   ],
   "source": [
    "sea['sent_compound'].plot.hist(bins = 40);"
   ]
  },
  {
   "cell_type": "code",
   "execution_count": 54,
   "id": "22579901-a705-4d23-8b41-fd3450ac25a0",
   "metadata": {},
   "outputs": [
    {
     "data": {
      "text/plain": [
       "<AxesSubplot:ylabel='Frequency'>"
      ]
     },
     "execution_count": 54,
     "metadata": {},
     "output_type": "execute_result"
    },
    {
     "data": {
      "image/png": "[encoded data removed]",
      "text/plain": [
       "<Figure size 432x288 with 1 Axes>"
      ]
     },
     "metadata": {
      "needs_background": "light"
     },
     "output_type": "display_data"
    }
   ],
   "source": [
    "sea['sent_pos'].plot.hist(bins = 40)"
   ]
  },
  {
   "cell_type": "code",
   "execution_count": 33,
   "id": "6a765b55-f9ca-4343-ab47-ad4141e710c1",
   "metadata": {},
   "outputs": [
    {
     "data": {
      "image/png": "[encoded data removed]",
      "text/plain": [
       "<Figure size 432x288 with 1 Axes>"
      ]
     },
     "metadata": {
      "needs_background": "light"
     },
     "output_type": "display_data"
    }
   ],
   "source": [
    "sea['sent_neg'].plot.hist(bins = 40);"
   ]
  },
  {
   "cell_type": "code",
   "execution_count": 65,
   "id": "9d66ec73-0a28-4574-b505-ebd62314db73",
   "metadata": {},
   "outputs": [],
   "source": [
    "# drop stopwords and then stem the text data\n",
    "sea['text'] = sea['text'].apply(drop_stop_and_stem)\n",
    "sea_wa['text'] = sea_wa['text'].apply(drop_stop_and_stem)"
   ]
  },
  {
   "cell_type": "code",
   "execution_count": 67,
   "id": "4d37edf7-0ca3-432a-8394-42ba77abc5d7",
   "metadata": {},
   "outputs": [],
   "source": [
    "sea.drop(columns = ['title', 'selftext'], inplace = True)\n",
    "sea_wa.drop(columns = ['title', 'selftext'], inplace = True)"
   ]
  },
  {
   "cell_type": "code",
   "execution_count": null,
   "id": "88208df9-e1de-4697-9a53-dd8448cd2f40",
   "metadata": {},
   "outputs": [],
   "source": []
  },
  {
   "cell_type": "code",
   "execution_count": null,
   "id": "5787aed6-99a9-4529-aa83-0350d574e515",
   "metadata": {},
   "outputs": [],
   "source": []
  },
  {
   "cell_type": "code",
   "execution_count": null,
   "id": "5723e1ce-92bd-408a-86cc-524defd9307f",
   "metadata": {},
   "outputs": [],
   "source": []
  },
  {
   "cell_type": "code",
   "execution_count": null,
   "id": "7fd37c9e-b269-4955-a210-5d785d879285",
   "metadata": {},
   "outputs": [],
   "source": []
  },
  {
   "cell_type": "code",
   "execution_count": null,
   "id": "d904d721-5c70-416c-96a8-f7bb14495a89",
   "metadata": {},
   "outputs": [],
   "source": []
  },
  {
   "cell_type": "code",
   "execution_count": null,
   "id": "f6bf4ad6-7dfa-4712-894e-209f527fba6d",
   "metadata": {},
   "outputs": [],
   "source": []
  },
  {
   "cell_type": "code",
   "execution_count": null,
   "id": "185d193d-e56a-41cf-bfed-b53c6c9d273b",
   "metadata": {},
   "outputs": [],
   "source": [
    "pd.concat([sea, sea_wa])"
   ]
  },
  {
   "cell_type": "code",
   "execution_count": 31,
   "id": "93e9b40e-fc5d-437c-8548-470ed318023e",
   "metadata": {},
   "outputs": [
    {
     "data": {
      "text/plain": [
       "'special educ seattl surround areas? i’ll reloc seattl come month daughter down syndrom join special educ class somewher still look henc post ani recommend privat school specif school district better equip provid need has? i’d like time learn aid life skill build home, also inclus time children art, pe, danc classes. thank you.'"
      ]
     },
     "execution_count": 31,
     "metadata": {},
     "output_type": "execute_result"
    }
   ],
   "source": [
    "sea['text'].iloc[0]"
   ]
  },
  {
   "cell_type": "code",
   "execution_count": 15,
   "id": "a17b9777-03cc-4842-82e7-e98930a7bfa5",
   "metadata": {},
   "outputs": [
    {
     "data": {
      "text/plain": [
       "0       archspir fans? i'm ladi obsessed. i need frien...\n",
       "1       is overseed season yet? those maintain lawn: a...\n",
       "2       showbox box office? ha anybodi recent bought t...\n",
       "3       patti murray d lead tiffani smiley r 52.0 - 40...\n",
       "4       ga price go back up? just watch local ga stati...\n",
       "                              ...                        \n",
       "2494    place similar the ave udistrict? i move downto...\n",
       "2495    stolen bag seatac i carri bag stolen airport s...\n",
       "2496    bad bunni ticket hello all, my friend i tri se...\n",
       "2497    plan vacation! what reddit recommend? just tit...\n",
       "2498    day-hik suggest end march? hello, i'm visit se...\n",
       "Name: text, Length: 2496, dtype: object"
      ]
     },
     "execution_count": 15,
     "metadata": {},
     "output_type": "execute_result"
    }
   ],
   "source": [
    "sea_wa['text'].apply(lambda text: ' '.join(pstem.stem(word) for word in text.split() if word not in stopwords.words('english')))"
   ]
  },
  {
   "cell_type": "code",
   "execution_count": null,
   "id": "bc244991-ad80-4854-a692-4e89962feef7",
   "metadata": {},
   "outputs": [],
   "source": [
    "CountVectorizer()"
   ]
  },
  {
   "cell_type": "code",
   "execution_count": 111,
   "id": "85a7bb5f-30c6-422a-8c25-6b036d78bbd3",
   "metadata": {},
   "outputs": [
    {
     "name": "stdout",
     "output_type": "stream",
     "text": [
      "special educ in seattl or surround areas? i’ll be reloc to seattl in the come month and my daughter ha down syndrom and will be join a special educ class somewher still look and henc thi post ani recommend on privat school or ani specif school district better equip to provid the need she has? i’d like for her to have time to learn with an aid the life skill we build on at home, but to also have some inclus time with the other children dure art, pe, or danc classes. thank you.\n",
      "best lyche martini in seattle? i’m on the hunt for the best lyche martini in seattle. ani recommend for where to go? thanks!\n",
      "save a life! hi! i just learn in a cpr first aid class that there' a program for washington residents, where you can have free nalaxon mail to you. it easi to use if you think someon is have an overdose. and two import things: it will not hurt someon who is not have an overdose, becaus it onli bind to opioid receptors. so if the person is on someth else, or not in full overdose, they’ll be annoy but not harmed. and you are protect by the good samaritan law. pleas consid order one and keep it in your car, purse, or mayb with your dog poop bags? that \"sleep person.\" may realli need your help. 💕💕💕\n",
      "seattl for a singl day i have a weird layov that give me about 12 hour in seattl yay cheap flights. fli in around 10 am on friday and fli out that same night around 11 pm. what could i realist do in that time? if i could honestli just go to a nice restaur for lunch and then spend an even walk around someplac with a realli nice view, that would be perfect. prefer not too far from seattle-tacoma airport.\n",
      "mount rainier in late octob hi all! my boyfriend and i are plan a trip to the pnw with a stop at rainier for a coupl weekday in late oct, stay in packwood. look at the np website, seem like most visitor center will be close due to winter starting, so i'm tri to get togeth all the info advic i can befor we get there. ani trail that are recommend dure thi time of year? we'r prepar for both rain and snow. for context - we'r look for a thrill and the paradis to camp muir day hike ha piqu our interest. we are experienc hiker but have no experi in mountaineering. base on what i'v read the biggest threat is a surpris white out, outsid of know how to stay on a safe route. we would have good gp and an emerg kit. is thi someth that' doable? if not - ani less danger hike that could scratch the \"thrill\" itch? ani and all rec are welcome! thank you!\n"
     ]
    }
   ],
   "source": [
    "for i in range(5):\n",
    "    print(sea['text'].iloc[i])"
   ]
  },
  {
   "cell_type": "code",
   "execution_count": 84,
   "id": "8770899d-c674-4fbc-a850-d4ead86a645a",
   "metadata": {},
   "outputs": [
    {
     "data": {
      "text/plain": [
       "\"Vancouver Arby's manager was peeing in milkshake mix \""
      ]
     },
     "execution_count": 84,
     "metadata": {},
     "output_type": "execute_result"
    }
   ],
   "source": [
    "sea_wa.loc[sea_wa['text'].str.contains('manager was peeing in milkshake mix'), 'text'].iloc[0]"
   ]
  },
  {
   "cell_type": "code",
   "execution_count": 64,
   "id": "6b1fb269-6947-4aa5-be70-12316c11797f",
   "metadata": {},
   "outputs": [
    {
     "name": "stdout",
     "output_type": "stream",
     "text": [
      "Anyone want a new $250K year job? It actually sounds like an awesome gig for the right person. I worry the environment would be awfully woke I'd have to really count to 10 everytime I had to meet with Kevin but overall it seems like sort of a dream job.\n",
      "----------\n",
      "\n",
      "Softball Leagues Hi all! Just moved to Seattle and I love to play softball and looking for a little a bit of help finding a team league. Seeking a Friday night or Saturday morning league for the fall. Open to men’s, co-ed, slow pitch or fast pitch that is more competitive than not. Ideally double headers, but ok if not. Willing to drive up to 45 mins in any direction from south Seattle. I was able to find Underdog on Google, but didn’t look like there was any Friday or Saturday options, and no double headers. Was thinking there may be better options slightly outside the city. Also would love to know of any pickup games going on during the week. Please comment or shoot me a DM if you know of anything. Thanks in advance!\n",
      "----------\n",
      "\n",
      "Looking for a Blackout tattoo artist in Seattle Looking for a specialist that is experienced in blackout and can take on a project asap\n",
      "----------\n",
      "\n"
     ]
    }
   ],
   "source": [
    "for entry in sea_wa['text'].sample(3):\n",
    "    print(entry)\n",
    "    print('----------\\n')"
   ]
  },
  {
   "cell_type": "markdown",
   "id": "7e81d12f-587b-4349-9af3-15b4ca36a6e7",
   "metadata": {},
   "source": [
    "---\n",
    "\n",
    "As alluded to above, there are several rows with repeated title and selftext. We print out the repetitions below. Whether these posts are repeated intentionally (maybe as advertisement) or not, it is probably fair to remove these posts."
   ]
  },
  {
   "cell_type": "markdown",
   "id": "c75f3e4d-14f8-47ca-9320-9b060dc2dcb2",
   "metadata": {},
   "source": [
    "We should also be weary of posts containing minimal title text **and** minimal selftext. For example, posts with links and no substance will likely not be helpful in creating a strong performing model. **Let us remove posts with a `selftext` and `title` word counts are both less than or equal to five.**"
   ]
  },
  {
   "cell_type": "code",
   "execution_count": 146,
   "id": "bc238100-5bb7-4889-b0aa-195143065168",
   "metadata": {},
   "outputs": [
    {
     "data": {
      "image/png": "[encoded data removed]",
      "text/plain": [
       "<Figure size 1008x576 with 4 Axes>"
      ]
     },
     "metadata": {
      "needs_background": "light"
     },
     "output_type": "display_data"
    }
   ],
   "source": [
    "plt.figure(figsize = (14,8))\n",
    "\n",
    "# iterator for subp\n",
    "i = 1\n",
    "for subreddit in [sea, sea_wa]:\n",
    "    for col in ['selftext', 'title']:\n",
    "        plt.subplot(2,2,i)\n",
    "        plt.title(f\"{subreddit['subreddit'].iloc[0]} {col} Word Count\", size = 20)\n",
    "        plt.hist(subreddit[col].str.split().str.len(), bins = 20);\n",
    "        \n",
    "        i += 1"
   ]
  },
  {
   "cell_type": "code",
   "execution_count": 93,
   "id": "d331b671-db5f-42fc-a78a-6cfb031b28de",
   "metadata": {},
   "outputs": [
    {
     "name": "stdout",
     "output_type": "stream",
     "text": [
      "11 posts removed from r/Seattle\n",
      "29 posts removed from r/SeattleWA\n"
     ]
    }
   ],
   "source": [
    "# boolean list of entries with fewer than 5 'words' in Seattle\n",
    "sea_selftext_lt5 = (sea['selftext'].str.split().str.len() <= 5)\n",
    "sea_title_lt5 = (sea['title'].str.split().str.len() <= 5)\n",
    "\n",
    "# boolean list of entries with fewer than 5 'words' in SeattleWA\n",
    "sea_wa_selftext_lt5 = (sea_wa['selftext'].str.split().str.len() <= 5)\n",
    "sea_wa_title_lt5 = (sea_wa['title'].str.split().str.len() <= 5)\n",
    "\n",
    "# print number of posts removed from filtering\n",
    "print(f'{len(sea[sea_selftext_lt5 & sea_title_lt5])} posts removed from r/Seattle')\n",
    "print(f'{len(sea_wa[sea_wa_selftext_lt5 & sea_wa_title_lt5])} posts removed from r/SeattleWA')\n",
    "\n",
    "#filter out posts with fewer than 5 words in selftext and title\n",
    "sea = sea[(~sea_selftext_lt5) & (~sea_title_lt5)].copy()\n",
    "sea_wa = sea_wa[(~sea_wa_selftext_lt5) & (~sea_wa_title_lt5)].copy()"
   ]
  },
  {
   "cell_type": "markdown",
   "id": "d8f39ac0-36e6-43bf-964c-08ca9350a62f",
   "metadata": {},
   "source": [
    "This did not remove many posts, but was performed out of an abundance of caution.\n",
    "\n",
    "We could also explore posts with large word counts, but there is little reason to be suspicious of such posts. Although more rare, the occassional lengthy post is fairly expected."
   ]
  },
  {
   "cell_type": "code",
   "execution_count": 168,
   "id": "91dc95b4-1a3c-4c5a-8c55-05d802d782d6",
   "metadata": {},
   "outputs": [
    {
     "data": {
      "text/plain": [
       "(5,)"
      ]
     },
     "execution_count": 168,
     "metadata": {},
     "output_type": "execute_result"
    }
   ],
   "source": [
    "sea.loc[sea['selftext'].str.split().str.len() > 1500, 'selftext'].shape"
   ]
  },
  {
   "cell_type": "code",
   "execution_count": 169,
   "id": "725561a8-4aba-4a27-bd72-266b6c3bc7e6",
   "metadata": {},
   "outputs": [
    {
     "name": "stdout",
     "output_type": "stream",
     "text": [
      "0: ---------\n",
      "-------------\n",
      "-------------\n",
      "\n",
      "Reddit:\n",
      "\n",
      "Hey everyone! I just wanted to introduce myself again. My name is George, and I am a rising junior at Stanford interested in civic engagement and politics. I started working on a project with other students that’s been totally awesome and cool. Basically, we’ve made a newsletter that summarizes the info from Seattle City Council meetings in an accessible and easy way. I have put an example from this week below, though the real thing has a bit more formatting that doesn't translate into Reddit. This project is very new, so we would really appreciate any feedback you may have! I would love to see comments and show me what I need to do to make this newsletter the best it can be. I totally recommend joining! Who doesn’t want to know what goes on behind the scenes of their own beautiful city? If you are interested in receiving these weekly in your email inbox, you can click this link: [https://forms.gle/Yxo5fevVhVWmwcB78](https://forms.gle/Yxo5fevVhVWmwcB78)\n",
      "\n",
      "Example Newsletter:\n",
      "\n",
      "**Seattle City Council Meeting Summaries - Week of September 12, 2022**\n",
      "\n",
      "Council Briefing 9/12 (Meeting Length - 1:32:07)\n",
      "\n",
      "&amp;#x200B;\n",
      "\n",
      "* All councilmembers were present\n",
      "\n",
      "Council Meeting 9/13 (Meeting Length - 1:19:32)\n",
      "\n",
      "&amp;#x200B;\n",
      "\n",
      "* All councilmembers were present\n",
      "\n",
      "**Presentations**\n",
      "\n",
      "&amp;#x200B;\n",
      "\n",
      "* Amy Gore, a member of the City Council Central Staff, shared a [presentation](http://seattle.legistar.com/View.ashx?M=F&amp;ID=11216352&amp;GUID=E9AA0F7F-CA18-46FA-994E-6E0F1C7ADF98) during the briefing regarding [Seattle Initiative 135](https://www.houseourneighbors.org/initiative-overview-and-text)\n",
      "\n",
      "&amp;#x200B;\n",
      "\n",
      "* Seattle Initiative 135 establishes the Seattle Social Housing Developer, a new public development authority for social housing to develop, own, and maintain publicly financed mixed-income social housing developments\n",
      "\n",
      "&amp;#x200B;\n",
      "\n",
      "* The initiative will create a 13-member PDA board appointed by the Seattle Renters Commission (7), MLK Jr County Labor Council (1), El Centro de la Raza (1), City Council (2), Mayor’s Office (1) and Green New Deal Oversight Board (1)\n",
      "\n",
      "&amp;#x200B;\n",
      "\n",
      "* Half of the board will eventually be residents of PDA housing \n",
      "* The city will have to fund the salary and benefits of the CEO and CFO for 18 months along with other support, estimated to cost at least $750,000 \n",
      "* Seattle will also be required to conduct a feasibility study whenever considering the sale or gift of public land\n",
      "\n",
      "**Councilmembers Updates**\n",
      "\n",
      "&amp;#x200B;\n",
      "\n",
      "* **Councilmember** [**Lisa Herbold**](https://www.seattle.gov/council/herbold) **(District 1)**\n",
      "\n",
      "&amp;#x200B;\n",
      "\n",
      "* Brought attention to the upcoming Q&amp;A on September 15 with the three candidates for the Permanent Chief of Police in Seattle\n",
      "* Attended the King County Homelessness Meeting, the Board of Health Meeting to receive a Monkeypox update, and a meeting with the Metropolitan Democratic Club of Seattle to discuss legislation on abortion access\n",
      "* **Councilmember** [**Tammy Morales**](https://www.seattle.gov/council/morales) **(District 2)**\n",
      "\n",
      "&amp;#x200B;\n",
      "\n",
      "* Approved [Council Bill 120398](https://seattle.legistar.com/LegislationDetail.aspx?ID=5751083&amp;GUID=211CE8F5-17A3-4763-BF4E-6AB95A53409C&amp;Options=ID%7CText%7C&amp;Search=cb+120398) in Neighborhood, Education, Civil Rights, and Culture Committee, which amends five preschool policies   \n",
      "* Attended several meetings including with the Office of Civil Rights, Board of Health Committee, and Beacon Hill Council Community Meeting \n",
      "* Had the opportunity to meet with several community members and discuss safety along the Rainier Valley, the Levy Oversight Committee’s efforts to increase funding for education programs, labor rights for individuals contracted through third-party organizations, and concerns around the Soto Shelter Expansion\n",
      "* Announced the King County awarded $11 million to 45 community organizations\n",
      "* **Councilmember** [**Kshama Swant**](https://www.seattle.gov/council/sawant) **(District 3)**\n",
      "\n",
      "&amp;#x200B;\n",
      "\n",
      "* Brought awareness to current issues within the education realm, urging contract negotiators to meet the needs of educators, students, and families\n",
      "* Argued that the Democratic Party has not shown enough moral and financial support for educators\n",
      "* **Councilmember** [**Alex Pedersen**](https://www.seattle.gov/council/pedersen) **(District 4)**\n",
      "\n",
      "&amp;#x200B;\n",
      "\n",
      "* Seven items from the Department of Transportation and Public Utilities on agenda\n",
      "\n",
      "&amp;#x200B;\n",
      "\n",
      "* Six council bills to cover several slivers of city property and its repurposement\n",
      "* The last bill was mentioned to be the most popular, regarding the unanimous nomination of Greg Spotts as the Director of Seattle Department of Transportation\n",
      "* Thanked everyone who helped phase out gasoline-powered leaf blowers and also thanked the individuals who helped reopen the West Seattle High Bridge\n",
      "* **Council President** [**Debora Juarez**](https://www.seattle.gov/council/juarez) **(District 5)**\n",
      "\n",
      "&amp;#x200B;\n",
      "\n",
      "* Proclaiming September 2022 as Childhood Cancer Awareness Month\n",
      "\n",
      "&amp;#x200B;\n",
      "\n",
      "* 9 signatures affixed\n",
      "* No items from Governance, Native Communities and Tribal Governments Committee\n",
      "\n",
      "&amp;#x200B;\n",
      "\n",
      "* Will meet September 15 to consider appointments for the City’s Human Resources Director and the Joint Apprenticeship Training Council\n",
      "* Announced that the Aurora Commons has been able to fund $150 million for property acquisition in two years to provide services to women experiencing sexual exploitation citywide\n",
      "* **Councilmember** [**Dan Strauss**](https://www.seattle.gov/council/strauss) **(District 6)**\n",
      "\n",
      "&amp;#x200B;\n",
      "\n",
      "* Looking at various issues including homelessness, public safety, the education strike, and plans for Ballard Avenue\n",
      "* Welcomed Naomi Ruse as the new Land Use Committee clerk\n",
      "* **Councilmember** [**Andrew Lewis**](https://www.seattle.gov/council/lewis) **(District 7)**\n",
      "\n",
      "&amp;#x200B;\n",
      "\n",
      "* Sponsored [Resolution 32066](https://seattle.legistar.com/LegislationDetail.aspx?ID=5811976&amp;GUID=950BB25A-B297-405C-9C81-C45A158E34BA&amp;Options=ID%7CText%7C&amp;Search=res+32066), which celebrates the 50th anniversary of Discovery Park\n",
      "* Held several meetings amongst colleague and community members about Metropolitan Park District priorities as votes will be held on September 23 regarding the district\n",
      "* Announced that the Clean City Initiative disposed of 2,350 needles and 100,000 pounds of garbages\n",
      "* Congratulated the Seattle Public Library system for providing $4.9 million annual in services provided to the community and stakeholders  \n",
      "* **Councilmember** [**Teresa Mosqueda**](https://www.seattle.gov/council/mosqueda) **(Citywide)**\n",
      "\n",
      "&amp;#x200B;\n",
      "\n",
      "* The mayor will released his proposed budget on September 27\n",
      "* Moved around dates for budget hearing; a balancing package hearing will be held November 7 and a public hearing for the Mayor’s budget will be held November 8\n",
      "* Congratulated several different labor groups throughout the city including the Seattle Education Association, Starbucks United, and Teamsters Local 174 for fighting for their labor rights\n",
      "\n",
      "&amp;#x200B;\n",
      "\n",
      "* Specifically applauded the Teamsters Local 174 for reaching successes including better medical coverage, work rules, and pension increases \n",
      "* **Councilmember** [**Sara Nelson**](https://www.seattle.gov/council/meet-the-council/sara-nelson) **(Citywide)**\n",
      "\n",
      "&amp;#x200B;\n",
      "\n",
      "* The Economic Development, Technology and City Lights Committee will meet on September 14 with significant issues to address\n",
      "\n",
      "&amp;#x200B;\n",
      "\n",
      "* [Council Bill 120411](https://seattle.legistar.com/LegislationDetail.aspx?ID=5811928&amp;GUID=234A1074-6BCB-45A1-9087-3798A5D516F1&amp;Options=ID%7CText%7C&amp;Search=cb+120411): an ordinance relating to the City Light Department; amending rates, terms, and conditions for the use and sale of electricity supplied by the City Light Department for 2022, 2023, and 2024\n",
      "* [Council Bill 120412](https://seattle.legistar.com/LegislationDetail.aspx?ID=5811935&amp;GUID=3647E4E8-C219-4CCD-AAE3-5F6C202DC311&amp;Options=ID%7CText%7C&amp;Search=cb+120412): an ordinance relating to the establishment of the Seattle Film Commission\n",
      "* Two appointments to the Seattle Music Commission: Appointments [02369 ](https://seattle.legistar.com/LegislationDetail.aspx?ID=5821745&amp;GUID=A18290CE-0C63-41B7-99D0-8B31BB885E00&amp;Options=ID%7CText%7C&amp;Search=02369)and [02370](https://seattle.legistar.com/LegislationDetail.aspx?ID=5821746&amp;GUID=D1674975-42BA-4ADD-A44C-85910248E10E&amp;Options=ID%7CText%7C&amp;Search=02370)\n",
      "* Three appointments to the City Light Review Panel: Appointments [02371](https://seattle.legistar.com/LegislationDetail.aspx?ID=5821742&amp;GUID=D5CB01C2-9E89-4060-9836-4042AC180E58&amp;Options=ID%7CText%7C&amp;Search=02371), [02372](https://seattle.legistar.com/LegislationDetail.aspx?ID=5821743&amp;GUID=D4CD225C-C3B0-4D1C-B220-19554A2A4E17&amp;Options=ID%7CText%7C&amp;Search=02372), and [02373](https://seattle.legistar.com/LegislationDetail.aspx?ID=5821744&amp;GUID=28F09EB8-0D2C-4F17-AE01-8AEC35350412&amp;Options=ID%7CText%7C&amp;Search=02373)\n",
      "* Held several meetings with Greg Spotts regarding maintenance resource planning, Gino Betts, Downtown Seattle Association, Cascade Bike Club, Seattle Police Department, Alona Lori, and Senator Maria Cantwell\n",
      "\n",
      "**Legislation Updates**\n",
      "\n",
      "Public Housing: \n",
      "\n",
      "&amp;#x200B;\n",
      "\n",
      "* [Clerk File 314504](https://seattle.legistar.com/LegislationDetail.aspx?ID=5822092&amp;GUID=2021B005-DAC4-4E2D-BA4F-05B7663105A4&amp;Options=ID%7CText%7C&amp;Search=cf+314504): Report of the City Clerk on the Certificate of Sufficiency for Initiative No. 135, concerning the Seattle Social Housing Public Development Authority (PDA)\n",
      "\n",
      "&amp;#x200B;\n",
      "\n",
      "* See presentation above from Amy Gore regarding what Seattle Initiative 135 concerns\n",
      "* 9 Yes\n",
      "* [Council Bill 120414](https://seattle.legistar.com/LegislationDetail.aspx?ID=5812058&amp;GUID=04EC845A-9D4A-4898-BF3B-9920EFC0FDA0&amp;Options=ID%7CText%7C&amp;Search=cb+120414): An ordinance relating to the redevelopment of Yesler Terrace by the Housing Authority of The City of Seattle; authorizing the Mayor to execute an amendment to the Yesler Terrace Cooperative Agreement with the Housing Authority of the City of Seattle that was authorized by Ordinance 123961; authorizing the Director of Housing to implement the Cooperative Agreement as amended; and ratifying and confirming certain prior acts  \n",
      "\n",
      "&amp;#x200B;\n",
      "\n",
      "* Sponsored by Councilmember [Teresa Mosqueda](https://www.seattle.gov/council/mosqueda)\n",
      "* 9 Yes\n",
      "\n",
      "Seattle Office of Inspector General:\n",
      "\n",
      "&amp;#x200B;\n",
      "\n",
      "* [Clerk File 314501](https://seattle.legistar.com/LegislationDetail.aspx?ID=5811933&amp;GUID=0E94B577-1C64-44F9-B16E-DC5FE410CD53&amp;Options=ID%7CText%7C&amp;Search=cf+314501): Office of Inspector General request for an extension for the filing of September 2022 Annual Surveillance Technologies review reports\n",
      "\n",
      "&amp;#x200B;\n",
      "\n",
      "* Sponsored by Councilmember [Sara Nelson](https://www.seattle.gov/council/meet-the-council/sara-nelson)\n",
      "* Nelson conveyed that the Seattle Office of Inspector General does not have the staffing and capacity to conduct sufficient surveillance reviews by the end of September and the organization requested to postpone the reviews until March 31, 2023\n",
      "* 9 Yes\n",
      "\n",
      "Celebrating Seattle Parks: \n",
      "\n",
      "&amp;#x200B;\n",
      "\n",
      "* [Resolution 32066](https://seattle.legistar.com/LegislationDetail.aspx?ID=5811976&amp;GUID=950BB25A-B297-405C-9C81-C45A158E34BA&amp;Options=ID%7CText%7C&amp;Search=res+32066): A resolution celebrating the fiftieth anniversary of the adoption of the Discovery Park Master Plan \n",
      "\n",
      "&amp;#x200B;\n",
      "\n",
      "* Sponsored by Councilmember [Andrew Lewis](https://www.seattle.gov/council/lewis)\n",
      "* 9 Yes\n",
      "\n",
      "Environmental: \n",
      "\n",
      "&amp;#x200B;\n",
      "\n",
      "* [Council Bill 120413](https://seattle.legistar.com/LegislationDetail.aspx?ID=5811934&amp;GUID=40105FC8-744B-493B-9657-B9A6C84D26E7&amp;Options=ID%7CText%7C&amp;Search=cb+120413): An ordinance amending [Ordinance 126490](https://seattle.legistar.com/LegislationDetail.aspx?ID=5201152&amp;GUID=3D7D3065-CAFC-4203-B382-1385275D8D88&amp;Options=ID%7CText%7C&amp;Search=126490), which adopted the 2022 Budget; changing appropriations to various departments and budget control levels, and from various funds in the Budget; in order to advance the Seattle Green New Deal by funding actions to reduce greenhouse gas emissions, funding climate-resilient community spaces, and investing in net-zero affordable housing; and ratifying and confirming certain prior acts\n",
      "\n",
      "&amp;#x200B;\n",
      "\n",
      "* Sponsored by Councilmembers [Teresa Mosqueda](https://www.seattle.gov/council/mosqueda)\n",
      "* 9 Yes \n",
      "\n",
      "Budget:\n",
      "\n",
      "&amp;#x200B;\n",
      "\n",
      "* [Council Bill 120416](https://seattle.legistar.com/LegislationDetail.aspx?ID=5837418&amp;GUID=B99BD51D-DE35-4017-915E-50DC1DD9BD41&amp;Options=ID%7CText%7C&amp;Search=cb+120416): An ordinance appropriating money to pay certain claims for the week of August 29, 2022 through September 2, 2022 and ordering the payment thereof; and ratifying and confirming certain prior acts  \n",
      "\n",
      "&amp;#x200B;\n",
      "\n",
      "* Sponsored by Councilmember [Teresa Mosqueda](https://www.seattle.gov/council/mosqueda) \n",
      "* 9 Yes\n",
      "\n",
      "Appointment:\n",
      "\n",
      "&amp;#x200B;\n",
      "\n",
      "* [Appointment 02333](http://seattle.legistar.com/LegislationDetail.aspx?ID=5751074&amp;GUID=3416CA5F-2CAA-4CBD-8B43-3281274A0E8A): Appointment of Greg Spotts, Director of Seattle Department of Transportation, for a term to August 1, 2026  \n",
      "\n",
      "&amp;#x200B;\n",
      "\n",
      "* Sponsored by Councilmember [Alex Pedersen](https://www.seattle.gov/council/pedersen)\n",
      "* 9 Yes\n",
      "\n",
      "Land Rights:\n",
      "\n",
      "&amp;#x200B;\n",
      "\n",
      "* Ordinances accepting various deeds for street or alley purposes; laying off, opening, widening, extending, and establishing portions of rights-of way; placing the real priority conveyed by said deeds under the jurisdiction of the Seattle Department of Transportation; and ratifying and confirming certain prior acts\n",
      "\n",
      "&amp;#x200B;\n",
      "\n",
      "* [Council Bill 120380](https://seattle.legistar.com/LegislationDetail.aspx?ID=5738449&amp;GUID=56ED718C-792D-46AF-AB17-8B58E0A69FE5&amp;Options=ID%7CText%7C&amp;Search=cb+120380)\n",
      "\n",
      "&amp;#x200B;\n",
      "\n",
      "* Sponsored by Councilmembers [Alex Pedersen](https://www.seattle.gov/council/pedersen) \n",
      "* 9 Yes\n",
      "* [Council Bill 120382](https://seattle.legistar.com/LegislationDetail.aspx?ID=5738451&amp;GUID=3FA1DE09-2B1E-4897-91E9-87C45219678D&amp;Options=ID%7CText%7C&amp;Search=cb+120382)\n",
      "\n",
      "&amp;#x200B;\n",
      "\n",
      "* Sponsored by Councilmembers [Alex Pedersen](https://www.seattle.gov/council/pedersen) \n",
      "* 9 Yes\n",
      "* [Council Bill 120383](https://seattle.legistar.com/LegislationDetail.aspx?ID=5738452&amp;GUID=73738D7E-8778-45BD-BE7E-D5EF57DCC78F&amp;Options=ID%7CText%7C&amp;Search=cb+120383)\n",
      "\n",
      "&amp;#x200B;\n",
      "\n",
      "* Sponsored by Councilmembers [Alex Pedersen](https://www.seattle.gov/council/pedersen) \n",
      "* 9 Yes\n",
      "* [Council Bill 120403](https://seattle.legistar.com/LegislationDetail.aspx?ID=5760021&amp;GUID=8CD5F29B-1526-4163-9B9D-0EE975F68DD0&amp;Options=ID%7CText%7C&amp;Search=cb+120403)\n",
      "\n",
      "&amp;#x200B;\n",
      "\n",
      "* Sponsored by Councilmembers [Alex Pedersen](https://www.seattle.gov/council/pedersen) \n",
      "* 9 Yes\n",
      "* [Council Bill 120381](https://seattle.legistar.com/LegislationDetail.aspx?ID=5738450&amp;GUID=68893420-2F2F-4438-BBB7-A150C6CB508A&amp;Options=ID%7CText%7C&amp;Search=cb+120381): An ordinance accepting 21 limited purpose easements for public sidewalk and alley turn- around purposes; placing the real property conveyed by such easements under the jurisdiction of the Seattle Department of Transportation; and ratifying and confirming certain prior acts\n",
      "\n",
      "&amp;#x200B;\n",
      "\n",
      "* Sponsored by Councilmember [Alex Pedersen](https://www.seattle.gov/council/pedersen) \n",
      "* 9 Yes\n",
      "* [Council Bill 120404](https://seattle.legistar.com/LegislationDetail.aspx?ID=5760022&amp;GUID=31621F52-D1E6-48B3-ACCA-C1200423C434&amp;Options=ID%7CText%7C&amp;Search=cb+120404): A resolution accepting twenty-five limited purpose easements for public sidewalk and alley turn-around purposes; placing the real property conveyed by such easements under the jurisdiction of the Seattle Department of Transportation; and ratifying and confirming certain prior acts\n",
      "\n",
      "&amp;#x200B;\n",
      "\n",
      "* Sponsored by Councilmember [Alex Pedersen](https://www.seattle.gov/council/pedersen) \n",
      "* 9 Yes\n",
      "\n",
      "**Public Comments**\n",
      "\n",
      "&amp;#x200B;\n",
      "\n",
      "* There were 6 total public comments:\n",
      "\n",
      "&amp;#x200B;\n",
      "\n",
      "* Half of the comments concerned public housing, conveying that Seattle needed to prioritize minorities and homeless population\n",
      "\n",
      "&amp;#x200B;\n",
      "\n",
      "* These comments also emphasized that the City Council had not done enough to create more affordable housing for low-income families\n",
      "* One commenter argued that Seattle needed to stop exempting drug pushers and sex crimes from jail as this ruined integrity\n",
      "* The last two comments fought to defend a concerned citizen’s lost cannabis store\n",
      "\n",
      "**Resource:**\n",
      "\n",
      "&amp;#x200B;\n",
      "\n",
      "* If you have any questions or feedback, please email us at [info@purplely.org](mailto:info@purplely.org) and we will get the answers to your questions from the city council. \n",
      "\n",
      "1: ---------\n",
      "-------------\n",
      "-------------\n",
      "\n",
      "**The Myth of the Lynchpin Officer Died in Uvalde**\n",
      "\n",
      "With those dear children, the myth of the lynchpin officer died in Uvalde. By the doctrine of The Thin Blue Line, police require broad discretion on use-of-force decisions. This is because officers hold the line between order and chaos. Improperly restrained and police may fail – in which case something terrible could happen.   \n",
      "\n",
      "lllllllllllllllllllllllllllllllllllllllllllllllllllllllllllllllllllllllllllllllllllllllllllllllllllllllllllllllllllllllllllllllllllllllllllllllllllllllllllllllllllllllllll\n",
      "\n",
      "A grand jury has been assembled in Denver after police shot six innocent bystanders in a failed attempt to kill a man who’d surrendered.   \n",
      "\n",
      "lllllllllllllllllllllllllllllllllllllllllllllllllllllllllllllllllllllllllllllllllllllllllllllllllllllllllllllllllllllllllllllllllllllllllllllllllllllllllllllllllllllllllll\n",
      "\n",
      "The Thin Blue Line has come to represent a distinct ideology widely adopted by police throughout the US. This is clearly an extremist ideology, though its simple propositions guide the organization, training and professional conduct of law enforcement organizations nationwide. This is a problem that requires immediate attention and forceful action. Because police officers employed to protect and serve, it turns out, conduct themselves quite differently than officers employed as lynchpins against \"chaos.\" The defund slogan got as far as it did, let’s be honest, because it doesn’t appear that our standing army of lynchpin officers is willing to stand under a banner of service through sacrifice – at least not by any standard view of what sacrifice might entail.   \n",
      "\n",
      "We expect police to accept risk on our behalf, that’s the job, I think we all agree on that at face value. Yet, through aggressive union representation and by the blessing of an apparently drunken judiciary, police have foisted the dangers of policing onto the public to the point that the most obvious sacrifice involved with the vocation is carrying the emotional costs of committing horrific acts of violence. Prolific cop trainer, “Killology” author and blue line devotee Dave Grossman speaks to this directly.\n",
      "\n",
      "The following quotes Grossman in a video titled, “The Police Trainer Who Teaches Cops to Kill | The New Yorker,” which is available on youtube. “Are you emotionally, spiritually, psychologically prepared to snuff out a human life in defense of innocent lives? If you can’t make that decision, you need to find another job….Do you understand you could be sued for not shooting? Stand there and do nothing while people are murdered, what do they call that? Cowardice, malfeasance, dereliction of duty….Don’t be afraid to get sued, everybody gets sued, just a chance for overtime. Be afraid of being sued successfully.”\n",
      "\n",
      "I didn’t have to go cherry picking for that quote or misrepresent the context to cast a shadow over policing – it was plainly said. The blue line ideology is literally reducible to “shoot first ask questions later” without a hint of dishonesty or bad faith. And the further you dig into the source of that quote or the culture he’s informed, the more obvious it becomes that the decision to shoot 6 innocent bystanders in Denver was made in a classroom. In this classroom, pupils were taught to recognize split second decision making as cause to shoot - which is far different than training to make the right split second decision and then fostering a culture that enforces expectations of accuracy. Nonetheless, it will likely be decried as cherry picking to suggest that the argument for restricting police use of force is six times stronger than arguments in favor of officer discretion, given what happened in Denver. But that strength differential is not for the simple fact that Denver police shot six innocent people in a failed attempt to kill a man who’d surrendered. No, it’s because police authorities in Denver, like everywhere else in this nation, won’t straightaway condemn such acts or the mindset and training that delivered such results – because they’re blue line extremists willing to trade the well being of 6 innocent bystanders for phantoms of faith.\n",
      "\n",
      "**A simple value proposition**\n",
      "\n",
      "The blue line proposes to maximize public safety through the surgical application of necessary violence. A police force that worships of violence of action is a bargain for public safety, the faith maintains, so beneficial that its value is not diminished by distasteful appearances. Like when police training materials in Louisiana were found to quote Hitler more than any other source, for instance. Because public safety is maximized when police are endowed with broad discretion on use-of-force decisions – as the many units of “chaos” held back by police violence effectively offsets the public safety costs of six innocent bystanders being shot, for example. It’s our fault, I suppose, for not demanding that these phantom public safety gains be demonstrated more clearly. Because, clearly, a thousand people shot dead by police each year nationwide is too high a bar. And that’s not to mention all those unnecessarily brutalized, harassed or disrespected in nonlethal police encounters. Given that policing isn’t, in fact, particularly dangerous, it seems wise to ask: for whom is blue line policing a bargain?\n",
      "\n",
      "A popular counterpoint to this anti-police rhetoric is that only a small percentage of police encounters become violent. Therefore, it’s held, claims of rampant police violence are unfounded. But if this is true then shouldn’t we also recognize that, by the numbers, which are overwhelmingly clear, policing causes far more physical harm to innocent citizens than to police officers themselves, and that the greatest threat to officer safety is their culture of impunity? And that, therefore, the flagship content of blue line ideology is propagandist fiction? I mean, the majority of police deaths are traffic related, which is probably not unrelated to the fact that so many police refuse to buckle up – though they’ll write you a ticket for doing the same. Similarly, the 55% spike in police deaths from 2020 to 2021 is attributable to COVID related deaths, which is probably not unrelated to the fact that so many police refused to wear masks – even when mandated by laws they enforced against others. It shouldn’t be controversial to recognize that, by the numbers, the value propositions of the blue line simply do not add up.\n",
      "\n",
      "**A derelict judiciary**\n",
      "\n",
      "But what about the fact that so many police killings, a clear majority, are ruled “justified?” That kind of shoots a hole in the reasoning above, doesn’t it? No – twist – actually, it doesn’t. Instead, it’s simply a testament to how extreme policing has been allowed to become. This is thanks to the persistent and growing dereliction of our judiciary. Blue line extremism grew into what it is today in the shadow of a series of absurd legal delusions. Without such cover, the blue line would have surely been cleansed by the light of day.   \n",
      "\n",
      "**Qualified immunity**\n",
      "\n",
      "The “court created doctrine” of qualified immunity is likely the most notorious legal delusion of them all. This doctrine holds that police are immune from civil liability except where it can be shown that an officer has violated an individual’s “clearly established rights.” While lay people such as myself widely regard our first and fourth amendment rights as pretty fucking clearly established, that is not how this works. The test for whether or not an officer has violated clearly established rights comes down to whether or not the officer “reasonably” knew their actions would violate an individual’s rights.   \n",
      "\n",
      "In Texas in 2020, the U.S. Fifth Circuit Court of Appeals ruled that it wasn’t reasonable to expect a corrections officer to understand that an unprovoked pepper spray attack against an inmate would violate his rights, because the case cited by the plaintiff to demonstrate a clearly established right concerned prison guards beating and tasing inmates – not pepper spraying them. In essence, qualified immunity invokes the irrelevant to practically guarantee officers freedom from civil liability and it turns the concept of reasonableness into a brazen display of unlikely ignorance. And better still, since it was ruled that unprovoked pepper spray attacks against inmates warrant qualified immunity, the right to be free from such attacks by demented prison guards has become clearly unestablished.\n",
      "\n",
      "**GrahamVConnor - 1989**\n",
      "\n",
      "A similar perversion of reasonableness is found in the 1989 supreme court ruling GrahamVConnor. The court confirmed in Graham that excessive force claims against police should be evaluated with respect to the “objective reasonableness” standard of the 4th Amendment. This test considers the severity of the suspect’s alleged crime, the threat level posed by the suspect and whether or not the suspect is resisting or evading. But, and here’s the kicker, those factors must be considered with respect for the fact that officers may be compelled to engage in split second decision making and “from the perspective of a reasonable officer on the scene, rather than with the 20/20 vision of hindsight.\" So, in practice, the “objective” reasonableness test dictated in Graham boils down to asking officers accused of excessive force whether or not they’re guilty. Because what cop would testify to perceptions that would cast their use of force in an “unreasonable” light? The result of this standard is that trigger-happy rambo cops have become the template for what passes as a “reasonable officer.”\n",
      "\n",
      "**A special bill of rights and police unions**\n",
      "\n",
      "Finally, we have the “Officer’s Bill of Rights” and the contractual legal favors achieved by police union negotiations. These vary from state to state and from one police department to the next but in either case they often afford police due process rights beyond those available to ordinary citizens accused of crimes. Police unions argue that these are necessary to protect police from overzealous prosecutors and internal affairs. But it’s far easier to find hundreds of examples of these protecting police from warranted accountability – see Freddy Gray, for example – than it is to find even a single case of a police officer being victimized by a bad faith prosecution. Police are rarely charged, much less prosecuted, for abuses that are clearly unreasonable and unjustified by any standard definition of those terms. Furthermore, special favors written into the law strike against the legitimacy of our entire legal system, given that legal authority in the US uniquely depends on the rule of law, which basically holds that the law should be enforced equally against all, according to the internet.\n",
      "\n",
      "**The Thin Blue Line is an extremist totem that should be abolished without a second thought**\n",
      "\n",
      "US police are now firmly established at the intersection of Derelict Judiciary and Blue Line Extremism, which I hope I’ve shown is a real and distinct ideological force inside our police departments. At this place in policing, officers can proudly provide perimeter security for a terrorist as he murders children, while beating up any parent who tries to intervene, or they can bravely unleash a hail of gunfire into a crowd on a Sunday night. There appears to be no limit to this absurdity, really, as the aforementioned examples were not enough to compel forceful change. The faith maintains against distasteful appearances. And the police stand ready to beat back any forceful objection.   \n",
      "\n",
      "We marched for change in 2020 and the police beat us then. We would have held them accountable for that but in Seattle they covered their badge numbers with a blue line. The chief, a snake, assured us that this had nothing to do with individual officers avoiding accountability for the skulls they cracked during Seattle’s infamous Summer of Love and everything to do with honoring fallen officers. Though apostates contend that, with that blue line over their badge, Seattle police shamelessly exploited the death of officers unaffiliated with the department to evade accountability while it simply abused the community – for no other obvious reason than to retain its impunity. Because police in Seattle didn’t beat up too many rioters, as any FOX News report from that time will confirm, but they did consistently target press, protest medics and constitutionally protected protesters.   \n",
      "\n",
      "So as the mythical lynchpin carries on past Uvalde like some kind of headless chicken, I hope we can finally **recognize the ability to reinforce as the true foundation of robust public safety.** We don’t need rambo cops if we have officers who view sacrifice as more of a willingness to face mortal danger, and risk dying, than a capacity for violence, and risk killing unnecessarily. With brave cops, restrained from preemptive violence and backed by sophisticated reinforcement capabilities – which, as it happens, we already have – there’s no threat we cannot overcome. There’s just one component missing...but SPOG stands in our way. \n",
      "\n",
      "2: ---------\n",
      "-------------\n",
      "-------------\n",
      "\n",
      "**The Myth of the Lynchpin Officer Died in Uvalde**\n",
      "\n",
      "\tWith those dear children, the myth of the lynchpin officer died in Uvalde. By the doctrine of The Thin Blue Line, police require broad discretion on use-of-force decisions. This is because officers hold the line between order and chaos. Improperly restrained and police may fail – in which case something terrible could happen.  \n",
      "\n",
      "\\-----------------------------------------------------------------------------------------------------------------------------------------------------\n",
      "\n",
      "\tA grand jury has been assembled in Denver after police shot six innocent bystanders in a failed attempt to kill a man who’d surrendered.  \n",
      "\n",
      "\\-----------------------------------------------------------------------------------------------------------------------------------------------------\n",
      "\n",
      "\tThe Thin Blue Line has come to represent a distinct ideology widely adopted by police throughout the US. This is clearly an extremist ideology hiding in plain sight, though its simple propositions guide the organization, training and professional conduct of law enforcement organizations nationwide. This is a problem that requires immediate attention and forceful action. Because police officers employed to protect and serve, it turns out, conduct themselves quite differently than officers employed as lynchpins against \"chaos.\" The defund slogan got as far as it did, let’s be honest, because it doesn’t appear that our standing army of lynchpin officers is willing to stand under a banner of service through sacrifice – at least not by any standard view of what sacrifice might entail.  \n",
      "\n",
      "\tWe expect police to accept risk on our behalf, that’s the job, I think we all agree on that at face value. Yet, through aggressive union representation and by the blessing of an apparently drunken judiciary, police have foisted the dangers of policing onto the public to the point that the most obvious sacrifice involved with the vocation is carrying the emotional costs of committing horrific acts of violence. Prolific cop trainer, “Killology” author and blue line devotee Dave Grossman speaks to this directly.\n",
      "\n",
      "\tThe following quotes Grossman in a video titled, “The Police Trainer Who Teaches Cops to Kill | The New Yorker,” which is available on youtube. “Are you emotionally, spiritually, psychologically prepared to snuff out a human life in defense of innocent lives? If you can’t make that decision, you need to find another job….Do you understand you could be sued for not shooting? Stand there and do nothing while people are murdered, what do they call that? Cowardice, malfeasance, dereliction of duty….Don’t be afraid to get sued, everybody gets sued, just a chance for overtime. Be afraid of being sued successfully.”\n",
      "\n",
      "\tI didn’t have to go cherry picking for that quote or misrepresent the context to cast a shadow over policing – it was plainly said. The blue line ideology is literally reducible to “shoot first ask questions later” without a hint of dishonesty or bad faith. And the further you dig into the source of that quote or the culture he’s informed, the more obvious it becomes that the decision to shoot 6 innocent bystanders in Denver was made in a classroom. In this classroom, pupils were taught to recognize split second decision making as cause to shoot - which is far different than training to make the right split second decision and then fostering a culture that enforces expectations of accuracy. Nonetheless, it will likely be decried as cherry picking to suggest that the argument for restricting police use of force is six times stronger than arguments in favor of officer discretion, given what happened in Denver. But that strength differential is not for the simple fact that Denver police shot six innocent people in a failed attempt to kill a man who’d surrendered. No, it’s because police authorities in Denver, like everywhere else in this nation, won’t straightaway condemn such acts or the mindset and training that delivered such results – because they’re blue line extremists willing to trade the well being of 6 innocent bystanders for phantoms of faith.\n",
      "\n",
      "**A simple value proposition**\n",
      "\n",
      "\tThe blue line proposes to maximize public safety through the surgical application of necessary violence. A police force that worships of violence of action is a bargain for public safety, the faith maintains, so beneficial that its value is not diminished by distasteful appearances. Like when police training materials in Louisiana were found to quote Hitler more than any other source, for instance. Because public safety is maximized when police are endowed with broad discretion on use-of-force decisions – as the many units of “chaos” held back by police violence effectively offsets the public safety costs of six innocent bystanders being shot, for example. It’s our fault, I suppose, for not demanding that these phantom public safety gains be demonstrated more clearly. Because, clearly, a thousand people shot dead by police each year nationwide is too high a bar. And that’s not to mention all those unnecessarily brutalized, harassed or disrespected in nonlethal police encounters. Given that policing isn’t, in fact, particularly dangerous, it seems wise to ask: for whom is blue line policing a bargain?\n",
      "\n",
      "\tA popular counterpoint to this anti-police rhetoric is that only a small percentage of police encounters become violent. Therefore, it’s held, claims of rampant police violence are unfounded. But if this is true then shouldn’t we also recognize that, by the numbers, which are overwhelmingly clear, policing causes far more physical harm to innocent citizens than to police officers themselves, and that the greatest threat to officer safety is their culture of impunity? And that, therefore, the flagship content of blue line ideology is propagandist fiction? I mean, the majority of police deaths are traffic related, which is probably not unrelated to the fact that so many police refuse to buckle up – though they’ll write you a ticket for doing the same. Similarly, the 55% spike in police deaths from 2020 to 2021 is attributable to COVID related deaths, which is probably not unrelated to the fact that so many police refused to wear masks – even when mandated by laws they enforced against others. It shouldn’t be controversial to recognize that, by the numbers, the value propositions of the blue line simply do not add up.\n",
      "\n",
      "**A derelict judiciary**\n",
      "\n",
      "\tBut what about the fact that so many police killings, a clear majority, are ruled “justified?” That kind of shoots a hole in the reasoning above, doesn’t it? No – twist – actually, it doesn’t. Instead, it’s simply a testament to how extreme policing has been allowed to become. This is thanks to the persistent and growing dereliction of our judiciary. Blue line extremism grew into what it is today in the shadow of a series of absurd legal delusions. Without such cover, the blue line would have surely been cleansed by the light of day.  \n",
      "\n",
      "**Qualified immunity**\n",
      "\n",
      "\tThe “court created doctrine” of qualified immunity is likely the most notorious legal delusion of them all. This doctrine holds that police are immune from civil liability except where it can be shown that an officer has violated an individual’s “clearly established rights.” While lay people such as myself widely regard our first and fourth amendment rights as pretty fucking clearly established, that is not how this works. The test for whether or not an officer has violated clearly established rights comes down to whether or not the officer “reasonably” knew their actions would violate an individual’s rights.  \n",
      "\n",
      "\tIn Texas in 2020, the U.S. Fifth Circuit Court of Appeals ruled that it wasn’t reasonable to expect a corrections officer to understand that an unprovoked pepper spray attack against an inmate would violate his rights, because the case cited by the plaintiff to demonstrate a clearly established right concerned prison guards beating and tasing inmates – not pepper spraying them. In essence, qualified immunity invokes the irrelevant to practically guarantee officers freedom from civil liability and it turns the concept of reasonableness into a brazen display of unlikely ignorance. And better still, since it was ruled that unprovoked pepper spray attacks against inmates warrant qualified immunity, the right to be free from such attacks by demented prison guards has become clearly unestablished.\n",
      "\n",
      "**GrahamVConnor - 1989**\n",
      "\n",
      "\tA similar perversion of reasonableness is found in the 1989 supreme court ruling GrahamVConnor. The court confirmed in Graham that excessive force claims against police should be evaluated with respect to the “objective reasonableness” standard of the 4th Amendment. This test considers the severity of the suspect’s alleged crime, the threat level posed by the suspect and whether or not the suspect is resisting or evading. But, and here’s the kicker, those factors must be considered with respect for the fact that officers may be compelled to engage in split second decision making and “from the perspective of a reasonable officer on the scene, rather than with the 20/20 vision of hindsight.\" So, in practice, the “objective” reasonableness test dictated in Graham boils down to asking officers accused of excessive force whether or not they’re guilty. Because what cop would testify to perceptions that would cast their use of force in an “unreasonable” light? The result of this standard is that trigger-happy rambo cops have become the template for what passes as a “reasonable officer.”\n",
      "\n",
      "**A special bill of rights and police unions**\n",
      "\n",
      "\tFinally, we have the “Officer’s Bill of Rights” and the contractual legal favors achieved by police union negotiations. These vary from state to state and from one police department to the next but in either case they often afford police due process rights beyond those available to ordinary citizens accused of crimes. Police unions argue that these are necessary to protect police from overzealous prosecutors and internal affairs. But it’s far easier to find hundreds of examples of these protecting police from warranted accountability – see Freddy Gray, for example – than it is to find even a single case of a police officer being victimized by a bad faith prosecution. Police are rarely charged, much less prosecuted, for abuses that are clearly unreasonable and unjustified by any standard definition of those terms. Furthermore, special favors written into the law strike against the legitimacy of our entire legal system, given that legal authority in the US uniquely depends on the rule of law, which basically holds that the law should be enforced equally against all, according to the internet.\n",
      "\n",
      "**The Thin Blue Line is an extremist totem that perverts the nature of sacrifice and the concepts of reasonableness and justification to undermine public trust in police**  \n",
      "\n",
      "\tUS police are now firmly established at the intersection of Derelict Judiciary and Blue Line Extremism, which I hope I’ve shown is a real and distinct ideological force inside our police departments. At this place in policing, officers can proudly provide perimeter security for a terrorist as he murders children, while beating up any parent who tries to intervene, or they can bravely unleash a hail of gunfire into a crowd on a Sunday night. There appears to be no limits to this absurdity, really, as the aforementioned examples were not enough to compel a forceful change. The faith maintains against distasteful appearances. And the police stand ready to beat back any forceful objection.  \n",
      "\n",
      "\tWe marched for change in 2020 and the police beat us then. We would have held them accountable for that but in Seattle they covered their badge numbers with a blue line. The chief, a snake, assured us that this had nothing to do with individual officers avoiding accountability for the skulls they cracked during Seattle’s infamous Summer of Love and everything to do with honoring fallen officers. Though apostates contend that, with that blue line over their badge, Seattle police shamelessly exploited the death of officers unaffiliated with the department to evade accountability while it simply abused the community – for no other obvious reason than to retain its impunity. Because police in Seattle didn’t beat up too many rioters, as any FOX News report from that time will confirm, but they did consistently target press, protest medics and constitutionally protected protesters.  \n",
      "\n",
      "\tSo as the mythical lynchpin carries on past Uvalde like some kind of headless chicken, I hope we can finally **recognize the ability to reinforce as the true foundation of robust public safety**. We don’t need rambo cops if we have officers who view sacrifice as more of a willingness to face mortal danger, and risk dying, than a capacity for violence, and risk killing unnecessarily. With brave cops, restrained from preemptive violence and backed by sophisticated reinforcement capabilities – which, as it happens, we already have – there’s no threat we cannot overcome. There’s just one component missing...yet SPOG stands in our way \n",
      "\n",
      "3: ---------\n",
      "-------------\n",
      "-------------\n",
      "\n",
      "Last night I sent an email to my Seattle School Board Director (Chandra Hampson - SPS district 3) via her [seattleschools.com](http://seattleschools.com/) email address, sharing my thoughts about the strike and union demands, and asking that the board won't file an injunction against the striking teachers. I was surprised this morning when Chandra called me directly and offered to discuss all my concerns. What an amazing opportunity! Luckily I was at my desk and ready to take notes. She has time for calling one constituent each day, and I was fortunate enough to be free at the time when she did call, and had already written out a lot of questions and thoughts because of the ongoing strike. We had an hour-long discussion and I asked about the strike, the teacher demands, the comprehensive school board plan details listed on the district website, etc. Hampson was super focused to get me answers and I'm thankful for her time. Below are my notes from the conversation, and I tried to leave out my own commentary or editorializing and focus on her responses (until the very end).\n",
      "\n",
      "  \n",
      "Hampson has 3 kids in the Seattle public schools, 2 of them have 504s in place, and they went to Sandpoint Elementary. As a parent she is also dealing with her kids being out of school due to the negotiations and strike. She has been in the role of teacher, parent, and now elected to the Seattle School Board.\n",
      "\n",
      "  \n",
      "Hampson wanted to clarify a couple things about roles and responsibilities of the different groups involved. As a parent I was also quite confused about what the focus and role are of the School Board and the district, compared to the teacher's union, and how each side is involved in the ongoing contract negotiations.\n",
      "\n",
      "  \n",
      "Before diving in - Hampson shared the Lighthouse study on school boards, results of which are driving how school boards are being structured around the country. It's the largest study on school board performance and is guiding our current board's methods for their own structures and policies: [https://eric.ed.gov/?id=ED453172](https://eric.ed.gov/?id=ED453172)\n",
      "\n",
      "  \n",
      "A school board director job is entirely about governance, not customer support, meaning: they are responsible with setting the direction of the schooling, curriculum decisions, guidance towards classroom and school best practices, and ensuring that schools have resources available to execute on planned changes. In the context of the inclusivity model (more on that later) Hampson clarified the School Board's job is to provide the direction and the goals for the inclusion, clarify what is required (at federal, state levels) and what is not permitted by law. The director position is not like other elected officials because the school board is elected to represent the students first and foremost, and the community in which they live. It is \"the worst elected job\" because of how thankless their efforts are but also how impactful the decisions become. Hampson was very clear that the board \"doesn't represent teachers or parents, but instead represents the entire community when making decisions\". They have to think of what's best for the entire community in Seattle, not one specific interest group or demographic.\n",
      "\n",
      "  \n",
      "Because the directors are so focused on governance they do not have time for \"customer support\". They do often help connect parents with resources, or help solve problems at specific schools in their coverage. They're full-time focus, however, is governance and decision making. Some tactical changes are being made to address the problems around customer service. Right now the board has hired a consultancy to perform a full communications audit of the district to try and figure out where and how they can improve communications internal and external, and it's up to the superintendent to get the district staff to provide all the data and information. Additionally, the board is aware that they need to create a high-value customer service department to handle the myriad problems parents face when trying to navigate district policies and processes.\n",
      "\n",
      "  \n",
      "The community needs to understand that the only non-district entity involved is the SEA teachers union - by definition the union is created to advocate for teachers and teacher negotiation, but the district and board are created to support the students and drive student success. This may seem like semantics, but it's a very clear distinction that the SEA union is an external entity that is hired to do a job, much like an attorney is when representing clients. The union will use every tactic to get what they need for their members because that is their primary purpose for which they are hired, even if it isn't best for the students. They will use spin and stalling tactics, and others to get the agreed-upon list of demands. The union is looking at teacher advocacy, not student success. The difference can seem subtle at first glance.\n",
      "\n",
      "  \n",
      "Now to a primary sticking point of the ongoing strike and negotiations: data and real-world experiences in other districts and states show that an inclusion model will get us out of being stuck with the problems the schools face when dumping money and resources into SEL/multilingual and special ed, but not getting results or pushing the needle. Last year, the existing model used in Seattle schools poured $120M in addition to all the state funding, but the results were abysmal. Everyone, across the board, including teachers, staff, admins all believe that the goals and results of a properly-executed inclusivity program at the district level is not only achievable, but is the right path to follow. It's clear that the 1:1 model of assignment for SEL does not produce the desired (or federally mandated) results, and it just segregates students, often along demographic lines that are historically underperforming. The board believes that if we don't start with the inclusion mechanisms this year we may never catch up to the goals set by law.\n",
      "\n",
      "  \n",
      "In response to the need for the inclusivity model the SEA teachers union created a task force to come up with a plan on how to rollout and execute in the schools, and to determine which resource would be needed. The board is 100% behind the task force's plan toward inclusion, and also getting the staff the resources they need to implement it. To support the plan the School Board determined that no changes to staffing ratios will happen in the 2022/23 school year, and instead the year should be used for onboarding teachers and admins, support training, and build out curricular resources for inclusion. For this first year the School Board is asking for a 1-year contract. The plan will take 5-10 years to unwind and rebuild for full implementation, and it's clear that things will be more expensive at first before efficiencies materialize to decrease cost over a few years, and to achieve all the expected student results. The board is trying to update and modernize the practices of the district because it's clear that many students are not getting the experience and opportunities they need.\n",
      "\n",
      "  \n",
      "I asked Hampson what the role of a director is in the current strike. She believes that the board and district didn't do enough to inform teachers and parents during the pandemic that this large uplift is coming. For that reason, and others, there is a real trust gap, and also a belief gap - people don't believe that the school board is reformed in their direction and their commitment to the schools and teachers. The school board is primarily responsible for the belief gap. The last superintendent put out communications that weren't true, but the new board and district staff are committed to be ing extremely fact-based. The superintendent has been directed to focus solely on student issues.  \n",
      "\n",
      "\n",
      "As a director, Hampson is staying focused on the specific goals set for the district - things that must be done or are not allowed. The board is keeping students at the center of their focus. Sometimes that means asking tough questions like \"can we afford this?\" Right now the SEA union is asking for $500M, but the planned investment in school resources is already greater than what we currently spend. No one is saying \"screw the inclusion thing\" and everyone agrees with the goals, however there is disagreement on how to get there. The current board cannot agree to things that will result in a deficit for the next board.\n",
      "\n",
      "  \n",
      "Okay, so what's the plan to get teachers and parents onboarded? Hampson has many points on what the board is doing to get us from here to there. First is addressing the big trust gap with the community. The first year of implementation is meant to be an onboarding time to work on aligning everyone on the process and goals, hence the board asking for a 1-year contract. The district will add additional staff, and provide training opportunities for teachers, admins, and staff, on how to handle the transition to the inclusivity model. Not every classroom will become an inclusion classroom. The board is also reminding everyone that change is hard, especially transitioning from Seattle \"talking progressively\" about education and inclusivity to switching into execution mode and making actual changes that implement the goals.\n",
      "\n",
      "  \n",
      "Many other tactical changes are happening. We have a brand new superintendent that is an expert in governance. The superintendent job is not like school-administration, but rather has to be someone who is an expert in governance; this encompasses an entirely different skill set than a former principle or school administrator. This is the first time that a superintendent is hired for that particular skill set, and we haven't yet had the time to see what exactly that means at the scale of SPS because of his short tenure thus far. The board is also asking the state and colleges to mandate teacher and administrator inclusivity and special ed training for all teachers graduating to work in our districts. It's not currently required and has created a huge deficit in teacher abilities in working with inclusion classrooms. The district is also buying curriculum for the first time. What that means is teachers will have curriculum that is uniform across the district, pre-made for them to use, and they will be able to train on the curriculum to avoid surprises or having to fall back to previous year's plans. The curricular support is aimed to reduce teacher burden so they can focus on classroom time more, and student interaction and not the overhead of building out curriculum. Individual plans do not scale to a system as large as SPS, and having uniformity makes for easier teacher onboarding and long-term success.  \n",
      "\n",
      "\n",
      "My parting thoughts: I'm really thankful that I had the chance for a real discussion with a board member. It's not often that we can hear directly from decision makers and get responses to our questions without a news source or press release as an intermediary. It gives me validation that there are real people doing the hard work in those jobs. As a parent, Hampson knows what it's like working with the district, and going through the 504 and IEP process with her own children, and she knows the pains we feel watching these bureaucratic processes take place. Our feelings as parents and community members right now are very real, and the frustration is felt from all sides. I got the impression that Hampson and the school board are genuinely invested in the success and future of Seattle schools, students, and the community. I hope that we can all come together and collaborate for the sake of our students and for Seattle.\n",
      "\n",
      "  \n",
      "The board's comprehensive plan is available on the schools website along with the current negotiation details. Here are some other resources that Hampson shared for reading on inclusion and school board data:\n",
      "\n",
      "* [http://rethinkingschools.org/](http://rethinkingschools.org/articles/the-story-of-one-unions-journey-toward-disability-justice/)[articles/the-story-of-one-](http://rethinkingschools.org/articles/the-story-of-one-unions-journey-toward-disability-justice/)[unions-journey-toward-](http://rethinkingschools.org/articles/the-story-of-one-unions-journey-toward-disability-justice/)[disability-justice/](http://rethinkingschools.org/articles/the-story-of-one-unions-journey-toward-disability-justice/)\n",
      "* The Lighthouse study article: [https://eric.ed.gov/?id=ED453172](https://eric.ed.gov/?id=ED453172)\n",
      "* Summary blog post of what is at stake in the current negotiation: [https://](https://arcofkingcountyvoice.blogspot.com/2022/09/back-to-school-inclusion-at-center-of.html)[arcofkingcountyvoice.blogspot.](https://arcofkingcountyvoice.blogspot.com/2022/09/back-to-school-inclusion-at-center-of.html)[com/2022/09/back-to-school-](https://arcofkingcountyvoice.blogspot.com/2022/09/back-to-school-inclusion-at-center-of.html)[inclusion-at-center-of.html](https://arcofkingcountyvoice.blogspot.com/2022/09/back-to-school-inclusion-at-center-of.html) \n",
      "\n",
      "4: ---------\n",
      "-------------\n",
      "-------------\n",
      "\n",
      " \n",
      "\n",
      "Thought I would post a little about our experience at the Ren Faire this past Sunday the 14th!\n",
      "\n",
      "A little about our party, 3 adults and a 4 year old, none of us had ever been to a Ren Faire. \n",
      "\n",
      "Like a lot of people I’m sure, we woke up Sunday morning to u/OK-Worth-9525  ‘s post about avoiding the Ren Faire. I read through all the reddit comments and the Google reviews and decided on some changes. One, packed more water than previously planned. Two, I packed a great load of snacks for the four year old and finally, three, we were leaving extra early. \n",
      "\n",
      "Packing List:\n",
      "\n",
      "Water, six bottles and a large yeti  \n",
      "Sunscreen!!!!!  \n",
      "Hats for everyone  \n",
      "Snacks for the four year old  \n",
      "Walking sneakers  \n",
      "Umbrellas (not aesthetic, but great for shade)  \n",
      "Cash  \n",
      "iPad\n",
      "\n",
      "We arrived in Bonney Lake at 915 and parking was well directed and unremarkable, we were out of the car by 920. There were portapotties in the lot, so we made use and then wandered up to the gate. It was a bit chaotic but there was a man yelling directions so we paused to hear them. There was only one line- everyone had to go up to the cashiers to either purchase tickets or have prepurchased tickets validated and receive a stamp. The line moved fast once they opened around 945 and we were in by 10:10.\n",
      "\n",
      "Maps, menus, and the event schedule were posted by QR code all over the place, and each venue had its schedule posted out front, BUT the data that day was not working at all. We could SMS text or call, but data was not happening, which was annoying but not the event’s fault. We had made a must-see list Saturday night off the website and one of our group had the foresight to screenshot the map so we were able to navigate fine before we got our bearings. Some of the things we saw were in the same venue, others were elsewhere, so a lot of our vendor shopping happened as we moved between venues.\n",
      "\n",
      "1015 We stopped by the Sweden tent to put in our RSVP for the Princess Tea. (Ages 12 and under) We overheard one of the staff comment that they were already 11/15 for spots, so we were glad we went there first!\n",
      "\n",
      "1030 Raptor Events- This was educational and well presented! Love a birb.\n",
      "\n",
      "1100 First Joust- Fun!!! The first joust of the day was all tests of skill. Each section cheered for a different knight and the section leaders were great. Four thought it was boring (?! I know), so we split from the others before the end for her to have her face painted. She really really liked this. It was totally smeared off by the end of the day, but her joy made it worth the 25$. \n",
      "\n",
      "1200 Lunch- It was SUPER busy in the lunch area, this was kind of where the umbrella came in most handy to create portable shade while you’re standing waiting. Seating was tough to find- there was a LOT but table turnover wasn’t really happening, so we sat on the ground in the shade. Vegetarian options were a bit thin and almost all the food was hot which was rough. Expensive too but of course that’s no surprise for faire food. Four ordered a plain hamburger and ate only the top bun and the fries. The King of Spain came and performed quite a funny burlesque show for the eating crowd.\n",
      "\n",
      "100 Cydshow Cy the Sword Swallower- This was by far the most anticipated thing for Four, and she loved it. It’s not for the squeamish (like myself); one our group members split to peruse the vendors.\n",
      "\n",
      "130 Mermaid and Fairy Glen- Four was absolutely entranced by the mermaid and had a lot of fun interacting with the fairies. She really enjoyed the bubbles too. There was a colouring space but every single sheet was completely coloured, which was a bummer.\n",
      "\n",
      "200 Princess Tea- Back at the Sweden tent we adults lounged around in the shade while the 15 kids sat round a table for tea, lemonade, and cupcakes. Each kid got a gold paper crown and a little pinned badge with a unicorn. Princess Cecilia served the drinks while her sister told the table a story about her unicorn. She was really lovely, clearly had a lot of experience with kids. Once the meal was finished everyone got to go and pet the bunnies and feed the miniature ponies.\n",
      "\n",
      "300 Storytime with the Wytchwood Players- this was my favourite thing!!! The lady told a wide variety of stories, her voice carried magnificently and she was really engaging. She also introduced a \\~10 year old girl and explained she’s still learning and would be telling us the story of how Thor got his hammer. All the adults paid rapt attention, she was soooo nervous it was super sweet.\n",
      "\n",
      "330 IPad time- Four was flagging hard at this point and becoming quite wiggly. We were staying in the nice cool tent for the puppet show at 400, so I whipped out the iPad and loaded up a movie. We attracted two more kids to the ipad, which gave all us parents a chance to rest and chill. Our other two adults ventured into the afternoon heat to bring back snow cones and a strawberry lemonade, both of which received huge thumbs up from Four.\n",
      "\n",
      "400 Puppet Show- This was fun and very British, which was enjoyed by all.\n",
      "\n",
      "445 Sirena- We split the group for the other two adults to go see the final joust at 500 since Four didn’t enjoy the morning joust. Four wanted to hear music so we walked over to the village square to see Sirena. I thought these ladies were awesome, I loved their coordinated dancing and singing and drumming and the vibe was ethereal and spooky. Four did not love it, so we left to walk over to the jousting area to see if we could meet up with the others.\n",
      "\n",
      "500 Final Joust- We were late to the joust and it was the last of the day, so it was a solid wall of people all the way around the ring. Four and I found a spot in the shade to wait until it was over. The other adults report that they sat front row on the ground and had a great view in the shade. This joust actually involved the competitors riding at each other! The cheering was exciting and I could sort of see from my spot. The event ended about 530 and it seemed like most folks headed for the gates\n",
      "\n",
      "545 Dinner?- I walked over alone to see about scrounging up dinner and bringing it back to the group. This was Sunday and obviously almost closing time, a LOT of places were out of food, particularly anything vegetarian. Returned empty handed.\n",
      "\n",
      "600 Equestrian Chaos- Ladies on horseback doing trick archery shots. The other two liked this, I kind of thought it was just OK. Four had absolutely had it and spent the entire time lying on the bleachers flopping around. She got to pet one of the horses at the end which perked her up.\n",
      "\n",
      "645 Headed Home- Carried Four back to the car and we all used the toilet a final time. It took us sub 10 minutes to get out, totally unremarkable.\n",
      "\n",
      "Stuff for Next Time: I would bring a small bag for Four. She received a tiny trinket from nearly every place we visited and kids LOVE that stuff, would be good to have a special place for them.\n",
      "\n",
      "I would also love to do more outfit stuff next time, the costumes on everyone were awesome! I would just keep in mind the following: Linen and cotton ONLY, no polyester fabrics. Would have been nice to have a more aesthetic hat and a cuter parasol type situation.\n",
      "\n",
      "Parent Pointers: This event was super family friendly, as I hope you can see from my report. LOADS of families of all ages. If you have a wagon-style stroller that definitely seemed like the ticket. Ground is bumpy so you’ll need all terrain wheels if you bring a push stroller. Wish I had packed wet wipes and lysol wipes. We found that every event had shade, but the trick was arriving 5 minutes early so you could snag a good shady spot. Four complained ceaselessly if in the sun longer than 5 minutes, so for us hopping between stages made the most sense. There are no refillable water stations, and the water for sale is 4$ a bottle cash only so pack tons. We passed several change table/nursing stations that are well marked if you need that. Lost Children marker is right by the entrance, Medical tent is off the food court.\n",
      "\n",
      "Unexpected: Tipping! I’ve never been to a Renaissance Faire, and every act we saw asked for tips. Some even had their Venmo tag. You weren’t obligated to but it was quite interesting.\n",
      "\n",
      "Final Thoughts: This was super fun and we will go again next year, though definitely on a Sunday not a Saturday. Arriving early and leaving late appeared to be key for our smooth experience– I see from the FB page that departing in the late afternoon was a shitshow. If we hadn’t come in one car I would have attempted to take Four home after the puppet show, but she honestly managed really well even beyond her limits and I was very proud of her. I was glad we had made a plan the night before and would do so again, because I felt like we saw nearly everything we wanted to see.\n",
      "\n",
      "TL;DR  It was fun! Arrive early, leave late, bring sunscreen and extra extra extra water. \n",
      "\n"
     ]
    }
   ],
   "source": [
    "i = 0\n",
    "for entry in sea.loc[sea['selftext'].str.split().str.len() > 1500, 'selftext']:\n",
    "    print(f'{i}: ---------\\n-------------\\n-------------\\n')\n",
    "    print(entry, '\\n')\n",
    "    i += 1"
   ]
  },
  {
   "cell_type": "markdown",
   "id": "b425e850-6793-409c-a35f-dc84a7c23a20",
   "metadata": {},
   "source": [
    "---\n",
    "\n",
    "## Feature Engineering\n",
    "\n",
    "Before we perform any string vectorization, let us perform some basic feature engineering. Our plan is to:\n",
    "- combine title and selftext columns for a single column to vectorize\n",
    "- create a word count column\n",
    "- create a sentiment column"
   ]
  },
  {
   "cell_type": "markdown",
   "id": "6420d370-76f4-44b1-a23c-93ac87bc41c6",
   "metadata": {},
   "source": [
    "#### Combine `title` and `selftext`"
   ]
  },
  {
   "cell_type": "code",
   "execution_count": 94,
   "id": "9dbc0162-30bb-4b9f-b435-b0c0d076f8ed",
   "metadata": {},
   "outputs": [],
   "source": [
    "# create a new column from joining title text and selftext\n",
    "sea['text'] = sea['title'] + ' ' + sea['selftext']\n",
    "sea_wa['text'] = sea_wa['title'] + ' ' + sea_wa['selftext']"
   ]
  },
  {
   "cell_type": "markdown",
   "id": "b7431d0c-9a44-4586-9f99-0555e32b0973",
   "metadata": {},
   "source": [
    "#### Create a `word_count` Column"
   ]
  },
  {
   "cell_type": "code",
   "execution_count": 95,
   "id": "928fe29c-9e32-4fbd-84a2-b3986a68937e",
   "metadata": {},
   "outputs": [],
   "source": [
    "sea['word_count'] = sea['text'].str.split().str.len()\n",
    "sea_wa['word_count'] = sea_wa['text'].str.split().str.len()"
   ]
  },
  {
   "cell_type": "markdown",
   "id": "26e871d6-1aee-4968-8736-405347efa23f",
   "metadata": {
    "tags": []
   },
   "source": [
    "#### Create Sentiment Columns"
   ]
  },
  {
   "cell_type": "code",
   "execution_count": 96,
   "id": "1225a1c2-43a5-4746-af0a-15a81602d4ec",
   "metadata": {},
   "outputs": [],
   "source": [
    "sent = SentimentIntensityAnalyzer()"
   ]
  },
  {
   "cell_type": "code",
   "execution_count": 97,
   "id": "43938f32-7d80-433c-b4ed-e068e34b0c75",
   "metadata": {},
   "outputs": [],
   "source": [
    "sea['sent_pos'] = sea['text'].map(lambda x: sent.polarity_scores(x)['pos'])\n",
    "sea['sent_neg'] = sea['text'].map(lambda x: sent.polarity_scores(x)['neg'])\n",
    "\n",
    "sea_wa['sent_pos'] = sea_wa['text'].map(lambda x: sent.polarity_scores(x)['pos'])\n",
    "sea_wa['sent_neg'] = sea_wa['text'].map(lambda x: sent.polarity_scores(x)['neg'])"
   ]
  },
  {
   "cell_type": "code",
   "execution_count": null,
   "id": "0188fd4e-4c94-456e-a8b3-acc646fcc6ec",
   "metadata": {},
   "outputs": [],
   "source": []
  },
  {
   "cell_type": "markdown",
   "id": "39d9ca5a-add1-4ee7-b05b-c17913a03cfc",
   "metadata": {},
   "source": [
    "---\n",
    "\n",
    "## Predicting From Strictly Text Data"
   ]
  },
  {
   "cell_type": "code",
   "execution_count": null,
   "id": "d2072154-3542-45d7-a1f8-bedfeb04ba48",
   "metadata": {},
   "outputs": [],
   "source": []
  },
  {
   "cell_type": "code",
   "execution_count": null,
   "id": "74e39c8b-fe81-48df-b9d3-eae08916ede4",
   "metadata": {},
   "outputs": [],
   "source": []
  },
  {
   "cell_type": "code",
   "execution_count": null,
   "id": "da3965ad-e609-462b-bea5-54d96f4fee08",
   "metadata": {},
   "outputs": [],
   "source": []
  },
  {
   "cell_type": "code",
   "execution_count": null,
   "id": "0d1874ec-08a2-45de-88f1-0a220f1f2527",
   "metadata": {},
   "outputs": [],
   "source": []
  },
  {
   "cell_type": "code",
   "execution_count": null,
   "id": "e568a6f8-9021-4e43-b3d8-35ff5d84f808",
   "metadata": {},
   "outputs": [],
   "source": []
  },
  {
   "cell_type": "code",
   "execution_count": null,
   "id": "9de8b6c9-a119-4507-9bd1-5e80be04590f",
   "metadata": {},
   "outputs": [],
   "source": []
  },
  {
   "cell_type": "code",
   "execution_count": null,
   "id": "0c3d2014-46d9-41e2-8c06-d658578d05ec",
   "metadata": {},
   "outputs": [],
   "source": []
  },
  {
   "cell_type": "code",
   "execution_count": null,
   "id": "dad9f47f-219e-4cb7-b5a2-e9f2617338ef",
   "metadata": {},
   "outputs": [],
   "source": []
  },
  {
   "cell_type": "code",
   "execution_count": null,
   "id": "937d85dc-6751-4341-a279-0ac72452ad3c",
   "metadata": {},
   "outputs": [],
   "source": []
  },
  {
   "cell_type": "code",
   "execution_count": null,
   "id": "254961fb-0e1f-4b57-94cd-b041f71553b8",
   "metadata": {},
   "outputs": [],
   "source": []
  },
  {
   "cell_type": "code",
   "execution_count": null,
   "id": "4ab5652a-c7d7-416d-9d50-b7aa2dd0ce91",
   "metadata": {},
   "outputs": [],
   "source": []
  },
  {
   "cell_type": "code",
   "execution_count": null,
   "id": "f4db956a-2c55-4184-9d60-013a92c6cafe",
   "metadata": {},
   "outputs": [],
   "source": []
  },
  {
   "cell_type": "code",
   "execution_count": null,
   "id": "c1b7f09d-f542-4057-9f64-86564c13ac35",
   "metadata": {},
   "outputs": [],
   "source": []
  },
  {
   "cell_type": "code",
   "execution_count": null,
   "id": "abbfffe2-28fd-445c-b9c8-8cfb5a2612e6",
   "metadata": {},
   "outputs": [],
   "source": []
  },
  {
   "cell_type": "code",
   "execution_count": null,
   "id": "01bf8ed1-1c6d-4ce4-ac80-4afe7722659e",
   "metadata": {},
   "outputs": [],
   "source": []
  },
  {
   "cell_type": "code",
   "execution_count": null,
   "id": "9a7eb7f0-57a3-4f2d-aeac-b5c29aac76f7",
   "metadata": {},
   "outputs": [],
   "source": []
  },
  {
   "cell_type": "markdown",
   "id": "bfbc8ea9-61cb-49e4-bf25-e9315ffcb201",
   "metadata": {},
   "source": [
    "When we look at self text with fewer than three spaces they consist of:\n",
    "- emojis,\n",
    "- links,\n",
    "- '\\[deleted\\]'\n",
    "- some variations on 'title' or 'thank you' or '...'\n",
    "\n",
    "It seems reasonable to assume that posts corresponding to the last bullet have a more thorough title. It is probably fine to keep these rows. The string vectorizers drop emojis unless we tell it not to, so we do not have to worry about them for now. The deleted entry should be removed.\n",
    "\n",
    "It is harder to know what to do with links. Let us explore this a bit more thoroughly after performing some light cleaning."
   ]
  },
  {
   "cell_type": "markdown",
   "id": "601a5fd1-7abb-4d5b-aaa4-4faaff694af6",
   "metadata": {},
   "source": [
    "Another thing to notice is that some links, 'deleted', and 'removed' are wrapped in square brackets. We explore this below to see if this unveils anything we should deal with."
   ]
  },
  {
   "cell_type": "code",
   "execution_count": 255,
   "id": "b8395280-616f-44ec-9ebe-bbfd2d1b65ce",
   "metadata": {},
   "outputs": [
    {
     "data": {
      "text/plain": [
       "269     It's Banned Books Week - [https://www.thenewst...\n",
       "458     This guy just flew over me super low and accor...\n",
       "660     [https://www.kuow.org/stories/making-good-prog...\n",
       "750     As we enter the third missed day of school it'...\n",
       "873                                               [Title]\n",
       "926     [Desk in question](https://www.ikea.com/us/en/...\n",
       "1190    Looking to park overnight a few nights while l...\n",
       "1292    [https://youtu.be/DMNSvHswljM](https://youtu.b...\n",
       "1498    Got about 20 paintings I made a while back tha...\n",
       "1735    There is a ton of balanced and accurate info [...\n",
       "1766    [https://www.kuow.org/stories/seattle-passes-p...\n",
       "1810    [Festival Lineup](https://i.imgur.com/sSUkny1....\n",
       "1903    What are some of your hacks and pro tips? Whet...\n",
       "2137    [https://content.govdelivery.com/bulletins/gd/...\n",
       "2303    [https://www.scribd.com/document/232200355/Upd...\n",
       "2337                                            [deleted]\n",
       "2381    [like this one for LA](https://www.lataco.com/...\n",
       "Name: selftext, dtype: object"
      ]
     },
     "execution_count": 255,
     "metadata": {},
     "output_type": "execute_result"
    }
   ],
   "source": [
    "sea.loc[(sea['selftext'].str.contains('\\[')) & (sea['selftext'].str.len() < 300), 'selftext'].head(20)"
   ]
  },
  {
   "cell_type": "code",
   "execution_count": 252,
   "id": "afbb7f1e-f886-44a0-87e7-e6fd170344b6",
   "metadata": {},
   "outputs": [
    {
     "data": {
      "text/plain": [
       "\"[Desk in question](https://www.ikea.com/us/en/p/trotten-desk-sit-stand-white-s79429602/)\\n\\nI bought it just 6 months ago but upgraded. It has a lever for the height adjustment. It's fully assembled.\""
      ]
     },
     "execution_count": 252,
     "metadata": {},
     "output_type": "execute_result"
    }
   ],
   "source": [
    "sea.loc[926, 'selftext']"
   ]
  },
  {
   "cell_type": "code",
   "execution_count": 254,
   "id": "c5eb2aac-44ec-4a35-8a20-47b9a8db11a8",
   "metadata": {},
   "outputs": [
    {
     "data": {
      "text/plain": [
       "'Looking to park overnight a few nights while lodging in Belltown. Where’s the closest neighborhoods to park for free? [cat tax ](https://imgur.com/a/TMVxjEQ)'"
      ]
     },
     "execution_count": 254,
     "metadata": {},
     "output_type": "execute_result"
    }
   ],
   "source": [
    "sea.loc[1190, 'selftext']"
   ]
  },
  {
   "cell_type": "code",
   "execution_count": 253,
   "id": "0c7acd6c-b32b-4174-ab0c-a885e0105baf",
   "metadata": {},
   "outputs": [
    {
     "data": {
      "text/plain": [
       "'[https://youtu.be/DMNSvHswljM](https://youtu.be/DMNSvHswljM)'"
      ]
     },
     "execution_count": 253,
     "metadata": {},
     "output_type": "execute_result"
    }
   ],
   "source": [
    "sea.loc[1292, 'selftext']"
   ]
  },
  {
   "cell_type": "code",
   "execution_count": null,
   "id": "9d002786-f7a3-449c-b37d-aeaca0c7275b",
   "metadata": {},
   "outputs": [],
   "source": []
  },
  {
   "cell_type": "code",
   "execution_count": null,
   "id": "790af31e-95f0-4553-be23-43f0394f91f3",
   "metadata": {},
   "outputs": [],
   "source": []
  },
  {
   "cell_type": "code",
   "execution_count": null,
   "id": "4b7d2fb5-0345-47cb-918c-cc61319abcd4",
   "metadata": {},
   "outputs": [],
   "source": []
  },
  {
   "cell_type": "code",
   "execution_count": null,
   "id": "9db03aee-db0d-4e89-849b-827b92528fa3",
   "metadata": {},
   "outputs": [],
   "source": []
  },
  {
   "cell_type": "code",
   "execution_count": null,
   "id": "c74f3faa-bcee-43dc-9c5c-d088f2390f71",
   "metadata": {},
   "outputs": [],
   "source": []
  },
  {
   "cell_type": "code",
   "execution_count": null,
   "id": "3b3bf99d-9ab7-4c9d-93f5-d0b1961d73e0",
   "metadata": {},
   "outputs": [],
   "source": []
  },
  {
   "cell_type": "code",
   "execution_count": null,
   "id": "2e3b2dad-829a-4888-991f-d79e8368e1db",
   "metadata": {},
   "outputs": [],
   "source": []
  },
  {
   "cell_type": "code",
   "execution_count": null,
   "id": "156e3bc9-57de-48bb-8246-0d087666800a",
   "metadata": {},
   "outputs": [],
   "source": []
  },
  {
   "cell_type": "code",
   "execution_count": null,
   "id": "9372949e-8c7e-4d45-a61f-bbc5de08d173",
   "metadata": {},
   "outputs": [],
   "source": []
  },
  {
   "cell_type": "code",
   "execution_count": null,
   "id": "3b387351-e05f-4f0a-89f1-73564a0a9d3c",
   "metadata": {},
   "outputs": [],
   "source": []
  }
 ],
 "metadata": {
  "kernelspec": {
   "display_name": "Python 3 (ipykernel)",
   "language": "python",
   "name": "python3"
  },
  "language_info": {
   "codemirror_mode": {
    "name": "ipython",
    "version": 3
   },
   "file_extension": ".py",
   "mimetype": "text/x-python",
   "name": "python",
   "nbconvert_exporter": "python",
   "pygments_lexer": "ipython3",
   "version": "3.9.12"
  }
 },
 "nbformat": 4,
 "nbformat_minor": 5
}
