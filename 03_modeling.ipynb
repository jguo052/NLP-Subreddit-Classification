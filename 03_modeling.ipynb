{
 "cells": [
  {
   "cell_type": "markdown",
   "id": "9ab34c03-27d6-4709-84b8-ca815eb42603",
   "metadata": {},
   "source": [
    "# Modeling\n",
    "\n",
    "---"
   ]
  },
  {
   "cell_type": "markdown",
   "id": "b3b371dc-4221-47b8-94dc-adee19c244b0",
   "metadata": {},
   "source": [
    "## Imports"
   ]
  },
  {
   "cell_type": "code",
   "execution_count": 1,
   "id": "2a746533-b640-4c61-98fe-2c6d889eff0b",
   "metadata": {},
   "outputs": [],
   "source": [
    "# basic imports\n",
    "import pandas as pd\n",
    "import numpy as np\n",
    "import matplotlib.pyplot as plt\n",
    "import seaborn as sns\n",
    "import plotly.express as px\n",
    "import datetime as dt\n",
    "\n",
    "# core\n",
    "from sklearn.model_selection import train_test_split, GridSearchCV\n",
    "from sklearn.pipeline import Pipeline\n",
    "\n",
    "# transformers\n",
    "from sklearn.feature_extraction.text import CountVectorizer, TfidfVectorizer\n",
    "from sklearn.preprocessing import StandardScaler\n",
    "\n",
    "# models\n",
    "from sklearn.linear_model import LogisticRegression\n",
    "from sklearn.neighbors import KNeighborsClassifier\n",
    "from sklearn.naive_bayes import MultinomialNB\n",
    "from sklearn.ensemble import BaggingClassifier, RandomForestClassifier, AdaBoostClassifier, \\\n",
    "                            GradientBoostingClassifier, StackingClassifier, VotingClassifier"
   ]
  },
  {
   "cell_type": "markdown",
   "id": "a276e8bc-be85-457b-8039-7b903df32bb6",
   "metadata": {},
   "source": [
    "## Model Preparation"
   ]
  },
  {
   "cell_type": "markdown",
   "id": "ce1ecd06-e737-4568-8964-ca9962a7a0e3",
   "metadata": {},
   "source": [
    "Our last major goal is to create a model predicts whether a post belongs r/Seattle or r/SeattleWA. Let us read in the data once more and train-test-split."
   ]
  },
  {
   "cell_type": "code",
   "execution_count": 2,
   "id": "2e74827e-45ea-4aed-b2ed-47dc278bc291",
   "metadata": {},
   "outputs": [],
   "source": [
    "# read in r/Seattle and r/SeattleWA data\n",
    "sea = pd.read_csv('datasets/Cleaned_Seattle.csv')\n",
    "sea_wa = pd.read_csv('datasets/Cleaned_SeattleWA.csv')"
   ]
  },
  {
   "cell_type": "code",
   "execution_count": 3,
   "id": "2e064350-ccf3-490a-a66e-2aa0e0ff3641",
   "metadata": {},
   "outputs": [],
   "source": [
    "# combine r/Seattle and r/SeattleWA data into single DataFrame\n",
    "all_posts = pd.concat([sea, sea_wa])"
   ]
  },
  {
   "cell_type": "code",
   "execution_count": 4,
   "id": "8c45d822-3994-49c9-ba09-cc51922ea0ba",
   "metadata": {},
   "outputs": [],
   "source": [
    "# convert Seattle to 0 and SeattleWA to 1 in subreddit column\n",
    "all_posts['subreddit'] = all_posts['subreddit'].map({'Seattle': 0, 'SeattleWA': 1})"
   ]
  },
  {
   "cell_type": "markdown",
   "id": "061bd318-5157-43a1-9e76-e617e3524434",
   "metadata": {},
   "source": [
    "Our first group of models will use strictly text data to predict the subreddit."
   ]
  },
  {
   "cell_type": "code",
   "execution_count": 5,
   "id": "bc5b9d5f-7d77-4606-96ce-3a3879ce1eb8",
   "metadata": {},
   "outputs": [],
   "source": [
    "# create X (text) and y (subreddit)\n",
    "X = all_posts['text']\n",
    "y = all_posts['subreddit']"
   ]
  },
  {
   "cell_type": "code",
   "execution_count": 6,
   "id": "e29e293b-1274-44b0-985f-2892074c0769",
   "metadata": {},
   "outputs": [],
   "source": [
    "X_train, X_test, y_train, y_test = train_test_split(X, y, random_state = 42, stratify = y)"
   ]
  },
  {
   "cell_type": "markdown",
   "id": "dfe60130-86ad-40b8-bd23-08ed3dbe9f35",
   "metadata": {},
   "source": [
    "#### Baseline Score"
   ]
  },
  {
   "cell_type": "markdown",
   "id": "69ff5cdd-f659-4c8e-bd25-b25a70c2dc70",
   "metadata": {},
   "source": [
    "Before we begin modeling, we should first determine establish a baseline score. Intuitively, each subreddit accounts for roughly 50% of the posts in the dataset. If we classified any predictions as the same subreddit everytime, we would epect 50% of our predictions to be correct. This is confirmed below."
   ]
  },
  {
   "cell_type": "code",
   "execution_count": 122,
   "id": "3002b09c-85b8-4301-a587-7939026d75ba",
   "metadata": {},
   "outputs": [
    {
     "data": {
      "text/plain": [
       "0    0.503536\n",
       "1    0.496464\n",
       "Name: subreddit, dtype: float64"
      ]
     },
     "execution_count": 122,
     "metadata": {},
     "output_type": "execute_result"
    }
   ],
   "source": [
    "y.value_counts(normalize = True)"
   ]
  },
  {
   "cell_type": "markdown",
   "id": "47fa052d-a1f7-4fd1-af65-553fd0e324ce",
   "metadata": {},
   "source": [
    "Since the two subreddits are very similar and many people likely post on either subreddit without much thought, there is a level of randomness that we simply will not be able to predict. I would be very pleasantly surprised if our model achieves greater than 60% accuracy.\n",
    "\n",
    "There are numerous metrics besides accuracy that one can use to assess a classification model. Since our classes are balanced and optimizing false positives seems equivalently valuable to optimizing false negatives, optimizing accuracy seems sufficient."
   ]
  },
  {
   "cell_type": "markdown",
   "id": "3e710266-271d-4852-9cde-c6538487c914",
   "metadata": {},
   "source": [
    "## Modeling with CountVectorizer"
   ]
  },
  {
   "cell_type": "markdown",
   "id": "486b8e52-4946-4363-894b-22638b5ca6c7",
   "metadata": {},
   "source": [
    "Two straightforward ways to vectorize string data is with `CountVectorizer` and `TfidfVectorizer`. We will first fit a batch of classification models with `CountVectorizer` using Pipelines and GridSearchCV. The hyperparameters chosen below are all after several iterations of hyperparameter tuning.\n",
    "\n",
    "The classification models we will try first are:\n",
    "- logistic regression\n",
    "- bagging\n",
    "- random forest\n",
    "- AdaBoost\n",
    "- gradient boosting\n",
    "- multinomial naive Bayes"
   ]
  },
  {
   "cell_type": "markdown",
   "id": "fa9ec56b-c453-41ce-b668-a50f754bb718",
   "metadata": {},
   "source": [
    "#### Logistic Regression"
   ]
  },
  {
   "cell_type": "code",
   "execution_count": 7,
   "id": "85c9eeee-5e57-4724-b6e3-c5b9386f2b75",
   "metadata": {},
   "outputs": [
    {
     "data": {
      "text/plain": [
       "GridSearchCV(estimator=Pipeline(steps=[('cvec', CountVectorizer()),\n",
       "                                       ('lr',\n",
       "                                        LogisticRegression(random_state=42))]),\n",
       "             param_grid={'cvec__max_df': [0.8, 0.825],\n",
       "                         'cvec__max_features': [7000, 7500],\n",
       "                         'cvec__ngram_range': [(1, 2), (1, 3)],\n",
       "                         'cvec__stop_words': ['english'],\n",
       "                         'lr__max_iter': [200]})"
      ]
     },
     "execution_count": 7,
     "metadata": {},
     "output_type": "execute_result"
    }
   ],
   "source": [
    "log_cvec_pipe = Pipeline([\n",
    "    ('cvec', CountVectorizer()),\n",
    "    ('lr', LogisticRegression(random_state = 42))\n",
    "])\n",
    "\n",
    "log_cvec_params = {\n",
    "    'cvec__max_features': [7000, 7500],\n",
    "    'cvec__max_df': [0.8, 0.825],\n",
    "    'cvec__stop_words': ['english'],\n",
    "    'cvec__ngram_range': [(1,2), (1,3)],\n",
    "    'lr__max_iter': [200]\n",
    "}\n",
    "\n",
    "log_cvec_gs = GridSearchCV(log_cvec_pipe,\n",
    "                     param_grid = log_cvec_params)\n",
    "\n",
    "log_cvec_gs.fit(X_train, y_train)"
   ]
  },
  {
   "cell_type": "code",
   "execution_count": 124,
   "id": "88a381ea-cc58-42cd-8d36-cf661bae0c95",
   "metadata": {},
   "outputs": [
    {
     "name": "stdout",
     "output_type": "stream",
     "text": [
      "{'cvec__max_df': 0.8, 'cvec__max_features': 7500, 'cvec__ngram_range': (1, 3), 'cvec__stop_words': 'english', 'lr__max_iter': 200}\n",
      "Train: 0.98464025869038\n",
      "Test: 0.5411954765751211\n"
     ]
    }
   ],
   "source": [
    "print(log_cvec_gs.best_params_)\n",
    "print('Train:', log_cvec_gs.score(X_train, y_train))\n",
    "print('Test:', log_cvec_gs.score(X_test, y_test))"
   ]
  },
  {
   "cell_type": "markdown",
   "id": "3a6a9780-5393-4b31-bf3a-896cdfe45a81",
   "metadata": {},
   "source": [
    "Our model is massively overfit. I am quite surprised to see this much overfitting with logistic regression but we are using 7,500 features. I am however very happy to see an accuracy score of 54%.\n",
    "\n",
    "*Initially I tried using max features hyperparameter values near 2,000 since I saw the most value in looking at the top 2,000 words during my analysis. GridSearchCV reminded me that there were more than 10,000 words and that I could try to incorporate more words into the model than the analysis.*"
   ]
  },
  {
   "cell_type": "markdown",
   "id": "45d64984-229e-4dc9-9404-5063f701c0ea",
   "metadata": {},
   "source": [
    "#### Bagging"
   ]
  },
  {
   "cell_type": "code",
   "execution_count": 9,
   "id": "8770c255-c465-4c92-84b5-9d8539e89ee6",
   "metadata": {},
   "outputs": [
    {
     "data": {
      "text/plain": [
       "GridSearchCV(estimator=Pipeline(steps=[('cvec', CountVectorizer()),\n",
       "                                       ('bag',\n",
       "                                        BaggingClassifier(random_state=42))]),\n",
       "             param_grid={'bag__max_features': [0.6, 0.8, 1],\n",
       "                         'bag__n_estimators': [7, 10, 15],\n",
       "                         'cvec__max_df': [0.8, 0.825],\n",
       "                         'cvec__max_features': [7000, 7500],\n",
       "                         'cvec__ngram_range': [(1, 2), (1, 3)],\n",
       "                         'cvec__stop_words': ['english']})"
      ]
     },
     "execution_count": 9,
     "metadata": {},
     "output_type": "execute_result"
    }
   ],
   "source": [
    "bag_cvec_pipe = Pipeline([\n",
    "    ('cvec', CountVectorizer()),\n",
    "    ('bag', BaggingClassifier(random_state = 42))\n",
    "])\n",
    "\n",
    "bag_cvec_params = {\n",
    "    'cvec__max_features': [7000, 7500],\n",
    "    'cvec__max_df': [0.8, 0.825],\n",
    "    'cvec__stop_words': ['english'],\n",
    "    'cvec__ngram_range': [(1,2), (1,3)],\n",
    "    'bag__n_estimators': [7, 10, 15],\n",
    "    'bag__max_features': [0.6, 0.8, 1],\n",
    "    \n",
    "\n",
    "}\n",
    "\n",
    "bag_cvec_gs = GridSearchCV(bag_cvec_pipe,\n",
    "                     param_grid = bag_cvec_params)\n",
    "\n",
    "bag_cvec_gs.fit(X_train, y_train)"
   ]
  },
  {
   "cell_type": "code",
   "execution_count": 125,
   "id": "8e0c0c28-69c8-4d0f-a326-947a945bda93",
   "metadata": {},
   "outputs": [
    {
     "name": "stdout",
     "output_type": "stream",
     "text": [
      "{'bag__max_features': 0.6, 'bag__n_estimators': 15, 'cvec__max_df': 0.8, 'cvec__max_features': 7500, 'cvec__ngram_range': (1, 2), 'cvec__stop_words': 'english'}\n",
      "Train: 0.9908380490433846\n",
      "Test: 0.5379644588045234\n"
     ]
    }
   ],
   "source": [
    "print(bag_cvec_gs.best_params_)\n",
    "print('Train:', bag_cvec_gs.score(X_train, y_train))\n",
    "print('Test:', bag_cvec_gs.score(X_test, y_test))"
   ]
  },
  {
   "cell_type": "markdown",
   "id": "c020a307-f898-42bf-9648-3408562f0101",
   "metadata": {},
   "source": [
    "It is not nearly as surprising that bagging produced a very overfit model compared to logistic regression since bagging averages the results of many decision trees. I was hopeful that using smaller choices of `max_features` would combat the overfitting, but even after GridSearchCV chose a value of 0.6, the model is still very overfit."
   ]
  },
  {
   "cell_type": "markdown",
   "id": "3cbb81f4-cd64-4b80-b33a-768f5d578a11",
   "metadata": {},
   "source": [
    "#### Random Forest"
   ]
  },
  {
   "cell_type": "code",
   "execution_count": 11,
   "id": "e52b9757-d1d9-4bff-979a-3d5b484c107f",
   "metadata": {},
   "outputs": [
    {
     "data": {
      "text/plain": [
       "GridSearchCV(estimator=Pipeline(steps=[('cvec', CountVectorizer()),\n",
       "                                       ('rf',\n",
       "                                        RandomForestClassifier(random_state=42))]),\n",
       "             param_grid={'cvec__max_df': [0.8, 0.85],\n",
       "                         'cvec__max_features': [7000, 7500],\n",
       "                         'cvec__ngram_range': [(1, 2), (1, 3)],\n",
       "                         'cvec__stop_words': ['english'],\n",
       "                         'rf__max_samples': [0.4, 0.6, 1],\n",
       "                         'rf__n_estimators': [150, 200]})"
      ]
     },
     "execution_count": 11,
     "metadata": {},
     "output_type": "execute_result"
    }
   ],
   "source": [
    "rf_cvec_pipe = Pipeline([\n",
    "    ('cvec', CountVectorizer()),\n",
    "    ('rf', RandomForestClassifier(random_state = 42))\n",
    "])\n",
    "\n",
    "rf_cvec_params = {\n",
    "    'cvec__max_features': [7000, 7500],\n",
    "    'cvec__max_df': [0.8, 0.85],\n",
    "    'cvec__stop_words': ['english'],\n",
    "    'cvec__ngram_range': [(1,2), (1,3)],\n",
    "    'rf__n_estimators': [150, 200],\n",
    "    'rf__max_samples': [0.4, 0.6, 1],\n",
    "\n",
    "}\n",
    "\n",
    "rf_cvec_gs = GridSearchCV(rf_cvec_pipe,\n",
    "                     param_grid = rf_cvec_params)\n",
    "\n",
    "rf_cvec_gs.fit(X_train, y_train)"
   ]
  },
  {
   "cell_type": "code",
   "execution_count": 126,
   "id": "c22b593c-71b6-42ae-9812-1cd002fe4b3d",
   "metadata": {},
   "outputs": [
    {
     "name": "stdout",
     "output_type": "stream",
     "text": [
      "{'cvec__max_df': 0.8, 'cvec__max_features': 7000, 'cvec__ngram_range': (1, 2), 'cvec__stop_words': 'english', 'rf__max_samples': 0.6, 'rf__n_estimators': 200}\n",
      "Train: 0.9913769873349502\n",
      "Test: 0.5678513731825525\n"
     ]
    }
   ],
   "source": [
    "print(rf_cvec_gs.best_params_)\n",
    "print('Train:', rf_cvec_gs.score(X_train, y_train))\n",
    "print('Test:', rf_cvec_gs.score(X_test, y_test))"
   ]
  },
  {
   "cell_type": "markdown",
   "id": "fc18528c-87f1-440e-9719-6bd8ae60ee8f",
   "metadata": {},
   "source": [
    "This is our best performing model so far! Again, it is very overfit."
   ]
  },
  {
   "cell_type": "markdown",
   "id": "e730bc70-00fe-4f52-8849-b563921ee6fb",
   "metadata": {},
   "source": [
    "#### AdaBoost"
   ]
  },
  {
   "cell_type": "code",
   "execution_count": 13,
   "id": "b2f5ec3e-8e24-444e-9a32-1c83d1954164",
   "metadata": {},
   "outputs": [
    {
     "data": {
      "text/plain": [
       "GridSearchCV(estimator=Pipeline(steps=[('cvec', CountVectorizer()),\n",
       "                                       ('ada',\n",
       "                                        AdaBoostClassifier(random_state=42))]),\n",
       "             param_grid={'ada__n_estimators': [50, 75, 100],\n",
       "                         'cvec__max_df': [0.8, 0.85],\n",
       "                         'cvec__max_features': [6500, 7000],\n",
       "                         'cvec__ngram_range': [(1, 2), (1, 3)],\n",
       "                         'cvec__stop_words': ['english']})"
      ]
     },
     "execution_count": 13,
     "metadata": {},
     "output_type": "execute_result"
    }
   ],
   "source": [
    "ada_cvec_pipe = Pipeline([\n",
    "    ('cvec', CountVectorizer()),\n",
    "    ('ada', AdaBoostClassifier(random_state = 42))\n",
    "])\n",
    "\n",
    "ada_cvec_params = {\n",
    "    'cvec__max_features': [6500, 7000],\n",
    "    'cvec__max_df': [0.8, 0.85],\n",
    "    'cvec__stop_words': ['english'],\n",
    "    'cvec__ngram_range': [(1,2), (1,3)],\n",
    "    'ada__n_estimators': [50, 75, 100],\n",
    "\n",
    "}\n",
    "\n",
    "ada_cvec_gs = GridSearchCV(ada_cvec_pipe,\n",
    "                     param_grid = ada_cvec_params)\n",
    "\n",
    "ada_cvec_gs.fit(X_train, y_train)"
   ]
  },
  {
   "cell_type": "code",
   "execution_count": 127,
   "id": "52530b2e-7241-45ad-9ef4-6b3e1e691bea",
   "metadata": {},
   "outputs": [
    {
     "name": "stdout",
     "output_type": "stream",
     "text": [
      "{'ada__n_estimators': 75, 'cvec__max_df': 0.8, 'cvec__max_features': 6500, 'cvec__ngram_range': (1, 2), 'cvec__stop_words': 'english'}\n",
      "Train: 0.646456480732956\n",
      "Test: 0.5395799676898223\n"
     ]
    }
   ],
   "source": [
    "print(ada_cvec_gs.best_params_)\n",
    "print('Train:', ada_cvec_gs.score(X_train, y_train))\n",
    "print('Test:', ada_cvec_gs.score(X_test, y_test))"
   ]
  },
  {
   "cell_type": "markdown",
   "id": "cc5b4dd9-f0db-425e-a584-fe991e78747d",
   "metadata": {},
   "source": [
    "This is our first model that shows significantly less signs of overfitting. Its test score is on the lower end of what we have seen so far, but it is reassuring to see less overfitting even if we do not end up using this model. Unfortunately, AdaBoost has less hyperparameters to tune, and it has settled on an `n_estimators` value between two others. There is likely not much we can do to improve this model besides zero in more precisely on a better `n_estimators` value."
   ]
  },
  {
   "cell_type": "markdown",
   "id": "7f891b96-64ec-4155-beb2-2b7470881342",
   "metadata": {},
   "source": [
    "#### Gradient Boosting"
   ]
  },
  {
   "cell_type": "code",
   "execution_count": 15,
   "id": "4dd05e69-9c01-40ec-991b-d8191b167a5a",
   "metadata": {},
   "outputs": [
    {
     "data": {
      "text/plain": [
       "GridSearchCV(estimator=Pipeline(steps=[('cvec', CountVectorizer()),\n",
       "                                       ('gb',\n",
       "                                        GradientBoostingClassifier(random_state=42))]),\n",
       "             param_grid={'cvec__max_df': [0.8, 0.85],\n",
       "                         'cvec__max_features': [7000, 7500],\n",
       "                         'cvec__ngram_range': [(1, 2), (1, 3)],\n",
       "                         'cvec__stop_words': ['english'],\n",
       "                         'gb__max_depth': [4, 5],\n",
       "                         'gb__n_estimators': [100, 150],\n",
       "                         'gb__subsample': [0.5, 0.6, 0.7]})"
      ]
     },
     "execution_count": 15,
     "metadata": {},
     "output_type": "execute_result"
    }
   ],
   "source": [
    "gb_cvec_pipe = Pipeline([\n",
    "    ('cvec', CountVectorizer()),\n",
    "    ('gb', GradientBoostingClassifier(random_state = 42))\n",
    "])\n",
    "\n",
    "gb_cvec_params = {\n",
    "    'cvec__max_features': [7000, 7500],\n",
    "    'cvec__max_df': [0.8, 0.85],\n",
    "    'cvec__stop_words': ['english'],\n",
    "    'cvec__ngram_range': [(1,2), (1,3)],\n",
    "    'gb__n_estimators': [100, 150],\n",
    "    'gb__subsample': [0.5, 0.6, 0.7],\n",
    "    'gb__max_depth': [4, 5]\n",
    "\n",
    "}\n",
    "\n",
    "gb_cvec_gs = GridSearchCV(gb_cvec_pipe,\n",
    "                     param_grid = gb_cvec_params)\n",
    "\n",
    "gb_cvec_gs.fit(X_train, y_train)"
   ]
  },
  {
   "cell_type": "code",
   "execution_count": 128,
   "id": "d571340b-79e2-4379-a88e-87fd3555d5d1",
   "metadata": {},
   "outputs": [
    {
     "name": "stdout",
     "output_type": "stream",
     "text": [
      "{'cvec__max_df': 0.8, 'cvec__max_features': 7000, 'cvec__ngram_range': (1, 2), 'cvec__stop_words': 'english', 'gb__max_depth': 5, 'gb__n_estimators': 100, 'gb__subsample': 0.7}\n",
      "Train: 0.8270008084074374\n",
      "Test: 0.5525040387722132\n"
     ]
    }
   ],
   "source": [
    "print(gb_cvec_gs.best_params_)\n",
    "print('Train:', gb_cvec_gs.score(X_train, y_train))\n",
    "print('Test:', gb_cvec_gs.score(X_test, y_test))"
   ]
  },
  {
   "cell_type": "markdown",
   "id": "f8415aec-a0aa-4edc-a216-e48846e1915a",
   "metadata": {},
   "source": [
    "These are very solid scores from Gradient Boosting. Again, this model is very overfit, but still significantly less so than the other models we have fit besides AdaBoost. It also showcased a solid test score and should be considered for a production model unless an upcoming model proves to be better."
   ]
  },
  {
   "cell_type": "markdown",
   "id": "b9904de2-a5aa-4df6-9d9a-9269d789496c",
   "metadata": {},
   "source": [
    "#### Multinomial Naive Bayes"
   ]
  },
  {
   "cell_type": "code",
   "execution_count": 17,
   "id": "013eeac2-a4ff-43ab-9c9d-e89afee39bba",
   "metadata": {},
   "outputs": [
    {
     "data": {
      "text/plain": [
       "GridSearchCV(estimator=Pipeline(steps=[('cvec', CountVectorizer()),\n",
       "                                       ('nb', MultinomialNB())]),\n",
       "             param_grid={'cvec__max_df': [0.825, 0.85],\n",
       "                         'cvec__max_features': [7000, 7500],\n",
       "                         'cvec__ngram_range': [(1, 2), (1, 3)],\n",
       "                         'cvec__stop_words': ['english']})"
      ]
     },
     "execution_count": 17,
     "metadata": {},
     "output_type": "execute_result"
    }
   ],
   "source": [
    "nb_cvec_pipe = Pipeline([\n",
    "    ('cvec', CountVectorizer()),\n",
    "    ('nb', MultinomialNB())\n",
    "])\n",
    "\n",
    "nb_cvec_params = {\n",
    "    'cvec__max_features': [7000, 7500],\n",
    "    'cvec__max_df': [0.825, 0.85],\n",
    "    'cvec__stop_words': ['english'],\n",
    "    'cvec__ngram_range': [(1,2), (1,3)],\n",
    "}\n",
    "\n",
    "nb_cvec_gs = GridSearchCV(nb_cvec_pipe,\n",
    "                     param_grid = nb_cvec_params)\n",
    "\n",
    "nb_cvec_gs.fit(X_train, y_train)"
   ]
  },
  {
   "cell_type": "code",
   "execution_count": 129,
   "id": "baacae7d-90aa-497f-8e7b-0a23883852e8",
   "metadata": {},
   "outputs": [
    {
     "name": "stdout",
     "output_type": "stream",
     "text": [
      "{'cvec__max_df': 0.825, 'cvec__max_features': 7000, 'cvec__ngram_range': (1, 2), 'cvec__stop_words': 'english'}\n",
      "Train: 0.8264618701158717\n",
      "Test: 0.555735056542811\n"
     ]
    }
   ],
   "source": [
    "print(nb_cvec_gs.best_params_)\n",
    "print('Train:', nb_cvec_gs.score(X_train, y_train))\n",
    "print('Test:', nb_cvec_gs.score(X_test, y_test))"
   ]
  },
  {
   "cell_type": "markdown",
   "id": "a883f2f3-4fb9-4088-901b-7cb0e6d6c5a8",
   "metadata": {},
   "source": [
    "We see very comparable scores between Multinomial Bayes and Gradient Boosting without having to do any hyperparameter tuning required for the ensemble models."
   ]
  },
  {
   "cell_type": "markdown",
   "id": "6c8fb9fe-15a5-4b1f-abea-3c43e36e872c",
   "metadata": {},
   "source": [
    "## Tfidf Vectorizer"
   ]
  },
  {
   "cell_type": "markdown",
   "id": "6dc102c4-ba54-4852-a225-abbe44d6b0b1",
   "metadata": {},
   "source": [
    "So far some accuracy scores above 55% from Random Forest, Gradient Boosting, and Multinomial Naive Bayes when we use CountVectorizer as a text transformer. Let us see if we get any increased performance by using TfidfVectorizer."
   ]
  },
  {
   "cell_type": "markdown",
   "id": "092c29cf-59ae-4fc0-a5fd-4c5624db6e70",
   "metadata": {},
   "source": [
    "#### Logistic Regression"
   ]
  },
  {
   "cell_type": "code",
   "execution_count": 19,
   "id": "ec1441cd-e2bb-4367-b76d-31b51ef80189",
   "metadata": {},
   "outputs": [
    {
     "data": {
      "text/plain": [
       "GridSearchCV(estimator=Pipeline(steps=[('tvec', TfidfVectorizer()),\n",
       "                                       ('lr',\n",
       "                                        LogisticRegression(random_state=42))]),\n",
       "             param_grid={'lr__max_iter': [100, 200],\n",
       "                         'tvec__max_df': [0.8, 0.85],\n",
       "                         'tvec__max_features': [7000, 7500],\n",
       "                         'tvec__ngram_range': [(1, 2), (1, 3)],\n",
       "                         'tvec__stop_words': ['english']})"
      ]
     },
     "execution_count": 19,
     "metadata": {},
     "output_type": "execute_result"
    }
   ],
   "source": [
    "log_tvec_pipe = Pipeline([\n",
    "    ('tvec', TfidfVectorizer()),\n",
    "    ('lr', LogisticRegression(random_state = 42))\n",
    "])\n",
    "\n",
    "log_tvec_params = {\n",
    "    'tvec__max_features': [7000, 7500],\n",
    "    'tvec__max_df': [0.8, 0.85],\n",
    "    'tvec__stop_words': ['english'],\n",
    "    'tvec__ngram_range': [(1,2), (1,3)],\n",
    "    'lr__max_iter': [100, 200]\n",
    "}\n",
    "\n",
    "log_tvec_gs = GridSearchCV(log_tvec_pipe,\n",
    "                     param_grid = log_tvec_params)\n",
    "\n",
    "log_tvec_gs.fit(X_train, y_train)"
   ]
  },
  {
   "cell_type": "code",
   "execution_count": 130,
   "id": "76070fee-6339-4c5a-8c48-d5966c1fec17",
   "metadata": {},
   "outputs": [
    {
     "name": "stdout",
     "output_type": "stream",
     "text": [
      "{'lr__max_iter': 100, 'tvec__max_df': 0.8, 'tvec__max_features': 7000, 'tvec__ngram_range': (1, 3), 'tvec__stop_words': 'english'}\n",
      "Train: 0.8563729452977634\n",
      "Test: 0.5662358642972536\n"
     ]
    }
   ],
   "source": [
    "print(log_tvec_gs.best_params_)\n",
    "print('Train:', log_tvec_gs.score(X_train, y_train))\n",
    "print('Test:', log_tvec_gs.score(X_test, y_test))"
   ]
  },
  {
   "cell_type": "markdown",
   "id": "5f038ced-f510-41c8-9ed1-6d3faa5b6524",
   "metadata": {},
   "source": [
    "This model looks much better than the previous logistic regression model. It was way less overfit and boasts our second highest test score so far, after Random Forest. Since logistic regression attains nearly the same test score here with much less overfitting, this is a wonderful candidate for a production model. Moreover, there is the added benefit of interpretability."
   ]
  },
  {
   "cell_type": "markdown",
   "id": "95f51e67-cbff-41c8-ad86-299b0b116f4f",
   "metadata": {},
   "source": [
    "#### Bagging"
   ]
  },
  {
   "cell_type": "code",
   "execution_count": 21,
   "id": "8ac36681-7ac3-490d-a9a8-0354ba41e042",
   "metadata": {},
   "outputs": [
    {
     "data": {
      "text/plain": [
       "GridSearchCV(estimator=Pipeline(steps=[('tvec', TfidfVectorizer()),\n",
       "                                       ('bag',\n",
       "                                        BaggingClassifier(random_state=42))]),\n",
       "             param_grid={'bag__max_features': [0.7, 0.8],\n",
       "                         'bag__n_estimators': [7, 10, 15],\n",
       "                         'tvec__max_df': [0.8, 0.85],\n",
       "                         'tvec__max_features': [7000, 7500],\n",
       "                         'tvec__ngram_range': [(1, 2), (1, 3)],\n",
       "                         'tvec__stop_words': ['english']})"
      ]
     },
     "execution_count": 21,
     "metadata": {},
     "output_type": "execute_result"
    }
   ],
   "source": [
    "bag_tvec_pipe = Pipeline([\n",
    "    ('tvec', TfidfVectorizer()),\n",
    "    ('bag', BaggingClassifier(random_state = 42))\n",
    "])\n",
    "\n",
    "bag_tvec_params = {\n",
    "    'tvec__max_features': [7000, 7500],\n",
    "    'tvec__max_df': [0.8, 0.85],\n",
    "    'tvec__stop_words': ['english'],\n",
    "    'tvec__ngram_range': [(1,2), (1,3)],\n",
    "    'bag__n_estimators': [7, 10, 15],\n",
    "    'bag__max_features': [0.7, 0.8],\n",
    "}\n",
    "\n",
    "bag_tvec_gs = GridSearchCV(bag_tvec_pipe,\n",
    "                     param_grid = bag_tvec_params)\n",
    "\n",
    "bag_tvec_gs.fit(X_train, y_train)"
   ]
  },
  {
   "cell_type": "code",
   "execution_count": 131,
   "id": "9c922a2c-9aed-48fe-a1c0-cc96150b364e",
   "metadata": {},
   "outputs": [
    {
     "name": "stdout",
     "output_type": "stream",
     "text": [
      "{'bag__max_features': 0.7, 'bag__n_estimators': 15, 'tvec__max_df': 0.8, 'tvec__max_features': 7500, 'tvec__ngram_range': (1, 2), 'tvec__stop_words': 'english'}\n",
      "Train: 0.9916464564807329\n",
      "Test: 0.5290791599353797\n"
     ]
    }
   ],
   "source": [
    "print(bag_tvec_gs.best_params_)\n",
    "print('Train:', bag_tvec_gs.score(X_train, y_train))\n",
    "print('Test:', bag_tvec_gs.score(X_test, y_test))"
   ]
  },
  {
   "cell_type": "markdown",
   "id": "89337948-484d-4313-9e0c-1f8649f2bbbb",
   "metadata": {},
   "source": [
    "Yet again, bagging performs poorly. It is still very overfit and holds the current worst test score, second to the previous bagging model."
   ]
  },
  {
   "cell_type": "markdown",
   "id": "18594c2d-6f68-4b23-8811-ce30034f2398",
   "metadata": {},
   "source": [
    "#### Random Forest"
   ]
  },
  {
   "cell_type": "code",
   "execution_count": 23,
   "id": "51ccd6ae-800c-4560-9c8c-cce799ddb3b4",
   "metadata": {},
   "outputs": [
    {
     "data": {
      "text/plain": [
       "GridSearchCV(estimator=Pipeline(steps=[('tvec', TfidfVectorizer()),\n",
       "                                       ('rf',\n",
       "                                        RandomForestClassifier(random_state=42))]),\n",
       "             param_grid={'rf__max_samples': [0.4, 0.5],\n",
       "                         'rf__n_estimators': [150, 200],\n",
       "                         'tvec__max_df': [0.825, 0.85],\n",
       "                         'tvec__max_features': [7000, 7500],\n",
       "                         'tvec__ngram_range': [(1, 2), (1, 3)],\n",
       "                         'tvec__stop_words': ['english']})"
      ]
     },
     "execution_count": 23,
     "metadata": {},
     "output_type": "execute_result"
    }
   ],
   "source": [
    "rf_tvec_pipe = Pipeline([\n",
    "    ('tvec', TfidfVectorizer()),\n",
    "    ('rf', RandomForestClassifier(random_state = 42))\n",
    "])\n",
    "\n",
    "rf_tvec_params = {\n",
    "    'tvec__max_features': [7000, 7500],\n",
    "    'tvec__max_df': [0.825, 0.85],\n",
    "    'tvec__stop_words': ['english'],\n",
    "    'tvec__ngram_range': [(1,2), (1,3)],\n",
    "    'rf__n_estimators': [150, 200],\n",
    "    'rf__max_samples': [0.4, 0.5],\n",
    "}\n",
    "\n",
    "rf_tvec_gs = GridSearchCV(rf_tvec_pipe,\n",
    "                     param_grid = rf_tvec_params)\n",
    "\n",
    "rf_tvec_gs.fit(X_train, y_train)"
   ]
  },
  {
   "cell_type": "code",
   "execution_count": 132,
   "id": "d2f56ddd-82cd-42aa-8d06-57832bf0d2e6",
   "metadata": {},
   "outputs": [
    {
     "name": "stdout",
     "output_type": "stream",
     "text": [
      "{'rf__max_samples': 0.5, 'rf__n_estimators': 200, 'tvec__max_df': 0.825, 'tvec__max_features': 7000, 'tvec__ngram_range': (1, 2), 'tvec__stop_words': 'english'}\n",
      "Train: 0.9900296416060361\n",
      "Test: 0.5452342487883683\n"
     ]
    }
   ],
   "source": [
    "print(rf_tvec_gs.best_params_)\n",
    "print('Train:', rf_tvec_gs.score(X_train, y_train))\n",
    "print('Test:', rf_tvec_gs.score(X_test, y_test))"
   ]
  },
  {
   "cell_type": "markdown",
   "id": "31e9eba8-d742-4c98-b897-1e206d753fb0",
   "metadata": {},
   "source": [
    "This time Random Forest performs a bit worse with the TfidfVectorizer."
   ]
  },
  {
   "cell_type": "markdown",
   "id": "90ce89ae-3f90-4429-8b80-edb566109b7f",
   "metadata": {},
   "source": [
    "#### AdaBoost"
   ]
  },
  {
   "cell_type": "code",
   "execution_count": 25,
   "id": "3fa5fc5b-ac9c-4aa7-8a9a-e1ab37c47bad",
   "metadata": {},
   "outputs": [
    {
     "data": {
      "text/plain": [
       "GridSearchCV(estimator=Pipeline(steps=[('tvec', TfidfVectorizer()),\n",
       "                                       ('ada',\n",
       "                                        AdaBoostClassifier(random_state=42))]),\n",
       "             param_grid={'ada__n_estimators': [100, 125],\n",
       "                         'tvec__max_df': [0.8, 0.825],\n",
       "                         'tvec__max_features': [7000, 7500],\n",
       "                         'tvec__ngram_range': [(1, 2), (1, 3)],\n",
       "                         'tvec__stop_words': ['english']})"
      ]
     },
     "execution_count": 25,
     "metadata": {},
     "output_type": "execute_result"
    }
   ],
   "source": [
    "ada_tvec_pipe = Pipeline([\n",
    "    ('tvec', TfidfVectorizer()),\n",
    "    ('ada', AdaBoostClassifier(random_state = 42))\n",
    "])\n",
    "\n",
    "ada_tvec_params = {\n",
    "    'tvec__max_features': [7000, 7500],\n",
    "    'tvec__max_df': [0.8, 0.825],\n",
    "    'tvec__stop_words': ['english'],\n",
    "    'tvec__ngram_range': [(1,2), (1,3)],\n",
    "    'ada__n_estimators': [100, 125]\n",
    "}\n",
    "\n",
    "ada_tvec_gs = GridSearchCV(ada_tvec_pipe,\n",
    "                     param_grid = ada_tvec_params)\n",
    "\n",
    "ada_tvec_gs.fit(X_train, y_train)"
   ]
  },
  {
   "cell_type": "code",
   "execution_count": 133,
   "id": "fb688fdd-dfe2-49af-87ff-68338eed545d",
   "metadata": {},
   "outputs": [
    {
     "name": "stdout",
     "output_type": "stream",
     "text": [
      "{'ada__n_estimators': 125, 'tvec__max_df': 0.8, 'tvec__max_features': 7000, 'tvec__ngram_range': (1, 2), 'tvec__stop_words': 'english'}\n",
      "Train: 0.7178658043654002\n",
      "Test: 0.5460420032310178\n"
     ]
    }
   ],
   "source": [
    "print(ada_tvec_gs.best_params_)\n",
    "print('Train:', ada_tvec_gs.score(X_train, y_train))\n",
    "print('Test:', ada_tvec_gs.score(X_test, y_test))"
   ]
  },
  {
   "cell_type": "markdown",
   "id": "298b382d-f495-47ed-a466-7ac8336ab97e",
   "metadata": {},
   "source": [
    "AdaBoost again produces one of the least overfit models. The score is quite respectable, but at this point we have seen enough stronger scores."
   ]
  },
  {
   "cell_type": "markdown",
   "id": "8ab73248-bae6-4800-aa60-9ac8fde97722",
   "metadata": {},
   "source": [
    "#### Gradient Boosting"
   ]
  },
  {
   "cell_type": "code",
   "execution_count": 27,
   "id": "1b22252a-c73a-41c6-b38c-345c6da6dcbc",
   "metadata": {},
   "outputs": [
    {
     "data": {
      "text/plain": [
       "GridSearchCV(estimator=Pipeline(steps=[('tvec', TfidfVectorizer()),\n",
       "                                       ('gb',\n",
       "                                        GradientBoostingClassifier(random_state=42))]),\n",
       "             param_grid={'gb__max_depth': [4, 5],\n",
       "                         'gb__n_estimators': [100, 125],\n",
       "                         'gb__subsample': [0.4, 0.5],\n",
       "                         'tvec__max_df': [0.8, 0.85],\n",
       "                         'tvec__max_features': [7000, 7500],\n",
       "                         'tvec__ngram_range': [(1, 2), (1, 3)],\n",
       "                         'tvec__stop_words': ['english']})"
      ]
     },
     "execution_count": 27,
     "metadata": {},
     "output_type": "execute_result"
    }
   ],
   "source": [
    "gb_tvec_pipe = Pipeline([\n",
    "    ('tvec', TfidfVectorizer()),\n",
    "    ('gb', GradientBoostingClassifier(random_state = 42))\n",
    "])\n",
    "\n",
    "gb_tvec_params = {\n",
    "    'tvec__max_features': [7000, 7500],\n",
    "    'tvec__max_df': [0.8, 0.85],\n",
    "    'tvec__stop_words': ['english'],\n",
    "    'tvec__ngram_range': [(1,2), (1,3)],\n",
    "    'gb__n_estimators': [100, 125],\n",
    "    'gb__subsample': [0.4, 0.5],\n",
    "    'gb__max_depth': [4, 5]\n",
    "}\n",
    "\n",
    "gb_tvec_gs = GridSearchCV(gb_tvec_pipe,\n",
    "                     param_grid = gb_tvec_params)\n",
    "\n",
    "gb_tvec_gs.fit(X_train, y_train)"
   ]
  },
  {
   "cell_type": "code",
   "execution_count": 134,
   "id": "8b6afabf-e192-4237-a145-ad449cc469ae",
   "metadata": {},
   "outputs": [
    {
     "name": "stdout",
     "output_type": "stream",
     "text": [
      "{'gb__max_depth': 4, 'gb__n_estimators': 125, 'gb__subsample': 0.5, 'tvec__max_df': 0.8, 'tvec__max_features': 7500, 'tvec__ngram_range': (1, 3), 'tvec__stop_words': 'english'}\n",
      "Train: 0.8229587712206953\n",
      "Test: 0.5323101777059773\n"
     ]
    }
   ],
   "source": [
    "print(gb_tvec_gs.best_params_)\n",
    "print('Train:', gb_tvec_gs.score(X_train, y_train))\n",
    "print('Test:', gb_tvec_gs.score(X_test, y_test))"
   ]
  },
  {
   "cell_type": "markdown",
   "id": "c742a308-26a2-423b-abd3-83b8898ec47a",
   "metadata": {},
   "source": [
    "Like the AdaBoost model, Gradient Boosting with the TfidfVectorizer performed worse this time. We could try to do more hyperparameter tuning, but Gradient Boosting has more choices than others and seems to take a bit more time to fit. We should only come back to this if we have spare time and we are interested in even unlikely improvements."
   ]
  },
  {
   "cell_type": "markdown",
   "id": "eafdc87a-fbde-4aad-98f7-27b0ee8386c8",
   "metadata": {},
   "source": [
    "#### Multinomial Naive Bayes"
   ]
  },
  {
   "cell_type": "code",
   "execution_count": 29,
   "id": "e2e0169b-431c-41c2-89ff-88425bd58977",
   "metadata": {},
   "outputs": [
    {
     "data": {
      "text/plain": [
       "GridSearchCV(estimator=Pipeline(steps=[('tvec', TfidfVectorizer()),\n",
       "                                       ('nb', MultinomialNB())]),\n",
       "             param_grid={'tvec__max_df': [0.8, 0.825, 0.85],\n",
       "                         'tvec__max_features': [7250, 7500, 7750],\n",
       "                         'tvec__ngram_range': [(1, 2), (1, 3)],\n",
       "                         'tvec__stop_words': ['english']})"
      ]
     },
     "execution_count": 29,
     "metadata": {},
     "output_type": "execute_result"
    }
   ],
   "source": [
    "nb_tvec_pipe = Pipeline([\n",
    "    ('tvec', TfidfVectorizer()),\n",
    "    ('nb', MultinomialNB())\n",
    "])\n",
    "\n",
    "nb_tvec_params = {\n",
    "    'tvec__max_features': [7250, 7500, 7750],\n",
    "    'tvec__max_df': [0.8, 0.825, 0.85,],\n",
    "    'tvec__stop_words': ['english'],\n",
    "    'tvec__ngram_range': [(1,2), (1,3)],\n",
    "}\n",
    "\n",
    "nb_tvec_gs = GridSearchCV(nb_tvec_pipe,\n",
    "                     param_grid = nb_tvec_params)\n",
    "\n",
    "nb_tvec_gs.fit(X_train, y_train)"
   ]
  },
  {
   "cell_type": "code",
   "execution_count": 135,
   "id": "314c75e5-2fb3-4f57-ac34-388b533057a8",
   "metadata": {},
   "outputs": [
    {
     "name": "stdout",
     "output_type": "stream",
     "text": [
      "{'tvec__max_df': 0.8, 'tvec__max_features': 7750, 'tvec__ngram_range': (1, 2), 'tvec__stop_words': 'english'}\n",
      "Train: 0.8609539207760711\n",
      "Test: 0.574313408723748\n"
     ]
    }
   ],
   "source": [
    "print(nb_tvec_gs.best_params_)\n",
    "print('Train:', nb_tvec_gs.score(X_train, y_train))\n",
    "print('Test:', nb_tvec_gs.score(X_test, y_test))"
   ]
  },
  {
   "cell_type": "markdown",
   "id": "11af194a-839f-4749-a568-3db2a419426e",
   "metadata": {},
   "source": [
    "This has been our best model so far by a decent amount. It is the strongest test score and is one of less overfit models."
   ]
  },
  {
   "cell_type": "markdown",
   "id": "0c31fe9f-92ec-4209-aa91-b223f37d4722",
   "metadata": {},
   "source": [
    "## Voting Classifier"
   ]
  },
  {
   "cell_type": "markdown",
   "id": "b66dffea-5958-4a1a-9718-87097d8a5d91",
   "metadata": {},
   "source": [
    "We have two approaches to combining the results of our strongest models into a single classification model: `VotingClassifer` and `StackingClassifier`. Below, we fit a voting classifier on our best performing models:\n",
    "\n",
    "with `CountVectorizer`:\n",
    "- random forest\n",
    "- gradient boosting\n",
    "- multinomial naive Bayes\n",
    "\n",
    "with `TfidfVectorizer`:\n",
    "- logistic regression\n",
    "- multinomial naive Bayes\n",
    "\n",
    "There is some slight setup we must do before we can fit a voting classifier. To simplify our steps, we create several lists of pipe names, pipes, and the models we fit above."
   ]
  },
  {
   "cell_type": "code",
   "execution_count": 72,
   "id": "b76450e9-dd00-41a2-871f-7311c60ea1c1",
   "metadata": {},
   "outputs": [],
   "source": [
    "# names for pipes for VotingClassifier\n",
    "top_pipe_names = ['rfc', 'gbc', 'nbc', 'logt','nbt']\n",
    "\n",
    "# pipes for VotingClassifier\n",
    "top_pipes = [rf_cvec_pipe, gb_cvec_pipe, nb_cvec_pipe,\n",
    "         log_tvec_pipe, nb_tvec_pipe]\n",
    "\n",
    "# pregridsearched models with hyperparameters tuned\n",
    "top_models = [rf_cvec_gs, gb_cvec_gs, nb_cvec_gs,\n",
    "                log_tvec_gs, nb_tvec_gs]"
   ]
  },
  {
   "cell_type": "markdown",
   "id": "28fac133-7072-4732-b41f-36c3a0a79fcb",
   "metadata": {},
   "source": [
    "To take advantage of the thorough hyperparameter tuning we did earlier, we loop over our models insert the best parameters into the parameters dictionary for our `VotingClassifier`."
   ]
  },
  {
   "cell_type": "code",
   "execution_count": 76,
   "id": "e146db02-0233-4807-bb8d-dc24d7b9cf3b",
   "metadata": {},
   "outputs": [],
   "source": [
    "# aliases and pipes for voting classifers\n",
    "top_pipe_tuples = list(zip(top_pipe_names, top_pipes))\n",
    "voters = VotingClassifier(top_pipe_tuples)\n",
    "\n",
    "# voting model paramters\n",
    "voter_params = {}\n",
    "\n",
    "# collect hyperparameters from gridsearch fits for voting classifier\n",
    "for i, model in enumerate(top_models):\n",
    "    for param_name, param_val in model.best_params_.items():\n",
    "        # make sure hyperparameter names are of the form\n",
    "        # (pipe name)__(transformer or estimatorname)__(parameter name)\n",
    "        voter_param_name = top_pipe_names[i] + '__' + param_name\n",
    "        voter_params[voter_param_name] = [param_val]"
   ]
  },
  {
   "cell_type": "code",
   "execution_count": 77,
   "id": "796bf28c-83af-4e6f-86dd-d358f1dd71f0",
   "metadata": {},
   "outputs": [
    {
     "data": {
      "text/plain": [
       "GridSearchCV(estimator=VotingClassifier(estimators=[('rfc',\n",
       "                                                     Pipeline(steps=[('cvec',\n",
       "                                                                      CountVectorizer()),\n",
       "                                                                     ('rf',\n",
       "                                                                      RandomForestClassifier(random_state=42))])),\n",
       "                                                    ('gbc',\n",
       "                                                     Pipeline(steps=[('cvec',\n",
       "                                                                      CountVectorizer()),\n",
       "                                                                     ('gb',\n",
       "                                                                      GradientBoostingClassifier(random_state=42))])),\n",
       "                                                    ('nbc',\n",
       "                                                     Pipeline(steps=[('cvec',\n",
       "                                                                      CountVectorizer()),\n",
       "                                                                     ('nb',\n",
       "                                                                      MultinomialNB())])),\n",
       "                                                    ('logt',\n",
       "                                                     Pipeline(s...\n",
       "                         'nbc__cvec__stop_words': ['english'],\n",
       "                         'nbt__tvec__max_df': [0.8],\n",
       "                         'nbt__tvec__max_features': [7750],\n",
       "                         'nbt__tvec__ngram_range': [(1, 2)],\n",
       "                         'nbt__tvec__stop_words': ['english'],\n",
       "                         'rfc__cvec__max_df': [0.8],\n",
       "                         'rfc__cvec__max_features': [7000],\n",
       "                         'rfc__cvec__ngram_range': [(1, 2)],\n",
       "                         'rfc__cvec__stop_words': ['english'],\n",
       "                         'rfc__rf__max_samples': [0.6],\n",
       "                         'rfc__rf__n_estimators': [200]})"
      ]
     },
     "execution_count": 77,
     "metadata": {},
     "output_type": "execute_result"
    }
   ],
   "source": [
    "# fit voting classifier over best found parameters\n",
    "vote_gs = GridSearchCV(voters, param_grid = voter_params)\n",
    "vote_gs.fit(X_train, y_train)"
   ]
  },
  {
   "cell_type": "code",
   "execution_count": 137,
   "id": "a1e9d521-e601-468f-9a31-3ef7cfa8cfe9",
   "metadata": {},
   "outputs": [
    {
     "name": "stdout",
     "output_type": "stream",
     "text": [
      "Train: 0.8992185394772299\n",
      "Test: 0.5726978998384491\n"
     ]
    }
   ],
   "source": [
    "print('Train:', vote_gs.score(X_train, y_train))\n",
    "print('Test:', vote_gs.score(X_test, y_test))"
   ]
  },
  {
   "cell_type": "markdown",
   "id": "db0e9935-818d-43a4-8768-553eee5de420",
   "metadata": {},
   "source": [
    "Our results from multinomial naive Bayes slightly outperforms our voting classifier. So far, I would still use this voting classifier over the multinomial naive Bayes model since it seems more robust, averaging over several of our best models."
   ]
  },
  {
   "cell_type": "markdown",
   "id": "9468f23d-5560-4922-8868-9bb25f5c1718",
   "metadata": {},
   "source": [
    "## Stacking - Our Production Model"
   ]
  },
  {
   "cell_type": "markdown",
   "id": "cd4d40a2-4726-4582-94b5-f96c9152c1a4",
   "metadata": {},
   "source": [
    "For our final model, we use `StackingClassifiers` over the same models that we used for `VotingClassifier`. Unfortunately, it is not obvious how we can incorporate our hyperparameters into this model, or if it would even be a good idea to do so. Thus we are fitting our stacking model over the base models that performed best."
   ]
  },
  {
   "cell_type": "code",
   "execution_count": 79,
   "id": "5fcee550-01ce-4457-93bb-f046da716e4c",
   "metadata": {},
   "outputs": [
    {
     "data": {
      "text/plain": [
       "StackingClassifier(estimators=[('rfc',\n",
       "                                Pipeline(steps=[('cvec', CountVectorizer()),\n",
       "                                                ('rf',\n",
       "                                                 RandomForestClassifier(random_state=42))])),\n",
       "                               ('gbc',\n",
       "                                Pipeline(steps=[('cvec', CountVectorizer()),\n",
       "                                                ('gb',\n",
       "                                                 GradientBoostingClassifier(random_state=42))])),\n",
       "                               ('nbc',\n",
       "                                Pipeline(steps=[('cvec', CountVectorizer()),\n",
       "                                                ('nb', MultinomialNB())])),\n",
       "                               ('logt',\n",
       "                                Pipeline(steps=[('tvec', TfidfVectorizer()),\n",
       "                                                ('lr',\n",
       "                                                 LogisticRegression(random_state=42))])),\n",
       "                               ('nbt',\n",
       "                                Pipeline(steps=[('tvec', TfidfVectorizer()),\n",
       "                                                ('nb', MultinomialNB())]))],\n",
       "                   final_estimator=LogisticRegression(random_state=42))"
      ]
     },
     "execution_count": 79,
     "metadata": {},
     "output_type": "execute_result"
    }
   ],
   "source": [
    "# pipe_tuples are already in the form for stacking\n",
    "# due to setup for VotingClassifier\n",
    "stack = StackingClassifier(estimators = pipe_tuples,\n",
    "                                 final_estimator = LogisticRegression(random_state = 42))\n",
    "\n",
    "stack.fit(X_train, y_train)"
   ]
  },
  {
   "cell_type": "code",
   "execution_count": 136,
   "id": "d5655db2-8fa4-4ac2-b5d3-6d016265e274",
   "metadata": {},
   "outputs": [
    {
     "name": "stdout",
     "output_type": "stream",
     "text": [
      "Train: 0.9832929129614659\n",
      "Test: 0.592891760904685\n"
     ]
    }
   ],
   "source": [
    "print('Train:', stack.score(X_train, y_train))\n",
    "print('Test:', stack.score(X_test, y_test))"
   ]
  },
  {
   "cell_type": "markdown",
   "id": "f6d9ec01-a537-4601-a4f2-eac1db414f67",
   "metadata": {},
   "source": [
    "Like most of the other ensemble models, this model is very overfit. It still outperformed all of our other models by a fairly wide margin. Each model fought for every percentage of predictive power, most getting no more than 5% more than the baseline accuracy score. This stacking model's accuracy exceeded our previous best accuracy by nearly 2%. This is too substantial to ignore and is a clear choice for our production model.\n",
    "\n",
    "Although the level of overfitting makes me someone skepticle of the validity of the test accuracy score, the value is large enough that I believe it is still the strongest model even if performs slightly worse."
   ]
  },
  {
   "cell_type": "markdown",
   "id": "173797e6-aefd-4b74-be27-c15f39414016",
   "metadata": {},
   "source": [
    "---\n",
    "\n",
    "## Summarizing the Results"
   ]
  },
  {
   "cell_type": "markdown",
   "id": "0f7a2102-d42e-4d9f-a75e-10d22f5155d2",
   "metadata": {},
   "source": [
    "To really compare all of the results we have collected so far, let us create a summative visual. Below we create several lists to help us create this visual."
   ]
  },
  {
   "cell_type": "code",
   "execution_count": 98,
   "id": "d4ef0ff3-da37-428e-b476-653ecc4c08ff",
   "metadata": {},
   "outputs": [],
   "source": [
    "# summative bar chart on model performances\n",
    "# bar labels\n",
    "model_names = ['Log', 'Bag', 'R Forest', 'Ada', 'Gradient', 'Mult NB', 'Vote', 'Stacking']\n",
    "\n",
    "# pregridsearched models with hyperparameters tuned\n",
    "all_models = [log_cvec_gs, bag_cvec_gs, rf_cvec_gs, ada_cvec_gs, gb_cvec_gs, nb_cvec_gs,\n",
    "                log_tvec_gs, bag_tvec_gs, rf_tvec_gs, ada_tvec_gs, gb_tvec_gs, nb_tvec_gs,\n",
    "                vote_gs, stack]\n",
    "\n",
    "# accuracy scores for each classification model\n",
    "all_scores = [model.score(X_test, y_test) for model in all_models]\n",
    "\n",
    "# scores of unused models\n",
    "unused_scores = [0 if i in [2,4,5,6,11,13] else all_scores[i] for i in range(len(all_scores))]\n",
    "\n",
    "# scores of models used for stacking\n",
    "level_1_scores = [all_scores[i] for i in [2,4,5,6,11]]"
   ]
  },
  {
   "cell_type": "code",
   "execution_count": 121,
   "id": "7a83e909-75d8-4953-801e-39044555ed14",
   "metadata": {},
   "outputs": [
    {
     "data": {
      "image/png": "[encoded data removed]",
      "text/plain": [
       "<Figure size 1296x504 with 1 Axes>"
      ]
     },
     "metadata": {
      "needs_background": "light"
     },
     "output_type": "display_data"
    }
   ],
   "source": [
    "plt.figure(figsize = (18,7))\n",
    "\n",
    "# plot title\n",
    "plt.text(s = 'Stacking Performed Best', size = 30, x = 5, y = 0.615)\n",
    "\n",
    "# generate x position of bars and \n",
    "# create model names as x labels for bars\n",
    "x_vals = list(range(1,7)) + list(range(8,14)) + [15,16]\n",
    "x_labels = 2*model_names[:6] + model_names[-2:]\n",
    "plt.xticks(x_vals, labels = x_labels, rotation = 60, size = 15)\n",
    "plt.yticks([0.5, 0.525, 0.55, 0.575, 0.6],size = 15)\n",
    "\n",
    "# plot the bars\n",
    "plt.bar(16, all_scores[-1], width = 0.6, color = 'tab:blue', label = 'Production')\n",
    "plt.bar([3,5,6,8,13], level_1_scores, width = 0.6, color = 'goldenrod', label = 'For Stacking')\n",
    "plt.bar(x_vals, unused_scores, width = 0.6, color = 'tab:grey', label = 'Unused')\n",
    "\n",
    "# shape axes and create axes labels\n",
    "plt.xlim([0,17])\n",
    "plt.ylim([0.48,0.6])\n",
    "#plt.text(s = 'Models', size = 25, x= 8, y = 0.445)\n",
    "plt.text(s = 'Test Accuracy', size = 25, rotation = 90, x = -1.6, y = 0.515)\n",
    "plt.tick_params(axis = 'x', bottom = False)\n",
    "\n",
    "# baseline accuracy\n",
    "plt.axhline(0.5, color = 'red')\n",
    "\n",
    "# plot subdivisions\n",
    "plt.axvline(7, color = 'black')\n",
    "plt.axvline(14, color = 'black')\n",
    "\n",
    "# subdivision titles\n",
    "plt.text(s = 'CountVectorizer', size = 25, x= 1.75, y = 0.6025)\n",
    "plt.text(s = 'TfidfVectorizer', size = 25, x= 8.75, y = 0.6025)\n",
    "plt.text(s = 'Both', size = 25, x= 14.85, y = 0.6025)\n",
    "\n",
    "# highlight runneru-ups\n",
    "#runner_ups = [model_scores[i] for i in [2,6,11,12]]\n",
    "#plt.bar([3,8,13,15], runner_ups, width = 0.6, color = 'tab:blue', alpha = 0.3)\n",
    "\n",
    "\n",
    "# grid\n",
    "plt.axhline(0.525, color = 'gray', alpha = 0.5, linewidth = 0.5)\n",
    "plt.axhline(0.55, color = 'gray', alpha = 0.5, linewidth = 0.5)\n",
    "plt.axhline(0.575, color = 'gray', alpha = 0.5, linewidth = 0.5)\n",
    "\n",
    "plt.legend(fontsize = 'x-large', frameon = False);\n",
    "\n",
    "#plt.tight_layout()\n",
    "#plt.savefig('images/iteration_scores.png');"
   ]
  },
  {
   "cell_type": "markdown",
   "id": "80fc8bbe-c321-426c-8d5c-1328a4701923",
   "metadata": {},
   "source": [
    "As mentioned before, our Stacking model beats our other models but a signifcant margin. The fact that it incorporates four different types of models and two different string vectorizers makes me feel a bit more confident in it than other individual models. This is our production model."
   ]
  },
  {
   "cell_type": "markdown",
   "id": "7e3ce7f2-a286-4d68-ab71-597cf5d3641b",
   "metadata": {},
   "source": [
    "## Modeling On Non Text Data"
   ]
  },
  {
   "cell_type": "markdown",
   "id": "448168fc-c6d9-464c-a32e-2ee7b4f140ea",
   "metadata": {},
   "source": [
    "Before we conclude our project, we briefly explore using the non text data we collected to predict subreddits. Namely, we use the time of post column `created_utc`, the sentiment columns `sent_pos`, `sent_neg`, and `sent_compound`, and last the word count column `word_count`."
   ]
  },
  {
   "cell_type": "code",
   "execution_count": 57,
   "id": "f53506dc-238e-47ed-9ef6-13d36b9219bc",
   "metadata": {},
   "outputs": [],
   "source": [
    "# nt for Non Text\n",
    "X_nt = all_posts[['created_utc', 'sent_pos', 'sent_neg', 'sent_compound', 'word_count']]\n",
    "y_nt = all_posts['subreddit']"
   ]
  },
  {
   "cell_type": "code",
   "execution_count": 58,
   "id": "e6d24afc-ab7a-48ad-a950-d54642a48a91",
   "metadata": {},
   "outputs": [],
   "source": [
    "X_train_nt, X_test_nt, y_train_nt, y_test_nt = train_test_split(X_nt, y_nt, random_state = 42, stratify = y_nt)"
   ]
  },
  {
   "cell_type": "markdown",
   "id": "6e2cb7bd-a232-4ead-9f57-c67385f066bd",
   "metadata": {},
   "source": [
    "For the sake of simplicity, let us fit a logistic regression and a random forest on our data."
   ]
  },
  {
   "cell_type": "code",
   "execution_count": 59,
   "id": "117cece4-cbae-45f9-b6ae-8bb61df763c5",
   "metadata": {},
   "outputs": [
    {
     "data": {
      "text/plain": [
       "LogisticRegression()"
      ]
     },
     "execution_count": 59,
     "metadata": {},
     "output_type": "execute_result"
    }
   ],
   "source": [
    "lr = LogisticRegression()\n",
    "lr.fit(X_train_nt, y_train_nt)"
   ]
  },
  {
   "cell_type": "code",
   "execution_count": 60,
   "id": "0ab8543c-ffca-4353-b7ad-75a32980a1d2",
   "metadata": {},
   "outputs": [
    {
     "name": "stdout",
     "output_type": "stream",
     "text": [
      "0.5036378334680679\n",
      "0.5032310177705978\n"
     ]
    }
   ],
   "source": [
    "print(lr.score(X_train_nt, y_train_nt))\n",
    "print(lr.score(X_test_nt, y_test_nt))"
   ]
  },
  {
   "cell_type": "markdown",
   "id": "f8f8fa15-8259-4ca4-a034-ed9cd81f5bd8",
   "metadata": {},
   "source": [
    "Quite an unimpressive score! However, when we fit a random forest we obtain a score that massively outshines all of our previous work."
   ]
  },
  {
   "cell_type": "code",
   "execution_count": 61,
   "id": "426c5c04-129f-4fda-ae10-1b77f8c79337",
   "metadata": {},
   "outputs": [
    {
     "data": {
      "text/plain": [
       "RandomForestClassifier()"
      ]
     },
     "execution_count": 61,
     "metadata": {},
     "output_type": "execute_result"
    }
   ],
   "source": [
    "rf = RandomForestClassifier()\n",
    "rf.fit(X_train_nt, y_train_nt)"
   ]
  },
  {
   "cell_type": "code",
   "execution_count": 62,
   "id": "7770ff8b-fdd0-4f19-a182-2541dcfdae12",
   "metadata": {},
   "outputs": [
    {
     "name": "stdout",
     "output_type": "stream",
     "text": [
      "0.9975747776879548\n",
      "0.8368336025848142\n"
     ]
    }
   ],
   "source": [
    "print(rf.score(X_train_nt, y_train_nt))\n",
    "print(rf.score(X_test_nt, y_test_nt))"
   ]
  },
  {
   "cell_type": "code",
   "execution_count": 63,
   "id": "43681794-c92f-4097-bf3a-446d194bebf9",
   "metadata": {},
   "outputs": [
    {
     "data": {
      "text/plain": [
       "created_utc      0.655885\n",
       "sent_pos         0.087411\n",
       "sent_neg         0.059890\n",
       "sent_compound    0.096531\n",
       "word_count       0.100284\n",
       "dtype: float64"
      ]
     },
     "execution_count": 63,
     "metadata": {},
     "output_type": "execute_result"
    }
   ],
   "source": [
    "pd.Series(rf.feature_importances_, index = X_nt.columns)"
   ]
  },
  {
   "cell_type": "markdown",
   "id": "ea4cb9ed-7087-4cb4-96c6-ef67f1b328a5",
   "metadata": {},
   "source": [
    "Impressive!\n",
    "\n",
    "Suspiciously, the model's success is coming from `created_utc`. It may be the case that when we pulled our data, we had to dig deeper into one subreddit. If this is the case, the model is simply noticing information about how the data was scraped.\n",
    "\n",
    "Let us convert our UTC time to a datetime and reimplement the model using the time of day in which the post was created. If the model remains successful, this will be a great thing to notice. If not, it will be nice to rule it out."
   ]
  },
  {
   "cell_type": "code",
   "execution_count": 45,
   "id": "bc5c3879-66ab-4bfa-808f-e575d27d6708",
   "metadata": {},
   "outputs": [],
   "source": [
    "all_posts['post_hour'] = pd.to_datetime(all_posts['created_utc'], unit = 's').apply(lambda x: x.time().hour)"
   ]
  },
  {
   "cell_type": "code",
   "execution_count": 46,
   "id": "3f744561-a8d0-4045-bbea-f68884568f44",
   "metadata": {},
   "outputs": [],
   "source": [
    "X_nt = all_posts[['post_hour', 'sent_pos', 'sent_neg', 'sent_compound', 'word_count']]\n",
    "y_nt = all_posts['subreddit']"
   ]
  },
  {
   "cell_type": "code",
   "execution_count": 47,
   "id": "bffb2ee9-8da7-4bee-80ab-cfc7538c21ce",
   "metadata": {},
   "outputs": [],
   "source": [
    "X_train_nt, X_test_nt, y_train_nt, y_test_nt = train_test_split(X_nt, y_nt, random_state = 42, stratify = y_nt)"
   ]
  },
  {
   "cell_type": "code",
   "execution_count": 48,
   "id": "cda515a0-cc4c-43c6-b050-8c1489626bba",
   "metadata": {},
   "outputs": [
    {
     "data": {
      "text/plain": [
       "LogisticRegression()"
      ]
     },
     "execution_count": 48,
     "metadata": {},
     "output_type": "execute_result"
    }
   ],
   "source": [
    "lr = LogisticRegression()\n",
    "lr.fit(X_train_nt, y_train_nt)"
   ]
  },
  {
   "cell_type": "code",
   "execution_count": 49,
   "id": "a67bf8cd-c837-4980-aedc-6bac00e75c4e",
   "metadata": {},
   "outputs": [
    {
     "name": "stdout",
     "output_type": "stream",
     "text": [
      "0.535704661816222\n",
      "0.5331179321486268\n"
     ]
    }
   ],
   "source": [
    "print(lr.score(X_train_nt, y_train_nt))\n",
    "print(lr.score(X_test_nt, y_test_nt))"
   ]
  },
  {
   "cell_type": "markdown",
   "id": "ddd77f1a-4ac7-4dbb-aba9-d1c4ddf16de5",
   "metadata": {},
   "source": [
    "Interestingly, our logistic regression scores improve a fair bit and become somewhat comparable with some of the worse models we fit earlier."
   ]
  },
  {
   "cell_type": "code",
   "execution_count": 50,
   "id": "f0265d75-d958-487e-969a-6049800e5de1",
   "metadata": {},
   "outputs": [
    {
     "data": {
      "text/plain": [
       "RandomForestClassifier()"
      ]
     },
     "execution_count": 50,
     "metadata": {},
     "output_type": "execute_result"
    }
   ],
   "source": [
    "rf = RandomForestClassifier()\n",
    "rf.fit(X_train_nt, y_train_nt)"
   ]
  },
  {
   "cell_type": "code",
   "execution_count": 51,
   "id": "57f93abd-ae13-463f-a3c4-ad4455f64118",
   "metadata": {},
   "outputs": [
    {
     "name": "stdout",
     "output_type": "stream",
     "text": [
      "0.9897601724602533\n",
      "0.4991922455573506\n"
     ]
    }
   ],
   "source": [
    "print(rf.score(X_train_nt, y_train_nt))\n",
    "print(rf.score(X_test_nt, y_test_nt))"
   ]
  },
  {
   "cell_type": "markdown",
   "id": "8d8a8be0-eab1-425e-955a-bc8bccf7672e",
   "metadata": {},
   "source": [
    "And as expected, our random forest score takes a massive hit along with the feature importance of the time related column."
   ]
  },
  {
   "cell_type": "code",
   "execution_count": 52,
   "id": "828552c1-00f8-46c5-9ab7-015049a264b4",
   "metadata": {},
   "outputs": [
    {
     "data": {
      "text/plain": [
       "post_hour        0.161817\n",
       "sent_pos         0.208923\n",
       "sent_neg         0.141876\n",
       "sent_compound    0.239929\n",
       "word_count       0.247455\n",
       "dtype: float64"
      ]
     },
     "execution_count": 52,
     "metadata": {},
     "output_type": "execute_result"
    }
   ],
   "source": [
    "pd.Series(rf.feature_importances_, index = X_nt.columns)"
   ]
  },
  {
   "cell_type": "markdown",
   "id": "c03222bf-c4c1-4b46-ba6e-af9835dbc4f9",
   "metadata": {},
   "source": [
    "As one last example to cement our production model, we fit a KNN model on this non-text data."
   ]
  },
  {
   "cell_type": "code",
   "execution_count": 53,
   "id": "f11ee8d9-ebd3-4df2-b51b-534655a647c8",
   "metadata": {},
   "outputs": [
    {
     "data": {
      "text/plain": [
       "GridSearchCV(estimator=Pipeline(steps=[('ss', StandardScaler()),\n",
       "                                       ('knn', KNeighborsClassifier())]),\n",
       "             param_grid={'knn__n_neighbors': [5, 10, 15]})"
      ]
     },
     "execution_count": 53,
     "metadata": {},
     "output_type": "execute_result"
    }
   ],
   "source": [
    "knn_pipe = Pipeline([\n",
    "    ('ss', StandardScaler()),\n",
    "    ('knn', KNeighborsClassifier())\n",
    "])\n",
    "\n",
    "knn_params = {\n",
    "    'knn__n_neighbors': [5,10,15]\n",
    "}\n",
    "\n",
    "knn_gs = GridSearchCV(knn_pipe, param_grid = knn_params)\n",
    "\n",
    "knn_gs.fit(X_train_nt, y_train_nt)"
   ]
  },
  {
   "cell_type": "code",
   "execution_count": 54,
   "id": "b1ffa733-ccb9-4f3f-af0c-5ad5a5d8d257",
   "metadata": {},
   "outputs": [
    {
     "name": "stdout",
     "output_type": "stream",
     "text": [
      "0.6108865534896254\n",
      "0.5282714054927302\n"
     ]
    }
   ],
   "source": [
    "print(knn_gs.score(X_train_nt, y_train_nt))\n",
    "print(knn_gs.score(X_test_nt, y_test_nt))"
   ]
  },
  {
   "cell_type": "markdown",
   "id": "d4113263-4240-412c-9467-b974b65a2d27",
   "metadata": {},
   "source": [
    "After a few basic attempts to create models on the non text data, the scores do not seem to be any better than our lowest performing text based models."
   ]
  },
  {
   "cell_type": "markdown",
   "id": "57d76e64-f1b0-49d4-b672-225d121b5cbc",
   "metadata": {},
   "source": [
    "# Conclusions"
   ]
  },
  {
   "cell_type": "markdown",
   "id": "48890a7c-3cf7-4473-91ec-c85174e6a548",
   "metadata": {},
   "source": [
    "Our goals for this project were to:\n",
    "- explore the text data from posts on r/Seattle and r/SeattleWA\n",
    "- try to identify notable ways in how these two subreddits differ\n",
    "- and build classification models to try and predict if a post is more likely to come from r/Seattle or r/SeattleWA\n",
    "\n",
    "We were able to analyze some characteristics within the r/SeattleWA subreddit that distinguished it from r/Seattle. The main takeaway was that r/SeattleWA showed a lot of reason to believe its users are generally more Conservative than the users on r/Seattle. This can be seen by the significant difference in frequency of the following words, all of which appeared much more frequently in r/SeattleWA:\n",
    "- mask, tax, drug, clean, homeless, report, crime, law, wear, gun\n",
    "\n",
    "With r/Seattle, the most common words appear to be more general suggesting the subreddit consists of more general residents of Seattle.\n",
    "- board, food, game, event, dog, line, blue\n",
    "\n",
    "In terms of our production model, we tried numerous models and the one that performed the strongest was a StackingClassifier whose first level estimators consisted of a:\n",
    "- random forest with CountVectorizer\n",
    "- Gradient Boosting with CountVectorizer\n",
    "- multinomial naive Bayes with CountVectorizer\n",
    "- logistic regression with TfidfVectorizer\n",
    "- multinomial naive Bayes with TfidfVectorizer\n",
    "\n",
    "We stated that our original goal was an accuracy score exceeding 60%. Unfortunately, our production model slightly missed the target with an accuracy score of 59%. Although we were able to identify a rough distinction between the two subreddits, there are many similarities between them. It was not surprising that our models had some difficulty predicting between the two, especially with a using bag-of-words approach like CountVectorizer and TfidfVectorizer.\n",
    "\n",
    "For future explorations, I would recommend analyzing words strictly in one subreddit and not the other. In this project, we looked at the top 2,000 words of each subredit and examined the words in common. This completely ignored any words roughly 700 words (350 from each subreddit). Most of these words would likely be uninteresting, but there may be a few illustrative gems.\n",
    "\n",
    "Other topics we did not thoroughly examine were bi-grams and tri-grams. I looked into these very lightly, but not of the work was led to anything deep enough to include in the project. There may be some insights to draw here."
   ]
  }
 ],
 "metadata": {
  "kernelspec": {
   "display_name": "Python 3 (ipykernel)",
   "language": "python",
   "name": "python3"
  },
  "language_info": {
   "codemirror_mode": {
    "name": "ipython",
    "version": 3
   },
   "file_extension": ".py",
   "mimetype": "text/x-python",
   "name": "python",
   "nbconvert_exporter": "python",
   "pygments_lexer": "ipython3",
   "version": "3.9.12"
  }
 },
 "nbformat": 4,
 "nbformat_minor": 5
}
