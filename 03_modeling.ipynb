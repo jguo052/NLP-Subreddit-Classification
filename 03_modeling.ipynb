{
 "cells": [
  {
   "cell_type": "code",
   "execution_count": 32,
   "id": "b3929971-9470-45b0-9538-331fe140f439",
   "metadata": {},
   "outputs": [],
   "source": [
    "# rerun models with random state\n",
    "# rerun gradient boost with tvec (slightly edit parameters)"
   ]
  },
  {
   "cell_type": "markdown",
   "id": "9ab34c03-27d6-4709-84b8-ca815eb42603",
   "metadata": {},
   "source": [
    "# Modeling"
   ]
  },
  {
   "cell_type": "markdown",
   "id": "b3b371dc-4221-47b8-94dc-adee19c244b0",
   "metadata": {},
   "source": [
    "## Imports"
   ]
  },
  {
   "cell_type": "code",
   "execution_count": 233,
   "id": "2a746533-b640-4c61-98fe-2c6d889eff0b",
   "metadata": {},
   "outputs": [],
   "source": [
    "# basic imports\n",
    "import pandas as pd\n",
    "import numpy as np\n",
    "import matplotlib.pyplot as plt\n",
    "import seaborn as sns\n",
    "import plotly.express as px\n",
    "import datetime as dt\n",
    "\n",
    "# core\n",
    "from sklearn.model_selection import train_test_split, GridSearchCV\n",
    "from sklearn.pipeline import Pipeline\n",
    "\n",
    "# transformers\n",
    "from sklearn.feature_extraction.text import CountVectorizer, TfidfVectorizer\n",
    "from sklearn.preprocessing import StandardScaler\n",
    "\n",
    "# models\n",
    "from sklearn.linear_model import LogisticRegression\n",
    "from sklearn.neighbors import KNeighborsClassifier\n",
    "from sklearn.naive_bayes import MultinomialNB\n",
    "from sklearn.ensemble import BaggingClassifier, RandomForestClassifier, AdaBoostClassifier, \\\n",
    "                            GradientBoostingClassifier, StackingClassifier, VotingClassifier"
   ]
  },
  {
   "cell_type": "markdown",
   "id": "a276e8bc-be85-457b-8039-7b903df32bb6",
   "metadata": {},
   "source": [
    "## Model Preparation"
   ]
  },
  {
   "cell_type": "code",
   "execution_count": 2,
   "id": "2e74827e-45ea-4aed-b2ed-47dc278bc291",
   "metadata": {},
   "outputs": [],
   "source": [
    "# read in r/Seattle and r/SeattleWA data\n",
    "sea = pd.read_csv('datasets/Cleaned_Seattle.csv')\n",
    "sea_wa = pd.read_csv('datasets/Cleaned_SeattleWA.csv')"
   ]
  },
  {
   "cell_type": "code",
   "execution_count": 3,
   "id": "2e064350-ccf3-490a-a66e-2aa0e0ff3641",
   "metadata": {},
   "outputs": [],
   "source": [
    "# combine r/Seattle and r/SeattleWA data into single DataFrame\n",
    "all_posts = pd.concat([sea, sea_wa])"
   ]
  },
  {
   "cell_type": "code",
   "execution_count": 4,
   "id": "8c45d822-3994-49c9-ba09-cc51922ea0ba",
   "metadata": {},
   "outputs": [],
   "source": [
    "# convert Seattle to 0 and SeattleWA to 1 in subreddit column\n",
    "all_posts['subreddit'] = all_posts['subreddit'].map({'Seattle': 0, 'SeattleWA': 1})"
   ]
  },
  {
   "cell_type": "code",
   "execution_count": 5,
   "id": "bc5b9d5f-7d77-4606-96ce-3a3879ce1eb8",
   "metadata": {},
   "outputs": [],
   "source": [
    "# create X (text) and y (subreddit)\n",
    "X = all_posts['text']\n",
    "y = all_posts['subreddit']"
   ]
  },
  {
   "cell_type": "code",
   "execution_count": 6,
   "id": "e29e293b-1274-44b0-985f-2892074c0769",
   "metadata": {},
   "outputs": [],
   "source": [
    "X_train, X_test, y_train, y_test = train_test_split(X, y, random_state = 42, stratify = y)"
   ]
  },
  {
   "cell_type": "markdown",
   "id": "3e710266-271d-4852-9cde-c6538487c914",
   "metadata": {},
   "source": [
    "## Modeling with CountVectorizer\n",
    "#### Logistic Regression"
   ]
  },
  {
   "cell_type": "code",
   "execution_count": 7,
   "id": "85c9eeee-5e57-4724-b6e3-c5b9386f2b75",
   "metadata": {},
   "outputs": [
    {
     "data": {
      "text/plain": [
       "GridSearchCV(estimator=Pipeline(steps=[('cvec', CountVectorizer()),\n",
       "                                       ('lr', LogisticRegression())]),\n",
       "             param_grid={'cvec__max_df': [0.8, 0.825],\n",
       "                         'cvec__max_features': [7000, 7500],\n",
       "                         'cvec__ngram_range': [(1, 2), (1, 3)],\n",
       "                         'cvec__stop_words': ['english'],\n",
       "                         'lr__max_iter': [200]})"
      ]
     },
     "execution_count": 7,
     "metadata": {},
     "output_type": "execute_result"
    }
   ],
   "source": [
    "log_cvec_pipe = Pipeline([\n",
    "    ('cvec', CountVectorizer()),\n",
    "    ('lr', LogisticRegression())\n",
    "])\n",
    "\n",
    "log_cvec_params = {\n",
    "    'cvec__max_features': [7000, 7500],\n",
    "    'cvec__max_df': [0.8, 0.825],\n",
    "    'cvec__stop_words': ['english'],\n",
    "    'cvec__ngram_range': [(1,2), (1,3)],\n",
    "    'lr__max_iter': [200]\n",
    "}\n",
    "\n",
    "log_cvec_gs = GridSearchCV(log_cvec_pipe,\n",
    "                     param_grid = log_cvec_params)\n",
    "\n",
    "log_cvec_gs.fit(X_train, y_train)"
   ]
  },
  {
   "cell_type": "code",
   "execution_count": 8,
   "id": "88a381ea-cc58-42cd-8d36-cf661bae0c95",
   "metadata": {},
   "outputs": [
    {
     "name": "stdout",
     "output_type": "stream",
     "text": [
      "{'cvec__max_df': 0.8, 'cvec__max_features': 7500, 'cvec__ngram_range': (1, 3), 'cvec__stop_words': 'english', 'lr__max_iter': 200}\n",
      "0.98464025869038\n",
      "0.5411954765751211\n"
     ]
    }
   ],
   "source": [
    "print(log_cvec_gs.best_params_)\n",
    "print(log_cvec_gs.score(X_train, y_train))\n",
    "print(log_cvec_gs.score(X_test, y_test))"
   ]
  },
  {
   "cell_type": "markdown",
   "id": "45d64984-229e-4dc9-9404-5063f701c0ea",
   "metadata": {},
   "source": [
    "#### Bagging"
   ]
  },
  {
   "cell_type": "code",
   "execution_count": 9,
   "id": "8770c255-c465-4c92-84b5-9d8539e89ee6",
   "metadata": {},
   "outputs": [
    {
     "data": {
      "text/plain": [
       "GridSearchCV(estimator=Pipeline(steps=[('cvec', CountVectorizer()),\n",
       "                                       ('bag', BaggingClassifier())]),\n",
       "             param_grid={'bag__max_features': [0.6, 0.8, 1],\n",
       "                         'bag__n_estimators': [7, 10, 15],\n",
       "                         'cvec__max_df': [0.8, 0.825],\n",
       "                         'cvec__max_features': [7000, 7500],\n",
       "                         'cvec__ngram_range': [(1, 2), (1, 3)],\n",
       "                         'cvec__stop_words': ['english']})"
      ]
     },
     "execution_count": 9,
     "metadata": {},
     "output_type": "execute_result"
    }
   ],
   "source": [
    "bag_cvec_pipe = Pipeline([\n",
    "    ('cvec', CountVectorizer()),\n",
    "    ('bag', BaggingClassifier())\n",
    "])\n",
    "\n",
    "bag_cvec_params = {\n",
    "    'cvec__max_features': [7000, 7500],\n",
    "    'cvec__max_df': [0.8, 0.825],\n",
    "    'cvec__stop_words': ['english'],\n",
    "    'cvec__ngram_range': [(1,2), (1,3)],\n",
    "    'bag__n_estimators': [7, 10, 15],\n",
    "    'bag__max_features': [0.6, 0.8, 1],\n",
    "    \n",
    "\n",
    "}\n",
    "\n",
    "bag_cvec_gs = GridSearchCV(bag_cvec_pipe,\n",
    "                     param_grid = bag_cvec_params)\n",
    "\n",
    "bag_cvec_gs.fit(X_train, y_train)"
   ]
  },
  {
   "cell_type": "code",
   "execution_count": 10,
   "id": "8e0c0c28-69c8-4d0f-a326-947a945bda93",
   "metadata": {},
   "outputs": [
    {
     "name": "stdout",
     "output_type": "stream",
     "text": [
      "{'bag__max_features': 0.8, 'bag__n_estimators': 10, 'cvec__max_df': 0.825, 'cvec__max_features': 7000, 'cvec__ngram_range': (1, 2), 'cvec__stop_words': 'english'}\n",
      "0.9765561843168957\n",
      "0.5290791599353797\n"
     ]
    }
   ],
   "source": [
    "print(bag_cvec_gs.best_params_)\n",
    "print(bag_cvec_gs.score(X_train, y_train))\n",
    "print(bag_cvec_gs.score(X_test, y_test))"
   ]
  },
  {
   "cell_type": "markdown",
   "id": "3cbb81f4-cd64-4b80-b33a-768f5d578a11",
   "metadata": {},
   "source": [
    "#### Random Forest"
   ]
  },
  {
   "cell_type": "code",
   "execution_count": 12,
   "id": "e52b9757-d1d9-4bff-979a-3d5b484c107f",
   "metadata": {},
   "outputs": [
    {
     "data": {
      "text/plain": [
       "GridSearchCV(estimator=Pipeline(steps=[('cvec', CountVectorizer()),\n",
       "                                       ('rf', RandomForestClassifier())]),\n",
       "             param_grid={'cvec__max_df': [0.8, 0.85],\n",
       "                         'cvec__max_features': [7000, 7500],\n",
       "                         'cvec__ngram_range': [(1, 2), (1, 3)],\n",
       "                         'cvec__stop_words': ['english'],\n",
       "                         'rf__max_samples': [0.4, 0.6, 1],\n",
       "                         'rf__n_estimators': [150, 200]})"
      ]
     },
     "execution_count": 12,
     "metadata": {},
     "output_type": "execute_result"
    }
   ],
   "source": [
    "rf_cvec_pipe = Pipeline([\n",
    "    ('cvec', CountVectorizer()),\n",
    "    ('rf', RandomForestClassifier())\n",
    "])\n",
    "\n",
    "rf_cvec_params = {\n",
    "    'cvec__max_features': [7000, 7500],\n",
    "    'cvec__max_df': [0.8, 0.85],\n",
    "    'cvec__stop_words': ['english'],\n",
    "    'cvec__ngram_range': [(1,2), (1,3)],\n",
    "    'rf__n_estimators': [150, 200],\n",
    "    'rf__max_samples': [0.4, 0.6, 1],\n",
    "\n",
    "}\n",
    "\n",
    "rf_cvec_gs = GridSearchCV(rf_cvec_pipe,\n",
    "                     param_grid = rf_cvec_params)\n",
    "\n",
    "rf_cvec_gs.fit(X_train, y_train)"
   ]
  },
  {
   "cell_type": "code",
   "execution_count": 13,
   "id": "c22b593c-71b6-42ae-9812-1cd002fe4b3d",
   "metadata": {},
   "outputs": [
    {
     "name": "stdout",
     "output_type": "stream",
     "text": [
      "{'cvec__max_df': 0.85, 'cvec__max_features': 7500, 'cvec__ngram_range': (1, 2), 'cvec__stop_words': 'english', 'rf__max_samples': 0.6, 'rf__n_estimators': 200}\n",
      "0.9935327405012127\n",
      "0.5621970920840065\n"
     ]
    }
   ],
   "source": [
    "print(rf_cvec_gs.best_params_)\n",
    "print(rf_cvec_gs.score(X_train, y_train))\n",
    "print(rf_cvec_gs.score(X_test, y_test))"
   ]
  },
  {
   "cell_type": "markdown",
   "id": "e730bc70-00fe-4f52-8849-b563921ee6fb",
   "metadata": {},
   "source": [
    "#### AdaBoost"
   ]
  },
  {
   "cell_type": "code",
   "execution_count": 14,
   "id": "b2f5ec3e-8e24-444e-9a32-1c83d1954164",
   "metadata": {},
   "outputs": [
    {
     "data": {
      "text/plain": [
       "GridSearchCV(estimator=Pipeline(steps=[('cvec', CountVectorizer()),\n",
       "                                       ('ada', AdaBoostClassifier())]),\n",
       "             param_grid={'ada__n_estimators': [50, 75, 100],\n",
       "                         'cvec__max_df': [0.8, 0.85],\n",
       "                         'cvec__max_features': [6500, 7000],\n",
       "                         'cvec__ngram_range': [(1, 2), (1, 3)],\n",
       "                         'cvec__stop_words': ['english']})"
      ]
     },
     "execution_count": 14,
     "metadata": {},
     "output_type": "execute_result"
    }
   ],
   "source": [
    "ada_cvec_pipe = Pipeline([\n",
    "    ('cvec', CountVectorizer()),\n",
    "    ('ada', AdaBoostClassifier())\n",
    "])\n",
    "\n",
    "ada_cvec_params = {\n",
    "    'cvec__max_features': [6500, 7000],\n",
    "    'cvec__max_df': [0.8, 0.85],\n",
    "    'cvec__stop_words': ['english'],\n",
    "    'cvec__ngram_range': [(1,2), (1,3)],\n",
    "    'ada__n_estimators': [50, 75, 100],\n",
    "\n",
    "}\n",
    "\n",
    "ada_cvec_gs = GridSearchCV(ada_cvec_pipe,\n",
    "                     param_grid = ada_cvec_params)\n",
    "\n",
    "ada_cvec_gs.fit(X_train, y_train)"
   ]
  },
  {
   "cell_type": "code",
   "execution_count": 15,
   "id": "52530b2e-7241-45ad-9ef4-6b3e1e691bea",
   "metadata": {},
   "outputs": [
    {
     "name": "stdout",
     "output_type": "stream",
     "text": [
      "{'ada__n_estimators': 75, 'cvec__max_df': 0.8, 'cvec__max_features': 6500, 'cvec__ngram_range': (1, 2), 'cvec__stop_words': 'english'}\n",
      "0.646456480732956\n",
      "0.5395799676898223\n"
     ]
    }
   ],
   "source": [
    "print(ada_cvec_gs.best_params_)\n",
    "print(ada_cvec_gs.score(X_train, y_train))\n",
    "print(ada_cvec_gs.score(X_test, y_test))"
   ]
  },
  {
   "cell_type": "markdown",
   "id": "7f891b96-64ec-4155-beb2-2b7470881342",
   "metadata": {},
   "source": [
    "#### Gradient Boosting"
   ]
  },
  {
   "cell_type": "code",
   "execution_count": 16,
   "id": "4dd05e69-9c01-40ec-991b-d8191b167a5a",
   "metadata": {},
   "outputs": [
    {
     "data": {
      "text/plain": [
       "GridSearchCV(estimator=Pipeline(steps=[('cvec', CountVectorizer()),\n",
       "                                       ('gb', GradientBoostingClassifier())]),\n",
       "             param_grid={'cvec__max_df': [0.8, 0.85],\n",
       "                         'cvec__max_features': [7000, 7500],\n",
       "                         'cvec__ngram_range': [(1, 2), (1, 3)],\n",
       "                         'cvec__stop_words': ['english'],\n",
       "                         'gb__max_depth': [4, 5],\n",
       "                         'gb__n_estimators': [100, 150],\n",
       "                         'gb__subsample': [0.5, 0.6, 0.7]})"
      ]
     },
     "execution_count": 16,
     "metadata": {},
     "output_type": "execute_result"
    }
   ],
   "source": [
    "gb_cvec_pipe = Pipeline([\n",
    "    ('cvec', CountVectorizer()),\n",
    "    ('gb', GradientBoostingClassifier())\n",
    "])\n",
    "\n",
    "gb_cvec_params = {\n",
    "    'cvec__max_features': [7000, 7500],\n",
    "    'cvec__max_df': [0.8, 0.85],\n",
    "    'cvec__stop_words': ['english'],\n",
    "    'cvec__ngram_range': [(1,2), (1,3)],\n",
    "    'gb__n_estimators': [100, 150],\n",
    "    'gb__subsample': [0.5, 0.6, 0.7],\n",
    "    'gb__max_depth': [4, 5]\n",
    "\n",
    "}\n",
    "\n",
    "gb_cvec_gs = GridSearchCV(gb_cvec_pipe,\n",
    "                     param_grid = gb_cvec_params)\n",
    "\n",
    "gb_cvec_gs.fit(X_train, y_train)"
   ]
  },
  {
   "cell_type": "code",
   "execution_count": 17,
   "id": "d571340b-79e2-4379-a88e-87fd3555d5d1",
   "metadata": {},
   "outputs": [
    {
     "name": "stdout",
     "output_type": "stream",
     "text": [
      "{'cvec__max_df': 0.8, 'cvec__max_features': 7500, 'cvec__ngram_range': (1, 2), 'cvec__stop_words': 'english', 'gb__max_depth': 5, 'gb__n_estimators': 150, 'gb__subsample': 0.5}\n",
      "0.841552142279709\n",
      "0.537156704361874\n"
     ]
    }
   ],
   "source": [
    "print(gb_cvec_gs.best_params_)\n",
    "print(gb_cvec_gs.score(X_train, y_train))\n",
    "print(gb_cvec_gs.score(X_test, y_test))"
   ]
  },
  {
   "cell_type": "markdown",
   "id": "b9904de2-a5aa-4df6-9d9a-9269d789496c",
   "metadata": {},
   "source": [
    "#### Multinomial Naive Bayes"
   ]
  },
  {
   "cell_type": "code",
   "execution_count": 18,
   "id": "013eeac2-a4ff-43ab-9c9d-e89afee39bba",
   "metadata": {},
   "outputs": [
    {
     "data": {
      "text/plain": [
       "GridSearchCV(estimator=Pipeline(steps=[('cvec', CountVectorizer()),\n",
       "                                       ('nb', MultinomialNB())]),\n",
       "             param_grid={'cvec__max_df': [0.825, 0.85],\n",
       "                         'cvec__max_features': [7000, 7500],\n",
       "                         'cvec__ngram_range': [(1, 2), (1, 3)],\n",
       "                         'cvec__stop_words': ['english']})"
      ]
     },
     "execution_count": 18,
     "metadata": {},
     "output_type": "execute_result"
    }
   ],
   "source": [
    "nb_cvec_pipe = Pipeline([\n",
    "    ('cvec', CountVectorizer()),\n",
    "    ('nb', MultinomialNB())\n",
    "])\n",
    "\n",
    "nb_cvec_params = {\n",
    "    'cvec__max_features': [7000, 7500],\n",
    "    'cvec__max_df': [0.825, 0.85],\n",
    "    'cvec__stop_words': ['english'],\n",
    "    'cvec__ngram_range': [(1,2), (1,3)],\n",
    "}\n",
    "\n",
    "nb_cvec_gs = GridSearchCV(nb_cvec_pipe,\n",
    "                     param_grid = nb_cvec_params)\n",
    "\n",
    "nb_cvec_gs.fit(X_train, y_train)"
   ]
  },
  {
   "cell_type": "code",
   "execution_count": 19,
   "id": "baacae7d-90aa-497f-8e7b-0a23883852e8",
   "metadata": {},
   "outputs": [
    {
     "name": "stdout",
     "output_type": "stream",
     "text": [
      "{'cvec__max_df': 0.825, 'cvec__max_features': 7000, 'cvec__ngram_range': (1, 2), 'cvec__stop_words': 'english'}\n",
      "0.8264618701158717\n",
      "0.555735056542811\n"
     ]
    }
   ],
   "source": [
    "print(nb_cvec_gs.best_params_)\n",
    "print(nb_cvec_gs.score(X_train, y_train))\n",
    "print(nb_cvec_gs.score(X_test, y_test))"
   ]
  },
  {
   "cell_type": "markdown",
   "id": "6c8fb9fe-15a5-4b1f-abea-3c43e36e872c",
   "metadata": {},
   "source": [
    "## Tfidf Vectorizer"
   ]
  },
  {
   "cell_type": "markdown",
   "id": "092c29cf-59ae-4fc0-a5fd-4c5624db6e70",
   "metadata": {},
   "source": [
    "#### Logistic Regression"
   ]
  },
  {
   "cell_type": "code",
   "execution_count": 20,
   "id": "ec1441cd-e2bb-4367-b76d-31b51ef80189",
   "metadata": {},
   "outputs": [
    {
     "data": {
      "text/plain": [
       "GridSearchCV(estimator=Pipeline(steps=[('tvec', TfidfVectorizer()),\n",
       "                                       ('lr', LogisticRegression())]),\n",
       "             param_grid={'lr__max_iter': [100, 200],\n",
       "                         'tvec__max_df': [0.8, 0.85],\n",
       "                         'tvec__max_features': [7000, 7500],\n",
       "                         'tvec__ngram_range': [(1, 2), (1, 3)],\n",
       "                         'tvec__stop_words': ['english']})"
      ]
     },
     "execution_count": 20,
     "metadata": {},
     "output_type": "execute_result"
    }
   ],
   "source": [
    "log_tvec_pipe = Pipeline([\n",
    "    ('tvec', TfidfVectorizer()),\n",
    "    ('lr', LogisticRegression())\n",
    "])\n",
    "\n",
    "log_tvec_params = {\n",
    "    'tvec__max_features': [7000, 7500],\n",
    "    'tvec__max_df': [0.8, 0.85],\n",
    "    'tvec__stop_words': ['english'],\n",
    "    'tvec__ngram_range': [(1,2), (1,3)],\n",
    "    'lr__max_iter': [100, 200]\n",
    "}\n",
    "\n",
    "log_tvec_gs = GridSearchCV(log_tvec_pipe,\n",
    "                     param_grid = log_tvec_params)\n",
    "\n",
    "log_tvec_gs.fit(X_train, y_train)"
   ]
  },
  {
   "cell_type": "code",
   "execution_count": 21,
   "id": "76070fee-6339-4c5a-8c48-d5966c1fec17",
   "metadata": {},
   "outputs": [
    {
     "name": "stdout",
     "output_type": "stream",
     "text": [
      "{'lr__max_iter': 100, 'tvec__max_df': 0.8, 'tvec__max_features': 7000, 'tvec__ngram_range': (1, 3), 'tvec__stop_words': 'english'}\n",
      "0.8563729452977634\n",
      "0.5662358642972536\n"
     ]
    }
   ],
   "source": [
    "print(log_tvec_gs.best_params_)\n",
    "print(log_tvec_gs.score(X_train, y_train))\n",
    "print(log_tvec_gs.score(X_test, y_test))"
   ]
  },
  {
   "cell_type": "markdown",
   "id": "95f51e67-cbff-41c8-ad86-299b0b116f4f",
   "metadata": {},
   "source": [
    "#### Bagging"
   ]
  },
  {
   "cell_type": "code",
   "execution_count": 22,
   "id": "8ac36681-7ac3-490d-a9a8-0354ba41e042",
   "metadata": {},
   "outputs": [
    {
     "data": {
      "text/plain": [
       "GridSearchCV(estimator=Pipeline(steps=[('tvec', TfidfVectorizer()),\n",
       "                                       ('bag', BaggingClassifier())]),\n",
       "             param_grid={'bag__max_features': [0.7, 0.8],\n",
       "                         'bag__n_estimators': [7, 10, 15],\n",
       "                         'tvec__max_df': [0.8, 0.85],\n",
       "                         'tvec__max_features': [7000, 7500],\n",
       "                         'tvec__ngram_range': [(1, 2), (1, 3)],\n",
       "                         'tvec__stop_words': ['english']})"
      ]
     },
     "execution_count": 22,
     "metadata": {},
     "output_type": "execute_result"
    }
   ],
   "source": [
    "bag_tvec_pipe = Pipeline([\n",
    "    ('tvec', TfidfVectorizer()),\n",
    "    ('bag', BaggingClassifier())\n",
    "])\n",
    "\n",
    "bag_tvec_params = {\n",
    "    'tvec__max_features': [7000, 7500],\n",
    "    'tvec__max_df': [0.8, 0.85],\n",
    "    'tvec__stop_words': ['english'],\n",
    "    'tvec__ngram_range': [(1,2), (1,3)],\n",
    "    'bag__n_estimators': [7, 10, 15],\n",
    "    'bag__max_features': [0.7, 0.8],\n",
    "}\n",
    "\n",
    "bag_tvec_gs = GridSearchCV(bag_tvec_pipe,\n",
    "                     param_grid = bag_tvec_params)\n",
    "\n",
    "bag_tvec_gs.fit(X_train, y_train)"
   ]
  },
  {
   "cell_type": "code",
   "execution_count": 23,
   "id": "9c922a2c-9aed-48fe-a1c0-cc96150b364e",
   "metadata": {},
   "outputs": [
    {
     "name": "stdout",
     "output_type": "stream",
     "text": [
      "{'bag__max_features': 0.8, 'bag__n_estimators': 10, 'tvec__max_df': 0.8, 'tvec__max_features': 7500, 'tvec__ngram_range': (1, 3), 'tvec__stop_words': 'english'}\n",
      "0.9757477768795473\n",
      "0.5444264943457189\n"
     ]
    }
   ],
   "source": [
    "print(bag_tvec_gs.best_params_)\n",
    "print(bag_tvec_gs.score(X_train, y_train))\n",
    "print(bag_tvec_gs.score(X_test, y_test))"
   ]
  },
  {
   "cell_type": "markdown",
   "id": "18594c2d-6f68-4b23-8811-ce30034f2398",
   "metadata": {},
   "source": [
    "#### Random Forest"
   ]
  },
  {
   "cell_type": "code",
   "execution_count": 24,
   "id": "51ccd6ae-800c-4560-9c8c-cce799ddb3b4",
   "metadata": {},
   "outputs": [
    {
     "data": {
      "text/plain": [
       "GridSearchCV(estimator=Pipeline(steps=[('tvec', TfidfVectorizer()),\n",
       "                                       ('rf', RandomForestClassifier())]),\n",
       "             param_grid={'rf__max_samples': [0.4, 0.5],\n",
       "                         'rf__n_estimators': [150, 200],\n",
       "                         'tvec__max_df': [0.825, 0.85],\n",
       "                         'tvec__max_features': [7000, 7500],\n",
       "                         'tvec__ngram_range': [(1, 2), (1, 3)],\n",
       "                         'tvec__stop_words': ['english']})"
      ]
     },
     "execution_count": 24,
     "metadata": {},
     "output_type": "execute_result"
    }
   ],
   "source": [
    "rf_tvec_pipe = Pipeline([\n",
    "    ('tvec', TfidfVectorizer()),\n",
    "    ('rf', RandomForestClassifier())\n",
    "])\n",
    "\n",
    "rf_tvec_params = {\n",
    "    'tvec__max_features': [7000, 7500],\n",
    "    'tvec__max_df': [0.825, 0.85],\n",
    "    'tvec__stop_words': ['english'],\n",
    "    'tvec__ngram_range': [(1,2), (1,3)],\n",
    "    'rf__n_estimators': [150, 200],\n",
    "    'rf__max_samples': [0.4, 0.5],\n",
    "}\n",
    "\n",
    "rf_tvec_gs = GridSearchCV(rf_tvec_pipe,\n",
    "                     param_grid = rf_tvec_params)\n",
    "\n",
    "rf_tvec_gs.fit(X_train, y_train)"
   ]
  },
  {
   "cell_type": "code",
   "execution_count": 25,
   "id": "d2f56ddd-82cd-42aa-8d06-57832bf0d2e6",
   "metadata": {},
   "outputs": [
    {
     "name": "stdout",
     "output_type": "stream",
     "text": [
      "{'rf__max_samples': 0.4, 'rf__n_estimators': 200, 'tvec__max_df': 0.825, 'tvec__max_features': 7000, 'tvec__ngram_range': (1, 3), 'tvec__stop_words': 'english'}\n",
      "0.9822150363783346\n",
      "0.5573505654281099\n"
     ]
    }
   ],
   "source": [
    "print(rf_tvec_gs.best_params_)\n",
    "print(rf_tvec_gs.score(X_train, y_train))\n",
    "print(rf_tvec_gs.score(X_test, y_test))"
   ]
  },
  {
   "cell_type": "markdown",
   "id": "90ce89ae-3f90-4429-8b80-edb566109b7f",
   "metadata": {},
   "source": [
    "#### AdaBoost"
   ]
  },
  {
   "cell_type": "code",
   "execution_count": 26,
   "id": "3fa5fc5b-ac9c-4aa7-8a9a-e1ab37c47bad",
   "metadata": {},
   "outputs": [
    {
     "data": {
      "text/plain": [
       "GridSearchCV(estimator=Pipeline(steps=[('tvec', TfidfVectorizer()),\n",
       "                                       ('ada', AdaBoostClassifier())]),\n",
       "             param_grid={'ada__n_estimators': [100, 125],\n",
       "                         'tvec__max_df': [0.8, 0.825],\n",
       "                         'tvec__max_features': [7000, 7500],\n",
       "                         'tvec__ngram_range': [(1, 2), (1, 3)],\n",
       "                         'tvec__stop_words': ['english']})"
      ]
     },
     "execution_count": 26,
     "metadata": {},
     "output_type": "execute_result"
    }
   ],
   "source": [
    "ada_tvec_pipe = Pipeline([\n",
    "    ('tvec', TfidfVectorizer()),\n",
    "    ('ada', AdaBoostClassifier())\n",
    "])\n",
    "\n",
    "ada_tvec_params = {\n",
    "    'tvec__max_features': [7000, 7500],\n",
    "    'tvec__max_df': [0.8, 0.825],\n",
    "    'tvec__stop_words': ['english'],\n",
    "    'tvec__ngram_range': [(1,2), (1,3)],\n",
    "    'ada__n_estimators': [100, 125]\n",
    "}\n",
    "\n",
    "ada_tvec_gs = GridSearchCV(ada_tvec_pipe,\n",
    "                     param_grid = ada_tvec_params)\n",
    "\n",
    "ada_tvec_gs.fit(X_train, y_train)"
   ]
  },
  {
   "cell_type": "code",
   "execution_count": 27,
   "id": "fb688fdd-dfe2-49af-87ff-68338eed545d",
   "metadata": {},
   "outputs": [
    {
     "name": "stdout",
     "output_type": "stream",
     "text": [
      "{'ada__n_estimators': 125, 'tvec__max_df': 0.8, 'tvec__max_features': 7000, 'tvec__ngram_range': (1, 2), 'tvec__stop_words': 'english'}\n",
      "0.7178658043654002\n",
      "0.5460420032310178\n"
     ]
    }
   ],
   "source": [
    "print(ada_tvec_gs.best_params_)\n",
    "print(ada_tvec_gs.score(X_train, y_train))\n",
    "print(ada_tvec_gs.score(X_test, y_test))"
   ]
  },
  {
   "cell_type": "markdown",
   "id": "8ab73248-bae6-4800-aa60-9ac8fde97722",
   "metadata": {},
   "source": [
    "#### Gradient Boosting"
   ]
  },
  {
   "cell_type": "code",
   "execution_count": 28,
   "id": "1b22252a-c73a-41c6-b38c-345c6da6dcbc",
   "metadata": {},
   "outputs": [
    {
     "data": {
      "text/plain": [
       "GridSearchCV(estimator=Pipeline(steps=[('tvec', TfidfVectorizer()),\n",
       "                                       ('gb', GradientBoostingClassifier())]),\n",
       "             param_grid={'gb__max_depth': [5, 6],\n",
       "                         'gb__n_estimators': [100, 125],\n",
       "                         'gb__subsample': [0.3, 0.4],\n",
       "                         'tvec__max_df': [0.8, 0.85],\n",
       "                         'tvec__max_features': [7000, 7500],\n",
       "                         'tvec__ngram_range': [(1, 2), (1, 3)],\n",
       "                         'tvec__stop_words': ['english']})"
      ]
     },
     "execution_count": 28,
     "metadata": {},
     "output_type": "execute_result"
    }
   ],
   "source": [
    "gb_tvec_pipe = Pipeline([\n",
    "    ('tvec', TfidfVectorizer()),\n",
    "    ('gb', GradientBoostingClassifier())\n",
    "])\n",
    "\n",
    "gb_tvec_params = {\n",
    "    'tvec__max_features': [7000, 7500],\n",
    "    'tvec__max_df': [0.8, 0.85],\n",
    "    'tvec__stop_words': ['english'],\n",
    "    'tvec__ngram_range': [(1,2), (1,3)],\n",
    "    'gb__n_estimators': [100, 125],\n",
    "    'gb__subsample': [0.3, 0.4],\n",
    "    'gb__max_depth': [5, 6]\n",
    "}\n",
    "\n",
    "gb_tvec_gs = GridSearchCV(gb_tvec_pipe,\n",
    "                     param_grid = gb_tvec_params)\n",
    "\n",
    "gb_tvec_gs.fit(X_train, y_train)"
   ]
  },
  {
   "cell_type": "code",
   "execution_count": 29,
   "id": "8b6afabf-e192-4237-a145-ad449cc469ae",
   "metadata": {},
   "outputs": [
    {
     "name": "stdout",
     "output_type": "stream",
     "text": [
      "{'gb__max_depth': 6, 'gb__n_estimators': 100, 'gb__subsample': 0.4, 'tvec__max_df': 0.8, 'tvec__max_features': 7000, 'tvec__ngram_range': (1, 2), 'tvec__stop_words': 'english'}\n",
      "0.8485583400700619\n",
      "0.531502423263328\n"
     ]
    }
   ],
   "source": [
    "print(gb_tvec_gs.best_params_)\n",
    "print(gb_tvec_gs.score(X_train, y_train))\n",
    "print(gb_tvec_gs.score(X_test, y_test))"
   ]
  },
  {
   "cell_type": "markdown",
   "id": "eafdc87a-fbde-4aad-98f7-27b0ee8386c8",
   "metadata": {},
   "source": [
    "#### Multinomial Naive Bayes"
   ]
  },
  {
   "cell_type": "code",
   "execution_count": 30,
   "id": "e2e0169b-431c-41c2-89ff-88425bd58977",
   "metadata": {},
   "outputs": [
    {
     "data": {
      "text/plain": [
       "GridSearchCV(estimator=Pipeline(steps=[('tvec', TfidfVectorizer()),\n",
       "                                       ('nb', MultinomialNB())]),\n",
       "             param_grid={'tvec__max_df': [0.8, 0.825, 0.85],\n",
       "                         'tvec__max_features': [7250, 7500, 7750],\n",
       "                         'tvec__ngram_range': [(1, 2), (1, 3)],\n",
       "                         'tvec__stop_words': ['english']})"
      ]
     },
     "execution_count": 30,
     "metadata": {},
     "output_type": "execute_result"
    }
   ],
   "source": [
    "nb_tvec_pipe = Pipeline([\n",
    "    ('tvec', TfidfVectorizer()),\n",
    "    ('nb', MultinomialNB())\n",
    "])\n",
    "\n",
    "nb_tvec_params = {\n",
    "    'tvec__max_features': [7250, 7500, 7750],\n",
    "    'tvec__max_df': [0.8, 0.825, 0.85,],\n",
    "    'tvec__stop_words': ['english'],\n",
    "    'tvec__ngram_range': [(1,2), (1,3)],\n",
    "}\n",
    "\n",
    "nb_tvec_gs = GridSearchCV(nb_tvec_pipe,\n",
    "                     param_grid = nb_tvec_params)\n",
    "\n",
    "nb_tvec_gs.fit(X_train, y_train)"
   ]
  },
  {
   "cell_type": "code",
   "execution_count": 31,
   "id": "314c75e5-2fb3-4f57-ac34-388b533057a8",
   "metadata": {},
   "outputs": [
    {
     "name": "stdout",
     "output_type": "stream",
     "text": [
      "{'tvec__max_df': 0.8, 'tvec__max_features': 7750, 'tvec__ngram_range': (1, 2), 'tvec__stop_words': 'english'}\n",
      "0.8609539207760711\n",
      "0.574313408723748\n"
     ]
    }
   ],
   "source": [
    "print(nb_tvec_gs.best_params_)\n",
    "print(nb_tvec_gs.score(X_train, y_train))\n",
    "print(nb_tvec_gs.score(X_test, y_test))"
   ]
  },
  {
   "cell_type": "markdown",
   "id": "0c31fe9f-92ec-4209-aa91-b223f37d4722",
   "metadata": {},
   "source": [
    "## Voting Classifier"
   ]
  },
  {
   "cell_type": "code",
   "execution_count": 39,
   "id": "54ad61fa-84ad-454a-acd3-273521e20987",
   "metadata": {},
   "outputs": [],
   "source": [
    "# names for pipes for VotingClassifier\n",
    "pipe_names = ['logc', 'bagc', 'rfc', 'adac', 'gbc', 'nbc',\n",
    "             'logt', 'bagt', 'rft', 'adat', 'gbt', 'nbt']\n",
    "\n",
    "# pipes for VotingClassifier\n",
    "pipes = [log_cvec_pipe, bag_cvec_pipe, rf_cvec_pipe, ada_cvec_pipe, gb_cvec_pipe, nb_cvec_pipe,\n",
    "         log_tvec_pipe, bag_tvec_pipe, rf_tvec_pipe, ada_tvec_pipe, gb_tvec_pipe, nb_tvec_pipe]\n",
    "\n",
    "# pregridsearched models with hyperparameters tuned\n",
    "tuned_models = [log_cvec_gs, bag_cvec_gs, rf_cvec_gs, ada_cvec_gs, gb_cvec_gs, nb_cvec_gs,\n",
    "                log_tvec_gs, bag_tvec_gs, rf_tvec_gs, ada_tvec_gs, gb_tvec_gs, nb_tvec_gs]"
   ]
  },
  {
   "cell_type": "code",
   "execution_count": 40,
   "id": "e146db02-0233-4807-bb8d-dc24d7b9cf3b",
   "metadata": {},
   "outputs": [],
   "source": [
    "# aliases and pipes for voting classifers\n",
    "pipe_tuples = list(zip(pipe_names, pipes))\n",
    "voters = VotingClassifier(pipe_tuples)\n",
    "\n",
    "# voting model paramters\n",
    "voter_params = {}\n",
    "\n",
    "# collect hyperparameters from gridsearch fits for voting classifier\n",
    "for i, model in enumerate(tuned_models):\n",
    "    for param_name, param_val in model.best_params_.items():\n",
    "        # make sure hyperparameter names are of the form\n",
    "        # (pipe name)__(transformer or estimatorname)__(parameter name)\n",
    "        voter_param_name = pipe_names[i] + '__' + param_name\n",
    "        voter_params[voter_param_name] = [param_val]"
   ]
  },
  {
   "cell_type": "code",
   "execution_count": 41,
   "id": "796bf28c-83af-4e6f-86dd-d358f1dd71f0",
   "metadata": {},
   "outputs": [
    {
     "data": {
      "text/plain": [
       "GridSearchCV(estimator=VotingClassifier(estimators=[('logc',\n",
       "                                                     Pipeline(steps=[('cvec',\n",
       "                                                                      CountVectorizer()),\n",
       "                                                                     ('lr',\n",
       "                                                                      LogisticRegression())])),\n",
       "                                                    ('bagc',\n",
       "                                                     Pipeline(steps=[('cvec',\n",
       "                                                                      CountVectorizer()),\n",
       "                                                                     ('bag',\n",
       "                                                                      BaggingClassifier())])),\n",
       "                                                    ('rfc',\n",
       "                                                     Pipeline(steps=[('cvec',\n",
       "                                                                      CountVectorizer()),\n",
       "                                                                     ('rf',\n",
       "                                                                      RandomForestClassifier())])),\n",
       "                                                    ('adac',\n",
       "                                                     Pipeline(steps=[('cvec',\n",
       "                                                                      CountVectorizer()...\n",
       "                         'bagt__tvec__max_df': [0.8],\n",
       "                         'bagt__tvec__max_features': [7500],\n",
       "                         'bagt__tvec__ngram_range': [(1, 3)],\n",
       "                         'bagt__tvec__stop_words': ['english'],\n",
       "                         'gbc__cvec__max_df': [0.8],\n",
       "                         'gbc__cvec__max_features': [7500],\n",
       "                         'gbc__cvec__ngram_range': [(1, 2)],\n",
       "                         'gbc__cvec__stop_words': ['english'],\n",
       "                         'gbc__gb__max_depth': [5],\n",
       "                         'gbc__gb__n_estimators': [150],\n",
       "                         'gbc__gb__subsample': [0.5], 'gbt__gb__max_depth': [6], ...})"
      ]
     },
     "execution_count": 41,
     "metadata": {},
     "output_type": "execute_result"
    }
   ],
   "source": [
    "# fit voting classifier over best found parameters\n",
    "vote_gs = GridSearchCV(voters, param_grid = voter_params)\n",
    "vote_gs.fit(X_train, y_train)"
   ]
  },
  {
   "cell_type": "code",
   "execution_count": 42,
   "id": "a1e9d521-e601-468f-9a31-3ef7cfa8cfe9",
   "metadata": {},
   "outputs": [
    {
     "name": "stdout",
     "output_type": "stream",
     "text": [
      "0.9630827270277553\n",
      "0.5702746365105008\n"
     ]
    }
   ],
   "source": [
    "print(vote_gs.score(X_train, y_train))\n",
    "print(vote_gs.score(X_test, y_test))"
   ]
  },
  {
   "cell_type": "markdown",
   "id": "9468f23d-5560-4922-8868-9bb25f5c1718",
   "metadata": {},
   "source": [
    "## Stacking"
   ]
  },
  {
   "cell_type": "code",
   "execution_count": 44,
   "id": "5fcee550-01ce-4457-93bb-f046da716e4c",
   "metadata": {},
   "outputs": [
    {
     "name": "stderr",
     "output_type": "stream",
     "text": [
      "C:\\Users\\John\\anaconda3\\lib\\site-packages\\sklearn\\linear_model\\_logistic.py:814: ConvergenceWarning: lbfgs failed to converge (status=1):\n",
      "STOP: TOTAL NO. of ITERATIONS REACHED LIMIT.\n",
      "\n",
      "Increase the number of iterations (max_iter) or scale the data as shown in:\n",
      "    https://scikit-learn.org/stable/modules/preprocessing.html\n",
      "Please also refer to the documentation for alternative solver options:\n",
      "    https://scikit-learn.org/stable/modules/linear_model.html#logistic-regression\n",
      "  n_iter_i = _check_optimize_result(\n",
      "C:\\Users\\John\\anaconda3\\lib\\site-packages\\sklearn\\linear_model\\_logistic.py:814: ConvergenceWarning: lbfgs failed to converge (status=1):\n",
      "STOP: TOTAL NO. of ITERATIONS REACHED LIMIT.\n",
      "\n",
      "Increase the number of iterations (max_iter) or scale the data as shown in:\n",
      "    https://scikit-learn.org/stable/modules/preprocessing.html\n",
      "Please also refer to the documentation for alternative solver options:\n",
      "    https://scikit-learn.org/stable/modules/linear_model.html#logistic-regression\n",
      "  n_iter_i = _check_optimize_result(\n",
      "C:\\Users\\John\\anaconda3\\lib\\site-packages\\sklearn\\linear_model\\_logistic.py:814: ConvergenceWarning: lbfgs failed to converge (status=1):\n",
      "STOP: TOTAL NO. of ITERATIONS REACHED LIMIT.\n",
      "\n",
      "Increase the number of iterations (max_iter) or scale the data as shown in:\n",
      "    https://scikit-learn.org/stable/modules/preprocessing.html\n",
      "Please also refer to the documentation for alternative solver options:\n",
      "    https://scikit-learn.org/stable/modules/linear_model.html#logistic-regression\n",
      "  n_iter_i = _check_optimize_result(\n",
      "C:\\Users\\John\\anaconda3\\lib\\site-packages\\sklearn\\linear_model\\_logistic.py:814: ConvergenceWarning: lbfgs failed to converge (status=1):\n",
      "STOP: TOTAL NO. of ITERATIONS REACHED LIMIT.\n",
      "\n",
      "Increase the number of iterations (max_iter) or scale the data as shown in:\n",
      "    https://scikit-learn.org/stable/modules/preprocessing.html\n",
      "Please also refer to the documentation for alternative solver options:\n",
      "    https://scikit-learn.org/stable/modules/linear_model.html#logistic-regression\n",
      "  n_iter_i = _check_optimize_result(\n",
      "C:\\Users\\John\\anaconda3\\lib\\site-packages\\sklearn\\linear_model\\_logistic.py:814: ConvergenceWarning: lbfgs failed to converge (status=1):\n",
      "STOP: TOTAL NO. of ITERATIONS REACHED LIMIT.\n",
      "\n",
      "Increase the number of iterations (max_iter) or scale the data as shown in:\n",
      "    https://scikit-learn.org/stable/modules/preprocessing.html\n",
      "Please also refer to the documentation for alternative solver options:\n",
      "    https://scikit-learn.org/stable/modules/linear_model.html#logistic-regression\n",
      "  n_iter_i = _check_optimize_result(\n",
      "C:\\Users\\John\\anaconda3\\lib\\site-packages\\sklearn\\linear_model\\_logistic.py:814: ConvergenceWarning: lbfgs failed to converge (status=1):\n",
      "STOP: TOTAL NO. of ITERATIONS REACHED LIMIT.\n",
      "\n",
      "Increase the number of iterations (max_iter) or scale the data as shown in:\n",
      "    https://scikit-learn.org/stable/modules/preprocessing.html\n",
      "Please also refer to the documentation for alternative solver options:\n",
      "    https://scikit-learn.org/stable/modules/linear_model.html#logistic-regression\n",
      "  n_iter_i = _check_optimize_result(\n"
     ]
    },
    {
     "data": {
      "text/plain": [
       "StackingClassifier(estimators=[('logc',\n",
       "                                Pipeline(steps=[('cvec', CountVectorizer()),\n",
       "                                                ('lr', LogisticRegression())])),\n",
       "                               ('bagc',\n",
       "                                Pipeline(steps=[('cvec', CountVectorizer()),\n",
       "                                                ('bag', BaggingClassifier())])),\n",
       "                               ('rfc',\n",
       "                                Pipeline(steps=[('cvec', CountVectorizer()),\n",
       "                                                ('rf',\n",
       "                                                 RandomForestClassifier())])),\n",
       "                               ('adac',\n",
       "                                Pipeline(steps=[('cvec', CountVectorizer()),\n",
       "                                                ('ada',\n",
       "                                                 AdaBoostClas...\n",
       "                                Pipeline(steps=[('tvec', TfidfVectorizer()),\n",
       "                                                ('rf',\n",
       "                                                 RandomForestClassifier())])),\n",
       "                               ('adat',\n",
       "                                Pipeline(steps=[('tvec', TfidfVectorizer()),\n",
       "                                                ('ada',\n",
       "                                                 AdaBoostClassifier())])),\n",
       "                               ('gbt',\n",
       "                                Pipeline(steps=[('tvec', TfidfVectorizer()),\n",
       "                                                ('gb',\n",
       "                                                 GradientBoostingClassifier())])),\n",
       "                               ('nbt',\n",
       "                                Pipeline(steps=[('tvec', TfidfVectorizer()),\n",
       "                                                ('nb', MultinomialNB())]))],\n",
       "                   final_estimator=LogisticRegression())"
      ]
     },
     "execution_count": 44,
     "metadata": {},
     "output_type": "execute_result"
    }
   ],
   "source": [
    "# pipe_tuples are already in the form for stacking\n",
    "# due to setup for VotingClassifier\n",
    "stack = StackingClassifier(estimators = pipe_tuples,\n",
    "                                 final_estimator = LogisticRegression())\n",
    "\n",
    "stack.fit(X_train, y_train)"
   ]
  },
  {
   "cell_type": "code",
   "execution_count": 45,
   "id": "d5655db2-8fa4-4ac2-b5d3-6d016265e274",
   "metadata": {},
   "outputs": [
    {
     "name": "stdout",
     "output_type": "stream",
     "text": [
      "0.9841013203988144\n",
      "0.5807754442649434\n"
     ]
    }
   ],
   "source": [
    "print(stack.score(X_train, y_train))\n",
    "print(stack.score(X_test, y_test))"
   ]
  },
  {
   "cell_type": "code",
   "execution_count": 162,
   "id": "263a8bcb-da75-4462-bc5a-671096dae618",
   "metadata": {},
   "outputs": [],
   "source": [
    "# summative bar chart on model performances\n",
    "model_names = ['Log', 'Bag', 'R Forest', 'Ada', 'Gradient', 'Mult NB', 'Vote', 'Stacking']\n",
    "\n",
    "# tune models are log, bag, rf, ada, grad boost, naive bayes\n",
    "# first six models with countvectorizer, then with tfidfvectorizer\n",
    "all_models = tuned_models + [vote_gs, stack]\n",
    "\n",
    "# accuracy scores for each classification model\n",
    "model_scores = [model.score(X_test, y_test) for model in all_models]"
   ]
  },
  {
   "cell_type": "code",
   "execution_count": 232,
   "id": "4d5bc133-c481-4b74-87ee-82299f92aa25",
   "metadata": {},
   "outputs": [
    {
     "data": {
      "image/png": "[encoded data removed]",
      "text/plain": [
       "<Figure size 1296x504 with 1 Axes>"
      ]
     },
     "metadata": {
      "needs_background": "light"
     },
     "output_type": "display_data"
    }
   ],
   "source": [
    "plt.figure(figsize = (18,7))\n",
    "\n",
    "# plot title\n",
    "plt.text(s = 'Multnomial Naive Bays and Stacking Performed Best', size = 30, x = 1, y = 0.63)\n",
    "\n",
    "# generate x position of bars and \n",
    "# create model names as x labels for bars\n",
    "x_vals = list(range(1,7)) + list(range(8,14)) + [15,16]\n",
    "x_labels = 2*model_names[:6] + model_names[-2:]\n",
    "plt.xticks(x_vals, labels = x_labels, rotation = 60, size = 15)\n",
    "plt.yticks(size = 15)\n",
    "\n",
    "# plot the bars\n",
    "plt.bar(x_vals, model_scores, width = 0.6, color = 'tab:grey')\n",
    "\n",
    "# shape axes and create axes labels\n",
    "plt.xlim([0,17])\n",
    "plt.ylim([0.48,0.6])\n",
    "plt.text(s = 'Models', size = 25, x= 8, y = 0.445)\n",
    "plt.text(s = 'Test Accuracy', size = 25, rotation = 90, x = -1.6, y = 0.51);\n",
    "\n",
    "# baseline accuracy\n",
    "plt.axhline(0.5, color = 'red')\n",
    "\n",
    "# plot subdivisions\n",
    "plt.axvline(7, color = 'black')\n",
    "plt.axvline(14, color = 'black')\n",
    "\n",
    "# subdivision titles\n",
    "plt.text(s = 'CountVectorizer', size = 25, x= 1.75, y = 0.61)\n",
    "plt.text(s = 'TfidfVectorizer', size = 25, x= 8.75, y = 0.61)\n",
    "plt.text(s = 'Both', size = 25, x= 14.85, y = 0.61)\n",
    "\n",
    "\n",
    "# highlight production model\n",
    "plt.bar(16, model_scores[-1], width = 0.6, color = 'tab:blue')\n",
    "\n",
    "# highlight runneru-ups\n",
    "#runner_ups = [model_scores[i] for i in [2,6,11,12]]\n",
    "#plt.bar([3,8,13,15], runner_ups, width = 0.6, color = 'tab:blue', alpha = 0.3)\n",
    "\n",
    "\n",
    "# grid\n",
    "plt.axhline(0.525, color = 'gray', alpha = 0.5, linewidth = 0.5)\n",
    "plt.axhline(0.55, color = 'gray', alpha = 0.5, linewidth = 0.5)\n",
    "plt.axhline(0.575, color = 'gray', alpha = 0.5, linewidth = 0.5);\n",
    "\n",
    "#plt.tight_layout()\n",
    "plt.savefig('images/iteration_scores.png');"
   ]
  },
  {
   "cell_type": "markdown",
   "id": "7e3ce7f2-a286-4d68-ab71-597cf5d3641b",
   "metadata": {},
   "source": [
    "## Modeling On Non Text Data"
   ]
  },
  {
   "cell_type": "code",
   "execution_count": 46,
   "id": "f53506dc-238e-47ed-9ef6-13d36b9219bc",
   "metadata": {},
   "outputs": [],
   "source": [
    "# nt for Non Text\n",
    "X_nt = all_posts[['created_utc', 'sent_pos', 'sent_neg', 'sent_compound', 'word_count']]\n",
    "y_nt = all_posts['subreddit']"
   ]
  },
  {
   "cell_type": "code",
   "execution_count": 47,
   "id": "e6d24afc-ab7a-48ad-a950-d54642a48a91",
   "metadata": {},
   "outputs": [],
   "source": [
    "X_train_nt, X_test_nt, y_train_nt, y_test_nt = train_test_split(X_nt, y_nt, random_state = 42, stratify = y_nt)"
   ]
  },
  {
   "cell_type": "code",
   "execution_count": 48,
   "id": "117cece4-cbae-45f9-b6ae-8bb61df763c5",
   "metadata": {},
   "outputs": [
    {
     "data": {
      "text/plain": [
       "LogisticRegression()"
      ]
     },
     "execution_count": 48,
     "metadata": {},
     "output_type": "execute_result"
    }
   ],
   "source": [
    "lr = LogisticRegression()\n",
    "lr.fit(X_train_nt, y_train_nt)"
   ]
  },
  {
   "cell_type": "code",
   "execution_count": 49,
   "id": "0ab8543c-ffca-4353-b7ad-75a32980a1d2",
   "metadata": {},
   "outputs": [
    {
     "name": "stdout",
     "output_type": "stream",
     "text": [
      "0.5036378334680679\n",
      "0.5032310177705978\n"
     ]
    }
   ],
   "source": [
    "print(lr.score(X_train_nt, y_train_nt))\n",
    "print(lr.score(X_test_nt, y_test_nt))"
   ]
  },
  {
   "cell_type": "code",
   "execution_count": 50,
   "id": "426c5c04-129f-4fda-ae10-1b77f8c79337",
   "metadata": {},
   "outputs": [
    {
     "data": {
      "text/plain": [
       "RandomForestClassifier()"
      ]
     },
     "execution_count": 50,
     "metadata": {},
     "output_type": "execute_result"
    }
   ],
   "source": [
    "rf = RandomForestClassifier()\n",
    "rf.fit(X_train_nt, y_train_nt)"
   ]
  },
  {
   "cell_type": "code",
   "execution_count": 51,
   "id": "43681794-c92f-4097-bf3a-446d194bebf9",
   "metadata": {},
   "outputs": [
    {
     "data": {
      "text/plain": [
       "created_utc      0.652604\n",
       "sent_pos         0.087139\n",
       "sent_neg         0.061961\n",
       "sent_compound    0.097087\n",
       "word_count       0.101208\n",
       "dtype: float64"
      ]
     },
     "execution_count": 51,
     "metadata": {},
     "output_type": "execute_result"
    }
   ],
   "source": [
    "pd.Series(rf.feature_importances_, index = X_nt.columns)"
   ]
  },
  {
   "cell_type": "markdown",
   "id": "ea4cb9ed-7087-4cb4-96c6-ef67f1b328a5",
   "metadata": {},
   "source": [
    "Impressive!\n",
    "\n",
    "Suspiciously, the model's success is coming from `created_utc`. It may be the case that when we pulled our data, we had to dig deeper into one subreddit. If this is the case, the model is simply noticing information about how the data was scraped.\n",
    "\n",
    "Let us convert our UTC time to a datetime and reimplement the model using the time of day in which the post was created. If the model remains successful, this will be a great thing to notice. If not, it will be nice to rule it out."
   ]
  },
  {
   "cell_type": "code",
   "execution_count": 52,
   "id": "bc5c3879-66ab-4bfa-808f-e575d27d6708",
   "metadata": {},
   "outputs": [],
   "source": [
    "all_posts['post_hour'] = pd.to_datetime(all_posts['created_utc'], unit = 's').apply(lambda x: x.time().hour)"
   ]
  },
  {
   "cell_type": "code",
   "execution_count": 53,
   "id": "3f744561-a8d0-4045-bbea-f68884568f44",
   "metadata": {},
   "outputs": [],
   "source": [
    "X_nt = all_posts[['post_hour', 'sent_pos', 'sent_neg', 'sent_compound', 'word_count']]\n",
    "y_nt = all_posts['subreddit']"
   ]
  },
  {
   "cell_type": "code",
   "execution_count": 54,
   "id": "bffb2ee9-8da7-4bee-80ab-cfc7538c21ce",
   "metadata": {},
   "outputs": [],
   "source": [
    "X_train_nt, X_test_nt, y_train_nt, y_test_nt = train_test_split(X_nt, y_nt, random_state = 42, stratify = y_nt)"
   ]
  },
  {
   "cell_type": "code",
   "execution_count": 55,
   "id": "cda515a0-cc4c-43c6-b050-8c1489626bba",
   "metadata": {},
   "outputs": [
    {
     "data": {
      "text/plain": [
       "LogisticRegression()"
      ]
     },
     "execution_count": 55,
     "metadata": {},
     "output_type": "execute_result"
    }
   ],
   "source": [
    "lr = LogisticRegression()\n",
    "lr.fit(X_train_nt, y_train_nt)"
   ]
  },
  {
   "cell_type": "code",
   "execution_count": 56,
   "id": "a67bf8cd-c837-4980-aedc-6bac00e75c4e",
   "metadata": {},
   "outputs": [
    {
     "name": "stdout",
     "output_type": "stream",
     "text": [
      "0.535704661816222\n",
      "0.5331179321486268\n"
     ]
    }
   ],
   "source": [
    "print(lr.score(X_train_nt, y_train_nt))\n",
    "print(lr.score(X_test_nt, y_test_nt))"
   ]
  },
  {
   "cell_type": "code",
   "execution_count": 57,
   "id": "f0265d75-d958-487e-969a-6049800e5de1",
   "metadata": {},
   "outputs": [
    {
     "data": {
      "text/plain": [
       "RandomForestClassifier()"
      ]
     },
     "execution_count": 57,
     "metadata": {},
     "output_type": "execute_result"
    }
   ],
   "source": [
    "rf = RandomForestClassifier()\n",
    "rf.fit(X_train_nt, y_train_nt)"
   ]
  },
  {
   "cell_type": "code",
   "execution_count": 58,
   "id": "57f93abd-ae13-463f-a3c4-ad4455f64118",
   "metadata": {},
   "outputs": [
    {
     "name": "stdout",
     "output_type": "stream",
     "text": [
      "0.9897601724602533\n",
      "0.5218093699515347\n"
     ]
    }
   ],
   "source": [
    "print(rf.score(X_train_nt, y_train_nt))\n",
    "print(rf.score(X_test_nt, y_test_nt))"
   ]
  },
  {
   "cell_type": "code",
   "execution_count": 59,
   "id": "828552c1-00f8-46c5-9ab7-015049a264b4",
   "metadata": {},
   "outputs": [
    {
     "data": {
      "text/plain": [
       "post_hour        0.159657\n",
       "sent_pos         0.207078\n",
       "sent_neg         0.144483\n",
       "sent_compound    0.240390\n",
       "word_count       0.248393\n",
       "dtype: float64"
      ]
     },
     "execution_count": 59,
     "metadata": {},
     "output_type": "execute_result"
    }
   ],
   "source": [
    "pd.Series(rf.feature_importances_, index = X_nt.columns)"
   ]
  },
  {
   "cell_type": "code",
   "execution_count": 234,
   "id": "f11ee8d9-ebd3-4df2-b51b-534655a647c8",
   "metadata": {},
   "outputs": [
    {
     "data": {
      "text/plain": [
       "GridSearchCV(estimator=Pipeline(steps=[('ss', StandardScaler()),\n",
       "                                       ('knn', KNeighborsClassifier())]),\n",
       "             param_grid={'knn__n_neighbors': [5, 10, 15]})"
      ]
     },
     "execution_count": 234,
     "metadata": {},
     "output_type": "execute_result"
    }
   ],
   "source": [
    "knn_pipe = Pipeline([\n",
    "    ('ss', StandardScaler()),\n",
    "    ('knn', KNeighborsClassifier())\n",
    "])\n",
    "\n",
    "knn_params = {\n",
    "    'knn__n_neighbors': [5,10,15]\n",
    "}\n",
    "\n",
    "knn_gs = GridSearchCV(knn_pipe, param_grid = knn_params)\n",
    "\n",
    "knn_gs.fit(X_train_nt, y_train_nt)"
   ]
  },
  {
   "cell_type": "code",
   "execution_count": 235,
   "id": "b1ffa733-ccb9-4f3f-af0c-5ad5a5d8d257",
   "metadata": {},
   "outputs": [
    {
     "name": "stdout",
     "output_type": "stream",
     "text": [
      "0.6108865534896254\n",
      "0.5282714054927302\n"
     ]
    }
   ],
   "source": [
    "print(knn_gs.score(X_train_nt, y_train_nt))\n",
    "print(knn_gs.score(X_test_nt, y_test_nt))"
   ]
  },
  {
   "cell_type": "markdown",
   "id": "d4113263-4240-412c-9467-b974b65a2d27",
   "metadata": {},
   "source": [
    "After a few basic attempts to model the non text data, the scores do not seem to be anything better than our lowest performing text based models."
   ]
  }
 ],
 "metadata": {
  "kernelspec": {
   "display_name": "Python 3 (ipykernel)",
   "language": "python",
   "name": "python3"
  },
  "language_info": {
   "codemirror_mode": {
    "name": "ipython",
    "version": 3
   },
   "file_extension": ".py",
   "mimetype": "text/x-python",
   "name": "python",
   "nbconvert_exporter": "python",
   "pygments_lexer": "ipython3",
   "version": "3.9.12"
  }
 },
 "nbformat": 4,
 "nbformat_minor": 5
}
