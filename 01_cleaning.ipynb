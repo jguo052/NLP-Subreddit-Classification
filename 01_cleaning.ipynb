{
 "cells": [
  {
   "cell_type": "markdown",
   "id": "fe5e0838-cfb3-427a-a413-5a41b2ebecff",
   "metadata": {},
   "source": [
    "# Distinguishing r/Seattle and r/SeattleWA"
   ]
  },
  {
   "cell_type": "markdown",
   "id": "57600735-922c-463b-8324-7e1be89e81d0",
   "metadata": {
    "jp-MarkdownHeadingCollapsed": true,
    "tags": []
   },
   "source": [
    "## Problem Statement\n",
    "\n",
    "#### Background\n",
    "*Reddit* is a forum like website that is partitioned into many communities called *subreddits*. These subreddits, often prefixed with 'r/', provide a space for people all over the world to interact with one another and share things related to the specific subreddit. Some examples of subreddits or r/explainlikeimfive, r/cooking, and r/SanFrancisco.\n",
    " \n",
    "Since anyone can create a subreddit, many subreddits exist that appear to serve the same purpose on the surface. Usually these subreddits will still have their own differences that distinguish them from one another and justify their existence.\n",
    "\n",
    "For example, there are several subreddits related to the city of Seattle: r/Seattle and r/SeattleWA. Someone who has not explored these subreddits very thoroughly may have a question to ask about Seattle and not know which subreddit would be the most fitting to post in.\n",
    "\n",
    "#### Problem Statement\n",
    "In this project we:\n",
    "- explore the text data from posts on r/Seattle and r/SeattleWA\n",
    "- try to identify notable ways in how these two subreddits differ\n",
    "- and build classification models to try and predict if a post is more likely to come from r/Seattle or r/SeattleWA\n",
    "\n",
    "Since r/Seattle and r/SeattleWA are likely to have very similar users and posts (there are certainly people who participate in both subreddits), it will be challenging to build a model that can perform strong predictions. We will deem our model successful if it can correctly classify which subreddit a post belongs to more than 60% of the time."
   ]
  },
  {
   "cell_type": "markdown",
   "id": "8b23487a-03ea-4d35-821e-0db3b35512d4",
   "metadata": {},
   "source": [
    "---\n",
    "\n",
    "## Imports and Functions"
   ]
  },
  {
   "cell_type": "code",
   "execution_count": 2,
   "id": "e095bc62-e37c-42c2-a48a-b3d0d200b694",
   "metadata": {},
   "outputs": [],
   "source": [
    "# for pulling data and slowing request rate\n",
    "import requests\n",
    "import time\n",
    "\n",
    "# basic imports\n",
    "import pandas as pd\n",
    "import numpy as np\n",
    "import matplotlib.pyplot as plt\n",
    "import seaborn as sns\n",
    "\n",
    "# text imports\n",
    "import re\n",
    "from nltk.sentiment.vader import SentimentIntensityAnalyzer\n",
    "from nltk.stem.porter import PorterStemmer\n",
    "from nltk.corpus import stopwords\n",
    "from sklearn.feature_extraction.text import CountVectorizer, TfidfVectorizer\n",
    "\n",
    "# visualization import\n",
    "import plotly.express as px"
   ]
  },
  {
   "cell_type": "code",
   "execution_count": 4,
   "id": "6283908f-353e-4345-8ff5-151a39374b34",
   "metadata": {},
   "outputs": [],
   "source": [
    "def scrape_subreddit(subreddit):\n",
    "    '''\n",
    "    Given subreddit's name, request the most recent 2,250\n",
    "    posts from the given subreddit.\n",
    "    \n",
    "    Combines the data into a csv file.\n",
    "    '''\n",
    "    \n",
    "    url = 'https://api.pushshift.io/reddit/search/submission'\n",
    "    params = {'subreddit': subreddit,\n",
    "              'size': 250,\n",
    "              'is_self': True,\n",
    "              'selftext:not': '[removed]'}\n",
    "    \n",
    "    # assigns post data to variable 'posts'\n",
    "    data = requests.get(url, params).json()\n",
    "    posts = data['data']\n",
    "    \n",
    "    # adds the earliest post time to the 'before' API parameter\n",
    "    # next request will collect posts before this time\n",
    "    params['before'] = posts[-1]['created_utc']\n",
    "    \n",
    "    time.sleep(30)\n",
    "    \n",
    "    while len(posts) < 2_250:\n",
    "        # collects next batch of posts data as 'next_posts'\n",
    "        next_data = requests.get(url, params).json()\n",
    "        next_posts = next_data['data']\n",
    "        \n",
    "        # concatenate posts data to 'posts'\n",
    "        posts += next_posts\n",
    "        \n",
    "        # update API parameters to so the following 250 posts\n",
    "        # will be requested in the next iteration of the loop\n",
    "        earliest_post_time = next_posts[-1]['created_utc']\n",
    "        params['before'] = earliest_post_time\n",
    "        \n",
    "        # delay next request and not spam the API\n",
    "        time.sleep(30)\n",
    "        \n",
    "    posts_df = pd.DataFrame(posts)\n",
    "    posts_df.to_csv(f'datasets/{subreddit}.csv', index = False)\n",
    "    \n",
    "\n",
    "def text_cleaning(text):\n",
    "    '''\n",
    "    Cleans text by removing [bracketed statements], urls, emails,\n",
    "    some special characters (parentheses and stars), and some common html phrases.\n",
    "    \n",
    "    Returns the cleaned text\n",
    "    '''\n",
    "    \n",
    "    # remove new lines\n",
    "    text = re.sub('\\n', ' ', text)\n",
    "    \n",
    "    # remove parentheses and asterisks\n",
    "    text = re.sub(\"[\\(\\)\\*]\", '', text)\n",
    "    \n",
    "    # remove urls and do not include closing bracket ]\n",
    "    text = re.sub('http\\S+|www\\.\\S+', '', text)\n",
    "    \n",
    "    # remove email accounts\n",
    "    text = re.sub('\\S+@\\S+', '', text)\n",
    "    \n",
    "    # remove bracketed strings\n",
    "    text = re.sub('\\[(\\w|\\s)*\\]', '', text)\n",
    "    \n",
    "    # remove any leftover brackets\n",
    "    text = re.sub('[\\[\\]]', '', text)\n",
    "    \n",
    "    # replace parentheses with spaces\n",
    "    text = re.sub(\"/\", ' ', text)\n",
    "    \n",
    "    # remove some common html phrases\n",
    "    text = re.sub('&(gt|lt);', '', text)\n",
    "    text = re.sub('&?amp;', '', text)\n",
    "    text = re.sub('&?#x200b;?', '', text)\n",
    "    text = re.sub('&?#x200B;?', '', text) \n",
    "    \n",
    "    # replace whitespace with single space\n",
    "    text = re.sub('\\s+', ' ', text)\n",
    "    \n",
    "    # punctuation will be dropped after collecting sentiment\n",
    "    # , ; : . ! ?\n",
    "        \n",
    "    return text\n",
    "\n",
    "\n",
    "# although stop_drop_and_stem is a cooler name\n",
    "# it would be slightly less clear :(\n",
    "def drop_stop_and_stem(text):\n",
    "    '''\n",
    "    Takes a string, drops the stop words,\n",
    "    and stems the remaining words with PorterStemmer.\n",
    "    \n",
    "    Returns the stemmed, non-stopwords\n",
    "    '''\n",
    "    \n",
    "    pstem = PorterStemmer()\n",
    "    \n",
    "    #stem non-stopwords and put into a list\n",
    "    stemmed_list = [pstem.stem(word) for word in text.split()\n",
    "                    if word not in stopwords.words('english')]\n",
    "    \n",
    "    # return words separated by a space\n",
    "    return ' '.join(stemmed_list)\n",
    "\n",
    "\n",
    "def create_sentiment(df):\n",
    "    '''\n",
    "    Using Vader, collects sentiment from a DataFrame's \"text\" column.\n",
    "    Creates three new columns titled \"sent_pos\", \"sent_neg\", and \"sent_comp\" from the \n",
    "    positive, negative, and compound sentiment scores.\n",
    "    \n",
    "    Returns the DataFrame with additional columns \"sent_pos\", \"sent_neg\", and \"sent_comp\".\n",
    "    '''\n",
    "    \n",
    "    sent = SentimentIntensityAnalyzer()\n",
    "    \n",
    "    df['sent_pos'] = df['text'].apply(lambda x: sent.polarity_scores(x)['pos'])\n",
    "    df['sent_neg'] = df['text'].apply(lambda x: sent.polarity_scores(x)['neg'])\n",
    "    df['sent_compound'] = df['text'].apply(lambda x: sent.polarity_scores(x)['compound'])\n",
    "    \n",
    "\n",
    "def sample_three(series):\n",
    "    '''\n",
    "    Prints three random entries from a given series.\n",
    "    '''\n",
    "    for entry in series.sample(3):\n",
    "        print(entry)\n",
    "        print('----------\\n')"
   ]
  },
  {
   "cell_type": "markdown",
   "id": "c3f501b0-5421-432c-a46e-8e462955a901",
   "metadata": {},
   "source": [
    "---\n",
    "\n",
    "## Collecting the Data\n",
    "\n",
    "The code cell below uses the function `scrape_subreddit` to collect data on more than 2,000 posts from each subreddit r/Seattle and r/SeattleWA using [pushshift API](https://github.com/pushshift/api). The cell is commented out so that the results are consistent based on originally scraped datasets."
   ]
  },
  {
   "cell_type": "code",
   "execution_count": 5,
   "id": "a597840a-240f-40fa-ab65-cd25ffee0f96",
   "metadata": {},
   "outputs": [],
   "source": [
    "# collect more than 2,250 posts from /r/Seattle and /r/SeattleWA subreddits\n",
    "# commented out because the data has already been collected\n",
    "\n",
    "#scrape_subreddit('Seattle')\n",
    "#scrape_subreddit('SeattleWA')"
   ]
  },
  {
   "cell_type": "markdown",
   "id": "2c6650a2-1002-4d85-865b-03793cac443a",
   "metadata": {},
   "source": [
    "---\n",
    "\n",
    "## Cleaning\n",
    "#### First Impressions"
   ]
  },
  {
   "cell_type": "markdown",
   "id": "1d9c4f35-338e-422d-8d56-48a86ae3c50d",
   "metadata": {},
   "source": [
    "Let us read in the data and get a sense of what the data looks like."
   ]
  },
  {
   "cell_type": "code",
   "execution_count": 6,
   "id": "019e4993-2d4c-459a-bb45-01b34db5309f",
   "metadata": {},
   "outputs": [],
   "source": [
    "sea = pd.read_csv('datasets/Seattle.csv')\n",
    "sea_wa = pd.read_csv('datasets/SeattleWA.csv')"
   ]
  },
  {
   "cell_type": "code",
   "execution_count": 7,
   "id": "b6864720-fb41-4b63-8cd6-d26e3c78ba25",
   "metadata": {
    "tags": []
   },
   "outputs": [
    {
     "data": {
      "text/html": [
       "<div>\n",
       "<style scoped>\n",
       "    .dataframe tbody tr th:only-of-type {\n",
       "        vertical-align: middle;\n",
       "    }\n",
       "\n",
       "    .dataframe tbody tr th {\n",
       "        vertical-align: top;\n",
       "    }\n",
       "\n",
       "    .dataframe thead th {\n",
       "        text-align: right;\n",
       "    }\n",
       "</style>\n",
       "<table border=\"1\" class=\"dataframe\">\n",
       "  <thead>\n",
       "    <tr style=\"text-align: right;\">\n",
       "      <th></th>\n",
       "      <th>all_awardings</th>\n",
       "      <th>allow_live_comments</th>\n",
       "      <th>author</th>\n",
       "      <th>author_flair_css_class</th>\n",
       "      <th>author_flair_richtext</th>\n",
       "      <th>author_flair_text</th>\n",
       "      <th>author_flair_type</th>\n",
       "      <th>author_fullname</th>\n",
       "      <th>author_is_blocked</th>\n",
       "      <th>author_patreon_flair</th>\n",
       "      <th>...</th>\n",
       "      <th>thumbnail_width</th>\n",
       "      <th>post_hint</th>\n",
       "      <th>preview</th>\n",
       "      <th>collections</th>\n",
       "      <th>author_flair_template_id</th>\n",
       "      <th>author_cakeday</th>\n",
       "      <th>distinguished</th>\n",
       "      <th>call_to_action</th>\n",
       "      <th>category</th>\n",
       "      <th>removed_by_category</th>\n",
       "    </tr>\n",
       "  </thead>\n",
       "  <tbody>\n",
       "    <tr>\n",
       "      <th>0</th>\n",
       "      <td>[]</td>\n",
       "      <td>False</td>\n",
       "      <td>Remarkable-Salt610</td>\n",
       "      <td>NaN</td>\n",
       "      <td>[]</td>\n",
       "      <td>NaN</td>\n",
       "      <td>text</td>\n",
       "      <td>t2_ni0lq3vz</td>\n",
       "      <td>False</td>\n",
       "      <td>False</td>\n",
       "      <td>...</td>\n",
       "      <td>NaN</td>\n",
       "      <td>NaN</td>\n",
       "      <td>NaN</td>\n",
       "      <td>NaN</td>\n",
       "      <td>NaN</td>\n",
       "      <td>NaN</td>\n",
       "      <td>NaN</td>\n",
       "      <td>NaN</td>\n",
       "      <td>NaN</td>\n",
       "      <td>NaN</td>\n",
       "    </tr>\n",
       "    <tr>\n",
       "      <th>1</th>\n",
       "      <td>[]</td>\n",
       "      <td>False</td>\n",
       "      <td>westrox11</td>\n",
       "      <td>NaN</td>\n",
       "      <td>[]</td>\n",
       "      <td>NaN</td>\n",
       "      <td>text</td>\n",
       "      <td>t2_12a2u1</td>\n",
       "      <td>False</td>\n",
       "      <td>False</td>\n",
       "      <td>...</td>\n",
       "      <td>NaN</td>\n",
       "      <td>NaN</td>\n",
       "      <td>NaN</td>\n",
       "      <td>NaN</td>\n",
       "      <td>NaN</td>\n",
       "      <td>NaN</td>\n",
       "      <td>NaN</td>\n",
       "      <td>NaN</td>\n",
       "      <td>NaN</td>\n",
       "      <td>NaN</td>\n",
       "    </tr>\n",
       "    <tr>\n",
       "      <th>2</th>\n",
       "      <td>[]</td>\n",
       "      <td>False</td>\n",
       "      <td>Soggy_Sneakers87</td>\n",
       "      <td>NaN</td>\n",
       "      <td>[]</td>\n",
       "      <td>NaN</td>\n",
       "      <td>text</td>\n",
       "      <td>t2_a0vuvfra</td>\n",
       "      <td>False</td>\n",
       "      <td>False</td>\n",
       "      <td>...</td>\n",
       "      <td>NaN</td>\n",
       "      <td>NaN</td>\n",
       "      <td>NaN</td>\n",
       "      <td>NaN</td>\n",
       "      <td>NaN</td>\n",
       "      <td>NaN</td>\n",
       "      <td>NaN</td>\n",
       "      <td>NaN</td>\n",
       "      <td>NaN</td>\n",
       "      <td>NaN</td>\n",
       "    </tr>\n",
       "    <tr>\n",
       "      <th>3</th>\n",
       "      <td>[]</td>\n",
       "      <td>False</td>\n",
       "      <td>LittleShallot</td>\n",
       "      <td>NaN</td>\n",
       "      <td>[]</td>\n",
       "      <td>NaN</td>\n",
       "      <td>text</td>\n",
       "      <td>t2_13biud</td>\n",
       "      <td>False</td>\n",
       "      <td>False</td>\n",
       "      <td>...</td>\n",
       "      <td>NaN</td>\n",
       "      <td>NaN</td>\n",
       "      <td>NaN</td>\n",
       "      <td>NaN</td>\n",
       "      <td>NaN</td>\n",
       "      <td>NaN</td>\n",
       "      <td>NaN</td>\n",
       "      <td>NaN</td>\n",
       "      <td>NaN</td>\n",
       "      <td>NaN</td>\n",
       "    </tr>\n",
       "    <tr>\n",
       "      <th>4</th>\n",
       "      <td>[]</td>\n",
       "      <td>False</td>\n",
       "      <td>Chuckforpresident</td>\n",
       "      <td>NaN</td>\n",
       "      <td>[]</td>\n",
       "      <td>NaN</td>\n",
       "      <td>text</td>\n",
       "      <td>t2_3xq1mh9j</td>\n",
       "      <td>False</td>\n",
       "      <td>False</td>\n",
       "      <td>...</td>\n",
       "      <td>NaN</td>\n",
       "      <td>NaN</td>\n",
       "      <td>NaN</td>\n",
       "      <td>NaN</td>\n",
       "      <td>NaN</td>\n",
       "      <td>NaN</td>\n",
       "      <td>NaN</td>\n",
       "      <td>NaN</td>\n",
       "      <td>NaN</td>\n",
       "      <td>NaN</td>\n",
       "    </tr>\n",
       "  </tbody>\n",
       "</table>\n",
       "<p>5 rows × 76 columns</p>\n",
       "</div>"
      ],
      "text/plain": [
       "  all_awardings  allow_live_comments              author  \\\n",
       "0            []                False  Remarkable-Salt610   \n",
       "1            []                False           westrox11   \n",
       "2            []                False    Soggy_Sneakers87   \n",
       "3            []                False       LittleShallot   \n",
       "4            []                False   Chuckforpresident   \n",
       "\n",
       "  author_flair_css_class author_flair_richtext author_flair_text  \\\n",
       "0                    NaN                    []               NaN   \n",
       "1                    NaN                    []               NaN   \n",
       "2                    NaN                    []               NaN   \n",
       "3                    NaN                    []               NaN   \n",
       "4                    NaN                    []               NaN   \n",
       "\n",
       "  author_flair_type author_fullname  author_is_blocked author_patreon_flair  \\\n",
       "0              text     t2_ni0lq3vz              False                False   \n",
       "1              text       t2_12a2u1              False                False   \n",
       "2              text     t2_a0vuvfra              False                False   \n",
       "3              text       t2_13biud              False                False   \n",
       "4              text     t2_3xq1mh9j              False                False   \n",
       "\n",
       "   ... thumbnail_width post_hint  preview  collections  \\\n",
       "0  ...             NaN       NaN      NaN          NaN   \n",
       "1  ...             NaN       NaN      NaN          NaN   \n",
       "2  ...             NaN       NaN      NaN          NaN   \n",
       "3  ...             NaN       NaN      NaN          NaN   \n",
       "4  ...             NaN       NaN      NaN          NaN   \n",
       "\n",
       "   author_flair_template_id author_cakeday distinguished call_to_action  \\\n",
       "0                       NaN            NaN           NaN            NaN   \n",
       "1                       NaN            NaN           NaN            NaN   \n",
       "2                       NaN            NaN           NaN            NaN   \n",
       "3                       NaN            NaN           NaN            NaN   \n",
       "4                       NaN            NaN           NaN            NaN   \n",
       "\n",
       "  category  removed_by_category  \n",
       "0      NaN                  NaN  \n",
       "1      NaN                  NaN  \n",
       "2      NaN                  NaN  \n",
       "3      NaN                  NaN  \n",
       "4      NaN                  NaN  \n",
       "\n",
       "[5 rows x 76 columns]"
      ]
     },
     "execution_count": 7,
     "metadata": {},
     "output_type": "execute_result"
    }
   ],
   "source": [
    "sea.head(5)"
   ]
  },
  {
   "cell_type": "code",
   "execution_count": 8,
   "id": "32c80109-3613-4b30-b53d-a4e7f158ad6e",
   "metadata": {},
   "outputs": [
    {
     "data": {
      "text/plain": [
       "Index(['all_awardings', 'allow_live_comments', 'author',\n",
       "       'author_flair_css_class', 'author_flair_richtext', 'author_flair_text',\n",
       "       'author_flair_type', 'author_fullname', 'author_is_blocked',\n",
       "       'author_patreon_flair', 'author_premium', 'awarders', 'can_mod_post',\n",
       "       'contest_mode', 'created_utc', 'domain', 'full_link', 'gildings', 'id',\n",
       "       'is_created_from_ads_ui', 'is_crosspostable', 'is_meta',\n",
       "       'is_original_content', 'is_reddit_media_domain', 'is_robot_indexable',\n",
       "       'is_self', 'is_video', 'link_flair_background_color',\n",
       "       'link_flair_richtext', 'link_flair_text_color', 'link_flair_type',\n",
       "       'locked', 'media_only', 'no_follow', 'num_comments', 'num_crossposts',\n",
       "       'over_18', 'parent_whitelist_status', 'permalink', 'pinned', 'pwls',\n",
       "       'retrieved_on', 'score', 'selftext', 'send_replies', 'spoiler',\n",
       "       'stickied', 'subreddit', 'subreddit_id', 'subreddit_subscribers',\n",
       "       'subreddit_type', 'thumbnail', 'title', 'total_awards_received',\n",
       "       'treatment_tags', 'upvote_ratio', 'url', 'whitelist_status', 'wls',\n",
       "       'link_flair_css_class', 'link_flair_template_id', 'link_flair_text',\n",
       "       'author_flair_background_color', 'author_flair_text_color',\n",
       "       'media_metadata', 'thumbnail_height', 'thumbnail_width', 'post_hint',\n",
       "       'preview', 'collections', 'author_flair_template_id', 'author_cakeday',\n",
       "       'distinguished', 'call_to_action', 'category', 'removed_by_category'],\n",
       "      dtype='object')"
      ]
     },
     "execution_count": 8,
     "metadata": {},
     "output_type": "execute_result"
    }
   ],
   "source": [
    "sea.columns"
   ]
  },
  {
   "cell_type": "markdown",
   "id": "42d173d3-e5c5-4085-807b-a985f8256703",
   "metadata": {},
   "source": [
    "Most of the data is filled with missing and most of the columns seem irrelevant to our goals. The `subreddit`, `title`, and `selftext` columns are our main interest since we want to distinguish the two subreddits based on the text content of each post.\n",
    "\n",
    "Beyond this, `author` and `created_utc` may be relevant so let us keep these columns too."
   ]
  },
  {
   "cell_type": "code",
   "execution_count": 9,
   "id": "00f91eaa-60f6-4025-821b-0a54022d3c11",
   "metadata": {},
   "outputs": [],
   "source": [
    "# columns of interest\n",
    "init_cols = ['subreddit', 'author', 'created_utc', 'title', 'selftext']\n",
    "\n",
    "sea = sea[init_cols].copy()\n",
    "sea_wa = sea_wa[init_cols].copy()"
   ]
  },
  {
   "cell_type": "markdown",
   "id": "85d5f9cc-dbe1-494c-88aa-3d00b76b5cab",
   "metadata": {},
   "source": [
    "Let us see if there are any blatant things to clean in the data."
   ]
  },
  {
   "cell_type": "code",
   "execution_count": 10,
   "id": "aa5be538-45e1-4845-a4b0-6802aad26d61",
   "metadata": {},
   "outputs": [
    {
     "data": {
      "text/plain": [
       "subreddit      0\n",
       "author         0\n",
       "created_utc    0\n",
       "title          0\n",
       "selftext       0\n",
       "dtype: int64"
      ]
     },
     "execution_count": 10,
     "metadata": {},
     "output_type": "execute_result"
    }
   ],
   "source": [
    "sea.isnull().sum()"
   ]
  },
  {
   "cell_type": "code",
   "execution_count": 11,
   "id": "fe3e443b-dc02-4e80-b292-3dcefd960783",
   "metadata": {},
   "outputs": [
    {
     "data": {
      "text/plain": [
       "subreddit      0\n",
       "author         0\n",
       "created_utc    0\n",
       "title          0\n",
       "selftext       3\n",
       "dtype: int64"
      ]
     },
     "execution_count": 11,
     "metadata": {},
     "output_type": "execute_result"
    }
   ],
   "source": [
    "sea_wa.isnull().sum()"
   ]
  },
  {
   "cell_type": "code",
   "execution_count": 12,
   "id": "b9a278c4-7b82-43d2-966c-5ea62d49234f",
   "metadata": {},
   "outputs": [
    {
     "name": "stdout",
     "output_type": "stream",
     "text": [
      "(2499, 5)\n",
      "(2499, 5)\n"
     ]
    }
   ],
   "source": [
    "print(sea.shape)\n",
    "print(sea_wa.shape)"
   ]
  },
  {
   "cell_type": "markdown",
   "id": "b1b3d422-b8db-4d49-9933-c21e38202d41",
   "metadata": {},
   "source": [
    "There should not be any harm in removing three entries with missing selftext data out of nearly 2,500 posts."
   ]
  },
  {
   "cell_type": "code",
   "execution_count": 13,
   "id": "2d71575e-111f-447a-8390-5fb2a130e932",
   "metadata": {},
   "outputs": [],
   "source": [
    "sea_wa.dropna(inplace = True)"
   ]
  },
  {
   "cell_type": "markdown",
   "id": "c581fea7-40e2-4274-ae1c-f63802a20103",
   "metadata": {},
   "source": [
    "#### Feature Engineering: Combined Text, Sentiment, and Word Count"
   ]
  },
  {
   "cell_type": "markdown",
   "id": "a086ef10-a4f6-4600-aeca-2dd5e6cb3421",
   "metadata": {},
   "source": [
    "One thing we will want to collect is the sentiment and word count of each post in case there are any general differences here between the two subreddits.\n",
    "\n",
    "Before we do this, we can make our lives a little easier by concatenating the `title` and `selftext` data into a single column."
   ]
  },
  {
   "cell_type": "code",
   "execution_count": 14,
   "id": "42a18621-efad-40ba-a8b5-7bb800fdb2f9",
   "metadata": {},
   "outputs": [],
   "source": [
    "# create a new column from joining title text and selftext\n",
    "sea['text'] = sea['title'] + ' ' + sea['selftext']\n",
    "sea_wa['text'] = sea_wa['title'] + ' ' + sea_wa['selftext']\n",
    "\n",
    "# drop former text columns\n",
    "sea.drop(columns = ['title', 'selftext'], inplace = True)\n",
    "sea_wa.drop(columns = ['title', 'selftext'], inplace = True)"
   ]
  },
  {
   "cell_type": "markdown",
   "id": "f1f5a02c-8075-4983-8ae8-0fd9686fc9cb",
   "metadata": {},
   "source": [
    "We will also need to clean our text data before we collect the sentiment and word counts. This will hopefully make the resulting values more meaningful. Below we use our `text_cleaning` function to do basic cleaning like remove urls, select special characters, and bracketed text."
   ]
  },
  {
   "cell_type": "code",
   "execution_count": 15,
   "id": "24e00aaa-09b7-4595-a8f7-440a2bdd65a5",
   "metadata": {},
   "outputs": [],
   "source": [
    "# remove urls and emails, special characters ()/*, and [bracketed strings]\n",
    "sea['text'] = sea['text'].apply(text_cleaning)\n",
    "sea_wa['text'] = sea_wa['text'].apply(text_cleaning)"
   ]
  },
  {
   "cell_type": "markdown",
   "id": "555080cc-22dd-42c3-b583-47ead39465a5",
   "metadata": {},
   "source": [
    "Finally we use `vader` from `nltk` to collect the sentiment. Afterwards we drop the stopwords and stem. We collect sentiment first because `vader` may have trouble performing sentiment analysis on stemmed text."
   ]
  },
  {
   "cell_type": "code",
   "execution_count": 16,
   "id": "37f9ff68-5bd3-4504-95f7-7bf4c0f8f0d6",
   "metadata": {},
   "outputs": [],
   "source": [
    "# in place methods that generate positive and negative sentiment scores\n",
    "# for the given dataframes\n",
    "create_sentiment(sea)\n",
    "create_sentiment(sea_wa)"
   ]
  },
  {
   "cell_type": "code",
   "execution_count": 17,
   "id": "b54a6aa5-b647-428d-8d9d-6be84fefe9cd",
   "metadata": {},
   "outputs": [],
   "source": [
    "# drop some leftover punctuation - some of which was necessary for sentiment analysis\n",
    "sea['text'] = sea['text'].apply(lambda text: re.sub('[,;\\.!\\?]', '', text))\n",
    "sea_wa['text'] = sea_wa['text'].apply(lambda text: re.sub('[,;\\.!\\?]', '', text))"
   ]
  },
  {
   "cell_type": "code",
   "execution_count": 18,
   "id": "25bffcbb-6004-4ec4-a90a-53028e7f022b",
   "metadata": {},
   "outputs": [],
   "source": [
    "# count number of words by splitting text across white space and recording list length\n",
    "sea['word_count'] = sea['text'].str.split().str.len()\n",
    "sea_wa['word_count'] = sea_wa['text'].str.split().str.len()"
   ]
  },
  {
   "cell_type": "code",
   "execution_count": 19,
   "id": "d162323f-24de-4fed-aec6-559d01da3605",
   "metadata": {},
   "outputs": [],
   "source": [
    "#remove stopwords and stem the result\n",
    "sea['text'] = sea['text'].apply(drop_stop_and_stem)\n",
    "sea_wa['text'] = sea_wa['text'].apply(drop_stop_and_stem)"
   ]
  },
  {
   "cell_type": "markdown",
   "id": "ff09d5e9-84e4-40bb-9857-27f6d4d6d316",
   "metadata": {},
   "source": [
    "As a sanity check, let us see if the head of our DataFrames match our general expectations."
   ]
  },
  {
   "cell_type": "code",
   "execution_count": 20,
   "id": "12fc0240-0954-4633-908c-9355fc5d4ed5",
   "metadata": {},
   "outputs": [
    {
     "data": {
      "text/html": [
       "<div>\n",
       "<style scoped>\n",
       "    .dataframe tbody tr th:only-of-type {\n",
       "        vertical-align: middle;\n",
       "    }\n",
       "\n",
       "    .dataframe tbody tr th {\n",
       "        vertical-align: top;\n",
       "    }\n",
       "\n",
       "    .dataframe thead th {\n",
       "        text-align: right;\n",
       "    }\n",
       "</style>\n",
       "<table border=\"1\" class=\"dataframe\">\n",
       "  <thead>\n",
       "    <tr style=\"text-align: right;\">\n",
       "      <th></th>\n",
       "      <th>subreddit</th>\n",
       "      <th>author</th>\n",
       "      <th>created_utc</th>\n",
       "      <th>text</th>\n",
       "      <th>sent_pos</th>\n",
       "      <th>sent_neg</th>\n",
       "      <th>sent_compound</th>\n",
       "      <th>word_count</th>\n",
       "    </tr>\n",
       "  </thead>\n",
       "  <tbody>\n",
       "    <tr>\n",
       "      <th>0</th>\n",
       "      <td>Seattle</td>\n",
       "      <td>Remarkable-Salt610</td>\n",
       "      <td>1664407377</td>\n",
       "      <td>special educ seattl surround area i’ll reloc s...</td>\n",
       "      <td>0.111</td>\n",
       "      <td>0.000</td>\n",
       "      <td>0.8406</td>\n",
       "      <td>94</td>\n",
       "    </tr>\n",
       "    <tr>\n",
       "      <th>1</th>\n",
       "      <td>Seattle</td>\n",
       "      <td>westrox11</td>\n",
       "      <td>1664403922</td>\n",
       "      <td>best lyche martini seattl i’m hunt best lyche ...</td>\n",
       "      <td>0.374</td>\n",
       "      <td>0.000</td>\n",
       "      <td>0.9178</td>\n",
       "      <td>23</td>\n",
       "    </tr>\n",
       "    <tr>\n",
       "      <th>2</th>\n",
       "      <td>Seattle</td>\n",
       "      <td>Soggy_Sneakers87</td>\n",
       "      <td>1664402515</td>\n",
       "      <td>save life hi i learn cpr first aid class there...</td>\n",
       "      <td>0.211</td>\n",
       "      <td>0.014</td>\n",
       "      <td>0.9756</td>\n",
       "      <td>118</td>\n",
       "    </tr>\n",
       "  </tbody>\n",
       "</table>\n",
       "</div>"
      ],
      "text/plain": [
       "  subreddit              author  created_utc  \\\n",
       "0   Seattle  Remarkable-Salt610   1664407377   \n",
       "1   Seattle           westrox11   1664403922   \n",
       "2   Seattle    Soggy_Sneakers87   1664402515   \n",
       "\n",
       "                                                text  sent_pos  sent_neg  \\\n",
       "0  special educ seattl surround area i’ll reloc s...     0.111     0.000   \n",
       "1  best lyche martini seattl i’m hunt best lyche ...     0.374     0.000   \n",
       "2  save life hi i learn cpr first aid class there...     0.211     0.014   \n",
       "\n",
       "   sent_compound  word_count  \n",
       "0         0.8406          94  \n",
       "1         0.9178          23  \n",
       "2         0.9756         118  "
      ]
     },
     "execution_count": 20,
     "metadata": {},
     "output_type": "execute_result"
    }
   ],
   "source": [
    "sea.head(3)"
   ]
  },
  {
   "cell_type": "code",
   "execution_count": 21,
   "id": "4dc32224-d66d-4414-a6ea-6b0540ba6289",
   "metadata": {},
   "outputs": [
    {
     "data": {
      "text/html": [
       "<div>\n",
       "<style scoped>\n",
       "    .dataframe tbody tr th:only-of-type {\n",
       "        vertical-align: middle;\n",
       "    }\n",
       "\n",
       "    .dataframe tbody tr th {\n",
       "        vertical-align: top;\n",
       "    }\n",
       "\n",
       "    .dataframe thead th {\n",
       "        text-align: right;\n",
       "    }\n",
       "</style>\n",
       "<table border=\"1\" class=\"dataframe\">\n",
       "  <thead>\n",
       "    <tr style=\"text-align: right;\">\n",
       "      <th></th>\n",
       "      <th>subreddit</th>\n",
       "      <th>author</th>\n",
       "      <th>created_utc</th>\n",
       "      <th>text</th>\n",
       "      <th>sent_pos</th>\n",
       "      <th>sent_neg</th>\n",
       "      <th>sent_compound</th>\n",
       "      <th>word_count</th>\n",
       "    </tr>\n",
       "  </thead>\n",
       "  <tbody>\n",
       "    <tr>\n",
       "      <th>0</th>\n",
       "      <td>SeattleWA</td>\n",
       "      <td>Sinkholediaries</td>\n",
       "      <td>1664416603</td>\n",
       "      <td>archspir fan i'm ladi obsess i need friend lik...</td>\n",
       "      <td>0.206</td>\n",
       "      <td>0.284</td>\n",
       "      <td>-0.4939</td>\n",
       "      <td>31</td>\n",
       "    </tr>\n",
       "    <tr>\n",
       "      <th>1</th>\n",
       "      <td>SeattleWA</td>\n",
       "      <td>prf_q</td>\n",
       "      <td>1664406559</td>\n",
       "      <td>is overseed season yet those maintain lawn: ar...</td>\n",
       "      <td>0.069</td>\n",
       "      <td>0.000</td>\n",
       "      <td>0.3485</td>\n",
       "      <td>35</td>\n",
       "    </tr>\n",
       "    <tr>\n",
       "      <th>2</th>\n",
       "      <td>SeattleWA</td>\n",
       "      <td>eatmoremeatnow</td>\n",
       "      <td>1664404071</td>\n",
       "      <td>showbox box offic ha anybodi recent bought tic...</td>\n",
       "      <td>0.034</td>\n",
       "      <td>0.058</td>\n",
       "      <td>-0.3270</td>\n",
       "      <td>55</td>\n",
       "    </tr>\n",
       "  </tbody>\n",
       "</table>\n",
       "</div>"
      ],
      "text/plain": [
       "   subreddit           author  created_utc  \\\n",
       "0  SeattleWA  Sinkholediaries   1664416603   \n",
       "1  SeattleWA            prf_q   1664406559   \n",
       "2  SeattleWA   eatmoremeatnow   1664404071   \n",
       "\n",
       "                                                text  sent_pos  sent_neg  \\\n",
       "0  archspir fan i'm ladi obsess i need friend lik...     0.206     0.284   \n",
       "1  is overseed season yet those maintain lawn: ar...     0.069     0.000   \n",
       "2  showbox box offic ha anybodi recent bought tic...     0.034     0.058   \n",
       "\n",
       "   sent_compound  word_count  \n",
       "0        -0.4939          31  \n",
       "1         0.3485          35  \n",
       "2        -0.3270          55  "
      ]
     },
     "execution_count": 21,
     "metadata": {},
     "output_type": "execute_result"
    }
   ],
   "source": [
    "sea_wa.head(3)"
   ]
  },
  {
   "cell_type": "markdown",
   "id": "cd1fb6f9-02df-46b7-88f4-963204282b4a",
   "metadata": {},
   "source": [
    "#### Cleaning"
   ]
  },
  {
   "cell_type": "markdown",
   "id": "2045fa97-aed1-4775-af0b-2a14c5911ada",
   "metadata": {},
   "source": [
    "We performed a lot of text cleaning, but there may be some posts that need to be removed on the whole due to having duplicate posts or being outliers.\n",
    "\n",
    "Below we see the number of duplicate posts in each subreddit and what they look like in r/SeattleWA."
   ]
  },
  {
   "cell_type": "code",
   "execution_count": 22,
   "id": "df6c1f6c-c797-4e1f-a891-0c60b9e4cba0",
   "metadata": {},
   "outputs": [
    {
     "name": "stdout",
     "output_type": "stream",
     "text": [
      "Number of duplicates posts in r/Seattle: 7\n",
      "Number of duplicates posts in r/SeattleWA: 40\n"
     ]
    },
    {
     "data": {
      "text/html": [
       "<div>\n",
       "<style scoped>\n",
       "    .dataframe tbody tr th:only-of-type {\n",
       "        vertical-align: middle;\n",
       "    }\n",
       "\n",
       "    .dataframe tbody tr th {\n",
       "        vertical-align: top;\n",
       "    }\n",
       "\n",
       "    .dataframe thead th {\n",
       "        text-align: right;\n",
       "    }\n",
       "</style>\n",
       "<table border=\"1\" class=\"dataframe\">\n",
       "  <thead>\n",
       "    <tr style=\"text-align: right;\">\n",
       "      <th></th>\n",
       "      <th>subreddit</th>\n",
       "      <th>author</th>\n",
       "      <th>created_utc</th>\n",
       "      <th>text</th>\n",
       "      <th>sent_pos</th>\n",
       "      <th>sent_neg</th>\n",
       "      <th>sent_compound</th>\n",
       "      <th>word_count</th>\n",
       "    </tr>\n",
       "  </thead>\n",
       "  <tbody>\n",
       "    <tr>\n",
       "      <th>407</th>\n",
       "      <td>SeattleWA</td>\n",
       "      <td>AceItAcademy</td>\n",
       "      <td>1660688425</td>\n",
       "      <td>ace it academi - a newli open tutor servic bea...</td>\n",
       "      <td>0.025</td>\n",
       "      <td>0.0</td>\n",
       "      <td>0.3802</td>\n",
       "      <td>110</td>\n",
       "    </tr>\n",
       "    <tr>\n",
       "      <th>97</th>\n",
       "      <td>SeattleWA</td>\n",
       "      <td>AutoModerator</td>\n",
       "      <td>1663238408</td>\n",
       "      <td>seattl reddit commun open chat welcom daili lo...</td>\n",
       "      <td>0.084</td>\n",
       "      <td>0.0</td>\n",
       "      <td>0.8388</td>\n",
       "      <td>112</td>\n",
       "    </tr>\n",
       "    <tr>\n",
       "      <th>2328</th>\n",
       "      <td>SeattleWA</td>\n",
       "      <td>AutoModerator</td>\n",
       "      <td>1646912409</td>\n",
       "      <td>seattl reddit commun open chat welcom daili lo...</td>\n",
       "      <td>0.084</td>\n",
       "      <td>0.0</td>\n",
       "      <td>0.8388</td>\n",
       "      <td>112</td>\n",
       "    </tr>\n",
       "    <tr>\n",
       "      <th>2197</th>\n",
       "      <td>SeattleWA</td>\n",
       "      <td>AutoModerator</td>\n",
       "      <td>1647513608</td>\n",
       "      <td>seattl reddit commun open chat welcom daili lo...</td>\n",
       "      <td>0.084</td>\n",
       "      <td>0.0</td>\n",
       "      <td>0.8388</td>\n",
       "      <td>112</td>\n",
       "    </tr>\n",
       "    <tr>\n",
       "      <th>2119</th>\n",
       "      <td>SeattleWA</td>\n",
       "      <td>AutoModerator</td>\n",
       "      <td>1648118409</td>\n",
       "      <td>seattl reddit commun open chat welcom daili lo...</td>\n",
       "      <td>0.084</td>\n",
       "      <td>0.0</td>\n",
       "      <td>0.8388</td>\n",
       "      <td>112</td>\n",
       "    </tr>\n",
       "    <tr>\n",
       "      <th>2024</th>\n",
       "      <td>SeattleWA</td>\n",
       "      <td>AutoModerator</td>\n",
       "      <td>1648723209</td>\n",
       "      <td>seattl reddit commun open chat welcom daili lo...</td>\n",
       "      <td>0.084</td>\n",
       "      <td>0.0</td>\n",
       "      <td>0.8388</td>\n",
       "      <td>112</td>\n",
       "    </tr>\n",
       "    <tr>\n",
       "      <th>1944</th>\n",
       "      <td>SeattleWA</td>\n",
       "      <td>AutoModerator</td>\n",
       "      <td>1649328010</td>\n",
       "      <td>seattl reddit commun open chat welcom daili lo...</td>\n",
       "      <td>0.084</td>\n",
       "      <td>0.0</td>\n",
       "      <td>0.8388</td>\n",
       "      <td>112</td>\n",
       "    </tr>\n",
       "    <tr>\n",
       "      <th>1887</th>\n",
       "      <td>SeattleWA</td>\n",
       "      <td>AutoModerator</td>\n",
       "      <td>1649932809</td>\n",
       "      <td>seattl reddit commun open chat welcom daili lo...</td>\n",
       "      <td>0.084</td>\n",
       "      <td>0.0</td>\n",
       "      <td>0.8388</td>\n",
       "      <td>112</td>\n",
       "    </tr>\n",
       "    <tr>\n",
       "      <th>1798</th>\n",
       "      <td>SeattleWA</td>\n",
       "      <td>AutoModerator</td>\n",
       "      <td>1650537609</td>\n",
       "      <td>seattl reddit commun open chat welcom daili lo...</td>\n",
       "      <td>0.084</td>\n",
       "      <td>0.0</td>\n",
       "      <td>0.8388</td>\n",
       "      <td>112</td>\n",
       "    </tr>\n",
       "    <tr>\n",
       "      <th>1716</th>\n",
       "      <td>SeattleWA</td>\n",
       "      <td>AutoModerator</td>\n",
       "      <td>1651142410</td>\n",
       "      <td>seattl reddit commun open chat welcom daili lo...</td>\n",
       "      <td>0.084</td>\n",
       "      <td>0.0</td>\n",
       "      <td>0.8388</td>\n",
       "      <td>112</td>\n",
       "    </tr>\n",
       "  </tbody>\n",
       "</table>\n",
       "</div>"
      ],
      "text/plain": [
       "      subreddit         author  created_utc  \\\n",
       "407   SeattleWA   AceItAcademy   1660688425   \n",
       "97    SeattleWA  AutoModerator   1663238408   \n",
       "2328  SeattleWA  AutoModerator   1646912409   \n",
       "2197  SeattleWA  AutoModerator   1647513608   \n",
       "2119  SeattleWA  AutoModerator   1648118409   \n",
       "2024  SeattleWA  AutoModerator   1648723209   \n",
       "1944  SeattleWA  AutoModerator   1649328010   \n",
       "1887  SeattleWA  AutoModerator   1649932809   \n",
       "1798  SeattleWA  AutoModerator   1650537609   \n",
       "1716  SeattleWA  AutoModerator   1651142410   \n",
       "\n",
       "                                                   text  sent_pos  sent_neg  \\\n",
       "407   ace it academi - a newli open tutor servic bea...     0.025       0.0   \n",
       "97    seattl reddit commun open chat welcom daili lo...     0.084       0.0   \n",
       "2328  seattl reddit commun open chat welcom daili lo...     0.084       0.0   \n",
       "2197  seattl reddit commun open chat welcom daili lo...     0.084       0.0   \n",
       "2119  seattl reddit commun open chat welcom daili lo...     0.084       0.0   \n",
       "2024  seattl reddit commun open chat welcom daili lo...     0.084       0.0   \n",
       "1944  seattl reddit commun open chat welcom daili lo...     0.084       0.0   \n",
       "1887  seattl reddit commun open chat welcom daili lo...     0.084       0.0   \n",
       "1798  seattl reddit commun open chat welcom daili lo...     0.084       0.0   \n",
       "1716  seattl reddit commun open chat welcom daili lo...     0.084       0.0   \n",
       "\n",
       "      sent_compound  word_count  \n",
       "407          0.3802         110  \n",
       "97           0.8388         112  \n",
       "2328         0.8388         112  \n",
       "2197         0.8388         112  \n",
       "2119         0.8388         112  \n",
       "2024         0.8388         112  \n",
       "1944         0.8388         112  \n",
       "1887         0.8388         112  \n",
       "1798         0.8388         112  \n",
       "1716         0.8388         112  "
      ]
     },
     "execution_count": 22,
     "metadata": {},
     "output_type": "execute_result"
    }
   ],
   "source": [
    "print(f\"Number of duplicates posts in r/Seattle: {sea[sea['text'].duplicated()].sort_values(by = 'author').shape[0]}\")\n",
    "print(f\"Number of duplicates posts in r/SeattleWA: {sea_wa[sea_wa['text'].duplicated()].sort_values(by = 'author').shape[0]}\")\n",
    "sea_wa[sea_wa['text'].duplicated()].sort_values(by = 'author').head(10)"
   ]
  },
  {
   "cell_type": "code",
   "execution_count": 23,
   "id": "e5caabb8-df36-414f-86a4-07691b0f33d5",
   "metadata": {},
   "outputs": [],
   "source": [
    "# drop duplicate entries\n",
    "sea.drop_duplicates('text', inplace = True)\n",
    "sea_wa.drop_duplicates('text', inplace = True)"
   ]
  },
  {
   "cell_type": "markdown",
   "id": "7fc4bd61-6a33-4e52-9a8a-4f93f2846c52",
   "metadata": {},
   "source": [
    "Next let us examine the distributions and see if there are any outliers."
   ]
  },
  {
   "cell_type": "code",
   "execution_count": 24,
   "id": "4295b903-1873-4e88-9d8a-a2270561cb79",
   "metadata": {},
   "outputs": [
    {
     "data": {
      "text/html": [
       "<div>\n",
       "<style scoped>\n",
       "    .dataframe tbody tr th:only-of-type {\n",
       "        vertical-align: middle;\n",
       "    }\n",
       "\n",
       "    .dataframe tbody tr th {\n",
       "        vertical-align: top;\n",
       "    }\n",
       "\n",
       "    .dataframe thead th {\n",
       "        text-align: right;\n",
       "    }\n",
       "</style>\n",
       "<table border=\"1\" class=\"dataframe\">\n",
       "  <thead>\n",
       "    <tr style=\"text-align: right;\">\n",
       "      <th></th>\n",
       "      <th>created_utc</th>\n",
       "      <th>sent_pos</th>\n",
       "      <th>sent_neg</th>\n",
       "      <th>sent_compound</th>\n",
       "      <th>word_count</th>\n",
       "    </tr>\n",
       "  </thead>\n",
       "  <tbody>\n",
       "    <tr>\n",
       "      <th>count</th>\n",
       "      <td>2.492000e+03</td>\n",
       "      <td>2492.000000</td>\n",
       "      <td>2492.000000</td>\n",
       "      <td>2492.000000</td>\n",
       "      <td>2492.000000</td>\n",
       "    </tr>\n",
       "    <tr>\n",
       "      <th>mean</th>\n",
       "      <td>1.661454e+09</td>\n",
       "      <td>0.122780</td>\n",
       "      <td>0.047807</td>\n",
       "      <td>0.395880</td>\n",
       "      <td>93.412119</td>\n",
       "    </tr>\n",
       "    <tr>\n",
       "      <th>std</th>\n",
       "      <td>1.692212e+06</td>\n",
       "      <td>0.087505</td>\n",
       "      <td>0.060178</td>\n",
       "      <td>0.589711</td>\n",
       "      <td>127.173531</td>\n",
       "    </tr>\n",
       "    <tr>\n",
       "      <th>min</th>\n",
       "      <td>1.658632e+09</td>\n",
       "      <td>0.000000</td>\n",
       "      <td>0.000000</td>\n",
       "      <td>-0.999400</td>\n",
       "      <td>0.000000</td>\n",
       "    </tr>\n",
       "    <tr>\n",
       "      <th>25%</th>\n",
       "      <td>1.659980e+09</td>\n",
       "      <td>0.060000</td>\n",
       "      <td>0.000000</td>\n",
       "      <td>0.000000</td>\n",
       "      <td>39.000000</td>\n",
       "    </tr>\n",
       "    <tr>\n",
       "      <th>50%</th>\n",
       "      <td>1.661382e+09</td>\n",
       "      <td>0.113000</td>\n",
       "      <td>0.030000</td>\n",
       "      <td>0.636450</td>\n",
       "      <td>62.000000</td>\n",
       "    </tr>\n",
       "    <tr>\n",
       "      <th>75%</th>\n",
       "      <td>1.663022e+09</td>\n",
       "      <td>0.177000</td>\n",
       "      <td>0.075000</td>\n",
       "      <td>0.879525</td>\n",
       "      <td>104.250000</td>\n",
       "    </tr>\n",
       "    <tr>\n",
       "      <th>max</th>\n",
       "      <td>1.664407e+09</td>\n",
       "      <td>0.586000</td>\n",
       "      <td>0.462000</td>\n",
       "      <td>0.999800</td>\n",
       "      <td>2088.000000</td>\n",
       "    </tr>\n",
       "  </tbody>\n",
       "</table>\n",
       "</div>"
      ],
      "text/plain": [
       "        created_utc     sent_pos     sent_neg  sent_compound   word_count\n",
       "count  2.492000e+03  2492.000000  2492.000000    2492.000000  2492.000000\n",
       "mean   1.661454e+09     0.122780     0.047807       0.395880    93.412119\n",
       "std    1.692212e+06     0.087505     0.060178       0.589711   127.173531\n",
       "min    1.658632e+09     0.000000     0.000000      -0.999400     0.000000\n",
       "25%    1.659980e+09     0.060000     0.000000       0.000000    39.000000\n",
       "50%    1.661382e+09     0.113000     0.030000       0.636450    62.000000\n",
       "75%    1.663022e+09     0.177000     0.075000       0.879525   104.250000\n",
       "max    1.664407e+09     0.586000     0.462000       0.999800  2088.000000"
      ]
     },
     "execution_count": 24,
     "metadata": {},
     "output_type": "execute_result"
    }
   ],
   "source": [
    "sea.describe()"
   ]
  },
  {
   "cell_type": "code",
   "execution_count": 25,
   "id": "885cb19a-fa9a-41ff-b9ee-849698604057",
   "metadata": {},
   "outputs": [
    {
     "data": {
      "text/html": [
       "<div>\n",
       "<style scoped>\n",
       "    .dataframe tbody tr th:only-of-type {\n",
       "        vertical-align: middle;\n",
       "    }\n",
       "\n",
       "    .dataframe tbody tr th {\n",
       "        vertical-align: top;\n",
       "    }\n",
       "\n",
       "    .dataframe thead th {\n",
       "        text-align: right;\n",
       "    }\n",
       "</style>\n",
       "<table border=\"1\" class=\"dataframe\">\n",
       "  <thead>\n",
       "    <tr style=\"text-align: right;\">\n",
       "      <th></th>\n",
       "      <th>created_utc</th>\n",
       "      <th>sent_pos</th>\n",
       "      <th>sent_neg</th>\n",
       "      <th>sent_compound</th>\n",
       "      <th>word_count</th>\n",
       "    </tr>\n",
       "  </thead>\n",
       "  <tbody>\n",
       "    <tr>\n",
       "      <th>count</th>\n",
       "      <td>2.456000e+03</td>\n",
       "      <td>2456.000000</td>\n",
       "      <td>2456.000000</td>\n",
       "      <td>2456.000000</td>\n",
       "      <td>2456.000000</td>\n",
       "    </tr>\n",
       "    <tr>\n",
       "      <th>mean</th>\n",
       "      <td>1.654616e+09</td>\n",
       "      <td>0.119180</td>\n",
       "      <td>0.052660</td>\n",
       "      <td>0.337581</td>\n",
       "      <td>81.930782</td>\n",
       "    </tr>\n",
       "    <tr>\n",
       "      <th>std</th>\n",
       "      <td>5.306147e+06</td>\n",
       "      <td>0.093221</td>\n",
       "      <td>0.071854</td>\n",
       "      <td>0.594802</td>\n",
       "      <td>88.568724</td>\n",
       "    </tr>\n",
       "    <tr>\n",
       "      <th>min</th>\n",
       "      <td>1.646007e+09</td>\n",
       "      <td>0.000000</td>\n",
       "      <td>0.000000</td>\n",
       "      <td>-0.997900</td>\n",
       "      <td>2.000000</td>\n",
       "    </tr>\n",
       "    <tr>\n",
       "      <th>25%</th>\n",
       "      <td>1.650032e+09</td>\n",
       "      <td>0.050000</td>\n",
       "      <td>0.000000</td>\n",
       "      <td>0.000000</td>\n",
       "      <td>33.000000</td>\n",
       "    </tr>\n",
       "    <tr>\n",
       "      <th>50%</th>\n",
       "      <td>1.654512e+09</td>\n",
       "      <td>0.108000</td>\n",
       "      <td>0.029000</td>\n",
       "      <td>0.536000</td>\n",
       "      <td>56.000000</td>\n",
       "    </tr>\n",
       "    <tr>\n",
       "      <th>75%</th>\n",
       "      <td>1.659459e+09</td>\n",
       "      <td>0.173250</td>\n",
       "      <td>0.081000</td>\n",
       "      <td>0.847125</td>\n",
       "      <td>98.000000</td>\n",
       "    </tr>\n",
       "    <tr>\n",
       "      <th>max</th>\n",
       "      <td>1.664417e+09</td>\n",
       "      <td>0.692000</td>\n",
       "      <td>0.730000</td>\n",
       "      <td>0.999500</td>\n",
       "      <td>1078.000000</td>\n",
       "    </tr>\n",
       "  </tbody>\n",
       "</table>\n",
       "</div>"
      ],
      "text/plain": [
       "        created_utc     sent_pos     sent_neg  sent_compound   word_count\n",
       "count  2.456000e+03  2456.000000  2456.000000    2456.000000  2456.000000\n",
       "mean   1.654616e+09     0.119180     0.052660       0.337581    81.930782\n",
       "std    5.306147e+06     0.093221     0.071854       0.594802    88.568724\n",
       "min    1.646007e+09     0.000000     0.000000      -0.997900     2.000000\n",
       "25%    1.650032e+09     0.050000     0.000000       0.000000    33.000000\n",
       "50%    1.654512e+09     0.108000     0.029000       0.536000    56.000000\n",
       "75%    1.659459e+09     0.173250     0.081000       0.847125    98.000000\n",
       "max    1.664417e+09     0.692000     0.730000       0.999500  1078.000000"
      ]
     },
     "execution_count": 25,
     "metadata": {},
     "output_type": "execute_result"
    }
   ],
   "source": [
    "sea_wa.describe()"
   ]
  },
  {
   "cell_type": "markdown",
   "id": "c010b207-e32c-4f32-93b4-8e0c03385640",
   "metadata": {},
   "source": [
    "From the summary statistics above we see that r/SeattleWA has a much higher maximum negative sentiment than r/Seattle and slightly higher maximum positive sentiment. Besides that the positive and negative sentiment distributions look fairly similar. On the other hand, r/Seattle has slightly higher compound sentiment scores and a much larger maximum word count value. Let us look into this further."
   ]
  },
  {
   "cell_type": "code",
   "execution_count": 26,
   "id": "05233aea-867d-4604-a84f-65cdc26b13c2",
   "metadata": {},
   "outputs": [
    {
     "data": {
      "image/png": "[encoded data removed]",
      "text/plain": [
       "<Figure size 1152x360 with 2 Axes>"
      ]
     },
     "metadata": {
      "needs_background": "light"
     },
     "output_type": "display_data"
    }
   ],
   "source": [
    "fig, axes = plt.subplots(1,2, figsize = (16,5))\n",
    "\n",
    "fig.suptitle('Word Count Boxplots', size = 25, y = 1.02)\n",
    "sns.boxplot(x = sea['word_count'], ax = axes[0])\n",
    "axes[0].set_title('r/Seattle', size = 20)\n",
    "axes[0].set_xlabel('Word Count', size = 15)\n",
    "\n",
    "sns.boxplot(x = sea_wa['word_count'], ax = axes[1])\n",
    "axes[1].set_title('r/SeattleWA', size = 20)\n",
    "axes[1].set_xlabel('Word Count', size = 15);"
   ]
  },
  {
   "cell_type": "code",
   "execution_count": 27,
   "id": "a8fceb1b-906b-4a7a-94bc-60b985d6f278",
   "metadata": {},
   "outputs": [
    {
     "data": {
      "text/plain": [
       "count    2492.000000\n",
       "mean       93.412119\n",
       "std       127.173531\n",
       "min         0.000000\n",
       "25%        39.000000\n",
       "50%        62.000000\n",
       "75%       104.250000\n",
       "max      2088.000000\n",
       "Name: word_count, dtype: float64"
      ]
     },
     "execution_count": 27,
     "metadata": {},
     "output_type": "execute_result"
    }
   ],
   "source": [
    "sea['word_count'].describe()"
   ]
  },
  {
   "cell_type": "markdown",
   "id": "de07c935-659f-48a3-a9f4-d9b3a795e9b3",
   "metadata": {},
   "source": [
    "There are several extraordinarily long posts in r/Seattle and at least one longer post in r/Seattle. Let us print the contents of these post to see if they make sense to remove from our datasets."
   ]
  },
  {
   "cell_type": "code",
   "execution_count": 28,
   "id": "13727523-643f-4051-ae18-f7411d0eaaa2",
   "metadata": {
    "scrolled": true,
    "tags": []
   },
   "outputs": [
    {
     "name": "stdout",
     "output_type": "stream",
     "text": [
      "seattl citi council newslett reddit: hey everyon i want introduc my name georg i rise junior stanford interest civic engag polit i start work project student that’ total awesom cool basic we’v made newslett summar info seattl citi council meet access easi way i put exampl week though real thing bit format translat reddit thi project new would realli appreci feedback may i would love see comment show i need make newslett best i total recommend join who doesn’t want know goe behind scene beauti citi if interest receiv weekli email inbox click link: exampl newsletter: seattl citi council meet summari - week septemb 12 2022 council brief 9 12 meet length - 1:32:07 all councilmemb present council meet 9 13 meet length - 1:19:32 all councilmemb present present ami gore member citi council central staff share brief regard seattl initi 135 establish seattl social hous develop new public develop author social hous develop maintain publicli financ mixed-incom social hous develop the initi creat 13-member pda board appoint seattl renter commiss 7 mlk jr counti labor council 1 el centro de la raza 1 citi council 2 mayor’ offic 1 green new deal oversight board 1 half board eventu resid pda hous the citi fund salari benefit ceo cfo 18 month along support estim cost least $750000 seattl also requir conduct feasibl studi whenev consid sale gift public land councilmemb updat councilmemb district 1 brought attent upcom qa septemb 15 three candid perman chief polic seattl attend king counti homeless meet board health meet receiv monkeypox updat meet metropolitan democrat club seattl discuss legisl abort access councilmemb district 2 approv neighborhood educ civil right cultur committe amend five preschool polici attend sever meet includ offic civil right board health committe beacon hill council commun meet had opportun meet sever commun member discuss safeti along rainier valley levi oversight committee’ effort increas fund educ program labor right individu contract third-parti organ concern around soto shelter expans announc king counti award $11 million 45 commun organ councilmemb district 3 brought awar current issu within educ realm urg contract negoti meet need educ student famili argu democrat parti shown enough moral financi support educ councilmemb district 4 seven item depart transport public util agenda six council bill cover sever sliver citi properti repurpos the last bill mention popular regard unanim nomin greg spott director seattl depart transport thank everyon help phase gasoline-pow leaf blower also thank individu help reopen west seattl high bridg council presid district 5 proclaim septemb 2022 childhood cancer awar month 9 signatur affix no item govern nativ commun tribal govern committe will meet septemb 15 consid appoint city’ human resourc director joint apprenticeship train council announc aurora common abl fund $150 million properti acquisit two year provid servic women experienc sexual exploit citywid councilmemb district 6 look variou issu includ homeless public safeti educ strike plan ballard avenu welcom naomi ruse new land use committe clerk councilmemb district 7 sponsor celebr 50th anniversari discoveri park held sever meet amongst colleagu commun member metropolitan park district prioriti vote held septemb 23 regard district announc clean citi initi dispos 2350 needl 100000 pound garbag congratul seattl public librari system provid $49 million annual servic provid commun stakehold councilmemb citywid the mayor releas propos budget septemb 27 move around date budget hear balanc packag hear held novemb 7 public hear mayor’ budget held novemb 8 congratul sever differ labor group throughout citi includ seattl educ associ starbuck unit teamster local 174 fight labor right specif applaud teamster local 174 reach success includ better medic coverag work rule pension increas councilmemb citywid the econom develop technolog citi light committe meet septemb 14 signific issu address ordin relat citi light depart amend rate term condit use sale electr suppli citi light depart 2022 2023 2024 ordin relat establish seattl film commiss two appoint seattl music commission: appoint three appoint citi light review panel: appoint held sever meet greg spott regard mainten resourc plan gino bett downtown seattl associ cascad bike club seattl polic depart alona lori senat maria cantwel legisl updat public housing: report citi clerk certif suffici initi no 135 concern seattl social hous public develop author pda see present ami gore regard seattl initi 135 concern 9 ye an ordin relat redevelop yesler terrac hous author the citi seattl author mayor execut amend yesler terrac cooper agreement hous author citi seattl author ordin 123961 author director hous implement cooper agreement amend ratifi confirm certain prior act sponsor councilmemb 9 ye seattl offic inspector general: offic inspector gener request extens file septemb 2022 annual surveil technolog review report sponsor councilmemb nelson convey seattl offic inspector gener staf capac conduct suffici surveil review end septemb organ request postpon review march 31 2023 9 ye celebr seattl parks: a resolut celebr fiftieth anniversari adopt discoveri park master plan sponsor councilmemb 9 ye environmental: an ordin amend adopt 2022 budget chang appropri variou depart budget control level variou fund budget order advanc seattl green new deal fund action reduc greenhous ga emiss fund climate-resili commun space invest net-zero afford hous ratifi confirm certain prior act sponsor councilmemb 9 ye budget: an ordin appropri money pay certain claim week august 29 2022 septemb 2 2022 order payment thereof ratifi confirm certain prior act sponsor councilmemb 9 ye appointment: appoint greg spott director seattl depart transport term august 1 2026 sponsor councilmemb 9 ye land rights: ordin accept variou deed street alley purpos lay open widen extend establish portion rights-of way place real prioriti convey said deed jurisdict seattl depart transport ratifi confirm certain prior act sponsor councilmemb 9 ye sponsor councilmemb 9 ye sponsor councilmemb 9 ye sponsor councilmemb 9 ye an ordin accept 21 limit purpos easement public sidewalk alley turn- around purpos place real properti convey easement jurisdict seattl depart transport ratifi confirm certain prior act sponsor councilmemb 9 ye a resolut accept twenty-f limit purpos easement public sidewalk alley turn-around purpos place real properti convey easement jurisdict seattl depart transport ratifi confirm certain prior act sponsor councilmemb 9 ye public comment there 6 total public comments: half comment concern public hous convey seattl need priorit minor homeless popul these comment also emphas citi council done enough creat afford hous low-incom famili one comment argu seattl need stop exempt drug pusher sex crime jail ruin integr the last two comment fought defend concern citizen’ lost cannabi store resource: if question feedback pleas email us get answer question citi council\n",
      "-------\n",
      "\n",
      "spd bar display thin blue line symbol spog abolish the myth lynchpin offic die uvald with dear children myth lynchpin offic die uvald by doctrin the thin blue line polic requir broad discret use-of-forc decis thi offic hold line order chao improperli restrain polic may fail – case someth terribl could happen lllllllllllllllllllllllllllllllllllllllllllllllllllllllllllllllllllllllllllllllllllllllllllllllllllllllllllllllllllllllllllllllllllllllllllllllllllllllllllllllllllllllllll a grand juri assembl denver polic shot six innoc bystand fail attempt kill man who’d surrend lllllllllllllllllllllllllllllllllllllllllllllllllllllllllllllllllllllllllllllllllllllllllllllllllllllllllllllllllllllllllllllllllllllllllllllllllllllllllllllllllllllllllll the thin blue line come repres distinct ideolog wide adopt polic throughout us thi clearli extremist ideolog though simpl proposit guid organ train profession conduct law enforc organ nationwid thi problem requir immedi attent forc action becaus polic offic employ protect serv turn conduct quit differ offic employ lynchpin \"chaos\" the defund slogan got far let’ honest doesn’t appear stand armi lynchpin offic will stand banner servic sacrific – least standard view sacrific might entail we expect polic accept risk behalf that’ job i think agre face valu yet aggress union represent bless appar drunken judiciari polic foist danger polic onto public point obviou sacrific involv vocat carri emot cost commit horrif act violenc prolif cop trainer “killology” author blue line devote dave grossman speak directli the follow quot grossman video titl “the polic trainer who teach cop kill | the new yorker” avail youtub “are emot spiritu psycholog prepar snuff human life defens innoc live if can’t make decis need find anoth job…do understand could su shoot stand noth peopl murder call cowardic malfeas derelict duty…don’t afraid get su everybodi get su chanc overtim be afraid su successfully” i didn’t go cherri pick quot misrepres context cast shadow polic – plainli said the blue line ideolog liter reduc “shoot first ask question later” without hint dishonesti bad faith and dig sourc quot cultur he’ inform obviou becom decis shoot 6 innoc bystand denver made classroom in classroom pupil taught recogn split second decis make caus shoot - far differ train make right split second decis foster cultur enforc expect accuraci nonetheless like decri cherri pick suggest argument restrict polic use forc six time stronger argument favor offic discret given happen denver but strength differenti simpl fact denver polic shot six innoc peopl fail attempt kill man who’d surrend no it’ polic author denver like everywher els nation won’t straightaway condemn act mindset train deliv result – they’r blue line extremist will trade well 6 innoc bystand phantom faith a simpl valu proposit the blue line propos maxim public safeti surgic applic necessari violenc a polic forc worship violenc action bargain public safeti faith maintain benefici valu diminish distast appear like polic train materi louisiana found quot hitler sourc instanc becaus public safeti maxim polic endow broad discret use-of-forc decis – mani unit “chaos” held back polic violenc effect offset public safeti cost six innoc bystand shot exampl it’ fault i suppos demand phantom public safeti gain demonstr clearli becaus clearli thousand peopl shot dead polic year nationwid high bar and that’ mention unnecessarili brutal harass disrespect nonleth polic encount given polic isn’t fact particularli danger seem wise ask: blue line polic bargain a popular counterpoint anti-polic rhetor small percentag polic encount becom violent therefor it’ held claim rampant polic violenc unfound but true shouldn’t also recogn number overwhelmingli clear polic caus far physic harm innoc citizen polic offic greatest threat offic safeti cultur impun and therefor flagship content blue line ideolog propagandist fiction i mean major polic death traffic relat probabl unrel fact mani polic refus buckl – though they’ll write ticket similarli 55% spike polic death 2020 2021 attribut covid relat death probabl unrel fact mani polic refus wear mask – even mandat law enforc other it shouldn’t controversi recogn number valu proposit blue line simpli add a derelict judiciari but fact mani polic kill clear major rule “justified” that kind shoot hole reason doesn’t no – twist – actual doesn’t instead it’ simpli testament extrem polic allow becom thi thank persist grow derelict judiciari blue line extrem grew today shadow seri absurd legal delus without cover blue line would sure cleans light day qualifi immun the “court creat doctrine” qualifi immun like notori legal delus thi doctrin hold polic immun civil liabil except shown offic violat individual’ “clearli establish rights” while lay peopl wide regard first fourth amend right pretti fuck clearli establish work the test whether offic violat clearli establish right come whether offic “reasonably” knew action would violat individual’ right in texa 2020 us fifth circuit court appeal rule wasn’t reason expect correct offic understand unprovok pepper spray attack inmat would violat right case cite plaintiff demonstr clearli establish right concern prison guard beat tase inmat – pepper spray in essenc qualifi immun invok irrelev practic guarante offic freedom civil liabil turn concept reason brazen display unlik ignor and better still sinc rule unprovok pepper spray attack inmat warrant qualifi immun right free attack dement prison guard becom clearli unestablish grahamvconnor - 1989 a similar pervers reason found 1989 suprem court rule grahamvconnor the court confirm graham excess forc claim polic evalu respect “object reasonableness” standard 4th amend thi test consid sever suspect’ alleg crime threat level pose suspect whether suspect resist evad but here’ kicker factor must consid respect fact offic may compel engag split second decis make “from perspect reason offic scene rather 20 20 vision hindsight\" so practic “objective” reason test dictat graham boil ask offic accus excess forc whether they’r guilti becaus cop would testifi percept would cast use forc “unreasonable” light the result standard trigger-happi rambo cop becom templat pass “reason officer” a special bill right polic union final “officer’ bill rights” contractu legal favor achiev polic union negoti these vari state state one polic depart next either case often afford polic due process right beyond avail ordinari citizen accus crime polic union argu necessari protect polic overzeal prosecutor intern affair but it’ far easier find hundr exampl protect polic warrant account – see freddi gray exampl – find even singl case polic offic victim bad faith prosecut polic rare charg much less prosecut abus clearli unreason unjustifi standard definit term furthermor special favor written law strike legitimaci entir legal system given legal author us uniqu depend rule law basic hold law enforc equal accord internet the thin blue line extremist totem abolish without second thought us polic firmli establish intersect derelict judiciari blue line extrem i hope i’v shown real distinct ideolog forc insid polic depart at place polic offic proudli provid perimet secur terrorist murder children beat parent tri interven brave unleash hail gunfir crowd sunday night there appear limit absurd realli aforement exampl enough compel forc chang the faith maintain distast appear and polic stand readi beat back forc object we march chang 2020 polic beat us we would held account seattl cover badg number blue line the chief snake assur us noth individu offic avoid account skull crack seattle’ infam summer love everyth honor fallen offic though apost contend blue line badg seattl polic shamelessli exploit death offic unaffili depart evad account simpli abus commun – obviou reason retain impun becaus polic seattl didn’t beat mani rioter fox new report time confirm consist target press protest medic constitut protect protest so mythic lynchpin carri past uvald like kind headless chicken i hope final recogn abil reinforc true foundat robust public safeti we don’t need rambo cop offic view sacrific willing face mortal danger risk die capac violenc risk kill unnecessarili with brave cop restrain preemptiv violenc back sophist reinforc capabl – happen alreadi – there’ threat cannot overcom there’ one compon missingbut spog stand way\n",
      "-------\n",
      "\n",
      "spd bar display thin blue line symbol spog abolish the myth lynchpin offic die uvald with dear children myth lynchpin offic die uvald by doctrin the thin blue line polic requir broad discret use-of-forc decis thi offic hold line order chao improperli restrain polic may fail – case someth terribl could happen \\----------------------------------------------------------------------------------------------------------------------------------------------------- a grand juri assembl denver polic shot six innoc bystand fail attempt kill man who’d surrend \\----------------------------------------------------------------------------------------------------------------------------------------------------- the thin blue line come repres distinct ideolog wide adopt polic throughout us thi clearli extremist ideolog hide plain sight though simpl proposit guid organ train profession conduct law enforc organ nationwid thi problem requir immedi attent forc action becaus polic offic employ protect serv turn conduct quit differ offic employ lynchpin \"chaos\" the defund slogan got far let’ honest doesn’t appear stand armi lynchpin offic will stand banner servic sacrific – least standard view sacrific might entail we expect polic accept risk behalf that’ job i think agre face valu yet aggress union represent bless appar drunken judiciari polic foist danger polic onto public point obviou sacrific involv vocat carri emot cost commit horrif act violenc prolif cop trainer “killology” author blue line devote dave grossman speak directli the follow quot grossman video titl “the polic trainer who teach cop kill | the new yorker” avail youtub “are emot spiritu psycholog prepar snuff human life defens innoc live if can’t make decis need find anoth job…do understand could su shoot stand noth peopl murder call cowardic malfeas derelict duty…don’t afraid get su everybodi get su chanc overtim be afraid su successfully” i didn’t go cherri pick quot misrepres context cast shadow polic – plainli said the blue line ideolog liter reduc “shoot first ask question later” without hint dishonesti bad faith and dig sourc quot cultur he’ inform obviou becom decis shoot 6 innoc bystand denver made classroom in classroom pupil taught recogn split second decis make caus shoot - far differ train make right split second decis foster cultur enforc expect accuraci nonetheless like decri cherri pick suggest argument restrict polic use forc six time stronger argument favor offic discret given happen denver but strength differenti simpl fact denver polic shot six innoc peopl fail attempt kill man who’d surrend no it’ polic author denver like everywher els nation won’t straightaway condemn act mindset train deliv result – they’r blue line extremist will trade well 6 innoc bystand phantom faith a simpl valu proposit the blue line propos maxim public safeti surgic applic necessari violenc a polic forc worship violenc action bargain public safeti faith maintain benefici valu diminish distast appear like polic train materi louisiana found quot hitler sourc instanc becaus public safeti maxim polic endow broad discret use-of-forc decis – mani unit “chaos” held back polic violenc effect offset public safeti cost six innoc bystand shot exampl it’ fault i suppos demand phantom public safeti gain demonstr clearli becaus clearli thousand peopl shot dead polic year nationwid high bar and that’ mention unnecessarili brutal harass disrespect nonleth polic encount given polic isn’t fact particularli danger seem wise ask: blue line polic bargain a popular counterpoint anti-polic rhetor small percentag polic encount becom violent therefor it’ held claim rampant polic violenc unfound but true shouldn’t also recogn number overwhelmingli clear polic caus far physic harm innoc citizen polic offic greatest threat offic safeti cultur impun and therefor flagship content blue line ideolog propagandist fiction i mean major polic death traffic relat probabl unrel fact mani polic refus buckl – though they’ll write ticket similarli 55% spike polic death 2020 2021 attribut covid relat death probabl unrel fact mani polic refus wear mask – even mandat law enforc other it shouldn’t controversi recogn number valu proposit blue line simpli add a derelict judiciari but fact mani polic kill clear major rule “justified” that kind shoot hole reason doesn’t no – twist – actual doesn’t instead it’ simpli testament extrem polic allow becom thi thank persist grow derelict judiciari blue line extrem grew today shadow seri absurd legal delus without cover blue line would sure cleans light day qualifi immun the “court creat doctrine” qualifi immun like notori legal delus thi doctrin hold polic immun civil liabil except shown offic violat individual’ “clearli establish rights” while lay peopl wide regard first fourth amend right pretti fuck clearli establish work the test whether offic violat clearli establish right come whether offic “reasonably” knew action would violat individual’ right in texa 2020 us fifth circuit court appeal rule wasn’t reason expect correct offic understand unprovok pepper spray attack inmat would violat right case cite plaintiff demonstr clearli establish right concern prison guard beat tase inmat – pepper spray in essenc qualifi immun invok irrelev practic guarante offic freedom civil liabil turn concept reason brazen display unlik ignor and better still sinc rule unprovok pepper spray attack inmat warrant qualifi immun right free attack dement prison guard becom clearli unestablish grahamvconnor - 1989 a similar pervers reason found 1989 suprem court rule grahamvconnor the court confirm graham excess forc claim polic evalu respect “object reasonableness” standard 4th amend thi test consid sever suspect’ alleg crime threat level pose suspect whether suspect resist evad but here’ kicker factor must consid respect fact offic may compel engag split second decis make “from perspect reason offic scene rather 20 20 vision hindsight\" so practic “objective” reason test dictat graham boil ask offic accus excess forc whether they’r guilti becaus cop would testifi percept would cast use forc “unreasonable” light the result standard trigger-happi rambo cop becom templat pass “reason officer” a special bill right polic union final “officer’ bill rights” contractu legal favor achiev polic union negoti these vari state state one polic depart next either case often afford polic due process right beyond avail ordinari citizen accus crime polic union argu necessari protect polic overzeal prosecutor intern affair but it’ far easier find hundr exampl protect polic warrant account – see freddi gray exampl – find even singl case polic offic victim bad faith prosecut polic rare charg much less prosecut abus clearli unreason unjustifi standard definit term furthermor special favor written law strike legitimaci entir legal system given legal author us uniqu depend rule law basic hold law enforc equal accord internet the thin blue line extremist totem pervert natur sacrific concept reason justif undermin public trust polic us polic firmli establish intersect derelict judiciari blue line extrem i hope i’v shown real distinct ideolog forc insid polic depart at place polic offic proudli provid perimet secur terrorist murder children beat parent tri interven brave unleash hail gunfir crowd sunday night there appear limit absurd realli aforement exampl enough compel forc chang the faith maintain distast appear and polic stand readi beat back forc object we march chang 2020 polic beat us we would held account seattl cover badg number blue line the chief snake assur us noth individu offic avoid account skull crack seattle’ infam summer love everyth honor fallen offic though apost contend blue line badg seattl polic shamelessli exploit death offic unaffili depart evad account simpli abus commun – obviou reason retain impun becaus polic seattl didn’t beat mani rioter fox new report time confirm consist target press protest medic constitut protect protest so mythic lynchpin carri past uvald like kind headless chicken i hope final recogn abil reinforc true foundat robust public safeti we don’t need rambo cop offic view sacrific willing face mortal danger risk die capac violenc risk kill unnecessarili with brave cop restrain preemptiv violenc back sophist reinforc capabl – happen alreadi – there’ threat cannot overcom there’ one compon missingyet spog stand way\n",
      "-------\n",
      "\n",
      "i sent seattl school board director email strike negoti morn call talk hour here note last night i sent email seattl school board director chandra hampson - sp district 3 via seattleschoolscom email address share thought strike union demand ask board file injunct strike teacher i surpris morn chandra call directli offer discuss concern what amaz opportun luckili i desk readi take note she time call one constitu day i fortun enough free time call alreadi written lot question thought ongo strike we hour-long discuss i ask strike teacher demand comprehens school board plan detail list district websit etc hampson super focus get answer i'm thank time below note convers i tri leav commentari editori focu respons end hampson 3 kid seattl public school 2 504 place went sandpoint elementari as parent also deal kid school due negoti strike she role teacher parent elect seattl school board hampson want clarifi coupl thing role respons differ group involv as parent i also quit confus focu role school board district compar teacher' union side involv ongo contract negoti befor dive - hampson share lighthous studi school board result drive school board structur around countri it' largest studi school board perform guid current board' method structur policies: a school board director job entir govern custom support meaning: respons set direct school curriculum decis guidanc toward classroom school best practic ensur school resourc avail execut plan chang in context inclus model later hampson clarifi school board' job provid direct goal inclus clarifi requir feder state level permit law the director posit like elect offici school board elect repres student first foremost commun live it \"the worst elect job\" thankless effort also impact decis becom hampson clear board \"doesn't repres teacher parent instead repres entir commun make decisions\" they think what' best entir commun seattl one specif interest group demograph becaus director focus govern time \"custom support\" they often help connect parent resourc help solv problem specif school coverag they'r full-tim focu howev govern decis make some tactic chang made address problem around custom servic right board hire consult perform full commun audit district tri figur improv commun intern extern superintend get district staff provid data inform addit board awar need creat high-valu custom servic depart handl myriad problem parent face tri navig district polici process the commun need understand non-district entiti involv sea teacher union - definit union creat advoc teacher teacher negoti district board creat support student drive student success thi may seem like semant clear distinct sea union extern entiti hire job much like attorney repres client the union use everi tactic get need member primari purpos hire even best student they use spin stall tactic other get agreed-upon list demand the union look teacher advocaci student success the differ seem subtl first glanc now primari stick point ongo strike negotiations: data real-world experi district state show inclus model get us stuck problem school face dump money resourc sel multilingu special ed get result push needl last year exist model use seattl school pour $120m addit state fund result abysm everyon across board includ teacher staff admin believ goal result properly-execut inclus program district level achiev right path follow it' clear 1:1 model assign sel produc desir feder mandat result segreg student often along demograph line histor underperform the board believ start inclus mechan year may never catch goal set law in respons need inclus model sea teacher union creat task forc come plan rollout execut school determin resourc would need the board 100% behind task force' plan toward inclus also get staff resourc need implement to support plan school board determin chang staf ratio happen 2022 23 school year instead year use onboard teacher admin support train build curricular resourc inclus for first year school board ask 1-year contract the plan take 5-10 year unwind rebuild full implement clear thing expens first effici materi decreas cost year achiev expect student result the board tri updat modern practic district clear mani student get experi opportun need i ask hampson role director current strike she believ board district enough inform teacher parent pandem larg uplift come for reason other real trust gap also belief gap - peopl believ school board reform direct commit school teacher the school board primarili respons belief gap the last superintend put commun true new board district staff commit ing extrem fact-bas the superintend direct focu sole student issu as director hampson stay focus specif goal set district - thing must done allow the board keep student center focu sometim mean ask tough question like \"can afford this\" right sea union ask $500m plan invest school resourc alreadi greater current spend no one say \"screw inclus thing\" everyon agre goal howev disagr get the current board cannot agre thing result deficit next board okay what' plan get teacher parent onboard hampson mani point board get us first address big trust gap commun the first year implement meant onboard time work align everyon process goal henc board ask 1-year contract the district add addit staff provid train opportun teacher admin staff handl transit inclus model not everi classroom becom inclus classroom the board also remind everyon chang hard especi transit seattl \"talk progressively\" educ inclus switch execut mode make actual chang implement goal mani tactic chang happen we brand new superintend expert govern the superintend job like school-administr rather someon expert govern encompass entir differ skill set former principl school administr thi first time superintend hire particular skill set yet time see exactli mean scale sp short tenur thu far the board also ask state colleg mandat teacher administr inclus special ed train teacher graduat work district it' current requir creat huge deficit teacher abil work inclus classroom the district also buy curriculum first time what mean teacher curriculum uniform across district pre-mad use abl train curriculum avoid surpris fall back previou year' plan the curricular support aim reduc teacher burden focu classroom time student interact overhead build curriculum individu plan scale system larg sp uniform make easier teacher onboard long-term success my part thoughts: i'm realli thank i chanc real discuss board member it' often hear directli decis maker get respons question without news sourc press releas intermediari it give valid real peopl hard work job as parent hampson know like work district go 504 iep process children know pain feel watch bureaucrat process take place our feel parent commun member right real frustrat felt side i got impress hampson school board genuin invest success futur seattl school student commun i hope come togeth collabor sake student seattl the board' comprehens plan avail school websit along current negoti detail here resourc hampson share read inclus school board data: the lighthous studi article: summari blog post stake current negotiation:\n",
      "-------\n",
      "\n",
      "ren fair trip report- aug 14 thought i would post littl experi ren fair past sunday 14th a littl parti 3 adult 4 year old none us ever ren fair like lot peopl i’m sure woke sunday morn u ok-worth-9525 ‘s post avoid ren fair i read reddit comment googl review decid chang one pack water previous plan two i pack great load snack four year old final three leav extra earli pack list: water six bottl larg yeti sunscreen hat everyon snack four year old walk sneaker umbrella aesthet great shade cash ipad we arriv bonney lake 915 park well direct unremark car 920 there portapotti lot made use wander gate it bit chaotic man yell direct paus hear there one line- everyon go cashier either purchas ticket prepurchas ticket valid receiv stamp the line move fast open around 945 10:10 map menu event schedul post qr code place venu schedul post front but data day work we could sm text call data happen annoy event’ fault we made must-se list saturday night websit one group foresight screenshot map abl navig fine got bear some thing saw venu other elsewher lot vendor shop happen move venu 1015 we stop sweden tent put rsvp princess tea age 12 we overheard one staff comment alreadi 11 15 spot glad went first 1030 raptor events- thi educ well present love birb 1100 first joust- fun the first joust day test skill each section cheer differ knight section leader great four thought bore i know split other end face paint she realli realli like it total smear end day joy made worth 25$ 1200 lunch- it super busi lunch area kind umbrella came handi creat portabl shade you’r stand wait seat tough find- lot tabl turnov wasn’t realli happen sat ground shade vegetarian option bit thin almost food hot rough expens cours that’ surpris fair food four order plain hamburg ate top bun fri the king spain came perform quit funni burlesqu show eat crowd 100 cydshow cy sword swallower- thi far anticip thing four love it’ squeamish like one group member split perus vendor 130 mermaid fairi glen- four absolut entranc mermaid lot fun interact fairi she realli enjoy bubbl there colour space everi singl sheet complet colour bummer 200 princess tea- back sweden tent adult loung around shade 15 kid sat round tabl tea lemonad cupcak each kid got gold paper crown littl pin badg unicorn princess cecilia serv drink sister told tabl stori unicorn she realli love clearli lot experi kid onc meal finish everyon got go pet bunni feed miniatur poni 300 storytim wytchwood players- favourit thing the ladi told wide varieti stori voic carri magnific realli engag she also introduc \\~10 year old girl explain she’ still learn would tell us stori thor got hammer all adult paid rapt attent soooo nervou super sweet 330 ipad time- four flag hard point becom quit wiggli we stay nice cool tent puppet show 400 i whip ipad load movi we attract two kid ipad gave us parent chanc rest chill our two adult ventur afternoon heat bring back snow cone strawberri lemonad receiv huge thumb four 400 puppet show- thi fun british enjoy 445 sirena- we split group two adult go see final joust 500 sinc four didn’t enjoy morn joust four want hear music walk villag squar see sirena i thought ladi awesom i love coordin danc sing drum vibe ether spooki four love left walk joust area see could meet other 500 final joust- we late joust last day solid wall peopl way around ring four i found spot shade wait the adult report sat front row ground great view shade thi joust actual involv competitor ride the cheer excit i could sort see spot the event end 530 seem like folk head gate 545 dinner- i walk alon see scroung dinner bring back group thi sunday obvious almost close time lot place food particularli anyth vegetarian return empti hand 600 equestrian chaos- ladi horseback trick archeri shot the two like i kind thought ok four absolut spent entir time lie bleacher flop around she got pet one hors end perk 645 head home- carri four back car use toilet final time it took us sub 10 minut get total unremark stuff next time: i would bring small bag four she receiv tini trinket nearli everi place visit kid love stuff would good special place i would also love outfit stuff next time costum everyon awesom i would keep mind following: linen cotton onli polyest fabric would nice aesthet hat cuter parasol type situat parent pointers: thi event super famili friendli i hope see report load famili age if wagon-styl stroller definit seem like ticket ground bumpi you’ll need terrain wheel bring push stroller wish i pack wet wipe lysol wipe we found everi event shade trick arriv 5 minut earli could snag good shadi spot four complain ceaselessli sun longer 5 minut us hop stage made sens there refil water station water sale 4$ bottl cash pack ton we pass sever chang tabl nurs station well mark need lost children marker right entranc medic tent food court unexpected: tip i’v never renaiss fair everi act saw ask tip some even venmo tag you weren’t oblig quit interest final thoughts: thi super fun go next year though definit sunday saturday arriv earli leav late appear key smooth experience– i see fb page depart late afternoon shitshow if hadn’t come one car i would attempt take four home puppet show honestli manag realli well even beyond limit i proud i glad made plan night would i felt like saw nearli everyth want see tldr it fun arriv earli leav late bring sunscreen extra extra extra water\n",
      "-------\n",
      "\n"
     ]
    }
   ],
   "source": [
    "for entry in sea.loc[sea['word_count'] > 1500, 'text']:\n",
    "    print(entry)\n",
    "    print('-------\\n')"
   ]
  },
  {
   "cell_type": "markdown",
   "id": "8eb434d7-b40b-4f77-8d69-302e66c2748a",
   "metadata": {},
   "source": [
    "The only posts that immediately seem worthwhile dropping from r/Seattle are the City Council Newsletter post (the first entry above) and the post referring to Uvalde police (the second and third post above).\n",
    "\n",
    "The City Council post seems to contain very specialized vocabulary and is lengthy by the nature of the post. These posts also seem regular though, so it would be out of place to drop just this especially lengthy post and not the other posts. Dropping all City Council posts by this person seems a bit excessive, so we will leave the City Council posts in.\n",
    "\n",
    "There are two posts about Uvalde police. They appear to be identical except for some select words and some repeated characters that are used to distinguish the heading and body. I am sure there are more posts that are slightly off from being identical. We cannot remove them all, but since we stumbled upon this pair, we may as well remove one of them."
   ]
  },
  {
   "cell_type": "code",
   "execution_count": 29,
   "id": "f4e60f2d-371a-411a-a0c2-6b18086ac021",
   "metadata": {},
   "outputs": [
    {
     "name": "stdout",
     "output_type": "stream",
     "text": [
      "Int64Index([], dtype='int64')\n"
     ]
    }
   ],
   "source": [
    "print(sea[sea['text'].str.contains('SPD should be barred from')].index)\n",
    "sea.drop(index = 542, inplace = True)"
   ]
  },
  {
   "cell_type": "code",
   "execution_count": 30,
   "id": "c89adb58-b8f3-454c-9fd6-e0bc6f527848",
   "metadata": {
    "scrolled": true,
    "tags": []
   },
   "outputs": [
    {
     "name": "stdout",
     "output_type": "stream",
     "text": [
      "use afford hous get the properti ladder seattl the median home price seattl $934k a year back i decid settl buy hous i come $200k payment i use fairli convolut method deal someon forum ask elabor i i thought i'd make post when start date look place realli farther seattl ideal even place lynnwood stretch budget we conundrum felt like option nightmarish commut everett rent indefinit when median home price seattl $449k $182k la vega so bought place rent home cheap one problem get financ not qualifi but loan small bank want i learn bank basic loan home balanc $100k i know peopl think 15% year-over-year increas home price seem like lot seattl portland san francisco lo angel way back pack come stuff for instanc vega 305% last year the way make money real estat realli basic: can borrow money lower rate properti go if ye make money for instanc 2020 could borrow 3% so invest million real estat vega 2021 $305k today would spent $30000 borrow money leav profit $275k 2006 could borrow 6% so invest million real estat 2006 wash basic paid properti tax paid mainten profit disappear so look buy afford properti might consid look area alreadi perform well \"past perform indic futur results\" but real estat trend tend move slowli one thing help sleep better night realiz look right stat 2005 could seen 2007 bubbl come got hit hint: look inventori stat also money tend accumul hurri we went $35k invest $135k hous we'r afford live almost anywher even modest it salari a month ago consid place $4m we decid pass bought anoth invest properti in nutshel got $1m manag invest make wealthier day job so like ceo tech compani accumul million hit certain level wealth tend accumul if put $35k everett fixer-upp 2012 half million today if trick everi year ten year multi-millionair person i big fan invest citi californian flock i think could spend rest life profit exodu california if take state infograph put big citi spreadsheet i guarante everyon go doubl digit price dure yesterday' discuss topic lot peopl say \"california shrinking\" i think thing peopl realiz california everi million peopl leav california there' million arriv abroad when i move seattl area california liter 75% neighbor china korea india first gener american move california larg tech job thi influx creat never end exodu out california i'm internet forum peopl leav california nearli 100% middl class peopl $500k-$1m equiti move lower col area so tap demograph end time will landlord obvious rent peopl leav california rent peopl citi californian move basic exodu californian boon properti owner citi californian head pleas research here' mine: bend oregon median home price $732k gone 324% last year st georg ut median home price $535k gone 389% last year spokan median home price $400k gone 276% last year those three ymmv invest reliabl great californian head you could even make solid argument seattl benefit decad californian bail move i know post sound like kind infomerci i noth sell i dude use make godaw commut work i reach point i like \"there' gotta better way\" i even get real estat \"love\" industri i pure look way wife i afford hous reason size far work we total price invest elsewher cash we'd accumul enough get realli want first place anoth \"side benefit\" get bunch loan time juic credit score ridicul degre when i first start work washington score bad i even get credit card\n",
      "-------\n",
      "\n"
     ]
    }
   ],
   "source": [
    "for entry in sea_wa.loc[sea_wa['word_count'] > 1000, 'text']:\n",
    "    print(entry)\n",
    "    print('-------\\n')"
   ]
  },
  {
   "cell_type": "markdown",
   "id": "bbf82f23-a2f8-4cd1-9354-d361a6ba9c98",
   "metadata": {},
   "source": [
    "Nothing about the lengthiest post in r/SeattleWA suggests it needs to be removed. Let us leave it in."
   ]
  },
  {
   "cell_type": "markdown",
   "id": "6b660377-3f6f-4655-b4c1-37511ad50312",
   "metadata": {},
   "source": [
    "Next let us look for posts that are too short to reasonably use."
   ]
  },
  {
   "cell_type": "code",
   "execution_count": 31,
   "id": "4a0d302c-c4a0-4017-8a8a-b67714f6ae63",
   "metadata": {},
   "outputs": [
    {
     "data": {
      "text/plain": [
       "400                           the west seattl bridg open\n",
       "423                  what’ fighter jet south seattl titl\n",
       "435                                how seattl chang year\n",
       "757     anyon recommend good dental insur compani titl ^\n",
       "768                                earthquak around 1:08\n",
       "805                               hi all anyon kiingston\n",
       "1191                                                    \n",
       "1292                                          weapon pet\n",
       "1346               employ discrimin lawyer ani recommend\n",
       "1422                                yo seattl area 🔌 hmu\n",
       "1425                    where’ best quesadilla town titl\n",
       "1748                              hey guy i want say hey\n",
       "1755                        how’ comedi scene need laugh\n",
       "1766        seattl pass protect abort gender affirm care\n",
       "1775             best junkyard pull part recommend thank\n",
       "1782                              it’ thunder move along\n",
       "1838                                      it' rain that'\n",
       "2277                             somen soba citi ani rec\n",
       "2337                                    stay away person\n",
       "Name: text, dtype: object"
      ]
     },
     "execution_count": 31,
     "metadata": {},
     "output_type": "execute_result"
    }
   ],
   "source": [
    "sea.loc[sea['word_count'] < 10, 'text']"
   ]
  },
  {
   "cell_type": "markdown",
   "id": "aa1a6483-82eb-4562-a782-4b6e69c3c651",
   "metadata": {},
   "source": [
    "The only post that obviously should be removed is the empty one at index 1191."
   ]
  },
  {
   "cell_type": "code",
   "execution_count": 32,
   "id": "c9e9b0a8-4946-4e1b-8c2c-4458c8ea37db",
   "metadata": {},
   "outputs": [],
   "source": [
    "sea.drop(index = 1191, inplace = True)"
   ]
  },
  {
   "cell_type": "markdown",
   "id": "9ff68d92-91de-450e-8aa8-d89f99738e17",
   "metadata": {},
   "source": [
    "For r/SeattleWA we can already see a pretty big difference below in the number of posts with fewer than 10 words and their content compared to r/Seattle. No posts here seem to require being dropped. Even the shorter posts convey a fair bit of sentiment.\n",
    "\n",
    "There are:\n",
    "- four posts about shootings (5, 6, 104, 2349)\n",
    "- two posts are about urine (38, 1494) \n",
    "- one Pepe Silvia post - a meme about conspiracy theories (323)\n",
    "- one post about being woke (1594)\n",
    "- several sarcastic or contextually negative posts (235, 322, 430)"
   ]
  },
  {
   "cell_type": "code",
   "execution_count": 33,
   "id": "03377111-8b0a-494a-a142-5b222ab3b730",
   "metadata": {},
   "outputs": [
    {
     "data": {
      "text/plain": [
       "5           shoot near pioneer squar around 3:30 pm today\n",
       "6                                     shoot pioneer squar\n",
       "38                 will piss mania come seattl piss mania\n",
       "104                                         anoth 1 shoot\n",
       "110                        who' beauti person seen seattl\n",
       "142                        insle end covid-19 state emerg\n",
       "149     what consid greater seattl what’ consid greate...\n",
       "194                                               moder i\n",
       "235                        yup great mind come next gener\n",
       "322                                                  iron\n",
       "323                                           pepe silvia\n",
       "373                         saxophon anyon teach saxophon\n",
       "389                 idea happen process img 837t87mh0ii91\n",
       "403                           realiz put color book train\n",
       "430                                           bye felicia\n",
       "607          ani breakfast recommend eastsid thank advanc\n",
       "612                            is seattle' signatur scent\n",
       "749            best sunris spot nearbi citi ani recommend\n",
       "751      seattl plug anyon near downtown that’ gotta plug\n",
       "883                              are dog allow citi beach\n",
       "896                                       rememb superson\n",
       "924                         🍃🔌 recent move seattl chicago\n",
       "948                                              just tri\n",
       "987             are there ani portugues restaur in seattl\n",
       "1019                            fail pepper spray attempt\n",
       "1109                            anoth state flag redesign\n",
       "1196                                how are yall aliv how\n",
       "1257                                             is rough\n",
       "1377                        factoria walmart close perman\n",
       "1399        chicken parm hero need chicken parm where get\n",
       "1483                                updat stanley cup odd\n",
       "1494                 vancouv arby' manag pee milkshak mix\n",
       "1534                                   seattl sunris morn\n",
       "1594                            silli woke sign real mean\n",
       "1645      anybodi wanna anyth i can’t sleep spanaway area\n",
       "1771           pale blue dot carl sagan- inspir earth day\n",
       "1849        \"share cities\" idea process img 80cm7kyr20u81\n",
       "1921                                         nude discord\n",
       "2041                                bu assist ptsd commut\n",
       "2141    washington dc’ first-ev public-priv partnershi...\n",
       "2181                                happi holi ❤️🧡💛💚🤍🖤💜💙🤎\n",
       "2226                      pay nuru massag messag interest\n",
       "2322           the \"lead\" program softer gentler new name\n",
       "2349             video seattl polic shoot downtown 3 5 22\n",
       "2353            farewel russel wilson trade denver bronco\n",
       "2357      seattle' \"premier polit comic\" achiev enlighten\n",
       "2384                    what' best pizza west seattl titl\n",
       "2412               music product school thi look interest\n",
       "Name: text, dtype: object"
      ]
     },
     "execution_count": 33,
     "metadata": {},
     "output_type": "execute_result"
    }
   ],
   "source": [
    "sea_wa.loc[sea_wa['word_count'] < 10, 'text']"
   ]
  },
  {
   "cell_type": "markdown",
   "id": "a0c901c8-417d-4882-97be-9aab8b52409c",
   "metadata": {},
   "source": [
    "Even when we examine an expanded the list of short posts from r/Seattle, the sentiment still differs from r/SeattleWA."
   ]
  },
  {
   "cell_type": "code",
   "execution_count": 34,
   "id": "2c4acdaa-cc05-4e5d-8ffb-489882595191",
   "metadata": {},
   "outputs": [
    {
     "data": {
      "text/plain": [
       "96      anyon els current drunk run problem what bar w...\n",
       "140     recommend nice sit-down lunch spot u district ...\n",
       "176          traffic-geddon 9 23 what hell happen tonight\n",
       "323               best al pastor taco area and use trompo\n",
       "400                            the west seattl bridg open\n",
       "423                   what’ fighter jet south seattl titl\n",
       "435                                 how seattl chang year\n",
       "436                 which like better seattl vancouv bc …\n",
       "507                      can i sell u cigarett i ask 2 1$\n",
       "538      anyon insight fun thing downtown christma season\n",
       "623               box where’ best bar pub watch box match\n",
       "660     'make good progress negotiations' seattl schoo...\n",
       "757      anyon recommend good dental insur compani titl ^\n",
       "768                                 earthquak around 1:08\n",
       "775        car explod next i5 process video nm5zpck03km91\n",
       "805                                hi all anyon kiingston\n",
       "929     best breakfast burrito seattl what’ favorit br...\n",
       "978     doe anyon know flower close bar restaur u dist...\n",
       "1016                best fri seattl where best fri seattl\n",
       "1137    best burger near downtown i crave good tradit ...\n",
       "1261           doe anyon still pay light rail just curiou\n",
       "1289        green lake lost key 8 23 pleas let know found\n",
       "1292                                           weapon pet\n",
       "1346                employ discrimin lawyer ani recommend\n",
       "1407                           anyon els see thing post 👀\n",
       "1422                                 yo seattl area 🔌 hmu\n",
       "1425                     where’ best quesadilla town titl\n",
       "1460                       air feel rlli muggi today 😭😖 …\n",
       "1461                     air air feel rlli muggi today 😭😖\n",
       "1509          scotch bonnet pepper doe anybodi know i buy\n",
       "1588                           what bar i go capit hill ^\n",
       "1593    seattl luxuri apart what luxuri apart downtown...\n",
       "1638    perman registr saw car today “perman registrat...\n",
       "1700                520 ramp 1 lane is perman becaus wack\n",
       "1715                whenev bad mood just look endless sea\n",
       "1726           beer best place get beer pike place market\n",
       "1748                               hey guy i want say hey\n",
       "1755                         how’ comedi scene need laugh\n",
       "1763    where buy shirt say “world’ best bf” pleas hel...\n",
       "1766         seattl pass protect abort gender affirm care\n",
       "1775              best junkyard pull part recommend thank\n",
       "1782                               it’ thunder move along\n",
       "1838                                       it' rain that'\n",
       "1845    anoth explos anyon see anyth herd capitol hill...\n",
       "1945    best lesser known place watch blue angel what ...\n",
       "2016    1 extra marin ticket tomorrow who’ to hangout ...\n",
       "2032                           what world go are get nuke\n",
       "2053    blue angel where’ best place seattl view blue ...\n",
       "2089    capitol hill shoot did anyon els hear 15-20 sh...\n",
       "2189    discount ticket odesza 7 31 $100 pair section 202\n",
       "2196    what’ statu mdma-assist therapi seattl anyon k...\n",
       "2235    loud boom capitol hill cd wa a10 warthog not l...\n",
       "2270    anyon know find realist deadpool cosplay costu...\n",
       "2277                              somen soba citi ani rec\n",
       "2337                                     stay away person\n",
       "2342            who want pokémon go friend 3198 8870 4584\n",
       "2356             ani rec good dentist one isn’t tri upsel\n",
       "2388    took care local unfinish busi microsoft flight...\n",
       "2450        are citi seattl employe or caus requir termin\n",
       "Name: text, dtype: object"
      ]
     },
     "execution_count": 34,
     "metadata": {},
     "output_type": "execute_result"
    }
   ],
   "source": [
    "sea.loc[sea['word_count'] < 15, 'text']"
   ]
  },
  {
   "cell_type": "markdown",
   "id": "56edcfd5-fe9e-4965-a5ff-f41fce77737b",
   "metadata": {},
   "source": [
    "Even if we are lax about identifying negative posts, the posts in r/Seattle just seem less surly than r/SeattleWA. Below are posts that might be viewed as negative:\n",
    "- explosions or booms (775, 1845, 2235)\n",
    "- weaponizing your pets (1292)\n",
    "- employment discrimination lawyer (1346)\n",
    "- what in the world is going on (2032)\n",
    "- shooting (2089)\n",
    "- stay away from this person (2337)"
   ]
  },
  {
   "cell_type": "markdown",
   "id": "b48623c8-65ca-45c2-aa20-8dee49a00408",
   "metadata": {},
   "source": [
    "#### Basic Visuals"
   ]
  },
  {
   "cell_type": "markdown",
   "id": "cbcd3476-5039-40b3-858b-5a905d3050a9",
   "metadata": {},
   "source": [
    "We saw earlier from boxplots that r/seattle has more posts with very high word counts. Let us compare the distribution of posts with word counts below 1000."
   ]
  },
  {
   "cell_type": "code",
   "execution_count": 35,
   "id": "cf8af1c8-6cf3-4c35-9512-c27cf56ad845",
   "metadata": {},
   "outputs": [
    {
     "data": {
      "image/png": "[encoded data removed]",
      "text/plain": [
       "<Figure size 1152x360 with 2 Axes>"
      ]
     },
     "metadata": {
      "needs_background": "light"
     },
     "output_type": "display_data"
    }
   ],
   "source": [
    "fig, axes = plt.subplots(1,2, figsize = (16,5))\n",
    "\n",
    "sea_sub_1000 = sea[sea['word_count'] < 1000]\n",
    "sea_wa_sub_1000 = sea_wa[sea_wa['word_count'] < 1000]\n",
    "\n",
    "fig.suptitle('Word Count Histograms', size = 25, y = 1.02)\n",
    "sns.histplot(x = sea_sub_1000['word_count'], ax = axes[0])\n",
    "axes[0].set_title('r/Seattle', size = 20)\n",
    "axes[0].set_xlabel('Word Count', size = 15)\n",
    "axes[0].set_xlim(-50, 1000)\n",
    "axes[0].set_ylim(-0, 300)\n",
    "\n",
    "sns.histplot(x = sea_wa_sub_1000['word_count'], ax = axes[1])\n",
    "axes[1].set_title('r/SeattleWA', size = 20)\n",
    "axes[1].set_xlabel('Word Count', size = 15)\n",
    "axes[1].set_xlim(-50, 1000)\n",
    "axes[1].set_ylim(-0, 300);"
   ]
  },
  {
   "cell_type": "markdown",
   "id": "c0e1eb24-62a6-4da9-a3cc-56d8f7eebd1c",
   "metadata": {},
   "source": [
    "The histogram shapes are nearly identical between the two subreddits. There may be slightly less volume on the left side of the r/SeattleWA histogram, but it is hard to say.\n",
    "\n",
    "Next we look at the distributions of sentiment scores."
   ]
  },
  {
   "cell_type": "code",
   "execution_count": 36,
   "id": "b2328fa8-2a07-437c-9e51-4c7efa463627",
   "metadata": {},
   "outputs": [
    {
     "data": {
      "image/png": "[encoded data removed]",
      "text/plain": [
       "<Figure size 1152x864 with 6 Axes>"
      ]
     },
     "metadata": {
      "needs_background": "light"
     },
     "output_type": "display_data"
    }
   ],
   "source": [
    "#from matplotlib.lines import Line2D\n",
    "\n",
    "fig, axes = plt.subplots(3,2, figsize = (16,12))\n",
    "\n",
    "fig.suptitle('Histograms of Compound, Positive, Negative Sentiment Scores', size = 25, y = 0.97)\n",
    "\n",
    "#---------------------------\n",
    "# r/Seattle sentiment scores\n",
    "#---------------------------\n",
    "sns.histplot(x = sea['sent_compound'], ax = axes[0,0])\n",
    "axes[0,0].set_title('r/Seattle', size = 25)\n",
    "axes[0,0].set_xlabel('', size = 15)\n",
    "axes[0,0].set_ylabel('Compound', size = 25)\n",
    "axes[0,0].set_ylim(0, 675)\n",
    "\n",
    "sns.histplot(x = sea['sent_pos'], ax = axes[1,0])\n",
    "#axes[1,0].set_title('Positive', size = 20)\n",
    "axes[1,0].set_xlabel('', size = 15)\n",
    "axes[1,0].set_ylabel('Positive', size = 25)\n",
    "axes[1,0].set_xlim(-0.025, 0.7)\n",
    "axes[1,0].set_ylim(0, 450)\n",
    "\n",
    "sns.histplot(x = sea['sent_neg'], ax = axes[2,0])\n",
    "#axes[2,0].set_title('Negative', size = 20)\n",
    "axes[2,0].set_xlabel('', size = 15)\n",
    "axes[2,0].set_ylabel('Negative', size = 25)\n",
    "axes[2,0].set_xlim(-0.01, 0.4)\n",
    "axes[2,0].set_ylim(0, 1100)\n",
    "\n",
    "\n",
    "#-------------------------------\n",
    "# # r/SeattleWA sentiment scores\n",
    "#-------------------------------\n",
    "sns.histplot(x = sea_wa['sent_compound'], ax = axes[0,1], color = 'green')\n",
    "axes[0,1].set_title('r/SeattleWA', size = 25)\n",
    "axes[0,1].set_xlabel('', size = 15)\n",
    "axes[0,1].set_ylabel('', size = 15)\n",
    "axes[0,1].set_ylim(0, 675)\n",
    "\n",
    "sns.histplot(x = sea_wa['sent_pos'], ax = axes[1,1], color = 'green')\n",
    "#axes[1,1].set_title('r/Seattle', size = 20)\n",
    "axes[1,1].set_xlabel('', size = 15)\n",
    "axes[1,1].set_ylabel('', size = 15)\n",
    "axes[1,1].set_xlim(-0.025, 0.7)\n",
    "axes[1,1].set_ylim(0, 450)\n",
    "\n",
    "sns.histplot(x = sea_wa['sent_neg'], ax = axes[2,1], color = 'green')\n",
    "#axes[1,2].set_title('r/Seattle', size = 20)\n",
    "axes[2,1].set_xlabel('', size = 15)\n",
    "axes[2,1].set_ylabel('', size = 15)\n",
    "axes[2,1].set_xlim(-0.01, 0.4)\n",
    "axes[2,1].set_ylim(0, 1100);\n",
    "\n",
    "# custom legend\n",
    "# legend_elements = [Line2D([0], [0], color='tab:blue', lw=4, label='r/Seattle'), \n",
    "#                    Line2D([0], [0], color='tab:green', lw=4, label='r/SeattleWA'),]\n",
    "\n",
    "# legend = axes[2,1].legend(handles = legend_elements, fontsize = 20);"
   ]
  },
  {
   "cell_type": "markdown",
   "id": "36394c0c-9777-49f3-a15f-79eb3b3a3f53",
   "metadata": {},
   "source": [
    "The above plots show that the sentiment scores between r/Seattle and r/SeattleWA look very similar. The most notable differences are:\n",
    "- the highest compound scores appear more frequently in r/Seattle\n",
    "- the lowest positive scores appear more frequently in r/SeattleWA\n",
    "- the higher negative scores appear slightly more frequently in r/SeattleWA\n",
    "\n",
    "The first bullet on compound scores stands out the most and agrees with the first impressions of each subreddit. The second bullet also aligns with our impressions, but the rest of the positive sentiment histograms (outside of the leftmost bar) do not illustrate any differences between the two subreddits. The last bullet is hardly notable at all."
   ]
  },
  {
   "cell_type": "code",
   "execution_count": 37,
   "id": "cee6561c-4af4-4255-b2bd-2ddf7a25fe73",
   "metadata": {},
   "outputs": [],
   "source": [
    "sea.to_csv('datasets/Cleaned_Seattle.csv', index = False)\n",
    "sea_wa.to_csv('datasets/Cleaned_SeattleWA.csv', index = False)"
   ]
  }
 ],
 "metadata": {
  "kernelspec": {
   "display_name": "Python 3 (ipykernel)",
   "language": "python",
   "name": "python3"
  },
  "language_info": {
   "codemirror_mode": {
    "name": "ipython",
    "version": 3
   },
   "file_extension": ".py",
   "mimetype": "text/x-python",
   "name": "python",
   "nbconvert_exporter": "python",
   "pygments_lexer": "ipython3",
   "version": "3.9.12"
  }
 },
 "nbformat": 4,
 "nbformat_minor": 5
}
