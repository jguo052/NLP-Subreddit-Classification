{
 "cells": [
  {
   "cell_type": "code",
   "execution_count": 1,
   "id": "12ea0d0a-3cbe-4356-ab2a-3e71e00a2542",
   "metadata": {},
   "outputs": [],
   "source": [
    "# compare most frequent words\n",
    "# compare sentiment in most frequent common post size? in short posts?\n",
    "\n",
    "\n",
    "# most frequent words in (1,2) or (1,3)"
   ]
  },
  {
   "cell_type": "markdown",
   "id": "4a172fcd-d4e7-4823-8cfe-82ae1eb965d7",
   "metadata": {
    "tags": []
   },
   "source": [
    "# Comparing r/seattle and r/seattlewa"
   ]
  },
  {
   "cell_type": "markdown",
   "id": "8306a50d-11e0-4e14-8c5c-9d7745a57d37",
   "metadata": {},
   "source": [
    "---\n",
    "\n",
    "# Problem Statement"
   ]
  },
  {
   "cell_type": "markdown",
   "id": "57600735-922c-463b-8324-7e1be89e81d0",
   "metadata": {},
   "source": [
    "---\n",
    "\n",
    "Describe Reddit\n",
    "\n",
    "Interestingly, there are at least two subreddits for the city of Seattle: r/Seattle and r/SeattleWA. Our goal is to create an NLP model that will attempt to distinguish posts between these two subreddits. In the process, we hope to gain insight about why these two separate subreddits exist for the same city.\n",
    "\n",
    "Classification model. This is a challenging problem, and there are certainly people who post in either subreddit without a considering why they are choosing one over the other. This is a level of randomness we do not know the size of and cannot eliminate in our examination. Since we should expect an accuracy of 50% without any help of a model, let us call success an accuracy above 70%."
   ]
  },
  {
   "cell_type": "markdown",
   "id": "8b23487a-03ea-4d35-821e-0db3b35512d4",
   "metadata": {},
   "source": [
    "---\n",
    "\n",
    "## Imports and Functions"
   ]
  },
  {
   "cell_type": "code",
   "execution_count": 1,
   "id": "e095bc62-e37c-42c2-a48a-b3d0d200b694",
   "metadata": {},
   "outputs": [],
   "source": [
    "import requests\n",
    "import time\n",
    "from ratelimit import limits\n",
    "\n",
    "import pandas as pd\n",
    "import numpy as np\n",
    "import matplotlib.pyplot as plt\n",
    "import seaborn as sns\n",
    "\n",
    "from sklearn.tree import DecisionTreeRegressor\n",
    "from sklearn.neighbors import KNeighborsClassifier\n",
    "from sklearn.naive_bayes import MultinomialNB\n",
    "from sklearn.ensemble import BaggingClassifier, RandomForestClassifier, GradientBoostingClassifier\n",
    "from sklearn.model_selection import train_test_split, GridSearchCV\n",
    "from sklearn.pipeline import Pipeline\n",
    "from sklearn.feature_extraction.text import CountVectorizer, TfidfVectorizer\n",
    "\n",
    "import re\n",
    "from nltk.sentiment.vader import SentimentIntensityAnalyzer\n",
    "from nltk.stem.porter import PorterStemmer\n",
    "from nltk.corpus import stopwords"
   ]
  },
  {
   "cell_type": "code",
   "execution_count": 2,
   "id": "6283908f-353e-4345-8ff5-151a39374b34",
   "metadata": {},
   "outputs": [],
   "source": [
    "def scrape_subreddit(subreddit):\n",
    "    '''\n",
    "    Given subreddit's name, request the most recent 2,250\n",
    "    posts from the given subreddit.\n",
    "    \n",
    "    Combines the data into a csv file.\n",
    "    '''\n",
    "    \n",
    "    url = 'https://api.pushshift.io/reddit/search/submission'\n",
    "    params = {'subreddit': subreddit,\n",
    "              'size': 250,\n",
    "              'is_self': True,\n",
    "              'selftext:not': '[removed]'}\n",
    "    \n",
    "    # assigns post data to variable 'posts'\n",
    "    data = requests.get(url, params).json()\n",
    "    posts = data['data']\n",
    "    \n",
    "    # adds the earliest post time to the 'before' API parameter\n",
    "    # next request will collect posts before this time\n",
    "    params['before'] = posts[-1]['created_utc']\n",
    "    \n",
    "    time.sleep(30)\n",
    "    \n",
    "    while len(posts) < 2_250:\n",
    "        # collects next batch of posts data as 'next_posts'\n",
    "        next_data = requests.get(url, params).json()\n",
    "        next_posts = next_data['data']\n",
    "        \n",
    "        # concatenate posts data to 'posts'\n",
    "        posts += next_posts\n",
    "        \n",
    "        # update API parameters to so the following 250 posts\n",
    "        # will be requested in the next iteration of the loop\n",
    "        earliest_post_time = next_posts[-1]['created_utc']\n",
    "        params['before'] = earliest_post_time\n",
    "        \n",
    "        # delay next request and not spam the API\n",
    "        time.sleep(30)\n",
    "        \n",
    "    posts_df = pd.DataFrame(posts)\n",
    "    posts_df.to_csv(f'datasets/{subreddit}.csv', index = False)\n",
    "    \n",
    "\n",
    "def text_cleaning(text):\n",
    "    '''\n",
    "    Cleans text by removing [bracketed statements], urls, emails,\n",
    "    some special characters (parentheses and stars), and some common html phrases.\n",
    "    \n",
    "    Returns the cleaned text\n",
    "    '''\n",
    "    \n",
    "    # remove new lines\n",
    "    text = re.sub('\\n', ' ', text)\n",
    "    \n",
    "    # remove parentheses and asterisks\n",
    "    text = re.sub(\"[\\(\\)\\*]\", '', text)\n",
    "    \n",
    "    # remove urls and do not include closing bracket ]\n",
    "    text = re.sub('http\\S+|www\\.\\S+', '', text)\n",
    "    \n",
    "    # remove email accounts\n",
    "    text = re.sub('\\S+@\\S+', '', text)\n",
    "    \n",
    "    # remove bracketed strings\n",
    "    text = re.sub('\\[(\\w|\\s)*\\]', '', text)\n",
    "    \n",
    "    # remove any leftover brackets\n",
    "    text = re.sub('[\\[\\]]', '', text)\n",
    "    \n",
    "    # replace parentheses with spaces\n",
    "    text = re.sub(\"/\", ' ', text)\n",
    "    \n",
    "    # remove some common html phrases\n",
    "    text = re.sub('&(gt|lt);', '', text)\n",
    "    text = re.sub('&?amp;', '', text)\n",
    "    text = re.sub('&?#x200b;?', '', text)\n",
    "    text = re.sub('&?#x200B;?', '', text) \n",
    "    \n",
    "    # replace whitespace with single space\n",
    "    text = re.sub('\\s+', ' ', text)\n",
    "    \n",
    "    # punctuation will be dropped after collecting sentiment\n",
    "    # , ; : . ! ?\n",
    "        \n",
    "    return text\n",
    "\n",
    "\n",
    "# although stop_drop_and_stem is a cooler name\n",
    "# it would be slightly less clear :(\n",
    "def drop_stop_and_stem(text):\n",
    "    '''\n",
    "    Takes a string, drops the stop words,\n",
    "    and stems the remaining words with PorterStemmer.\n",
    "    \n",
    "    Returns the stemmed, non-stopwords\n",
    "    '''\n",
    "    \n",
    "    pstem = PorterStemmer()\n",
    "    \n",
    "    #stem non-stopwords and put into a list\n",
    "    stemmed_list = [pstem.stem(word) for word in text.split()\n",
    "                    if word not in stopwords.words('english')]\n",
    "    \n",
    "    # return words separated by a space\n",
    "    return ' '.join(stemmed_list)\n",
    "\n",
    "\n",
    "def create_sentiment(df):\n",
    "    '''\n",
    "    Using Vader, collects sentiment from a DataFrame's \"text\" column.\n",
    "    Creates three new columns titled \"sent_pos\", \"sent_neg\", and \"sent_comp\" from the \n",
    "    positive, negative, and compound sentiment scores.\n",
    "    \n",
    "    Returns the DataFrame with additional columns \"sent_pos\", \"sent_neg\", and \"sent_comp\".\n",
    "    '''\n",
    "    \n",
    "    sent = SentimentIntensityAnalyzer()\n",
    "    \n",
    "    df['sent_pos'] = df['text'].apply(lambda x: sent.polarity_scores(x)['pos'])\n",
    "    df['sent_neg'] = df['text'].apply(lambda x: sent.polarity_scores(x)['neg'])\n",
    "    df['sent_compound'] = df['text'].apply(lambda x: sent.polarity_scores(x)['compound'])\n",
    "    \n",
    "\n",
    "def sample_three(series):\n",
    "    '''\n",
    "    Prints three random entries from a given series.\n",
    "    '''\n",
    "    for entry in series.sample(3):\n",
    "        print(entry)\n",
    "        print('----------\\n')"
   ]
  },
  {
   "cell_type": "code",
   "execution_count": 3,
   "id": "a597840a-240f-40fa-ab65-cd25ffee0f96",
   "metadata": {},
   "outputs": [],
   "source": [
    "# collect more than 2,250 posts from /r/Seattle and /r/SeattleWA subreddits\n",
    "# commented out because the data has already been collected\n",
    "\n",
    "#scrape_subreddit('Seattle')\n",
    "#scrape_subreddit('SeattleWA')"
   ]
  },
  {
   "cell_type": "markdown",
   "id": "2c6650a2-1002-4d85-865b-03793cac443a",
   "metadata": {},
   "source": [
    "---\n",
    "\n",
    "## Basic Cleaning"
   ]
  },
  {
   "cell_type": "code",
   "execution_count": 4,
   "id": "019e4993-2d4c-459a-bb45-01b34db5309f",
   "metadata": {},
   "outputs": [],
   "source": [
    "sea = pd.read_csv('datasets/Seattle.csv')\n",
    "sea_wa = pd.read_csv('datasets/SeattleWA.csv')"
   ]
  },
  {
   "cell_type": "markdown",
   "id": "f2ff3eec-adc5-41c7-b62c-d7d3d40a9b27",
   "metadata": {},
   "source": [
    "Through reading the two csv files I identified the columns below would be most relevant in search."
   ]
  },
  {
   "cell_type": "code",
   "execution_count": 5,
   "id": "00f91eaa-60f6-4025-821b-0a54022d3c11",
   "metadata": {},
   "outputs": [],
   "source": [
    "# columns of interest\n",
    "init_cols = ['subreddit', 'author', 'created_utc', 'title', 'selftext']\n",
    "\n",
    "sea = sea[init_cols].copy()\n",
    "sea_wa = sea_wa[init_cols].copy()"
   ]
  },
  {
   "cell_type": "markdown",
   "id": "85d5f9cc-dbe1-494c-88aa-3d00b76b5cab",
   "metadata": {},
   "source": [
    "Let us see if there are any blatant things to clean in the data."
   ]
  },
  {
   "cell_type": "code",
   "execution_count": 6,
   "id": "aa5be538-45e1-4845-a4b0-6802aad26d61",
   "metadata": {},
   "outputs": [
    {
     "data": {
      "text/plain": [
       "subreddit      0\n",
       "author         0\n",
       "created_utc    0\n",
       "title          0\n",
       "selftext       0\n",
       "dtype: int64"
      ]
     },
     "execution_count": 6,
     "metadata": {},
     "output_type": "execute_result"
    }
   ],
   "source": [
    "sea.isnull().sum()"
   ]
  },
  {
   "cell_type": "code",
   "execution_count": 7,
   "id": "fe3e443b-dc02-4e80-b292-3dcefd960783",
   "metadata": {},
   "outputs": [
    {
     "data": {
      "text/plain": [
       "subreddit      0\n",
       "author         0\n",
       "created_utc    0\n",
       "title          0\n",
       "selftext       3\n",
       "dtype: int64"
      ]
     },
     "execution_count": 7,
     "metadata": {},
     "output_type": "execute_result"
    }
   ],
   "source": [
    "sea_wa.isnull().sum()"
   ]
  },
  {
   "cell_type": "code",
   "execution_count": 8,
   "id": "b9a278c4-7b82-43d2-966c-5ea62d49234f",
   "metadata": {},
   "outputs": [
    {
     "name": "stdout",
     "output_type": "stream",
     "text": [
      "(2499, 5)\n",
      "(2499, 5)\n"
     ]
    }
   ],
   "source": [
    "print(sea.shape)\n",
    "print(sea_wa.shape)"
   ]
  },
  {
   "cell_type": "code",
   "execution_count": 9,
   "id": "2d71575e-111f-447a-8390-5fb2a130e932",
   "metadata": {},
   "outputs": [],
   "source": [
    "sea_wa.dropna(inplace = True)"
   ]
  },
  {
   "cell_type": "markdown",
   "id": "273deceb-a7e1-4343-be08-897f3264e416",
   "metadata": {},
   "source": [
    "There should not be any harm in removing three entries with missing selftext data out of nearly 2,500 posts."
   ]
  },
  {
   "cell_type": "markdown",
   "id": "769b7d5f-2951-46b1-8db1-58348fb41126",
   "metadata": {},
   "source": [
    "Since we will eventually want to look over text from both title and selftext, let us concatenate these columns."
   ]
  },
  {
   "cell_type": "code",
   "execution_count": 10,
   "id": "42a18621-efad-40ba-a8b5-7bb800fdb2f9",
   "metadata": {},
   "outputs": [],
   "source": [
    "# create a new column from joining title text and selftext\n",
    "sea['text'] = sea['title'] + ' ' + sea['selftext']\n",
    "sea_wa['text'] = sea_wa['title'] + ' ' + sea_wa['selftext']"
   ]
  },
  {
   "cell_type": "markdown",
   "id": "f1f5a02c-8075-4983-8ae8-0fd9686fc9cb",
   "metadata": {},
   "source": [
    "Next we clean need to clean the data. Below we our `text_cleaning` function to do basic cleaning like remove urls, select special characters, and bracketed text.\n",
    "\n",
    "After cleaning we will collect sentiment from our text through `vader`, then drop stopwords, and finally stem. We collect sentiment first because `vader` may have trouble performing sentiment analysis on stemmed text."
   ]
  },
  {
   "cell_type": "code",
   "execution_count": 11,
   "id": "24e00aaa-09b7-4595-a8f7-440a2bdd65a5",
   "metadata": {},
   "outputs": [],
   "source": [
    "# remove urls and emails, special characters ()/*, and [bracketed strings]\n",
    "sea['text'] = sea['text'].apply(text_cleaning)\n",
    "sea_wa['text'] = sea_wa['text'].apply(text_cleaning)"
   ]
  },
  {
   "cell_type": "code",
   "execution_count": 12,
   "id": "37f9ff68-5bd3-4504-95f7-7bf4c0f8f0d6",
   "metadata": {},
   "outputs": [],
   "source": [
    "# in place methods that generate positive and negative sentiment scores\n",
    "# for the given dataframes\n",
    "create_sentiment(sea)\n",
    "create_sentiment(sea_wa)"
   ]
  },
  {
   "cell_type": "code",
   "execution_count": 13,
   "id": "b54a6aa5-b647-428d-8d9d-6be84fefe9cd",
   "metadata": {},
   "outputs": [],
   "source": [
    "# drop some leftover punctuation - some of which was necessary for sentiment analysis\n",
    "sea['text'] = sea['text'].apply(lambda text: re.sub('[,;\\.!\\?]', '', text))\n",
    "sea_wa['text'] = sea_wa['text'].apply(lambda text: re.sub('[,;\\.!\\?]', '', text))"
   ]
  },
  {
   "cell_type": "code",
   "execution_count": 14,
   "id": "25bffcbb-6004-4ec4-a90a-53028e7f022b",
   "metadata": {},
   "outputs": [],
   "source": [
    "# count number of words by splitting text across white space and recording list length\n",
    "sea['word_count'] = sea['text'].str.split().str.len()\n",
    "sea_wa['word_count'] = sea_wa['text'].str.split().str.len()"
   ]
  },
  {
   "cell_type": "code",
   "execution_count": 15,
   "id": "12fc0240-0954-4633-908c-9355fc5d4ed5",
   "metadata": {},
   "outputs": [
    {
     "data": {
      "text/html": [
       "<div>\n",
       "<style scoped>\n",
       "    .dataframe tbody tr th:only-of-type {\n",
       "        vertical-align: middle;\n",
       "    }\n",
       "\n",
       "    .dataframe tbody tr th {\n",
       "        vertical-align: top;\n",
       "    }\n",
       "\n",
       "    .dataframe thead th {\n",
       "        text-align: right;\n",
       "    }\n",
       "</style>\n",
       "<table border=\"1\" class=\"dataframe\">\n",
       "  <thead>\n",
       "    <tr style=\"text-align: right;\">\n",
       "      <th></th>\n",
       "      <th>subreddit</th>\n",
       "      <th>author</th>\n",
       "      <th>created_utc</th>\n",
       "      <th>title</th>\n",
       "      <th>selftext</th>\n",
       "      <th>text</th>\n",
       "      <th>sent_pos</th>\n",
       "      <th>sent_neg</th>\n",
       "      <th>sent_compound</th>\n",
       "      <th>word_count</th>\n",
       "    </tr>\n",
       "  </thead>\n",
       "  <tbody>\n",
       "    <tr>\n",
       "      <th>0</th>\n",
       "      <td>SeattleWA</td>\n",
       "      <td>Sinkholediaries</td>\n",
       "      <td>1664416603</td>\n",
       "      <td>Archspire fans?</td>\n",
       "      <td>I'm a lady who is obsessed. I need other frien...</td>\n",
       "      <td>Archspire fans I'm a lady who is obsessed I ne...</td>\n",
       "      <td>0.206</td>\n",
       "      <td>0.284</td>\n",
       "      <td>-0.4939</td>\n",
       "      <td>31</td>\n",
       "    </tr>\n",
       "    <tr>\n",
       "      <th>1</th>\n",
       "      <td>SeattleWA</td>\n",
       "      <td>prf_q</td>\n",
       "      <td>1664406559</td>\n",
       "      <td>Is it the overseeding season yet?</td>\n",
       "      <td>Those who are maintaining a lawn: Are you over...</td>\n",
       "      <td>Is it the overseeding season yet Those who are...</td>\n",
       "      <td>0.069</td>\n",
       "      <td>0.000</td>\n",
       "      <td>0.3485</td>\n",
       "      <td>35</td>\n",
       "    </tr>\n",
       "    <tr>\n",
       "      <th>2</th>\n",
       "      <td>SeattleWA</td>\n",
       "      <td>eatmoremeatnow</td>\n",
       "      <td>1664404071</td>\n",
       "      <td>Showbox Box Office?</td>\n",
       "      <td>Has anybody recently bought a ticket from the ...</td>\n",
       "      <td>Showbox Box Office Has anybody recently bought...</td>\n",
       "      <td>0.034</td>\n",
       "      <td>0.058</td>\n",
       "      <td>-0.3270</td>\n",
       "      <td>55</td>\n",
       "    </tr>\n",
       "    <tr>\n",
       "      <th>3</th>\n",
       "      <td>SeattleWA</td>\n",
       "      <td>xixi90</td>\n",
       "      <td>1664398109</td>\n",
       "      <td>[Public Policy Poll] Patty Murray (D) leads Ti...</td>\n",
       "      <td>https://www.publicpolicypolling.com/wp-content...</td>\n",
       "      <td>Patty Murray D leads Tiffany Smiley R 520 - 4...</td>\n",
       "      <td>0.114</td>\n",
       "      <td>0.000</td>\n",
       "      <td>0.4019</td>\n",
       "      <td>25</td>\n",
       "    </tr>\n",
       "    <tr>\n",
       "      <th>4</th>\n",
       "      <td>SeattleWA</td>\n",
       "      <td>irish_gnome</td>\n",
       "      <td>1664320032</td>\n",
       "      <td>Gas prices going back up?</td>\n",
       "      <td>Just watched the local gas station raise their...</td>\n",
       "      <td>Gas prices going back up Just watched the loca...</td>\n",
       "      <td>0.000</td>\n",
       "      <td>0.084</td>\n",
       "      <td>-0.3736</td>\n",
       "      <td>29</td>\n",
       "    </tr>\n",
       "  </tbody>\n",
       "</table>\n",
       "</div>"
      ],
      "text/plain": [
       "   subreddit           author  created_utc  \\\n",
       "0  SeattleWA  Sinkholediaries   1664416603   \n",
       "1  SeattleWA            prf_q   1664406559   \n",
       "2  SeattleWA   eatmoremeatnow   1664404071   \n",
       "3  SeattleWA           xixi90   1664398109   \n",
       "4  SeattleWA      irish_gnome   1664320032   \n",
       "\n",
       "                                               title  \\\n",
       "0                                    Archspire fans?   \n",
       "1                  Is it the overseeding season yet?   \n",
       "2                                Showbox Box Office?   \n",
       "3  [Public Policy Poll] Patty Murray (D) leads Ti...   \n",
       "4                          Gas prices going back up?   \n",
       "\n",
       "                                            selftext  \\\n",
       "0  I'm a lady who is obsessed. I need other frien...   \n",
       "1  Those who are maintaining a lawn: Are you over...   \n",
       "2  Has anybody recently bought a ticket from the ...   \n",
       "3  https://www.publicpolicypolling.com/wp-content...   \n",
       "4  Just watched the local gas station raise their...   \n",
       "\n",
       "                                                text  sent_pos  sent_neg  \\\n",
       "0  Archspire fans I'm a lady who is obsessed I ne...     0.206     0.284   \n",
       "1  Is it the overseeding season yet Those who are...     0.069     0.000   \n",
       "2  Showbox Box Office Has anybody recently bought...     0.034     0.058   \n",
       "3   Patty Murray D leads Tiffany Smiley R 520 - 4...     0.114     0.000   \n",
       "4  Gas prices going back up Just watched the loca...     0.000     0.084   \n",
       "\n",
       "   sent_compound  word_count  \n",
       "0        -0.4939          31  \n",
       "1         0.3485          35  \n",
       "2        -0.3270          55  \n",
       "3         0.4019          25  \n",
       "4        -0.3736          29  "
      ]
     },
     "execution_count": 15,
     "metadata": {},
     "output_type": "execute_result"
    }
   ],
   "source": [
    "sea_wa.head()"
   ]
  },
  {
   "cell_type": "code",
   "execution_count": 16,
   "id": "df6c1f6c-c797-4e1f-a891-0c60b9e4cba0",
   "metadata": {},
   "outputs": [
    {
     "name": "stdout",
     "output_type": "stream",
     "text": [
      "Number of duplicates posts in r/Seattle: 5\n",
      "Number of duplicates posts in r/SeattleWA: 39\n"
     ]
    },
    {
     "data": {
      "text/html": [
       "<div>\n",
       "<style scoped>\n",
       "    .dataframe tbody tr th:only-of-type {\n",
       "        vertical-align: middle;\n",
       "    }\n",
       "\n",
       "    .dataframe tbody tr th {\n",
       "        vertical-align: top;\n",
       "    }\n",
       "\n",
       "    .dataframe thead th {\n",
       "        text-align: right;\n",
       "    }\n",
       "</style>\n",
       "<table border=\"1\" class=\"dataframe\">\n",
       "  <thead>\n",
       "    <tr style=\"text-align: right;\">\n",
       "      <th></th>\n",
       "      <th>subreddit</th>\n",
       "      <th>author</th>\n",
       "      <th>created_utc</th>\n",
       "      <th>title</th>\n",
       "      <th>selftext</th>\n",
       "      <th>text</th>\n",
       "      <th>sent_pos</th>\n",
       "      <th>sent_neg</th>\n",
       "      <th>sent_compound</th>\n",
       "      <th>word_count</th>\n",
       "    </tr>\n",
       "  </thead>\n",
       "  <tbody>\n",
       "    <tr>\n",
       "      <th>407</th>\n",
       "      <td>SeattleWA</td>\n",
       "      <td>AceItAcademy</td>\n",
       "      <td>1660688425</td>\n",
       "      <td>Ace It Academy - A newly opened tutoring servi...</td>\n",
       "      <td>&amp;amp;#x200B;\\n\\nhttps://preview.redd.it/zn19ut...</td>\n",
       "      <td>Ace It Academy - A newly opened tutoring servi...</td>\n",
       "      <td>0.025</td>\n",
       "      <td>0.0</td>\n",
       "      <td>0.3802</td>\n",
       "      <td>110</td>\n",
       "    </tr>\n",
       "    <tr>\n",
       "      <th>97</th>\n",
       "      <td>SeattleWA</td>\n",
       "      <td>AutoModerator</td>\n",
       "      <td>1663238408</td>\n",
       "      <td>Seattle Reddit Community Open Chat</td>\n",
       "      <td>Welcome to the [Seattle Reddit Community](http...</td>\n",
       "      <td>Seattle Reddit Community Open Chat Welcome to ...</td>\n",
       "      <td>0.084</td>\n",
       "      <td>0.0</td>\n",
       "      <td>0.8388</td>\n",
       "      <td>112</td>\n",
       "    </tr>\n",
       "    <tr>\n",
       "      <th>2328</th>\n",
       "      <td>SeattleWA</td>\n",
       "      <td>AutoModerator</td>\n",
       "      <td>1646912409</td>\n",
       "      <td>Seattle Reddit Community Open Chat</td>\n",
       "      <td>Welcome to the [Seattle Reddit Community](http...</td>\n",
       "      <td>Seattle Reddit Community Open Chat Welcome to ...</td>\n",
       "      <td>0.084</td>\n",
       "      <td>0.0</td>\n",
       "      <td>0.8388</td>\n",
       "      <td>112</td>\n",
       "    </tr>\n",
       "    <tr>\n",
       "      <th>2197</th>\n",
       "      <td>SeattleWA</td>\n",
       "      <td>AutoModerator</td>\n",
       "      <td>1647513608</td>\n",
       "      <td>Seattle Reddit Community Open Chat</td>\n",
       "      <td>Welcome to the [Seattle Reddit Community](http...</td>\n",
       "      <td>Seattle Reddit Community Open Chat Welcome to ...</td>\n",
       "      <td>0.084</td>\n",
       "      <td>0.0</td>\n",
       "      <td>0.8388</td>\n",
       "      <td>112</td>\n",
       "    </tr>\n",
       "    <tr>\n",
       "      <th>2119</th>\n",
       "      <td>SeattleWA</td>\n",
       "      <td>AutoModerator</td>\n",
       "      <td>1648118409</td>\n",
       "      <td>Seattle Reddit Community Open Chat</td>\n",
       "      <td>Welcome to the [Seattle Reddit Community](http...</td>\n",
       "      <td>Seattle Reddit Community Open Chat Welcome to ...</td>\n",
       "      <td>0.084</td>\n",
       "      <td>0.0</td>\n",
       "      <td>0.8388</td>\n",
       "      <td>112</td>\n",
       "    </tr>\n",
       "    <tr>\n",
       "      <th>2024</th>\n",
       "      <td>SeattleWA</td>\n",
       "      <td>AutoModerator</td>\n",
       "      <td>1648723209</td>\n",
       "      <td>Seattle Reddit Community Open Chat</td>\n",
       "      <td>Welcome to the [Seattle Reddit Community](http...</td>\n",
       "      <td>Seattle Reddit Community Open Chat Welcome to ...</td>\n",
       "      <td>0.084</td>\n",
       "      <td>0.0</td>\n",
       "      <td>0.8388</td>\n",
       "      <td>112</td>\n",
       "    </tr>\n",
       "    <tr>\n",
       "      <th>1944</th>\n",
       "      <td>SeattleWA</td>\n",
       "      <td>AutoModerator</td>\n",
       "      <td>1649328010</td>\n",
       "      <td>Seattle Reddit Community Open Chat</td>\n",
       "      <td>Welcome to the [Seattle Reddit Community](http...</td>\n",
       "      <td>Seattle Reddit Community Open Chat Welcome to ...</td>\n",
       "      <td>0.084</td>\n",
       "      <td>0.0</td>\n",
       "      <td>0.8388</td>\n",
       "      <td>112</td>\n",
       "    </tr>\n",
       "    <tr>\n",
       "      <th>1887</th>\n",
       "      <td>SeattleWA</td>\n",
       "      <td>AutoModerator</td>\n",
       "      <td>1649932809</td>\n",
       "      <td>Seattle Reddit Community Open Chat</td>\n",
       "      <td>Welcome to the [Seattle Reddit Community](http...</td>\n",
       "      <td>Seattle Reddit Community Open Chat Welcome to ...</td>\n",
       "      <td>0.084</td>\n",
       "      <td>0.0</td>\n",
       "      <td>0.8388</td>\n",
       "      <td>112</td>\n",
       "    </tr>\n",
       "    <tr>\n",
       "      <th>1798</th>\n",
       "      <td>SeattleWA</td>\n",
       "      <td>AutoModerator</td>\n",
       "      <td>1650537609</td>\n",
       "      <td>Seattle Reddit Community Open Chat</td>\n",
       "      <td>Welcome to the [Seattle Reddit Community](http...</td>\n",
       "      <td>Seattle Reddit Community Open Chat Welcome to ...</td>\n",
       "      <td>0.084</td>\n",
       "      <td>0.0</td>\n",
       "      <td>0.8388</td>\n",
       "      <td>112</td>\n",
       "    </tr>\n",
       "    <tr>\n",
       "      <th>1716</th>\n",
       "      <td>SeattleWA</td>\n",
       "      <td>AutoModerator</td>\n",
       "      <td>1651142410</td>\n",
       "      <td>Seattle Reddit Community Open Chat</td>\n",
       "      <td>Welcome to the [Seattle Reddit Community](http...</td>\n",
       "      <td>Seattle Reddit Community Open Chat Welcome to ...</td>\n",
       "      <td>0.084</td>\n",
       "      <td>0.0</td>\n",
       "      <td>0.8388</td>\n",
       "      <td>112</td>\n",
       "    </tr>\n",
       "  </tbody>\n",
       "</table>\n",
       "</div>"
      ],
      "text/plain": [
       "      subreddit         author  created_utc  \\\n",
       "407   SeattleWA   AceItAcademy   1660688425   \n",
       "97    SeattleWA  AutoModerator   1663238408   \n",
       "2328  SeattleWA  AutoModerator   1646912409   \n",
       "2197  SeattleWA  AutoModerator   1647513608   \n",
       "2119  SeattleWA  AutoModerator   1648118409   \n",
       "2024  SeattleWA  AutoModerator   1648723209   \n",
       "1944  SeattleWA  AutoModerator   1649328010   \n",
       "1887  SeattleWA  AutoModerator   1649932809   \n",
       "1798  SeattleWA  AutoModerator   1650537609   \n",
       "1716  SeattleWA  AutoModerator   1651142410   \n",
       "\n",
       "                                                  title  \\\n",
       "407   Ace It Academy - A newly opened tutoring servi...   \n",
       "97                   Seattle Reddit Community Open Chat   \n",
       "2328                 Seattle Reddit Community Open Chat   \n",
       "2197                 Seattle Reddit Community Open Chat   \n",
       "2119                 Seattle Reddit Community Open Chat   \n",
       "2024                 Seattle Reddit Community Open Chat   \n",
       "1944                 Seattle Reddit Community Open Chat   \n",
       "1887                 Seattle Reddit Community Open Chat   \n",
       "1798                 Seattle Reddit Community Open Chat   \n",
       "1716                 Seattle Reddit Community Open Chat   \n",
       "\n",
       "                                               selftext  \\\n",
       "407   &amp;#x200B;\\n\\nhttps://preview.redd.it/zn19ut...   \n",
       "97    Welcome to the [Seattle Reddit Community](http...   \n",
       "2328  Welcome to the [Seattle Reddit Community](http...   \n",
       "2197  Welcome to the [Seattle Reddit Community](http...   \n",
       "2119  Welcome to the [Seattle Reddit Community](http...   \n",
       "2024  Welcome to the [Seattle Reddit Community](http...   \n",
       "1944  Welcome to the [Seattle Reddit Community](http...   \n",
       "1887  Welcome to the [Seattle Reddit Community](http...   \n",
       "1798  Welcome to the [Seattle Reddit Community](http...   \n",
       "1716  Welcome to the [Seattle Reddit Community](http...   \n",
       "\n",
       "                                                   text  sent_pos  sent_neg  \\\n",
       "407   Ace It Academy - A newly opened tutoring servi...     0.025       0.0   \n",
       "97    Seattle Reddit Community Open Chat Welcome to ...     0.084       0.0   \n",
       "2328  Seattle Reddit Community Open Chat Welcome to ...     0.084       0.0   \n",
       "2197  Seattle Reddit Community Open Chat Welcome to ...     0.084       0.0   \n",
       "2119  Seattle Reddit Community Open Chat Welcome to ...     0.084       0.0   \n",
       "2024  Seattle Reddit Community Open Chat Welcome to ...     0.084       0.0   \n",
       "1944  Seattle Reddit Community Open Chat Welcome to ...     0.084       0.0   \n",
       "1887  Seattle Reddit Community Open Chat Welcome to ...     0.084       0.0   \n",
       "1798  Seattle Reddit Community Open Chat Welcome to ...     0.084       0.0   \n",
       "1716  Seattle Reddit Community Open Chat Welcome to ...     0.084       0.0   \n",
       "\n",
       "      sent_compound  word_count  \n",
       "407          0.3802         110  \n",
       "97           0.8388         112  \n",
       "2328         0.8388         112  \n",
       "2197         0.8388         112  \n",
       "2119         0.8388         112  \n",
       "2024         0.8388         112  \n",
       "1944         0.8388         112  \n",
       "1887         0.8388         112  \n",
       "1798         0.8388         112  \n",
       "1716         0.8388         112  "
      ]
     },
     "execution_count": 16,
     "metadata": {},
     "output_type": "execute_result"
    }
   ],
   "source": [
    "print(f\"Number of duplicates posts in r/Seattle: {sea[sea['text'].duplicated()].sort_values(by = 'author').shape[0]}\")\n",
    "print(f\"Number of duplicates posts in r/SeattleWA: {sea_wa[sea_wa['text'].duplicated()].sort_values(by = 'author').shape[0]}\")\n",
    "sea_wa[sea_wa['text'].duplicated()].sort_values(by = 'author').head(10)"
   ]
  },
  {
   "cell_type": "code",
   "execution_count": 17,
   "id": "e5caabb8-df36-414f-86a4-07691b0f33d5",
   "metadata": {},
   "outputs": [],
   "source": [
    "sea.drop_duplicates('text', inplace = True)\n",
    "sea_wa.drop_duplicates('text', inplace = True)"
   ]
  },
  {
   "cell_type": "code",
   "execution_count": 18,
   "id": "05233aea-867d-4604-a84f-65cdc26b13c2",
   "metadata": {},
   "outputs": [
    {
     "data": {
      "image/png": "[encoded data removed]",
      "text/plain": [
       "<Figure size 1152x360 with 2 Axes>"
      ]
     },
     "metadata": {
      "needs_background": "light"
     },
     "output_type": "display_data"
    }
   ],
   "source": [
    "fig, axes = plt.subplots(1,2, figsize = (16,5))\n",
    "\n",
    "fig.suptitle('Word Count Boxplots', size = 25, y = 1.02)\n",
    "sns.boxplot(x = sea['word_count'], ax = axes[0])\n",
    "axes[0].set_title('r/Seattle', size = 20)\n",
    "axes[0].set_xlabel('Word Count', size = 15)\n",
    "\n",
    "sns.boxplot(x = sea_wa['word_count'], ax = axes[1])\n",
    "axes[1].set_title('r/SeattleWA', size = 20)\n",
    "axes[1].set_xlabel('Word Count', size = 15);"
   ]
  },
  {
   "cell_type": "code",
   "execution_count": 19,
   "id": "a8fceb1b-906b-4a7a-94bc-60b985d6f278",
   "metadata": {},
   "outputs": [
    {
     "data": {
      "text/plain": [
       "count    2494.000000\n",
       "mean       93.372093\n",
       "std       127.130427\n",
       "min         0.000000\n",
       "25%        39.000000\n",
       "50%        62.000000\n",
       "75%       104.000000\n",
       "max      2088.000000\n",
       "Name: word_count, dtype: float64"
      ]
     },
     "execution_count": 19,
     "metadata": {},
     "output_type": "execute_result"
    }
   ],
   "source": [
    "sea['word_count'].describe()"
   ]
  },
  {
   "cell_type": "markdown",
   "id": "9003d9b8-d0a2-4382-818f-61815c8890b8",
   "metadata": {},
   "source": [
    "Let us explore these extraordinarily long posts."
   ]
  },
  {
   "cell_type": "code",
   "execution_count": 20,
   "id": "13727523-643f-4051-ae18-f7411d0eaaa2",
   "metadata": {
    "scrolled": true,
    "tags": []
   },
   "outputs": [
    {
     "name": "stdout",
     "output_type": "stream",
     "text": [
      "Seattle City Council Newsletters Reddit: Hey everyone I just wanted to introduce myself again My name is George and I am a rising junior at Stanford interested in civic engagement and politics I started working on a project with other students that’s been totally awesome and cool Basically we’ve made a newsletter that summarizes the info from Seattle City Council meetings in an accessible and easy way I have put an example from this week below though the real thing has a bit more formatting that doesn't translate into Reddit This project is very new so we would really appreciate any feedback you may have I would love to see comments and show me what I need to do to make this newsletter the best it can be I totally recommend joining Who doesn’t want to know what goes on behind the scenes of their own beautiful city If you are interested in receiving these weekly in your email inbox you can click this link: Example Newsletter: Seattle City Council Meeting Summaries - Week of September 12 2022 Council Briefing 9 12 Meeting Length - 1:32:07 All councilmembers were present Council Meeting 9 13 Meeting Length - 1:19:32 All councilmembers were present Presentations Amy Gore a member of the City Council Central Staff shared a during the briefing regarding Seattle Initiative 135 establishes the Seattle Social Housing Developer a new public development authority for social housing to develop own and maintain publicly financed mixed-income social housing developments The initiative will create a 13-member PDA board appointed by the Seattle Renters Commission 7 MLK Jr County Labor Council 1 El Centro de la Raza 1 City Council 2 Mayor’s Office 1 and Green New Deal Oversight Board 1 Half of the board will eventually be residents of PDA housing The city will have to fund the salary and benefits of the CEO and CFO for 18 months along with other support estimated to cost at least $750000 Seattle will also be required to conduct a feasibility study whenever considering the sale or gift of public land Councilmembers Updates Councilmember District 1 Brought attention to the upcoming QA on September 15 with the three candidates for the Permanent Chief of Police in Seattle Attended the King County Homelessness Meeting the Board of Health Meeting to receive a Monkeypox update and a meeting with the Metropolitan Democratic Club of Seattle to discuss legislation on abortion access Councilmember District 2 Approved in Neighborhood Education Civil Rights and Culture Committee which amends five preschool policies Attended several meetings including with the Office of Civil Rights Board of Health Committee and Beacon Hill Council Community Meeting Had the opportunity to meet with several community members and discuss safety along the Rainier Valley the Levy Oversight Committee’s efforts to increase funding for education programs labor rights for individuals contracted through third-party organizations and concerns around the Soto Shelter Expansion Announced the King County awarded $11 million to 45 community organizations Councilmember District 3 Brought awareness to current issues within the education realm urging contract negotiators to meet the needs of educators students and families Argued that the Democratic Party has not shown enough moral and financial support for educators Councilmember District 4 Seven items from the Department of Transportation and Public Utilities on agenda Six council bills to cover several slivers of city property and its repurposement The last bill was mentioned to be the most popular regarding the unanimous nomination of Greg Spotts as the Director of Seattle Department of Transportation Thanked everyone who helped phase out gasoline-powered leaf blowers and also thanked the individuals who helped reopen the West Seattle High Bridge Council President District 5 Proclaiming September 2022 as Childhood Cancer Awareness Month 9 signatures affixed No items from Governance Native Communities and Tribal Governments Committee Will meet September 15 to consider appointments for the City’s Human Resources Director and the Joint Apprenticeship Training Council Announced that the Aurora Commons has been able to fund $150 million for property acquisition in two years to provide services to women experiencing sexual exploitation citywide Councilmember District 6 Looking at various issues including homelessness public safety the education strike and plans for Ballard Avenue Welcomed Naomi Ruse as the new Land Use Committee clerk Councilmember District 7 Sponsored which celebrates the 50th anniversary of Discovery Park Held several meetings amongst colleague and community members about Metropolitan Park District priorities as votes will be held on September 23 regarding the district Announced that the Clean City Initiative disposed of 2350 needles and 100000 pounds of garbages Congratulated the Seattle Public Library system for providing $49 million annual in services provided to the community and stakeholders Councilmember Citywide The mayor will released his proposed budget on September 27 Moved around dates for budget hearing a balancing package hearing will be held November 7 and a public hearing for the Mayor’s budget will be held November 8 Congratulated several different labor groups throughout the city including the Seattle Education Association Starbucks United and Teamsters Local 174 for fighting for their labor rights Specifically applauded the Teamsters Local 174 for reaching successes including better medical coverage work rules and pension increases Councilmember Citywide The Economic Development Technology and City Lights Committee will meet on September 14 with significant issues to address an ordinance relating to the City Light Department amending rates terms and conditions for the use and sale of electricity supplied by the City Light Department for 2022 2023 and 2024 an ordinance relating to the establishment of the Seattle Film Commission Two appointments to the Seattle Music Commission: Appointments Three appointments to the City Light Review Panel: Appointments and Held several meetings with Greg Spotts regarding maintenance resource planning Gino Betts Downtown Seattle Association Cascade Bike Club Seattle Police Department Alona Lori and Senator Maria Cantwell Legislation Updates Public Housing: Report of the City Clerk on the Certificate of Sufficiency for Initiative No 135 concerning the Seattle Social Housing Public Development Authority PDA See presentation above from Amy Gore regarding what Seattle Initiative 135 concerns 9 Yes An ordinance relating to the redevelopment of Yesler Terrace by the Housing Authority of The City of Seattle authorizing the Mayor to execute an amendment to the Yesler Terrace Cooperative Agreement with the Housing Authority of the City of Seattle that was authorized by Ordinance 123961 authorizing the Director of Housing to implement the Cooperative Agreement as amended and ratifying and confirming certain prior acts Sponsored by Councilmember 9 Yes Seattle Office of Inspector General: Office of Inspector General request for an extension for the filing of September 2022 Annual Surveillance Technologies review reports Sponsored by Councilmember Nelson conveyed that the Seattle Office of Inspector General does not have the staffing and capacity to conduct sufficient surveillance reviews by the end of September and the organization requested to postpone the reviews until March 31 2023 9 Yes Celebrating Seattle Parks: A resolution celebrating the fiftieth anniversary of the adoption of the Discovery Park Master Plan Sponsored by Councilmember 9 Yes Environmental: An ordinance amending which adopted the 2022 Budget changing appropriations to various departments and budget control levels and from various funds in the Budget in order to advance the Seattle Green New Deal by funding actions to reduce greenhouse gas emissions funding climate-resilient community spaces and investing in net-zero affordable housing and ratifying and confirming certain prior acts Sponsored by Councilmembers 9 Yes Budget: An ordinance appropriating money to pay certain claims for the week of August 29 2022 through September 2 2022 and ordering the payment thereof and ratifying and confirming certain prior acts Sponsored by Councilmember 9 Yes Appointment: Appointment of Greg Spotts Director of Seattle Department of Transportation for a term to August 1 2026 Sponsored by Councilmember 9 Yes Land Rights: Ordinances accepting various deeds for street or alley purposes laying off opening widening extending and establishing portions of rights-of way placing the real priority conveyed by said deeds under the jurisdiction of the Seattle Department of Transportation and ratifying and confirming certain prior acts Sponsored by Councilmembers 9 Yes Sponsored by Councilmembers 9 Yes Sponsored by Councilmembers 9 Yes Sponsored by Councilmembers 9 Yes An ordinance accepting 21 limited purpose easements for public sidewalk and alley turn- around purposes placing the real property conveyed by such easements under the jurisdiction of the Seattle Department of Transportation and ratifying and confirming certain prior acts Sponsored by Councilmember 9 Yes A resolution accepting twenty-five limited purpose easements for public sidewalk and alley turn-around purposes placing the real property conveyed by such easements under the jurisdiction of the Seattle Department of Transportation and ratifying and confirming certain prior acts Sponsored by Councilmember 9 Yes Public Comments There were 6 total public comments: Half of the comments concerned public housing conveying that Seattle needed to prioritize minorities and homeless population These comments also emphasized that the City Council had not done enough to create more affordable housing for low-income families One commenter argued that Seattle needed to stop exempting drug pushers and sex crimes from jail as this ruined integrity The last two comments fought to defend a concerned citizen’s lost cannabis store Resource: If you have any questions or feedback please email us at and we will get the answers to your questions from the city council\n",
      "-------\n",
      "\n",
      "SPD should be barred from any display of Thin Blue Line symbols and SPOG should be abolished The Myth of the Lynchpin Officer Died in Uvalde With those dear children the myth of the lynchpin officer died in Uvalde By the doctrine of The Thin Blue Line police require broad discretion on use-of-force decisions This is because officers hold the line between order and chaos Improperly restrained and police may fail – in which case something terrible could happen lllllllllllllllllllllllllllllllllllllllllllllllllllllllllllllllllllllllllllllllllllllllllllllllllllllllllllllllllllllllllllllllllllllllllllllllllllllllllllllllllllllllllll A grand jury has been assembled in Denver after police shot six innocent bystanders in a failed attempt to kill a man who’d surrendered lllllllllllllllllllllllllllllllllllllllllllllllllllllllllllllllllllllllllllllllllllllllllllllllllllllllllllllllllllllllllllllllllllllllllllllllllllllllllllllllllllllllllll The Thin Blue Line has come to represent a distinct ideology widely adopted by police throughout the US This is clearly an extremist ideology though its simple propositions guide the organization training and professional conduct of law enforcement organizations nationwide This is a problem that requires immediate attention and forceful action Because police officers employed to protect and serve it turns out conduct themselves quite differently than officers employed as lynchpins against \"chaos\" The defund slogan got as far as it did let’s be honest because it doesn’t appear that our standing army of lynchpin officers is willing to stand under a banner of service through sacrifice – at least not by any standard view of what sacrifice might entail We expect police to accept risk on our behalf that’s the job I think we all agree on that at face value Yet through aggressive union representation and by the blessing of an apparently drunken judiciary police have foisted the dangers of policing onto the public to the point that the most obvious sacrifice involved with the vocation is carrying the emotional costs of committing horrific acts of violence Prolific cop trainer “Killology” author and blue line devotee Dave Grossman speaks to this directly The following quotes Grossman in a video titled “The Police Trainer Who Teaches Cops to Kill | The New Yorker” which is available on youtube “Are you emotionally spiritually psychologically prepared to snuff out a human life in defense of innocent lives If you can’t make that decision you need to find another job…Do you understand you could be sued for not shooting Stand there and do nothing while people are murdered what do they call that Cowardice malfeasance dereliction of duty…Don’t be afraid to get sued everybody gets sued just a chance for overtime Be afraid of being sued successfully” I didn’t have to go cherry picking for that quote or misrepresent the context to cast a shadow over policing – it was plainly said The blue line ideology is literally reducible to “shoot first ask questions later” without a hint of dishonesty or bad faith And the further you dig into the source of that quote or the culture he’s informed the more obvious it becomes that the decision to shoot 6 innocent bystanders in Denver was made in a classroom In this classroom pupils were taught to recognize split second decision making as cause to shoot - which is far different than training to make the right split second decision and then fostering a culture that enforces expectations of accuracy Nonetheless it will likely be decried as cherry picking to suggest that the argument for restricting police use of force is six times stronger than arguments in favor of officer discretion given what happened in Denver But that strength differential is not for the simple fact that Denver police shot six innocent people in a failed attempt to kill a man who’d surrendered No it’s because police authorities in Denver like everywhere else in this nation won’t straightaway condemn such acts or the mindset and training that delivered such results – because they’re blue line extremists willing to trade the well being of 6 innocent bystanders for phantoms of faith A simple value proposition The blue line proposes to maximize public safety through the surgical application of necessary violence A police force that worships of violence of action is a bargain for public safety the faith maintains so beneficial that its value is not diminished by distasteful appearances Like when police training materials in Louisiana were found to quote Hitler more than any other source for instance Because public safety is maximized when police are endowed with broad discretion on use-of-force decisions – as the many units of “chaos” held back by police violence effectively offsets the public safety costs of six innocent bystanders being shot for example It’s our fault I suppose for not demanding that these phantom public safety gains be demonstrated more clearly Because clearly a thousand people shot dead by police each year nationwide is too high a bar And that’s not to mention all those unnecessarily brutalized harassed or disrespected in nonlethal police encounters Given that policing isn’t in fact particularly dangerous it seems wise to ask: for whom is blue line policing a bargain A popular counterpoint to this anti-police rhetoric is that only a small percentage of police encounters become violent Therefore it’s held claims of rampant police violence are unfounded But if this is true then shouldn’t we also recognize that by the numbers which are overwhelmingly clear policing causes far more physical harm to innocent citizens than to police officers themselves and that the greatest threat to officer safety is their culture of impunity And that therefore the flagship content of blue line ideology is propagandist fiction I mean the majority of police deaths are traffic related which is probably not unrelated to the fact that so many police refuse to buckle up – though they’ll write you a ticket for doing the same Similarly the 55% spike in police deaths from 2020 to 2021 is attributable to COVID related deaths which is probably not unrelated to the fact that so many police refused to wear masks – even when mandated by laws they enforced against others It shouldn’t be controversial to recognize that by the numbers the value propositions of the blue line simply do not add up A derelict judiciary But what about the fact that so many police killings a clear majority are ruled “justified” That kind of shoots a hole in the reasoning above doesn’t it No – twist – actually it doesn’t Instead it’s simply a testament to how extreme policing has been allowed to become This is thanks to the persistent and growing dereliction of our judiciary Blue line extremism grew into what it is today in the shadow of a series of absurd legal delusions Without such cover the blue line would have surely been cleansed by the light of day Qualified immunity The “court created doctrine” of qualified immunity is likely the most notorious legal delusion of them all This doctrine holds that police are immune from civil liability except where it can be shown that an officer has violated an individual’s “clearly established rights” While lay people such as myself widely regard our first and fourth amendment rights as pretty fucking clearly established that is not how this works The test for whether or not an officer has violated clearly established rights comes down to whether or not the officer “reasonably” knew their actions would violate an individual’s rights In Texas in 2020 the US Fifth Circuit Court of Appeals ruled that it wasn’t reasonable to expect a corrections officer to understand that an unprovoked pepper spray attack against an inmate would violate his rights because the case cited by the plaintiff to demonstrate a clearly established right concerned prison guards beating and tasing inmates – not pepper spraying them In essence qualified immunity invokes the irrelevant to practically guarantee officers freedom from civil liability and it turns the concept of reasonableness into a brazen display of unlikely ignorance And better still since it was ruled that unprovoked pepper spray attacks against inmates warrant qualified immunity the right to be free from such attacks by demented prison guards has become clearly unestablished GrahamVConnor - 1989 A similar perversion of reasonableness is found in the 1989 supreme court ruling GrahamVConnor The court confirmed in Graham that excessive force claims against police should be evaluated with respect to the “objective reasonableness” standard of the 4th Amendment This test considers the severity of the suspect’s alleged crime the threat level posed by the suspect and whether or not the suspect is resisting or evading But and here’s the kicker those factors must be considered with respect for the fact that officers may be compelled to engage in split second decision making and “from the perspective of a reasonable officer on the scene rather than with the 20 20 vision of hindsight\" So in practice the “objective” reasonableness test dictated in Graham boils down to asking officers accused of excessive force whether or not they’re guilty Because what cop would testify to perceptions that would cast their use of force in an “unreasonable” light The result of this standard is that trigger-happy rambo cops have become the template for what passes as a “reasonable officer” A special bill of rights and police unions Finally we have the “Officer’s Bill of Rights” and the contractual legal favors achieved by police union negotiations These vary from state to state and from one police department to the next but in either case they often afford police due process rights beyond those available to ordinary citizens accused of crimes Police unions argue that these are necessary to protect police from overzealous prosecutors and internal affairs But it’s far easier to find hundreds of examples of these protecting police from warranted accountability – see Freddy Gray for example – than it is to find even a single case of a police officer being victimized by a bad faith prosecution Police are rarely charged much less prosecuted for abuses that are clearly unreasonable and unjustified by any standard definition of those terms Furthermore special favors written into the law strike against the legitimacy of our entire legal system given that legal authority in the US uniquely depends on the rule of law which basically holds that the law should be enforced equally against all according to the internet The Thin Blue Line is an extremist totem that should be abolished without a second thought US police are now firmly established at the intersection of Derelict Judiciary and Blue Line Extremism which I hope I’ve shown is a real and distinct ideological force inside our police departments At this place in policing officers can proudly provide perimeter security for a terrorist as he murders children while beating up any parent who tries to intervene or they can bravely unleash a hail of gunfire into a crowd on a Sunday night There appears to be no limit to this absurdity really as the aforementioned examples were not enough to compel forceful change The faith maintains against distasteful appearances And the police stand ready to beat back any forceful objection We marched for change in 2020 and the police beat us then We would have held them accountable for that but in Seattle they covered their badge numbers with a blue line The chief a snake assured us that this had nothing to do with individual officers avoiding accountability for the skulls they cracked during Seattle’s infamous Summer of Love and everything to do with honoring fallen officers Though apostates contend that with that blue line over their badge Seattle police shamelessly exploited the death of officers unaffiliated with the department to evade accountability while it simply abused the community – for no other obvious reason than to retain its impunity Because police in Seattle didn’t beat up too many rioters as any FOX News report from that time will confirm but they did consistently target press protest medics and constitutionally protected protesters So as the mythical lynchpin carries on past Uvalde like some kind of headless chicken I hope we can finally recognize the ability to reinforce as the true foundation of robust public safety We don’t need rambo cops if we have officers who view sacrifice as more of a willingness to face mortal danger and risk dying than a capacity for violence and risk killing unnecessarily With brave cops restrained from preemptive violence and backed by sophisticated reinforcement capabilities – which as it happens we already have – there’s no threat we cannot overcome There’s just one component missingbut SPOG stands in our way\n",
      "-------\n",
      "\n",
      "SPD should be barred from displaying Thin Blue Line symbols and SPOG should be abolished The Myth of the Lynchpin Officer Died in Uvalde With those dear children the myth of the lynchpin officer died in Uvalde By the doctrine of The Thin Blue Line police require broad discretion on use-of-force decisions This is because officers hold the line between order and chaos Improperly restrained and police may fail – in which case something terrible could happen \\----------------------------------------------------------------------------------------------------------------------------------------------------- A grand jury has been assembled in Denver after police shot six innocent bystanders in a failed attempt to kill a man who’d surrendered \\----------------------------------------------------------------------------------------------------------------------------------------------------- The Thin Blue Line has come to represent a distinct ideology widely adopted by police throughout the US This is clearly an extremist ideology hiding in plain sight though its simple propositions guide the organization training and professional conduct of law enforcement organizations nationwide This is a problem that requires immediate attention and forceful action Because police officers employed to protect and serve it turns out conduct themselves quite differently than officers employed as lynchpins against \"chaos\" The defund slogan got as far as it did let’s be honest because it doesn’t appear that our standing army of lynchpin officers is willing to stand under a banner of service through sacrifice – at least not by any standard view of what sacrifice might entail We expect police to accept risk on our behalf that’s the job I think we all agree on that at face value Yet through aggressive union representation and by the blessing of an apparently drunken judiciary police have foisted the dangers of policing onto the public to the point that the most obvious sacrifice involved with the vocation is carrying the emotional costs of committing horrific acts of violence Prolific cop trainer “Killology” author and blue line devotee Dave Grossman speaks to this directly The following quotes Grossman in a video titled “The Police Trainer Who Teaches Cops to Kill | The New Yorker” which is available on youtube “Are you emotionally spiritually psychologically prepared to snuff out a human life in defense of innocent lives If you can’t make that decision you need to find another job…Do you understand you could be sued for not shooting Stand there and do nothing while people are murdered what do they call that Cowardice malfeasance dereliction of duty…Don’t be afraid to get sued everybody gets sued just a chance for overtime Be afraid of being sued successfully” I didn’t have to go cherry picking for that quote or misrepresent the context to cast a shadow over policing – it was plainly said The blue line ideology is literally reducible to “shoot first ask questions later” without a hint of dishonesty or bad faith And the further you dig into the source of that quote or the culture he’s informed the more obvious it becomes that the decision to shoot 6 innocent bystanders in Denver was made in a classroom In this classroom pupils were taught to recognize split second decision making as cause to shoot - which is far different than training to make the right split second decision and then fostering a culture that enforces expectations of accuracy Nonetheless it will likely be decried as cherry picking to suggest that the argument for restricting police use of force is six times stronger than arguments in favor of officer discretion given what happened in Denver But that strength differential is not for the simple fact that Denver police shot six innocent people in a failed attempt to kill a man who’d surrendered No it’s because police authorities in Denver like everywhere else in this nation won’t straightaway condemn such acts or the mindset and training that delivered such results – because they’re blue line extremists willing to trade the well being of 6 innocent bystanders for phantoms of faith A simple value proposition The blue line proposes to maximize public safety through the surgical application of necessary violence A police force that worships of violence of action is a bargain for public safety the faith maintains so beneficial that its value is not diminished by distasteful appearances Like when police training materials in Louisiana were found to quote Hitler more than any other source for instance Because public safety is maximized when police are endowed with broad discretion on use-of-force decisions – as the many units of “chaos” held back by police violence effectively offsets the public safety costs of six innocent bystanders being shot for example It’s our fault I suppose for not demanding that these phantom public safety gains be demonstrated more clearly Because clearly a thousand people shot dead by police each year nationwide is too high a bar And that’s not to mention all those unnecessarily brutalized harassed or disrespected in nonlethal police encounters Given that policing isn’t in fact particularly dangerous it seems wise to ask: for whom is blue line policing a bargain A popular counterpoint to this anti-police rhetoric is that only a small percentage of police encounters become violent Therefore it’s held claims of rampant police violence are unfounded But if this is true then shouldn’t we also recognize that by the numbers which are overwhelmingly clear policing causes far more physical harm to innocent citizens than to police officers themselves and that the greatest threat to officer safety is their culture of impunity And that therefore the flagship content of blue line ideology is propagandist fiction I mean the majority of police deaths are traffic related which is probably not unrelated to the fact that so many police refuse to buckle up – though they’ll write you a ticket for doing the same Similarly the 55% spike in police deaths from 2020 to 2021 is attributable to COVID related deaths which is probably not unrelated to the fact that so many police refused to wear masks – even when mandated by laws they enforced against others It shouldn’t be controversial to recognize that by the numbers the value propositions of the blue line simply do not add up A derelict judiciary But what about the fact that so many police killings a clear majority are ruled “justified” That kind of shoots a hole in the reasoning above doesn’t it No – twist – actually it doesn’t Instead it’s simply a testament to how extreme policing has been allowed to become This is thanks to the persistent and growing dereliction of our judiciary Blue line extremism grew into what it is today in the shadow of a series of absurd legal delusions Without such cover the blue line would have surely been cleansed by the light of day Qualified immunity The “court created doctrine” of qualified immunity is likely the most notorious legal delusion of them all This doctrine holds that police are immune from civil liability except where it can be shown that an officer has violated an individual’s “clearly established rights” While lay people such as myself widely regard our first and fourth amendment rights as pretty fucking clearly established that is not how this works The test for whether or not an officer has violated clearly established rights comes down to whether or not the officer “reasonably” knew their actions would violate an individual’s rights In Texas in 2020 the US Fifth Circuit Court of Appeals ruled that it wasn’t reasonable to expect a corrections officer to understand that an unprovoked pepper spray attack against an inmate would violate his rights because the case cited by the plaintiff to demonstrate a clearly established right concerned prison guards beating and tasing inmates – not pepper spraying them In essence qualified immunity invokes the irrelevant to practically guarantee officers freedom from civil liability and it turns the concept of reasonableness into a brazen display of unlikely ignorance And better still since it was ruled that unprovoked pepper spray attacks against inmates warrant qualified immunity the right to be free from such attacks by demented prison guards has become clearly unestablished GrahamVConnor - 1989 A similar perversion of reasonableness is found in the 1989 supreme court ruling GrahamVConnor The court confirmed in Graham that excessive force claims against police should be evaluated with respect to the “objective reasonableness” standard of the 4th Amendment This test considers the severity of the suspect’s alleged crime the threat level posed by the suspect and whether or not the suspect is resisting or evading But and here’s the kicker those factors must be considered with respect for the fact that officers may be compelled to engage in split second decision making and “from the perspective of a reasonable officer on the scene rather than with the 20 20 vision of hindsight\" So in practice the “objective” reasonableness test dictated in Graham boils down to asking officers accused of excessive force whether or not they’re guilty Because what cop would testify to perceptions that would cast their use of force in an “unreasonable” light The result of this standard is that trigger-happy rambo cops have become the template for what passes as a “reasonable officer” A special bill of rights and police unions Finally we have the “Officer’s Bill of Rights” and the contractual legal favors achieved by police union negotiations These vary from state to state and from one police department to the next but in either case they often afford police due process rights beyond those available to ordinary citizens accused of crimes Police unions argue that these are necessary to protect police from overzealous prosecutors and internal affairs But it’s far easier to find hundreds of examples of these protecting police from warranted accountability – see Freddy Gray for example – than it is to find even a single case of a police officer being victimized by a bad faith prosecution Police are rarely charged much less prosecuted for abuses that are clearly unreasonable and unjustified by any standard definition of those terms Furthermore special favors written into the law strike against the legitimacy of our entire legal system given that legal authority in the US uniquely depends on the rule of law which basically holds that the law should be enforced equally against all according to the internet The Thin Blue Line is an extremist totem that perverts the nature of sacrifice and the concepts of reasonableness and justification to undermine public trust in police US police are now firmly established at the intersection of Derelict Judiciary and Blue Line Extremism which I hope I’ve shown is a real and distinct ideological force inside our police departments At this place in policing officers can proudly provide perimeter security for a terrorist as he murders children while beating up any parent who tries to intervene or they can bravely unleash a hail of gunfire into a crowd on a Sunday night There appears to be no limits to this absurdity really as the aforementioned examples were not enough to compel a forceful change The faith maintains against distasteful appearances And the police stand ready to beat back any forceful objection We marched for change in 2020 and the police beat us then We would have held them accountable for that but in Seattle they covered their badge numbers with a blue line The chief a snake assured us that this had nothing to do with individual officers avoiding accountability for the skulls they cracked during Seattle’s infamous Summer of Love and everything to do with honoring fallen officers Though apostates contend that with that blue line over their badge Seattle police shamelessly exploited the death of officers unaffiliated with the department to evade accountability while it simply abused the community – for no other obvious reason than to retain its impunity Because police in Seattle didn’t beat up too many rioters as any FOX News report from that time will confirm but they did consistently target press protest medics and constitutionally protected protesters So as the mythical lynchpin carries on past Uvalde like some kind of headless chicken I hope we can finally recognize the ability to reinforce as the true foundation of robust public safety We don’t need rambo cops if we have officers who view sacrifice as more of a willingness to face mortal danger and risk dying than a capacity for violence and risk killing unnecessarily With brave cops restrained from preemptive violence and backed by sophisticated reinforcement capabilities – which as it happens we already have – there’s no threat we cannot overcome There’s just one component missingyet SPOG stands in our way\n",
      "-------\n",
      "\n",
      "I sent my Seattle School Board director an email about the strike and negotiations and this morning she called and we talked for an hour Here are my notes Last night I sent an email to my Seattle School Board Director Chandra Hampson - SPS district 3 via her seattleschoolscom email address sharing my thoughts about the strike and union demands and asking that the board won't file an injunction against the striking teachers I was surprised this morning when Chandra called me directly and offered to discuss all my concerns What an amazing opportunity Luckily I was at my desk and ready to take notes She has time for calling one constituent each day and I was fortunate enough to be free at the time when she did call and had already written out a lot of questions and thoughts because of the ongoing strike We had an hour-long discussion and I asked about the strike the teacher demands the comprehensive school board plan details listed on the district website etc Hampson was super focused to get me answers and I'm thankful for her time Below are my notes from the conversation and I tried to leave out my own commentary or editorializing and focus on her responses until the very end Hampson has 3 kids in the Seattle public schools 2 of them have 504s in place and they went to Sandpoint Elementary As a parent she is also dealing with her kids being out of school due to the negotiations and strike She has been in the role of teacher parent and now elected to the Seattle School Board Hampson wanted to clarify a couple things about roles and responsibilities of the different groups involved As a parent I was also quite confused about what the focus and role are of the School Board and the district compared to the teacher's union and how each side is involved in the ongoing contract negotiations Before diving in - Hampson shared the Lighthouse study on school boards results of which are driving how school boards are being structured around the country It's the largest study on school board performance and is guiding our current board's methods for their own structures and policies: A school board director job is entirely about governance not customer support meaning: they are responsible with setting the direction of the schooling curriculum decisions guidance towards classroom and school best practices and ensuring that schools have resources available to execute on planned changes In the context of the inclusivity model more on that later Hampson clarified the School Board's job is to provide the direction and the goals for the inclusion clarify what is required at federal state levels and what is not permitted by law The director position is not like other elected officials because the school board is elected to represent the students first and foremost and the community in which they live It is \"the worst elected job\" because of how thankless their efforts are but also how impactful the decisions become Hampson was very clear that the board \"doesn't represent teachers or parents but instead represents the entire community when making decisions\" They have to think of what's best for the entire community in Seattle not one specific interest group or demographic Because the directors are so focused on governance they do not have time for \"customer support\" They do often help connect parents with resources or help solve problems at specific schools in their coverage They're full-time focus however is governance and decision making Some tactical changes are being made to address the problems around customer service Right now the board has hired a consultancy to perform a full communications audit of the district to try and figure out where and how they can improve communications internal and external and it's up to the superintendent to get the district staff to provide all the data and information Additionally the board is aware that they need to create a high-value customer service department to handle the myriad problems parents face when trying to navigate district policies and processes The community needs to understand that the only non-district entity involved is the SEA teachers union - by definition the union is created to advocate for teachers and teacher negotiation but the district and board are created to support the students and drive student success This may seem like semantics but it's a very clear distinction that the SEA union is an external entity that is hired to do a job much like an attorney is when representing clients The union will use every tactic to get what they need for their members because that is their primary purpose for which they are hired even if it isn't best for the students They will use spin and stalling tactics and others to get the agreed-upon list of demands The union is looking at teacher advocacy not student success The difference can seem subtle at first glance Now to a primary sticking point of the ongoing strike and negotiations: data and real-world experiences in other districts and states show that an inclusion model will get us out of being stuck with the problems the schools face when dumping money and resources into SEL multilingual and special ed but not getting results or pushing the needle Last year the existing model used in Seattle schools poured $120M in addition to all the state funding but the results were abysmal Everyone across the board including teachers staff admins all believe that the goals and results of a properly-executed inclusivity program at the district level is not only achievable but is the right path to follow It's clear that the 1:1 model of assignment for SEL does not produce the desired or federally mandated results and it just segregates students often along demographic lines that are historically underperforming The board believes that if we don't start with the inclusion mechanisms this year we may never catch up to the goals set by law In response to the need for the inclusivity model the SEA teachers union created a task force to come up with a plan on how to rollout and execute in the schools and to determine which resource would be needed The board is 100% behind the task force's plan toward inclusion and also getting the staff the resources they need to implement it To support the plan the School Board determined that no changes to staffing ratios will happen in the 2022 23 school year and instead the year should be used for onboarding teachers and admins support training and build out curricular resources for inclusion For this first year the School Board is asking for a 1-year contract The plan will take 5-10 years to unwind and rebuild for full implementation and it's clear that things will be more expensive at first before efficiencies materialize to decrease cost over a few years and to achieve all the expected student results The board is trying to update and modernize the practices of the district because it's clear that many students are not getting the experience and opportunities they need I asked Hampson what the role of a director is in the current strike She believes that the board and district didn't do enough to inform teachers and parents during the pandemic that this large uplift is coming For that reason and others there is a real trust gap and also a belief gap - people don't believe that the school board is reformed in their direction and their commitment to the schools and teachers The school board is primarily responsible for the belief gap The last superintendent put out communications that weren't true but the new board and district staff are committed to be ing extremely fact-based The superintendent has been directed to focus solely on student issues As a director Hampson is staying focused on the specific goals set for the district - things that must be done or are not allowed The board is keeping students at the center of their focus Sometimes that means asking tough questions like \"can we afford this\" Right now the SEA union is asking for $500M but the planned investment in school resources is already greater than what we currently spend No one is saying \"screw the inclusion thing\" and everyone agrees with the goals however there is disagreement on how to get there The current board cannot agree to things that will result in a deficit for the next board Okay so what's the plan to get teachers and parents onboarded Hampson has many points on what the board is doing to get us from here to there First is addressing the big trust gap with the community The first year of implementation is meant to be an onboarding time to work on aligning everyone on the process and goals hence the board asking for a 1-year contract The district will add additional staff and provide training opportunities for teachers admins and staff on how to handle the transition to the inclusivity model Not every classroom will become an inclusion classroom The board is also reminding everyone that change is hard especially transitioning from Seattle \"talking progressively\" about education and inclusivity to switching into execution mode and making actual changes that implement the goals Many other tactical changes are happening We have a brand new superintendent that is an expert in governance The superintendent job is not like school-administration but rather has to be someone who is an expert in governance this encompasses an entirely different skill set than a former principle or school administrator This is the first time that a superintendent is hired for that particular skill set and we haven't yet had the time to see what exactly that means at the scale of SPS because of his short tenure thus far The board is also asking the state and colleges to mandate teacher and administrator inclusivity and special ed training for all teachers graduating to work in our districts It's not currently required and has created a huge deficit in teacher abilities in working with inclusion classrooms The district is also buying curriculum for the first time What that means is teachers will have curriculum that is uniform across the district pre-made for them to use and they will be able to train on the curriculum to avoid surprises or having to fall back to previous year's plans The curricular support is aimed to reduce teacher burden so they can focus on classroom time more and student interaction and not the overhead of building out curriculum Individual plans do not scale to a system as large as SPS and having uniformity makes for easier teacher onboarding and long-term success My parting thoughts: I'm really thankful that I had the chance for a real discussion with a board member It's not often that we can hear directly from decision makers and get responses to our questions without a news source or press release as an intermediary It gives me validation that there are real people doing the hard work in those jobs As a parent Hampson knows what it's like working with the district and going through the 504 and IEP process with her own children and she knows the pains we feel watching these bureaucratic processes take place Our feelings as parents and community members right now are very real and the frustration is felt from all sides I got the impression that Hampson and the school board are genuinely invested in the success and future of Seattle schools students and the community I hope that we can all come together and collaborate for the sake of our students and for Seattle The board's comprehensive plan is available on the schools website along with the current negotiation details Here are some other resources that Hampson shared for reading on inclusion and school board data: The Lighthouse study article: Summary blog post of what is at stake in the current negotiation: \n",
      "-------\n",
      "\n",
      "Ren Faire Trip Report- Aug 14 Thought I would post a little about our experience at the Ren Faire this past Sunday the 14th A little about our party 3 adults and a 4 year old none of us had ever been to a Ren Faire Like a lot of people I’m sure we woke up Sunday morning to u OK-Worth-9525 ‘s post about avoiding the Ren Faire I read through all the reddit comments and the Google reviews and decided on some changes One packed more water than previously planned Two I packed a great load of snacks for the four year old and finally three we were leaving extra early Packing List: Water six bottles and a large yeti Sunscreen Hats for everyone Snacks for the four year old Walking sneakers Umbrellas not aesthetic but great for shade Cash iPad We arrived in Bonney Lake at 915 and parking was well directed and unremarkable we were out of the car by 920 There were portapotties in the lot so we made use and then wandered up to the gate It was a bit chaotic but there was a man yelling directions so we paused to hear them There was only one line- everyone had to go up to the cashiers to either purchase tickets or have prepurchased tickets validated and receive a stamp The line moved fast once they opened around 945 and we were in by 10:10 Maps menus and the event schedule were posted by QR code all over the place and each venue had its schedule posted out front BUT the data that day was not working at all We could SMS text or call but data was not happening which was annoying but not the event’s fault We had made a must-see list Saturday night off the website and one of our group had the foresight to screenshot the map so we were able to navigate fine before we got our bearings Some of the things we saw were in the same venue others were elsewhere so a lot of our vendor shopping happened as we moved between venues 1015 We stopped by the Sweden tent to put in our RSVP for the Princess Tea Ages 12 and under We overheard one of the staff comment that they were already 11 15 for spots so we were glad we went there first 1030 Raptor Events- This was educational and well presented Love a birb 1100 First Joust- Fun The first joust of the day was all tests of skill Each section cheered for a different knight and the section leaders were great Four thought it was boring  I know so we split from the others before the end for her to have her face painted She really really liked this It was totally smeared off by the end of the day but her joy made it worth the 25$ 1200 Lunch- It was SUPER busy in the lunch area this was kind of where the umbrella came in most handy to create portable shade while you’re standing waiting Seating was tough to find- there was a LOT but table turnover wasn’t really happening so we sat on the ground in the shade Vegetarian options were a bit thin and almost all the food was hot which was rough Expensive too but of course that’s no surprise for faire food Four ordered a plain hamburger and ate only the top bun and the fries The King of Spain came and performed quite a funny burlesque show for the eating crowd 100 Cydshow Cy the Sword Swallower- This was by far the most anticipated thing for Four and she loved it It’s not for the squeamish like myself one our group members split to peruse the vendors 130 Mermaid and Fairy Glen- Four was absolutely entranced by the mermaid and had a lot of fun interacting with the fairies She really enjoyed the bubbles too There was a colouring space but every single sheet was completely coloured which was a bummer 200 Princess Tea- Back at the Sweden tent we adults lounged around in the shade while the 15 kids sat round a table for tea lemonade and cupcakes Each kid got a gold paper crown and a little pinned badge with a unicorn Princess Cecilia served the drinks while her sister told the table a story about her unicorn She was really lovely clearly had a lot of experience with kids Once the meal was finished everyone got to go and pet the bunnies and feed the miniature ponies 300 Storytime with the Wytchwood Players- this was my favourite thing The lady told a wide variety of stories her voice carried magnificently and she was really engaging She also introduced a \\~10 year old girl and explained she’s still learning and would be telling us the story of how Thor got his hammer All the adults paid rapt attention she was soooo nervous it was super sweet 330 IPad time- Four was flagging hard at this point and becoming quite wiggly We were staying in the nice cool tent for the puppet show at 400 so I whipped out the iPad and loaded up a movie We attracted two more kids to the ipad which gave all us parents a chance to rest and chill Our other two adults ventured into the afternoon heat to bring back snow cones and a strawberry lemonade both of which received huge thumbs up from Four 400 Puppet Show- This was fun and very British which was enjoyed by all 445 Sirena- We split the group for the other two adults to go see the final joust at 500 since Four didn’t enjoy the morning joust Four wanted to hear music so we walked over to the village square to see Sirena I thought these ladies were awesome I loved their coordinated dancing and singing and drumming and the vibe was ethereal and spooky Four did not love it so we left to walk over to the jousting area to see if we could meet up with the others 500 Final Joust- We were late to the joust and it was the last of the day so it was a solid wall of people all the way around the ring Four and I found a spot in the shade to wait until it was over The other adults report that they sat front row on the ground and had a great view in the shade This joust actually involved the competitors riding at each other The cheering was exciting and I could sort of see from my spot The event ended about 530 and it seemed like most folks headed for the gates 545 Dinner- I walked over alone to see about scrounging up dinner and bringing it back to the group This was Sunday and obviously almost closing time a LOT of places were out of food particularly anything vegetarian Returned empty handed 600 Equestrian Chaos- Ladies on horseback doing trick archery shots The other two liked this I kind of thought it was just OK Four had absolutely had it and spent the entire time lying on the bleachers flopping around She got to pet one of the horses at the end which perked her up 645 Headed Home- Carried Four back to the car and we all used the toilet a final time It took us sub 10 minutes to get out totally unremarkable Stuff for Next Time: I would bring a small bag for Four She received a tiny trinket from nearly every place we visited and kids LOVE that stuff would be good to have a special place for them I would also love to do more outfit stuff next time the costumes on everyone were awesome I would just keep in mind the following: Linen and cotton ONLY no polyester fabrics Would have been nice to have a more aesthetic hat and a cuter parasol type situation Parent Pointers: This event was super family friendly as I hope you can see from my report LOADS of families of all ages If you have a wagon-style stroller that definitely seemed like the ticket Ground is bumpy so you’ll need all terrain wheels if you bring a push stroller Wish I had packed wet wipes and lysol wipes We found that every event had shade but the trick was arriving 5 minutes early so you could snag a good shady spot Four complained ceaselessly if in the sun longer than 5 minutes so for us hopping between stages made the most sense There are no refillable water stations and the water for sale is 4$ a bottle cash only so pack tons We passed several change table nursing stations that are well marked if you need that Lost Children marker is right by the entrance Medical tent is off the food court Unexpected: Tipping I’ve never been to a Renaissance Faire and every act we saw asked for tips Some even had their Venmo tag You weren’t obligated to but it was quite interesting Final Thoughts: This was super fun and we will go again next year though definitely on a Sunday not a Saturday Arriving early and leaving late appeared to be key for our smooth experience– I see from the FB page that departing in the late afternoon was a shitshow If we hadn’t come in one car I would have attempted to take Four home after the puppet show but she honestly managed really well even beyond her limits and I was very proud of her I was glad we had made a plan the night before and would do so again because I felt like we saw nearly everything we wanted to see TLDR It was fun Arrive early leave late bring sunscreen and extra extra extra water\n",
      "-------\n",
      "\n"
     ]
    }
   ],
   "source": [
    "for entry in sea.loc[sea['word_count'] > 1500, 'text']:\n",
    "    print(entry)\n",
    "    print('-------\\n')"
   ]
  },
  {
   "cell_type": "markdown",
   "id": "8eb434d7-b40b-4f77-8d69-302e66c2748a",
   "metadata": {},
   "source": [
    "The only posts that immediately seem worthwhile dropping are the City Council Newsletter post and the post referring to Uvalde police. The City Council post seems to contain very specialized vocabulary and is lengthy by the nature of the post. These posts also seem regular though, so it would be out of place to drop just this especially lengthy post and not the other posts. Dropping all City Council posts by this person seems a bit excessive, so we will leave the City Council posts in.\n",
    "\n",
    "There are two posts about Uvalde police. They appear to be identical except for some select words and some repeated characters that are used to distinguish the heading and body. I am sure there are more posts that are slightly off from being identical. We cannot remove them all, but since we stumbled upon this pair, we may as well remove one of them."
   ]
  },
  {
   "cell_type": "code",
   "execution_count": 21,
   "id": "f4e60f2d-371a-411a-a0c2-6b18086ac021",
   "metadata": {},
   "outputs": [
    {
     "name": "stdout",
     "output_type": "stream",
     "text": [
      "Int64Index([536, 542], dtype='int64')\n"
     ]
    }
   ],
   "source": [
    "print(sea[sea['text'].str.contains('SPD should be barred from')].index)\n",
    "sea.drop(index = 542, inplace = True)"
   ]
  },
  {
   "cell_type": "code",
   "execution_count": 22,
   "id": "c89adb58-b8f3-454c-9fd6-e0bc6f527848",
   "metadata": {
    "scrolled": true,
    "tags": []
   },
   "outputs": [
    {
     "name": "stdout",
     "output_type": "stream",
     "text": [
      "Using Affordable Housing to get on The Property Ladder in Seattle The median home price in Seattle is now $934K A few years back I decided to settle down and buy a house but I couldn't come up with $200K for a down payment I used a fairly convoluted method to deal with that Someone on the forum asked me to elaborate how and why I did that so I thought I'd make a post When we started dating we were looking at places that were really farther from Seattle than is ideal Even places in Lynnwood were stretching our budget We were in a conundrum where it felt like our only option was having some nightmarish commute from Everett or renting indefinitely When the median home price in Seattle was $449K it was $182K in Las Vegas So we bought a place out there and rented it out Homes were so cheap one of the problems we had was getting financing Not because we couldn't qualify But because the loans were so small the banks didn't want to do them I learned that banks basically won't do loans for a home if the balance is under $100K I know that people think that a 15% year-over-year increase in home prices seems like a lot but Seattle Portland San Francisco Los Angeles are way in the back of the pack when it comes to this stuff For instance Vegas is up 305% in the last year The way that you make money on real estate is really basic: Can you borrow the money at a lower rate than what the property is going up If yes you make money For instance in 2020 you could borrow at 3% So if you invested a million in real estate in Vegas in 2021 you'd be up about $305K today and you would have spent $30000 to borrow the money leaving you a profit of about $275K in 2006 you could borrow at 6% So if you invested a million in real estate in 2006 it was a wash Basically once you paid your property taxes and you paid for maintenance all your profits had disappeared So if you're looking to buy affordable property you might consider looking at areas that are already performing well \"Past performance is not indicative of future results\" But real estate trends tend to move slowly One of the things that helps me sleep better at night is the realization that if you were looking at the right stats in 2005 you could have seen the 2007 Bubble coming and got out before it hit Hint: look at inventory stats Also the money tends to accumulate in a hurry We went from $35K to invest on a $135K house to where we're at now which is that we can afford to live almost anywhere even on modest IT salaries A few months ago we were considering a place for $4m We decided to pass on it and just bought another investment property In a nutshell once you've got $1M under management your investments are making you wealthier than your day job is So it's not like you have to be the CEO of a tech company to accumulate millions once you hit a certain level of wealth it tends to accumulate on it's own If you put $35K into an Everett fixer-upper in 2012 you'd have about half a million today If you did the same trick every other year for ten years you'd be a multi-millionaire Personally I am a big fan of investing in the cities where Californians are flocking to I think you could spend the rest of your life profiting from the exodus from California If you take the states from that infographic and you put their big cities in a spreadsheet I guarantee you that everyone of them is going up double digits in price During yesterday's discussion on the topic a lot of people were saying that \"California isn't shrinking\" I think the thing that people don't realize about California is that for every million people who LEAVE California there's a million who arrive from abroad When I moved from the Seattle area to California literally 75% of my neighbors were from China Korea and India First generation Americans moving to California largely for tech jobs This influx creates a never ending exodus OUT of California I'm on an Internet forum for people who are leaving California and nearly 100% of them are middle class people who have $500K-$1M in equity and are moving to lower COL areas So you can tap that demographic until the end of time if you're willing to be a landlord Obviously you won't be renting to the people leaving California you'll be renting to the people in the cities where Californians are moving to Basically the exodus of Californians is a boon for property owners in the cities where Californians are heading Please do your own research but here's some of mine: Bend Oregon has a median home price of $732K and has gone up 324% in the last year St George UT has a median home price of $535K and has gone up 389% in the last year Spokane has a median home price of $400K and has gone up 276% in the last year Those are just three YMMV but to me the investments that are reliably great are where Californians are headed You could even make a solid argument that Seattle has benefited from decades of Californians bailing and moving here I know this post sounds like some kind of infomercial I have nothing to sell I am just a dude who used to make the Godawful commute to work and I reached a point where I was like \"there's gotta be a better way\" I didn't even get into real estate out of any \"love\" for the industry I was purely looking for a way for my wife and I to afford a house that was reasonably sized and not too far from work We were totally priced out so we invested elsewhere then cashed out once we'd accumulated enough to get what we really wanted in the first place Another \"side benefit\" here is that getting a bunch of loans over time juices your credit score to a ridiculous degree When I first started working in Washington my score was so bad I couldn't even get a credit card\n",
      "-------\n",
      "\n"
     ]
    }
   ],
   "source": [
    "for entry in sea_wa.loc[sea_wa['word_count'] > 1000, 'text']:\n",
    "    print(entry)\n",
    "    print('-------\\n')"
   ]
  },
  {
   "cell_type": "markdown",
   "id": "bbf82f23-a2f8-4cd1-9354-d361a6ba9c98",
   "metadata": {},
   "source": [
    "Nothing about the lengthiest post in r/SeattleWA suggests it needs to be removed. Let us leave it in."
   ]
  },
  {
   "cell_type": "markdown",
   "id": "6b660377-3f6f-4655-b4c1-37511ad50312",
   "metadata": {},
   "source": [
    "Next let us look at posts that are too short to reasonably use. The only post that obviously should be removed is the empty one at index 1191. It is empty because it only contained urls."
   ]
  },
  {
   "cell_type": "code",
   "execution_count": 23,
   "id": "4a0d302c-c4a0-4017-8a8a-b67714f6ae63",
   "metadata": {},
   "outputs": [
    {
     "data": {
      "text/plain": [
       "400                      The West Seattle Bridge is OPEN \n",
       "423     What’s with the Fighter jets over south seattl...\n",
       "435               How has Seattle changed over the years \n",
       "757     Anyone recommend a good dental insurance compa...\n",
       "768                               Earthquake  around 1:08\n",
       "805                         Hi All Anyone from Kiingston \n",
       "1191                                                     \n",
       "1292                               Weaponizing your pets \n",
       "1346    Employment discrimination lawyer Any recommend...\n",
       "1422                                Yo Seattle area 🔌 hmu\n",
       "1425            Where’s the best quesadilla in town Title\n",
       "1748                    hey guys I just wanted to say hey\n",
       "1755         How’s the comedy scene here Need some laughs\n",
       "1766    Seattle passes protections for abortion and ge...\n",
       "1775    Best junkyards to pull parts from recommendati...\n",
       "1782                              It’s thunder Move along\n",
       "1838                              It's raining That's all\n",
       "2277                      Somen soba in the city Any recs\n",
       "2337                          stay away from this person \n",
       "Name: text, dtype: object"
      ]
     },
     "execution_count": 23,
     "metadata": {},
     "output_type": "execute_result"
    }
   ],
   "source": [
    "sea.loc[sea['word_count'] < 10, 'text']"
   ]
  },
  {
   "cell_type": "code",
   "execution_count": 24,
   "id": "7ba76d17-3845-4eb8-8813-44794ec2ba17",
   "metadata": {},
   "outputs": [
    {
     "data": {
      "text/plain": [
       "title       https://get.stash.com/gabrieldqpkk\n",
       "selftext    https://get.stash.com/gabrieldqpkk\n",
       "text                                          \n",
       "Name: 1191, dtype: object"
      ]
     },
     "execution_count": 24,
     "metadata": {},
     "output_type": "execute_result"
    }
   ],
   "source": [
    "sea.loc[1191,['title','selftext','text']]"
   ]
  },
  {
   "cell_type": "code",
   "execution_count": 25,
   "id": "c9e9b0a8-4946-4e1b-8c2c-4458c8ea37db",
   "metadata": {},
   "outputs": [],
   "source": [
    "sea.drop(index = 1191, inplace = True)"
   ]
  },
  {
   "cell_type": "markdown",
   "id": "9ff68d92-91de-450e-8aa8-d89f99738e17",
   "metadata": {},
   "source": [
    "For r/SeattleWA we can already see a pretty big difference in the number of posts with fewer than 10 words and their content compared to r/Seattle. No posts here seem to require being dropped. Even the shorter posts convey a fair bit of sentiment."
   ]
  },
  {
   "cell_type": "code",
   "execution_count": 26,
   "id": "03377111-8b0a-494a-a142-5b222ab3b730",
   "metadata": {},
   "outputs": [
    {
     "data": {
      "text/plain": [
       "5       Shooting near pioneer square Around 3:30 pm to...\n",
       "6                             Shooting in Pioneer square \n",
       "38             Will piss mania come to seattle Piss mania\n",
       "104                                   Another 1 Shooting \n",
       "110     Who's the most beautiful person you've seen in...\n",
       "142            Inslee ending Covid-19 state of emergency \n",
       "149     What is considered greater Seattle What’s cons...\n",
       "194                            Moderators what did I now \n",
       "235      Yup great minds coming through with the next ...\n",
       "322                                          it's ironic \n",
       "323                                          Pepe Silvia \n",
       "373          Saxophone Anyone down to teach me saxophone \n",
       "389     any ideas what happened here Processing img 83...\n",
       "403     didn't realize they put coloring books on the ...\n",
       "430                                          Bye Felicia \n",
       "607     Any breakfast recommendations on the eastside ...\n",
       "612                    Is this Seattle's signature scent \n",
       "749     Best sunrise spots nearby city Any recommendat...\n",
       "751     Seattle Plugs Anyone near downtown that’s gott...\n",
       "883                    Are dogs allowed on city beaches  \n",
       "896                             remember the SuperSonics \n",
       "924     any 🍃🔌s here recently moved to seattle from ch...\n",
       "948                                 Just trying this out \n",
       "987      ARE THERE ANY PORTUGUESE RESTAURANTS IN SEATTLE \n",
       "1019                         Failed pepper spray attempt \n",
       "1109                         Another state flag redesign \n",
       "1196                               HOW ARE YALL ALIVE HOW\n",
       "1257                           Is it that rough in there \n",
       "1377               Factoria Walmart to close permanently \n",
       "1399    Chicken Parm Hero Need chicken parm Where can get\n",
       "1483                            Updated Stanley Cup Odds \n",
       "1494    Vancouver Arby's manager was peeing in milksha...\n",
       "1534                        Seattle sunrise this morning \n",
       "1594                        Silly Woke Sign Real Meaning \n",
       "1645    Anybody wanna do anything I can’t sleep spanaw...\n",
       "1771    Pale Blue Dot Carl Sagan- inspiration for Eart...\n",
       "1849    \"Share the Cities\" has an idea Processing img ...\n",
       "1921                                        Nude Discord \n",
       "2041                    Bus assistance for PTSD commuter \n",
       "2141    Washington DC’s First-Ever Public-Private Part...\n",
       "2181                                Happy Holi ❤️🧡💛💚🤍🖤💜💙🤎\n",
       "2226     Paying for Nuru massage Message me if interested\n",
       "2322    The \"LEAD\" program has a softer gentler new name \n",
       "2349    Video of Seattle Police Shooting Downtown 3 5 22 \n",
       "2353    Farewell Russell Wilson Traded to Denver Broncos \n",
       "2357    Seattle's \"Premier Political Comic\" has achiev...\n",
       "2384          What's the best pizza in West Seattle Title\n",
       "2412       Music Production School This looks interesting\n",
       "Name: text, dtype: object"
      ]
     },
     "execution_count": 26,
     "metadata": {},
     "output_type": "execute_result"
    }
   ],
   "source": [
    "sea_wa.loc[sea_wa['word_count'] < 10, 'text']"
   ]
  },
  {
   "cell_type": "code",
   "execution_count": 33,
   "id": "7fdcc4e5-797d-4000-8e9d-7186108c0b3a",
   "metadata": {},
   "outputs": [
    {
     "name": "stdout",
     "output_type": "stream",
     "text": [
      "Adult Family Home recommendations My father moved into our home in West Seattle about a year ago His Parkinson’s has advanced past the point of care we are able to provide on our own We’re currently in the process of Medicaid approval and the social worker recommended that we start researching Adult Family Homes Hoping someone has recommendations for specific adult family homes in King County or ones that we should avoid\n",
      "----------\n",
      "\n",
      "How to walk to Pike Place Market safely from Capitol Hill Hi I will visit Seattle for the first time I have read a lot of posts about how unsafe the city is right now which makes me nervous Some people advise against taking the bus so the only feasible way for me to explore the city is by foot : I don't drive I want to visit Pike Place Market but it seems that it is surrounded by areas people call \"dangerous\": Belltown to the north 3rd and Pine Pike to the west Pioneer Square to the south I stay in Capitol Hill which is said to be a dangerous area too How do I walk to Pike Place Market safely Thank you\n",
      "----------\n",
      "\n",
      "Family friendly places and strike info I was just curious if anyone here had any updates on the concrete strike and good places to live I’ll be relocating my family to Seattle to finish my electrical apprenticeship and was looking for any safe family friendly areas\n",
      "----------\n",
      "\n"
     ]
    }
   ],
   "source": [
    "sample_three(sea_wa['text'])"
   ]
  },
  {
   "cell_type": "code",
   "execution_count": 34,
   "id": "cf8af1c8-6cf3-4c35-9512-c27cf56ad845",
   "metadata": {},
   "outputs": [
    {
     "data": {
      "image/png": "[encoded data removed]",
      "text/plain": [
       "<Figure size 1152x360 with 2 Axes>"
      ]
     },
     "metadata": {
      "needs_background": "light"
     },
     "output_type": "display_data"
    }
   ],
   "source": [
    "fig, axes = plt.subplots(1,2, figsize = (16,5))\n",
    "\n",
    "# saw earlier that r/seattle has more posts with very high word counts\n",
    "# let us compare the distribution of posts with word counts below 1000\n",
    "\n",
    "sea_sub_1000 = sea[sea['word_count'] < 1000]\n",
    "sea_wa_sub_1000 = sea_wa[sea_wa['word_count'] < 1000]\n",
    "\n",
    "fig.suptitle('Word Count Histograms', size = 25, y = 1.02)\n",
    "sns.histplot(x = sea_sub_1000['word_count'], ax = axes[0])\n",
    "axes[0].set_title('r/Seattle', size = 20)\n",
    "axes[0].set_xlabel('Word Count', size = 15)\n",
    "axes[0].set_xlim(-50, 1000)\n",
    "axes[0].set_ylim(-0, 300)\n",
    "\n",
    "sns.histplot(x = sea_wa_sub_1000['word_count'], ax = axes[1])\n",
    "axes[1].set_title('r/SeattleWA', size = 20)\n",
    "axes[1].set_xlabel('Word Count', size = 15)\n",
    "axes[1].set_xlim(-50, 1000)\n",
    "axes[1].set_ylim(-0, 300);"
   ]
  },
  {
   "cell_type": "markdown",
   "id": "c0e1eb24-62a6-4da9-a3cc-56d8f7eebd1c",
   "metadata": {},
   "source": [
    "The histogram shapes are nearly identical between the two subreddits. There may be slightly less volume on the left side of the r/SeattleWA histogram, but it is hard to say."
   ]
  },
  {
   "cell_type": "code",
   "execution_count": 37,
   "id": "b2328fa8-2a07-437c-9e51-4c7efa463627",
   "metadata": {},
   "outputs": [
    {
     "data": {
      "image/png": "[encoded data removed]",
      "text/plain": [
       "<Figure size 1152x864 with 6 Axes>"
      ]
     },
     "metadata": {
      "needs_background": "light"
     },
     "output_type": "display_data"
    }
   ],
   "source": [
    "#from matplotlib.lines import Line2D\n",
    "\n",
    "fig, axes = plt.subplots(3,2, figsize = (16,12))\n",
    "\n",
    "fig.suptitle('Histograms of Compound, Positive, Negative Sentiment Scores', size = 25, y = 0.97)\n",
    "\n",
    "#---------------------------\n",
    "# r/Seattle sentiment scores\n",
    "#---------------------------\n",
    "sns.histplot(x = sea['sent_compound'], ax = axes[0,0])\n",
    "axes[0,0].set_title('r/Seattle', size = 25)\n",
    "axes[0,0].set_xlabel('', size = 15)\n",
    "axes[0,0].set_ylabel('Compound', size = 25)\n",
    "axes[0,0].set_ylim(0, 675)\n",
    "\n",
    "sns.histplot(x = sea['sent_pos'], ax = axes[1,0])\n",
    "#axes[1,0].set_title('Positive', size = 20)\n",
    "axes[1,0].set_xlabel('', size = 15)\n",
    "axes[1,0].set_ylabel('Positive', size = 25)\n",
    "axes[1,0].set_xlim(-0.025, 0.7)\n",
    "axes[1,0].set_ylim(0, 450)\n",
    "\n",
    "sns.histplot(x = sea['sent_neg'], ax = axes[2,0])\n",
    "#axes[2,0].set_title('Negative', size = 20)\n",
    "axes[2,0].set_xlabel('', size = 15)\n",
    "axes[2,0].set_ylabel('Negative', size = 25)\n",
    "axes[2,0].set_xlim(-0.01, 0.4)\n",
    "axes[2,0].set_ylim(0, 1100)\n",
    "\n",
    "\n",
    "#-------------------------------\n",
    "# # r/SeattleWA sentiment scores\n",
    "#-------------------------------\n",
    "sns.histplot(x = sea_wa['sent_compound'], ax = axes[0,1], color = 'green')\n",
    "axes[0,1].set_title('r/SeattleWA', size = 25)\n",
    "axes[0,1].set_xlabel('', size = 15)\n",
    "axes[0,1].set_ylabel('', size = 15)\n",
    "axes[0,1].set_ylim(0, 675)\n",
    "\n",
    "sns.histplot(x = sea_wa['sent_pos'], ax = axes[1,1], color = 'green')\n",
    "#axes[1,1].set_title('r/Seattle', size = 20)\n",
    "axes[1,1].set_xlabel('', size = 15)\n",
    "axes[1,1].set_ylabel('', size = 15)\n",
    "axes[1,1].set_xlim(-0.025, 0.7)\n",
    "axes[1,1].set_ylim(0, 450)\n",
    "\n",
    "sns.histplot(x = sea_wa['sent_neg'], ax = axes[2,1], color = 'green')\n",
    "#axes[1,2].set_title('r/Seattle', size = 20)\n",
    "axes[2,1].set_xlabel('', size = 15)\n",
    "axes[2,1].set_ylabel('', size = 15)\n",
    "axes[2,1].set_xlim(-0.01, 0.4)\n",
    "axes[2,1].set_ylim(0, 1100);\n",
    "\n",
    "# custom legend\n",
    "# legend_elements = [Line2D([0], [0], color='tab:blue', lw=4, label='r/Seattle'), \n",
    "#                    Line2D([0], [0], color='tab:green', lw=4, label='r/SeattleWA'),]\n",
    "\n",
    "# legend = axes[2,1].legend(handles = legend_elements, fontsize = 20);"
   ]
  },
  {
   "cell_type": "markdown",
   "id": "36394c0c-9777-49f3-a15f-79eb3b3a3f53",
   "metadata": {},
   "source": [
    "The above plots show that the sentiment scores between r/Seattle and r/SeattleWA look very similar. The most notable differences are:\n",
    "- the highest compound scores appear more frequently in r/Seattle\n",
    "- the lowest positive scores appear more frequently in r/SeattleWA\n",
    "- the higher negative scores appear slightly more frequently in r/SeattleWA"
   ]
  },
  {
   "cell_type": "code",
   "execution_count": 38,
   "id": "08b5809a-8e32-4b5e-a947-e7e8b85ae1c0",
   "metadata": {},
   "outputs": [],
   "source": [
    "# drop stopwords and then stem the text data\n",
    "sea['text'] = sea['text'].apply(drop_stop_and_stem)\n",
    "sea_wa['text'] = sea_wa['text'].apply(drop_stop_and_stem)"
   ]
  },
  {
   "cell_type": "code",
   "execution_count": 39,
   "id": "0ceea2cd-b95b-49e0-b474-68e33bc7e698",
   "metadata": {},
   "outputs": [],
   "source": [
    "sea.drop(columns = ['title', 'selftext'], inplace = True)\n",
    "sea_wa.drop(columns = ['title', 'selftext'], inplace = True)"
   ]
  },
  {
   "cell_type": "markdown",
   "id": "ea368009-5b3b-4b56-ad14-a50864105eef",
   "metadata": {},
   "source": [
    "#### Most Frequent Words"
   ]
  },
  {
   "cell_type": "code",
   "execution_count": 40,
   "id": "93e04b57-b811-4333-9356-c20638c18f49",
   "metadata": {},
   "outputs": [],
   "source": [
    "cvec = CountVectorizer(max_features = 2000)\n",
    "#sea_wa_cvec = CountVectorizer(stop_words='english')\n",
    "\n",
    "# collect 2,000 most frequent words appearing in r/Seattle\n",
    "sea_word_freq = cvec.fit_transform(sea['text'])\n",
    "sea_word_freq = pd.DataFrame(sea_word_freq.todense(), columns = cvec.get_feature_names_out())\n",
    "sea_words_top_2k = sea_word_freq.sum().sort_values(ascending = False)\n",
    "\n",
    "# collect 2,000 most frequent words appearing in r/SeattleWA\n",
    "sea_wa_word_freq = cvec.fit_transform(sea_wa['text'])\n",
    "sea_wa_word_freq = pd.DataFrame(sea_wa_word_freq.todense(), columns = cvec.get_feature_names_out())\n",
    "sea_wa_words_top_2k = sea_wa_word_freq.sum().sort_values(ascending = False)"
   ]
  },
  {
   "cell_type": "code",
   "execution_count": 41,
   "id": "65b076b2-2b25-4dac-b068-7aded948d85e",
   "metadata": {},
   "outputs": [
    {
     "data": {
      "text/plain": [
       "seattl    2070\n",
       "get        984\n",
       "like       958\n",
       "would      867\n",
       "look       838\n",
       "go         819\n",
       "know       806\n",
       "anyon      759\n",
       "place      682\n",
       "it         640\n",
       "want       625\n",
       "time       621\n",
       "we         603\n",
       "area       597\n",
       "thank      567\n",
       "dtype: int64"
      ]
     },
     "execution_count": 41,
     "metadata": {},
     "output_type": "execute_result"
    }
   ],
   "source": [
    "sea_words_top_2k.head(15)"
   ]
  },
  {
   "cell_type": "code",
   "execution_count": 42,
   "id": "1e5ac3f3-73df-44b4-8ef6-c48c1929fd5c",
   "metadata": {},
   "outputs": [
    {
     "data": {
      "text/plain": [
       "seattl    1740\n",
       "look       797\n",
       "like       789\n",
       "get        781\n",
       "would      713\n",
       "know       665\n",
       "go         654\n",
       "anyon      650\n",
       "peopl      622\n",
       "area       585\n",
       "place      562\n",
       "the        538\n",
       "live       528\n",
       "move       522\n",
       "work       513\n",
       "dtype: int64"
      ]
     },
     "execution_count": 42,
     "metadata": {},
     "output_type": "execute_result"
    }
   ],
   "source": [
    "sea_wa_words_top_2k.head(15)"
   ]
  },
  {
   "cell_type": "code",
   "execution_count": 43,
   "id": "4b934ea8-5a92-453e-9965-5c6df249c933",
   "metadata": {},
   "outputs": [
    {
     "name": "stdout",
     "output_type": "stream",
     "text": [
      "{'thank', 'time', 'we', 'want', 'it'}\n",
      "{'the', 'live', 'work', 'move', 'peopl'}\n"
     ]
    }
   ],
   "source": [
    "# collect the top 15 words in each subreddit\n",
    "sea_top_15 = set(sea_words_top_2k.head(15).index)\n",
    "sea_wa_top_15 = set(sea_wa_words_top_2k.head(15).index)\n",
    "\n",
    "# collect the words that appeared in one subreddit's top 15 list and not the other\n",
    "only_sea_top_15 = sea_top_15 - sea_top_15.intersection(sea_wa_top_15)\n",
    "only_sea_wa_top_15 = sea_wa_top_15 - sea_top_15.intersection(sea_wa_top_15)\n",
    "\n",
    "print(only_sea_top_15)\n",
    "print(only_sea_wa_top_15)"
   ]
  },
  {
   "cell_type": "code",
   "execution_count": 46,
   "id": "3fc6304c-4b7d-4a64-a90b-383af00a6d67",
   "metadata": {},
   "outputs": [
    {
     "data": {
      "image/png": "[encoded data removed]",
      "text/plain": [
       "<Figure size 1152x720 with 2 Axes>"
      ]
     },
     "metadata": {
      "needs_background": "light"
     },
     "output_type": "display_data"
    }
   ],
   "source": [
    "plt.figure(figsize = (16,10))\n",
    "\n",
    "# Title\n",
    "plt.suptitle('15 Most Frequent Words in Each Subreddit', size = 25)\n",
    "\n",
    "\n",
    "'''\n",
    "left subplot for r/Seattle \n",
    "'''\n",
    "plt.subplot(1,2,1)\n",
    "# subtitle\n",
    "plt.text(s = 'r/Seattle', x = 575, y = 15.5, size = 25)\n",
    "\n",
    "# plot grey bars \n",
    "plt.barh(y = sea_words_top_2k.head(15).index[::-1], width = sea_words_top_2k.head(15).values[::-1], height = 0.6, color = 'grey')\n",
    "plt.xlim([0, 1625])\n",
    "\n",
    "# plot blue highlighted bars that do not appear in r/SeattleWA top 15\n",
    "for word in only_sea_top_15:\n",
    "    \n",
    "    # obtains y-value of word for horizontal bar chart\n",
    "    # value is the word frequency (size of the bar)\n",
    "    pos = 14 - sea_words_top_2k.index.get_loc(word)\n",
    "    value = sea_words_top_2k[word]\n",
    "    plt.barh(y = pos, width = value, height = 0.6, color = 'tab:blue')\n",
    "    \n",
    "    # plot text of word's position in r/SeattleWA\n",
    "    sea_wa_pos = sea_wa_words_top_2k.index.get_loc(word)\n",
    "    plt.text(x = value + 20, y = pos - 0.125, s = f'{sea_wa_pos + 1}th pos in r/SeattleWA', color = 'tab:blue', size = 15)\n",
    "\n",
    "    \n",
    "'''\n",
    "right subplot for r/SeattleWA\n",
    "'''\n",
    "plt.subplot(1,2,2)\n",
    "# r/SeattleWA subtitle\n",
    "plt.text(s = 'r/SeattleWA', x = 500, y = 15.5, size = 25)\n",
    "\n",
    "# plot grey bars\n",
    "plt.barh(y = sea_wa_words_top_2k.head(15).index[::-1], width = sea_wa_words_top_2k.head(15).values[::-1], height = 0.6, color = 'grey')\n",
    "plt.xlim([0,1625])\n",
    "\n",
    "# plot green highlighted bars that do not appear in r/Seattle top 15\n",
    "for word in only_sea_wa_top_15:\n",
    "    \n",
    "    # obtains y-value of word for horizontal bar chart\n",
    "    # value is the word frequency (size of the bar)\n",
    "    pos = 14 - sea_wa_words_top_2k.index.get_loc(word)\n",
    "    value = sea_wa_words_top_2k[word]\n",
    "    plt.barh(y = pos, width = value, height = 0.6, color = 'tab:green')\n",
    "    \n",
    "    # plot text of word's position in r/Seattle\n",
    "    sea_pos = sea_words_top_2k.index.get_loc(word)\n",
    "    plt.text(x = value + 20, y = pos - 0.125, s = f'{sea_pos + 1}th pos in r/Seattle', color = 'tab:green', size = 15);"
   ]
  },
  {
   "cell_type": "markdown",
   "id": "c996e954-027d-4216-a86c-db1fc7fc7d88",
   "metadata": {},
   "source": [
    "The 15 most common words for the two subreddits are quite uninteresting and not very informative. Moreover, the differences between the two are quite small. The words that appear in one subreddits top 15 but not the other are only a little further down the list. We also see 'seattl' and 'seattle' as two distinct words after stemming. This is unfortunate, but it is not worth taking the time to resolve.\n",
    "\n",
    "Although the above image does not show us anything interesting, it does give us an interesting direction to examine - if words were ranked by their frequencies within each subreddit, how much would the rankings differ?\n",
    "\n",
    "To answer this question our strategy will be:\n",
    "- find the words in common between the two lists\n",
    "- rank each word from most frequent to least frequent within each subreddit\n",
    "- subtract the rankings for only these words in common\n",
    "\n",
    "First we find the words that appear in both subreddits' top 2000 list."
   ]
  },
  {
   "cell_type": "code",
   "execution_count": 48,
   "id": "8a605c01-cf99-4ac3-8c7b-3a0cacd0e4ce",
   "metadata": {},
   "outputs": [
    {
     "name": "stdout",
     "output_type": "stream",
     "text": [
      "There are 1646 words in common between r/Seattle and r/SeattleWA's top 2,000 words\n"
     ]
    }
   ],
   "source": [
    "# form a set of each subreddits top 2000 words\n",
    "sea_words_set = set(sea_words_top_2k.index)\n",
    "sea_wa_words_set = set(sea_wa_words_top_2k.index)\n",
    "\n",
    "# collect the words that are in common (1646 words)\n",
    "words_in_common = sea_words_set.intersection(sea_wa_words_set)\n",
    "\n",
    "print(f\"There are {len(words_in_common)} words in common between r/Seattle and r/SeattleWA's top 2,000 words\")"
   ]
  },
  {
   "cell_type": "markdown",
   "id": "3c51e38b-f48a-46d2-a226-281a682010c6",
   "metadata": {},
   "source": [
    "We already have our two thousand most common words for each subreddit, and they are already ordered. To create of word rankings, we can reuse our ordered word frequency series. The only difference is that the values in the series will increase by one for each word except when the frequencies are the same."
   ]
  },
  {
   "cell_type": "code",
   "execution_count": 49,
   "id": "7543fc25-24cb-4d3c-a029-10c5089ffc2f",
   "metadata": {},
   "outputs": [],
   "source": [
    "# create blank series for recording rank\n",
    "# started with indices that match the sorted word frequency series \n",
    "sea_words_ranking = pd.Series(index = sea_words_top_2k.index, dtype = int)\n",
    "sea_wa_words_ranking = pd.Series(index = sea_wa_words_top_2k.index, dtype = int)"
   ]
  },
  {
   "cell_type": "code",
   "execution_count": 50,
   "id": "a6376a51-ffb3-441e-ad19-f40f7f4c4d13",
   "metadata": {},
   "outputs": [],
   "source": [
    "# assign rankings to r/Seattle words\n",
    "ranking = 1\n",
    "prev_freq = sea_words_top_2k[0]\n",
    "\n",
    "for index, current_freq in enumerate(sea_words_top_2k):\n",
    "    if current_freq < prev_freq:\n",
    "        ranking += 1\n",
    "        \n",
    "    sea_words_ranking[index] = ranking\n",
    "    prev_freq = current_freq"
   ]
  },
  {
   "cell_type": "code",
   "execution_count": 51,
   "id": "c30ae8e3-f2b9-4d36-8b27-08bae31d0e57",
   "metadata": {},
   "outputs": [],
   "source": [
    "# assign rankings to r/SeattleWA words\n",
    "ranking = 1\n",
    "prev_freq = sea_wa_words_top_2k[0]\n",
    "\n",
    "for index, current_freq in enumerate(sea_wa_words_top_2k):\n",
    "    if current_freq < prev_freq:\n",
    "        ranking += 1\n",
    "        \n",
    "    sea_wa_words_ranking[index] = ranking\n",
    "    prev_freq = current_freq"
   ]
  },
  {
   "cell_type": "markdown",
   "id": "22ca2d38-8bd2-4b8e-83f0-8641e6b0d457",
   "metadata": {},
   "source": [
    "Below we see the general structure of the word rankings for r/Seattle and r/SeattleWA."
   ]
  },
  {
   "cell_type": "code",
   "execution_count": 52,
   "id": "43938bbc-c497-48df-8c05-8d6b565133a4",
   "metadata": {},
   "outputs": [
    {
     "data": {
      "text/plain": [
       "seattl           1.0\n",
       "get              2.0\n",
       "like             3.0\n",
       "would            4.0\n",
       "look             5.0\n",
       "               ...  \n",
       "dad            250.0\n",
       "exact          250.0\n",
       "curli          250.0\n",
       "wallingford    250.0\n",
       "teach          250.0\n",
       "Length: 2000, dtype: float64"
      ]
     },
     "execution_count": 52,
     "metadata": {},
     "output_type": "execute_result"
    }
   ],
   "source": [
    "sea_words_ranking.sort_values()"
   ]
  },
  {
   "cell_type": "code",
   "execution_count": 53,
   "id": "73c3a555-8b46-48c6-8b6c-3b77f93b1568",
   "metadata": {},
   "outputs": [
    {
     "data": {
      "text/plain": [
       "seattl      1.0\n",
       "look        2.0\n",
       "like        3.0\n",
       "get         4.0\n",
       "would       5.0\n",
       "          ...  \n",
       "reward    230.0\n",
       "250       230.0\n",
       "river     230.0\n",
       "haha      230.0\n",
       "00        230.0\n",
       "Length: 2000, dtype: float64"
      ]
     },
     "execution_count": 53,
     "metadata": {},
     "output_type": "execute_result"
    }
   ],
   "source": [
    "sea_wa_words_ranking.sort_values()"
   ]
  },
  {
   "cell_type": "markdown",
   "id": "b86d8728-2e2b-41cc-8eb7-02e4273fe6e0",
   "metadata": {},
   "source": [
    "It is only clear what the difference in rankings would mean for words that are in appear in both sets. Let us subset our two ranking series over the common words and sort over the index. This way, the indices will match and we can directly subtract the two series to obtain the ranking differences."
   ]
  },
  {
   "cell_type": "code",
   "execution_count": 54,
   "id": "d84c6321-e4f4-496d-b473-ecb4339f310a",
   "metadata": {},
   "outputs": [],
   "source": [
    "# convert common words from a set to list so we can index our ranking series over them\n",
    "words_in_common = list(words_in_common)\n",
    "\n",
    "# index two word ranking series over common words and sort index\n",
    "# so the indices of rankings match for the two subreddits\n",
    "sea_common_ranking = sea_words_ranking[words_in_common].sort_index()\n",
    "sea_wa_common_ranking = sea_wa_words_ranking[words_in_common].sort_index()"
   ]
  },
  {
   "cell_type": "code",
   "execution_count": 55,
   "id": "cfe96dea-218c-4f46-951d-9316e78cc976",
   "metadata": {},
   "outputs": [
    {
     "data": {
      "text/plain": [
       "00       248.0\n",
       "10       143.0\n",
       "100      219.0\n",
       "11       221.0\n",
       "12       217.0\n",
       "         ...  \n",
       "you      136.0\n",
       "young    231.0\n",
       "your     246.0\n",
       "zero     247.0\n",
       "zone     241.0\n",
       "Length: 1646, dtype: float64"
      ]
     },
     "execution_count": 55,
     "metadata": {},
     "output_type": "execute_result"
    }
   ],
   "source": [
    "sea_common_ranking"
   ]
  },
  {
   "cell_type": "code",
   "execution_count": 56,
   "id": "13e75435-5265-4918-b6f8-8049aac366ef",
   "metadata": {},
   "outputs": [
    {
     "data": {
      "text/plain": [
       "00       230.0\n",
       "10       131.0\n",
       "100      195.0\n",
       "11       209.0\n",
       "12       202.0\n",
       "         ...  \n",
       "you      121.0\n",
       "young    181.0\n",
       "your     212.0\n",
       "zero     225.0\n",
       "zone     225.0\n",
       "Length: 1646, dtype: float64"
      ]
     },
     "execution_count": 56,
     "metadata": {},
     "output_type": "execute_result"
    }
   ],
   "source": [
    "sea_wa_common_ranking"
   ]
  },
  {
   "cell_type": "markdown",
   "id": "8eff78d8-9304-4f55-8abb-c941de750623",
   "metadata": {},
   "source": [
    "Now we are set up to compute the ranking differences between the subreddits."
   ]
  },
  {
   "cell_type": "code",
   "execution_count": 57,
   "id": "d4c6fadb-3fc6-457c-b517-a96693583e8b",
   "metadata": {},
   "outputs": [],
   "source": [
    "ranking_difference = (sea_common_ranking - sea_wa_common_ranking).sort_values()"
   ]
  },
  {
   "cell_type": "markdown",
   "id": "d1707299-f9a9-485e-b2b6-ce804bdca807",
   "metadata": {},
   "source": [
    "Of course this list is too long to examine in its entirety (1636 words). We print out fifty words with the largest negative ranking difference and fify words with the largest positive ranking differences. Even this is a bit long, but because this is one of the major conclusions of our analysis, it seems worthwhile to offer the most information here.\n",
    "\n",
    "Note that because a lower value for word ranking corresponds to higher word frequency in the subreddit, the more negative this difference is, the more the word appeared in the r/Seattle subreddit. The more positive this difference is, the more the word appeared in the r/Seattle subreddit."
   ]
  },
  {
   "cell_type": "code",
   "execution_count": 58,
   "id": "616c226a-3127-4e20-b2ae-ddc35bbf2c26",
   "metadata": {},
   "outputs": [
    {
     "data": {
      "text/plain": [
       "board      -60.0\n",
       "food       -59.0\n",
       "event      -59.0\n",
       "game       -58.0\n",
       "dog        -54.0\n",
       "line       -50.0\n",
       "late       -37.0\n",
       "district   -35.0\n",
       "option     -33.0\n",
       "local      -32.0\n",
       "visit      -30.0\n",
       "relat      -30.0\n",
       "coffe      -29.0\n",
       "song       -28.0\n",
       "sponsor    -26.0\n",
       "train      -25.0\n",
       "blue       -25.0\n",
       "plan       -25.0\n",
       "specif     -24.0\n",
       "next       -24.0\n",
       "wonder     -23.0\n",
       "kind       -23.0\n",
       "gener      -22.0\n",
       "welcom     -22.0\n",
       "bring      -22.0\n",
       "night      -21.0\n",
       "he         -21.0\n",
       "rail       -21.0\n",
       "big        -21.0\n",
       "shop       -20.0\n",
       "tell       -20.0\n",
       "where      -20.0\n",
       "develop    -20.0\n",
       "public     -19.0\n",
       "worth      -19.0\n",
       "group      -19.0\n",
       "love       -17.0\n",
       "transit    -17.0\n",
       "polic      -17.0\n",
       "hour       -16.0\n",
       "meet       -16.0\n",
       "eat        -15.0\n",
       "light      -15.0\n",
       "mayb       -14.0\n",
       "unit       -14.0\n",
       "us         -14.0\n",
       "north      -14.0\n",
       "that       -13.0\n",
       "come       -13.0\n",
       "pretti     -13.0\n",
       "dtype: float64"
      ]
     },
     "execution_count": 58,
     "metadata": {},
     "output_type": "execute_result"
    }
   ],
   "source": [
    "ranking_difference.head(50)"
   ]
  },
  {
   "cell_type": "code",
   "execution_count": 59,
   "id": "11fcc884-f265-461f-a21d-7c7e8f43c03d",
   "metadata": {},
   "outputs": [
    {
     "data": {
      "text/plain": [
       "mask          105.0\n",
       "tax            78.0\n",
       "washington     69.0\n",
       "state          61.0\n",
       "offer          60.0\n",
       "june           58.0\n",
       "manag          58.0\n",
       "drug           57.0\n",
       "bellevu        57.0\n",
       "clean          55.0\n",
       "2021           53.0\n",
       "homeless       52.0\n",
       "report         52.0\n",
       "wa             52.0\n",
       "dental         52.0\n",
       "sub            51.0\n",
       "young          50.0\n",
       "requir         50.0\n",
       "juli           49.0\n",
       "student        49.0\n",
       "posit          49.0\n",
       "counti         48.0\n",
       "properti       48.0\n",
       "crime          48.0\n",
       "wear           47.0\n",
       "today          45.0\n",
       "ga             45.0\n",
       "ticket         44.0\n",
       "anoth          44.0\n",
       "for            44.0\n",
       "law            43.0\n",
       "kent           43.0\n",
       "summer         43.0\n",
       "includ         43.0\n",
       "beach          42.0\n",
       "read           42.0\n",
       "gun            42.0\n",
       "second         42.0\n",
       "test           42.0\n",
       "nearbi         42.0\n",
       "later          42.0\n",
       "high           42.0\n",
       "graduat        41.0\n",
       "kid            41.0\n",
       "contact        41.0\n",
       "process        41.0\n",
       "interest       40.0\n",
       "incom          40.0\n",
       "commun         40.0\n",
       "women          40.0\n",
       "dtype: float64"
      ]
     },
     "execution_count": 59,
     "metadata": {},
     "output_type": "execute_result"
    }
   ],
   "source": [
    "ranking_difference.tail(50).sort_values(ascending = False)"
   ]
  },
  {
   "cell_type": "markdown",
   "id": "555b1b88-bed0-4fa2-889d-2b8248251e24",
   "metadata": {},
   "source": [
    "One thing to notice is that there are many more large positive values that resulted from this difference. It is hard to know why this was the case. One possible explanation may be that there were a number of more specialized words that appeared with higher frequency on the r/SeattleWA list while the r/Seattle list contained more general words. This would mean that many of the words top words from r/Seattle were still distributed throughout the top words in r/SeattleWA, but the reverse would not be true.\n",
    "\n",
    "We can see this a bit with words that appeared more in **r/Seattle**:\n",
    "- board\n",
    "- game \n",
    "- food\n",
    "- dog \n",
    "- event\n",
    "\n",
    "whereas the words that appeared more in **r/SeattleWA**: \n",
    "- mask\n",
    "- tax\n",
    "- washington\n",
    "- homeless\n",
    "- drug\n",
    "- report\n",
    "- polit \n",
    "- crime\n",
    "- law\n",
    "- gun\n",
    "- stolen"
   ]
  },
  {
   "cell_type": "code",
   "execution_count": 60,
   "id": "06e01e8e-69c6-4813-be7b-3c49fbccbc1d",
   "metadata": {},
   "outputs": [],
   "source": [
    "# elements in top 2000 words of one subreddit but not the other\n",
    "sea_only_words_list = list(sea_words_set - set(words_in_common))\n",
    "sea_wa_only_words_list = list(sea_wa_words_set - set(words_in_common))"
   ]
  },
  {
   "cell_type": "code",
   "execution_count": 61,
   "id": "1d67746f-73ea-481f-aac9-400059dca011",
   "metadata": {},
   "outputs": [
    {
     "data": {
      "text/plain": [
       "354"
      ]
     },
     "execution_count": 61,
     "metadata": {},
     "output_type": "execute_result"
    }
   ],
   "source": [
    "len(sea_only_words_list)"
   ]
  },
  {
   "cell_type": "code",
   "execution_count": 62,
   "id": "0b7c4f60-34ae-4770-82d1-995b25e468e2",
   "metadata": {},
   "outputs": [
    {
     "data": {
      "text/plain": [
       "councilmemb    116\n",
       "weekli          47\n",
       "plane           34\n",
       "optim           34\n",
       "donat           33\n",
       "track           33\n",
       "adopt           33\n",
       "roll            33\n",
       "faq             31\n",
       "strike          30\n",
       "ordin           30\n",
       "amend           30\n",
       "zoo             30\n",
       "2023            27\n",
       "stick           27\n",
       "band            26\n",
       "quickli         25\n",
       "recycl          24\n",
       "director        24\n",
       "machin          23\n",
       "simpl           23\n",
       "inflat          23\n",
       "lyft            23\n",
       "built           23\n",
       "wide            23\n",
       "dtype: int64"
      ]
     },
     "execution_count": 62,
     "metadata": {},
     "output_type": "execute_result"
    }
   ],
   "source": [
    "sea_words_top_2k[sea_only_words_list].sort_values(ascending = False).head(25)"
   ]
  },
  {
   "cell_type": "code",
   "execution_count": 63,
   "id": "0ccb2ddb-aa72-4b79-b9a9-c9c7d3f63e97",
   "metadata": {},
   "outputs": [
    {
     "data": {
      "text/plain": [
       "march       39\n",
       "patient     35\n",
       "migrat      31\n",
       "april       29\n",
       "blog        28\n",
       "mandat      28\n",
       "client      26\n",
       "particip    25\n",
       "4th         23\n",
       "closur      22\n",
       "assault     21\n",
       "vegan       21\n",
       "john        21\n",
       "conserv     20\n",
       "judg        20\n",
       "crimin      20\n",
       "tab         19\n",
       "gain        19\n",
       "tv          19\n",
       "discount    19\n",
       "convert     19\n",
       "radio       19\n",
       "shower      19\n",
       "furnitur    19\n",
       "fellow      19\n",
       "dtype: int64"
      ]
     },
     "execution_count": 63,
     "metadata": {},
     "output_type": "execute_result"
    }
   ],
   "source": [
    "sea_wa_words_top_2k[sea_wa_only_words_list].sort_values(ascending = False).head(25)"
   ]
  },
  {
   "cell_type": "markdown",
   "id": "6f2a43f4-1e7c-49fd-bb33-d26a0c958e11",
   "metadata": {},
   "source": [
    "We see councilmemb appear quite a bit in r/Seattle and not appear in r/SeattleWA. This was because there was a Stanford student who would regularly post details about City Council meetings in r/Seattle.\n",
    "\n",
    "Besides that, notable words that appeared in r/Seattle but not r/SeattleWA:\n",
    "- optim\n",
    "- donat\n",
    "- adopt\n",
    "- strike\n",
    "- ordin\n",
    "- amend\n",
    "- recycl\n",
    "- inflat\n",
    "- lyft\n",
    "\n",
    "And notable words that appeared in r/SeattleWA but not r/Seattle:\n",
    "- patient\n",
    "- migrat\n",
    "- mandat\n",
    "- 4th\n",
    "- closur\n",
    "- assault\n",
    "- conserv\n",
    "- judg\n",
    "- crimin\n",
    "- convert\n",
    "\n"
   ]
  },
  {
   "cell_type": "code",
   "execution_count": 69,
   "id": "9f10019a-1579-4202-b9b6-1a181ee80366",
   "metadata": {},
   "outputs": [
    {
     "data": {
      "text/plain": [
       "success    0.0\n",
       "well       0.0\n",
       "anywher    0.0\n",
       "anyth      0.0\n",
       "folk       0.0\n",
       "anyon      0.0\n",
       "check      0.0\n",
       "sick       0.0\n",
       "part       0.0\n",
       "like       0.0\n",
       "seattl     0.0\n",
       "doesn      0.0\n",
       "find       0.0\n",
       "fli        0.0\n",
       "thing      0.0\n",
       "confirm    0.0\n",
       "liter      0.0\n",
       "author     0.0\n",
       "came       0.0\n",
       "mention    0.0\n",
       "could      0.0\n",
       "bu         0.0\n",
       "dtype: float64"
      ]
     },
     "execution_count": 69,
     "metadata": {},
     "output_type": "execute_result"
    }
   ],
   "source": [
    "ranking_difference[ranking_difference == 0]"
   ]
  },
  {
   "cell_type": "code",
   "execution_count": null,
   "id": "449ca9e6-a8c7-4b40-8854-f73e7e3aefff",
   "metadata": {},
   "outputs": [],
   "source": []
  },
  {
   "cell_type": "code",
   "execution_count": null,
   "id": "e410a451-e7bb-4464-8e9e-fcdd77622774",
   "metadata": {},
   "outputs": [],
   "source": []
  },
  {
   "cell_type": "code",
   "execution_count": null,
   "id": "eef312a0-9f11-4d88-8d01-525cb3408f5e",
   "metadata": {},
   "outputs": [],
   "source": []
  },
  {
   "cell_type": "code",
   "execution_count": null,
   "id": "631dd97a-5fdc-441d-98d3-2cafd78b0fe3",
   "metadata": {},
   "outputs": [],
   "source": []
  },
  {
   "cell_type": "code",
   "execution_count": null,
   "id": "81b708df-1639-48a4-bf85-459da8a25f54",
   "metadata": {},
   "outputs": [],
   "source": []
  },
  {
   "cell_type": "markdown",
   "id": "0a6b9d1e-cd21-4c51-9e4b-7344ff7cdd35",
   "metadata": {},
   "source": [
    "Higher values mean that the word appeared more frequently in r/SeattleWA, lower values mean the word appeared more frequently in r/Seattle."
   ]
  },
  {
   "cell_type": "code",
   "execution_count": 274,
   "id": "286a355b-3069-4499-8ae8-bdc7e289ab4f",
   "metadata": {},
   "outputs": [
    {
     "data": {
      "text/plain": [
       "check         -1.0\n",
       "car           -1.0\n",
       "ll            -1.0\n",
       "one           -1.0\n",
       "go            -1.0\n",
       "door          -1.0\n",
       "happen        -1.0\n",
       "ani           -1.0\n",
       "realli        -1.0\n",
       "would         -1.0\n",
       "two           -1.0\n",
       "appoint       -1.0\n",
       "water         -1.0\n",
       "nice          -1.0\n",
       "cancel        -1.0\n",
       "set            0.0\n",
       "thanks         0.0\n",
       "deal           0.0\n",
       "info           0.0\n",
       "cool           0.0\n",
       "seattl         0.0\n",
       "anyon          0.0\n",
       "sleep          0.0\n",
       "need           0.0\n",
       "ask            0.0\n",
       "window         0.0\n",
       "hike           0.0\n",
       "spot           0.0\n",
       "best           0.0\n",
       "know           1.0\n",
       "wrong          1.0\n",
       "14             1.0\n",
       "neighbor       1.0\n",
       "parking        1.0\n",
       "to             1.0\n",
       "sound          1.0\n",
       "free           1.0\n",
       "septemb        1.0\n",
       "good           1.0\n",
       "like           1.0\n",
       "suggestions    1.0\n",
       "thought        1.0\n",
       "up             1.0\n",
       "dtype: float64"
      ]
     },
     "execution_count": 274,
     "metadata": {},
     "output_type": "execute_result"
    }
   ],
   "source": [
    "ranking_difference[ranking_difference.between(-1,1)]"
   ]
  },
  {
   "cell_type": "code",
   "execution_count": null,
   "id": "41051a4d-f977-47b7-bae7-7d5304548744",
   "metadata": {},
   "outputs": [
    {
     "data": {
      "text/plain": [
       "seattl       1.0\n",
       "look         2.0\n",
       "like         3.0\n",
       "get          4.0\n",
       "it           5.0\n",
       "           ...  \n",
       "alone      974.0\n",
       "pnw        974.0\n",
       "explain    974.0\n",
       "risk       974.0\n",
       "regular    974.0\n",
       "Length: 1000, dtype: float64"
      ]
     },
     "execution_count": 228,
     "metadata": {},
     "output_type": "execute_result"
    }
   ],
   "source": [
    "sea_wa_words_ranking"
   ]
  },
  {
   "cell_type": "code",
   "execution_count": 229,
   "id": "7ba46317-c23c-49c5-92ac-f7a34a47472d",
   "metadata": {},
   "outputs": [],
   "source": [
    "sea_only_words = pd.Series(index = sea_only_words_list, dtype = int)\n",
    "sea_only_words.fillna(1000, inplace = True)\n",
    "\n",
    "sea_wa_only_words = pd.Series(index = sea_wa_only_words_list, dtype = int)\n",
    "sea_wa_only_words.fillna(1000, inplace = True)\n",
    "\n",
    "sea_words_ranking = pd.concat([sea_words_ranking, sea_wa_only_words])\n",
    "sea_wa_words_ranking = pd.concat([sea_wa_words_ranking, sea_only_words])"
   ]
  },
  {
   "cell_type": "code",
   "execution_count": 230,
   "id": "98cb84d8-eb90-4f18-b865-8d1bb1ca6df6",
   "metadata": {},
   "outputs": [
    {
     "data": {
      "text/plain": [
       "seattl       1.0\n",
       "get          2.0\n",
       "it           3.0\n",
       "like         4.0\n",
       "would        5.0\n",
       "           ...  \n",
       "chanc     1000.0\n",
       "rais      1000.0\n",
       "death     1000.0\n",
       "age       1000.0\n",
       "19        1000.0\n",
       "Length: 1154, dtype: float64"
      ]
     },
     "execution_count": 230,
     "metadata": {},
     "output_type": "execute_result"
    }
   ],
   "source": [
    "sea_words_ranking"
   ]
  },
  {
   "cell_type": "code",
   "execution_count": 232,
   "id": "a5a97157-9a81-4bcb-ac88-3fa68d26e58e",
   "metadata": {},
   "outputs": [
    {
     "data": {
      "text/plain": [
       "seattl         1.0\n",
       "look           2.0\n",
       "like           3.0\n",
       "get            4.0\n",
       "it             5.0\n",
       "             ...  \n",
       "song        1000.0\n",
       "initi       1000.0\n",
       "deliveri    1000.0\n",
       "map         1000.0\n",
       "upcom       1000.0\n",
       "Length: 1154, dtype: float64"
      ]
     },
     "execution_count": 232,
     "metadata": {},
     "output_type": "execute_result"
    }
   ],
   "source": [
    "sea_wa_words_ranking"
   ]
  },
  {
   "cell_type": "code",
   "execution_count": null,
   "id": "8939ef61-4695-4e04-9518-3593493b2bf6",
   "metadata": {},
   "outputs": [],
   "source": []
  },
  {
   "cell_type": "code",
   "execution_count": null,
   "id": "b0684443-e11c-4be1-ac90-50f6b2c9efdb",
   "metadata": {},
   "outputs": [],
   "source": []
  },
  {
   "cell_type": "code",
   "execution_count": null,
   "id": "21725ea4-80b5-4252-86eb-c71f82107671",
   "metadata": {},
   "outputs": [],
   "source": []
  },
  {
   "cell_type": "code",
   "execution_count": null,
   "id": "8f86f43e-5da4-4850-acfc-ae400a0ec1a9",
   "metadata": {},
   "outputs": [],
   "source": []
  },
  {
   "cell_type": "code",
   "execution_count": 133,
   "id": "29d35bce-ccba-4f67-b97f-1ac5756ef380",
   "metadata": {
    "scrolled": true,
    "tags": []
   },
   "outputs": [
    {
     "data": {
      "text/plain": [
       "{'14',\n",
       " '2023',\n",
       " '23',\n",
       " 'ac',\n",
       " 'adopt',\n",
       " 'afternoon',\n",
       " 'amaz',\n",
       " 'amend',\n",
       " 'angel',\n",
       " 'anyway',\n",
       " 'author',\n",
       " 'besid',\n",
       " 'birthday',\n",
       " 'box',\n",
       " 'cancel',\n",
       " 'certain',\n",
       " 'climat',\n",
       " 'cloth',\n",
       " 'code',\n",
       " 'cold',\n",
       " 'complain',\n",
       " 'confirm',\n",
       " 'councilmemb',\n",
       " 'cover',\n",
       " 'decis',\n",
       " 'deliveri',\n",
       " 'design',\n",
       " 'develop',\n",
       " 'difficult',\n",
       " 'donat',\n",
       " 'dress',\n",
       " 'easi',\n",
       " 'effect',\n",
       " 'engin',\n",
       " 'entir',\n",
       " 'events',\n",
       " 'exactli',\n",
       " 'exist',\n",
       " 'fact',\n",
       " 'faq',\n",
       " 'feedback',\n",
       " 'forc',\n",
       " 'four',\n",
       " 'fund',\n",
       " 'futur',\n",
       " 'garden',\n",
       " 'girl',\n",
       " 'grab',\n",
       " 'groceri',\n",
       " 'gym',\n",
       " 'hair',\n",
       " 'handl',\n",
       " 'happening',\n",
       " 'held',\n",
       " 'honestli',\n",
       " 'host',\n",
       " 'hot',\n",
       " 'initi',\n",
       " 'insid',\n",
       " 'key',\n",
       " 'la',\n",
       " 'land',\n",
       " 'loud',\n",
       " 'lower',\n",
       " 'lunch',\n",
       " 'map',\n",
       " 'medic',\n",
       " 'meetup',\n",
       " 'mention',\n",
       " 'met',\n",
       " 'metro',\n",
       " 'middl',\n",
       " 'mine',\n",
       " 'mobil',\n",
       " 'morning',\n",
       " 'nois',\n",
       " 'octob',\n",
       " 'okay',\n",
       " 'older',\n",
       " 'optim',\n",
       " 'options',\n",
       " 'ordin',\n",
       " 'outdoor',\n",
       " 'overnight',\n",
       " 'pack',\n",
       " 'parking',\n",
       " 'permit',\n",
       " 'pet',\n",
       " 'photo',\n",
       " 'physic',\n",
       " 'pictur',\n",
       " 'places',\n",
       " 'plane',\n",
       " 'please',\n",
       " 'possible',\n",
       " 'protect',\n",
       " 'push',\n",
       " 'rant',\n",
       " 'readi',\n",
       " 'rec',\n",
       " 'regard',\n",
       " 'rel',\n",
       " 'remov',\n",
       " 'repair',\n",
       " 'rest',\n",
       " 'roll',\n",
       " 'rout',\n",
       " 'scene',\n",
       " 'sea',\n",
       " 'seafair',\n",
       " 'sick',\n",
       " 'situation',\n",
       " 'size',\n",
       " 'sleep',\n",
       " 'smell',\n",
       " 'song',\n",
       " 'sp',\n",
       " 'speak',\n",
       " 'sponsor',\n",
       " 'standard',\n",
       " 'stick',\n",
       " 'strike',\n",
       " 'struggl',\n",
       " 'stuck',\n",
       " 'subreddit',\n",
       " 'success',\n",
       " 'swim',\n",
       " 'target',\n",
       " 'things',\n",
       " 'those',\n",
       " 'thread',\n",
       " 'throw',\n",
       " 'tia',\n",
       " 'tourist',\n",
       " 'track',\n",
       " 'typic',\n",
       " 'uniqu',\n",
       " 'unless',\n",
       " 'upcom',\n",
       " 'urban',\n",
       " 'user',\n",
       " 'util',\n",
       " 'van',\n",
       " 'volunt',\n",
       " 'wall',\n",
       " 'wasn',\n",
       " 'wave',\n",
       " 'wed',\n",
       " 'weekli',\n",
       " 'welcom',\n",
       " 'which',\n",
       " 'wish',\n",
       " 'ye',\n",
       " 'zoo'}"
      ]
     },
     "execution_count": 133,
     "metadata": {},
     "output_type": "execute_result"
    }
   ],
   "source": [
    "sea_words_set - words_in_common"
   ]
  },
  {
   "cell_type": "code",
   "execution_count": 137,
   "id": "475403d0-464e-42e5-aff1-92d26702ad07",
   "metadata": {
    "scrolled": true,
    "tags": []
   },
   "outputs": [
    {
     "data": {
      "text/plain": [
       "{'18',\n",
       " '19',\n",
       " '1st',\n",
       " '2021',\n",
       " '22',\n",
       " '2nd',\n",
       " '4th',\n",
       " '500',\n",
       " '5th',\n",
       " 'action',\n",
       " 'add',\n",
       " 'addict',\n",
       " 'affect',\n",
       " 'age',\n",
       " 'alon',\n",
       " 'alone',\n",
       " 'american',\n",
       " 'anim',\n",
       " 'apartment',\n",
       " 'applic',\n",
       " 'approv',\n",
       " 'april',\n",
       " 'assist',\n",
       " 'attack',\n",
       " 'attempt',\n",
       " 'averag',\n",
       " 'bellevue',\n",
       " 'benefit',\n",
       " 'blog',\n",
       " 'bodi',\n",
       " 'broken',\n",
       " 'california',\n",
       " 'camera',\n",
       " 'cash',\n",
       " 'chanc',\n",
       " 'choic',\n",
       " 'client',\n",
       " 'comfort',\n",
       " 'community',\n",
       " 'countri',\n",
       " 'county',\n",
       " 'court',\n",
       " 'credit',\n",
       " 'data',\n",
       " 'dead',\n",
       " 'death',\n",
       " 'degre',\n",
       " 'dental',\n",
       " 'distanc',\n",
       " 'dude',\n",
       " 'employ',\n",
       " 'enforc',\n",
       " 'fairli',\n",
       " 'fast',\n",
       " 'field',\n",
       " 'fight',\n",
       " 'fish',\n",
       " 'fix',\n",
       " 'forward',\n",
       " 'fulli',\n",
       " 'gonna',\n",
       " 'govern',\n",
       " 'graduat',\n",
       " 'greater',\n",
       " 'ground',\n",
       " 'guard',\n",
       " 'gun',\n",
       " 'higher',\n",
       " 'howev',\n",
       " 'ignor',\n",
       " 'individu',\n",
       " 'instal',\n",
       " 'insurance',\n",
       " 'interested',\n",
       " 'invest',\n",
       " 'juli',\n",
       " 'june',\n",
       " 'kent',\n",
       " 'kids',\n",
       " 'kinda',\n",
       " 'kirkland',\n",
       " 'lead',\n",
       " 'letter',\n",
       " 'listen',\n",
       " 'main',\n",
       " 'male',\n",
       " 'march',\n",
       " 'mask',\n",
       " 'migrat',\n",
       " 'million',\n",
       " 'min',\n",
       " 'mom',\n",
       " 'moment',\n",
       " 'months',\n",
       " 'more',\n",
       " 'most',\n",
       " 'nearbi',\n",
       " 'needl',\n",
       " 'organ',\n",
       " 'page',\n",
       " 'paint',\n",
       " 'patient',\n",
       " 'peac',\n",
       " 'plate',\n",
       " 'plu',\n",
       " 'polici',\n",
       " 'polit',\n",
       " 'profession',\n",
       " 'questions',\n",
       " 'quick',\n",
       " 'quiet',\n",
       " 'rais',\n",
       " 'ran',\n",
       " 'random',\n",
       " 'regular',\n",
       " 'reloc',\n",
       " 'remot',\n",
       " 'renew',\n",
       " 'renton',\n",
       " 'request',\n",
       " 'restaurants',\n",
       " 'result',\n",
       " 'risk',\n",
       " 'rv',\n",
       " 'sad',\n",
       " 'salari',\n",
       " 'san',\n",
       " 'shelter',\n",
       " 'ship',\n",
       " 'sidewalk',\n",
       " 'sold',\n",
       " 'speed',\n",
       " 'spent',\n",
       " 'st',\n",
       " 'stadium',\n",
       " 'staff',\n",
       " 'step',\n",
       " 'studi',\n",
       " 'stupid',\n",
       " 'teach',\n",
       " 'tenant',\n",
       " 'tent',\n",
       " 'therapist',\n",
       " 'tickets',\n",
       " 'tire',\n",
       " 'transportation',\n",
       " 'valu',\n",
       " 'vegan',\n",
       " 'vibe',\n",
       " 'wage',\n",
       " 'whatev',\n",
       " 'why',\n",
       " 'worst',\n",
       " 'your'}"
      ]
     },
     "execution_count": 137,
     "metadata": {},
     "output_type": "execute_result"
    }
   ],
   "source": [
    "sea_wa_words_set - words_in_common"
   ]
  },
  {
   "cell_type": "code",
   "execution_count": 138,
   "id": "b135e405-bfa3-4fd5-880d-148ca80f46f6",
   "metadata": {},
   "outputs": [
    {
     "data": {
      "text/plain": [
       "29"
      ]
     },
     "execution_count": 138,
     "metadata": {},
     "output_type": "execute_result"
    }
   ],
   "source": [
    "sea_wa_words_top_1k['addict']"
   ]
  },
  {
   "cell_type": "code",
   "execution_count": 140,
   "id": "4172ba2a-c501-4562-a85c-8dac1fa265bc",
   "metadata": {},
   "outputs": [
    {
     "data": {
      "text/plain": [
       "alone      21\n",
       "pnw        21\n",
       "explain    21\n",
       "risk       21\n",
       "regular    21\n",
       "dtype: int64"
      ]
     },
     "execution_count": 140,
     "metadata": {},
     "output_type": "execute_result"
    }
   ],
   "source": [
    "sea_wa_words_top_1k.tail()"
   ]
  },
  {
   "cell_type": "code",
   "execution_count": 135,
   "id": "b08a8492-e946-4af3-b53c-f97769f2c137",
   "metadata": {},
   "outputs": [
    {
     "data": {
      "text/plain": [
       "30"
      ]
     },
     "execution_count": 135,
     "metadata": {},
     "output_type": "execute_result"
    }
   ],
   "source": [
    "sea_words_top_1k['climat']"
   ]
  },
  {
   "cell_type": "code",
   "execution_count": 141,
   "id": "c2720d1d-a9ce-4183-9508-c31c659ecbbf",
   "metadata": {},
   "outputs": [
    {
     "data": {
      "text/plain": [
       "middl       24\n",
       "child       24\n",
       "women       24\n",
       "wed         24\n",
       "children    24\n",
       "dtype: int64"
      ]
     },
     "execution_count": 141,
     "metadata": {},
     "output_type": "execute_result"
    }
   ],
   "source": [
    "sea_words_top_1k.tail()"
   ]
  },
  {
   "cell_type": "code",
   "execution_count": 132,
   "id": "9cb59200-83e8-4e67-b45e-376c2aa687aa",
   "metadata": {},
   "outputs": [
    {
     "data": {
      "text/plain": [
       "154"
      ]
     },
     "execution_count": 132,
     "metadata": {},
     "output_type": "execute_result"
    }
   ],
   "source": [
    "len(sea_wa_words_set - words_in_common)"
   ]
  },
  {
   "cell_type": "code",
   "execution_count": null,
   "id": "a8fd8916-3665-4cef-a889-d9b95ac78d8c",
   "metadata": {},
   "outputs": [],
   "source": []
  },
  {
   "cell_type": "code",
   "execution_count": 98,
   "id": "635681e1-d2f1-4737-9596-6f5b244b50ca",
   "metadata": {
    "collapsed": true,
    "jupyter": {
     "outputs_hidden": true
    },
    "tags": []
   },
   "outputs": [
    {
     "data": {
      "text/plain": [
       "shelter           22\n",
       "salari            22\n",
       "ignor             22\n",
       "tire              22\n",
       "insurance         22\n",
       "peac              22\n",
       "assist            22\n",
       "attack            22\n",
       "true              22\n",
       "attempt           22\n",
       "feder             22\n",
       "account           22\n",
       "section           22\n",
       "potenti           22\n",
       "transportation    22\n",
       "weird             22\n",
       "appoint           22\n",
       "remot             22\n",
       "applic            22\n",
       "teach             22\n",
       "hospit            22\n",
       "bed               22\n",
       "anim              22\n",
       "govern            21\n",
       "community         21\n",
       "obvious           21\n",
       "season            21\n",
       "tree              21\n",
       "choic             21\n",
       "therapist         21\n",
       "bank              21\n",
       "kinda             21\n",
       "guard             21\n",
       "page              21\n",
       "stadium           21\n",
       "ran               21\n",
       "field             21\n",
       "vegan             21\n",
       "perform           21\n",
       "renew             21\n",
       "winter            21\n",
       "cut               21\n",
       "queen             21\n",
       "death             21\n",
       "act               21\n",
       "alone             21\n",
       "pnw               21\n",
       "explain           21\n",
       "risk              21\n",
       "regular           21\n",
       "dtype: int64"
      ]
     },
     "execution_count": 98,
     "metadata": {},
     "output_type": "execute_result"
    }
   ],
   "source": [
    "sea_wa_top_1k.tail(50)"
   ]
  },
  {
   "cell_type": "code",
   "execution_count": 45,
   "id": "66c025ae-53a9-4a9d-bd3c-1461b60484c7",
   "metadata": {},
   "outputs": [
    {
     "name": "stdout",
     "output_type": "stream",
     "text": [
      "seattl    1342\n",
      "look       791\n",
      "like       788\n",
      "get        779\n",
      "it         714\n",
      "would      713\n",
      "know       663\n",
      "go         650\n",
      "anyon      643\n",
      "area       562\n",
      "dtype: int64\n"
     ]
    }
   ],
   "source": [
    "print(sea_wa_top10)"
   ]
  },
  {
   "cell_type": "markdown",
   "id": "00d36ff6-c074-4785-9c50-4372647a15e6",
   "metadata": {},
   "source": [
    "We see some neglibile changes in order of the 10 most common words. Moreover, the most common words are not really telling. Let us look into this more closely and examine the differences in rankings of each word."
   ]
  },
  {
   "cell_type": "code",
   "execution_count": 67,
   "id": "1b7e3194-2139-4689-9646-8eeec888f6a9",
   "metadata": {
    "scrolled": true,
    "tags": []
   },
   "outputs": [
    {
     "name": "stderr",
     "output_type": "stream",
     "text": [
      "C:\\Users\\John\\AppData\\Local\\Temp\\ipykernel_6492\\3662047222.py:9: PerformanceWarning: DataFrame is highly fragmented.  This is usually the result of calling `frame.insert` many times, which has poor performance.  Consider joining all columns at once using pd.concat(axis=1) instead. To get a de-fragmented frame, use `newframe = frame.copy()`\n",
      "  sea_word_freq[sea_wa_only_words] = 0\n",
      "C:\\Users\\John\\AppData\\Local\\Temp\\ipykernel_6492\\3662047222.py:9: PerformanceWarning: DataFrame is highly fragmented.  This is usually the result of calling `frame.insert` many times, which has poor performance.  Consider joining all columns at once using pd.concat(axis=1) instead. To get a de-fragmented frame, use `newframe = frame.copy()`\n",
      "  sea_word_freq[sea_wa_only_words] = 0\n",
      "C:\\Users\\John\\AppData\\Local\\Temp\\ipykernel_6492\\3662047222.py:9: PerformanceWarning: DataFrame is highly fragmented.  This is usually the result of calling `frame.insert` many times, which has poor performance.  Consider joining all columns at once using pd.concat(axis=1) instead. To get a de-fragmented frame, use `newframe = frame.copy()`\n",
      "  sea_word_freq[sea_wa_only_words] = 0\n",
      "C:\\Users\\John\\AppData\\Local\\Temp\\ipykernel_6492\\3662047222.py:9: PerformanceWarning: DataFrame is highly fragmented.  This is usually the result of calling `frame.insert` many times, which has poor performance.  Consider joining all columns at once using pd.concat(axis=1) instead. To get a de-fragmented frame, use `newframe = frame.copy()`\n",
      "  sea_word_freq[sea_wa_only_words] = 0\n",
      "C:\\Users\\John\\AppData\\Local\\Temp\\ipykernel_6492\\3662047222.py:9: PerformanceWarning: DataFrame is highly fragmented.  This is usually the result of calling `frame.insert` many times, which has poor performance.  Consider joining all columns at once using pd.concat(axis=1) instead. To get a de-fragmented frame, use `newframe = frame.copy()`\n",
      "  sea_word_freq[sea_wa_only_words] = 0\n",
      "C:\\Users\\John\\AppData\\Local\\Temp\\ipykernel_6492\\3662047222.py:9: PerformanceWarning: DataFrame is highly fragmented.  This is usually the result of calling `frame.insert` many times, which has poor performance.  Consider joining all columns at once using pd.concat(axis=1) instead. To get a de-fragmented frame, use `newframe = frame.copy()`\n",
      "  sea_word_freq[sea_wa_only_words] = 0\n",
      "C:\\Users\\John\\AppData\\Local\\Temp\\ipykernel_6492\\3662047222.py:9: PerformanceWarning: DataFrame is highly fragmented.  This is usually the result of calling `frame.insert` many times, which has poor performance.  Consider joining all columns at once using pd.concat(axis=1) instead. To get a de-fragmented frame, use `newframe = frame.copy()`\n",
      "  sea_word_freq[sea_wa_only_words] = 0\n",
      "C:\\Users\\John\\AppData\\Local\\Temp\\ipykernel_6492\\3662047222.py:9: PerformanceWarning: DataFrame is highly fragmented.  This is usually the result of calling `frame.insert` many times, which has poor performance.  Consider joining all columns at once using pd.concat(axis=1) instead. To get a de-fragmented frame, use `newframe = frame.copy()`\n",
      "  sea_word_freq[sea_wa_only_words] = 0\n",
      "C:\\Users\\John\\AppData\\Local\\Temp\\ipykernel_6492\\3662047222.py:9: PerformanceWarning: DataFrame is highly fragmented.  This is usually the result of calling `frame.insert` many times, which has poor performance.  Consider joining all columns at once using pd.concat(axis=1) instead. To get a de-fragmented frame, use `newframe = frame.copy()`\n",
      "  sea_word_freq[sea_wa_only_words] = 0\n",
      "C:\\Users\\John\\AppData\\Local\\Temp\\ipykernel_6492\\3662047222.py:9: PerformanceWarning: DataFrame is highly fragmented.  This is usually the result of calling `frame.insert` many times, which has poor performance.  Consider joining all columns at once using pd.concat(axis=1) instead. To get a de-fragmented frame, use `newframe = frame.copy()`\n",
      "  sea_word_freq[sea_wa_only_words] = 0\n",
      "C:\\Users\\John\\AppData\\Local\\Temp\\ipykernel_6492\\3662047222.py:9: PerformanceWarning: DataFrame is highly fragmented.  This is usually the result of calling `frame.insert` many times, which has poor performance.  Consider joining all columns at once using pd.concat(axis=1) instead. To get a de-fragmented frame, use `newframe = frame.copy()`\n",
      "  sea_word_freq[sea_wa_only_words] = 0\n",
      "C:\\Users\\John\\AppData\\Local\\Temp\\ipykernel_6492\\3662047222.py:9: PerformanceWarning: DataFrame is highly fragmented.  This is usually the result of calling `frame.insert` many times, which has poor performance.  Consider joining all columns at once using pd.concat(axis=1) instead. To get a de-fragmented frame, use `newframe = frame.copy()`\n",
      "  sea_word_freq[sea_wa_only_words] = 0\n",
      "C:\\Users\\John\\AppData\\Local\\Temp\\ipykernel_6492\\3662047222.py:9: PerformanceWarning: DataFrame is highly fragmented.  This is usually the result of calling `frame.insert` many times, which has poor performance.  Consider joining all columns at once using pd.concat(axis=1) instead. To get a de-fragmented frame, use `newframe = frame.copy()`\n",
      "  sea_word_freq[sea_wa_only_words] = 0\n",
      "C:\\Users\\John\\AppData\\Local\\Temp\\ipykernel_6492\\3662047222.py:9: PerformanceWarning: DataFrame is highly fragmented.  This is usually the result of calling `frame.insert` many times, which has poor performance.  Consider joining all columns at once using pd.concat(axis=1) instead. To get a de-fragmented frame, use `newframe = frame.copy()`\n",
      "  sea_word_freq[sea_wa_only_words] = 0\n",
      "C:\\Users\\John\\AppData\\Local\\Temp\\ipykernel_6492\\3662047222.py:9: PerformanceWarning: DataFrame is highly fragmented.  This is usually the result of calling `frame.insert` many times, which has poor performance.  Consider joining all columns at once using pd.concat(axis=1) instead. To get a de-fragmented frame, use `newframe = frame.copy()`\n",
      "  sea_word_freq[sea_wa_only_words] = 0\n",
      "C:\\Users\\John\\AppData\\Local\\Temp\\ipykernel_6492\\3662047222.py:9: PerformanceWarning: DataFrame is highly fragmented.  This is usually the result of calling `frame.insert` many times, which has poor performance.  Consider joining all columns at once using pd.concat(axis=1) instead. To get a de-fragmented frame, use `newframe = frame.copy()`\n",
      "  sea_word_freq[sea_wa_only_words] = 0\n",
      "C:\\Users\\John\\AppData\\Local\\Temp\\ipykernel_6492\\3662047222.py:9: PerformanceWarning: DataFrame is highly fragmented.  This is usually the result of calling `frame.insert` many times, which has poor performance.  Consider joining all columns at once using pd.concat(axis=1) instead. To get a de-fragmented frame, use `newframe = frame.copy()`\n",
      "  sea_word_freq[sea_wa_only_words] = 0\n",
      "C:\\Users\\John\\AppData\\Local\\Temp\\ipykernel_6492\\3662047222.py:9: PerformanceWarning: DataFrame is highly fragmented.  This is usually the result of calling `frame.insert` many times, which has poor performance.  Consider joining all columns at once using pd.concat(axis=1) instead. To get a de-fragmented frame, use `newframe = frame.copy()`\n",
      "  sea_word_freq[sea_wa_only_words] = 0\n",
      "C:\\Users\\John\\AppData\\Local\\Temp\\ipykernel_6492\\3662047222.py:9: PerformanceWarning: DataFrame is highly fragmented.  This is usually the result of calling `frame.insert` many times, which has poor performance.  Consider joining all columns at once using pd.concat(axis=1) instead. To get a de-fragmented frame, use `newframe = frame.copy()`\n",
      "  sea_word_freq[sea_wa_only_words] = 0\n",
      "C:\\Users\\John\\AppData\\Local\\Temp\\ipykernel_6492\\3662047222.py:9: PerformanceWarning: DataFrame is highly fragmented.  This is usually the result of calling `frame.insert` many times, which has poor performance.  Consider joining all columns at once using pd.concat(axis=1) instead. To get a de-fragmented frame, use `newframe = frame.copy()`\n",
      "  sea_word_freq[sea_wa_only_words] = 0\n",
      "C:\\Users\\John\\AppData\\Local\\Temp\\ipykernel_6492\\3662047222.py:9: PerformanceWarning: DataFrame is highly fragmented.  This is usually the result of calling `frame.insert` many times, which has poor performance.  Consider joining all columns at once using pd.concat(axis=1) instead. To get a de-fragmented frame, use `newframe = frame.copy()`\n",
      "  sea_word_freq[sea_wa_only_words] = 0\n",
      "C:\\Users\\John\\AppData\\Local\\Temp\\ipykernel_6492\\3662047222.py:9: PerformanceWarning: DataFrame is highly fragmented.  This is usually the result of calling `frame.insert` many times, which has poor performance.  Consider joining all columns at once using pd.concat(axis=1) instead. To get a de-fragmented frame, use `newframe = frame.copy()`\n",
      "  sea_word_freq[sea_wa_only_words] = 0\n",
      "C:\\Users\\John\\AppData\\Local\\Temp\\ipykernel_6492\\3662047222.py:9: PerformanceWarning: DataFrame is highly fragmented.  This is usually the result of calling `frame.insert` many times, which has poor performance.  Consider joining all columns at once using pd.concat(axis=1) instead. To get a de-fragmented frame, use `newframe = frame.copy()`\n",
      "  sea_word_freq[sea_wa_only_words] = 0\n",
      "C:\\Users\\John\\AppData\\Local\\Temp\\ipykernel_6492\\3662047222.py:9: PerformanceWarning: DataFrame is highly fragmented.  This is usually the result of calling `frame.insert` many times, which has poor performance.  Consider joining all columns at once using pd.concat(axis=1) instead. To get a de-fragmented frame, use `newframe = frame.copy()`\n",
      "  sea_word_freq[sea_wa_only_words] = 0\n",
      "C:\\Users\\John\\AppData\\Local\\Temp\\ipykernel_6492\\3662047222.py:9: PerformanceWarning: DataFrame is highly fragmented.  This is usually the result of calling `frame.insert` many times, which has poor performance.  Consider joining all columns at once using pd.concat(axis=1) instead. To get a de-fragmented frame, use `newframe = frame.copy()`\n",
      "  sea_word_freq[sea_wa_only_words] = 0\n",
      "C:\\Users\\John\\AppData\\Local\\Temp\\ipykernel_6492\\3662047222.py:9: PerformanceWarning: DataFrame is highly fragmented.  This is usually the result of calling `frame.insert` many times, which has poor performance.  Consider joining all columns at once using pd.concat(axis=1) instead. To get a de-fragmented frame, use `newframe = frame.copy()`\n",
      "  sea_word_freq[sea_wa_only_words] = 0\n",
      "C:\\Users\\John\\AppData\\Local\\Temp\\ipykernel_6492\\3662047222.py:9: PerformanceWarning: DataFrame is highly fragmented.  This is usually the result of calling `frame.insert` many times, which has poor performance.  Consider joining all columns at once using pd.concat(axis=1) instead. To get a de-fragmented frame, use `newframe = frame.copy()`\n",
      "  sea_word_freq[sea_wa_only_words] = 0\n",
      "C:\\Users\\John\\AppData\\Local\\Temp\\ipykernel_6492\\3662047222.py:9: PerformanceWarning: DataFrame is highly fragmented.  This is usually the result of calling `frame.insert` many times, which has poor performance.  Consider joining all columns at once using pd.concat(axis=1) instead. To get a de-fragmented frame, use `newframe = frame.copy()`\n",
      "  sea_word_freq[sea_wa_only_words] = 0\n",
      "C:\\Users\\John\\AppData\\Local\\Temp\\ipykernel_6492\\3662047222.py:9: PerformanceWarning: DataFrame is highly fragmented.  This is usually the result of calling `frame.insert` many times, which has poor performance.  Consider joining all columns at once using pd.concat(axis=1) instead. To get a de-fragmented frame, use `newframe = frame.copy()`\n",
      "  sea_word_freq[sea_wa_only_words] = 0\n",
      "C:\\Users\\John\\AppData\\Local\\Temp\\ipykernel_6492\\3662047222.py:9: PerformanceWarning: DataFrame is highly fragmented.  This is usually the result of calling `frame.insert` many times, which has poor performance.  Consider joining all columns at once using pd.concat(axis=1) instead. To get a de-fragmented frame, use `newframe = frame.copy()`\n",
      "  sea_word_freq[sea_wa_only_words] = 0\n",
      "C:\\Users\\John\\AppData\\Local\\Temp\\ipykernel_6492\\3662047222.py:9: PerformanceWarning: DataFrame is highly fragmented.  This is usually the result of calling `frame.insert` many times, which has poor performance.  Consider joining all columns at once using pd.concat(axis=1) instead. To get a de-fragmented frame, use `newframe = frame.copy()`\n",
      "  sea_word_freq[sea_wa_only_words] = 0\n",
      "C:\\Users\\John\\AppData\\Local\\Temp\\ipykernel_6492\\3662047222.py:9: PerformanceWarning: DataFrame is highly fragmented.  This is usually the result of calling `frame.insert` many times, which has poor performance.  Consider joining all columns at once using pd.concat(axis=1) instead. To get a de-fragmented frame, use `newframe = frame.copy()`\n",
      "  sea_word_freq[sea_wa_only_words] = 0\n",
      "C:\\Users\\John\\AppData\\Local\\Temp\\ipykernel_6492\\3662047222.py:9: PerformanceWarning: DataFrame is highly fragmented.  This is usually the result of calling `frame.insert` many times, which has poor performance.  Consider joining all columns at once using pd.concat(axis=1) instead. To get a de-fragmented frame, use `newframe = frame.copy()`\n",
      "  sea_word_freq[sea_wa_only_words] = 0\n",
      "C:\\Users\\John\\AppData\\Local\\Temp\\ipykernel_6492\\3662047222.py:9: PerformanceWarning: DataFrame is highly fragmented.  This is usually the result of calling `frame.insert` many times, which has poor performance.  Consider joining all columns at once using pd.concat(axis=1) instead. To get a de-fragmented frame, use `newframe = frame.copy()`\n",
      "  sea_word_freq[sea_wa_only_words] = 0\n",
      "C:\\Users\\John\\AppData\\Local\\Temp\\ipykernel_6492\\3662047222.py:9: PerformanceWarning: DataFrame is highly fragmented.  This is usually the result of calling `frame.insert` many times, which has poor performance.  Consider joining all columns at once using pd.concat(axis=1) instead. To get a de-fragmented frame, use `newframe = frame.copy()`\n",
      "  sea_word_freq[sea_wa_only_words] = 0\n",
      "C:\\Users\\John\\AppData\\Local\\Temp\\ipykernel_6492\\3662047222.py:9: PerformanceWarning: DataFrame is highly fragmented.  This is usually the result of calling `frame.insert` many times, which has poor performance.  Consider joining all columns at once using pd.concat(axis=1) instead. To get a de-fragmented frame, use `newframe = frame.copy()`\n",
      "  sea_word_freq[sea_wa_only_words] = 0\n",
      "C:\\Users\\John\\AppData\\Local\\Temp\\ipykernel_6492\\3662047222.py:9: PerformanceWarning: DataFrame is highly fragmented.  This is usually the result of calling `frame.insert` many times, which has poor performance.  Consider joining all columns at once using pd.concat(axis=1) instead. To get a de-fragmented frame, use `newframe = frame.copy()`\n",
      "  sea_word_freq[sea_wa_only_words] = 0\n",
      "C:\\Users\\John\\AppData\\Local\\Temp\\ipykernel_6492\\3662047222.py:9: PerformanceWarning: DataFrame is highly fragmented.  This is usually the result of calling `frame.insert` many times, which has poor performance.  Consider joining all columns at once using pd.concat(axis=1) instead. To get a de-fragmented frame, use `newframe = frame.copy()`\n",
      "  sea_word_freq[sea_wa_only_words] = 0\n",
      "C:\\Users\\John\\AppData\\Local\\Temp\\ipykernel_6492\\3662047222.py:9: PerformanceWarning: DataFrame is highly fragmented.  This is usually the result of calling `frame.insert` many times, which has poor performance.  Consider joining all columns at once using pd.concat(axis=1) instead. To get a de-fragmented frame, use `newframe = frame.copy()`\n",
      "  sea_word_freq[sea_wa_only_words] = 0\n",
      "C:\\Users\\John\\AppData\\Local\\Temp\\ipykernel_6492\\3662047222.py:9: PerformanceWarning: DataFrame is highly fragmented.  This is usually the result of calling `frame.insert` many times, which has poor performance.  Consider joining all columns at once using pd.concat(axis=1) instead. To get a de-fragmented frame, use `newframe = frame.copy()`\n",
      "  sea_word_freq[sea_wa_only_words] = 0\n",
      "C:\\Users\\John\\AppData\\Local\\Temp\\ipykernel_6492\\3662047222.py:9: PerformanceWarning: DataFrame is highly fragmented.  This is usually the result of calling `frame.insert` many times, which has poor performance.  Consider joining all columns at once using pd.concat(axis=1) instead. To get a de-fragmented frame, use `newframe = frame.copy()`\n",
      "  sea_word_freq[sea_wa_only_words] = 0\n",
      "C:\\Users\\John\\AppData\\Local\\Temp\\ipykernel_6492\\3662047222.py:9: PerformanceWarning: DataFrame is highly fragmented.  This is usually the result of calling `frame.insert` many times, which has poor performance.  Consider joining all columns at once using pd.concat(axis=1) instead. To get a de-fragmented frame, use `newframe = frame.copy()`\n",
      "  sea_word_freq[sea_wa_only_words] = 0\n",
      "C:\\Users\\John\\AppData\\Local\\Temp\\ipykernel_6492\\3662047222.py:9: PerformanceWarning: DataFrame is highly fragmented.  This is usually the result of calling `frame.insert` many times, which has poor performance.  Consider joining all columns at once using pd.concat(axis=1) instead. To get a de-fragmented frame, use `newframe = frame.copy()`\n",
      "  sea_word_freq[sea_wa_only_words] = 0\n",
      "C:\\Users\\John\\AppData\\Local\\Temp\\ipykernel_6492\\3662047222.py:9: PerformanceWarning: DataFrame is highly fragmented.  This is usually the result of calling `frame.insert` many times, which has poor performance.  Consider joining all columns at once using pd.concat(axis=1) instead. To get a de-fragmented frame, use `newframe = frame.copy()`\n",
      "  sea_word_freq[sea_wa_only_words] = 0\n",
      "C:\\Users\\John\\AppData\\Local\\Temp\\ipykernel_6492\\3662047222.py:9: PerformanceWarning: DataFrame is highly fragmented.  This is usually the result of calling `frame.insert` many times, which has poor performance.  Consider joining all columns at once using pd.concat(axis=1) instead. To get a de-fragmented frame, use `newframe = frame.copy()`\n",
      "  sea_word_freq[sea_wa_only_words] = 0\n",
      "C:\\Users\\John\\AppData\\Local\\Temp\\ipykernel_6492\\3662047222.py:9: PerformanceWarning: DataFrame is highly fragmented.  This is usually the result of calling `frame.insert` many times, which has poor performance.  Consider joining all columns at once using pd.concat(axis=1) instead. To get a de-fragmented frame, use `newframe = frame.copy()`\n",
      "  sea_word_freq[sea_wa_only_words] = 0\n",
      "C:\\Users\\John\\AppData\\Local\\Temp\\ipykernel_6492\\3662047222.py:9: PerformanceWarning: DataFrame is highly fragmented.  This is usually the result of calling `frame.insert` many times, which has poor performance.  Consider joining all columns at once using pd.concat(axis=1) instead. To get a de-fragmented frame, use `newframe = frame.copy()`\n",
      "  sea_word_freq[sea_wa_only_words] = 0\n",
      "C:\\Users\\John\\AppData\\Local\\Temp\\ipykernel_6492\\3662047222.py:9: PerformanceWarning: DataFrame is highly fragmented.  This is usually the result of calling `frame.insert` many times, which has poor performance.  Consider joining all columns at once using pd.concat(axis=1) instead. To get a de-fragmented frame, use `newframe = frame.copy()`\n",
      "  sea_word_freq[sea_wa_only_words] = 0\n",
      "C:\\Users\\John\\AppData\\Local\\Temp\\ipykernel_6492\\3662047222.py:9: PerformanceWarning: DataFrame is highly fragmented.  This is usually the result of calling `frame.insert` many times, which has poor performance.  Consider joining all columns at once using pd.concat(axis=1) instead. To get a de-fragmented frame, use `newframe = frame.copy()`\n",
      "  sea_word_freq[sea_wa_only_words] = 0\n",
      "C:\\Users\\John\\AppData\\Local\\Temp\\ipykernel_6492\\3662047222.py:9: PerformanceWarning: DataFrame is highly fragmented.  This is usually the result of calling `frame.insert` many times, which has poor performance.  Consider joining all columns at once using pd.concat(axis=1) instead. To get a de-fragmented frame, use `newframe = frame.copy()`\n",
      "  sea_word_freq[sea_wa_only_words] = 0\n",
      "C:\\Users\\John\\AppData\\Local\\Temp\\ipykernel_6492\\3662047222.py:9: PerformanceWarning: DataFrame is highly fragmented.  This is usually the result of calling `frame.insert` many times, which has poor performance.  Consider joining all columns at once using pd.concat(axis=1) instead. To get a de-fragmented frame, use `newframe = frame.copy()`\n",
      "  sea_word_freq[sea_wa_only_words] = 0\n",
      "C:\\Users\\John\\AppData\\Local\\Temp\\ipykernel_6492\\3662047222.py:9: PerformanceWarning: DataFrame is highly fragmented.  This is usually the result of calling `frame.insert` many times, which has poor performance.  Consider joining all columns at once using pd.concat(axis=1) instead. To get a de-fragmented frame, use `newframe = frame.copy()`\n",
      "  sea_word_freq[sea_wa_only_words] = 0\n",
      "C:\\Users\\John\\AppData\\Local\\Temp\\ipykernel_6492\\3662047222.py:9: PerformanceWarning: DataFrame is highly fragmented.  This is usually the result of calling `frame.insert` many times, which has poor performance.  Consider joining all columns at once using pd.concat(axis=1) instead. To get a de-fragmented frame, use `newframe = frame.copy()`\n",
      "  sea_word_freq[sea_wa_only_words] = 0\n",
      "C:\\Users\\John\\AppData\\Local\\Temp\\ipykernel_6492\\3662047222.py:9: PerformanceWarning: DataFrame is highly fragmented.  This is usually the result of calling `frame.insert` many times, which has poor performance.  Consider joining all columns at once using pd.concat(axis=1) instead. To get a de-fragmented frame, use `newframe = frame.copy()`\n",
      "  sea_word_freq[sea_wa_only_words] = 0\n",
      "C:\\Users\\John\\AppData\\Local\\Temp\\ipykernel_6492\\3662047222.py:9: PerformanceWarning: DataFrame is highly fragmented.  This is usually the result of calling `frame.insert` many times, which has poor performance.  Consider joining all columns at once using pd.concat(axis=1) instead. To get a de-fragmented frame, use `newframe = frame.copy()`\n",
      "  sea_word_freq[sea_wa_only_words] = 0\n",
      "C:\\Users\\John\\AppData\\Local\\Temp\\ipykernel_6492\\3662047222.py:9: PerformanceWarning: DataFrame is highly fragmented.  This is usually the result of calling `frame.insert` many times, which has poor performance.  Consider joining all columns at once using pd.concat(axis=1) instead. To get a de-fragmented frame, use `newframe = frame.copy()`\n",
      "  sea_word_freq[sea_wa_only_words] = 0\n",
      "C:\\Users\\John\\AppData\\Local\\Temp\\ipykernel_6492\\3662047222.py:9: PerformanceWarning: DataFrame is highly fragmented.  This is usually the result of calling `frame.insert` many times, which has poor performance.  Consider joining all columns at once using pd.concat(axis=1) instead. To get a de-fragmented frame, use `newframe = frame.copy()`\n",
      "  sea_word_freq[sea_wa_only_words] = 0\n",
      "C:\\Users\\John\\AppData\\Local\\Temp\\ipykernel_6492\\3662047222.py:9: PerformanceWarning: DataFrame is highly fragmented.  This is usually the result of calling `frame.insert` many times, which has poor performance.  Consider joining all columns at once using pd.concat(axis=1) instead. To get a de-fragmented frame, use `newframe = frame.copy()`\n",
      "  sea_word_freq[sea_wa_only_words] = 0\n",
      "C:\\Users\\John\\AppData\\Local\\Temp\\ipykernel_6492\\3662047222.py:9: PerformanceWarning: DataFrame is highly fragmented.  This is usually the result of calling `frame.insert` many times, which has poor performance.  Consider joining all columns at once using pd.concat(axis=1) instead. To get a de-fragmented frame, use `newframe = frame.copy()`\n",
      "  sea_word_freq[sea_wa_only_words] = 0\n",
      "C:\\Users\\John\\AppData\\Local\\Temp\\ipykernel_6492\\3662047222.py:9: PerformanceWarning: DataFrame is highly fragmented.  This is usually the result of calling `frame.insert` many times, which has poor performance.  Consider joining all columns at once using pd.concat(axis=1) instead. To get a de-fragmented frame, use `newframe = frame.copy()`\n",
      "  sea_word_freq[sea_wa_only_words] = 0\n",
      "C:\\Users\\John\\AppData\\Local\\Temp\\ipykernel_6492\\3662047222.py:9: PerformanceWarning: DataFrame is highly fragmented.  This is usually the result of calling `frame.insert` many times, which has poor performance.  Consider joining all columns at once using pd.concat(axis=1) instead. To get a de-fragmented frame, use `newframe = frame.copy()`\n",
      "  sea_word_freq[sea_wa_only_words] = 0\n",
      "C:\\Users\\John\\AppData\\Local\\Temp\\ipykernel_6492\\3662047222.py:9: PerformanceWarning: DataFrame is highly fragmented.  This is usually the result of calling `frame.insert` many times, which has poor performance.  Consider joining all columns at once using pd.concat(axis=1) instead. To get a de-fragmented frame, use `newframe = frame.copy()`\n",
      "  sea_word_freq[sea_wa_only_words] = 0\n",
      "C:\\Users\\John\\AppData\\Local\\Temp\\ipykernel_6492\\3662047222.py:9: PerformanceWarning: DataFrame is highly fragmented.  This is usually the result of calling `frame.insert` many times, which has poor performance.  Consider joining all columns at once using pd.concat(axis=1) instead. To get a de-fragmented frame, use `newframe = frame.copy()`\n",
      "  sea_word_freq[sea_wa_only_words] = 0\n",
      "C:\\Users\\John\\AppData\\Local\\Temp\\ipykernel_6492\\3662047222.py:9: PerformanceWarning: DataFrame is highly fragmented.  This is usually the result of calling `frame.insert` many times, which has poor performance.  Consider joining all columns at once using pd.concat(axis=1) instead. To get a de-fragmented frame, use `newframe = frame.copy()`\n",
      "  sea_word_freq[sea_wa_only_words] = 0\n",
      "C:\\Users\\John\\AppData\\Local\\Temp\\ipykernel_6492\\3662047222.py:9: PerformanceWarning: DataFrame is highly fragmented.  This is usually the result of calling `frame.insert` many times, which has poor performance.  Consider joining all columns at once using pd.concat(axis=1) instead. To get a de-fragmented frame, use `newframe = frame.copy()`\n",
      "  sea_word_freq[sea_wa_only_words] = 0\n",
      "C:\\Users\\John\\AppData\\Local\\Temp\\ipykernel_6492\\3662047222.py:9: PerformanceWarning: DataFrame is highly fragmented.  This is usually the result of calling `frame.insert` many times, which has poor performance.  Consider joining all columns at once using pd.concat(axis=1) instead. To get a de-fragmented frame, use `newframe = frame.copy()`\n",
      "  sea_word_freq[sea_wa_only_words] = 0\n",
      "C:\\Users\\John\\AppData\\Local\\Temp\\ipykernel_6492\\3662047222.py:9: PerformanceWarning: DataFrame is highly fragmented.  This is usually the result of calling `frame.insert` many times, which has poor performance.  Consider joining all columns at once using pd.concat(axis=1) instead. To get a de-fragmented frame, use `newframe = frame.copy()`\n",
      "  sea_word_freq[sea_wa_only_words] = 0\n",
      "C:\\Users\\John\\AppData\\Local\\Temp\\ipykernel_6492\\3662047222.py:9: PerformanceWarning: DataFrame is highly fragmented.  This is usually the result of calling `frame.insert` many times, which has poor performance.  Consider joining all columns at once using pd.concat(axis=1) instead. To get a de-fragmented frame, use `newframe = frame.copy()`\n",
      "  sea_word_freq[sea_wa_only_words] = 0\n",
      "C:\\Users\\John\\AppData\\Local\\Temp\\ipykernel_6492\\3662047222.py:9: PerformanceWarning: DataFrame is highly fragmented.  This is usually the result of calling `frame.insert` many times, which has poor performance.  Consider joining all columns at once using pd.concat(axis=1) instead. To get a de-fragmented frame, use `newframe = frame.copy()`\n",
      "  sea_word_freq[sea_wa_only_words] = 0\n",
      "C:\\Users\\John\\AppData\\Local\\Temp\\ipykernel_6492\\3662047222.py:9: PerformanceWarning: DataFrame is highly fragmented.  This is usually the result of calling `frame.insert` many times, which has poor performance.  Consider joining all columns at once using pd.concat(axis=1) instead. To get a de-fragmented frame, use `newframe = frame.copy()`\n",
      "  sea_word_freq[sea_wa_only_words] = 0\n",
      "C:\\Users\\John\\AppData\\Local\\Temp\\ipykernel_6492\\3662047222.py:9: PerformanceWarning: DataFrame is highly fragmented.  This is usually the result of calling `frame.insert` many times, which has poor performance.  Consider joining all columns at once using pd.concat(axis=1) instead. To get a de-fragmented frame, use `newframe = frame.copy()`\n",
      "  sea_word_freq[sea_wa_only_words] = 0\n",
      "C:\\Users\\John\\AppData\\Local\\Temp\\ipykernel_6492\\3662047222.py:9: PerformanceWarning: DataFrame is highly fragmented.  This is usually the result of calling `frame.insert` many times, which has poor performance.  Consider joining all columns at once using pd.concat(axis=1) instead. To get a de-fragmented frame, use `newframe = frame.copy()`\n",
      "  sea_word_freq[sea_wa_only_words] = 0\n",
      "C:\\Users\\John\\AppData\\Local\\Temp\\ipykernel_6492\\3662047222.py:9: PerformanceWarning: DataFrame is highly fragmented.  This is usually the result of calling `frame.insert` many times, which has poor performance.  Consider joining all columns at once using pd.concat(axis=1) instead. To get a de-fragmented frame, use `newframe = frame.copy()`\n",
      "  sea_word_freq[sea_wa_only_words] = 0\n",
      "C:\\Users\\John\\AppData\\Local\\Temp\\ipykernel_6492\\3662047222.py:9: PerformanceWarning: DataFrame is highly fragmented.  This is usually the result of calling `frame.insert` many times, which has poor performance.  Consider joining all columns at once using pd.concat(axis=1) instead. To get a de-fragmented frame, use `newframe = frame.copy()`\n",
      "  sea_word_freq[sea_wa_only_words] = 0\n",
      "C:\\Users\\John\\AppData\\Local\\Temp\\ipykernel_6492\\3662047222.py:9: PerformanceWarning: DataFrame is highly fragmented.  This is usually the result of calling `frame.insert` many times, which has poor performance.  Consider joining all columns at once using pd.concat(axis=1) instead. To get a de-fragmented frame, use `newframe = frame.copy()`\n",
      "  sea_word_freq[sea_wa_only_words] = 0\n",
      "C:\\Users\\John\\AppData\\Local\\Temp\\ipykernel_6492\\3662047222.py:9: PerformanceWarning: DataFrame is highly fragmented.  This is usually the result of calling `frame.insert` many times, which has poor performance.  Consider joining all columns at once using pd.concat(axis=1) instead. To get a de-fragmented frame, use `newframe = frame.copy()`\n",
      "  sea_word_freq[sea_wa_only_words] = 0\n",
      "C:\\Users\\John\\AppData\\Local\\Temp\\ipykernel_6492\\3662047222.py:9: PerformanceWarning: DataFrame is highly fragmented.  This is usually the result of calling `frame.insert` many times, which has poor performance.  Consider joining all columns at once using pd.concat(axis=1) instead. To get a de-fragmented frame, use `newframe = frame.copy()`\n",
      "  sea_word_freq[sea_wa_only_words] = 0\n",
      "C:\\Users\\John\\AppData\\Local\\Temp\\ipykernel_6492\\3662047222.py:9: PerformanceWarning: DataFrame is highly fragmented.  This is usually the result of calling `frame.insert` many times, which has poor performance.  Consider joining all columns at once using pd.concat(axis=1) instead. To get a de-fragmented frame, use `newframe = frame.copy()`\n",
      "  sea_word_freq[sea_wa_only_words] = 0\n",
      "C:\\Users\\John\\AppData\\Local\\Temp\\ipykernel_6492\\3662047222.py:9: PerformanceWarning: DataFrame is highly fragmented.  This is usually the result of calling `frame.insert` many times, which has poor performance.  Consider joining all columns at once using pd.concat(axis=1) instead. To get a de-fragmented frame, use `newframe = frame.copy()`\n",
      "  sea_word_freq[sea_wa_only_words] = 0\n",
      "C:\\Users\\John\\AppData\\Local\\Temp\\ipykernel_6492\\3662047222.py:9: PerformanceWarning: DataFrame is highly fragmented.  This is usually the result of calling `frame.insert` many times, which has poor performance.  Consider joining all columns at once using pd.concat(axis=1) instead. To get a de-fragmented frame, use `newframe = frame.copy()`\n",
      "  sea_word_freq[sea_wa_only_words] = 0\n",
      "C:\\Users\\John\\AppData\\Local\\Temp\\ipykernel_6492\\3662047222.py:9: PerformanceWarning: DataFrame is highly fragmented.  This is usually the result of calling `frame.insert` many times, which has poor performance.  Consider joining all columns at once using pd.concat(axis=1) instead. To get a de-fragmented frame, use `newframe = frame.copy()`\n",
      "  sea_word_freq[sea_wa_only_words] = 0\n",
      "C:\\Users\\John\\AppData\\Local\\Temp\\ipykernel_6492\\3662047222.py:9: PerformanceWarning: DataFrame is highly fragmented.  This is usually the result of calling `frame.insert` many times, which has poor performance.  Consider joining all columns at once using pd.concat(axis=1) instead. To get a de-fragmented frame, use `newframe = frame.copy()`\n",
      "  sea_word_freq[sea_wa_only_words] = 0\n",
      "C:\\Users\\John\\AppData\\Local\\Temp\\ipykernel_6492\\3662047222.py:9: PerformanceWarning: DataFrame is highly fragmented.  This is usually the result of calling `frame.insert` many times, which has poor performance.  Consider joining all columns at once using pd.concat(axis=1) instead. To get a de-fragmented frame, use `newframe = frame.copy()`\n",
      "  sea_word_freq[sea_wa_only_words] = 0\n",
      "C:\\Users\\John\\AppData\\Local\\Temp\\ipykernel_6492\\3662047222.py:9: PerformanceWarning: DataFrame is highly fragmented.  This is usually the result of calling `frame.insert` many times, which has poor performance.  Consider joining all columns at once using pd.concat(axis=1) instead. To get a de-fragmented frame, use `newframe = frame.copy()`\n",
      "  sea_word_freq[sea_wa_only_words] = 0\n",
      "C:\\Users\\John\\AppData\\Local\\Temp\\ipykernel_6492\\3662047222.py:9: PerformanceWarning: DataFrame is highly fragmented.  This is usually the result of calling `frame.insert` many times, which has poor performance.  Consider joining all columns at once using pd.concat(axis=1) instead. To get a de-fragmented frame, use `newframe = frame.copy()`\n",
      "  sea_word_freq[sea_wa_only_words] = 0\n",
      "C:\\Users\\John\\AppData\\Local\\Temp\\ipykernel_6492\\3662047222.py:9: PerformanceWarning: DataFrame is highly fragmented.  This is usually the result of calling `frame.insert` many times, which has poor performance.  Consider joining all columns at once using pd.concat(axis=1) instead. To get a de-fragmented frame, use `newframe = frame.copy()`\n",
      "  sea_word_freq[sea_wa_only_words] = 0\n",
      "C:\\Users\\John\\AppData\\Local\\Temp\\ipykernel_6492\\3662047222.py:9: PerformanceWarning: DataFrame is highly fragmented.  This is usually the result of calling `frame.insert` many times, which has poor performance.  Consider joining all columns at once using pd.concat(axis=1) instead. To get a de-fragmented frame, use `newframe = frame.copy()`\n",
      "  sea_word_freq[sea_wa_only_words] = 0\n",
      "C:\\Users\\John\\AppData\\Local\\Temp\\ipykernel_6492\\3662047222.py:9: PerformanceWarning: DataFrame is highly fragmented.  This is usually the result of calling `frame.insert` many times, which has poor performance.  Consider joining all columns at once using pd.concat(axis=1) instead. To get a de-fragmented frame, use `newframe = frame.copy()`\n",
      "  sea_word_freq[sea_wa_only_words] = 0\n",
      "C:\\Users\\John\\AppData\\Local\\Temp\\ipykernel_6492\\3662047222.py:9: PerformanceWarning: DataFrame is highly fragmented.  This is usually the result of calling `frame.insert` many times, which has poor performance.  Consider joining all columns at once using pd.concat(axis=1) instead. To get a de-fragmented frame, use `newframe = frame.copy()`\n",
      "  sea_word_freq[sea_wa_only_words] = 0\n",
      "C:\\Users\\John\\AppData\\Local\\Temp\\ipykernel_6492\\3662047222.py:9: PerformanceWarning: DataFrame is highly fragmented.  This is usually the result of calling `frame.insert` many times, which has poor performance.  Consider joining all columns at once using pd.concat(axis=1) instead. To get a de-fragmented frame, use `newframe = frame.copy()`\n",
      "  sea_word_freq[sea_wa_only_words] = 0\n",
      "C:\\Users\\John\\AppData\\Local\\Temp\\ipykernel_6492\\3662047222.py:9: PerformanceWarning: DataFrame is highly fragmented.  This is usually the result of calling `frame.insert` many times, which has poor performance.  Consider joining all columns at once using pd.concat(axis=1) instead. To get a de-fragmented frame, use `newframe = frame.copy()`\n",
      "  sea_word_freq[sea_wa_only_words] = 0\n",
      "C:\\Users\\John\\AppData\\Local\\Temp\\ipykernel_6492\\3662047222.py:9: PerformanceWarning: DataFrame is highly fragmented.  This is usually the result of calling `frame.insert` many times, which has poor performance.  Consider joining all columns at once using pd.concat(axis=1) instead. To get a de-fragmented frame, use `newframe = frame.copy()`\n",
      "  sea_word_freq[sea_wa_only_words] = 0\n",
      "C:\\Users\\John\\AppData\\Local\\Temp\\ipykernel_6492\\3662047222.py:9: PerformanceWarning: DataFrame is highly fragmented.  This is usually the result of calling `frame.insert` many times, which has poor performance.  Consider joining all columns at once using pd.concat(axis=1) instead. To get a de-fragmented frame, use `newframe = frame.copy()`\n",
      "  sea_word_freq[sea_wa_only_words] = 0\n",
      "C:\\Users\\John\\AppData\\Local\\Temp\\ipykernel_6492\\3662047222.py:9: PerformanceWarning: DataFrame is highly fragmented.  This is usually the result of calling `frame.insert` many times, which has poor performance.  Consider joining all columns at once using pd.concat(axis=1) instead. To get a de-fragmented frame, use `newframe = frame.copy()`\n",
      "  sea_word_freq[sea_wa_only_words] = 0\n",
      "C:\\Users\\John\\AppData\\Local\\Temp\\ipykernel_6492\\3662047222.py:9: PerformanceWarning: DataFrame is highly fragmented.  This is usually the result of calling `frame.insert` many times, which has poor performance.  Consider joining all columns at once using pd.concat(axis=1) instead. To get a de-fragmented frame, use `newframe = frame.copy()`\n",
      "  sea_word_freq[sea_wa_only_words] = 0\n",
      "C:\\Users\\John\\AppData\\Local\\Temp\\ipykernel_6492\\3662047222.py:9: PerformanceWarning: DataFrame is highly fragmented.  This is usually the result of calling `frame.insert` many times, which has poor performance.  Consider joining all columns at once using pd.concat(axis=1) instead. To get a de-fragmented frame, use `newframe = frame.copy()`\n",
      "  sea_word_freq[sea_wa_only_words] = 0\n",
      "C:\\Users\\John\\AppData\\Local\\Temp\\ipykernel_6492\\3662047222.py:9: PerformanceWarning: DataFrame is highly fragmented.  This is usually the result of calling `frame.insert` many times, which has poor performance.  Consider joining all columns at once using pd.concat(axis=1) instead. To get a de-fragmented frame, use `newframe = frame.copy()`\n",
      "  sea_word_freq[sea_wa_only_words] = 0\n",
      "C:\\Users\\John\\AppData\\Local\\Temp\\ipykernel_6492\\3662047222.py:9: PerformanceWarning: DataFrame is highly fragmented.  This is usually the result of calling `frame.insert` many times, which has poor performance.  Consider joining all columns at once using pd.concat(axis=1) instead. To get a de-fragmented frame, use `newframe = frame.copy()`\n",
      "  sea_word_freq[sea_wa_only_words] = 0\n",
      "C:\\Users\\John\\AppData\\Local\\Temp\\ipykernel_6492\\3662047222.py:9: PerformanceWarning: DataFrame is highly fragmented.  This is usually the result of calling `frame.insert` many times, which has poor performance.  Consider joining all columns at once using pd.concat(axis=1) instead. To get a de-fragmented frame, use `newframe = frame.copy()`\n",
      "  sea_word_freq[sea_wa_only_words] = 0\n",
      "C:\\Users\\John\\AppData\\Local\\Temp\\ipykernel_6492\\3662047222.py:9: PerformanceWarning: DataFrame is highly fragmented.  This is usually the result of calling `frame.insert` many times, which has poor performance.  Consider joining all columns at once using pd.concat(axis=1) instead. To get a de-fragmented frame, use `newframe = frame.copy()`\n",
      "  sea_word_freq[sea_wa_only_words] = 0\n",
      "C:\\Users\\John\\AppData\\Local\\Temp\\ipykernel_6492\\3662047222.py:9: PerformanceWarning: DataFrame is highly fragmented.  This is usually the result of calling `frame.insert` many times, which has poor performance.  Consider joining all columns at once using pd.concat(axis=1) instead. To get a de-fragmented frame, use `newframe = frame.copy()`\n",
      "  sea_word_freq[sea_wa_only_words] = 0\n",
      "C:\\Users\\John\\AppData\\Local\\Temp\\ipykernel_6492\\3662047222.py:9: PerformanceWarning: DataFrame is highly fragmented.  This is usually the result of calling `frame.insert` many times, which has poor performance.  Consider joining all columns at once using pd.concat(axis=1) instead. To get a de-fragmented frame, use `newframe = frame.copy()`\n",
      "  sea_word_freq[sea_wa_only_words] = 0\n",
      "C:\\Users\\John\\AppData\\Local\\Temp\\ipykernel_6492\\3662047222.py:9: PerformanceWarning: DataFrame is highly fragmented.  This is usually the result of calling `frame.insert` many times, which has poor performance.  Consider joining all columns at once using pd.concat(axis=1) instead. To get a de-fragmented frame, use `newframe = frame.copy()`\n",
      "  sea_word_freq[sea_wa_only_words] = 0\n",
      "C:\\Users\\John\\AppData\\Local\\Temp\\ipykernel_6492\\3662047222.py:9: PerformanceWarning: DataFrame is highly fragmented.  This is usually the result of calling `frame.insert` many times, which has poor performance.  Consider joining all columns at once using pd.concat(axis=1) instead. To get a de-fragmented frame, use `newframe = frame.copy()`\n",
      "  sea_word_freq[sea_wa_only_words] = 0\n",
      "C:\\Users\\John\\AppData\\Local\\Temp\\ipykernel_6492\\3662047222.py:9: PerformanceWarning: DataFrame is highly fragmented.  This is usually the result of calling `frame.insert` many times, which has poor performance.  Consider joining all columns at once using pd.concat(axis=1) instead. To get a de-fragmented frame, use `newframe = frame.copy()`\n",
      "  sea_word_freq[sea_wa_only_words] = 0\n",
      "C:\\Users\\John\\AppData\\Local\\Temp\\ipykernel_6492\\3662047222.py:9: PerformanceWarning: DataFrame is highly fragmented.  This is usually the result of calling `frame.insert` many times, which has poor performance.  Consider joining all columns at once using pd.concat(axis=1) instead. To get a de-fragmented frame, use `newframe = frame.copy()`\n",
      "  sea_word_freq[sea_wa_only_words] = 0\n",
      "C:\\Users\\John\\AppData\\Local\\Temp\\ipykernel_6492\\3662047222.py:9: PerformanceWarning: DataFrame is highly fragmented.  This is usually the result of calling `frame.insert` many times, which has poor performance.  Consider joining all columns at once using pd.concat(axis=1) instead. To get a de-fragmented frame, use `newframe = frame.copy()`\n",
      "  sea_word_freq[sea_wa_only_words] = 0\n",
      "C:\\Users\\John\\AppData\\Local\\Temp\\ipykernel_6492\\3662047222.py:9: PerformanceWarning: DataFrame is highly fragmented.  This is usually the result of calling `frame.insert` many times, which has poor performance.  Consider joining all columns at once using pd.concat(axis=1) instead. To get a de-fragmented frame, use `newframe = frame.copy()`\n",
      "  sea_word_freq[sea_wa_only_words] = 0\n",
      "C:\\Users\\John\\AppData\\Local\\Temp\\ipykernel_6492\\3662047222.py:9: PerformanceWarning: DataFrame is highly fragmented.  This is usually the result of calling `frame.insert` many times, which has poor performance.  Consider joining all columns at once using pd.concat(axis=1) instead. To get a de-fragmented frame, use `newframe = frame.copy()`\n",
      "  sea_word_freq[sea_wa_only_words] = 0\n",
      "C:\\Users\\John\\AppData\\Local\\Temp\\ipykernel_6492\\3662047222.py:9: PerformanceWarning: DataFrame is highly fragmented.  This is usually the result of calling `frame.insert` many times, which has poor performance.  Consider joining all columns at once using pd.concat(axis=1) instead. To get a de-fragmented frame, use `newframe = frame.copy()`\n",
      "  sea_word_freq[sea_wa_only_words] = 0\n",
      "C:\\Users\\John\\AppData\\Local\\Temp\\ipykernel_6492\\3662047222.py:9: PerformanceWarning: DataFrame is highly fragmented.  This is usually the result of calling `frame.insert` many times, which has poor performance.  Consider joining all columns at once using pd.concat(axis=1) instead. To get a de-fragmented frame, use `newframe = frame.copy()`\n",
      "  sea_word_freq[sea_wa_only_words] = 0\n",
      "C:\\Users\\John\\AppData\\Local\\Temp\\ipykernel_6492\\3662047222.py:9: PerformanceWarning: DataFrame is highly fragmented.  This is usually the result of calling `frame.insert` many times, which has poor performance.  Consider joining all columns at once using pd.concat(axis=1) instead. To get a de-fragmented frame, use `newframe = frame.copy()`\n",
      "  sea_word_freq[sea_wa_only_words] = 0\n",
      "C:\\Users\\John\\AppData\\Local\\Temp\\ipykernel_6492\\3662047222.py:9: PerformanceWarning: DataFrame is highly fragmented.  This is usually the result of calling `frame.insert` many times, which has poor performance.  Consider joining all columns at once using pd.concat(axis=1) instead. To get a de-fragmented frame, use `newframe = frame.copy()`\n",
      "  sea_word_freq[sea_wa_only_words] = 0\n",
      "C:\\Users\\John\\AppData\\Local\\Temp\\ipykernel_6492\\3662047222.py:9: PerformanceWarning: DataFrame is highly fragmented.  This is usually the result of calling `frame.insert` many times, which has poor performance.  Consider joining all columns at once using pd.concat(axis=1) instead. To get a de-fragmented frame, use `newframe = frame.copy()`\n",
      "  sea_word_freq[sea_wa_only_words] = 0\n",
      "C:\\Users\\John\\AppData\\Local\\Temp\\ipykernel_6492\\3662047222.py:9: PerformanceWarning: DataFrame is highly fragmented.  This is usually the result of calling `frame.insert` many times, which has poor performance.  Consider joining all columns at once using pd.concat(axis=1) instead. To get a de-fragmented frame, use `newframe = frame.copy()`\n",
      "  sea_word_freq[sea_wa_only_words] = 0\n",
      "C:\\Users\\John\\AppData\\Local\\Temp\\ipykernel_6492\\3662047222.py:9: PerformanceWarning: DataFrame is highly fragmented.  This is usually the result of calling `frame.insert` many times, which has poor performance.  Consider joining all columns at once using pd.concat(axis=1) instead. To get a de-fragmented frame, use `newframe = frame.copy()`\n",
      "  sea_word_freq[sea_wa_only_words] = 0\n",
      "C:\\Users\\John\\AppData\\Local\\Temp\\ipykernel_6492\\3662047222.py:9: PerformanceWarning: DataFrame is highly fragmented.  This is usually the result of calling `frame.insert` many times, which has poor performance.  Consider joining all columns at once using pd.concat(axis=1) instead. To get a de-fragmented frame, use `newframe = frame.copy()`\n",
      "  sea_word_freq[sea_wa_only_words] = 0\n",
      "C:\\Users\\John\\AppData\\Local\\Temp\\ipykernel_6492\\3662047222.py:9: PerformanceWarning: DataFrame is highly fragmented.  This is usually the result of calling `frame.insert` many times, which has poor performance.  Consider joining all columns at once using pd.concat(axis=1) instead. To get a de-fragmented frame, use `newframe = frame.copy()`\n",
      "  sea_word_freq[sea_wa_only_words] = 0\n",
      "C:\\Users\\John\\AppData\\Local\\Temp\\ipykernel_6492\\3662047222.py:9: PerformanceWarning: DataFrame is highly fragmented.  This is usually the result of calling `frame.insert` many times, which has poor performance.  Consider joining all columns at once using pd.concat(axis=1) instead. To get a de-fragmented frame, use `newframe = frame.copy()`\n",
      "  sea_word_freq[sea_wa_only_words] = 0\n",
      "C:\\Users\\John\\AppData\\Local\\Temp\\ipykernel_6492\\3662047222.py:9: PerformanceWarning: DataFrame is highly fragmented.  This is usually the result of calling `frame.insert` many times, which has poor performance.  Consider joining all columns at once using pd.concat(axis=1) instead. To get a de-fragmented frame, use `newframe = frame.copy()`\n",
      "  sea_word_freq[sea_wa_only_words] = 0\n",
      "C:\\Users\\John\\AppData\\Local\\Temp\\ipykernel_6492\\3662047222.py:9: PerformanceWarning: DataFrame is highly fragmented.  This is usually the result of calling `frame.insert` many times, which has poor performance.  Consider joining all columns at once using pd.concat(axis=1) instead. To get a de-fragmented frame, use `newframe = frame.copy()`\n",
      "  sea_word_freq[sea_wa_only_words] = 0\n",
      "C:\\Users\\John\\AppData\\Local\\Temp\\ipykernel_6492\\3662047222.py:9: PerformanceWarning: DataFrame is highly fragmented.  This is usually the result of calling `frame.insert` many times, which has poor performance.  Consider joining all columns at once using pd.concat(axis=1) instead. To get a de-fragmented frame, use `newframe = frame.copy()`\n",
      "  sea_word_freq[sea_wa_only_words] = 0\n",
      "C:\\Users\\John\\AppData\\Local\\Temp\\ipykernel_6492\\3662047222.py:9: PerformanceWarning: DataFrame is highly fragmented.  This is usually the result of calling `frame.insert` many times, which has poor performance.  Consider joining all columns at once using pd.concat(axis=1) instead. To get a de-fragmented frame, use `newframe = frame.copy()`\n",
      "  sea_word_freq[sea_wa_only_words] = 0\n",
      "C:\\Users\\John\\AppData\\Local\\Temp\\ipykernel_6492\\3662047222.py:9: PerformanceWarning: DataFrame is highly fragmented.  This is usually the result of calling `frame.insert` many times, which has poor performance.  Consider joining all columns at once using pd.concat(axis=1) instead. To get a de-fragmented frame, use `newframe = frame.copy()`\n",
      "  sea_word_freq[sea_wa_only_words] = 0\n",
      "C:\\Users\\John\\AppData\\Local\\Temp\\ipykernel_6492\\3662047222.py:9: PerformanceWarning: DataFrame is highly fragmented.  This is usually the result of calling `frame.insert` many times, which has poor performance.  Consider joining all columns at once using pd.concat(axis=1) instead. To get a de-fragmented frame, use `newframe = frame.copy()`\n",
      "  sea_word_freq[sea_wa_only_words] = 0\n",
      "C:\\Users\\John\\AppData\\Local\\Temp\\ipykernel_6492\\3662047222.py:9: PerformanceWarning: DataFrame is highly fragmented.  This is usually the result of calling `frame.insert` many times, which has poor performance.  Consider joining all columns at once using pd.concat(axis=1) instead. To get a de-fragmented frame, use `newframe = frame.copy()`\n",
      "  sea_word_freq[sea_wa_only_words] = 0\n",
      "C:\\Users\\John\\AppData\\Local\\Temp\\ipykernel_6492\\3662047222.py:9: PerformanceWarning: DataFrame is highly fragmented.  This is usually the result of calling `frame.insert` many times, which has poor performance.  Consider joining all columns at once using pd.concat(axis=1) instead. To get a de-fragmented frame, use `newframe = frame.copy()`\n",
      "  sea_word_freq[sea_wa_only_words] = 0\n",
      "C:\\Users\\John\\AppData\\Local\\Temp\\ipykernel_6492\\3662047222.py:9: PerformanceWarning: DataFrame is highly fragmented.  This is usually the result of calling `frame.insert` many times, which has poor performance.  Consider joining all columns at once using pd.concat(axis=1) instead. To get a de-fragmented frame, use `newframe = frame.copy()`\n",
      "  sea_word_freq[sea_wa_only_words] = 0\n",
      "C:\\Users\\John\\AppData\\Local\\Temp\\ipykernel_6492\\3662047222.py:9: PerformanceWarning: DataFrame is highly fragmented.  This is usually the result of calling `frame.insert` many times, which has poor performance.  Consider joining all columns at once using pd.concat(axis=1) instead. To get a de-fragmented frame, use `newframe = frame.copy()`\n",
      "  sea_word_freq[sea_wa_only_words] = 0\n",
      "C:\\Users\\John\\AppData\\Local\\Temp\\ipykernel_6492\\3662047222.py:9: PerformanceWarning: DataFrame is highly fragmented.  This is usually the result of calling `frame.insert` many times, which has poor performance.  Consider joining all columns at once using pd.concat(axis=1) instead. To get a de-fragmented frame, use `newframe = frame.copy()`\n",
      "  sea_word_freq[sea_wa_only_words] = 0\n",
      "C:\\Users\\John\\AppData\\Local\\Temp\\ipykernel_6492\\3662047222.py:9: PerformanceWarning: DataFrame is highly fragmented.  This is usually the result of calling `frame.insert` many times, which has poor performance.  Consider joining all columns at once using pd.concat(axis=1) instead. To get a de-fragmented frame, use `newframe = frame.copy()`\n",
      "  sea_word_freq[sea_wa_only_words] = 0\n",
      "C:\\Users\\John\\AppData\\Local\\Temp\\ipykernel_6492\\3662047222.py:9: PerformanceWarning: DataFrame is highly fragmented.  This is usually the result of calling `frame.insert` many times, which has poor performance.  Consider joining all columns at once using pd.concat(axis=1) instead. To get a de-fragmented frame, use `newframe = frame.copy()`\n",
      "  sea_word_freq[sea_wa_only_words] = 0\n",
      "C:\\Users\\John\\AppData\\Local\\Temp\\ipykernel_6492\\3662047222.py:9: PerformanceWarning: DataFrame is highly fragmented.  This is usually the result of calling `frame.insert` many times, which has poor performance.  Consider joining all columns at once using pd.concat(axis=1) instead. To get a de-fragmented frame, use `newframe = frame.copy()`\n",
      "  sea_word_freq[sea_wa_only_words] = 0\n",
      "C:\\Users\\John\\AppData\\Local\\Temp\\ipykernel_6492\\3662047222.py:9: PerformanceWarning: DataFrame is highly fragmented.  This is usually the result of calling `frame.insert` many times, which has poor performance.  Consider joining all columns at once using pd.concat(axis=1) instead. To get a de-fragmented frame, use `newframe = frame.copy()`\n",
      "  sea_word_freq[sea_wa_only_words] = 0\n",
      "C:\\Users\\John\\AppData\\Local\\Temp\\ipykernel_6492\\3662047222.py:9: PerformanceWarning: DataFrame is highly fragmented.  This is usually the result of calling `frame.insert` many times, which has poor performance.  Consider joining all columns at once using pd.concat(axis=1) instead. To get a de-fragmented frame, use `newframe = frame.copy()`\n",
      "  sea_word_freq[sea_wa_only_words] = 0\n",
      "C:\\Users\\John\\AppData\\Local\\Temp\\ipykernel_6492\\3662047222.py:9: PerformanceWarning: DataFrame is highly fragmented.  This is usually the result of calling `frame.insert` many times, which has poor performance.  Consider joining all columns at once using pd.concat(axis=1) instead. To get a de-fragmented frame, use `newframe = frame.copy()`\n",
      "  sea_word_freq[sea_wa_only_words] = 0\n",
      "C:\\Users\\John\\AppData\\Local\\Temp\\ipykernel_6492\\3662047222.py:9: PerformanceWarning: DataFrame is highly fragmented.  This is usually the result of calling `frame.insert` many times, which has poor performance.  Consider joining all columns at once using pd.concat(axis=1) instead. To get a de-fragmented frame, use `newframe = frame.copy()`\n",
      "  sea_word_freq[sea_wa_only_words] = 0\n",
      "C:\\Users\\John\\AppData\\Local\\Temp\\ipykernel_6492\\3662047222.py:9: PerformanceWarning: DataFrame is highly fragmented.  This is usually the result of calling `frame.insert` many times, which has poor performance.  Consider joining all columns at once using pd.concat(axis=1) instead. To get a de-fragmented frame, use `newframe = frame.copy()`\n",
      "  sea_word_freq[sea_wa_only_words] = 0\n",
      "C:\\Users\\John\\AppData\\Local\\Temp\\ipykernel_6492\\3662047222.py:9: PerformanceWarning: DataFrame is highly fragmented.  This is usually the result of calling `frame.insert` many times, which has poor performance.  Consider joining all columns at once using pd.concat(axis=1) instead. To get a de-fragmented frame, use `newframe = frame.copy()`\n",
      "  sea_word_freq[sea_wa_only_words] = 0\n",
      "C:\\Users\\John\\AppData\\Local\\Temp\\ipykernel_6492\\3662047222.py:9: PerformanceWarning: DataFrame is highly fragmented.  This is usually the result of calling `frame.insert` many times, which has poor performance.  Consider joining all columns at once using pd.concat(axis=1) instead. To get a de-fragmented frame, use `newframe = frame.copy()`\n",
      "  sea_word_freq[sea_wa_only_words] = 0\n",
      "C:\\Users\\John\\AppData\\Local\\Temp\\ipykernel_6492\\3662047222.py:9: PerformanceWarning: DataFrame is highly fragmented.  This is usually the result of calling `frame.insert` many times, which has poor performance.  Consider joining all columns at once using pd.concat(axis=1) instead. To get a de-fragmented frame, use `newframe = frame.copy()`\n",
      "  sea_word_freq[sea_wa_only_words] = 0\n",
      "C:\\Users\\John\\AppData\\Local\\Temp\\ipykernel_6492\\3662047222.py:9: PerformanceWarning: DataFrame is highly fragmented.  This is usually the result of calling `frame.insert` many times, which has poor performance.  Consider joining all columns at once using pd.concat(axis=1) instead. To get a de-fragmented frame, use `newframe = frame.copy()`\n",
      "  sea_word_freq[sea_wa_only_words] = 0\n",
      "C:\\Users\\John\\AppData\\Local\\Temp\\ipykernel_6492\\3662047222.py:9: PerformanceWarning: DataFrame is highly fragmented.  This is usually the result of calling `frame.insert` many times, which has poor performance.  Consider joining all columns at once using pd.concat(axis=1) instead. To get a de-fragmented frame, use `newframe = frame.copy()`\n",
      "  sea_word_freq[sea_wa_only_words] = 0\n",
      "C:\\Users\\John\\AppData\\Local\\Temp\\ipykernel_6492\\3662047222.py:9: PerformanceWarning: DataFrame is highly fragmented.  This is usually the result of calling `frame.insert` many times, which has poor performance.  Consider joining all columns at once using pd.concat(axis=1) instead. To get a de-fragmented frame, use `newframe = frame.copy()`\n",
      "  sea_word_freq[sea_wa_only_words] = 0\n",
      "C:\\Users\\John\\AppData\\Local\\Temp\\ipykernel_6492\\3662047222.py:9: PerformanceWarning: DataFrame is highly fragmented.  This is usually the result of calling `frame.insert` many times, which has poor performance.  Consider joining all columns at once using pd.concat(axis=1) instead. To get a de-fragmented frame, use `newframe = frame.copy()`\n",
      "  sea_word_freq[sea_wa_only_words] = 0\n",
      "C:\\Users\\John\\AppData\\Local\\Temp\\ipykernel_6492\\3662047222.py:9: PerformanceWarning: DataFrame is highly fragmented.  This is usually the result of calling `frame.insert` many times, which has poor performance.  Consider joining all columns at once using pd.concat(axis=1) instead. To get a de-fragmented frame, use `newframe = frame.copy()`\n",
      "  sea_word_freq[sea_wa_only_words] = 0\n",
      "C:\\Users\\John\\AppData\\Local\\Temp\\ipykernel_6492\\3662047222.py:9: PerformanceWarning: DataFrame is highly fragmented.  This is usually the result of calling `frame.insert` many times, which has poor performance.  Consider joining all columns at once using pd.concat(axis=1) instead. To get a de-fragmented frame, use `newframe = frame.copy()`\n",
      "  sea_word_freq[sea_wa_only_words] = 0\n",
      "C:\\Users\\John\\AppData\\Local\\Temp\\ipykernel_6492\\3662047222.py:9: PerformanceWarning: DataFrame is highly fragmented.  This is usually the result of calling `frame.insert` many times, which has poor performance.  Consider joining all columns at once using pd.concat(axis=1) instead. To get a de-fragmented frame, use `newframe = frame.copy()`\n",
      "  sea_word_freq[sea_wa_only_words] = 0\n",
      "C:\\Users\\John\\AppData\\Local\\Temp\\ipykernel_6492\\3662047222.py:9: PerformanceWarning: DataFrame is highly fragmented.  This is usually the result of calling `frame.insert` many times, which has poor performance.  Consider joining all columns at once using pd.concat(axis=1) instead. To get a de-fragmented frame, use `newframe = frame.copy()`\n",
      "  sea_word_freq[sea_wa_only_words] = 0\n",
      "C:\\Users\\John\\AppData\\Local\\Temp\\ipykernel_6492\\3662047222.py:9: PerformanceWarning: DataFrame is highly fragmented.  This is usually the result of calling `frame.insert` many times, which has poor performance.  Consider joining all columns at once using pd.concat(axis=1) instead. To get a de-fragmented frame, use `newframe = frame.copy()`\n",
      "  sea_word_freq[sea_wa_only_words] = 0\n",
      "C:\\Users\\John\\AppData\\Local\\Temp\\ipykernel_6492\\3662047222.py:9: PerformanceWarning: DataFrame is highly fragmented.  This is usually the result of calling `frame.insert` many times, which has poor performance.  Consider joining all columns at once using pd.concat(axis=1) instead. To get a de-fragmented frame, use `newframe = frame.copy()`\n",
      "  sea_word_freq[sea_wa_only_words] = 0\n",
      "C:\\Users\\John\\AppData\\Local\\Temp\\ipykernel_6492\\3662047222.py:9: PerformanceWarning: DataFrame is highly fragmented.  This is usually the result of calling `frame.insert` many times, which has poor performance.  Consider joining all columns at once using pd.concat(axis=1) instead. To get a de-fragmented frame, use `newframe = frame.copy()`\n",
      "  sea_word_freq[sea_wa_only_words] = 0\n",
      "C:\\Users\\John\\AppData\\Local\\Temp\\ipykernel_6492\\3662047222.py:9: PerformanceWarning: DataFrame is highly fragmented.  This is usually the result of calling `frame.insert` many times, which has poor performance.  Consider joining all columns at once using pd.concat(axis=1) instead. To get a de-fragmented frame, use `newframe = frame.copy()`\n",
      "  sea_word_freq[sea_wa_only_words] = 0\n",
      "C:\\Users\\John\\AppData\\Local\\Temp\\ipykernel_6492\\3662047222.py:9: PerformanceWarning: DataFrame is highly fragmented.  This is usually the result of calling `frame.insert` many times, which has poor performance.  Consider joining all columns at once using pd.concat(axis=1) instead. To get a de-fragmented frame, use `newframe = frame.copy()`\n",
      "  sea_word_freq[sea_wa_only_words] = 0\n",
      "C:\\Users\\John\\AppData\\Local\\Temp\\ipykernel_6492\\3662047222.py:9: PerformanceWarning: DataFrame is highly fragmented.  This is usually the result of calling `frame.insert` many times, which has poor performance.  Consider joining all columns at once using pd.concat(axis=1) instead. To get a de-fragmented frame, use `newframe = frame.copy()`\n",
      "  sea_word_freq[sea_wa_only_words] = 0\n",
      "C:\\Users\\John\\AppData\\Local\\Temp\\ipykernel_6492\\3662047222.py:9: PerformanceWarning: DataFrame is highly fragmented.  This is usually the result of calling `frame.insert` many times, which has poor performance.  Consider joining all columns at once using pd.concat(axis=1) instead. To get a de-fragmented frame, use `newframe = frame.copy()`\n",
      "  sea_word_freq[sea_wa_only_words] = 0\n",
      "C:\\Users\\John\\AppData\\Local\\Temp\\ipykernel_6492\\3662047222.py:9: PerformanceWarning: DataFrame is highly fragmented.  This is usually the result of calling `frame.insert` many times, which has poor performance.  Consider joining all columns at once using pd.concat(axis=1) instead. To get a de-fragmented frame, use `newframe = frame.copy()`\n",
      "  sea_word_freq[sea_wa_only_words] = 0\n",
      "C:\\Users\\John\\AppData\\Local\\Temp\\ipykernel_6492\\3662047222.py:9: PerformanceWarning: DataFrame is highly fragmented.  This is usually the result of calling `frame.insert` many times, which has poor performance.  Consider joining all columns at once using pd.concat(axis=1) instead. To get a de-fragmented frame, use `newframe = frame.copy()`\n",
      "  sea_word_freq[sea_wa_only_words] = 0\n",
      "C:\\Users\\John\\AppData\\Local\\Temp\\ipykernel_6492\\3662047222.py:9: PerformanceWarning: DataFrame is highly fragmented.  This is usually the result of calling `frame.insert` many times, which has poor performance.  Consider joining all columns at once using pd.concat(axis=1) instead. To get a de-fragmented frame, use `newframe = frame.copy()`\n",
      "  sea_word_freq[sea_wa_only_words] = 0\n",
      "C:\\Users\\John\\AppData\\Local\\Temp\\ipykernel_6492\\3662047222.py:9: PerformanceWarning: DataFrame is highly fragmented.  This is usually the result of calling `frame.insert` many times, which has poor performance.  Consider joining all columns at once using pd.concat(axis=1) instead. To get a de-fragmented frame, use `newframe = frame.copy()`\n",
      "  sea_word_freq[sea_wa_only_words] = 0\n",
      "C:\\Users\\John\\AppData\\Local\\Temp\\ipykernel_6492\\3662047222.py:9: PerformanceWarning: DataFrame is highly fragmented.  This is usually the result of calling `frame.insert` many times, which has poor performance.  Consider joining all columns at once using pd.concat(axis=1) instead. To get a de-fragmented frame, use `newframe = frame.copy()`\n",
      "  sea_word_freq[sea_wa_only_words] = 0\n",
      "C:\\Users\\John\\AppData\\Local\\Temp\\ipykernel_6492\\3662047222.py:9: PerformanceWarning: DataFrame is highly fragmented.  This is usually the result of calling `frame.insert` many times, which has poor performance.  Consider joining all columns at once using pd.concat(axis=1) instead. To get a de-fragmented frame, use `newframe = frame.copy()`\n",
      "  sea_word_freq[sea_wa_only_words] = 0\n",
      "C:\\Users\\John\\AppData\\Local\\Temp\\ipykernel_6492\\3662047222.py:9: PerformanceWarning: DataFrame is highly fragmented.  This is usually the result of calling `frame.insert` many times, which has poor performance.  Consider joining all columns at once using pd.concat(axis=1) instead. To get a de-fragmented frame, use `newframe = frame.copy()`\n",
      "  sea_word_freq[sea_wa_only_words] = 0\n",
      "C:\\Users\\John\\AppData\\Local\\Temp\\ipykernel_6492\\3662047222.py:9: PerformanceWarning: DataFrame is highly fragmented.  This is usually the result of calling `frame.insert` many times, which has poor performance.  Consider joining all columns at once using pd.concat(axis=1) instead. To get a de-fragmented frame, use `newframe = frame.copy()`\n",
      "  sea_word_freq[sea_wa_only_words] = 0\n",
      "C:\\Users\\John\\AppData\\Local\\Temp\\ipykernel_6492\\3662047222.py:9: PerformanceWarning: DataFrame is highly fragmented.  This is usually the result of calling `frame.insert` many times, which has poor performance.  Consider joining all columns at once using pd.concat(axis=1) instead. To get a de-fragmented frame, use `newframe = frame.copy()`\n",
      "  sea_word_freq[sea_wa_only_words] = 0\n",
      "C:\\Users\\John\\AppData\\Local\\Temp\\ipykernel_6492\\3662047222.py:9: PerformanceWarning: DataFrame is highly fragmented.  This is usually the result of calling `frame.insert` many times, which has poor performance.  Consider joining all columns at once using pd.concat(axis=1) instead. To get a de-fragmented frame, use `newframe = frame.copy()`\n",
      "  sea_word_freq[sea_wa_only_words] = 0\n",
      "C:\\Users\\John\\AppData\\Local\\Temp\\ipykernel_6492\\3662047222.py:9: PerformanceWarning: DataFrame is highly fragmented.  This is usually the result of calling `frame.insert` many times, which has poor performance.  Consider joining all columns at once using pd.concat(axis=1) instead. To get a de-fragmented frame, use `newframe = frame.copy()`\n",
      "  sea_word_freq[sea_wa_only_words] = 0\n",
      "C:\\Users\\John\\AppData\\Local\\Temp\\ipykernel_6492\\3662047222.py:9: PerformanceWarning: DataFrame is highly fragmented.  This is usually the result of calling `frame.insert` many times, which has poor performance.  Consider joining all columns at once using pd.concat(axis=1) instead. To get a de-fragmented frame, use `newframe = frame.copy()`\n",
      "  sea_word_freq[sea_wa_only_words] = 0\n",
      "C:\\Users\\John\\AppData\\Local\\Temp\\ipykernel_6492\\3662047222.py:9: PerformanceWarning: DataFrame is highly fragmented.  This is usually the result of calling `frame.insert` many times, which has poor performance.  Consider joining all columns at once using pd.concat(axis=1) instead. To get a de-fragmented frame, use `newframe = frame.copy()`\n",
      "  sea_word_freq[sea_wa_only_words] = 0\n",
      "C:\\Users\\John\\AppData\\Local\\Temp\\ipykernel_6492\\3662047222.py:9: PerformanceWarning: DataFrame is highly fragmented.  This is usually the result of calling `frame.insert` many times, which has poor performance.  Consider joining all columns at once using pd.concat(axis=1) instead. To get a de-fragmented frame, use `newframe = frame.copy()`\n",
      "  sea_word_freq[sea_wa_only_words] = 0\n",
      "C:\\Users\\John\\AppData\\Local\\Temp\\ipykernel_6492\\3662047222.py:9: PerformanceWarning: DataFrame is highly fragmented.  This is usually the result of calling `frame.insert` many times, which has poor performance.  Consider joining all columns at once using pd.concat(axis=1) instead. To get a de-fragmented frame, use `newframe = frame.copy()`\n",
      "  sea_word_freq[sea_wa_only_words] = 0\n",
      "C:\\Users\\John\\AppData\\Local\\Temp\\ipykernel_6492\\3662047222.py:9: PerformanceWarning: DataFrame is highly fragmented.  This is usually the result of calling `frame.insert` many times, which has poor performance.  Consider joining all columns at once using pd.concat(axis=1) instead. To get a de-fragmented frame, use `newframe = frame.copy()`\n",
      "  sea_word_freq[sea_wa_only_words] = 0\n",
      "C:\\Users\\John\\AppData\\Local\\Temp\\ipykernel_6492\\3662047222.py:9: PerformanceWarning: DataFrame is highly fragmented.  This is usually the result of calling `frame.insert` many times, which has poor performance.  Consider joining all columns at once using pd.concat(axis=1) instead. To get a de-fragmented frame, use `newframe = frame.copy()`\n",
      "  sea_word_freq[sea_wa_only_words] = 0\n",
      "C:\\Users\\John\\AppData\\Local\\Temp\\ipykernel_6492\\3662047222.py:9: PerformanceWarning: DataFrame is highly fragmented.  This is usually the result of calling `frame.insert` many times, which has poor performance.  Consider joining all columns at once using pd.concat(axis=1) instead. To get a de-fragmented frame, use `newframe = frame.copy()`\n",
      "  sea_word_freq[sea_wa_only_words] = 0\n",
      "C:\\Users\\John\\AppData\\Local\\Temp\\ipykernel_6492\\3662047222.py:9: PerformanceWarning: DataFrame is highly fragmented.  This is usually the result of calling `frame.insert` many times, which has poor performance.  Consider joining all columns at once using pd.concat(axis=1) instead. To get a de-fragmented frame, use `newframe = frame.copy()`\n",
      "  sea_word_freq[sea_wa_only_words] = 0\n",
      "C:\\Users\\John\\AppData\\Local\\Temp\\ipykernel_6492\\3662047222.py:9: PerformanceWarning: DataFrame is highly fragmented.  This is usually the result of calling `frame.insert` many times, which has poor performance.  Consider joining all columns at once using pd.concat(axis=1) instead. To get a de-fragmented frame, use `newframe = frame.copy()`\n",
      "  sea_word_freq[sea_wa_only_words] = 0\n",
      "C:\\Users\\John\\AppData\\Local\\Temp\\ipykernel_6492\\3662047222.py:9: PerformanceWarning: DataFrame is highly fragmented.  This is usually the result of calling `frame.insert` many times, which has poor performance.  Consider joining all columns at once using pd.concat(axis=1) instead. To get a de-fragmented frame, use `newframe = frame.copy()`\n",
      "  sea_word_freq[sea_wa_only_words] = 0\n",
      "C:\\Users\\John\\AppData\\Local\\Temp\\ipykernel_6492\\3662047222.py:9: PerformanceWarning: DataFrame is highly fragmented.  This is usually the result of calling `frame.insert` many times, which has poor performance.  Consider joining all columns at once using pd.concat(axis=1) instead. To get a de-fragmented frame, use `newframe = frame.copy()`\n",
      "  sea_word_freq[sea_wa_only_words] = 0\n",
      "C:\\Users\\John\\AppData\\Local\\Temp\\ipykernel_6492\\3662047222.py:9: PerformanceWarning: DataFrame is highly fragmented.  This is usually the result of calling `frame.insert` many times, which has poor performance.  Consider joining all columns at once using pd.concat(axis=1) instead. To get a de-fragmented frame, use `newframe = frame.copy()`\n",
      "  sea_word_freq[sea_wa_only_words] = 0\n",
      "C:\\Users\\John\\AppData\\Local\\Temp\\ipykernel_6492\\3662047222.py:9: PerformanceWarning: DataFrame is highly fragmented.  This is usually the result of calling `frame.insert` many times, which has poor performance.  Consider joining all columns at once using pd.concat(axis=1) instead. To get a de-fragmented frame, use `newframe = frame.copy()`\n",
      "  sea_word_freq[sea_wa_only_words] = 0\n",
      "C:\\Users\\John\\AppData\\Local\\Temp\\ipykernel_6492\\3662047222.py:9: PerformanceWarning: DataFrame is highly fragmented.  This is usually the result of calling `frame.insert` many times, which has poor performance.  Consider joining all columns at once using pd.concat(axis=1) instead. To get a de-fragmented frame, use `newframe = frame.copy()`\n",
      "  sea_word_freq[sea_wa_only_words] = 0\n",
      "C:\\Users\\John\\AppData\\Local\\Temp\\ipykernel_6492\\3662047222.py:9: PerformanceWarning: DataFrame is highly fragmented.  This is usually the result of calling `frame.insert` many times, which has poor performance.  Consider joining all columns at once using pd.concat(axis=1) instead. To get a de-fragmented frame, use `newframe = frame.copy()`\n",
      "  sea_word_freq[sea_wa_only_words] = 0\n",
      "C:\\Users\\John\\AppData\\Local\\Temp\\ipykernel_6492\\3662047222.py:9: PerformanceWarning: DataFrame is highly fragmented.  This is usually the result of calling `frame.insert` many times, which has poor performance.  Consider joining all columns at once using pd.concat(axis=1) instead. To get a de-fragmented frame, use `newframe = frame.copy()`\n",
      "  sea_word_freq[sea_wa_only_words] = 0\n",
      "C:\\Users\\John\\AppData\\Local\\Temp\\ipykernel_6492\\3662047222.py:9: PerformanceWarning: DataFrame is highly fragmented.  This is usually the result of calling `frame.insert` many times, which has poor performance.  Consider joining all columns at once using pd.concat(axis=1) instead. To get a de-fragmented frame, use `newframe = frame.copy()`\n",
      "  sea_word_freq[sea_wa_only_words] = 0\n",
      "C:\\Users\\John\\AppData\\Local\\Temp\\ipykernel_6492\\3662047222.py:9: PerformanceWarning: DataFrame is highly fragmented.  This is usually the result of calling `frame.insert` many times, which has poor performance.  Consider joining all columns at once using pd.concat(axis=1) instead. To get a de-fragmented frame, use `newframe = frame.copy()`\n",
      "  sea_word_freq[sea_wa_only_words] = 0\n",
      "C:\\Users\\John\\AppData\\Local\\Temp\\ipykernel_6492\\3662047222.py:9: PerformanceWarning: DataFrame is highly fragmented.  This is usually the result of calling `frame.insert` many times, which has poor performance.  Consider joining all columns at once using pd.concat(axis=1) instead. To get a de-fragmented frame, use `newframe = frame.copy()`\n",
      "  sea_word_freq[sea_wa_only_words] = 0\n",
      "C:\\Users\\John\\AppData\\Local\\Temp\\ipykernel_6492\\3662047222.py:9: PerformanceWarning: DataFrame is highly fragmented.  This is usually the result of calling `frame.insert` many times, which has poor performance.  Consider joining all columns at once using pd.concat(axis=1) instead. To get a de-fragmented frame, use `newframe = frame.copy()`\n",
      "  sea_word_freq[sea_wa_only_words] = 0\n",
      "C:\\Users\\John\\AppData\\Local\\Temp\\ipykernel_6492\\3662047222.py:9: PerformanceWarning: DataFrame is highly fragmented.  This is usually the result of calling `frame.insert` many times, which has poor performance.  Consider joining all columns at once using pd.concat(axis=1) instead. To get a de-fragmented frame, use `newframe = frame.copy()`\n",
      "  sea_word_freq[sea_wa_only_words] = 0\n",
      "C:\\Users\\John\\AppData\\Local\\Temp\\ipykernel_6492\\3662047222.py:9: PerformanceWarning: DataFrame is highly fragmented.  This is usually the result of calling `frame.insert` many times, which has poor performance.  Consider joining all columns at once using pd.concat(axis=1) instead. To get a de-fragmented frame, use `newframe = frame.copy()`\n",
      "  sea_word_freq[sea_wa_only_words] = 0\n",
      "C:\\Users\\John\\AppData\\Local\\Temp\\ipykernel_6492\\3662047222.py:9: PerformanceWarning: DataFrame is highly fragmented.  This is usually the result of calling `frame.insert` many times, which has poor performance.  Consider joining all columns at once using pd.concat(axis=1) instead. To get a de-fragmented frame, use `newframe = frame.copy()`\n",
      "  sea_word_freq[sea_wa_only_words] = 0\n",
      "C:\\Users\\John\\AppData\\Local\\Temp\\ipykernel_6492\\3662047222.py:9: PerformanceWarning: DataFrame is highly fragmented.  This is usually the result of calling `frame.insert` many times, which has poor performance.  Consider joining all columns at once using pd.concat(axis=1) instead. To get a de-fragmented frame, use `newframe = frame.copy()`\n",
      "  sea_word_freq[sea_wa_only_words] = 0\n",
      "C:\\Users\\John\\AppData\\Local\\Temp\\ipykernel_6492\\3662047222.py:9: PerformanceWarning: DataFrame is highly fragmented.  This is usually the result of calling `frame.insert` many times, which has poor performance.  Consider joining all columns at once using pd.concat(axis=1) instead. To get a de-fragmented frame, use `newframe = frame.copy()`\n",
      "  sea_word_freq[sea_wa_only_words] = 0\n",
      "C:\\Users\\John\\AppData\\Local\\Temp\\ipykernel_6492\\3662047222.py:9: PerformanceWarning: DataFrame is highly fragmented.  This is usually the result of calling `frame.insert` many times, which has poor performance.  Consider joining all columns at once using pd.concat(axis=1) instead. To get a de-fragmented frame, use `newframe = frame.copy()`\n",
      "  sea_word_freq[sea_wa_only_words] = 0\n",
      "C:\\Users\\John\\AppData\\Local\\Temp\\ipykernel_6492\\3662047222.py:9: PerformanceWarning: DataFrame is highly fragmented.  This is usually the result of calling `frame.insert` many times, which has poor performance.  Consider joining all columns at once using pd.concat(axis=1) instead. To get a de-fragmented frame, use `newframe = frame.copy()`\n",
      "  sea_word_freq[sea_wa_only_words] = 0\n",
      "C:\\Users\\John\\AppData\\Local\\Temp\\ipykernel_6492\\3662047222.py:9: PerformanceWarning: DataFrame is highly fragmented.  This is usually the result of calling `frame.insert` many times, which has poor performance.  Consider joining all columns at once using pd.concat(axis=1) instead. To get a de-fragmented frame, use `newframe = frame.copy()`\n",
      "  sea_word_freq[sea_wa_only_words] = 0\n",
      "C:\\Users\\John\\AppData\\Local\\Temp\\ipykernel_6492\\3662047222.py:9: PerformanceWarning: DataFrame is highly fragmented.  This is usually the result of calling `frame.insert` many times, which has poor performance.  Consider joining all columns at once using pd.concat(axis=1) instead. To get a de-fragmented frame, use `newframe = frame.copy()`\n",
      "  sea_word_freq[sea_wa_only_words] = 0\n",
      "C:\\Users\\John\\AppData\\Local\\Temp\\ipykernel_6492\\3662047222.py:9: PerformanceWarning: DataFrame is highly fragmented.  This is usually the result of calling `frame.insert` many times, which has poor performance.  Consider joining all columns at once using pd.concat(axis=1) instead. To get a de-fragmented frame, use `newframe = frame.copy()`\n",
      "  sea_word_freq[sea_wa_only_words] = 0\n",
      "C:\\Users\\John\\AppData\\Local\\Temp\\ipykernel_6492\\3662047222.py:9: PerformanceWarning: DataFrame is highly fragmented.  This is usually the result of calling `frame.insert` many times, which has poor performance.  Consider joining all columns at once using pd.concat(axis=1) instead. To get a de-fragmented frame, use `newframe = frame.copy()`\n",
      "  sea_word_freq[sea_wa_only_words] = 0\n",
      "C:\\Users\\John\\AppData\\Local\\Temp\\ipykernel_6492\\3662047222.py:9: PerformanceWarning: DataFrame is highly fragmented.  This is usually the result of calling `frame.insert` many times, which has poor performance.  Consider joining all columns at once using pd.concat(axis=1) instead. To get a de-fragmented frame, use `newframe = frame.copy()`\n",
      "  sea_word_freq[sea_wa_only_words] = 0\n",
      "C:\\Users\\John\\AppData\\Local\\Temp\\ipykernel_6492\\3662047222.py:9: PerformanceWarning: DataFrame is highly fragmented.  This is usually the result of calling `frame.insert` many times, which has poor performance.  Consider joining all columns at once using pd.concat(axis=1) instead. To get a de-fragmented frame, use `newframe = frame.copy()`\n",
      "  sea_word_freq[sea_wa_only_words] = 0\n",
      "C:\\Users\\John\\AppData\\Local\\Temp\\ipykernel_6492\\3662047222.py:9: PerformanceWarning: DataFrame is highly fragmented.  This is usually the result of calling `frame.insert` many times, which has poor performance.  Consider joining all columns at once using pd.concat(axis=1) instead. To get a de-fragmented frame, use `newframe = frame.copy()`\n",
      "  sea_word_freq[sea_wa_only_words] = 0\n",
      "C:\\Users\\John\\AppData\\Local\\Temp\\ipykernel_6492\\3662047222.py:9: PerformanceWarning: DataFrame is highly fragmented.  This is usually the result of calling `frame.insert` many times, which has poor performance.  Consider joining all columns at once using pd.concat(axis=1) instead. To get a de-fragmented frame, use `newframe = frame.copy()`\n",
      "  sea_word_freq[sea_wa_only_words] = 0\n",
      "C:\\Users\\John\\AppData\\Local\\Temp\\ipykernel_6492\\3662047222.py:9: PerformanceWarning: DataFrame is highly fragmented.  This is usually the result of calling `frame.insert` many times, which has poor performance.  Consider joining all columns at once using pd.concat(axis=1) instead. To get a de-fragmented frame, use `newframe = frame.copy()`\n",
      "  sea_word_freq[sea_wa_only_words] = 0\n",
      "C:\\Users\\John\\AppData\\Local\\Temp\\ipykernel_6492\\3662047222.py:9: PerformanceWarning: DataFrame is highly fragmented.  This is usually the result of calling `frame.insert` many times, which has poor performance.  Consider joining all columns at once using pd.concat(axis=1) instead. To get a de-fragmented frame, use `newframe = frame.copy()`\n",
      "  sea_word_freq[sea_wa_only_words] = 0\n",
      "C:\\Users\\John\\AppData\\Local\\Temp\\ipykernel_6492\\3662047222.py:9: PerformanceWarning: DataFrame is highly fragmented.  This is usually the result of calling `frame.insert` many times, which has poor performance.  Consider joining all columns at once using pd.concat(axis=1) instead. To get a de-fragmented frame, use `newframe = frame.copy()`\n",
      "  sea_word_freq[sea_wa_only_words] = 0\n",
      "C:\\Users\\John\\AppData\\Local\\Temp\\ipykernel_6492\\3662047222.py:9: PerformanceWarning: DataFrame is highly fragmented.  This is usually the result of calling `frame.insert` many times, which has poor performance.  Consider joining all columns at once using pd.concat(axis=1) instead. To get a de-fragmented frame, use `newframe = frame.copy()`\n",
      "  sea_word_freq[sea_wa_only_words] = 0\n",
      "C:\\Users\\John\\AppData\\Local\\Temp\\ipykernel_6492\\3662047222.py:9: PerformanceWarning: DataFrame is highly fragmented.  This is usually the result of calling `frame.insert` many times, which has poor performance.  Consider joining all columns at once using pd.concat(axis=1) instead. To get a de-fragmented frame, use `newframe = frame.copy()`\n",
      "  sea_word_freq[sea_wa_only_words] = 0\n",
      "C:\\Users\\John\\AppData\\Local\\Temp\\ipykernel_6492\\3662047222.py:9: PerformanceWarning: DataFrame is highly fragmented.  This is usually the result of calling `frame.insert` many times, which has poor performance.  Consider joining all columns at once using pd.concat(axis=1) instead. To get a de-fragmented frame, use `newframe = frame.copy()`\n",
      "  sea_word_freq[sea_wa_only_words] = 0\n",
      "C:\\Users\\John\\AppData\\Local\\Temp\\ipykernel_6492\\3662047222.py:9: PerformanceWarning: DataFrame is highly fragmented.  This is usually the result of calling `frame.insert` many times, which has poor performance.  Consider joining all columns at once using pd.concat(axis=1) instead. To get a de-fragmented frame, use `newframe = frame.copy()`\n",
      "  sea_word_freq[sea_wa_only_words] = 0\n",
      "C:\\Users\\John\\AppData\\Local\\Temp\\ipykernel_6492\\3662047222.py:9: PerformanceWarning: DataFrame is highly fragmented.  This is usually the result of calling `frame.insert` many times, which has poor performance.  Consider joining all columns at once using pd.concat(axis=1) instead. To get a de-fragmented frame, use `newframe = frame.copy()`\n",
      "  sea_word_freq[sea_wa_only_words] = 0\n",
      "C:\\Users\\John\\AppData\\Local\\Temp\\ipykernel_6492\\3662047222.py:9: PerformanceWarning: DataFrame is highly fragmented.  This is usually the result of calling `frame.insert` many times, which has poor performance.  Consider joining all columns at once using pd.concat(axis=1) instead. To get a de-fragmented frame, use `newframe = frame.copy()`\n",
      "  sea_word_freq[sea_wa_only_words] = 0\n",
      "C:\\Users\\John\\AppData\\Local\\Temp\\ipykernel_6492\\3662047222.py:9: PerformanceWarning: DataFrame is highly fragmented.  This is usually the result of calling `frame.insert` many times, which has poor performance.  Consider joining all columns at once using pd.concat(axis=1) instead. To get a de-fragmented frame, use `newframe = frame.copy()`\n",
      "  sea_word_freq[sea_wa_only_words] = 0\n",
      "C:\\Users\\John\\AppData\\Local\\Temp\\ipykernel_6492\\3662047222.py:9: PerformanceWarning: DataFrame is highly fragmented.  This is usually the result of calling `frame.insert` many times, which has poor performance.  Consider joining all columns at once using pd.concat(axis=1) instead. To get a de-fragmented frame, use `newframe = frame.copy()`\n",
      "  sea_word_freq[sea_wa_only_words] = 0\n",
      "C:\\Users\\John\\AppData\\Local\\Temp\\ipykernel_6492\\3662047222.py:9: PerformanceWarning: DataFrame is highly fragmented.  This is usually the result of calling `frame.insert` many times, which has poor performance.  Consider joining all columns at once using pd.concat(axis=1) instead. To get a de-fragmented frame, use `newframe = frame.copy()`\n",
      "  sea_word_freq[sea_wa_only_words] = 0\n",
      "C:\\Users\\John\\AppData\\Local\\Temp\\ipykernel_6492\\3662047222.py:9: PerformanceWarning: DataFrame is highly fragmented.  This is usually the result of calling `frame.insert` many times, which has poor performance.  Consider joining all columns at once using pd.concat(axis=1) instead. To get a de-fragmented frame, use `newframe = frame.copy()`\n",
      "  sea_word_freq[sea_wa_only_words] = 0\n",
      "C:\\Users\\John\\AppData\\Local\\Temp\\ipykernel_6492\\3662047222.py:9: PerformanceWarning: DataFrame is highly fragmented.  This is usually the result of calling `frame.insert` many times, which has poor performance.  Consider joining all columns at once using pd.concat(axis=1) instead. To get a de-fragmented frame, use `newframe = frame.copy()`\n",
      "  sea_word_freq[sea_wa_only_words] = 0\n",
      "C:\\Users\\John\\AppData\\Local\\Temp\\ipykernel_6492\\3662047222.py:9: PerformanceWarning: DataFrame is highly fragmented.  This is usually the result of calling `frame.insert` many times, which has poor performance.  Consider joining all columns at once using pd.concat(axis=1) instead. To get a de-fragmented frame, use `newframe = frame.copy()`\n",
      "  sea_word_freq[sea_wa_only_words] = 0\n",
      "C:\\Users\\John\\AppData\\Local\\Temp\\ipykernel_6492\\3662047222.py:9: PerformanceWarning: DataFrame is highly fragmented.  This is usually the result of calling `frame.insert` many times, which has poor performance.  Consider joining all columns at once using pd.concat(axis=1) instead. To get a de-fragmented frame, use `newframe = frame.copy()`\n",
      "  sea_word_freq[sea_wa_only_words] = 0\n",
      "C:\\Users\\John\\AppData\\Local\\Temp\\ipykernel_6492\\3662047222.py:9: PerformanceWarning: DataFrame is highly fragmented.  This is usually the result of calling `frame.insert` many times, which has poor performance.  Consider joining all columns at once using pd.concat(axis=1) instead. To get a de-fragmented frame, use `newframe = frame.copy()`\n",
      "  sea_word_freq[sea_wa_only_words] = 0\n",
      "C:\\Users\\John\\AppData\\Local\\Temp\\ipykernel_6492\\3662047222.py:9: PerformanceWarning: DataFrame is highly fragmented.  This is usually the result of calling `frame.insert` many times, which has poor performance.  Consider joining all columns at once using pd.concat(axis=1) instead. To get a de-fragmented frame, use `newframe = frame.copy()`\n",
      "  sea_word_freq[sea_wa_only_words] = 0\n",
      "C:\\Users\\John\\AppData\\Local\\Temp\\ipykernel_6492\\3662047222.py:9: PerformanceWarning: DataFrame is highly fragmented.  This is usually the result of calling `frame.insert` many times, which has poor performance.  Consider joining all columns at once using pd.concat(axis=1) instead. To get a de-fragmented frame, use `newframe = frame.copy()`\n",
      "  sea_word_freq[sea_wa_only_words] = 0\n",
      "C:\\Users\\John\\AppData\\Local\\Temp\\ipykernel_6492\\3662047222.py:9: PerformanceWarning: DataFrame is highly fragmented.  This is usually the result of calling `frame.insert` many times, which has poor performance.  Consider joining all columns at once using pd.concat(axis=1) instead. To get a de-fragmented frame, use `newframe = frame.copy()`\n",
      "  sea_word_freq[sea_wa_only_words] = 0\n",
      "C:\\Users\\John\\AppData\\Local\\Temp\\ipykernel_6492\\3662047222.py:9: PerformanceWarning: DataFrame is highly fragmented.  This is usually the result of calling `frame.insert` many times, which has poor performance.  Consider joining all columns at once using pd.concat(axis=1) instead. To get a de-fragmented frame, use `newframe = frame.copy()`\n",
      "  sea_word_freq[sea_wa_only_words] = 0\n",
      "C:\\Users\\John\\AppData\\Local\\Temp\\ipykernel_6492\\3662047222.py:9: PerformanceWarning: DataFrame is highly fragmented.  This is usually the result of calling `frame.insert` many times, which has poor performance.  Consider joining all columns at once using pd.concat(axis=1) instead. To get a de-fragmented frame, use `newframe = frame.copy()`\n",
      "  sea_word_freq[sea_wa_only_words] = 0\n",
      "C:\\Users\\John\\AppData\\Local\\Temp\\ipykernel_6492\\3662047222.py:9: PerformanceWarning: DataFrame is highly fragmented.  This is usually the result of calling `frame.insert` many times, which has poor performance.  Consider joining all columns at once using pd.concat(axis=1) instead. To get a de-fragmented frame, use `newframe = frame.copy()`\n",
      "  sea_word_freq[sea_wa_only_words] = 0\n",
      "C:\\Users\\John\\AppData\\Local\\Temp\\ipykernel_6492\\3662047222.py:9: PerformanceWarning: DataFrame is highly fragmented.  This is usually the result of calling `frame.insert` many times, which has poor performance.  Consider joining all columns at once using pd.concat(axis=1) instead. To get a de-fragmented frame, use `newframe = frame.copy()`\n",
      "  sea_word_freq[sea_wa_only_words] = 0\n",
      "C:\\Users\\John\\AppData\\Local\\Temp\\ipykernel_6492\\3662047222.py:9: PerformanceWarning: DataFrame is highly fragmented.  This is usually the result of calling `frame.insert` many times, which has poor performance.  Consider joining all columns at once using pd.concat(axis=1) instead. To get a de-fragmented frame, use `newframe = frame.copy()`\n",
      "  sea_word_freq[sea_wa_only_words] = 0\n",
      "C:\\Users\\John\\AppData\\Local\\Temp\\ipykernel_6492\\3662047222.py:9: PerformanceWarning: DataFrame is highly fragmented.  This is usually the result of calling `frame.insert` many times, which has poor performance.  Consider joining all columns at once using pd.concat(axis=1) instead. To get a de-fragmented frame, use `newframe = frame.copy()`\n",
      "  sea_word_freq[sea_wa_only_words] = 0\n",
      "C:\\Users\\John\\AppData\\Local\\Temp\\ipykernel_6492\\3662047222.py:9: PerformanceWarning: DataFrame is highly fragmented.  This is usually the result of calling `frame.insert` many times, which has poor performance.  Consider joining all columns at once using pd.concat(axis=1) instead. To get a de-fragmented frame, use `newframe = frame.copy()`\n",
      "  sea_word_freq[sea_wa_only_words] = 0\n",
      "C:\\Users\\John\\AppData\\Local\\Temp\\ipykernel_6492\\3662047222.py:9: PerformanceWarning: DataFrame is highly fragmented.  This is usually the result of calling `frame.insert` many times, which has poor performance.  Consider joining all columns at once using pd.concat(axis=1) instead. To get a de-fragmented frame, use `newframe = frame.copy()`\n",
      "  sea_word_freq[sea_wa_only_words] = 0\n",
      "C:\\Users\\John\\AppData\\Local\\Temp\\ipykernel_6492\\3662047222.py:9: PerformanceWarning: DataFrame is highly fragmented.  This is usually the result of calling `frame.insert` many times, which has poor performance.  Consider joining all columns at once using pd.concat(axis=1) instead. To get a de-fragmented frame, use `newframe = frame.copy()`\n",
      "  sea_word_freq[sea_wa_only_words] = 0\n",
      "C:\\Users\\John\\AppData\\Local\\Temp\\ipykernel_6492\\3662047222.py:9: PerformanceWarning: DataFrame is highly fragmented.  This is usually the result of calling `frame.insert` many times, which has poor performance.  Consider joining all columns at once using pd.concat(axis=1) instead. To get a de-fragmented frame, use `newframe = frame.copy()`\n",
      "  sea_word_freq[sea_wa_only_words] = 0\n",
      "C:\\Users\\John\\AppData\\Local\\Temp\\ipykernel_6492\\3662047222.py:9: PerformanceWarning: DataFrame is highly fragmented.  This is usually the result of calling `frame.insert` many times, which has poor performance.  Consider joining all columns at once using pd.concat(axis=1) instead. To get a de-fragmented frame, use `newframe = frame.copy()`\n",
      "  sea_word_freq[sea_wa_only_words] = 0\n",
      "C:\\Users\\John\\AppData\\Local\\Temp\\ipykernel_6492\\3662047222.py:9: PerformanceWarning: DataFrame is highly fragmented.  This is usually the result of calling `frame.insert` many times, which has poor performance.  Consider joining all columns at once using pd.concat(axis=1) instead. To get a de-fragmented frame, use `newframe = frame.copy()`\n",
      "  sea_word_freq[sea_wa_only_words] = 0\n",
      "C:\\Users\\John\\AppData\\Local\\Temp\\ipykernel_6492\\3662047222.py:9: PerformanceWarning: DataFrame is highly fragmented.  This is usually the result of calling `frame.insert` many times, which has poor performance.  Consider joining all columns at once using pd.concat(axis=1) instead. To get a de-fragmented frame, use `newframe = frame.copy()`\n",
      "  sea_word_freq[sea_wa_only_words] = 0\n",
      "C:\\Users\\John\\AppData\\Local\\Temp\\ipykernel_6492\\3662047222.py:9: PerformanceWarning: DataFrame is highly fragmented.  This is usually the result of calling `frame.insert` many times, which has poor performance.  Consider joining all columns at once using pd.concat(axis=1) instead. To get a de-fragmented frame, use `newframe = frame.copy()`\n",
      "  sea_word_freq[sea_wa_only_words] = 0\n",
      "C:\\Users\\John\\AppData\\Local\\Temp\\ipykernel_6492\\3662047222.py:9: PerformanceWarning: DataFrame is highly fragmented.  This is usually the result of calling `frame.insert` many times, which has poor performance.  Consider joining all columns at once using pd.concat(axis=1) instead. To get a de-fragmented frame, use `newframe = frame.copy()`\n",
      "  sea_word_freq[sea_wa_only_words] = 0\n",
      "C:\\Users\\John\\AppData\\Local\\Temp\\ipykernel_6492\\3662047222.py:9: PerformanceWarning: DataFrame is highly fragmented.  This is usually the result of calling `frame.insert` many times, which has poor performance.  Consider joining all columns at once using pd.concat(axis=1) instead. To get a de-fragmented frame, use `newframe = frame.copy()`\n",
      "  sea_word_freq[sea_wa_only_words] = 0\n",
      "C:\\Users\\John\\AppData\\Local\\Temp\\ipykernel_6492\\3662047222.py:9: PerformanceWarning: DataFrame is highly fragmented.  This is usually the result of calling `frame.insert` many times, which has poor performance.  Consider joining all columns at once using pd.concat(axis=1) instead. To get a de-fragmented frame, use `newframe = frame.copy()`\n",
      "  sea_word_freq[sea_wa_only_words] = 0\n",
      "C:\\Users\\John\\AppData\\Local\\Temp\\ipykernel_6492\\3662047222.py:9: PerformanceWarning: DataFrame is highly fragmented.  This is usually the result of calling `frame.insert` many times, which has poor performance.  Consider joining all columns at once using pd.concat(axis=1) instead. To get a de-fragmented frame, use `newframe = frame.copy()`\n",
      "  sea_word_freq[sea_wa_only_words] = 0\n",
      "C:\\Users\\John\\AppData\\Local\\Temp\\ipykernel_6492\\3662047222.py:9: PerformanceWarning: DataFrame is highly fragmented.  This is usually the result of calling `frame.insert` many times, which has poor performance.  Consider joining all columns at once using pd.concat(axis=1) instead. To get a de-fragmented frame, use `newframe = frame.copy()`\n",
      "  sea_word_freq[sea_wa_only_words] = 0\n",
      "C:\\Users\\John\\AppData\\Local\\Temp\\ipykernel_6492\\3662047222.py:9: PerformanceWarning: DataFrame is highly fragmented.  This is usually the result of calling `frame.insert` many times, which has poor performance.  Consider joining all columns at once using pd.concat(axis=1) instead. To get a de-fragmented frame, use `newframe = frame.copy()`\n",
      "  sea_word_freq[sea_wa_only_words] = 0\n",
      "C:\\Users\\John\\AppData\\Local\\Temp\\ipykernel_6492\\3662047222.py:9: PerformanceWarning: DataFrame is highly fragmented.  This is usually the result of calling `frame.insert` many times, which has poor performance.  Consider joining all columns at once using pd.concat(axis=1) instead. To get a de-fragmented frame, use `newframe = frame.copy()`\n",
      "  sea_word_freq[sea_wa_only_words] = 0\n",
      "C:\\Users\\John\\AppData\\Local\\Temp\\ipykernel_6492\\3662047222.py:9: PerformanceWarning: DataFrame is highly fragmented.  This is usually the result of calling `frame.insert` many times, which has poor performance.  Consider joining all columns at once using pd.concat(axis=1) instead. To get a de-fragmented frame, use `newframe = frame.copy()`\n",
      "  sea_word_freq[sea_wa_only_words] = 0\n",
      "C:\\Users\\John\\AppData\\Local\\Temp\\ipykernel_6492\\3662047222.py:9: PerformanceWarning: DataFrame is highly fragmented.  This is usually the result of calling `frame.insert` many times, which has poor performance.  Consider joining all columns at once using pd.concat(axis=1) instead. To get a de-fragmented frame, use `newframe = frame.copy()`\n",
      "  sea_word_freq[sea_wa_only_words] = 0\n",
      "C:\\Users\\John\\AppData\\Local\\Temp\\ipykernel_6492\\3662047222.py:9: PerformanceWarning: DataFrame is highly fragmented.  This is usually the result of calling `frame.insert` many times, which has poor performance.  Consider joining all columns at once using pd.concat(axis=1) instead. To get a de-fragmented frame, use `newframe = frame.copy()`\n",
      "  sea_word_freq[sea_wa_only_words] = 0\n",
      "C:\\Users\\John\\AppData\\Local\\Temp\\ipykernel_6492\\3662047222.py:9: PerformanceWarning: DataFrame is highly fragmented.  This is usually the result of calling `frame.insert` many times, which has poor performance.  Consider joining all columns at once using pd.concat(axis=1) instead. To get a de-fragmented frame, use `newframe = frame.copy()`\n",
      "  sea_word_freq[sea_wa_only_words] = 0\n",
      "C:\\Users\\John\\AppData\\Local\\Temp\\ipykernel_6492\\3662047222.py:9: PerformanceWarning: DataFrame is highly fragmented.  This is usually the result of calling `frame.insert` many times, which has poor performance.  Consider joining all columns at once using pd.concat(axis=1) instead. To get a de-fragmented frame, use `newframe = frame.copy()`\n",
      "  sea_word_freq[sea_wa_only_words] = 0\n",
      "C:\\Users\\John\\AppData\\Local\\Temp\\ipykernel_6492\\3662047222.py:9: PerformanceWarning: DataFrame is highly fragmented.  This is usually the result of calling `frame.insert` many times, which has poor performance.  Consider joining all columns at once using pd.concat(axis=1) instead. To get a de-fragmented frame, use `newframe = frame.copy()`\n",
      "  sea_word_freq[sea_wa_only_words] = 0\n",
      "C:\\Users\\John\\AppData\\Local\\Temp\\ipykernel_6492\\3662047222.py:9: PerformanceWarning: DataFrame is highly fragmented.  This is usually the result of calling `frame.insert` many times, which has poor performance.  Consider joining all columns at once using pd.concat(axis=1) instead. To get a de-fragmented frame, use `newframe = frame.copy()`\n",
      "  sea_word_freq[sea_wa_only_words] = 0\n",
      "C:\\Users\\John\\AppData\\Local\\Temp\\ipykernel_6492\\3662047222.py:9: PerformanceWarning: DataFrame is highly fragmented.  This is usually the result of calling `frame.insert` many times, which has poor performance.  Consider joining all columns at once using pd.concat(axis=1) instead. To get a de-fragmented frame, use `newframe = frame.copy()`\n",
      "  sea_word_freq[sea_wa_only_words] = 0\n",
      "C:\\Users\\John\\AppData\\Local\\Temp\\ipykernel_6492\\3662047222.py:9: PerformanceWarning: DataFrame is highly fragmented.  This is usually the result of calling `frame.insert` many times, which has poor performance.  Consider joining all columns at once using pd.concat(axis=1) instead. To get a de-fragmented frame, use `newframe = frame.copy()`\n",
      "  sea_word_freq[sea_wa_only_words] = 0\n",
      "C:\\Users\\John\\AppData\\Local\\Temp\\ipykernel_6492\\3662047222.py:9: PerformanceWarning: DataFrame is highly fragmented.  This is usually the result of calling `frame.insert` many times, which has poor performance.  Consider joining all columns at once using pd.concat(axis=1) instead. To get a de-fragmented frame, use `newframe = frame.copy()`\n",
      "  sea_word_freq[sea_wa_only_words] = 0\n",
      "C:\\Users\\John\\AppData\\Local\\Temp\\ipykernel_6492\\3662047222.py:9: PerformanceWarning: DataFrame is highly fragmented.  This is usually the result of calling `frame.insert` many times, which has poor performance.  Consider joining all columns at once using pd.concat(axis=1) instead. To get a de-fragmented frame, use `newframe = frame.copy()`\n",
      "  sea_word_freq[sea_wa_only_words] = 0\n",
      "C:\\Users\\John\\AppData\\Local\\Temp\\ipykernel_6492\\3662047222.py:9: PerformanceWarning: DataFrame is highly fragmented.  This is usually the result of calling `frame.insert` many times, which has poor performance.  Consider joining all columns at once using pd.concat(axis=1) instead. To get a de-fragmented frame, use `newframe = frame.copy()`\n",
      "  sea_word_freq[sea_wa_only_words] = 0\n",
      "C:\\Users\\John\\AppData\\Local\\Temp\\ipykernel_6492\\3662047222.py:9: PerformanceWarning: DataFrame is highly fragmented.  This is usually the result of calling `frame.insert` many times, which has poor performance.  Consider joining all columns at once using pd.concat(axis=1) instead. To get a de-fragmented frame, use `newframe = frame.copy()`\n",
      "  sea_word_freq[sea_wa_only_words] = 0\n",
      "C:\\Users\\John\\AppData\\Local\\Temp\\ipykernel_6492\\3662047222.py:9: PerformanceWarning: DataFrame is highly fragmented.  This is usually the result of calling `frame.insert` many times, which has poor performance.  Consider joining all columns at once using pd.concat(axis=1) instead. To get a de-fragmented frame, use `newframe = frame.copy()`\n",
      "  sea_word_freq[sea_wa_only_words] = 0\n",
      "C:\\Users\\John\\AppData\\Local\\Temp\\ipykernel_6492\\3662047222.py:9: PerformanceWarning: DataFrame is highly fragmented.  This is usually the result of calling `frame.insert` many times, which has poor performance.  Consider joining all columns at once using pd.concat(axis=1) instead. To get a de-fragmented frame, use `newframe = frame.copy()`\n",
      "  sea_word_freq[sea_wa_only_words] = 0\n",
      "C:\\Users\\John\\AppData\\Local\\Temp\\ipykernel_6492\\3662047222.py:9: PerformanceWarning: DataFrame is highly fragmented.  This is usually the result of calling `frame.insert` many times, which has poor performance.  Consider joining all columns at once using pd.concat(axis=1) instead. To get a de-fragmented frame, use `newframe = frame.copy()`\n",
      "  sea_word_freq[sea_wa_only_words] = 0\n",
      "C:\\Users\\John\\AppData\\Local\\Temp\\ipykernel_6492\\3662047222.py:9: PerformanceWarning: DataFrame is highly fragmented.  This is usually the result of calling `frame.insert` many times, which has poor performance.  Consider joining all columns at once using pd.concat(axis=1) instead. To get a de-fragmented frame, use `newframe = frame.copy()`\n",
      "  sea_word_freq[sea_wa_only_words] = 0\n",
      "C:\\Users\\John\\AppData\\Local\\Temp\\ipykernel_6492\\3662047222.py:9: PerformanceWarning: DataFrame is highly fragmented.  This is usually the result of calling `frame.insert` many times, which has poor performance.  Consider joining all columns at once using pd.concat(axis=1) instead. To get a de-fragmented frame, use `newframe = frame.copy()`\n",
      "  sea_word_freq[sea_wa_only_words] = 0\n",
      "C:\\Users\\John\\AppData\\Local\\Temp\\ipykernel_6492\\3662047222.py:9: PerformanceWarning: DataFrame is highly fragmented.  This is usually the result of calling `frame.insert` many times, which has poor performance.  Consider joining all columns at once using pd.concat(axis=1) instead. To get a de-fragmented frame, use `newframe = frame.copy()`\n",
      "  sea_word_freq[sea_wa_only_words] = 0\n",
      "C:\\Users\\John\\AppData\\Local\\Temp\\ipykernel_6492\\3662047222.py:9: PerformanceWarning: DataFrame is highly fragmented.  This is usually the result of calling `frame.insert` many times, which has poor performance.  Consider joining all columns at once using pd.concat(axis=1) instead. To get a de-fragmented frame, use `newframe = frame.copy()`\n",
      "  sea_word_freq[sea_wa_only_words] = 0\n",
      "C:\\Users\\John\\AppData\\Local\\Temp\\ipykernel_6492\\3662047222.py:9: PerformanceWarning: DataFrame is highly fragmented.  This is usually the result of calling `frame.insert` many times, which has poor performance.  Consider joining all columns at once using pd.concat(axis=1) instead. To get a de-fragmented frame, use `newframe = frame.copy()`\n",
      "  sea_word_freq[sea_wa_only_words] = 0\n",
      "C:\\Users\\John\\AppData\\Local\\Temp\\ipykernel_6492\\3662047222.py:9: PerformanceWarning: DataFrame is highly fragmented.  This is usually the result of calling `frame.insert` many times, which has poor performance.  Consider joining all columns at once using pd.concat(axis=1) instead. To get a de-fragmented frame, use `newframe = frame.copy()`\n",
      "  sea_word_freq[sea_wa_only_words] = 0\n",
      "C:\\Users\\John\\AppData\\Local\\Temp\\ipykernel_6492\\3662047222.py:9: PerformanceWarning: DataFrame is highly fragmented.  This is usually the result of calling `frame.insert` many times, which has poor performance.  Consider joining all columns at once using pd.concat(axis=1) instead. To get a de-fragmented frame, use `newframe = frame.copy()`\n",
      "  sea_word_freq[sea_wa_only_words] = 0\n",
      "C:\\Users\\John\\AppData\\Local\\Temp\\ipykernel_6492\\3662047222.py:9: PerformanceWarning: DataFrame is highly fragmented.  This is usually the result of calling `frame.insert` many times, which has poor performance.  Consider joining all columns at once using pd.concat(axis=1) instead. To get a de-fragmented frame, use `newframe = frame.copy()`\n",
      "  sea_word_freq[sea_wa_only_words] = 0\n",
      "C:\\Users\\John\\AppData\\Local\\Temp\\ipykernel_6492\\3662047222.py:9: PerformanceWarning: DataFrame is highly fragmented.  This is usually the result of calling `frame.insert` many times, which has poor performance.  Consider joining all columns at once using pd.concat(axis=1) instead. To get a de-fragmented frame, use `newframe = frame.copy()`\n",
      "  sea_word_freq[sea_wa_only_words] = 0\n",
      "C:\\Users\\John\\AppData\\Local\\Temp\\ipykernel_6492\\3662047222.py:9: PerformanceWarning: DataFrame is highly fragmented.  This is usually the result of calling `frame.insert` many times, which has poor performance.  Consider joining all columns at once using pd.concat(axis=1) instead. To get a de-fragmented frame, use `newframe = frame.copy()`\n",
      "  sea_word_freq[sea_wa_only_words] = 0\n",
      "C:\\Users\\John\\AppData\\Local\\Temp\\ipykernel_6492\\3662047222.py:9: PerformanceWarning: DataFrame is highly fragmented.  This is usually the result of calling `frame.insert` many times, which has poor performance.  Consider joining all columns at once using pd.concat(axis=1) instead. To get a de-fragmented frame, use `newframe = frame.copy()`\n",
      "  sea_word_freq[sea_wa_only_words] = 0\n",
      "C:\\Users\\John\\AppData\\Local\\Temp\\ipykernel_6492\\3662047222.py:9: PerformanceWarning: DataFrame is highly fragmented.  This is usually the result of calling `frame.insert` many times, which has poor performance.  Consider joining all columns at once using pd.concat(axis=1) instead. To get a de-fragmented frame, use `newframe = frame.copy()`\n",
      "  sea_word_freq[sea_wa_only_words] = 0\n",
      "C:\\Users\\John\\AppData\\Local\\Temp\\ipykernel_6492\\3662047222.py:9: PerformanceWarning: DataFrame is highly fragmented.  This is usually the result of calling `frame.insert` many times, which has poor performance.  Consider joining all columns at once using pd.concat(axis=1) instead. To get a de-fragmented frame, use `newframe = frame.copy()`\n",
      "  sea_word_freq[sea_wa_only_words] = 0\n",
      "C:\\Users\\John\\AppData\\Local\\Temp\\ipykernel_6492\\3662047222.py:9: PerformanceWarning: DataFrame is highly fragmented.  This is usually the result of calling `frame.insert` many times, which has poor performance.  Consider joining all columns at once using pd.concat(axis=1) instead. To get a de-fragmented frame, use `newframe = frame.copy()`\n",
      "  sea_word_freq[sea_wa_only_words] = 0\n",
      "C:\\Users\\John\\AppData\\Local\\Temp\\ipykernel_6492\\3662047222.py:9: PerformanceWarning: DataFrame is highly fragmented.  This is usually the result of calling `frame.insert` many times, which has poor performance.  Consider joining all columns at once using pd.concat(axis=1) instead. To get a de-fragmented frame, use `newframe = frame.copy()`\n",
      "  sea_word_freq[sea_wa_only_words] = 0\n",
      "C:\\Users\\John\\AppData\\Local\\Temp\\ipykernel_6492\\3662047222.py:9: PerformanceWarning: DataFrame is highly fragmented.  This is usually the result of calling `frame.insert` many times, which has poor performance.  Consider joining all columns at once using pd.concat(axis=1) instead. To get a de-fragmented frame, use `newframe = frame.copy()`\n",
      "  sea_word_freq[sea_wa_only_words] = 0\n",
      "C:\\Users\\John\\AppData\\Local\\Temp\\ipykernel_6492\\3662047222.py:9: PerformanceWarning: DataFrame is highly fragmented.  This is usually the result of calling `frame.insert` many times, which has poor performance.  Consider joining all columns at once using pd.concat(axis=1) instead. To get a de-fragmented frame, use `newframe = frame.copy()`\n",
      "  sea_word_freq[sea_wa_only_words] = 0\n",
      "C:\\Users\\John\\AppData\\Local\\Temp\\ipykernel_6492\\3662047222.py:9: PerformanceWarning: DataFrame is highly fragmented.  This is usually the result of calling `frame.insert` many times, which has poor performance.  Consider joining all columns at once using pd.concat(axis=1) instead. To get a de-fragmented frame, use `newframe = frame.copy()`\n",
      "  sea_word_freq[sea_wa_only_words] = 0\n",
      "C:\\Users\\John\\AppData\\Local\\Temp\\ipykernel_6492\\3662047222.py:9: PerformanceWarning: DataFrame is highly fragmented.  This is usually the result of calling `frame.insert` many times, which has poor performance.  Consider joining all columns at once using pd.concat(axis=1) instead. To get a de-fragmented frame, use `newframe = frame.copy()`\n",
      "  sea_word_freq[sea_wa_only_words] = 0\n",
      "C:\\Users\\John\\AppData\\Local\\Temp\\ipykernel_6492\\3662047222.py:9: PerformanceWarning: DataFrame is highly fragmented.  This is usually the result of calling `frame.insert` many times, which has poor performance.  Consider joining all columns at once using pd.concat(axis=1) instead. To get a de-fragmented frame, use `newframe = frame.copy()`\n",
      "  sea_word_freq[sea_wa_only_words] = 0\n",
      "C:\\Users\\John\\AppData\\Local\\Temp\\ipykernel_6492\\3662047222.py:9: PerformanceWarning: DataFrame is highly fragmented.  This is usually the result of calling `frame.insert` many times, which has poor performance.  Consider joining all columns at once using pd.concat(axis=1) instead. To get a de-fragmented frame, use `newframe = frame.copy()`\n",
      "  sea_word_freq[sea_wa_only_words] = 0\n",
      "C:\\Users\\John\\AppData\\Local\\Temp\\ipykernel_6492\\3662047222.py:9: PerformanceWarning: DataFrame is highly fragmented.  This is usually the result of calling `frame.insert` many times, which has poor performance.  Consider joining all columns at once using pd.concat(axis=1) instead. To get a de-fragmented frame, use `newframe = frame.copy()`\n",
      "  sea_word_freq[sea_wa_only_words] = 0\n",
      "C:\\Users\\John\\AppData\\Local\\Temp\\ipykernel_6492\\3662047222.py:9: PerformanceWarning: DataFrame is highly fragmented.  This is usually the result of calling `frame.insert` many times, which has poor performance.  Consider joining all columns at once using pd.concat(axis=1) instead. To get a de-fragmented frame, use `newframe = frame.copy()`\n",
      "  sea_word_freq[sea_wa_only_words] = 0\n",
      "C:\\Users\\John\\AppData\\Local\\Temp\\ipykernel_6492\\3662047222.py:9: PerformanceWarning: DataFrame is highly fragmented.  This is usually the result of calling `frame.insert` many times, which has poor performance.  Consider joining all columns at once using pd.concat(axis=1) instead. To get a de-fragmented frame, use `newframe = frame.copy()`\n",
      "  sea_word_freq[sea_wa_only_words] = 0\n",
      "C:\\Users\\John\\AppData\\Local\\Temp\\ipykernel_6492\\3662047222.py:9: PerformanceWarning: DataFrame is highly fragmented.  This is usually the result of calling `frame.insert` many times, which has poor performance.  Consider joining all columns at once using pd.concat(axis=1) instead. To get a de-fragmented frame, use `newframe = frame.copy()`\n",
      "  sea_word_freq[sea_wa_only_words] = 0\n",
      "C:\\Users\\John\\AppData\\Local\\Temp\\ipykernel_6492\\3662047222.py:9: PerformanceWarning: DataFrame is highly fragmented.  This is usually the result of calling `frame.insert` many times, which has poor performance.  Consider joining all columns at once using pd.concat(axis=1) instead. To get a de-fragmented frame, use `newframe = frame.copy()`\n",
      "  sea_word_freq[sea_wa_only_words] = 0\n",
      "C:\\Users\\John\\AppData\\Local\\Temp\\ipykernel_6492\\3662047222.py:9: PerformanceWarning: DataFrame is highly fragmented.  This is usually the result of calling `frame.insert` many times, which has poor performance.  Consider joining all columns at once using pd.concat(axis=1) instead. To get a de-fragmented frame, use `newframe = frame.copy()`\n",
      "  sea_word_freq[sea_wa_only_words] = 0\n",
      "C:\\Users\\John\\AppData\\Local\\Temp\\ipykernel_6492\\3662047222.py:9: PerformanceWarning: DataFrame is highly fragmented.  This is usually the result of calling `frame.insert` many times, which has poor performance.  Consider joining all columns at once using pd.concat(axis=1) instead. To get a de-fragmented frame, use `newframe = frame.copy()`\n",
      "  sea_word_freq[sea_wa_only_words] = 0\n",
      "C:\\Users\\John\\AppData\\Local\\Temp\\ipykernel_6492\\3662047222.py:9: PerformanceWarning: DataFrame is highly fragmented.  This is usually the result of calling `frame.insert` many times, which has poor performance.  Consider joining all columns at once using pd.concat(axis=1) instead. To get a de-fragmented frame, use `newframe = frame.copy()`\n",
      "  sea_word_freq[sea_wa_only_words] = 0\n",
      "C:\\Users\\John\\AppData\\Local\\Temp\\ipykernel_6492\\3662047222.py:9: PerformanceWarning: DataFrame is highly fragmented.  This is usually the result of calling `frame.insert` many times, which has poor performance.  Consider joining all columns at once using pd.concat(axis=1) instead. To get a de-fragmented frame, use `newframe = frame.copy()`\n",
      "  sea_word_freq[sea_wa_only_words] = 0\n",
      "C:\\Users\\John\\AppData\\Local\\Temp\\ipykernel_6492\\3662047222.py:9: PerformanceWarning: DataFrame is highly fragmented.  This is usually the result of calling `frame.insert` many times, which has poor performance.  Consider joining all columns at once using pd.concat(axis=1) instead. To get a de-fragmented frame, use `newframe = frame.copy()`\n",
      "  sea_word_freq[sea_wa_only_words] = 0\n",
      "C:\\Users\\John\\AppData\\Local\\Temp\\ipykernel_6492\\3662047222.py:9: PerformanceWarning: DataFrame is highly fragmented.  This is usually the result of calling `frame.insert` many times, which has poor performance.  Consider joining all columns at once using pd.concat(axis=1) instead. To get a de-fragmented frame, use `newframe = frame.copy()`\n",
      "  sea_word_freq[sea_wa_only_words] = 0\n",
      "C:\\Users\\John\\AppData\\Local\\Temp\\ipykernel_6492\\3662047222.py:9: PerformanceWarning: DataFrame is highly fragmented.  This is usually the result of calling `frame.insert` many times, which has poor performance.  Consider joining all columns at once using pd.concat(axis=1) instead. To get a de-fragmented frame, use `newframe = frame.copy()`\n",
      "  sea_word_freq[sea_wa_only_words] = 0\n",
      "C:\\Users\\John\\AppData\\Local\\Temp\\ipykernel_6492\\3662047222.py:9: PerformanceWarning: DataFrame is highly fragmented.  This is usually the result of calling `frame.insert` many times, which has poor performance.  Consider joining all columns at once using pd.concat(axis=1) instead. To get a de-fragmented frame, use `newframe = frame.copy()`\n",
      "  sea_word_freq[sea_wa_only_words] = 0\n",
      "C:\\Users\\John\\AppData\\Local\\Temp\\ipykernel_6492\\3662047222.py:9: PerformanceWarning: DataFrame is highly fragmented.  This is usually the result of calling `frame.insert` many times, which has poor performance.  Consider joining all columns at once using pd.concat(axis=1) instead. To get a de-fragmented frame, use `newframe = frame.copy()`\n",
      "  sea_word_freq[sea_wa_only_words] = 0\n",
      "C:\\Users\\John\\AppData\\Local\\Temp\\ipykernel_6492\\3662047222.py:9: PerformanceWarning: DataFrame is highly fragmented.  This is usually the result of calling `frame.insert` many times, which has poor performance.  Consider joining all columns at once using pd.concat(axis=1) instead. To get a de-fragmented frame, use `newframe = frame.copy()`\n",
      "  sea_word_freq[sea_wa_only_words] = 0\n",
      "C:\\Users\\John\\AppData\\Local\\Temp\\ipykernel_6492\\3662047222.py:9: PerformanceWarning: DataFrame is highly fragmented.  This is usually the result of calling `frame.insert` many times, which has poor performance.  Consider joining all columns at once using pd.concat(axis=1) instead. To get a de-fragmented frame, use `newframe = frame.copy()`\n",
      "  sea_word_freq[sea_wa_only_words] = 0\n",
      "C:\\Users\\John\\AppData\\Local\\Temp\\ipykernel_6492\\3662047222.py:9: PerformanceWarning: DataFrame is highly fragmented.  This is usually the result of calling `frame.insert` many times, which has poor performance.  Consider joining all columns at once using pd.concat(axis=1) instead. To get a de-fragmented frame, use `newframe = frame.copy()`\n",
      "  sea_word_freq[sea_wa_only_words] = 0\n",
      "C:\\Users\\John\\AppData\\Local\\Temp\\ipykernel_6492\\3662047222.py:9: PerformanceWarning: DataFrame is highly fragmented.  This is usually the result of calling `frame.insert` many times, which has poor performance.  Consider joining all columns at once using pd.concat(axis=1) instead. To get a de-fragmented frame, use `newframe = frame.copy()`\n",
      "  sea_word_freq[sea_wa_only_words] = 0\n",
      "C:\\Users\\John\\AppData\\Local\\Temp\\ipykernel_6492\\3662047222.py:9: PerformanceWarning: DataFrame is highly fragmented.  This is usually the result of calling `frame.insert` many times, which has poor performance.  Consider joining all columns at once using pd.concat(axis=1) instead. To get a de-fragmented frame, use `newframe = frame.copy()`\n",
      "  sea_word_freq[sea_wa_only_words] = 0\n",
      "C:\\Users\\John\\AppData\\Local\\Temp\\ipykernel_6492\\3662047222.py:9: PerformanceWarning: DataFrame is highly fragmented.  This is usually the result of calling `frame.insert` many times, which has poor performance.  Consider joining all columns at once using pd.concat(axis=1) instead. To get a de-fragmented frame, use `newframe = frame.copy()`\n",
      "  sea_word_freq[sea_wa_only_words] = 0\n",
      "C:\\Users\\John\\AppData\\Local\\Temp\\ipykernel_6492\\3662047222.py:9: PerformanceWarning: DataFrame is highly fragmented.  This is usually the result of calling `frame.insert` many times, which has poor performance.  Consider joining all columns at once using pd.concat(axis=1) instead. To get a de-fragmented frame, use `newframe = frame.copy()`\n",
      "  sea_word_freq[sea_wa_only_words] = 0\n",
      "C:\\Users\\John\\AppData\\Local\\Temp\\ipykernel_6492\\3662047222.py:9: PerformanceWarning: DataFrame is highly fragmented.  This is usually the result of calling `frame.insert` many times, which has poor performance.  Consider joining all columns at once using pd.concat(axis=1) instead. To get a de-fragmented frame, use `newframe = frame.copy()`\n",
      "  sea_word_freq[sea_wa_only_words] = 0\n",
      "C:\\Users\\John\\AppData\\Local\\Temp\\ipykernel_6492\\3662047222.py:9: PerformanceWarning: DataFrame is highly fragmented.  This is usually the result of calling `frame.insert` many times, which has poor performance.  Consider joining all columns at once using pd.concat(axis=1) instead. To get a de-fragmented frame, use `newframe = frame.copy()`\n",
      "  sea_word_freq[sea_wa_only_words] = 0\n",
      "C:\\Users\\John\\AppData\\Local\\Temp\\ipykernel_6492\\3662047222.py:9: PerformanceWarning: DataFrame is highly fragmented.  This is usually the result of calling `frame.insert` many times, which has poor performance.  Consider joining all columns at once using pd.concat(axis=1) instead. To get a de-fragmented frame, use `newframe = frame.copy()`\n",
      "  sea_word_freq[sea_wa_only_words] = 0\n",
      "C:\\Users\\John\\AppData\\Local\\Temp\\ipykernel_6492\\3662047222.py:9: PerformanceWarning: DataFrame is highly fragmented.  This is usually the result of calling `frame.insert` many times, which has poor performance.  Consider joining all columns at once using pd.concat(axis=1) instead. To get a de-fragmented frame, use `newframe = frame.copy()`\n",
      "  sea_word_freq[sea_wa_only_words] = 0\n",
      "C:\\Users\\John\\AppData\\Local\\Temp\\ipykernel_6492\\3662047222.py:9: PerformanceWarning: DataFrame is highly fragmented.  This is usually the result of calling `frame.insert` many times, which has poor performance.  Consider joining all columns at once using pd.concat(axis=1) instead. To get a de-fragmented frame, use `newframe = frame.copy()`\n",
      "  sea_word_freq[sea_wa_only_words] = 0\n",
      "C:\\Users\\John\\AppData\\Local\\Temp\\ipykernel_6492\\3662047222.py:9: PerformanceWarning: DataFrame is highly fragmented.  This is usually the result of calling `frame.insert` many times, which has poor performance.  Consider joining all columns at once using pd.concat(axis=1) instead. To get a de-fragmented frame, use `newframe = frame.copy()`\n",
      "  sea_word_freq[sea_wa_only_words] = 0\n",
      "C:\\Users\\John\\AppData\\Local\\Temp\\ipykernel_6492\\3662047222.py:9: PerformanceWarning: DataFrame is highly fragmented.  This is usually the result of calling `frame.insert` many times, which has poor performance.  Consider joining all columns at once using pd.concat(axis=1) instead. To get a de-fragmented frame, use `newframe = frame.copy()`\n",
      "  sea_word_freq[sea_wa_only_words] = 0\n",
      "C:\\Users\\John\\AppData\\Local\\Temp\\ipykernel_6492\\3662047222.py:9: PerformanceWarning: DataFrame is highly fragmented.  This is usually the result of calling `frame.insert` many times, which has poor performance.  Consider joining all columns at once using pd.concat(axis=1) instead. To get a de-fragmented frame, use `newframe = frame.copy()`\n",
      "  sea_word_freq[sea_wa_only_words] = 0\n",
      "C:\\Users\\John\\AppData\\Local\\Temp\\ipykernel_6492\\3662047222.py:9: PerformanceWarning: DataFrame is highly fragmented.  This is usually the result of calling `frame.insert` many times, which has poor performance.  Consider joining all columns at once using pd.concat(axis=1) instead. To get a de-fragmented frame, use `newframe = frame.copy()`\n",
      "  sea_word_freq[sea_wa_only_words] = 0\n",
      "C:\\Users\\John\\AppData\\Local\\Temp\\ipykernel_6492\\3662047222.py:9: PerformanceWarning: DataFrame is highly fragmented.  This is usually the result of calling `frame.insert` many times, which has poor performance.  Consider joining all columns at once using pd.concat(axis=1) instead. To get a de-fragmented frame, use `newframe = frame.copy()`\n",
      "  sea_word_freq[sea_wa_only_words] = 0\n",
      "C:\\Users\\John\\AppData\\Local\\Temp\\ipykernel_6492\\3662047222.py:9: PerformanceWarning: DataFrame is highly fragmented.  This is usually the result of calling `frame.insert` many times, which has poor performance.  Consider joining all columns at once using pd.concat(axis=1) instead. To get a de-fragmented frame, use `newframe = frame.copy()`\n",
      "  sea_word_freq[sea_wa_only_words] = 0\n",
      "C:\\Users\\John\\AppData\\Local\\Temp\\ipykernel_6492\\3662047222.py:9: PerformanceWarning: DataFrame is highly fragmented.  This is usually the result of calling `frame.insert` many times, which has poor performance.  Consider joining all columns at once using pd.concat(axis=1) instead. To get a de-fragmented frame, use `newframe = frame.copy()`\n",
      "  sea_word_freq[sea_wa_only_words] = 0\n",
      "C:\\Users\\John\\AppData\\Local\\Temp\\ipykernel_6492\\3662047222.py:9: PerformanceWarning: DataFrame is highly fragmented.  This is usually the result of calling `frame.insert` many times, which has poor performance.  Consider joining all columns at once using pd.concat(axis=1) instead. To get a de-fragmented frame, use `newframe = frame.copy()`\n",
      "  sea_word_freq[sea_wa_only_words] = 0\n",
      "C:\\Users\\John\\AppData\\Local\\Temp\\ipykernel_6492\\3662047222.py:9: PerformanceWarning: DataFrame is highly fragmented.  This is usually the result of calling `frame.insert` many times, which has poor performance.  Consider joining all columns at once using pd.concat(axis=1) instead. To get a de-fragmented frame, use `newframe = frame.copy()`\n",
      "  sea_word_freq[sea_wa_only_words] = 0\n",
      "C:\\Users\\John\\AppData\\Local\\Temp\\ipykernel_6492\\3662047222.py:9: PerformanceWarning: DataFrame is highly fragmented.  This is usually the result of calling `frame.insert` many times, which has poor performance.  Consider joining all columns at once using pd.concat(axis=1) instead. To get a de-fragmented frame, use `newframe = frame.copy()`\n",
      "  sea_word_freq[sea_wa_only_words] = 0\n",
      "C:\\Users\\John\\AppData\\Local\\Temp\\ipykernel_6492\\3662047222.py:9: PerformanceWarning: DataFrame is highly fragmented.  This is usually the result of calling `frame.insert` many times, which has poor performance.  Consider joining all columns at once using pd.concat(axis=1) instead. To get a de-fragmented frame, use `newframe = frame.copy()`\n",
      "  sea_word_freq[sea_wa_only_words] = 0\n",
      "C:\\Users\\John\\AppData\\Local\\Temp\\ipykernel_6492\\3662047222.py:9: PerformanceWarning: DataFrame is highly fragmented.  This is usually the result of calling `frame.insert` many times, which has poor performance.  Consider joining all columns at once using pd.concat(axis=1) instead. To get a de-fragmented frame, use `newframe = frame.copy()`\n",
      "  sea_word_freq[sea_wa_only_words] = 0\n",
      "C:\\Users\\John\\AppData\\Local\\Temp\\ipykernel_6492\\3662047222.py:9: PerformanceWarning: DataFrame is highly fragmented.  This is usually the result of calling `frame.insert` many times, which has poor performance.  Consider joining all columns at once using pd.concat(axis=1) instead. To get a de-fragmented frame, use `newframe = frame.copy()`\n",
      "  sea_word_freq[sea_wa_only_words] = 0\n",
      "C:\\Users\\John\\AppData\\Local\\Temp\\ipykernel_6492\\3662047222.py:9: PerformanceWarning: DataFrame is highly fragmented.  This is usually the result of calling `frame.insert` many times, which has poor performance.  Consider joining all columns at once using pd.concat(axis=1) instead. To get a de-fragmented frame, use `newframe = frame.copy()`\n",
      "  sea_word_freq[sea_wa_only_words] = 0\n",
      "C:\\Users\\John\\AppData\\Local\\Temp\\ipykernel_6492\\3662047222.py:9: PerformanceWarning: DataFrame is highly fragmented.  This is usually the result of calling `frame.insert` many times, which has poor performance.  Consider joining all columns at once using pd.concat(axis=1) instead. To get a de-fragmented frame, use `newframe = frame.copy()`\n",
      "  sea_word_freq[sea_wa_only_words] = 0\n",
      "C:\\Users\\John\\AppData\\Local\\Temp\\ipykernel_6492\\3662047222.py:9: PerformanceWarning: DataFrame is highly fragmented.  This is usually the result of calling `frame.insert` many times, which has poor performance.  Consider joining all columns at once using pd.concat(axis=1) instead. To get a de-fragmented frame, use `newframe = frame.copy()`\n",
      "  sea_word_freq[sea_wa_only_words] = 0\n",
      "C:\\Users\\John\\AppData\\Local\\Temp\\ipykernel_6492\\3662047222.py:9: PerformanceWarning: DataFrame is highly fragmented.  This is usually the result of calling `frame.insert` many times, which has poor performance.  Consider joining all columns at once using pd.concat(axis=1) instead. To get a de-fragmented frame, use `newframe = frame.copy()`\n",
      "  sea_word_freq[sea_wa_only_words] = 0\n",
      "C:\\Users\\John\\AppData\\Local\\Temp\\ipykernel_6492\\3662047222.py:9: PerformanceWarning: DataFrame is highly fragmented.  This is usually the result of calling `frame.insert` many times, which has poor performance.  Consider joining all columns at once using pd.concat(axis=1) instead. To get a de-fragmented frame, use `newframe = frame.copy()`\n",
      "  sea_word_freq[sea_wa_only_words] = 0\n",
      "C:\\Users\\John\\AppData\\Local\\Temp\\ipykernel_6492\\3662047222.py:9: PerformanceWarning: DataFrame is highly fragmented.  This is usually the result of calling `frame.insert` many times, which has poor performance.  Consider joining all columns at once using pd.concat(axis=1) instead. To get a de-fragmented frame, use `newframe = frame.copy()`\n",
      "  sea_word_freq[sea_wa_only_words] = 0\n",
      "C:\\Users\\John\\AppData\\Local\\Temp\\ipykernel_6492\\3662047222.py:9: PerformanceWarning: DataFrame is highly fragmented.  This is usually the result of calling `frame.insert` many times, which has poor performance.  Consider joining all columns at once using pd.concat(axis=1) instead. To get a de-fragmented frame, use `newframe = frame.copy()`\n",
      "  sea_word_freq[sea_wa_only_words] = 0\n",
      "C:\\Users\\John\\AppData\\Local\\Temp\\ipykernel_6492\\3662047222.py:9: PerformanceWarning: DataFrame is highly fragmented.  This is usually the result of calling `frame.insert` many times, which has poor performance.  Consider joining all columns at once using pd.concat(axis=1) instead. To get a de-fragmented frame, use `newframe = frame.copy()`\n",
      "  sea_word_freq[sea_wa_only_words] = 0\n",
      "C:\\Users\\John\\AppData\\Local\\Temp\\ipykernel_6492\\3662047222.py:9: PerformanceWarning: DataFrame is highly fragmented.  This is usually the result of calling `frame.insert` many times, which has poor performance.  Consider joining all columns at once using pd.concat(axis=1) instead. To get a de-fragmented frame, use `newframe = frame.copy()`\n",
      "  sea_word_freq[sea_wa_only_words] = 0\n",
      "C:\\Users\\John\\AppData\\Local\\Temp\\ipykernel_6492\\3662047222.py:9: PerformanceWarning: DataFrame is highly fragmented.  This is usually the result of calling `frame.insert` many times, which has poor performance.  Consider joining all columns at once using pd.concat(axis=1) instead. To get a de-fragmented frame, use `newframe = frame.copy()`\n",
      "  sea_word_freq[sea_wa_only_words] = 0\n",
      "C:\\Users\\John\\AppData\\Local\\Temp\\ipykernel_6492\\3662047222.py:9: PerformanceWarning: DataFrame is highly fragmented.  This is usually the result of calling `frame.insert` many times, which has poor performance.  Consider joining all columns at once using pd.concat(axis=1) instead. To get a de-fragmented frame, use `newframe = frame.copy()`\n",
      "  sea_word_freq[sea_wa_only_words] = 0\n",
      "C:\\Users\\John\\AppData\\Local\\Temp\\ipykernel_6492\\3662047222.py:9: PerformanceWarning: DataFrame is highly fragmented.  This is usually the result of calling `frame.insert` many times, which has poor performance.  Consider joining all columns at once using pd.concat(axis=1) instead. To get a de-fragmented frame, use `newframe = frame.copy()`\n",
      "  sea_word_freq[sea_wa_only_words] = 0\n",
      "C:\\Users\\John\\AppData\\Local\\Temp\\ipykernel_6492\\3662047222.py:9: PerformanceWarning: DataFrame is highly fragmented.  This is usually the result of calling `frame.insert` many times, which has poor performance.  Consider joining all columns at once using pd.concat(axis=1) instead. To get a de-fragmented frame, use `newframe = frame.copy()`\n",
      "  sea_word_freq[sea_wa_only_words] = 0\n",
      "C:\\Users\\John\\AppData\\Local\\Temp\\ipykernel_6492\\3662047222.py:9: PerformanceWarning: DataFrame is highly fragmented.  This is usually the result of calling `frame.insert` many times, which has poor performance.  Consider joining all columns at once using pd.concat(axis=1) instead. To get a de-fragmented frame, use `newframe = frame.copy()`\n",
      "  sea_word_freq[sea_wa_only_words] = 0\n",
      "C:\\Users\\John\\AppData\\Local\\Temp\\ipykernel_6492\\3662047222.py:9: PerformanceWarning: DataFrame is highly fragmented.  This is usually the result of calling `frame.insert` many times, which has poor performance.  Consider joining all columns at once using pd.concat(axis=1) instead. To get a de-fragmented frame, use `newframe = frame.copy()`\n",
      "  sea_word_freq[sea_wa_only_words] = 0\n",
      "C:\\Users\\John\\AppData\\Local\\Temp\\ipykernel_6492\\3662047222.py:9: PerformanceWarning: DataFrame is highly fragmented.  This is usually the result of calling `frame.insert` many times, which has poor performance.  Consider joining all columns at once using pd.concat(axis=1) instead. To get a de-fragmented frame, use `newframe = frame.copy()`\n",
      "  sea_word_freq[sea_wa_only_words] = 0\n",
      "C:\\Users\\John\\AppData\\Local\\Temp\\ipykernel_6492\\3662047222.py:9: PerformanceWarning: DataFrame is highly fragmented.  This is usually the result of calling `frame.insert` many times, which has poor performance.  Consider joining all columns at once using pd.concat(axis=1) instead. To get a de-fragmented frame, use `newframe = frame.copy()`\n",
      "  sea_word_freq[sea_wa_only_words] = 0\n",
      "C:\\Users\\John\\AppData\\Local\\Temp\\ipykernel_6492\\3662047222.py:9: PerformanceWarning: DataFrame is highly fragmented.  This is usually the result of calling `frame.insert` many times, which has poor performance.  Consider joining all columns at once using pd.concat(axis=1) instead. To get a de-fragmented frame, use `newframe = frame.copy()`\n",
      "  sea_word_freq[sea_wa_only_words] = 0\n",
      "C:\\Users\\John\\AppData\\Local\\Temp\\ipykernel_6492\\3662047222.py:9: PerformanceWarning: DataFrame is highly fragmented.  This is usually the result of calling `frame.insert` many times, which has poor performance.  Consider joining all columns at once using pd.concat(axis=1) instead. To get a de-fragmented frame, use `newframe = frame.copy()`\n",
      "  sea_word_freq[sea_wa_only_words] = 0\n",
      "C:\\Users\\John\\AppData\\Local\\Temp\\ipykernel_6492\\3662047222.py:9: PerformanceWarning: DataFrame is highly fragmented.  This is usually the result of calling `frame.insert` many times, which has poor performance.  Consider joining all columns at once using pd.concat(axis=1) instead. To get a de-fragmented frame, use `newframe = frame.copy()`\n",
      "  sea_word_freq[sea_wa_only_words] = 0\n",
      "C:\\Users\\John\\AppData\\Local\\Temp\\ipykernel_6492\\3662047222.py:9: PerformanceWarning: DataFrame is highly fragmented.  This is usually the result of calling `frame.insert` many times, which has poor performance.  Consider joining all columns at once using pd.concat(axis=1) instead. To get a de-fragmented frame, use `newframe = frame.copy()`\n",
      "  sea_word_freq[sea_wa_only_words] = 0\n",
      "C:\\Users\\John\\AppData\\Local\\Temp\\ipykernel_6492\\3662047222.py:9: PerformanceWarning: DataFrame is highly fragmented.  This is usually the result of calling `frame.insert` many times, which has poor performance.  Consider joining all columns at once using pd.concat(axis=1) instead. To get a de-fragmented frame, use `newframe = frame.copy()`\n",
      "  sea_word_freq[sea_wa_only_words] = 0\n",
      "C:\\Users\\John\\AppData\\Local\\Temp\\ipykernel_6492\\3662047222.py:9: PerformanceWarning: DataFrame is highly fragmented.  This is usually the result of calling `frame.insert` many times, which has poor performance.  Consider joining all columns at once using pd.concat(axis=1) instead. To get a de-fragmented frame, use `newframe = frame.copy()`\n",
      "  sea_word_freq[sea_wa_only_words] = 0\n",
      "C:\\Users\\John\\AppData\\Local\\Temp\\ipykernel_6492\\3662047222.py:9: PerformanceWarning: DataFrame is highly fragmented.  This is usually the result of calling `frame.insert` many times, which has poor performance.  Consider joining all columns at once using pd.concat(axis=1) instead. To get a de-fragmented frame, use `newframe = frame.copy()`\n",
      "  sea_word_freq[sea_wa_only_words] = 0\n",
      "C:\\Users\\John\\AppData\\Local\\Temp\\ipykernel_6492\\3662047222.py:9: PerformanceWarning: DataFrame is highly fragmented.  This is usually the result of calling `frame.insert` many times, which has poor performance.  Consider joining all columns at once using pd.concat(axis=1) instead. To get a de-fragmented frame, use `newframe = frame.copy()`\n",
      "  sea_word_freq[sea_wa_only_words] = 0\n",
      "C:\\Users\\John\\AppData\\Local\\Temp\\ipykernel_6492\\3662047222.py:9: PerformanceWarning: DataFrame is highly fragmented.  This is usually the result of calling `frame.insert` many times, which has poor performance.  Consider joining all columns at once using pd.concat(axis=1) instead. To get a de-fragmented frame, use `newframe = frame.copy()`\n",
      "  sea_word_freq[sea_wa_only_words] = 0\n",
      "C:\\Users\\John\\AppData\\Local\\Temp\\ipykernel_6492\\3662047222.py:9: PerformanceWarning: DataFrame is highly fragmented.  This is usually the result of calling `frame.insert` many times, which has poor performance.  Consider joining all columns at once using pd.concat(axis=1) instead. To get a de-fragmented frame, use `newframe = frame.copy()`\n",
      "  sea_word_freq[sea_wa_only_words] = 0\n",
      "C:\\Users\\John\\AppData\\Local\\Temp\\ipykernel_6492\\3662047222.py:9: PerformanceWarning: DataFrame is highly fragmented.  This is usually the result of calling `frame.insert` many times, which has poor performance.  Consider joining all columns at once using pd.concat(axis=1) instead. To get a de-fragmented frame, use `newframe = frame.copy()`\n",
      "  sea_word_freq[sea_wa_only_words] = 0\n",
      "C:\\Users\\John\\AppData\\Local\\Temp\\ipykernel_6492\\3662047222.py:9: PerformanceWarning: DataFrame is highly fragmented.  This is usually the result of calling `frame.insert` many times, which has poor performance.  Consider joining all columns at once using pd.concat(axis=1) instead. To get a de-fragmented frame, use `newframe = frame.copy()`\n",
      "  sea_word_freq[sea_wa_only_words] = 0\n",
      "C:\\Users\\John\\AppData\\Local\\Temp\\ipykernel_6492\\3662047222.py:9: PerformanceWarning: DataFrame is highly fragmented.  This is usually the result of calling `frame.insert` many times, which has poor performance.  Consider joining all columns at once using pd.concat(axis=1) instead. To get a de-fragmented frame, use `newframe = frame.copy()`\n",
      "  sea_word_freq[sea_wa_only_words] = 0\n",
      "C:\\Users\\John\\AppData\\Local\\Temp\\ipykernel_6492\\3662047222.py:9: PerformanceWarning: DataFrame is highly fragmented.  This is usually the result of calling `frame.insert` many times, which has poor performance.  Consider joining all columns at once using pd.concat(axis=1) instead. To get a de-fragmented frame, use `newframe = frame.copy()`\n",
      "  sea_word_freq[sea_wa_only_words] = 0\n",
      "C:\\Users\\John\\AppData\\Local\\Temp\\ipykernel_6492\\3662047222.py:9: PerformanceWarning: DataFrame is highly fragmented.  This is usually the result of calling `frame.insert` many times, which has poor performance.  Consider joining all columns at once using pd.concat(axis=1) instead. To get a de-fragmented frame, use `newframe = frame.copy()`\n",
      "  sea_word_freq[sea_wa_only_words] = 0\n",
      "C:\\Users\\John\\AppData\\Local\\Temp\\ipykernel_6492\\3662047222.py:9: PerformanceWarning: DataFrame is highly fragmented.  This is usually the result of calling `frame.insert` many times, which has poor performance.  Consider joining all columns at once using pd.concat(axis=1) instead. To get a de-fragmented frame, use `newframe = frame.copy()`\n",
      "  sea_word_freq[sea_wa_only_words] = 0\n",
      "C:\\Users\\John\\AppData\\Local\\Temp\\ipykernel_6492\\3662047222.py:9: PerformanceWarning: DataFrame is highly fragmented.  This is usually the result of calling `frame.insert` many times, which has poor performance.  Consider joining all columns at once using pd.concat(axis=1) instead. To get a de-fragmented frame, use `newframe = frame.copy()`\n",
      "  sea_word_freq[sea_wa_only_words] = 0\n",
      "C:\\Users\\John\\AppData\\Local\\Temp\\ipykernel_6492\\3662047222.py:9: PerformanceWarning: DataFrame is highly fragmented.  This is usually the result of calling `frame.insert` many times, which has poor performance.  Consider joining all columns at once using pd.concat(axis=1) instead. To get a de-fragmented frame, use `newframe = frame.copy()`\n",
      "  sea_word_freq[sea_wa_only_words] = 0\n",
      "C:\\Users\\John\\AppData\\Local\\Temp\\ipykernel_6492\\3662047222.py:9: PerformanceWarning: DataFrame is highly fragmented.  This is usually the result of calling `frame.insert` many times, which has poor performance.  Consider joining all columns at once using pd.concat(axis=1) instead. To get a de-fragmented frame, use `newframe = frame.copy()`\n",
      "  sea_word_freq[sea_wa_only_words] = 0\n",
      "C:\\Users\\John\\AppData\\Local\\Temp\\ipykernel_6492\\3662047222.py:9: PerformanceWarning: DataFrame is highly fragmented.  This is usually the result of calling `frame.insert` many times, which has poor performance.  Consider joining all columns at once using pd.concat(axis=1) instead. To get a de-fragmented frame, use `newframe = frame.copy()`\n",
      "  sea_word_freq[sea_wa_only_words] = 0\n",
      "C:\\Users\\John\\AppData\\Local\\Temp\\ipykernel_6492\\3662047222.py:9: PerformanceWarning: DataFrame is highly fragmented.  This is usually the result of calling `frame.insert` many times, which has poor performance.  Consider joining all columns at once using pd.concat(axis=1) instead. To get a de-fragmented frame, use `newframe = frame.copy()`\n",
      "  sea_word_freq[sea_wa_only_words] = 0\n",
      "C:\\Users\\John\\AppData\\Local\\Temp\\ipykernel_6492\\3662047222.py:9: PerformanceWarning: DataFrame is highly fragmented.  This is usually the result of calling `frame.insert` many times, which has poor performance.  Consider joining all columns at once using pd.concat(axis=1) instead. To get a de-fragmented frame, use `newframe = frame.copy()`\n",
      "  sea_word_freq[sea_wa_only_words] = 0\n",
      "C:\\Users\\John\\AppData\\Local\\Temp\\ipykernel_6492\\3662047222.py:9: PerformanceWarning: DataFrame is highly fragmented.  This is usually the result of calling `frame.insert` many times, which has poor performance.  Consider joining all columns at once using pd.concat(axis=1) instead. To get a de-fragmented frame, use `newframe = frame.copy()`\n",
      "  sea_word_freq[sea_wa_only_words] = 0\n",
      "C:\\Users\\John\\AppData\\Local\\Temp\\ipykernel_6492\\3662047222.py:9: PerformanceWarning: DataFrame is highly fragmented.  This is usually the result of calling `frame.insert` many times, which has poor performance.  Consider joining all columns at once using pd.concat(axis=1) instead. To get a de-fragmented frame, use `newframe = frame.copy()`\n",
      "  sea_word_freq[sea_wa_only_words] = 0\n",
      "C:\\Users\\John\\AppData\\Local\\Temp\\ipykernel_6492\\3662047222.py:9: PerformanceWarning: DataFrame is highly fragmented.  This is usually the result of calling `frame.insert` many times, which has poor performance.  Consider joining all columns at once using pd.concat(axis=1) instead. To get a de-fragmented frame, use `newframe = frame.copy()`\n",
      "  sea_word_freq[sea_wa_only_words] = 0\n",
      "C:\\Users\\John\\AppData\\Local\\Temp\\ipykernel_6492\\3662047222.py:9: PerformanceWarning: DataFrame is highly fragmented.  This is usually the result of calling `frame.insert` many times, which has poor performance.  Consider joining all columns at once using pd.concat(axis=1) instead. To get a de-fragmented frame, use `newframe = frame.copy()`\n",
      "  sea_word_freq[sea_wa_only_words] = 0\n",
      "C:\\Users\\John\\AppData\\Local\\Temp\\ipykernel_6492\\3662047222.py:9: PerformanceWarning: DataFrame is highly fragmented.  This is usually the result of calling `frame.insert` many times, which has poor performance.  Consider joining all columns at once using pd.concat(axis=1) instead. To get a de-fragmented frame, use `newframe = frame.copy()`\n",
      "  sea_word_freq[sea_wa_only_words] = 0\n",
      "C:\\Users\\John\\AppData\\Local\\Temp\\ipykernel_6492\\3662047222.py:9: PerformanceWarning: DataFrame is highly fragmented.  This is usually the result of calling `frame.insert` many times, which has poor performance.  Consider joining all columns at once using pd.concat(axis=1) instead. To get a de-fragmented frame, use `newframe = frame.copy()`\n",
      "  sea_word_freq[sea_wa_only_words] = 0\n",
      "C:\\Users\\John\\AppData\\Local\\Temp\\ipykernel_6492\\3662047222.py:9: PerformanceWarning: DataFrame is highly fragmented.  This is usually the result of calling `frame.insert` many times, which has poor performance.  Consider joining all columns at once using pd.concat(axis=1) instead. To get a de-fragmented frame, use `newframe = frame.copy()`\n",
      "  sea_word_freq[sea_wa_only_words] = 0\n",
      "C:\\Users\\John\\AppData\\Local\\Temp\\ipykernel_6492\\3662047222.py:9: PerformanceWarning: DataFrame is highly fragmented.  This is usually the result of calling `frame.insert` many times, which has poor performance.  Consider joining all columns at once using pd.concat(axis=1) instead. To get a de-fragmented frame, use `newframe = frame.copy()`\n",
      "  sea_word_freq[sea_wa_only_words] = 0\n",
      "C:\\Users\\John\\AppData\\Local\\Temp\\ipykernel_6492\\3662047222.py:9: PerformanceWarning: DataFrame is highly fragmented.  This is usually the result of calling `frame.insert` many times, which has poor performance.  Consider joining all columns at once using pd.concat(axis=1) instead. To get a de-fragmented frame, use `newframe = frame.copy()`\n",
      "  sea_word_freq[sea_wa_only_words] = 0\n",
      "C:\\Users\\John\\AppData\\Local\\Temp\\ipykernel_6492\\3662047222.py:9: PerformanceWarning: DataFrame is highly fragmented.  This is usually the result of calling `frame.insert` many times, which has poor performance.  Consider joining all columns at once using pd.concat(axis=1) instead. To get a de-fragmented frame, use `newframe = frame.copy()`\n",
      "  sea_word_freq[sea_wa_only_words] = 0\n",
      "C:\\Users\\John\\AppData\\Local\\Temp\\ipykernel_6492\\3662047222.py:9: PerformanceWarning: DataFrame is highly fragmented.  This is usually the result of calling `frame.insert` many times, which has poor performance.  Consider joining all columns at once using pd.concat(axis=1) instead. To get a de-fragmented frame, use `newframe = frame.copy()`\n",
      "  sea_word_freq[sea_wa_only_words] = 0\n",
      "C:\\Users\\John\\AppData\\Local\\Temp\\ipykernel_6492\\3662047222.py:9: PerformanceWarning: DataFrame is highly fragmented.  This is usually the result of calling `frame.insert` many times, which has poor performance.  Consider joining all columns at once using pd.concat(axis=1) instead. To get a de-fragmented frame, use `newframe = frame.copy()`\n",
      "  sea_word_freq[sea_wa_only_words] = 0\n",
      "C:\\Users\\John\\AppData\\Local\\Temp\\ipykernel_6492\\3662047222.py:9: PerformanceWarning: DataFrame is highly fragmented.  This is usually the result of calling `frame.insert` many times, which has poor performance.  Consider joining all columns at once using pd.concat(axis=1) instead. To get a de-fragmented frame, use `newframe = frame.copy()`\n",
      "  sea_word_freq[sea_wa_only_words] = 0\n",
      "C:\\Users\\John\\AppData\\Local\\Temp\\ipykernel_6492\\3662047222.py:9: PerformanceWarning: DataFrame is highly fragmented.  This is usually the result of calling `frame.insert` many times, which has poor performance.  Consider joining all columns at once using pd.concat(axis=1) instead. To get a de-fragmented frame, use `newframe = frame.copy()`\n",
      "  sea_word_freq[sea_wa_only_words] = 0\n",
      "C:\\Users\\John\\AppData\\Local\\Temp\\ipykernel_6492\\3662047222.py:9: PerformanceWarning: DataFrame is highly fragmented.  This is usually the result of calling `frame.insert` many times, which has poor performance.  Consider joining all columns at once using pd.concat(axis=1) instead. To get a de-fragmented frame, use `newframe = frame.copy()`\n",
      "  sea_word_freq[sea_wa_only_words] = 0\n",
      "C:\\Users\\John\\AppData\\Local\\Temp\\ipykernel_6492\\3662047222.py:9: PerformanceWarning: DataFrame is highly fragmented.  This is usually the result of calling `frame.insert` many times, which has poor performance.  Consider joining all columns at once using pd.concat(axis=1) instead. To get a de-fragmented frame, use `newframe = frame.copy()`\n",
      "  sea_word_freq[sea_wa_only_words] = 0\n",
      "C:\\Users\\John\\AppData\\Local\\Temp\\ipykernel_6492\\3662047222.py:9: PerformanceWarning: DataFrame is highly fragmented.  This is usually the result of calling `frame.insert` many times, which has poor performance.  Consider joining all columns at once using pd.concat(axis=1) instead. To get a de-fragmented frame, use `newframe = frame.copy()`\n",
      "  sea_word_freq[sea_wa_only_words] = 0\n",
      "C:\\Users\\John\\AppData\\Local\\Temp\\ipykernel_6492\\3662047222.py:9: PerformanceWarning: DataFrame is highly fragmented.  This is usually the result of calling `frame.insert` many times, which has poor performance.  Consider joining all columns at once using pd.concat(axis=1) instead. To get a de-fragmented frame, use `newframe = frame.copy()`\n",
      "  sea_word_freq[sea_wa_only_words] = 0\n",
      "C:\\Users\\John\\AppData\\Local\\Temp\\ipykernel_6492\\3662047222.py:9: PerformanceWarning: DataFrame is highly fragmented.  This is usually the result of calling `frame.insert` many times, which has poor performance.  Consider joining all columns at once using pd.concat(axis=1) instead. To get a de-fragmented frame, use `newframe = frame.copy()`\n",
      "  sea_word_freq[sea_wa_only_words] = 0\n",
      "C:\\Users\\John\\AppData\\Local\\Temp\\ipykernel_6492\\3662047222.py:9: PerformanceWarning: DataFrame is highly fragmented.  This is usually the result of calling `frame.insert` many times, which has poor performance.  Consider joining all columns at once using pd.concat(axis=1) instead. To get a de-fragmented frame, use `newframe = frame.copy()`\n",
      "  sea_word_freq[sea_wa_only_words] = 0\n",
      "C:\\Users\\John\\AppData\\Local\\Temp\\ipykernel_6492\\3662047222.py:9: PerformanceWarning: DataFrame is highly fragmented.  This is usually the result of calling `frame.insert` many times, which has poor performance.  Consider joining all columns at once using pd.concat(axis=1) instead. To get a de-fragmented frame, use `newframe = frame.copy()`\n",
      "  sea_word_freq[sea_wa_only_words] = 0\n",
      "C:\\Users\\John\\AppData\\Local\\Temp\\ipykernel_6492\\3662047222.py:9: PerformanceWarning: DataFrame is highly fragmented.  This is usually the result of calling `frame.insert` many times, which has poor performance.  Consider joining all columns at once using pd.concat(axis=1) instead. To get a de-fragmented frame, use `newframe = frame.copy()`\n",
      "  sea_word_freq[sea_wa_only_words] = 0\n",
      "C:\\Users\\John\\AppData\\Local\\Temp\\ipykernel_6492\\3662047222.py:9: PerformanceWarning: DataFrame is highly fragmented.  This is usually the result of calling `frame.insert` many times, which has poor performance.  Consider joining all columns at once using pd.concat(axis=1) instead. To get a de-fragmented frame, use `newframe = frame.copy()`\n",
      "  sea_word_freq[sea_wa_only_words] = 0\n",
      "C:\\Users\\John\\AppData\\Local\\Temp\\ipykernel_6492\\3662047222.py:9: PerformanceWarning: DataFrame is highly fragmented.  This is usually the result of calling `frame.insert` many times, which has poor performance.  Consider joining all columns at once using pd.concat(axis=1) instead. To get a de-fragmented frame, use `newframe = frame.copy()`\n",
      "  sea_word_freq[sea_wa_only_words] = 0\n",
      "C:\\Users\\John\\AppData\\Local\\Temp\\ipykernel_6492\\3662047222.py:9: PerformanceWarning: DataFrame is highly fragmented.  This is usually the result of calling `frame.insert` many times, which has poor performance.  Consider joining all columns at once using pd.concat(axis=1) instead. To get a de-fragmented frame, use `newframe = frame.copy()`\n",
      "  sea_word_freq[sea_wa_only_words] = 0\n",
      "C:\\Users\\John\\AppData\\Local\\Temp\\ipykernel_6492\\3662047222.py:9: PerformanceWarning: DataFrame is highly fragmented.  This is usually the result of calling `frame.insert` many times, which has poor performance.  Consider joining all columns at once using pd.concat(axis=1) instead. To get a de-fragmented frame, use `newframe = frame.copy()`\n",
      "  sea_word_freq[sea_wa_only_words] = 0\n",
      "C:\\Users\\John\\AppData\\Local\\Temp\\ipykernel_6492\\3662047222.py:9: PerformanceWarning: DataFrame is highly fragmented.  This is usually the result of calling `frame.insert` many times, which has poor performance.  Consider joining all columns at once using pd.concat(axis=1) instead. To get a de-fragmented frame, use `newframe = frame.copy()`\n",
      "  sea_word_freq[sea_wa_only_words] = 0\n",
      "C:\\Users\\John\\AppData\\Local\\Temp\\ipykernel_6492\\3662047222.py:9: PerformanceWarning: DataFrame is highly fragmented.  This is usually the result of calling `frame.insert` many times, which has poor performance.  Consider joining all columns at once using pd.concat(axis=1) instead. To get a de-fragmented frame, use `newframe = frame.copy()`\n",
      "  sea_word_freq[sea_wa_only_words] = 0\n",
      "C:\\Users\\John\\AppData\\Local\\Temp\\ipykernel_6492\\3662047222.py:9: PerformanceWarning: DataFrame is highly fragmented.  This is usually the result of calling `frame.insert` many times, which has poor performance.  Consider joining all columns at once using pd.concat(axis=1) instead. To get a de-fragmented frame, use `newframe = frame.copy()`\n",
      "  sea_word_freq[sea_wa_only_words] = 0\n",
      "C:\\Users\\John\\AppData\\Local\\Temp\\ipykernel_6492\\3662047222.py:9: PerformanceWarning: DataFrame is highly fragmented.  This is usually the result of calling `frame.insert` many times, which has poor performance.  Consider joining all columns at once using pd.concat(axis=1) instead. To get a de-fragmented frame, use `newframe = frame.copy()`\n",
      "  sea_word_freq[sea_wa_only_words] = 0\n",
      "C:\\Users\\John\\AppData\\Local\\Temp\\ipykernel_6492\\3662047222.py:9: PerformanceWarning: DataFrame is highly fragmented.  This is usually the result of calling `frame.insert` many times, which has poor performance.  Consider joining all columns at once using pd.concat(axis=1) instead. To get a de-fragmented frame, use `newframe = frame.copy()`\n",
      "  sea_word_freq[sea_wa_only_words] = 0\n",
      "C:\\Users\\John\\AppData\\Local\\Temp\\ipykernel_6492\\3662047222.py:9: PerformanceWarning: DataFrame is highly fragmented.  This is usually the result of calling `frame.insert` many times, which has poor performance.  Consider joining all columns at once using pd.concat(axis=1) instead. To get a de-fragmented frame, use `newframe = frame.copy()`\n",
      "  sea_word_freq[sea_wa_only_words] = 0\n",
      "C:\\Users\\John\\AppData\\Local\\Temp\\ipykernel_6492\\3662047222.py:9: PerformanceWarning: DataFrame is highly fragmented.  This is usually the result of calling `frame.insert` many times, which has poor performance.  Consider joining all columns at once using pd.concat(axis=1) instead. To get a de-fragmented frame, use `newframe = frame.copy()`\n",
      "  sea_word_freq[sea_wa_only_words] = 0\n",
      "C:\\Users\\John\\AppData\\Local\\Temp\\ipykernel_6492\\3662047222.py:9: PerformanceWarning: DataFrame is highly fragmented.  This is usually the result of calling `frame.insert` many times, which has poor performance.  Consider joining all columns at once using pd.concat(axis=1) instead. To get a de-fragmented frame, use `newframe = frame.copy()`\n",
      "  sea_word_freq[sea_wa_only_words] = 0\n",
      "C:\\Users\\John\\AppData\\Local\\Temp\\ipykernel_6492\\3662047222.py:9: PerformanceWarning: DataFrame is highly fragmented.  This is usually the result of calling `frame.insert` many times, which has poor performance.  Consider joining all columns at once using pd.concat(axis=1) instead. To get a de-fragmented frame, use `newframe = frame.copy()`\n",
      "  sea_word_freq[sea_wa_only_words] = 0\n",
      "C:\\Users\\John\\AppData\\Local\\Temp\\ipykernel_6492\\3662047222.py:9: PerformanceWarning: DataFrame is highly fragmented.  This is usually the result of calling `frame.insert` many times, which has poor performance.  Consider joining all columns at once using pd.concat(axis=1) instead. To get a de-fragmented frame, use `newframe = frame.copy()`\n",
      "  sea_word_freq[sea_wa_only_words] = 0\n",
      "C:\\Users\\John\\AppData\\Local\\Temp\\ipykernel_6492\\3662047222.py:9: PerformanceWarning: DataFrame is highly fragmented.  This is usually the result of calling `frame.insert` many times, which has poor performance.  Consider joining all columns at once using pd.concat(axis=1) instead. To get a de-fragmented frame, use `newframe = frame.copy()`\n",
      "  sea_word_freq[sea_wa_only_words] = 0\n",
      "C:\\Users\\John\\AppData\\Local\\Temp\\ipykernel_6492\\3662047222.py:9: PerformanceWarning: DataFrame is highly fragmented.  This is usually the result of calling `frame.insert` many times, which has poor performance.  Consider joining all columns at once using pd.concat(axis=1) instead. To get a de-fragmented frame, use `newframe = frame.copy()`\n",
      "  sea_word_freq[sea_wa_only_words] = 0\n",
      "C:\\Users\\John\\AppData\\Local\\Temp\\ipykernel_6492\\3662047222.py:9: PerformanceWarning: DataFrame is highly fragmented.  This is usually the result of calling `frame.insert` many times, which has poor performance.  Consider joining all columns at once using pd.concat(axis=1) instead. To get a de-fragmented frame, use `newframe = frame.copy()`\n",
      "  sea_word_freq[sea_wa_only_words] = 0\n",
      "C:\\Users\\John\\AppData\\Local\\Temp\\ipykernel_6492\\3662047222.py:9: PerformanceWarning: DataFrame is highly fragmented.  This is usually the result of calling `frame.insert` many times, which has poor performance.  Consider joining all columns at once using pd.concat(axis=1) instead. To get a de-fragmented frame, use `newframe = frame.copy()`\n",
      "  sea_word_freq[sea_wa_only_words] = 0\n",
      "C:\\Users\\John\\AppData\\Local\\Temp\\ipykernel_6492\\3662047222.py:9: PerformanceWarning: DataFrame is highly fragmented.  This is usually the result of calling `frame.insert` many times, which has poor performance.  Consider joining all columns at once using pd.concat(axis=1) instead. To get a de-fragmented frame, use `newframe = frame.copy()`\n",
      "  sea_word_freq[sea_wa_only_words] = 0\n",
      "C:\\Users\\John\\AppData\\Local\\Temp\\ipykernel_6492\\3662047222.py:9: PerformanceWarning: DataFrame is highly fragmented.  This is usually the result of calling `frame.insert` many times, which has poor performance.  Consider joining all columns at once using pd.concat(axis=1) instead. To get a de-fragmented frame, use `newframe = frame.copy()`\n",
      "  sea_word_freq[sea_wa_only_words] = 0\n",
      "C:\\Users\\John\\AppData\\Local\\Temp\\ipykernel_6492\\3662047222.py:9: PerformanceWarning: DataFrame is highly fragmented.  This is usually the result of calling `frame.insert` many times, which has poor performance.  Consider joining all columns at once using pd.concat(axis=1) instead. To get a de-fragmented frame, use `newframe = frame.copy()`\n",
      "  sea_word_freq[sea_wa_only_words] = 0\n",
      "C:\\Users\\John\\AppData\\Local\\Temp\\ipykernel_6492\\3662047222.py:9: PerformanceWarning: DataFrame is highly fragmented.  This is usually the result of calling `frame.insert` many times, which has poor performance.  Consider joining all columns at once using pd.concat(axis=1) instead. To get a de-fragmented frame, use `newframe = frame.copy()`\n",
      "  sea_word_freq[sea_wa_only_words] = 0\n",
      "C:\\Users\\John\\AppData\\Local\\Temp\\ipykernel_6492\\3662047222.py:9: PerformanceWarning: DataFrame is highly fragmented.  This is usually the result of calling `frame.insert` many times, which has poor performance.  Consider joining all columns at once using pd.concat(axis=1) instead. To get a de-fragmented frame, use `newframe = frame.copy()`\n",
      "  sea_word_freq[sea_wa_only_words] = 0\n",
      "C:\\Users\\John\\AppData\\Local\\Temp\\ipykernel_6492\\3662047222.py:9: PerformanceWarning: DataFrame is highly fragmented.  This is usually the result of calling `frame.insert` many times, which has poor performance.  Consider joining all columns at once using pd.concat(axis=1) instead. To get a de-fragmented frame, use `newframe = frame.copy()`\n",
      "  sea_word_freq[sea_wa_only_words] = 0\n",
      "C:\\Users\\John\\AppData\\Local\\Temp\\ipykernel_6492\\3662047222.py:9: PerformanceWarning: DataFrame is highly fragmented.  This is usually the result of calling `frame.insert` many times, which has poor performance.  Consider joining all columns at once using pd.concat(axis=1) instead. To get a de-fragmented frame, use `newframe = frame.copy()`\n",
      "  sea_word_freq[sea_wa_only_words] = 0\n",
      "C:\\Users\\John\\AppData\\Local\\Temp\\ipykernel_6492\\3662047222.py:9: PerformanceWarning: DataFrame is highly fragmented.  This is usually the result of calling `frame.insert` many times, which has poor performance.  Consider joining all columns at once using pd.concat(axis=1) instead. To get a de-fragmented frame, use `newframe = frame.copy()`\n",
      "  sea_word_freq[sea_wa_only_words] = 0\n",
      "C:\\Users\\John\\AppData\\Local\\Temp\\ipykernel_6492\\3662047222.py:9: PerformanceWarning: DataFrame is highly fragmented.  This is usually the result of calling `frame.insert` many times, which has poor performance.  Consider joining all columns at once using pd.concat(axis=1) instead. To get a de-fragmented frame, use `newframe = frame.copy()`\n",
      "  sea_word_freq[sea_wa_only_words] = 0\n",
      "C:\\Users\\John\\AppData\\Local\\Temp\\ipykernel_6492\\3662047222.py:9: PerformanceWarning: DataFrame is highly fragmented.  This is usually the result of calling `frame.insert` many times, which has poor performance.  Consider joining all columns at once using pd.concat(axis=1) instead. To get a de-fragmented frame, use `newframe = frame.copy()`\n",
      "  sea_word_freq[sea_wa_only_words] = 0\n",
      "C:\\Users\\John\\AppData\\Local\\Temp\\ipykernel_6492\\3662047222.py:9: PerformanceWarning: DataFrame is highly fragmented.  This is usually the result of calling `frame.insert` many times, which has poor performance.  Consider joining all columns at once using pd.concat(axis=1) instead. To get a de-fragmented frame, use `newframe = frame.copy()`\n",
      "  sea_word_freq[sea_wa_only_words] = 0\n",
      "C:\\Users\\John\\AppData\\Local\\Temp\\ipykernel_6492\\3662047222.py:9: PerformanceWarning: DataFrame is highly fragmented.  This is usually the result of calling `frame.insert` many times, which has poor performance.  Consider joining all columns at once using pd.concat(axis=1) instead. To get a de-fragmented frame, use `newframe = frame.copy()`\n",
      "  sea_word_freq[sea_wa_only_words] = 0\n",
      "C:\\Users\\John\\AppData\\Local\\Temp\\ipykernel_6492\\3662047222.py:9: PerformanceWarning: DataFrame is highly fragmented.  This is usually the result of calling `frame.insert` many times, which has poor performance.  Consider joining all columns at once using pd.concat(axis=1) instead. To get a de-fragmented frame, use `newframe = frame.copy()`\n",
      "  sea_word_freq[sea_wa_only_words] = 0\n",
      "C:\\Users\\John\\AppData\\Local\\Temp\\ipykernel_6492\\3662047222.py:9: PerformanceWarning: DataFrame is highly fragmented.  This is usually the result of calling `frame.insert` many times, which has poor performance.  Consider joining all columns at once using pd.concat(axis=1) instead. To get a de-fragmented frame, use `newframe = frame.copy()`\n",
      "  sea_word_freq[sea_wa_only_words] = 0\n",
      "C:\\Users\\John\\AppData\\Local\\Temp\\ipykernel_6492\\3662047222.py:9: PerformanceWarning: DataFrame is highly fragmented.  This is usually the result of calling `frame.insert` many times, which has poor performance.  Consider joining all columns at once using pd.concat(axis=1) instead. To get a de-fragmented frame, use `newframe = frame.copy()`\n",
      "  sea_word_freq[sea_wa_only_words] = 0\n",
      "C:\\Users\\John\\AppData\\Local\\Temp\\ipykernel_6492\\3662047222.py:9: PerformanceWarning: DataFrame is highly fragmented.  This is usually the result of calling `frame.insert` many times, which has poor performance.  Consider joining all columns at once using pd.concat(axis=1) instead. To get a de-fragmented frame, use `newframe = frame.copy()`\n",
      "  sea_word_freq[sea_wa_only_words] = 0\n",
      "C:\\Users\\John\\AppData\\Local\\Temp\\ipykernel_6492\\3662047222.py:9: PerformanceWarning: DataFrame is highly fragmented.  This is usually the result of calling `frame.insert` many times, which has poor performance.  Consider joining all columns at once using pd.concat(axis=1) instead. To get a de-fragmented frame, use `newframe = frame.copy()`\n",
      "  sea_word_freq[sea_wa_only_words] = 0\n",
      "C:\\Users\\John\\AppData\\Local\\Temp\\ipykernel_6492\\3662047222.py:9: PerformanceWarning: DataFrame is highly fragmented.  This is usually the result of calling `frame.insert` many times, which has poor performance.  Consider joining all columns at once using pd.concat(axis=1) instead. To get a de-fragmented frame, use `newframe = frame.copy()`\n",
      "  sea_word_freq[sea_wa_only_words] = 0\n",
      "C:\\Users\\John\\AppData\\Local\\Temp\\ipykernel_6492\\3662047222.py:9: PerformanceWarning: DataFrame is highly fragmented.  This is usually the result of calling `frame.insert` many times, which has poor performance.  Consider joining all columns at once using pd.concat(axis=1) instead. To get a de-fragmented frame, use `newframe = frame.copy()`\n",
      "  sea_word_freq[sea_wa_only_words] = 0\n",
      "C:\\Users\\John\\AppData\\Local\\Temp\\ipykernel_6492\\3662047222.py:9: PerformanceWarning: DataFrame is highly fragmented.  This is usually the result of calling `frame.insert` many times, which has poor performance.  Consider joining all columns at once using pd.concat(axis=1) instead. To get a de-fragmented frame, use `newframe = frame.copy()`\n",
      "  sea_word_freq[sea_wa_only_words] = 0\n",
      "C:\\Users\\John\\AppData\\Local\\Temp\\ipykernel_6492\\3662047222.py:9: PerformanceWarning: DataFrame is highly fragmented.  This is usually the result of calling `frame.insert` many times, which has poor performance.  Consider joining all columns at once using pd.concat(axis=1) instead. To get a de-fragmented frame, use `newframe = frame.copy()`\n",
      "  sea_word_freq[sea_wa_only_words] = 0\n",
      "C:\\Users\\John\\AppData\\Local\\Temp\\ipykernel_6492\\3662047222.py:9: PerformanceWarning: DataFrame is highly fragmented.  This is usually the result of calling `frame.insert` many times, which has poor performance.  Consider joining all columns at once using pd.concat(axis=1) instead. To get a de-fragmented frame, use `newframe = frame.copy()`\n",
      "  sea_word_freq[sea_wa_only_words] = 0\n",
      "C:\\Users\\John\\AppData\\Local\\Temp\\ipykernel_6492\\3662047222.py:9: PerformanceWarning: DataFrame is highly fragmented.  This is usually the result of calling `frame.insert` many times, which has poor performance.  Consider joining all columns at once using pd.concat(axis=1) instead. To get a de-fragmented frame, use `newframe = frame.copy()`\n",
      "  sea_word_freq[sea_wa_only_words] = 0\n",
      "C:\\Users\\John\\AppData\\Local\\Temp\\ipykernel_6492\\3662047222.py:9: PerformanceWarning: DataFrame is highly fragmented.  This is usually the result of calling `frame.insert` many times, which has poor performance.  Consider joining all columns at once using pd.concat(axis=1) instead. To get a de-fragmented frame, use `newframe = frame.copy()`\n",
      "  sea_word_freq[sea_wa_only_words] = 0\n",
      "C:\\Users\\John\\AppData\\Local\\Temp\\ipykernel_6492\\3662047222.py:9: PerformanceWarning: DataFrame is highly fragmented.  This is usually the result of calling `frame.insert` many times, which has poor performance.  Consider joining all columns at once using pd.concat(axis=1) instead. To get a de-fragmented frame, use `newframe = frame.copy()`\n",
      "  sea_word_freq[sea_wa_only_words] = 0\n",
      "C:\\Users\\John\\AppData\\Local\\Temp\\ipykernel_6492\\3662047222.py:9: PerformanceWarning: DataFrame is highly fragmented.  This is usually the result of calling `frame.insert` many times, which has poor performance.  Consider joining all columns at once using pd.concat(axis=1) instead. To get a de-fragmented frame, use `newframe = frame.copy()`\n",
      "  sea_word_freq[sea_wa_only_words] = 0\n",
      "C:\\Users\\John\\AppData\\Local\\Temp\\ipykernel_6492\\3662047222.py:9: PerformanceWarning: DataFrame is highly fragmented.  This is usually the result of calling `frame.insert` many times, which has poor performance.  Consider joining all columns at once using pd.concat(axis=1) instead. To get a de-fragmented frame, use `newframe = frame.copy()`\n",
      "  sea_word_freq[sea_wa_only_words] = 0\n",
      "C:\\Users\\John\\AppData\\Local\\Temp\\ipykernel_6492\\3662047222.py:9: PerformanceWarning: DataFrame is highly fragmented.  This is usually the result of calling `frame.insert` many times, which has poor performance.  Consider joining all columns at once using pd.concat(axis=1) instead. To get a de-fragmented frame, use `newframe = frame.copy()`\n",
      "  sea_word_freq[sea_wa_only_words] = 0\n",
      "C:\\Users\\John\\AppData\\Local\\Temp\\ipykernel_6492\\3662047222.py:9: PerformanceWarning: DataFrame is highly fragmented.  This is usually the result of calling `frame.insert` many times, which has poor performance.  Consider joining all columns at once using pd.concat(axis=1) instead. To get a de-fragmented frame, use `newframe = frame.copy()`\n",
      "  sea_word_freq[sea_wa_only_words] = 0\n",
      "C:\\Users\\John\\AppData\\Local\\Temp\\ipykernel_6492\\3662047222.py:9: PerformanceWarning: DataFrame is highly fragmented.  This is usually the result of calling `frame.insert` many times, which has poor performance.  Consider joining all columns at once using pd.concat(axis=1) instead. To get a de-fragmented frame, use `newframe = frame.copy()`\n",
      "  sea_word_freq[sea_wa_only_words] = 0\n",
      "C:\\Users\\John\\AppData\\Local\\Temp\\ipykernel_6492\\3662047222.py:9: PerformanceWarning: DataFrame is highly fragmented.  This is usually the result of calling `frame.insert` many times, which has poor performance.  Consider joining all columns at once using pd.concat(axis=1) instead. To get a de-fragmented frame, use `newframe = frame.copy()`\n",
      "  sea_word_freq[sea_wa_only_words] = 0\n",
      "C:\\Users\\John\\AppData\\Local\\Temp\\ipykernel_6492\\3662047222.py:9: PerformanceWarning: DataFrame is highly fragmented.  This is usually the result of calling `frame.insert` many times, which has poor performance.  Consider joining all columns at once using pd.concat(axis=1) instead. To get a de-fragmented frame, use `newframe = frame.copy()`\n",
      "  sea_word_freq[sea_wa_only_words] = 0\n",
      "C:\\Users\\John\\AppData\\Local\\Temp\\ipykernel_6492\\3662047222.py:9: PerformanceWarning: DataFrame is highly fragmented.  This is usually the result of calling `frame.insert` many times, which has poor performance.  Consider joining all columns at once using pd.concat(axis=1) instead. To get a de-fragmented frame, use `newframe = frame.copy()`\n",
      "  sea_word_freq[sea_wa_only_words] = 0\n",
      "C:\\Users\\John\\AppData\\Local\\Temp\\ipykernel_6492\\3662047222.py:9: PerformanceWarning: DataFrame is highly fragmented.  This is usually the result of calling `frame.insert` many times, which has poor performance.  Consider joining all columns at once using pd.concat(axis=1) instead. To get a de-fragmented frame, use `newframe = frame.copy()`\n",
      "  sea_word_freq[sea_wa_only_words] = 0\n",
      "C:\\Users\\John\\AppData\\Local\\Temp\\ipykernel_6492\\3662047222.py:9: PerformanceWarning: DataFrame is highly fragmented.  This is usually the result of calling `frame.insert` many times, which has poor performance.  Consider joining all columns at once using pd.concat(axis=1) instead. To get a de-fragmented frame, use `newframe = frame.copy()`\n",
      "  sea_word_freq[sea_wa_only_words] = 0\n",
      "C:\\Users\\John\\AppData\\Local\\Temp\\ipykernel_6492\\3662047222.py:9: PerformanceWarning: DataFrame is highly fragmented.  This is usually the result of calling `frame.insert` many times, which has poor performance.  Consider joining all columns at once using pd.concat(axis=1) instead. To get a de-fragmented frame, use `newframe = frame.copy()`\n",
      "  sea_word_freq[sea_wa_only_words] = 0\n",
      "C:\\Users\\John\\AppData\\Local\\Temp\\ipykernel_6492\\3662047222.py:9: PerformanceWarning: DataFrame is highly fragmented.  This is usually the result of calling `frame.insert` many times, which has poor performance.  Consider joining all columns at once using pd.concat(axis=1) instead. To get a de-fragmented frame, use `newframe = frame.copy()`\n",
      "  sea_word_freq[sea_wa_only_words] = 0\n",
      "C:\\Users\\John\\AppData\\Local\\Temp\\ipykernel_6492\\3662047222.py:9: PerformanceWarning: DataFrame is highly fragmented.  This is usually the result of calling `frame.insert` many times, which has poor performance.  Consider joining all columns at once using pd.concat(axis=1) instead. To get a de-fragmented frame, use `newframe = frame.copy()`\n",
      "  sea_word_freq[sea_wa_only_words] = 0\n",
      "C:\\Users\\John\\AppData\\Local\\Temp\\ipykernel_6492\\3662047222.py:9: PerformanceWarning: DataFrame is highly fragmented.  This is usually the result of calling `frame.insert` many times, which has poor performance.  Consider joining all columns at once using pd.concat(axis=1) instead. To get a de-fragmented frame, use `newframe = frame.copy()`\n",
      "  sea_word_freq[sea_wa_only_words] = 0\n",
      "C:\\Users\\John\\AppData\\Local\\Temp\\ipykernel_6492\\3662047222.py:9: PerformanceWarning: DataFrame is highly fragmented.  This is usually the result of calling `frame.insert` many times, which has poor performance.  Consider joining all columns at once using pd.concat(axis=1) instead. To get a de-fragmented frame, use `newframe = frame.copy()`\n",
      "  sea_word_freq[sea_wa_only_words] = 0\n",
      "C:\\Users\\John\\AppData\\Local\\Temp\\ipykernel_6492\\3662047222.py:9: PerformanceWarning: DataFrame is highly fragmented.  This is usually the result of calling `frame.insert` many times, which has poor performance.  Consider joining all columns at once using pd.concat(axis=1) instead. To get a de-fragmented frame, use `newframe = frame.copy()`\n",
      "  sea_word_freq[sea_wa_only_words] = 0\n",
      "C:\\Users\\John\\AppData\\Local\\Temp\\ipykernel_6492\\3662047222.py:9: PerformanceWarning: DataFrame is highly fragmented.  This is usually the result of calling `frame.insert` many times, which has poor performance.  Consider joining all columns at once using pd.concat(axis=1) instead. To get a de-fragmented frame, use `newframe = frame.copy()`\n",
      "  sea_word_freq[sea_wa_only_words] = 0\n",
      "C:\\Users\\John\\AppData\\Local\\Temp\\ipykernel_6492\\3662047222.py:9: PerformanceWarning: DataFrame is highly fragmented.  This is usually the result of calling `frame.insert` many times, which has poor performance.  Consider joining all columns at once using pd.concat(axis=1) instead. To get a de-fragmented frame, use `newframe = frame.copy()`\n",
      "  sea_word_freq[sea_wa_only_words] = 0\n",
      "C:\\Users\\John\\AppData\\Local\\Temp\\ipykernel_6492\\3662047222.py:9: PerformanceWarning: DataFrame is highly fragmented.  This is usually the result of calling `frame.insert` many times, which has poor performance.  Consider joining all columns at once using pd.concat(axis=1) instead. To get a de-fragmented frame, use `newframe = frame.copy()`\n",
      "  sea_word_freq[sea_wa_only_words] = 0\n",
      "C:\\Users\\John\\AppData\\Local\\Temp\\ipykernel_6492\\3662047222.py:9: PerformanceWarning: DataFrame is highly fragmented.  This is usually the result of calling `frame.insert` many times, which has poor performance.  Consider joining all columns at once using pd.concat(axis=1) instead. To get a de-fragmented frame, use `newframe = frame.copy()`\n",
      "  sea_word_freq[sea_wa_only_words] = 0\n",
      "C:\\Users\\John\\AppData\\Local\\Temp\\ipykernel_6492\\3662047222.py:9: PerformanceWarning: DataFrame is highly fragmented.  This is usually the result of calling `frame.insert` many times, which has poor performance.  Consider joining all columns at once using pd.concat(axis=1) instead. To get a de-fragmented frame, use `newframe = frame.copy()`\n",
      "  sea_word_freq[sea_wa_only_words] = 0\n",
      "C:\\Users\\John\\AppData\\Local\\Temp\\ipykernel_6492\\3662047222.py:9: PerformanceWarning: DataFrame is highly fragmented.  This is usually the result of calling `frame.insert` many times, which has poor performance.  Consider joining all columns at once using pd.concat(axis=1) instead. To get a de-fragmented frame, use `newframe = frame.copy()`\n",
      "  sea_word_freq[sea_wa_only_words] = 0\n",
      "C:\\Users\\John\\AppData\\Local\\Temp\\ipykernel_6492\\3662047222.py:9: PerformanceWarning: DataFrame is highly fragmented.  This is usually the result of calling `frame.insert` many times, which has poor performance.  Consider joining all columns at once using pd.concat(axis=1) instead. To get a de-fragmented frame, use `newframe = frame.copy()`\n",
      "  sea_word_freq[sea_wa_only_words] = 0\n",
      "C:\\Users\\John\\AppData\\Local\\Temp\\ipykernel_6492\\3662047222.py:9: PerformanceWarning: DataFrame is highly fragmented.  This is usually the result of calling `frame.insert` many times, which has poor performance.  Consider joining all columns at once using pd.concat(axis=1) instead. To get a de-fragmented frame, use `newframe = frame.copy()`\n",
      "  sea_word_freq[sea_wa_only_words] = 0\n",
      "C:\\Users\\John\\AppData\\Local\\Temp\\ipykernel_6492\\3662047222.py:9: PerformanceWarning: DataFrame is highly fragmented.  This is usually the result of calling `frame.insert` many times, which has poor performance.  Consider joining all columns at once using pd.concat(axis=1) instead. To get a de-fragmented frame, use `newframe = frame.copy()`\n",
      "  sea_word_freq[sea_wa_only_words] = 0\n",
      "C:\\Users\\John\\AppData\\Local\\Temp\\ipykernel_6492\\3662047222.py:9: PerformanceWarning: DataFrame is highly fragmented.  This is usually the result of calling `frame.insert` many times, which has poor performance.  Consider joining all columns at once using pd.concat(axis=1) instead. To get a de-fragmented frame, use `newframe = frame.copy()`\n",
      "  sea_word_freq[sea_wa_only_words] = 0\n",
      "C:\\Users\\John\\AppData\\Local\\Temp\\ipykernel_6492\\3662047222.py:9: PerformanceWarning: DataFrame is highly fragmented.  This is usually the result of calling `frame.insert` many times, which has poor performance.  Consider joining all columns at once using pd.concat(axis=1) instead. To get a de-fragmented frame, use `newframe = frame.copy()`\n",
      "  sea_word_freq[sea_wa_only_words] = 0\n",
      "C:\\Users\\John\\AppData\\Local\\Temp\\ipykernel_6492\\3662047222.py:9: PerformanceWarning: DataFrame is highly fragmented.  This is usually the result of calling `frame.insert` many times, which has poor performance.  Consider joining all columns at once using pd.concat(axis=1) instead. To get a de-fragmented frame, use `newframe = frame.copy()`\n",
      "  sea_word_freq[sea_wa_only_words] = 0\n",
      "C:\\Users\\John\\AppData\\Local\\Temp\\ipykernel_6492\\3662047222.py:9: PerformanceWarning: DataFrame is highly fragmented.  This is usually the result of calling `frame.insert` many times, which has poor performance.  Consider joining all columns at once using pd.concat(axis=1) instead. To get a de-fragmented frame, use `newframe = frame.copy()`\n",
      "  sea_word_freq[sea_wa_only_words] = 0\n",
      "C:\\Users\\John\\AppData\\Local\\Temp\\ipykernel_6492\\3662047222.py:9: PerformanceWarning: DataFrame is highly fragmented.  This is usually the result of calling `frame.insert` many times, which has poor performance.  Consider joining all columns at once using pd.concat(axis=1) instead. To get a de-fragmented frame, use `newframe = frame.copy()`\n",
      "  sea_word_freq[sea_wa_only_words] = 0\n",
      "C:\\Users\\John\\AppData\\Local\\Temp\\ipykernel_6492\\3662047222.py:9: PerformanceWarning: DataFrame is highly fragmented.  This is usually the result of calling `frame.insert` many times, which has poor performance.  Consider joining all columns at once using pd.concat(axis=1) instead. To get a de-fragmented frame, use `newframe = frame.copy()`\n",
      "  sea_word_freq[sea_wa_only_words] = 0\n",
      "C:\\Users\\John\\AppData\\Local\\Temp\\ipykernel_6492\\3662047222.py:9: PerformanceWarning: DataFrame is highly fragmented.  This is usually the result of calling `frame.insert` many times, which has poor performance.  Consider joining all columns at once using pd.concat(axis=1) instead. To get a de-fragmented frame, use `newframe = frame.copy()`\n",
      "  sea_word_freq[sea_wa_only_words] = 0\n",
      "C:\\Users\\John\\AppData\\Local\\Temp\\ipykernel_6492\\3662047222.py:9: PerformanceWarning: DataFrame is highly fragmented.  This is usually the result of calling `frame.insert` many times, which has poor performance.  Consider joining all columns at once using pd.concat(axis=1) instead. To get a de-fragmented frame, use `newframe = frame.copy()`\n",
      "  sea_word_freq[sea_wa_only_words] = 0\n",
      "C:\\Users\\John\\AppData\\Local\\Temp\\ipykernel_6492\\3662047222.py:9: PerformanceWarning: DataFrame is highly fragmented.  This is usually the result of calling `frame.insert` many times, which has poor performance.  Consider joining all columns at once using pd.concat(axis=1) instead. To get a de-fragmented frame, use `newframe = frame.copy()`\n",
      "  sea_word_freq[sea_wa_only_words] = 0\n",
      "C:\\Users\\John\\AppData\\Local\\Temp\\ipykernel_6492\\3662047222.py:9: PerformanceWarning: DataFrame is highly fragmented.  This is usually the result of calling `frame.insert` many times, which has poor performance.  Consider joining all columns at once using pd.concat(axis=1) instead. To get a de-fragmented frame, use `newframe = frame.copy()`\n",
      "  sea_word_freq[sea_wa_only_words] = 0\n",
      "C:\\Users\\John\\AppData\\Local\\Temp\\ipykernel_6492\\3662047222.py:9: PerformanceWarning: DataFrame is highly fragmented.  This is usually the result of calling `frame.insert` many times, which has poor performance.  Consider joining all columns at once using pd.concat(axis=1) instead. To get a de-fragmented frame, use `newframe = frame.copy()`\n",
      "  sea_word_freq[sea_wa_only_words] = 0\n",
      "C:\\Users\\John\\AppData\\Local\\Temp\\ipykernel_6492\\3662047222.py:9: PerformanceWarning: DataFrame is highly fragmented.  This is usually the result of calling `frame.insert` many times, which has poor performance.  Consider joining all columns at once using pd.concat(axis=1) instead. To get a de-fragmented frame, use `newframe = frame.copy()`\n",
      "  sea_word_freq[sea_wa_only_words] = 0\n",
      "C:\\Users\\John\\AppData\\Local\\Temp\\ipykernel_6492\\3662047222.py:9: PerformanceWarning: DataFrame is highly fragmented.  This is usually the result of calling `frame.insert` many times, which has poor performance.  Consider joining all columns at once using pd.concat(axis=1) instead. To get a de-fragmented frame, use `newframe = frame.copy()`\n",
      "  sea_word_freq[sea_wa_only_words] = 0\n",
      "C:\\Users\\John\\AppData\\Local\\Temp\\ipykernel_6492\\3662047222.py:9: PerformanceWarning: DataFrame is highly fragmented.  This is usually the result of calling `frame.insert` many times, which has poor performance.  Consider joining all columns at once using pd.concat(axis=1) instead. To get a de-fragmented frame, use `newframe = frame.copy()`\n",
      "  sea_word_freq[sea_wa_only_words] = 0\n",
      "C:\\Users\\John\\AppData\\Local\\Temp\\ipykernel_6492\\3662047222.py:9: PerformanceWarning: DataFrame is highly fragmented.  This is usually the result of calling `frame.insert` many times, which has poor performance.  Consider joining all columns at once using pd.concat(axis=1) instead. To get a de-fragmented frame, use `newframe = frame.copy()`\n",
      "  sea_word_freq[sea_wa_only_words] = 0\n",
      "C:\\Users\\John\\AppData\\Local\\Temp\\ipykernel_6492\\3662047222.py:9: PerformanceWarning: DataFrame is highly fragmented.  This is usually the result of calling `frame.insert` many times, which has poor performance.  Consider joining all columns at once using pd.concat(axis=1) instead. To get a de-fragmented frame, use `newframe = frame.copy()`\n",
      "  sea_word_freq[sea_wa_only_words] = 0\n",
      "C:\\Users\\John\\AppData\\Local\\Temp\\ipykernel_6492\\3662047222.py:9: PerformanceWarning: DataFrame is highly fragmented.  This is usually the result of calling `frame.insert` many times, which has poor performance.  Consider joining all columns at once using pd.concat(axis=1) instead. To get a de-fragmented frame, use `newframe = frame.copy()`\n",
      "  sea_word_freq[sea_wa_only_words] = 0\n",
      "C:\\Users\\John\\AppData\\Local\\Temp\\ipykernel_6492\\3662047222.py:9: PerformanceWarning: DataFrame is highly fragmented.  This is usually the result of calling `frame.insert` many times, which has poor performance.  Consider joining all columns at once using pd.concat(axis=1) instead. To get a de-fragmented frame, use `newframe = frame.copy()`\n",
      "  sea_word_freq[sea_wa_only_words] = 0\n",
      "C:\\Users\\John\\AppData\\Local\\Temp\\ipykernel_6492\\3662047222.py:9: PerformanceWarning: DataFrame is highly fragmented.  This is usually the result of calling `frame.insert` many times, which has poor performance.  Consider joining all columns at once using pd.concat(axis=1) instead. To get a de-fragmented frame, use `newframe = frame.copy()`\n",
      "  sea_word_freq[sea_wa_only_words] = 0\n",
      "C:\\Users\\John\\AppData\\Local\\Temp\\ipykernel_6492\\3662047222.py:9: PerformanceWarning: DataFrame is highly fragmented.  This is usually the result of calling `frame.insert` many times, which has poor performance.  Consider joining all columns at once using pd.concat(axis=1) instead. To get a de-fragmented frame, use `newframe = frame.copy()`\n",
      "  sea_word_freq[sea_wa_only_words] = 0\n",
      "C:\\Users\\John\\AppData\\Local\\Temp\\ipykernel_6492\\3662047222.py:9: PerformanceWarning: DataFrame is highly fragmented.  This is usually the result of calling `frame.insert` many times, which has poor performance.  Consider joining all columns at once using pd.concat(axis=1) instead. To get a de-fragmented frame, use `newframe = frame.copy()`\n",
      "  sea_word_freq[sea_wa_only_words] = 0\n",
      "C:\\Users\\John\\AppData\\Local\\Temp\\ipykernel_6492\\3662047222.py:9: PerformanceWarning: DataFrame is highly fragmented.  This is usually the result of calling `frame.insert` many times, which has poor performance.  Consider joining all columns at once using pd.concat(axis=1) instead. To get a de-fragmented frame, use `newframe = frame.copy()`\n",
      "  sea_word_freq[sea_wa_only_words] = 0\n",
      "C:\\Users\\John\\AppData\\Local\\Temp\\ipykernel_6492\\3662047222.py:9: PerformanceWarning: DataFrame is highly fragmented.  This is usually the result of calling `frame.insert` many times, which has poor performance.  Consider joining all columns at once using pd.concat(axis=1) instead. To get a de-fragmented frame, use `newframe = frame.copy()`\n",
      "  sea_word_freq[sea_wa_only_words] = 0\n",
      "C:\\Users\\John\\AppData\\Local\\Temp\\ipykernel_6492\\3662047222.py:9: PerformanceWarning: DataFrame is highly fragmented.  This is usually the result of calling `frame.insert` many times, which has poor performance.  Consider joining all columns at once using pd.concat(axis=1) instead. To get a de-fragmented frame, use `newframe = frame.copy()`\n",
      "  sea_word_freq[sea_wa_only_words] = 0\n",
      "C:\\Users\\John\\AppData\\Local\\Temp\\ipykernel_6492\\3662047222.py:9: PerformanceWarning: DataFrame is highly fragmented.  This is usually the result of calling `frame.insert` many times, which has poor performance.  Consider joining all columns at once using pd.concat(axis=1) instead. To get a de-fragmented frame, use `newframe = frame.copy()`\n",
      "  sea_word_freq[sea_wa_only_words] = 0\n",
      "C:\\Users\\John\\AppData\\Local\\Temp\\ipykernel_6492\\3662047222.py:9: PerformanceWarning: DataFrame is highly fragmented.  This is usually the result of calling `frame.insert` many times, which has poor performance.  Consider joining all columns at once using pd.concat(axis=1) instead. To get a de-fragmented frame, use `newframe = frame.copy()`\n",
      "  sea_word_freq[sea_wa_only_words] = 0\n",
      "C:\\Users\\John\\AppData\\Local\\Temp\\ipykernel_6492\\3662047222.py:9: PerformanceWarning: DataFrame is highly fragmented.  This is usually the result of calling `frame.insert` many times, which has poor performance.  Consider joining all columns at once using pd.concat(axis=1) instead. To get a de-fragmented frame, use `newframe = frame.copy()`\n",
      "  sea_word_freq[sea_wa_only_words] = 0\n",
      "C:\\Users\\John\\AppData\\Local\\Temp\\ipykernel_6492\\3662047222.py:9: PerformanceWarning: DataFrame is highly fragmented.  This is usually the result of calling `frame.insert` many times, which has poor performance.  Consider joining all columns at once using pd.concat(axis=1) instead. To get a de-fragmented frame, use `newframe = frame.copy()`\n",
      "  sea_word_freq[sea_wa_only_words] = 0\n",
      "C:\\Users\\John\\AppData\\Local\\Temp\\ipykernel_6492\\3662047222.py:9: PerformanceWarning: DataFrame is highly fragmented.  This is usually the result of calling `frame.insert` many times, which has poor performance.  Consider joining all columns at once using pd.concat(axis=1) instead. To get a de-fragmented frame, use `newframe = frame.copy()`\n",
      "  sea_word_freq[sea_wa_only_words] = 0\n",
      "C:\\Users\\John\\AppData\\Local\\Temp\\ipykernel_6492\\3662047222.py:9: PerformanceWarning: DataFrame is highly fragmented.  This is usually the result of calling `frame.insert` many times, which has poor performance.  Consider joining all columns at once using pd.concat(axis=1) instead. To get a de-fragmented frame, use `newframe = frame.copy()`\n",
      "  sea_word_freq[sea_wa_only_words] = 0\n",
      "C:\\Users\\John\\AppData\\Local\\Temp\\ipykernel_6492\\3662047222.py:9: PerformanceWarning: DataFrame is highly fragmented.  This is usually the result of calling `frame.insert` many times, which has poor performance.  Consider joining all columns at once using pd.concat(axis=1) instead. To get a de-fragmented frame, use `newframe = frame.copy()`\n",
      "  sea_word_freq[sea_wa_only_words] = 0\n",
      "C:\\Users\\John\\AppData\\Local\\Temp\\ipykernel_6492\\3662047222.py:9: PerformanceWarning: DataFrame is highly fragmented.  This is usually the result of calling `frame.insert` many times, which has poor performance.  Consider joining all columns at once using pd.concat(axis=1) instead. To get a de-fragmented frame, use `newframe = frame.copy()`\n",
      "  sea_word_freq[sea_wa_only_words] = 0\n",
      "C:\\Users\\John\\AppData\\Local\\Temp\\ipykernel_6492\\3662047222.py:9: PerformanceWarning: DataFrame is highly fragmented.  This is usually the result of calling `frame.insert` many times, which has poor performance.  Consider joining all columns at once using pd.concat(axis=1) instead. To get a de-fragmented frame, use `newframe = frame.copy()`\n",
      "  sea_word_freq[sea_wa_only_words] = 0\n",
      "C:\\Users\\John\\AppData\\Local\\Temp\\ipykernel_6492\\3662047222.py:9: PerformanceWarning: DataFrame is highly fragmented.  This is usually the result of calling `frame.insert` many times, which has poor performance.  Consider joining all columns at once using pd.concat(axis=1) instead. To get a de-fragmented frame, use `newframe = frame.copy()`\n",
      "  sea_word_freq[sea_wa_only_words] = 0\n",
      "C:\\Users\\John\\AppData\\Local\\Temp\\ipykernel_6492\\3662047222.py:9: PerformanceWarning: DataFrame is highly fragmented.  This is usually the result of calling `frame.insert` many times, which has poor performance.  Consider joining all columns at once using pd.concat(axis=1) instead. To get a de-fragmented frame, use `newframe = frame.copy()`\n",
      "  sea_word_freq[sea_wa_only_words] = 0\n",
      "C:\\Users\\John\\AppData\\Local\\Temp\\ipykernel_6492\\3662047222.py:9: PerformanceWarning: DataFrame is highly fragmented.  This is usually the result of calling `frame.insert` many times, which has poor performance.  Consider joining all columns at once using pd.concat(axis=1) instead. To get a de-fragmented frame, use `newframe = frame.copy()`\n",
      "  sea_word_freq[sea_wa_only_words] = 0\n",
      "C:\\Users\\John\\AppData\\Local\\Temp\\ipykernel_6492\\3662047222.py:9: PerformanceWarning: DataFrame is highly fragmented.  This is usually the result of calling `frame.insert` many times, which has poor performance.  Consider joining all columns at once using pd.concat(axis=1) instead. To get a de-fragmented frame, use `newframe = frame.copy()`\n",
      "  sea_word_freq[sea_wa_only_words] = 0\n",
      "C:\\Users\\John\\AppData\\Local\\Temp\\ipykernel_6492\\3662047222.py:9: PerformanceWarning: DataFrame is highly fragmented.  This is usually the result of calling `frame.insert` many times, which has poor performance.  Consider joining all columns at once using pd.concat(axis=1) instead. To get a de-fragmented frame, use `newframe = frame.copy()`\n",
      "  sea_word_freq[sea_wa_only_words] = 0\n",
      "C:\\Users\\John\\AppData\\Local\\Temp\\ipykernel_6492\\3662047222.py:9: PerformanceWarning: DataFrame is highly fragmented.  This is usually the result of calling `frame.insert` many times, which has poor performance.  Consider joining all columns at once using pd.concat(axis=1) instead. To get a de-fragmented frame, use `newframe = frame.copy()`\n",
      "  sea_word_freq[sea_wa_only_words] = 0\n",
      "C:\\Users\\John\\AppData\\Local\\Temp\\ipykernel_6492\\3662047222.py:9: PerformanceWarning: DataFrame is highly fragmented.  This is usually the result of calling `frame.insert` many times, which has poor performance.  Consider joining all columns at once using pd.concat(axis=1) instead. To get a de-fragmented frame, use `newframe = frame.copy()`\n",
      "  sea_word_freq[sea_wa_only_words] = 0\n",
      "C:\\Users\\John\\AppData\\Local\\Temp\\ipykernel_6492\\3662047222.py:9: PerformanceWarning: DataFrame is highly fragmented.  This is usually the result of calling `frame.insert` many times, which has poor performance.  Consider joining all columns at once using pd.concat(axis=1) instead. To get a de-fragmented frame, use `newframe = frame.copy()`\n",
      "  sea_word_freq[sea_wa_only_words] = 0\n",
      "C:\\Users\\John\\AppData\\Local\\Temp\\ipykernel_6492\\3662047222.py:9: PerformanceWarning: DataFrame is highly fragmented.  This is usually the result of calling `frame.insert` many times, which has poor performance.  Consider joining all columns at once using pd.concat(axis=1) instead. To get a de-fragmented frame, use `newframe = frame.copy()`\n",
      "  sea_word_freq[sea_wa_only_words] = 0\n",
      "C:\\Users\\John\\AppData\\Local\\Temp\\ipykernel_6492\\3662047222.py:9: PerformanceWarning: DataFrame is highly fragmented.  This is usually the result of calling `frame.insert` many times, which has poor performance.  Consider joining all columns at once using pd.concat(axis=1) instead. To get a de-fragmented frame, use `newframe = frame.copy()`\n",
      "  sea_word_freq[sea_wa_only_words] = 0\n",
      "C:\\Users\\John\\AppData\\Local\\Temp\\ipykernel_6492\\3662047222.py:9: PerformanceWarning: DataFrame is highly fragmented.  This is usually the result of calling `frame.insert` many times, which has poor performance.  Consider joining all columns at once using pd.concat(axis=1) instead. To get a de-fragmented frame, use `newframe = frame.copy()`\n",
      "  sea_word_freq[sea_wa_only_words] = 0\n",
      "C:\\Users\\John\\AppData\\Local\\Temp\\ipykernel_6492\\3662047222.py:9: PerformanceWarning: DataFrame is highly fragmented.  This is usually the result of calling `frame.insert` many times, which has poor performance.  Consider joining all columns at once using pd.concat(axis=1) instead. To get a de-fragmented frame, use `newframe = frame.copy()`\n",
      "  sea_word_freq[sea_wa_only_words] = 0\n",
      "C:\\Users\\John\\AppData\\Local\\Temp\\ipykernel_6492\\3662047222.py:9: PerformanceWarning: DataFrame is highly fragmented.  This is usually the result of calling `frame.insert` many times, which has poor performance.  Consider joining all columns at once using pd.concat(axis=1) instead. To get a de-fragmented frame, use `newframe = frame.copy()`\n",
      "  sea_word_freq[sea_wa_only_words] = 0\n",
      "C:\\Users\\John\\AppData\\Local\\Temp\\ipykernel_6492\\3662047222.py:9: PerformanceWarning: DataFrame is highly fragmented.  This is usually the result of calling `frame.insert` many times, which has poor performance.  Consider joining all columns at once using pd.concat(axis=1) instead. To get a de-fragmented frame, use `newframe = frame.copy()`\n",
      "  sea_word_freq[sea_wa_only_words] = 0\n",
      "C:\\Users\\John\\AppData\\Local\\Temp\\ipykernel_6492\\3662047222.py:9: PerformanceWarning: DataFrame is highly fragmented.  This is usually the result of calling `frame.insert` many times, which has poor performance.  Consider joining all columns at once using pd.concat(axis=1) instead. To get a de-fragmented frame, use `newframe = frame.copy()`\n",
      "  sea_word_freq[sea_wa_only_words] = 0\n",
      "C:\\Users\\John\\AppData\\Local\\Temp\\ipykernel_6492\\3662047222.py:9: PerformanceWarning: DataFrame is highly fragmented.  This is usually the result of calling `frame.insert` many times, which has poor performance.  Consider joining all columns at once using pd.concat(axis=1) instead. To get a de-fragmented frame, use `newframe = frame.copy()`\n",
      "  sea_word_freq[sea_wa_only_words] = 0\n",
      "C:\\Users\\John\\AppData\\Local\\Temp\\ipykernel_6492\\3662047222.py:9: PerformanceWarning: DataFrame is highly fragmented.  This is usually the result of calling `frame.insert` many times, which has poor performance.  Consider joining all columns at once using pd.concat(axis=1) instead. To get a de-fragmented frame, use `newframe = frame.copy()`\n",
      "  sea_word_freq[sea_wa_only_words] = 0\n",
      "C:\\Users\\John\\AppData\\Local\\Temp\\ipykernel_6492\\3662047222.py:9: PerformanceWarning: DataFrame is highly fragmented.  This is usually the result of calling `frame.insert` many times, which has poor performance.  Consider joining all columns at once using pd.concat(axis=1) instead. To get a de-fragmented frame, use `newframe = frame.copy()`\n",
      "  sea_word_freq[sea_wa_only_words] = 0\n",
      "C:\\Users\\John\\AppData\\Local\\Temp\\ipykernel_6492\\3662047222.py:9: PerformanceWarning: DataFrame is highly fragmented.  This is usually the result of calling `frame.insert` many times, which has poor performance.  Consider joining all columns at once using pd.concat(axis=1) instead. To get a de-fragmented frame, use `newframe = frame.copy()`\n",
      "  sea_word_freq[sea_wa_only_words] = 0\n",
      "C:\\Users\\John\\AppData\\Local\\Temp\\ipykernel_6492\\3662047222.py:9: PerformanceWarning: DataFrame is highly fragmented.  This is usually the result of calling `frame.insert` many times, which has poor performance.  Consider joining all columns at once using pd.concat(axis=1) instead. To get a de-fragmented frame, use `newframe = frame.copy()`\n",
      "  sea_word_freq[sea_wa_only_words] = 0\n",
      "C:\\Users\\John\\AppData\\Local\\Temp\\ipykernel_6492\\3662047222.py:9: PerformanceWarning: DataFrame is highly fragmented.  This is usually the result of calling `frame.insert` many times, which has poor performance.  Consider joining all columns at once using pd.concat(axis=1) instead. To get a de-fragmented frame, use `newframe = frame.copy()`\n",
      "  sea_word_freq[sea_wa_only_words] = 0\n",
      "C:\\Users\\John\\AppData\\Local\\Temp\\ipykernel_6492\\3662047222.py:9: PerformanceWarning: DataFrame is highly fragmented.  This is usually the result of calling `frame.insert` many times, which has poor performance.  Consider joining all columns at once using pd.concat(axis=1) instead. To get a de-fragmented frame, use `newframe = frame.copy()`\n",
      "  sea_word_freq[sea_wa_only_words] = 0\n",
      "C:\\Users\\John\\AppData\\Local\\Temp\\ipykernel_6492\\3662047222.py:9: PerformanceWarning: DataFrame is highly fragmented.  This is usually the result of calling `frame.insert` many times, which has poor performance.  Consider joining all columns at once using pd.concat(axis=1) instead. To get a de-fragmented frame, use `newframe = frame.copy()`\n",
      "  sea_word_freq[sea_wa_only_words] = 0\n",
      "C:\\Users\\John\\AppData\\Local\\Temp\\ipykernel_6492\\3662047222.py:9: PerformanceWarning: DataFrame is highly fragmented.  This is usually the result of calling `frame.insert` many times, which has poor performance.  Consider joining all columns at once using pd.concat(axis=1) instead. To get a de-fragmented frame, use `newframe = frame.copy()`\n",
      "  sea_word_freq[sea_wa_only_words] = 0\n",
      "C:\\Users\\John\\AppData\\Local\\Temp\\ipykernel_6492\\3662047222.py:9: PerformanceWarning: DataFrame is highly fragmented.  This is usually the result of calling `frame.insert` many times, which has poor performance.  Consider joining all columns at once using pd.concat(axis=1) instead. To get a de-fragmented frame, use `newframe = frame.copy()`\n",
      "  sea_word_freq[sea_wa_only_words] = 0\n",
      "C:\\Users\\John\\AppData\\Local\\Temp\\ipykernel_6492\\3662047222.py:9: PerformanceWarning: DataFrame is highly fragmented.  This is usually the result of calling `frame.insert` many times, which has poor performance.  Consider joining all columns at once using pd.concat(axis=1) instead. To get a de-fragmented frame, use `newframe = frame.copy()`\n",
      "  sea_word_freq[sea_wa_only_words] = 0\n",
      "C:\\Users\\John\\AppData\\Local\\Temp\\ipykernel_6492\\3662047222.py:9: PerformanceWarning: DataFrame is highly fragmented.  This is usually the result of calling `frame.insert` many times, which has poor performance.  Consider joining all columns at once using pd.concat(axis=1) instead. To get a de-fragmented frame, use `newframe = frame.copy()`\n",
      "  sea_word_freq[sea_wa_only_words] = 0\n",
      "C:\\Users\\John\\AppData\\Local\\Temp\\ipykernel_6492\\3662047222.py:9: PerformanceWarning: DataFrame is highly fragmented.  This is usually the result of calling `frame.insert` many times, which has poor performance.  Consider joining all columns at once using pd.concat(axis=1) instead. To get a de-fragmented frame, use `newframe = frame.copy()`\n",
      "  sea_word_freq[sea_wa_only_words] = 0\n",
      "C:\\Users\\John\\AppData\\Local\\Temp\\ipykernel_6492\\3662047222.py:9: PerformanceWarning: DataFrame is highly fragmented.  This is usually the result of calling `frame.insert` many times, which has poor performance.  Consider joining all columns at once using pd.concat(axis=1) instead. To get a de-fragmented frame, use `newframe = frame.copy()`\n",
      "  sea_word_freq[sea_wa_only_words] = 0\n",
      "C:\\Users\\John\\AppData\\Local\\Temp\\ipykernel_6492\\3662047222.py:9: PerformanceWarning: DataFrame is highly fragmented.  This is usually the result of calling `frame.insert` many times, which has poor performance.  Consider joining all columns at once using pd.concat(axis=1) instead. To get a de-fragmented frame, use `newframe = frame.copy()`\n",
      "  sea_word_freq[sea_wa_only_words] = 0\n",
      "C:\\Users\\John\\AppData\\Local\\Temp\\ipykernel_6492\\3662047222.py:9: PerformanceWarning: DataFrame is highly fragmented.  This is usually the result of calling `frame.insert` many times, which has poor performance.  Consider joining all columns at once using pd.concat(axis=1) instead. To get a de-fragmented frame, use `newframe = frame.copy()`\n",
      "  sea_word_freq[sea_wa_only_words] = 0\n",
      "C:\\Users\\John\\AppData\\Local\\Temp\\ipykernel_6492\\3662047222.py:9: PerformanceWarning: DataFrame is highly fragmented.  This is usually the result of calling `frame.insert` many times, which has poor performance.  Consider joining all columns at once using pd.concat(axis=1) instead. To get a de-fragmented frame, use `newframe = frame.copy()`\n",
      "  sea_word_freq[sea_wa_only_words] = 0\n",
      "C:\\Users\\John\\AppData\\Local\\Temp\\ipykernel_6492\\3662047222.py:9: PerformanceWarning: DataFrame is highly fragmented.  This is usually the result of calling `frame.insert` many times, which has poor performance.  Consider joining all columns at once using pd.concat(axis=1) instead. To get a de-fragmented frame, use `newframe = frame.copy()`\n",
      "  sea_word_freq[sea_wa_only_words] = 0\n",
      "C:\\Users\\John\\AppData\\Local\\Temp\\ipykernel_6492\\3662047222.py:9: PerformanceWarning: DataFrame is highly fragmented.  This is usually the result of calling `frame.insert` many times, which has poor performance.  Consider joining all columns at once using pd.concat(axis=1) instead. To get a de-fragmented frame, use `newframe = frame.copy()`\n",
      "  sea_word_freq[sea_wa_only_words] = 0\n",
      "C:\\Users\\John\\AppData\\Local\\Temp\\ipykernel_6492\\3662047222.py:9: PerformanceWarning: DataFrame is highly fragmented.  This is usually the result of calling `frame.insert` many times, which has poor performance.  Consider joining all columns at once using pd.concat(axis=1) instead. To get a de-fragmented frame, use `newframe = frame.copy()`\n",
      "  sea_word_freq[sea_wa_only_words] = 0\n",
      "C:\\Users\\John\\AppData\\Local\\Temp\\ipykernel_6492\\3662047222.py:9: PerformanceWarning: DataFrame is highly fragmented.  This is usually the result of calling `frame.insert` many times, which has poor performance.  Consider joining all columns at once using pd.concat(axis=1) instead. To get a de-fragmented frame, use `newframe = frame.copy()`\n",
      "  sea_word_freq[sea_wa_only_words] = 0\n",
      "C:\\Users\\John\\AppData\\Local\\Temp\\ipykernel_6492\\3662047222.py:9: PerformanceWarning: DataFrame is highly fragmented.  This is usually the result of calling `frame.insert` many times, which has poor performance.  Consider joining all columns at once using pd.concat(axis=1) instead. To get a de-fragmented frame, use `newframe = frame.copy()`\n",
      "  sea_word_freq[sea_wa_only_words] = 0\n",
      "C:\\Users\\John\\AppData\\Local\\Temp\\ipykernel_6492\\3662047222.py:9: PerformanceWarning: DataFrame is highly fragmented.  This is usually the result of calling `frame.insert` many times, which has poor performance.  Consider joining all columns at once using pd.concat(axis=1) instead. To get a de-fragmented frame, use `newframe = frame.copy()`\n",
      "  sea_word_freq[sea_wa_only_words] = 0\n",
      "C:\\Users\\John\\AppData\\Local\\Temp\\ipykernel_6492\\3662047222.py:9: PerformanceWarning: DataFrame is highly fragmented.  This is usually the result of calling `frame.insert` many times, which has poor performance.  Consider joining all columns at once using pd.concat(axis=1) instead. To get a de-fragmented frame, use `newframe = frame.copy()`\n",
      "  sea_word_freq[sea_wa_only_words] = 0\n",
      "C:\\Users\\John\\AppData\\Local\\Temp\\ipykernel_6492\\3662047222.py:9: PerformanceWarning: DataFrame is highly fragmented.  This is usually the result of calling `frame.insert` many times, which has poor performance.  Consider joining all columns at once using pd.concat(axis=1) instead. To get a de-fragmented frame, use `newframe = frame.copy()`\n",
      "  sea_word_freq[sea_wa_only_words] = 0\n",
      "C:\\Users\\John\\AppData\\Local\\Temp\\ipykernel_6492\\3662047222.py:9: PerformanceWarning: DataFrame is highly fragmented.  This is usually the result of calling `frame.insert` many times, which has poor performance.  Consider joining all columns at once using pd.concat(axis=1) instead. To get a de-fragmented frame, use `newframe = frame.copy()`\n",
      "  sea_word_freq[sea_wa_only_words] = 0\n",
      "C:\\Users\\John\\AppData\\Local\\Temp\\ipykernel_6492\\3662047222.py:9: PerformanceWarning: DataFrame is highly fragmented.  This is usually the result of calling `frame.insert` many times, which has poor performance.  Consider joining all columns at once using pd.concat(axis=1) instead. To get a de-fragmented frame, use `newframe = frame.copy()`\n",
      "  sea_word_freq[sea_wa_only_words] = 0\n",
      "C:\\Users\\John\\AppData\\Local\\Temp\\ipykernel_6492\\3662047222.py:9: PerformanceWarning: DataFrame is highly fragmented.  This is usually the result of calling `frame.insert` many times, which has poor performance.  Consider joining all columns at once using pd.concat(axis=1) instead. To get a de-fragmented frame, use `newframe = frame.copy()`\n",
      "  sea_word_freq[sea_wa_only_words] = 0\n",
      "C:\\Users\\John\\AppData\\Local\\Temp\\ipykernel_6492\\3662047222.py:9: PerformanceWarning: DataFrame is highly fragmented.  This is usually the result of calling `frame.insert` many times, which has poor performance.  Consider joining all columns at once using pd.concat(axis=1) instead. To get a de-fragmented frame, use `newframe = frame.copy()`\n",
      "  sea_word_freq[sea_wa_only_words] = 0\n",
      "C:\\Users\\John\\AppData\\Local\\Temp\\ipykernel_6492\\3662047222.py:9: PerformanceWarning: DataFrame is highly fragmented.  This is usually the result of calling `frame.insert` many times, which has poor performance.  Consider joining all columns at once using pd.concat(axis=1) instead. To get a de-fragmented frame, use `newframe = frame.copy()`\n",
      "  sea_word_freq[sea_wa_only_words] = 0\n",
      "C:\\Users\\John\\AppData\\Local\\Temp\\ipykernel_6492\\3662047222.py:9: PerformanceWarning: DataFrame is highly fragmented.  This is usually the result of calling `frame.insert` many times, which has poor performance.  Consider joining all columns at once using pd.concat(axis=1) instead. To get a de-fragmented frame, use `newframe = frame.copy()`\n",
      "  sea_word_freq[sea_wa_only_words] = 0\n",
      "C:\\Users\\John\\AppData\\Local\\Temp\\ipykernel_6492\\3662047222.py:9: PerformanceWarning: DataFrame is highly fragmented.  This is usually the result of calling `frame.insert` many times, which has poor performance.  Consider joining all columns at once using pd.concat(axis=1) instead. To get a de-fragmented frame, use `newframe = frame.copy()`\n",
      "  sea_word_freq[sea_wa_only_words] = 0\n",
      "C:\\Users\\John\\AppData\\Local\\Temp\\ipykernel_6492\\3662047222.py:9: PerformanceWarning: DataFrame is highly fragmented.  This is usually the result of calling `frame.insert` many times, which has poor performance.  Consider joining all columns at once using pd.concat(axis=1) instead. To get a de-fragmented frame, use `newframe = frame.copy()`\n",
      "  sea_word_freq[sea_wa_only_words] = 0\n",
      "C:\\Users\\John\\AppData\\Local\\Temp\\ipykernel_6492\\3662047222.py:9: PerformanceWarning: DataFrame is highly fragmented.  This is usually the result of calling `frame.insert` many times, which has poor performance.  Consider joining all columns at once using pd.concat(axis=1) instead. To get a de-fragmented frame, use `newframe = frame.copy()`\n",
      "  sea_word_freq[sea_wa_only_words] = 0\n",
      "C:\\Users\\John\\AppData\\Local\\Temp\\ipykernel_6492\\3662047222.py:9: PerformanceWarning: DataFrame is highly fragmented.  This is usually the result of calling `frame.insert` many times, which has poor performance.  Consider joining all columns at once using pd.concat(axis=1) instead. To get a de-fragmented frame, use `newframe = frame.copy()`\n",
      "  sea_word_freq[sea_wa_only_words] = 0\n",
      "C:\\Users\\John\\AppData\\Local\\Temp\\ipykernel_6492\\3662047222.py:9: PerformanceWarning: DataFrame is highly fragmented.  This is usually the result of calling `frame.insert` many times, which has poor performance.  Consider joining all columns at once using pd.concat(axis=1) instead. To get a de-fragmented frame, use `newframe = frame.copy()`\n",
      "  sea_word_freq[sea_wa_only_words] = 0\n",
      "C:\\Users\\John\\AppData\\Local\\Temp\\ipykernel_6492\\3662047222.py:9: PerformanceWarning: DataFrame is highly fragmented.  This is usually the result of calling `frame.insert` many times, which has poor performance.  Consider joining all columns at once using pd.concat(axis=1) instead. To get a de-fragmented frame, use `newframe = frame.copy()`\n",
      "  sea_word_freq[sea_wa_only_words] = 0\n",
      "C:\\Users\\John\\AppData\\Local\\Temp\\ipykernel_6492\\3662047222.py:9: PerformanceWarning: DataFrame is highly fragmented.  This is usually the result of calling `frame.insert` many times, which has poor performance.  Consider joining all columns at once using pd.concat(axis=1) instead. To get a de-fragmented frame, use `newframe = frame.copy()`\n",
      "  sea_word_freq[sea_wa_only_words] = 0\n",
      "C:\\Users\\John\\AppData\\Local\\Temp\\ipykernel_6492\\3662047222.py:9: PerformanceWarning: DataFrame is highly fragmented.  This is usually the result of calling `frame.insert` many times, which has poor performance.  Consider joining all columns at once using pd.concat(axis=1) instead. To get a de-fragmented frame, use `newframe = frame.copy()`\n",
      "  sea_word_freq[sea_wa_only_words] = 0\n",
      "C:\\Users\\John\\AppData\\Local\\Temp\\ipykernel_6492\\3662047222.py:9: PerformanceWarning: DataFrame is highly fragmented.  This is usually the result of calling `frame.insert` many times, which has poor performance.  Consider joining all columns at once using pd.concat(axis=1) instead. To get a de-fragmented frame, use `newframe = frame.copy()`\n",
      "  sea_word_freq[sea_wa_only_words] = 0\n",
      "C:\\Users\\John\\AppData\\Local\\Temp\\ipykernel_6492\\3662047222.py:9: PerformanceWarning: DataFrame is highly fragmented.  This is usually the result of calling `frame.insert` many times, which has poor performance.  Consider joining all columns at once using pd.concat(axis=1) instead. To get a de-fragmented frame, use `newframe = frame.copy()`\n",
      "  sea_word_freq[sea_wa_only_words] = 0\n",
      "C:\\Users\\John\\AppData\\Local\\Temp\\ipykernel_6492\\3662047222.py:9: PerformanceWarning: DataFrame is highly fragmented.  This is usually the result of calling `frame.insert` many times, which has poor performance.  Consider joining all columns at once using pd.concat(axis=1) instead. To get a de-fragmented frame, use `newframe = frame.copy()`\n",
      "  sea_word_freq[sea_wa_only_words] = 0\n",
      "C:\\Users\\John\\AppData\\Local\\Temp\\ipykernel_6492\\3662047222.py:9: PerformanceWarning: DataFrame is highly fragmented.  This is usually the result of calling `frame.insert` many times, which has poor performance.  Consider joining all columns at once using pd.concat(axis=1) instead. To get a de-fragmented frame, use `newframe = frame.copy()`\n",
      "  sea_word_freq[sea_wa_only_words] = 0\n",
      "C:\\Users\\John\\AppData\\Local\\Temp\\ipykernel_6492\\3662047222.py:9: PerformanceWarning: DataFrame is highly fragmented.  This is usually the result of calling `frame.insert` many times, which has poor performance.  Consider joining all columns at once using pd.concat(axis=1) instead. To get a de-fragmented frame, use `newframe = frame.copy()`\n",
      "  sea_word_freq[sea_wa_only_words] = 0\n",
      "C:\\Users\\John\\AppData\\Local\\Temp\\ipykernel_6492\\3662047222.py:9: PerformanceWarning: DataFrame is highly fragmented.  This is usually the result of calling `frame.insert` many times, which has poor performance.  Consider joining all columns at once using pd.concat(axis=1) instead. To get a de-fragmented frame, use `newframe = frame.copy()`\n",
      "  sea_word_freq[sea_wa_only_words] = 0\n",
      "C:\\Users\\John\\AppData\\Local\\Temp\\ipykernel_6492\\3662047222.py:9: PerformanceWarning: DataFrame is highly fragmented.  This is usually the result of calling `frame.insert` many times, which has poor performance.  Consider joining all columns at once using pd.concat(axis=1) instead. To get a de-fragmented frame, use `newframe = frame.copy()`\n",
      "  sea_word_freq[sea_wa_only_words] = 0\n",
      "C:\\Users\\John\\AppData\\Local\\Temp\\ipykernel_6492\\3662047222.py:9: PerformanceWarning: DataFrame is highly fragmented.  This is usually the result of calling `frame.insert` many times, which has poor performance.  Consider joining all columns at once using pd.concat(axis=1) instead. To get a de-fragmented frame, use `newframe = frame.copy()`\n",
      "  sea_word_freq[sea_wa_only_words] = 0\n",
      "C:\\Users\\John\\AppData\\Local\\Temp\\ipykernel_6492\\3662047222.py:9: PerformanceWarning: DataFrame is highly fragmented.  This is usually the result of calling `frame.insert` many times, which has poor performance.  Consider joining all columns at once using pd.concat(axis=1) instead. To get a de-fragmented frame, use `newframe = frame.copy()`\n",
      "  sea_word_freq[sea_wa_only_words] = 0\n",
      "C:\\Users\\John\\AppData\\Local\\Temp\\ipykernel_6492\\3662047222.py:9: PerformanceWarning: DataFrame is highly fragmented.  This is usually the result of calling `frame.insert` many times, which has poor performance.  Consider joining all columns at once using pd.concat(axis=1) instead. To get a de-fragmented frame, use `newframe = frame.copy()`\n",
      "  sea_word_freq[sea_wa_only_words] = 0\n",
      "C:\\Users\\John\\AppData\\Local\\Temp\\ipykernel_6492\\3662047222.py:9: PerformanceWarning: DataFrame is highly fragmented.  This is usually the result of calling `frame.insert` many times, which has poor performance.  Consider joining all columns at once using pd.concat(axis=1) instead. To get a de-fragmented frame, use `newframe = frame.copy()`\n",
      "  sea_word_freq[sea_wa_only_words] = 0\n",
      "C:\\Users\\John\\AppData\\Local\\Temp\\ipykernel_6492\\3662047222.py:9: PerformanceWarning: DataFrame is highly fragmented.  This is usually the result of calling `frame.insert` many times, which has poor performance.  Consider joining all columns at once using pd.concat(axis=1) instead. To get a de-fragmented frame, use `newframe = frame.copy()`\n",
      "  sea_word_freq[sea_wa_only_words] = 0\n",
      "C:\\Users\\John\\AppData\\Local\\Temp\\ipykernel_6492\\3662047222.py:9: PerformanceWarning: DataFrame is highly fragmented.  This is usually the result of calling `frame.insert` many times, which has poor performance.  Consider joining all columns at once using pd.concat(axis=1) instead. To get a de-fragmented frame, use `newframe = frame.copy()`\n",
      "  sea_word_freq[sea_wa_only_words] = 0\n",
      "C:\\Users\\John\\AppData\\Local\\Temp\\ipykernel_6492\\3662047222.py:9: PerformanceWarning: DataFrame is highly fragmented.  This is usually the result of calling `frame.insert` many times, which has poor performance.  Consider joining all columns at once using pd.concat(axis=1) instead. To get a de-fragmented frame, use `newframe = frame.copy()`\n",
      "  sea_word_freq[sea_wa_only_words] = 0\n",
      "C:\\Users\\John\\AppData\\Local\\Temp\\ipykernel_6492\\3662047222.py:9: PerformanceWarning: DataFrame is highly fragmented.  This is usually the result of calling `frame.insert` many times, which has poor performance.  Consider joining all columns at once using pd.concat(axis=1) instead. To get a de-fragmented frame, use `newframe = frame.copy()`\n",
      "  sea_word_freq[sea_wa_only_words] = 0\n",
      "C:\\Users\\John\\AppData\\Local\\Temp\\ipykernel_6492\\3662047222.py:9: PerformanceWarning: DataFrame is highly fragmented.  This is usually the result of calling `frame.insert` many times, which has poor performance.  Consider joining all columns at once using pd.concat(axis=1) instead. To get a de-fragmented frame, use `newframe = frame.copy()`\n",
      "  sea_word_freq[sea_wa_only_words] = 0\n",
      "C:\\Users\\John\\AppData\\Local\\Temp\\ipykernel_6492\\3662047222.py:9: PerformanceWarning: DataFrame is highly fragmented.  This is usually the result of calling `frame.insert` many times, which has poor performance.  Consider joining all columns at once using pd.concat(axis=1) instead. To get a de-fragmented frame, use `newframe = frame.copy()`\n",
      "  sea_word_freq[sea_wa_only_words] = 0\n",
      "C:\\Users\\John\\AppData\\Local\\Temp\\ipykernel_6492\\3662047222.py:9: PerformanceWarning: DataFrame is highly fragmented.  This is usually the result of calling `frame.insert` many times, which has poor performance.  Consider joining all columns at once using pd.concat(axis=1) instead. To get a de-fragmented frame, use `newframe = frame.copy()`\n",
      "  sea_word_freq[sea_wa_only_words] = 0\n",
      "C:\\Users\\John\\AppData\\Local\\Temp\\ipykernel_6492\\3662047222.py:9: PerformanceWarning: DataFrame is highly fragmented.  This is usually the result of calling `frame.insert` many times, which has poor performance.  Consider joining all columns at once using pd.concat(axis=1) instead. To get a de-fragmented frame, use `newframe = frame.copy()`\n",
      "  sea_word_freq[sea_wa_only_words] = 0\n",
      "C:\\Users\\John\\AppData\\Local\\Temp\\ipykernel_6492\\3662047222.py:9: PerformanceWarning: DataFrame is highly fragmented.  This is usually the result of calling `frame.insert` many times, which has poor performance.  Consider joining all columns at once using pd.concat(axis=1) instead. To get a de-fragmented frame, use `newframe = frame.copy()`\n",
      "  sea_word_freq[sea_wa_only_words] = 0\n",
      "C:\\Users\\John\\AppData\\Local\\Temp\\ipykernel_6492\\3662047222.py:9: PerformanceWarning: DataFrame is highly fragmented.  This is usually the result of calling `frame.insert` many times, which has poor performance.  Consider joining all columns at once using pd.concat(axis=1) instead. To get a de-fragmented frame, use `newframe = frame.copy()`\n",
      "  sea_word_freq[sea_wa_only_words] = 0\n",
      "C:\\Users\\John\\AppData\\Local\\Temp\\ipykernel_6492\\3662047222.py:9: PerformanceWarning: DataFrame is highly fragmented.  This is usually the result of calling `frame.insert` many times, which has poor performance.  Consider joining all columns at once using pd.concat(axis=1) instead. To get a de-fragmented frame, use `newframe = frame.copy()`\n",
      "  sea_word_freq[sea_wa_only_words] = 0\n",
      "C:\\Users\\John\\AppData\\Local\\Temp\\ipykernel_6492\\3662047222.py:9: PerformanceWarning: DataFrame is highly fragmented.  This is usually the result of calling `frame.insert` many times, which has poor performance.  Consider joining all columns at once using pd.concat(axis=1) instead. To get a de-fragmented frame, use `newframe = frame.copy()`\n",
      "  sea_word_freq[sea_wa_only_words] = 0\n",
      "C:\\Users\\John\\AppData\\Local\\Temp\\ipykernel_6492\\3662047222.py:9: PerformanceWarning: DataFrame is highly fragmented.  This is usually the result of calling `frame.insert` many times, which has poor performance.  Consider joining all columns at once using pd.concat(axis=1) instead. To get a de-fragmented frame, use `newframe = frame.copy()`\n",
      "  sea_word_freq[sea_wa_only_words] = 0\n",
      "C:\\Users\\John\\AppData\\Local\\Temp\\ipykernel_6492\\3662047222.py:9: PerformanceWarning: DataFrame is highly fragmented.  This is usually the result of calling `frame.insert` many times, which has poor performance.  Consider joining all columns at once using pd.concat(axis=1) instead. To get a de-fragmented frame, use `newframe = frame.copy()`\n",
      "  sea_word_freq[sea_wa_only_words] = 0\n",
      "C:\\Users\\John\\AppData\\Local\\Temp\\ipykernel_6492\\3662047222.py:9: PerformanceWarning: DataFrame is highly fragmented.  This is usually the result of calling `frame.insert` many times, which has poor performance.  Consider joining all columns at once using pd.concat(axis=1) instead. To get a de-fragmented frame, use `newframe = frame.copy()`\n",
      "  sea_word_freq[sea_wa_only_words] = 0\n",
      "C:\\Users\\John\\AppData\\Local\\Temp\\ipykernel_6492\\3662047222.py:9: PerformanceWarning: DataFrame is highly fragmented.  This is usually the result of calling `frame.insert` many times, which has poor performance.  Consider joining all columns at once using pd.concat(axis=1) instead. To get a de-fragmented frame, use `newframe = frame.copy()`\n",
      "  sea_word_freq[sea_wa_only_words] = 0\n",
      "C:\\Users\\John\\AppData\\Local\\Temp\\ipykernel_6492\\3662047222.py:9: PerformanceWarning: DataFrame is highly fragmented.  This is usually the result of calling `frame.insert` many times, which has poor performance.  Consider joining all columns at once using pd.concat(axis=1) instead. To get a de-fragmented frame, use `newframe = frame.copy()`\n",
      "  sea_word_freq[sea_wa_only_words] = 0\n",
      "C:\\Users\\John\\AppData\\Local\\Temp\\ipykernel_6492\\3662047222.py:9: PerformanceWarning: DataFrame is highly fragmented.  This is usually the result of calling `frame.insert` many times, which has poor performance.  Consider joining all columns at once using pd.concat(axis=1) instead. To get a de-fragmented frame, use `newframe = frame.copy()`\n",
      "  sea_word_freq[sea_wa_only_words] = 0\n",
      "C:\\Users\\John\\AppData\\Local\\Temp\\ipykernel_6492\\3662047222.py:9: PerformanceWarning: DataFrame is highly fragmented.  This is usually the result of calling `frame.insert` many times, which has poor performance.  Consider joining all columns at once using pd.concat(axis=1) instead. To get a de-fragmented frame, use `newframe = frame.copy()`\n",
      "  sea_word_freq[sea_wa_only_words] = 0\n",
      "C:\\Users\\John\\AppData\\Local\\Temp\\ipykernel_6492\\3662047222.py:9: PerformanceWarning: DataFrame is highly fragmented.  This is usually the result of calling `frame.insert` many times, which has poor performance.  Consider joining all columns at once using pd.concat(axis=1) instead. To get a de-fragmented frame, use `newframe = frame.copy()`\n",
      "  sea_word_freq[sea_wa_only_words] = 0\n",
      "C:\\Users\\John\\AppData\\Local\\Temp\\ipykernel_6492\\3662047222.py:9: PerformanceWarning: DataFrame is highly fragmented.  This is usually the result of calling `frame.insert` many times, which has poor performance.  Consider joining all columns at once using pd.concat(axis=1) instead. To get a de-fragmented frame, use `newframe = frame.copy()`\n",
      "  sea_word_freq[sea_wa_only_words] = 0\n",
      "C:\\Users\\John\\AppData\\Local\\Temp\\ipykernel_6492\\3662047222.py:9: PerformanceWarning: DataFrame is highly fragmented.  This is usually the result of calling `frame.insert` many times, which has poor performance.  Consider joining all columns at once using pd.concat(axis=1) instead. To get a de-fragmented frame, use `newframe = frame.copy()`\n",
      "  sea_word_freq[sea_wa_only_words] = 0\n",
      "C:\\Users\\John\\AppData\\Local\\Temp\\ipykernel_6492\\3662047222.py:9: PerformanceWarning: DataFrame is highly fragmented.  This is usually the result of calling `frame.insert` many times, which has poor performance.  Consider joining all columns at once using pd.concat(axis=1) instead. To get a de-fragmented frame, use `newframe = frame.copy()`\n",
      "  sea_word_freq[sea_wa_only_words] = 0\n",
      "C:\\Users\\John\\AppData\\Local\\Temp\\ipykernel_6492\\3662047222.py:9: PerformanceWarning: DataFrame is highly fragmented.  This is usually the result of calling `frame.insert` many times, which has poor performance.  Consider joining all columns at once using pd.concat(axis=1) instead. To get a de-fragmented frame, use `newframe = frame.copy()`\n",
      "  sea_word_freq[sea_wa_only_words] = 0\n",
      "C:\\Users\\John\\AppData\\Local\\Temp\\ipykernel_6492\\3662047222.py:9: PerformanceWarning: DataFrame is highly fragmented.  This is usually the result of calling `frame.insert` many times, which has poor performance.  Consider joining all columns at once using pd.concat(axis=1) instead. To get a de-fragmented frame, use `newframe = frame.copy()`\n",
      "  sea_word_freq[sea_wa_only_words] = 0\n",
      "C:\\Users\\John\\AppData\\Local\\Temp\\ipykernel_6492\\3662047222.py:9: PerformanceWarning: DataFrame is highly fragmented.  This is usually the result of calling `frame.insert` many times, which has poor performance.  Consider joining all columns at once using pd.concat(axis=1) instead. To get a de-fragmented frame, use `newframe = frame.copy()`\n",
      "  sea_word_freq[sea_wa_only_words] = 0\n",
      "C:\\Users\\John\\AppData\\Local\\Temp\\ipykernel_6492\\3662047222.py:9: PerformanceWarning: DataFrame is highly fragmented.  This is usually the result of calling `frame.insert` many times, which has poor performance.  Consider joining all columns at once using pd.concat(axis=1) instead. To get a de-fragmented frame, use `newframe = frame.copy()`\n",
      "  sea_word_freq[sea_wa_only_words] = 0\n",
      "C:\\Users\\John\\AppData\\Local\\Temp\\ipykernel_6492\\3662047222.py:9: PerformanceWarning: DataFrame is highly fragmented.  This is usually the result of calling `frame.insert` many times, which has poor performance.  Consider joining all columns at once using pd.concat(axis=1) instead. To get a de-fragmented frame, use `newframe = frame.copy()`\n",
      "  sea_word_freq[sea_wa_only_words] = 0\n",
      "C:\\Users\\John\\AppData\\Local\\Temp\\ipykernel_6492\\3662047222.py:9: PerformanceWarning: DataFrame is highly fragmented.  This is usually the result of calling `frame.insert` many times, which has poor performance.  Consider joining all columns at once using pd.concat(axis=1) instead. To get a de-fragmented frame, use `newframe = frame.copy()`\n",
      "  sea_word_freq[sea_wa_only_words] = 0\n",
      "C:\\Users\\John\\AppData\\Local\\Temp\\ipykernel_6492\\3662047222.py:9: PerformanceWarning: DataFrame is highly fragmented.  This is usually the result of calling `frame.insert` many times, which has poor performance.  Consider joining all columns at once using pd.concat(axis=1) instead. To get a de-fragmented frame, use `newframe = frame.copy()`\n",
      "  sea_word_freq[sea_wa_only_words] = 0\n",
      "C:\\Users\\John\\AppData\\Local\\Temp\\ipykernel_6492\\3662047222.py:9: PerformanceWarning: DataFrame is highly fragmented.  This is usually the result of calling `frame.insert` many times, which has poor performance.  Consider joining all columns at once using pd.concat(axis=1) instead. To get a de-fragmented frame, use `newframe = frame.copy()`\n",
      "  sea_word_freq[sea_wa_only_words] = 0\n",
      "C:\\Users\\John\\AppData\\Local\\Temp\\ipykernel_6492\\3662047222.py:9: PerformanceWarning: DataFrame is highly fragmented.  This is usually the result of calling `frame.insert` many times, which has poor performance.  Consider joining all columns at once using pd.concat(axis=1) instead. To get a de-fragmented frame, use `newframe = frame.copy()`\n",
      "  sea_word_freq[sea_wa_only_words] = 0\n",
      "C:\\Users\\John\\AppData\\Local\\Temp\\ipykernel_6492\\3662047222.py:9: PerformanceWarning: DataFrame is highly fragmented.  This is usually the result of calling `frame.insert` many times, which has poor performance.  Consider joining all columns at once using pd.concat(axis=1) instead. To get a de-fragmented frame, use `newframe = frame.copy()`\n",
      "  sea_word_freq[sea_wa_only_words] = 0\n",
      "C:\\Users\\John\\AppData\\Local\\Temp\\ipykernel_6492\\3662047222.py:9: PerformanceWarning: DataFrame is highly fragmented.  This is usually the result of calling `frame.insert` many times, which has poor performance.  Consider joining all columns at once using pd.concat(axis=1) instead. To get a de-fragmented frame, use `newframe = frame.copy()`\n",
      "  sea_word_freq[sea_wa_only_words] = 0\n",
      "C:\\Users\\John\\AppData\\Local\\Temp\\ipykernel_6492\\3662047222.py:9: PerformanceWarning: DataFrame is highly fragmented.  This is usually the result of calling `frame.insert` many times, which has poor performance.  Consider joining all columns at once using pd.concat(axis=1) instead. To get a de-fragmented frame, use `newframe = frame.copy()`\n",
      "  sea_word_freq[sea_wa_only_words] = 0\n",
      "C:\\Users\\John\\AppData\\Local\\Temp\\ipykernel_6492\\3662047222.py:9: PerformanceWarning: DataFrame is highly fragmented.  This is usually the result of calling `frame.insert` many times, which has poor performance.  Consider joining all columns at once using pd.concat(axis=1) instead. To get a de-fragmented frame, use `newframe = frame.copy()`\n",
      "  sea_word_freq[sea_wa_only_words] = 0\n",
      "C:\\Users\\John\\AppData\\Local\\Temp\\ipykernel_6492\\3662047222.py:9: PerformanceWarning: DataFrame is highly fragmented.  This is usually the result of calling `frame.insert` many times, which has poor performance.  Consider joining all columns at once using pd.concat(axis=1) instead. To get a de-fragmented frame, use `newframe = frame.copy()`\n",
      "  sea_word_freq[sea_wa_only_words] = 0\n",
      "C:\\Users\\John\\AppData\\Local\\Temp\\ipykernel_6492\\3662047222.py:9: PerformanceWarning: DataFrame is highly fragmented.  This is usually the result of calling `frame.insert` many times, which has poor performance.  Consider joining all columns at once using pd.concat(axis=1) instead. To get a de-fragmented frame, use `newframe = frame.copy()`\n",
      "  sea_word_freq[sea_wa_only_words] = 0\n",
      "C:\\Users\\John\\AppData\\Local\\Temp\\ipykernel_6492\\3662047222.py:9: PerformanceWarning: DataFrame is highly fragmented.  This is usually the result of calling `frame.insert` many times, which has poor performance.  Consider joining all columns at once using pd.concat(axis=1) instead. To get a de-fragmented frame, use `newframe = frame.copy()`\n",
      "  sea_word_freq[sea_wa_only_words] = 0\n",
      "C:\\Users\\John\\AppData\\Local\\Temp\\ipykernel_6492\\3662047222.py:9: PerformanceWarning: DataFrame is highly fragmented.  This is usually the result of calling `frame.insert` many times, which has poor performance.  Consider joining all columns at once using pd.concat(axis=1) instead. To get a de-fragmented frame, use `newframe = frame.copy()`\n",
      "  sea_word_freq[sea_wa_only_words] = 0\n",
      "C:\\Users\\John\\AppData\\Local\\Temp\\ipykernel_6492\\3662047222.py:9: PerformanceWarning: DataFrame is highly fragmented.  This is usually the result of calling `frame.insert` many times, which has poor performance.  Consider joining all columns at once using pd.concat(axis=1) instead. To get a de-fragmented frame, use `newframe = frame.copy()`\n",
      "  sea_word_freq[sea_wa_only_words] = 0\n",
      "C:\\Users\\John\\AppData\\Local\\Temp\\ipykernel_6492\\3662047222.py:9: PerformanceWarning: DataFrame is highly fragmented.  This is usually the result of calling `frame.insert` many times, which has poor performance.  Consider joining all columns at once using pd.concat(axis=1) instead. To get a de-fragmented frame, use `newframe = frame.copy()`\n",
      "  sea_word_freq[sea_wa_only_words] = 0\n",
      "C:\\Users\\John\\AppData\\Local\\Temp\\ipykernel_6492\\3662047222.py:9: PerformanceWarning: DataFrame is highly fragmented.  This is usually the result of calling `frame.insert` many times, which has poor performance.  Consider joining all columns at once using pd.concat(axis=1) instead. To get a de-fragmented frame, use `newframe = frame.copy()`\n",
      "  sea_word_freq[sea_wa_only_words] = 0\n",
      "C:\\Users\\John\\AppData\\Local\\Temp\\ipykernel_6492\\3662047222.py:9: PerformanceWarning: DataFrame is highly fragmented.  This is usually the result of calling `frame.insert` many times, which has poor performance.  Consider joining all columns at once using pd.concat(axis=1) instead. To get a de-fragmented frame, use `newframe = frame.copy()`\n",
      "  sea_word_freq[sea_wa_only_words] = 0\n",
      "C:\\Users\\John\\AppData\\Local\\Temp\\ipykernel_6492\\3662047222.py:9: PerformanceWarning: DataFrame is highly fragmented.  This is usually the result of calling `frame.insert` many times, which has poor performance.  Consider joining all columns at once using pd.concat(axis=1) instead. To get a de-fragmented frame, use `newframe = frame.copy()`\n",
      "  sea_word_freq[sea_wa_only_words] = 0\n",
      "C:\\Users\\John\\AppData\\Local\\Temp\\ipykernel_6492\\3662047222.py:9: PerformanceWarning: DataFrame is highly fragmented.  This is usually the result of calling `frame.insert` many times, which has poor performance.  Consider joining all columns at once using pd.concat(axis=1) instead. To get a de-fragmented frame, use `newframe = frame.copy()`\n",
      "  sea_word_freq[sea_wa_only_words] = 0\n",
      "C:\\Users\\John\\AppData\\Local\\Temp\\ipykernel_6492\\3662047222.py:9: PerformanceWarning: DataFrame is highly fragmented.  This is usually the result of calling `frame.insert` many times, which has poor performance.  Consider joining all columns at once using pd.concat(axis=1) instead. To get a de-fragmented frame, use `newframe = frame.copy()`\n",
      "  sea_word_freq[sea_wa_only_words] = 0\n",
      "C:\\Users\\John\\AppData\\Local\\Temp\\ipykernel_6492\\3662047222.py:9: PerformanceWarning: DataFrame is highly fragmented.  This is usually the result of calling `frame.insert` many times, which has poor performance.  Consider joining all columns at once using pd.concat(axis=1) instead. To get a de-fragmented frame, use `newframe = frame.copy()`\n",
      "  sea_word_freq[sea_wa_only_words] = 0\n",
      "C:\\Users\\John\\AppData\\Local\\Temp\\ipykernel_6492\\3662047222.py:9: PerformanceWarning: DataFrame is highly fragmented.  This is usually the result of calling `frame.insert` many times, which has poor performance.  Consider joining all columns at once using pd.concat(axis=1) instead. To get a de-fragmented frame, use `newframe = frame.copy()`\n",
      "  sea_word_freq[sea_wa_only_words] = 0\n",
      "C:\\Users\\John\\AppData\\Local\\Temp\\ipykernel_6492\\3662047222.py:9: PerformanceWarning: DataFrame is highly fragmented.  This is usually the result of calling `frame.insert` many times, which has poor performance.  Consider joining all columns at once using pd.concat(axis=1) instead. To get a de-fragmented frame, use `newframe = frame.copy()`\n",
      "  sea_word_freq[sea_wa_only_words] = 0\n",
      "C:\\Users\\John\\AppData\\Local\\Temp\\ipykernel_6492\\3662047222.py:9: PerformanceWarning: DataFrame is highly fragmented.  This is usually the result of calling `frame.insert` many times, which has poor performance.  Consider joining all columns at once using pd.concat(axis=1) instead. To get a de-fragmented frame, use `newframe = frame.copy()`\n",
      "  sea_word_freq[sea_wa_only_words] = 0\n",
      "C:\\Users\\John\\AppData\\Local\\Temp\\ipykernel_6492\\3662047222.py:9: PerformanceWarning: DataFrame is highly fragmented.  This is usually the result of calling `frame.insert` many times, which has poor performance.  Consider joining all columns at once using pd.concat(axis=1) instead. To get a de-fragmented frame, use `newframe = frame.copy()`\n",
      "  sea_word_freq[sea_wa_only_words] = 0\n",
      "C:\\Users\\John\\AppData\\Local\\Temp\\ipykernel_6492\\3662047222.py:9: PerformanceWarning: DataFrame is highly fragmented.  This is usually the result of calling `frame.insert` many times, which has poor performance.  Consider joining all columns at once using pd.concat(axis=1) instead. To get a de-fragmented frame, use `newframe = frame.copy()`\n",
      "  sea_word_freq[sea_wa_only_words] = 0\n",
      "C:\\Users\\John\\AppData\\Local\\Temp\\ipykernel_6492\\3662047222.py:9: PerformanceWarning: DataFrame is highly fragmented.  This is usually the result of calling `frame.insert` many times, which has poor performance.  Consider joining all columns at once using pd.concat(axis=1) instead. To get a de-fragmented frame, use `newframe = frame.copy()`\n",
      "  sea_word_freq[sea_wa_only_words] = 0\n",
      "C:\\Users\\John\\AppData\\Local\\Temp\\ipykernel_6492\\3662047222.py:9: PerformanceWarning: DataFrame is highly fragmented.  This is usually the result of calling `frame.insert` many times, which has poor performance.  Consider joining all columns at once using pd.concat(axis=1) instead. To get a de-fragmented frame, use `newframe = frame.copy()`\n",
      "  sea_word_freq[sea_wa_only_words] = 0\n",
      "C:\\Users\\John\\AppData\\Local\\Temp\\ipykernel_6492\\3662047222.py:9: PerformanceWarning: DataFrame is highly fragmented.  This is usually the result of calling `frame.insert` many times, which has poor performance.  Consider joining all columns at once using pd.concat(axis=1) instead. To get a de-fragmented frame, use `newframe = frame.copy()`\n",
      "  sea_word_freq[sea_wa_only_words] = 0\n",
      "C:\\Users\\John\\AppData\\Local\\Temp\\ipykernel_6492\\3662047222.py:9: PerformanceWarning: DataFrame is highly fragmented.  This is usually the result of calling `frame.insert` many times, which has poor performance.  Consider joining all columns at once using pd.concat(axis=1) instead. To get a de-fragmented frame, use `newframe = frame.copy()`\n",
      "  sea_word_freq[sea_wa_only_words] = 0\n",
      "C:\\Users\\John\\AppData\\Local\\Temp\\ipykernel_6492\\3662047222.py:9: PerformanceWarning: DataFrame is highly fragmented.  This is usually the result of calling `frame.insert` many times, which has poor performance.  Consider joining all columns at once using pd.concat(axis=1) instead. To get a de-fragmented frame, use `newframe = frame.copy()`\n",
      "  sea_word_freq[sea_wa_only_words] = 0\n",
      "C:\\Users\\John\\AppData\\Local\\Temp\\ipykernel_6492\\3662047222.py:9: PerformanceWarning: DataFrame is highly fragmented.  This is usually the result of calling `frame.insert` many times, which has poor performance.  Consider joining all columns at once using pd.concat(axis=1) instead. To get a de-fragmented frame, use `newframe = frame.copy()`\n",
      "  sea_word_freq[sea_wa_only_words] = 0\n",
      "C:\\Users\\John\\AppData\\Local\\Temp\\ipykernel_6492\\3662047222.py:9: PerformanceWarning: DataFrame is highly fragmented.  This is usually the result of calling `frame.insert` many times, which has poor performance.  Consider joining all columns at once using pd.concat(axis=1) instead. To get a de-fragmented frame, use `newframe = frame.copy()`\n",
      "  sea_word_freq[sea_wa_only_words] = 0\n",
      "C:\\Users\\John\\AppData\\Local\\Temp\\ipykernel_6492\\3662047222.py:9: PerformanceWarning: DataFrame is highly fragmented.  This is usually the result of calling `frame.insert` many times, which has poor performance.  Consider joining all columns at once using pd.concat(axis=1) instead. To get a de-fragmented frame, use `newframe = frame.copy()`\n",
      "  sea_word_freq[sea_wa_only_words] = 0\n",
      "C:\\Users\\John\\AppData\\Local\\Temp\\ipykernel_6492\\3662047222.py:9: PerformanceWarning: DataFrame is highly fragmented.  This is usually the result of calling `frame.insert` many times, which has poor performance.  Consider joining all columns at once using pd.concat(axis=1) instead. To get a de-fragmented frame, use `newframe = frame.copy()`\n",
      "  sea_word_freq[sea_wa_only_words] = 0\n",
      "C:\\Users\\John\\AppData\\Local\\Temp\\ipykernel_6492\\3662047222.py:9: PerformanceWarning: DataFrame is highly fragmented.  This is usually the result of calling `frame.insert` many times, which has poor performance.  Consider joining all columns at once using pd.concat(axis=1) instead. To get a de-fragmented frame, use `newframe = frame.copy()`\n",
      "  sea_word_freq[sea_wa_only_words] = 0\n",
      "C:\\Users\\John\\AppData\\Local\\Temp\\ipykernel_6492\\3662047222.py:9: PerformanceWarning: DataFrame is highly fragmented.  This is usually the result of calling `frame.insert` many times, which has poor performance.  Consider joining all columns at once using pd.concat(axis=1) instead. To get a de-fragmented frame, use `newframe = frame.copy()`\n",
      "  sea_word_freq[sea_wa_only_words] = 0\n",
      "C:\\Users\\John\\AppData\\Local\\Temp\\ipykernel_6492\\3662047222.py:9: PerformanceWarning: DataFrame is highly fragmented.  This is usually the result of calling `frame.insert` many times, which has poor performance.  Consider joining all columns at once using pd.concat(axis=1) instead. To get a de-fragmented frame, use `newframe = frame.copy()`\n",
      "  sea_word_freq[sea_wa_only_words] = 0\n",
      "C:\\Users\\John\\AppData\\Local\\Temp\\ipykernel_6492\\3662047222.py:9: PerformanceWarning: DataFrame is highly fragmented.  This is usually the result of calling `frame.insert` many times, which has poor performance.  Consider joining all columns at once using pd.concat(axis=1) instead. To get a de-fragmented frame, use `newframe = frame.copy()`\n",
      "  sea_word_freq[sea_wa_only_words] = 0\n",
      "C:\\Users\\John\\AppData\\Local\\Temp\\ipykernel_6492\\3662047222.py:9: PerformanceWarning: DataFrame is highly fragmented.  This is usually the result of calling `frame.insert` many times, which has poor performance.  Consider joining all columns at once using pd.concat(axis=1) instead. To get a de-fragmented frame, use `newframe = frame.copy()`\n",
      "  sea_word_freq[sea_wa_only_words] = 0\n",
      "C:\\Users\\John\\AppData\\Local\\Temp\\ipykernel_6492\\3662047222.py:9: PerformanceWarning: DataFrame is highly fragmented.  This is usually the result of calling `frame.insert` many times, which has poor performance.  Consider joining all columns at once using pd.concat(axis=1) instead. To get a de-fragmented frame, use `newframe = frame.copy()`\n",
      "  sea_word_freq[sea_wa_only_words] = 0\n",
      "C:\\Users\\John\\AppData\\Local\\Temp\\ipykernel_6492\\3662047222.py:9: PerformanceWarning: DataFrame is highly fragmented.  This is usually the result of calling `frame.insert` many times, which has poor performance.  Consider joining all columns at once using pd.concat(axis=1) instead. To get a de-fragmented frame, use `newframe = frame.copy()`\n",
      "  sea_word_freq[sea_wa_only_words] = 0\n",
      "C:\\Users\\John\\AppData\\Local\\Temp\\ipykernel_6492\\3662047222.py:9: PerformanceWarning: DataFrame is highly fragmented.  This is usually the result of calling `frame.insert` many times, which has poor performance.  Consider joining all columns at once using pd.concat(axis=1) instead. To get a de-fragmented frame, use `newframe = frame.copy()`\n",
      "  sea_word_freq[sea_wa_only_words] = 0\n",
      "C:\\Users\\John\\AppData\\Local\\Temp\\ipykernel_6492\\3662047222.py:9: PerformanceWarning: DataFrame is highly fragmented.  This is usually the result of calling `frame.insert` many times, which has poor performance.  Consider joining all columns at once using pd.concat(axis=1) instead. To get a de-fragmented frame, use `newframe = frame.copy()`\n",
      "  sea_word_freq[sea_wa_only_words] = 0\n",
      "C:\\Users\\John\\AppData\\Local\\Temp\\ipykernel_6492\\3662047222.py:9: PerformanceWarning: DataFrame is highly fragmented.  This is usually the result of calling `frame.insert` many times, which has poor performance.  Consider joining all columns at once using pd.concat(axis=1) instead. To get a de-fragmented frame, use `newframe = frame.copy()`\n",
      "  sea_word_freq[sea_wa_only_words] = 0\n",
      "C:\\Users\\John\\AppData\\Local\\Temp\\ipykernel_6492\\3662047222.py:9: PerformanceWarning: DataFrame is highly fragmented.  This is usually the result of calling `frame.insert` many times, which has poor performance.  Consider joining all columns at once using pd.concat(axis=1) instead. To get a de-fragmented frame, use `newframe = frame.copy()`\n",
      "  sea_word_freq[sea_wa_only_words] = 0\n",
      "C:\\Users\\John\\AppData\\Local\\Temp\\ipykernel_6492\\3662047222.py:9: PerformanceWarning: DataFrame is highly fragmented.  This is usually the result of calling `frame.insert` many times, which has poor performance.  Consider joining all columns at once using pd.concat(axis=1) instead. To get a de-fragmented frame, use `newframe = frame.copy()`\n",
      "  sea_word_freq[sea_wa_only_words] = 0\n",
      "C:\\Users\\John\\AppData\\Local\\Temp\\ipykernel_6492\\3662047222.py:9: PerformanceWarning: DataFrame is highly fragmented.  This is usually the result of calling `frame.insert` many times, which has poor performance.  Consider joining all columns at once using pd.concat(axis=1) instead. To get a de-fragmented frame, use `newframe = frame.copy()`\n",
      "  sea_word_freq[sea_wa_only_words] = 0\n",
      "C:\\Users\\John\\AppData\\Local\\Temp\\ipykernel_6492\\3662047222.py:9: PerformanceWarning: DataFrame is highly fragmented.  This is usually the result of calling `frame.insert` many times, which has poor performance.  Consider joining all columns at once using pd.concat(axis=1) instead. To get a de-fragmented frame, use `newframe = frame.copy()`\n",
      "  sea_word_freq[sea_wa_only_words] = 0\n",
      "C:\\Users\\John\\AppData\\Local\\Temp\\ipykernel_6492\\3662047222.py:9: PerformanceWarning: DataFrame is highly fragmented.  This is usually the result of calling `frame.insert` many times, which has poor performance.  Consider joining all columns at once using pd.concat(axis=1) instead. To get a de-fragmented frame, use `newframe = frame.copy()`\n",
      "  sea_word_freq[sea_wa_only_words] = 0\n",
      "C:\\Users\\John\\AppData\\Local\\Temp\\ipykernel_6492\\3662047222.py:9: PerformanceWarning: DataFrame is highly fragmented.  This is usually the result of calling `frame.insert` many times, which has poor performance.  Consider joining all columns at once using pd.concat(axis=1) instead. To get a de-fragmented frame, use `newframe = frame.copy()`\n",
      "  sea_word_freq[sea_wa_only_words] = 0\n",
      "C:\\Users\\John\\AppData\\Local\\Temp\\ipykernel_6492\\3662047222.py:9: PerformanceWarning: DataFrame is highly fragmented.  This is usually the result of calling `frame.insert` many times, which has poor performance.  Consider joining all columns at once using pd.concat(axis=1) instead. To get a de-fragmented frame, use `newframe = frame.copy()`\n",
      "  sea_word_freq[sea_wa_only_words] = 0\n",
      "C:\\Users\\John\\AppData\\Local\\Temp\\ipykernel_6492\\3662047222.py:9: PerformanceWarning: DataFrame is highly fragmented.  This is usually the result of calling `frame.insert` many times, which has poor performance.  Consider joining all columns at once using pd.concat(axis=1) instead. To get a de-fragmented frame, use `newframe = frame.copy()`\n",
      "  sea_word_freq[sea_wa_only_words] = 0\n",
      "C:\\Users\\John\\AppData\\Local\\Temp\\ipykernel_6492\\3662047222.py:9: PerformanceWarning: DataFrame is highly fragmented.  This is usually the result of calling `frame.insert` many times, which has poor performance.  Consider joining all columns at once using pd.concat(axis=1) instead. To get a de-fragmented frame, use `newframe = frame.copy()`\n",
      "  sea_word_freq[sea_wa_only_words] = 0\n",
      "C:\\Users\\John\\AppData\\Local\\Temp\\ipykernel_6492\\3662047222.py:9: PerformanceWarning: DataFrame is highly fragmented.  This is usually the result of calling `frame.insert` many times, which has poor performance.  Consider joining all columns at once using pd.concat(axis=1) instead. To get a de-fragmented frame, use `newframe = frame.copy()`\n",
      "  sea_word_freq[sea_wa_only_words] = 0\n",
      "C:\\Users\\John\\AppData\\Local\\Temp\\ipykernel_6492\\3662047222.py:9: PerformanceWarning: DataFrame is highly fragmented.  This is usually the result of calling `frame.insert` many times, which has poor performance.  Consider joining all columns at once using pd.concat(axis=1) instead. To get a de-fragmented frame, use `newframe = frame.copy()`\n",
      "  sea_word_freq[sea_wa_only_words] = 0\n",
      "C:\\Users\\John\\AppData\\Local\\Temp\\ipykernel_6492\\3662047222.py:9: PerformanceWarning: DataFrame is highly fragmented.  This is usually the result of calling `frame.insert` many times, which has poor performance.  Consider joining all columns at once using pd.concat(axis=1) instead. To get a de-fragmented frame, use `newframe = frame.copy()`\n",
      "  sea_word_freq[sea_wa_only_words] = 0\n",
      "C:\\Users\\John\\AppData\\Local\\Temp\\ipykernel_6492\\3662047222.py:9: PerformanceWarning: DataFrame is highly fragmented.  This is usually the result of calling `frame.insert` many times, which has poor performance.  Consider joining all columns at once using pd.concat(axis=1) instead. To get a de-fragmented frame, use `newframe = frame.copy()`\n",
      "  sea_word_freq[sea_wa_only_words] = 0\n",
      "C:\\Users\\John\\AppData\\Local\\Temp\\ipykernel_6492\\3662047222.py:9: PerformanceWarning: DataFrame is highly fragmented.  This is usually the result of calling `frame.insert` many times, which has poor performance.  Consider joining all columns at once using pd.concat(axis=1) instead. To get a de-fragmented frame, use `newframe = frame.copy()`\n",
      "  sea_word_freq[sea_wa_only_words] = 0\n",
      "C:\\Users\\John\\AppData\\Local\\Temp\\ipykernel_6492\\3662047222.py:9: PerformanceWarning: DataFrame is highly fragmented.  This is usually the result of calling `frame.insert` many times, which has poor performance.  Consider joining all columns at once using pd.concat(axis=1) instead. To get a de-fragmented frame, use `newframe = frame.copy()`\n",
      "  sea_word_freq[sea_wa_only_words] = 0\n",
      "C:\\Users\\John\\AppData\\Local\\Temp\\ipykernel_6492\\3662047222.py:9: PerformanceWarning: DataFrame is highly fragmented.  This is usually the result of calling `frame.insert` many times, which has poor performance.  Consider joining all columns at once using pd.concat(axis=1) instead. To get a de-fragmented frame, use `newframe = frame.copy()`\n",
      "  sea_word_freq[sea_wa_only_words] = 0\n",
      "C:\\Users\\John\\AppData\\Local\\Temp\\ipykernel_6492\\3662047222.py:9: PerformanceWarning: DataFrame is highly fragmented.  This is usually the result of calling `frame.insert` many times, which has poor performance.  Consider joining all columns at once using pd.concat(axis=1) instead. To get a de-fragmented frame, use `newframe = frame.copy()`\n",
      "  sea_word_freq[sea_wa_only_words] = 0\n",
      "C:\\Users\\John\\AppData\\Local\\Temp\\ipykernel_6492\\3662047222.py:9: PerformanceWarning: DataFrame is highly fragmented.  This is usually the result of calling `frame.insert` many times, which has poor performance.  Consider joining all columns at once using pd.concat(axis=1) instead. To get a de-fragmented frame, use `newframe = frame.copy()`\n",
      "  sea_word_freq[sea_wa_only_words] = 0\n",
      "C:\\Users\\John\\AppData\\Local\\Temp\\ipykernel_6492\\3662047222.py:9: PerformanceWarning: DataFrame is highly fragmented.  This is usually the result of calling `frame.insert` many times, which has poor performance.  Consider joining all columns at once using pd.concat(axis=1) instead. To get a de-fragmented frame, use `newframe = frame.copy()`\n",
      "  sea_word_freq[sea_wa_only_words] = 0\n",
      "C:\\Users\\John\\AppData\\Local\\Temp\\ipykernel_6492\\3662047222.py:9: PerformanceWarning: DataFrame is highly fragmented.  This is usually the result of calling `frame.insert` many times, which has poor performance.  Consider joining all columns at once using pd.concat(axis=1) instead. To get a de-fragmented frame, use `newframe = frame.copy()`\n",
      "  sea_word_freq[sea_wa_only_words] = 0\n",
      "C:\\Users\\John\\AppData\\Local\\Temp\\ipykernel_6492\\3662047222.py:9: PerformanceWarning: DataFrame is highly fragmented.  This is usually the result of calling `frame.insert` many times, which has poor performance.  Consider joining all columns at once using pd.concat(axis=1) instead. To get a de-fragmented frame, use `newframe = frame.copy()`\n",
      "  sea_word_freq[sea_wa_only_words] = 0\n",
      "C:\\Users\\John\\AppData\\Local\\Temp\\ipykernel_6492\\3662047222.py:9: PerformanceWarning: DataFrame is highly fragmented.  This is usually the result of calling `frame.insert` many times, which has poor performance.  Consider joining all columns at once using pd.concat(axis=1) instead. To get a de-fragmented frame, use `newframe = frame.copy()`\n",
      "  sea_word_freq[sea_wa_only_words] = 0\n",
      "C:\\Users\\John\\AppData\\Local\\Temp\\ipykernel_6492\\3662047222.py:9: PerformanceWarning: DataFrame is highly fragmented.  This is usually the result of calling `frame.insert` many times, which has poor performance.  Consider joining all columns at once using pd.concat(axis=1) instead. To get a de-fragmented frame, use `newframe = frame.copy()`\n",
      "  sea_word_freq[sea_wa_only_words] = 0\n",
      "C:\\Users\\John\\AppData\\Local\\Temp\\ipykernel_6492\\3662047222.py:9: PerformanceWarning: DataFrame is highly fragmented.  This is usually the result of calling `frame.insert` many times, which has poor performance.  Consider joining all columns at once using pd.concat(axis=1) instead. To get a de-fragmented frame, use `newframe = frame.copy()`\n",
      "  sea_word_freq[sea_wa_only_words] = 0\n",
      "C:\\Users\\John\\AppData\\Local\\Temp\\ipykernel_6492\\3662047222.py:9: PerformanceWarning: DataFrame is highly fragmented.  This is usually the result of calling `frame.insert` many times, which has poor performance.  Consider joining all columns at once using pd.concat(axis=1) instead. To get a de-fragmented frame, use `newframe = frame.copy()`\n",
      "  sea_word_freq[sea_wa_only_words] = 0\n",
      "C:\\Users\\John\\AppData\\Local\\Temp\\ipykernel_6492\\3662047222.py:9: PerformanceWarning: DataFrame is highly fragmented.  This is usually the result of calling `frame.insert` many times, which has poor performance.  Consider joining all columns at once using pd.concat(axis=1) instead. To get a de-fragmented frame, use `newframe = frame.copy()`\n",
      "  sea_word_freq[sea_wa_only_words] = 0\n",
      "C:\\Users\\John\\AppData\\Local\\Temp\\ipykernel_6492\\3662047222.py:9: PerformanceWarning: DataFrame is highly fragmented.  This is usually the result of calling `frame.insert` many times, which has poor performance.  Consider joining all columns at once using pd.concat(axis=1) instead. To get a de-fragmented frame, use `newframe = frame.copy()`\n",
      "  sea_word_freq[sea_wa_only_words] = 0\n",
      "C:\\Users\\John\\AppData\\Local\\Temp\\ipykernel_6492\\3662047222.py:9: PerformanceWarning: DataFrame is highly fragmented.  This is usually the result of calling `frame.insert` many times, which has poor performance.  Consider joining all columns at once using pd.concat(axis=1) instead. To get a de-fragmented frame, use `newframe = frame.copy()`\n",
      "  sea_word_freq[sea_wa_only_words] = 0\n",
      "C:\\Users\\John\\AppData\\Local\\Temp\\ipykernel_6492\\3662047222.py:9: PerformanceWarning: DataFrame is highly fragmented.  This is usually the result of calling `frame.insert` many times, which has poor performance.  Consider joining all columns at once using pd.concat(axis=1) instead. To get a de-fragmented frame, use `newframe = frame.copy()`\n",
      "  sea_word_freq[sea_wa_only_words] = 0\n",
      "C:\\Users\\John\\AppData\\Local\\Temp\\ipykernel_6492\\3662047222.py:9: PerformanceWarning: DataFrame is highly fragmented.  This is usually the result of calling `frame.insert` many times, which has poor performance.  Consider joining all columns at once using pd.concat(axis=1) instead. To get a de-fragmented frame, use `newframe = frame.copy()`\n",
      "  sea_word_freq[sea_wa_only_words] = 0\n",
      "C:\\Users\\John\\AppData\\Local\\Temp\\ipykernel_6492\\3662047222.py:9: PerformanceWarning: DataFrame is highly fragmented.  This is usually the result of calling `frame.insert` many times, which has poor performance.  Consider joining all columns at once using pd.concat(axis=1) instead. To get a de-fragmented frame, use `newframe = frame.copy()`\n",
      "  sea_word_freq[sea_wa_only_words] = 0\n",
      "C:\\Users\\John\\AppData\\Local\\Temp\\ipykernel_6492\\3662047222.py:9: PerformanceWarning: DataFrame is highly fragmented.  This is usually the result of calling `frame.insert` many times, which has poor performance.  Consider joining all columns at once using pd.concat(axis=1) instead. To get a de-fragmented frame, use `newframe = frame.copy()`\n",
      "  sea_word_freq[sea_wa_only_words] = 0\n",
      "C:\\Users\\John\\AppData\\Local\\Temp\\ipykernel_6492\\3662047222.py:9: PerformanceWarning: DataFrame is highly fragmented.  This is usually the result of calling `frame.insert` many times, which has poor performance.  Consider joining all columns at once using pd.concat(axis=1) instead. To get a de-fragmented frame, use `newframe = frame.copy()`\n",
      "  sea_word_freq[sea_wa_only_words] = 0\n",
      "C:\\Users\\John\\AppData\\Local\\Temp\\ipykernel_6492\\3662047222.py:9: PerformanceWarning: DataFrame is highly fragmented.  This is usually the result of calling `frame.insert` many times, which has poor performance.  Consider joining all columns at once using pd.concat(axis=1) instead. To get a de-fragmented frame, use `newframe = frame.copy()`\n",
      "  sea_word_freq[sea_wa_only_words] = 0\n",
      "C:\\Users\\John\\AppData\\Local\\Temp\\ipykernel_6492\\3662047222.py:9: PerformanceWarning: DataFrame is highly fragmented.  This is usually the result of calling `frame.insert` many times, which has poor performance.  Consider joining all columns at once using pd.concat(axis=1) instead. To get a de-fragmented frame, use `newframe = frame.copy()`\n",
      "  sea_word_freq[sea_wa_only_words] = 0\n",
      "C:\\Users\\John\\AppData\\Local\\Temp\\ipykernel_6492\\3662047222.py:9: PerformanceWarning: DataFrame is highly fragmented.  This is usually the result of calling `frame.insert` many times, which has poor performance.  Consider joining all columns at once using pd.concat(axis=1) instead. To get a de-fragmented frame, use `newframe = frame.copy()`\n",
      "  sea_word_freq[sea_wa_only_words] = 0\n",
      "C:\\Users\\John\\AppData\\Local\\Temp\\ipykernel_6492\\3662047222.py:9: PerformanceWarning: DataFrame is highly fragmented.  This is usually the result of calling `frame.insert` many times, which has poor performance.  Consider joining all columns at once using pd.concat(axis=1) instead. To get a de-fragmented frame, use `newframe = frame.copy()`\n",
      "  sea_word_freq[sea_wa_only_words] = 0\n",
      "C:\\Users\\John\\AppData\\Local\\Temp\\ipykernel_6492\\3662047222.py:9: PerformanceWarning: DataFrame is highly fragmented.  This is usually the result of calling `frame.insert` many times, which has poor performance.  Consider joining all columns at once using pd.concat(axis=1) instead. To get a de-fragmented frame, use `newframe = frame.copy()`\n",
      "  sea_word_freq[sea_wa_only_words] = 0\n",
      "C:\\Users\\John\\AppData\\Local\\Temp\\ipykernel_6492\\3662047222.py:9: PerformanceWarning: DataFrame is highly fragmented.  This is usually the result of calling `frame.insert` many times, which has poor performance.  Consider joining all columns at once using pd.concat(axis=1) instead. To get a de-fragmented frame, use `newframe = frame.copy()`\n",
      "  sea_word_freq[sea_wa_only_words] = 0\n",
      "C:\\Users\\John\\AppData\\Local\\Temp\\ipykernel_6492\\3662047222.py:9: PerformanceWarning: DataFrame is highly fragmented.  This is usually the result of calling `frame.insert` many times, which has poor performance.  Consider joining all columns at once using pd.concat(axis=1) instead. To get a de-fragmented frame, use `newframe = frame.copy()`\n",
      "  sea_word_freq[sea_wa_only_words] = 0\n",
      "C:\\Users\\John\\AppData\\Local\\Temp\\ipykernel_6492\\3662047222.py:9: PerformanceWarning: DataFrame is highly fragmented.  This is usually the result of calling `frame.insert` many times, which has poor performance.  Consider joining all columns at once using pd.concat(axis=1) instead. To get a de-fragmented frame, use `newframe = frame.copy()`\n",
      "  sea_word_freq[sea_wa_only_words] = 0\n",
      "C:\\Users\\John\\AppData\\Local\\Temp\\ipykernel_6492\\3662047222.py:9: PerformanceWarning: DataFrame is highly fragmented.  This is usually the result of calling `frame.insert` many times, which has poor performance.  Consider joining all columns at once using pd.concat(axis=1) instead. To get a de-fragmented frame, use `newframe = frame.copy()`\n",
      "  sea_word_freq[sea_wa_only_words] = 0\n",
      "C:\\Users\\John\\AppData\\Local\\Temp\\ipykernel_6492\\3662047222.py:9: PerformanceWarning: DataFrame is highly fragmented.  This is usually the result of calling `frame.insert` many times, which has poor performance.  Consider joining all columns at once using pd.concat(axis=1) instead. To get a de-fragmented frame, use `newframe = frame.copy()`\n",
      "  sea_word_freq[sea_wa_only_words] = 0\n",
      "C:\\Users\\John\\AppData\\Local\\Temp\\ipykernel_6492\\3662047222.py:9: PerformanceWarning: DataFrame is highly fragmented.  This is usually the result of calling `frame.insert` many times, which has poor performance.  Consider joining all columns at once using pd.concat(axis=1) instead. To get a de-fragmented frame, use `newframe = frame.copy()`\n",
      "  sea_word_freq[sea_wa_only_words] = 0\n",
      "C:\\Users\\John\\AppData\\Local\\Temp\\ipykernel_6492\\3662047222.py:9: PerformanceWarning: DataFrame is highly fragmented.  This is usually the result of calling `frame.insert` many times, which has poor performance.  Consider joining all columns at once using pd.concat(axis=1) instead. To get a de-fragmented frame, use `newframe = frame.copy()`\n",
      "  sea_word_freq[sea_wa_only_words] = 0\n",
      "C:\\Users\\John\\AppData\\Local\\Temp\\ipykernel_6492\\3662047222.py:9: PerformanceWarning: DataFrame is highly fragmented.  This is usually the result of calling `frame.insert` many times, which has poor performance.  Consider joining all columns at once using pd.concat(axis=1) instead. To get a de-fragmented frame, use `newframe = frame.copy()`\n",
      "  sea_word_freq[sea_wa_only_words] = 0\n",
      "C:\\Users\\John\\AppData\\Local\\Temp\\ipykernel_6492\\3662047222.py:9: PerformanceWarning: DataFrame is highly fragmented.  This is usually the result of calling `frame.insert` many times, which has poor performance.  Consider joining all columns at once using pd.concat(axis=1) instead. To get a de-fragmented frame, use `newframe = frame.copy()`\n",
      "  sea_word_freq[sea_wa_only_words] = 0\n",
      "C:\\Users\\John\\AppData\\Local\\Temp\\ipykernel_6492\\3662047222.py:9: PerformanceWarning: DataFrame is highly fragmented.  This is usually the result of calling `frame.insert` many times, which has poor performance.  Consider joining all columns at once using pd.concat(axis=1) instead. To get a de-fragmented frame, use `newframe = frame.copy()`\n",
      "  sea_word_freq[sea_wa_only_words] = 0\n",
      "C:\\Users\\John\\AppData\\Local\\Temp\\ipykernel_6492\\3662047222.py:9: PerformanceWarning: DataFrame is highly fragmented.  This is usually the result of calling `frame.insert` many times, which has poor performance.  Consider joining all columns at once using pd.concat(axis=1) instead. To get a de-fragmented frame, use `newframe = frame.copy()`\n",
      "  sea_word_freq[sea_wa_only_words] = 0\n",
      "C:\\Users\\John\\AppData\\Local\\Temp\\ipykernel_6492\\3662047222.py:9: PerformanceWarning: DataFrame is highly fragmented.  This is usually the result of calling `frame.insert` many times, which has poor performance.  Consider joining all columns at once using pd.concat(axis=1) instead. To get a de-fragmented frame, use `newframe = frame.copy()`\n",
      "  sea_word_freq[sea_wa_only_words] = 0\n",
      "C:\\Users\\John\\AppData\\Local\\Temp\\ipykernel_6492\\3662047222.py:9: PerformanceWarning: DataFrame is highly fragmented.  This is usually the result of calling `frame.insert` many times, which has poor performance.  Consider joining all columns at once using pd.concat(axis=1) instead. To get a de-fragmented frame, use `newframe = frame.copy()`\n",
      "  sea_word_freq[sea_wa_only_words] = 0\n",
      "C:\\Users\\John\\AppData\\Local\\Temp\\ipykernel_6492\\3662047222.py:9: PerformanceWarning: DataFrame is highly fragmented.  This is usually the result of calling `frame.insert` many times, which has poor performance.  Consider joining all columns at once using pd.concat(axis=1) instead. To get a de-fragmented frame, use `newframe = frame.copy()`\n",
      "  sea_word_freq[sea_wa_only_words] = 0\n",
      "C:\\Users\\John\\AppData\\Local\\Temp\\ipykernel_6492\\3662047222.py:9: PerformanceWarning: DataFrame is highly fragmented.  This is usually the result of calling `frame.insert` many times, which has poor performance.  Consider joining all columns at once using pd.concat(axis=1) instead. To get a de-fragmented frame, use `newframe = frame.copy()`\n",
      "  sea_word_freq[sea_wa_only_words] = 0\n",
      "C:\\Users\\John\\AppData\\Local\\Temp\\ipykernel_6492\\3662047222.py:9: PerformanceWarning: DataFrame is highly fragmented.  This is usually the result of calling `frame.insert` many times, which has poor performance.  Consider joining all columns at once using pd.concat(axis=1) instead. To get a de-fragmented frame, use `newframe = frame.copy()`\n",
      "  sea_word_freq[sea_wa_only_words] = 0\n",
      "C:\\Users\\John\\AppData\\Local\\Temp\\ipykernel_6492\\3662047222.py:9: PerformanceWarning: DataFrame is highly fragmented.  This is usually the result of calling `frame.insert` many times, which has poor performance.  Consider joining all columns at once using pd.concat(axis=1) instead. To get a de-fragmented frame, use `newframe = frame.copy()`\n",
      "  sea_word_freq[sea_wa_only_words] = 0\n",
      "C:\\Users\\John\\AppData\\Local\\Temp\\ipykernel_6492\\3662047222.py:9: PerformanceWarning: DataFrame is highly fragmented.  This is usually the result of calling `frame.insert` many times, which has poor performance.  Consider joining all columns at once using pd.concat(axis=1) instead. To get a de-fragmented frame, use `newframe = frame.copy()`\n",
      "  sea_word_freq[sea_wa_only_words] = 0\n",
      "C:\\Users\\John\\AppData\\Local\\Temp\\ipykernel_6492\\3662047222.py:9: PerformanceWarning: DataFrame is highly fragmented.  This is usually the result of calling `frame.insert` many times, which has poor performance.  Consider joining all columns at once using pd.concat(axis=1) instead. To get a de-fragmented frame, use `newframe = frame.copy()`\n",
      "  sea_word_freq[sea_wa_only_words] = 0\n",
      "C:\\Users\\John\\AppData\\Local\\Temp\\ipykernel_6492\\3662047222.py:9: PerformanceWarning: DataFrame is highly fragmented.  This is usually the result of calling `frame.insert` many times, which has poor performance.  Consider joining all columns at once using pd.concat(axis=1) instead. To get a de-fragmented frame, use `newframe = frame.copy()`\n",
      "  sea_word_freq[sea_wa_only_words] = 0\n",
      "C:\\Users\\John\\AppData\\Local\\Temp\\ipykernel_6492\\3662047222.py:9: PerformanceWarning: DataFrame is highly fragmented.  This is usually the result of calling `frame.insert` many times, which has poor performance.  Consider joining all columns at once using pd.concat(axis=1) instead. To get a de-fragmented frame, use `newframe = frame.copy()`\n",
      "  sea_word_freq[sea_wa_only_words] = 0\n",
      "C:\\Users\\John\\AppData\\Local\\Temp\\ipykernel_6492\\3662047222.py:9: PerformanceWarning: DataFrame is highly fragmented.  This is usually the result of calling `frame.insert` many times, which has poor performance.  Consider joining all columns at once using pd.concat(axis=1) instead. To get a de-fragmented frame, use `newframe = frame.copy()`\n",
      "  sea_word_freq[sea_wa_only_words] = 0\n",
      "C:\\Users\\John\\AppData\\Local\\Temp\\ipykernel_6492\\3662047222.py:9: PerformanceWarning: DataFrame is highly fragmented.  This is usually the result of calling `frame.insert` many times, which has poor performance.  Consider joining all columns at once using pd.concat(axis=1) instead. To get a de-fragmented frame, use `newframe = frame.copy()`\n",
      "  sea_word_freq[sea_wa_only_words] = 0\n",
      "C:\\Users\\John\\AppData\\Local\\Temp\\ipykernel_6492\\3662047222.py:9: PerformanceWarning: DataFrame is highly fragmented.  This is usually the result of calling `frame.insert` many times, which has poor performance.  Consider joining all columns at once using pd.concat(axis=1) instead. To get a de-fragmented frame, use `newframe = frame.copy()`\n",
      "  sea_word_freq[sea_wa_only_words] = 0\n",
      "C:\\Users\\John\\AppData\\Local\\Temp\\ipykernel_6492\\3662047222.py:9: PerformanceWarning: DataFrame is highly fragmented.  This is usually the result of calling `frame.insert` many times, which has poor performance.  Consider joining all columns at once using pd.concat(axis=1) instead. To get a de-fragmented frame, use `newframe = frame.copy()`\n",
      "  sea_word_freq[sea_wa_only_words] = 0\n",
      "C:\\Users\\John\\AppData\\Local\\Temp\\ipykernel_6492\\3662047222.py:9: PerformanceWarning: DataFrame is highly fragmented.  This is usually the result of calling `frame.insert` many times, which has poor performance.  Consider joining all columns at once using pd.concat(axis=1) instead. To get a de-fragmented frame, use `newframe = frame.copy()`\n",
      "  sea_word_freq[sea_wa_only_words] = 0\n",
      "C:\\Users\\John\\AppData\\Local\\Temp\\ipykernel_6492\\3662047222.py:9: PerformanceWarning: DataFrame is highly fragmented.  This is usually the result of calling `frame.insert` many times, which has poor performance.  Consider joining all columns at once using pd.concat(axis=1) instead. To get a de-fragmented frame, use `newframe = frame.copy()`\n",
      "  sea_word_freq[sea_wa_only_words] = 0\n",
      "C:\\Users\\John\\AppData\\Local\\Temp\\ipykernel_6492\\3662047222.py:9: PerformanceWarning: DataFrame is highly fragmented.  This is usually the result of calling `frame.insert` many times, which has poor performance.  Consider joining all columns at once using pd.concat(axis=1) instead. To get a de-fragmented frame, use `newframe = frame.copy()`\n",
      "  sea_word_freq[sea_wa_only_words] = 0\n",
      "C:\\Users\\John\\AppData\\Local\\Temp\\ipykernel_6492\\3662047222.py:9: PerformanceWarning: DataFrame is highly fragmented.  This is usually the result of calling `frame.insert` many times, which has poor performance.  Consider joining all columns at once using pd.concat(axis=1) instead. To get a de-fragmented frame, use `newframe = frame.copy()`\n",
      "  sea_word_freq[sea_wa_only_words] = 0\n",
      "C:\\Users\\John\\AppData\\Local\\Temp\\ipykernel_6492\\3662047222.py:9: PerformanceWarning: DataFrame is highly fragmented.  This is usually the result of calling `frame.insert` many times, which has poor performance.  Consider joining all columns at once using pd.concat(axis=1) instead. To get a de-fragmented frame, use `newframe = frame.copy()`\n",
      "  sea_word_freq[sea_wa_only_words] = 0\n",
      "C:\\Users\\John\\AppData\\Local\\Temp\\ipykernel_6492\\3662047222.py:9: PerformanceWarning: DataFrame is highly fragmented.  This is usually the result of calling `frame.insert` many times, which has poor performance.  Consider joining all columns at once using pd.concat(axis=1) instead. To get a de-fragmented frame, use `newframe = frame.copy()`\n",
      "  sea_word_freq[sea_wa_only_words] = 0\n",
      "C:\\Users\\John\\AppData\\Local\\Temp\\ipykernel_6492\\3662047222.py:9: PerformanceWarning: DataFrame is highly fragmented.  This is usually the result of calling `frame.insert` many times, which has poor performance.  Consider joining all columns at once using pd.concat(axis=1) instead. To get a de-fragmented frame, use `newframe = frame.copy()`\n",
      "  sea_word_freq[sea_wa_only_words] = 0\n",
      "C:\\Users\\John\\AppData\\Local\\Temp\\ipykernel_6492\\3662047222.py:9: PerformanceWarning: DataFrame is highly fragmented.  This is usually the result of calling `frame.insert` many times, which has poor performance.  Consider joining all columns at once using pd.concat(axis=1) instead. To get a de-fragmented frame, use `newframe = frame.copy()`\n",
      "  sea_word_freq[sea_wa_only_words] = 0\n",
      "C:\\Users\\John\\AppData\\Local\\Temp\\ipykernel_6492\\3662047222.py:9: PerformanceWarning: DataFrame is highly fragmented.  This is usually the result of calling `frame.insert` many times, which has poor performance.  Consider joining all columns at once using pd.concat(axis=1) instead. To get a de-fragmented frame, use `newframe = frame.copy()`\n",
      "  sea_word_freq[sea_wa_only_words] = 0\n",
      "C:\\Users\\John\\AppData\\Local\\Temp\\ipykernel_6492\\3662047222.py:9: PerformanceWarning: DataFrame is highly fragmented.  This is usually the result of calling `frame.insert` many times, which has poor performance.  Consider joining all columns at once using pd.concat(axis=1) instead. To get a de-fragmented frame, use `newframe = frame.copy()`\n",
      "  sea_word_freq[sea_wa_only_words] = 0\n",
      "C:\\Users\\John\\AppData\\Local\\Temp\\ipykernel_6492\\3662047222.py:9: PerformanceWarning: DataFrame is highly fragmented.  This is usually the result of calling `frame.insert` many times, which has poor performance.  Consider joining all columns at once using pd.concat(axis=1) instead. To get a de-fragmented frame, use `newframe = frame.copy()`\n",
      "  sea_word_freq[sea_wa_only_words] = 0\n",
      "C:\\Users\\John\\AppData\\Local\\Temp\\ipykernel_6492\\3662047222.py:9: PerformanceWarning: DataFrame is highly fragmented.  This is usually the result of calling `frame.insert` many times, which has poor performance.  Consider joining all columns at once using pd.concat(axis=1) instead. To get a de-fragmented frame, use `newframe = frame.copy()`\n",
      "  sea_word_freq[sea_wa_only_words] = 0\n",
      "C:\\Users\\John\\AppData\\Local\\Temp\\ipykernel_6492\\3662047222.py:9: PerformanceWarning: DataFrame is highly fragmented.  This is usually the result of calling `frame.insert` many times, which has poor performance.  Consider joining all columns at once using pd.concat(axis=1) instead. To get a de-fragmented frame, use `newframe = frame.copy()`\n",
      "  sea_word_freq[sea_wa_only_words] = 0\n",
      "C:\\Users\\John\\AppData\\Local\\Temp\\ipykernel_6492\\3662047222.py:9: PerformanceWarning: DataFrame is highly fragmented.  This is usually the result of calling `frame.insert` many times, which has poor performance.  Consider joining all columns at once using pd.concat(axis=1) instead. To get a de-fragmented frame, use `newframe = frame.copy()`\n",
      "  sea_word_freq[sea_wa_only_words] = 0\n",
      "C:\\Users\\John\\AppData\\Local\\Temp\\ipykernel_6492\\3662047222.py:9: PerformanceWarning: DataFrame is highly fragmented.  This is usually the result of calling `frame.insert` many times, which has poor performance.  Consider joining all columns at once using pd.concat(axis=1) instead. To get a de-fragmented frame, use `newframe = frame.copy()`\n",
      "  sea_word_freq[sea_wa_only_words] = 0\n",
      "C:\\Users\\John\\AppData\\Local\\Temp\\ipykernel_6492\\3662047222.py:9: PerformanceWarning: DataFrame is highly fragmented.  This is usually the result of calling `frame.insert` many times, which has poor performance.  Consider joining all columns at once using pd.concat(axis=1) instead. To get a de-fragmented frame, use `newframe = frame.copy()`\n",
      "  sea_word_freq[sea_wa_only_words] = 0\n",
      "C:\\Users\\John\\AppData\\Local\\Temp\\ipykernel_6492\\3662047222.py:9: PerformanceWarning: DataFrame is highly fragmented.  This is usually the result of calling `frame.insert` many times, which has poor performance.  Consider joining all columns at once using pd.concat(axis=1) instead. To get a de-fragmented frame, use `newframe = frame.copy()`\n",
      "  sea_word_freq[sea_wa_only_words] = 0\n",
      "C:\\Users\\John\\AppData\\Local\\Temp\\ipykernel_6492\\3662047222.py:9: PerformanceWarning: DataFrame is highly fragmented.  This is usually the result of calling `frame.insert` many times, which has poor performance.  Consider joining all columns at once using pd.concat(axis=1) instead. To get a de-fragmented frame, use `newframe = frame.copy()`\n",
      "  sea_word_freq[sea_wa_only_words] = 0\n",
      "C:\\Users\\John\\AppData\\Local\\Temp\\ipykernel_6492\\3662047222.py:9: PerformanceWarning: DataFrame is highly fragmented.  This is usually the result of calling `frame.insert` many times, which has poor performance.  Consider joining all columns at once using pd.concat(axis=1) instead. To get a de-fragmented frame, use `newframe = frame.copy()`\n",
      "  sea_word_freq[sea_wa_only_words] = 0\n",
      "C:\\Users\\John\\AppData\\Local\\Temp\\ipykernel_6492\\3662047222.py:9: PerformanceWarning: DataFrame is highly fragmented.  This is usually the result of calling `frame.insert` many times, which has poor performance.  Consider joining all columns at once using pd.concat(axis=1) instead. To get a de-fragmented frame, use `newframe = frame.copy()`\n",
      "  sea_word_freq[sea_wa_only_words] = 0\n",
      "C:\\Users\\John\\AppData\\Local\\Temp\\ipykernel_6492\\3662047222.py:9: PerformanceWarning: DataFrame is highly fragmented.  This is usually the result of calling `frame.insert` many times, which has poor performance.  Consider joining all columns at once using pd.concat(axis=1) instead. To get a de-fragmented frame, use `newframe = frame.copy()`\n",
      "  sea_word_freq[sea_wa_only_words] = 0\n",
      "C:\\Users\\John\\AppData\\Local\\Temp\\ipykernel_6492\\3662047222.py:9: PerformanceWarning: DataFrame is highly fragmented.  This is usually the result of calling `frame.insert` many times, which has poor performance.  Consider joining all columns at once using pd.concat(axis=1) instead. To get a de-fragmented frame, use `newframe = frame.copy()`\n",
      "  sea_word_freq[sea_wa_only_words] = 0\n",
      "C:\\Users\\John\\AppData\\Local\\Temp\\ipykernel_6492\\3662047222.py:9: PerformanceWarning: DataFrame is highly fragmented.  This is usually the result of calling `frame.insert` many times, which has poor performance.  Consider joining all columns at once using pd.concat(axis=1) instead. To get a de-fragmented frame, use `newframe = frame.copy()`\n",
      "  sea_word_freq[sea_wa_only_words] = 0\n",
      "C:\\Users\\John\\AppData\\Local\\Temp\\ipykernel_6492\\3662047222.py:9: PerformanceWarning: DataFrame is highly fragmented.  This is usually the result of calling `frame.insert` many times, which has poor performance.  Consider joining all columns at once using pd.concat(axis=1) instead. To get a de-fragmented frame, use `newframe = frame.copy()`\n",
      "  sea_word_freq[sea_wa_only_words] = 0\n",
      "C:\\Users\\John\\AppData\\Local\\Temp\\ipykernel_6492\\3662047222.py:9: PerformanceWarning: DataFrame is highly fragmented.  This is usually the result of calling `frame.insert` many times, which has poor performance.  Consider joining all columns at once using pd.concat(axis=1) instead. To get a de-fragmented frame, use `newframe = frame.copy()`\n",
      "  sea_word_freq[sea_wa_only_words] = 0\n",
      "C:\\Users\\John\\AppData\\Local\\Temp\\ipykernel_6492\\3662047222.py:9: PerformanceWarning: DataFrame is highly fragmented.  This is usually the result of calling `frame.insert` many times, which has poor performance.  Consider joining all columns at once using pd.concat(axis=1) instead. To get a de-fragmented frame, use `newframe = frame.copy()`\n",
      "  sea_word_freq[sea_wa_only_words] = 0\n",
      "C:\\Users\\John\\AppData\\Local\\Temp\\ipykernel_6492\\3662047222.py:9: PerformanceWarning: DataFrame is highly fragmented.  This is usually the result of calling `frame.insert` many times, which has poor performance.  Consider joining all columns at once using pd.concat(axis=1) instead. To get a de-fragmented frame, use `newframe = frame.copy()`\n",
      "  sea_word_freq[sea_wa_only_words] = 0\n",
      "C:\\Users\\John\\AppData\\Local\\Temp\\ipykernel_6492\\3662047222.py:9: PerformanceWarning: DataFrame is highly fragmented.  This is usually the result of calling `frame.insert` many times, which has poor performance.  Consider joining all columns at once using pd.concat(axis=1) instead. To get a de-fragmented frame, use `newframe = frame.copy()`\n",
      "  sea_word_freq[sea_wa_only_words] = 0\n",
      "C:\\Users\\John\\AppData\\Local\\Temp\\ipykernel_6492\\3662047222.py:9: PerformanceWarning: DataFrame is highly fragmented.  This is usually the result of calling `frame.insert` many times, which has poor performance.  Consider joining all columns at once using pd.concat(axis=1) instead. To get a de-fragmented frame, use `newframe = frame.copy()`\n",
      "  sea_word_freq[sea_wa_only_words] = 0\n",
      "C:\\Users\\John\\AppData\\Local\\Temp\\ipykernel_6492\\3662047222.py:9: PerformanceWarning: DataFrame is highly fragmented.  This is usually the result of calling `frame.insert` many times, which has poor performance.  Consider joining all columns at once using pd.concat(axis=1) instead. To get a de-fragmented frame, use `newframe = frame.copy()`\n",
      "  sea_word_freq[sea_wa_only_words] = 0\n",
      "C:\\Users\\John\\AppData\\Local\\Temp\\ipykernel_6492\\3662047222.py:9: PerformanceWarning: DataFrame is highly fragmented.  This is usually the result of calling `frame.insert` many times, which has poor performance.  Consider joining all columns at once using pd.concat(axis=1) instead. To get a de-fragmented frame, use `newframe = frame.copy()`\n",
      "  sea_word_freq[sea_wa_only_words] = 0\n",
      "C:\\Users\\John\\AppData\\Local\\Temp\\ipykernel_6492\\3662047222.py:9: PerformanceWarning: DataFrame is highly fragmented.  This is usually the result of calling `frame.insert` many times, which has poor performance.  Consider joining all columns at once using pd.concat(axis=1) instead. To get a de-fragmented frame, use `newframe = frame.copy()`\n",
      "  sea_word_freq[sea_wa_only_words] = 0\n",
      "C:\\Users\\John\\AppData\\Local\\Temp\\ipykernel_6492\\3662047222.py:9: PerformanceWarning: DataFrame is highly fragmented.  This is usually the result of calling `frame.insert` many times, which has poor performance.  Consider joining all columns at once using pd.concat(axis=1) instead. To get a de-fragmented frame, use `newframe = frame.copy()`\n",
      "  sea_word_freq[sea_wa_only_words] = 0\n",
      "C:\\Users\\John\\AppData\\Local\\Temp\\ipykernel_6492\\3662047222.py:9: PerformanceWarning: DataFrame is highly fragmented.  This is usually the result of calling `frame.insert` many times, which has poor performance.  Consider joining all columns at once using pd.concat(axis=1) instead. To get a de-fragmented frame, use `newframe = frame.copy()`\n",
      "  sea_word_freq[sea_wa_only_words] = 0\n",
      "C:\\Users\\John\\AppData\\Local\\Temp\\ipykernel_6492\\3662047222.py:9: PerformanceWarning: DataFrame is highly fragmented.  This is usually the result of calling `frame.insert` many times, which has poor performance.  Consider joining all columns at once using pd.concat(axis=1) instead. To get a de-fragmented frame, use `newframe = frame.copy()`\n",
      "  sea_word_freq[sea_wa_only_words] = 0\n",
      "C:\\Users\\John\\AppData\\Local\\Temp\\ipykernel_6492\\3662047222.py:9: PerformanceWarning: DataFrame is highly fragmented.  This is usually the result of calling `frame.insert` many times, which has poor performance.  Consider joining all columns at once using pd.concat(axis=1) instead. To get a de-fragmented frame, use `newframe = frame.copy()`\n",
      "  sea_word_freq[sea_wa_only_words] = 0\n",
      "C:\\Users\\John\\AppData\\Local\\Temp\\ipykernel_6492\\3662047222.py:9: PerformanceWarning: DataFrame is highly fragmented.  This is usually the result of calling `frame.insert` many times, which has poor performance.  Consider joining all columns at once using pd.concat(axis=1) instead. To get a de-fragmented frame, use `newframe = frame.copy()`\n",
      "  sea_word_freq[sea_wa_only_words] = 0\n",
      "C:\\Users\\John\\AppData\\Local\\Temp\\ipykernel_6492\\3662047222.py:9: PerformanceWarning: DataFrame is highly fragmented.  This is usually the result of calling `frame.insert` many times, which has poor performance.  Consider joining all columns at once using pd.concat(axis=1) instead. To get a de-fragmented frame, use `newframe = frame.copy()`\n",
      "  sea_word_freq[sea_wa_only_words] = 0\n",
      "C:\\Users\\John\\AppData\\Local\\Temp\\ipykernel_6492\\3662047222.py:9: PerformanceWarning: DataFrame is highly fragmented.  This is usually the result of calling `frame.insert` many times, which has poor performance.  Consider joining all columns at once using pd.concat(axis=1) instead. To get a de-fragmented frame, use `newframe = frame.copy()`\n",
      "  sea_word_freq[sea_wa_only_words] = 0\n",
      "C:\\Users\\John\\AppData\\Local\\Temp\\ipykernel_6492\\3662047222.py:9: PerformanceWarning: DataFrame is highly fragmented.  This is usually the result of calling `frame.insert` many times, which has poor performance.  Consider joining all columns at once using pd.concat(axis=1) instead. To get a de-fragmented frame, use `newframe = frame.copy()`\n",
      "  sea_word_freq[sea_wa_only_words] = 0\n",
      "C:\\Users\\John\\AppData\\Local\\Temp\\ipykernel_6492\\3662047222.py:9: PerformanceWarning: DataFrame is highly fragmented.  This is usually the result of calling `frame.insert` many times, which has poor performance.  Consider joining all columns at once using pd.concat(axis=1) instead. To get a de-fragmented frame, use `newframe = frame.copy()`\n",
      "  sea_word_freq[sea_wa_only_words] = 0\n",
      "C:\\Users\\John\\AppData\\Local\\Temp\\ipykernel_6492\\3662047222.py:9: PerformanceWarning: DataFrame is highly fragmented.  This is usually the result of calling `frame.insert` many times, which has poor performance.  Consider joining all columns at once using pd.concat(axis=1) instead. To get a de-fragmented frame, use `newframe = frame.copy()`\n",
      "  sea_word_freq[sea_wa_only_words] = 0\n",
      "C:\\Users\\John\\AppData\\Local\\Temp\\ipykernel_6492\\3662047222.py:9: PerformanceWarning: DataFrame is highly fragmented.  This is usually the result of calling `frame.insert` many times, which has poor performance.  Consider joining all columns at once using pd.concat(axis=1) instead. To get a de-fragmented frame, use `newframe = frame.copy()`\n",
      "  sea_word_freq[sea_wa_only_words] = 0\n",
      "C:\\Users\\John\\AppData\\Local\\Temp\\ipykernel_6492\\3662047222.py:9: PerformanceWarning: DataFrame is highly fragmented.  This is usually the result of calling `frame.insert` many times, which has poor performance.  Consider joining all columns at once using pd.concat(axis=1) instead. To get a de-fragmented frame, use `newframe = frame.copy()`\n",
      "  sea_word_freq[sea_wa_only_words] = 0\n",
      "C:\\Users\\John\\AppData\\Local\\Temp\\ipykernel_6492\\3662047222.py:9: PerformanceWarning: DataFrame is highly fragmented.  This is usually the result of calling `frame.insert` many times, which has poor performance.  Consider joining all columns at once using pd.concat(axis=1) instead. To get a de-fragmented frame, use `newframe = frame.copy()`\n",
      "  sea_word_freq[sea_wa_only_words] = 0\n",
      "C:\\Users\\John\\AppData\\Local\\Temp\\ipykernel_6492\\3662047222.py:9: PerformanceWarning: DataFrame is highly fragmented.  This is usually the result of calling `frame.insert` many times, which has poor performance.  Consider joining all columns at once using pd.concat(axis=1) instead. To get a de-fragmented frame, use `newframe = frame.copy()`\n",
      "  sea_word_freq[sea_wa_only_words] = 0\n",
      "C:\\Users\\John\\AppData\\Local\\Temp\\ipykernel_6492\\3662047222.py:9: PerformanceWarning: DataFrame is highly fragmented.  This is usually the result of calling `frame.insert` many times, which has poor performance.  Consider joining all columns at once using pd.concat(axis=1) instead. To get a de-fragmented frame, use `newframe = frame.copy()`\n",
      "  sea_word_freq[sea_wa_only_words] = 0\n",
      "C:\\Users\\John\\AppData\\Local\\Temp\\ipykernel_6492\\3662047222.py:9: PerformanceWarning: DataFrame is highly fragmented.  This is usually the result of calling `frame.insert` many times, which has poor performance.  Consider joining all columns at once using pd.concat(axis=1) instead. To get a de-fragmented frame, use `newframe = frame.copy()`\n",
      "  sea_word_freq[sea_wa_only_words] = 0\n",
      "C:\\Users\\John\\AppData\\Local\\Temp\\ipykernel_6492\\3662047222.py:9: PerformanceWarning: DataFrame is highly fragmented.  This is usually the result of calling `frame.insert` many times, which has poor performance.  Consider joining all columns at once using pd.concat(axis=1) instead. To get a de-fragmented frame, use `newframe = frame.copy()`\n",
      "  sea_word_freq[sea_wa_only_words] = 0\n",
      "C:\\Users\\John\\AppData\\Local\\Temp\\ipykernel_6492\\3662047222.py:9: PerformanceWarning: DataFrame is highly fragmented.  This is usually the result of calling `frame.insert` many times, which has poor performance.  Consider joining all columns at once using pd.concat(axis=1) instead. To get a de-fragmented frame, use `newframe = frame.copy()`\n",
      "  sea_word_freq[sea_wa_only_words] = 0\n",
      "C:\\Users\\John\\AppData\\Local\\Temp\\ipykernel_6492\\3662047222.py:9: PerformanceWarning: DataFrame is highly fragmented.  This is usually the result of calling `frame.insert` many times, which has poor performance.  Consider joining all columns at once using pd.concat(axis=1) instead. To get a de-fragmented frame, use `newframe = frame.copy()`\n",
      "  sea_word_freq[sea_wa_only_words] = 0\n",
      "C:\\Users\\John\\AppData\\Local\\Temp\\ipykernel_6492\\3662047222.py:9: PerformanceWarning: DataFrame is highly fragmented.  This is usually the result of calling `frame.insert` many times, which has poor performance.  Consider joining all columns at once using pd.concat(axis=1) instead. To get a de-fragmented frame, use `newframe = frame.copy()`\n",
      "  sea_word_freq[sea_wa_only_words] = 0\n",
      "C:\\Users\\John\\AppData\\Local\\Temp\\ipykernel_6492\\3662047222.py:9: PerformanceWarning: DataFrame is highly fragmented.  This is usually the result of calling `frame.insert` many times, which has poor performance.  Consider joining all columns at once using pd.concat(axis=1) instead. To get a de-fragmented frame, use `newframe = frame.copy()`\n",
      "  sea_word_freq[sea_wa_only_words] = 0\n",
      "C:\\Users\\John\\AppData\\Local\\Temp\\ipykernel_6492\\3662047222.py:9: PerformanceWarning: DataFrame is highly fragmented.  This is usually the result of calling `frame.insert` many times, which has poor performance.  Consider joining all columns at once using pd.concat(axis=1) instead. To get a de-fragmented frame, use `newframe = frame.copy()`\n",
      "  sea_word_freq[sea_wa_only_words] = 0\n",
      "C:\\Users\\John\\AppData\\Local\\Temp\\ipykernel_6492\\3662047222.py:9: PerformanceWarning: DataFrame is highly fragmented.  This is usually the result of calling `frame.insert` many times, which has poor performance.  Consider joining all columns at once using pd.concat(axis=1) instead. To get a de-fragmented frame, use `newframe = frame.copy()`\n",
      "  sea_word_freq[sea_wa_only_words] = 0\n",
      "C:\\Users\\John\\AppData\\Local\\Temp\\ipykernel_6492\\3662047222.py:9: PerformanceWarning: DataFrame is highly fragmented.  This is usually the result of calling `frame.insert` many times, which has poor performance.  Consider joining all columns at once using pd.concat(axis=1) instead. To get a de-fragmented frame, use `newframe = frame.copy()`\n",
      "  sea_word_freq[sea_wa_only_words] = 0\n",
      "C:\\Users\\John\\AppData\\Local\\Temp\\ipykernel_6492\\3662047222.py:9: PerformanceWarning: DataFrame is highly fragmented.  This is usually the result of calling `frame.insert` many times, which has poor performance.  Consider joining all columns at once using pd.concat(axis=1) instead. To get a de-fragmented frame, use `newframe = frame.copy()`\n",
      "  sea_word_freq[sea_wa_only_words] = 0\n",
      "C:\\Users\\John\\AppData\\Local\\Temp\\ipykernel_6492\\3662047222.py:9: PerformanceWarning: DataFrame is highly fragmented.  This is usually the result of calling `frame.insert` many times, which has poor performance.  Consider joining all columns at once using pd.concat(axis=1) instead. To get a de-fragmented frame, use `newframe = frame.copy()`\n",
      "  sea_word_freq[sea_wa_only_words] = 0\n",
      "C:\\Users\\John\\AppData\\Local\\Temp\\ipykernel_6492\\3662047222.py:9: PerformanceWarning: DataFrame is highly fragmented.  This is usually the result of calling `frame.insert` many times, which has poor performance.  Consider joining all columns at once using pd.concat(axis=1) instead. To get a de-fragmented frame, use `newframe = frame.copy()`\n",
      "  sea_word_freq[sea_wa_only_words] = 0\n",
      "C:\\Users\\John\\AppData\\Local\\Temp\\ipykernel_6492\\3662047222.py:9: PerformanceWarning: DataFrame is highly fragmented.  This is usually the result of calling `frame.insert` many times, which has poor performance.  Consider joining all columns at once using pd.concat(axis=1) instead. To get a de-fragmented frame, use `newframe = frame.copy()`\n",
      "  sea_word_freq[sea_wa_only_words] = 0\n",
      "C:\\Users\\John\\AppData\\Local\\Temp\\ipykernel_6492\\3662047222.py:9: PerformanceWarning: DataFrame is highly fragmented.  This is usually the result of calling `frame.insert` many times, which has poor performance.  Consider joining all columns at once using pd.concat(axis=1) instead. To get a de-fragmented frame, use `newframe = frame.copy()`\n",
      "  sea_word_freq[sea_wa_only_words] = 0\n",
      "C:\\Users\\John\\AppData\\Local\\Temp\\ipykernel_6492\\3662047222.py:9: PerformanceWarning: DataFrame is highly fragmented.  This is usually the result of calling `frame.insert` many times, which has poor performance.  Consider joining all columns at once using pd.concat(axis=1) instead. To get a de-fragmented frame, use `newframe = frame.copy()`\n",
      "  sea_word_freq[sea_wa_only_words] = 0\n",
      "C:\\Users\\John\\AppData\\Local\\Temp\\ipykernel_6492\\3662047222.py:9: PerformanceWarning: DataFrame is highly fragmented.  This is usually the result of calling `frame.insert` many times, which has poor performance.  Consider joining all columns at once using pd.concat(axis=1) instead. To get a de-fragmented frame, use `newframe = frame.copy()`\n",
      "  sea_word_freq[sea_wa_only_words] = 0\n",
      "C:\\Users\\John\\AppData\\Local\\Temp\\ipykernel_6492\\3662047222.py:9: PerformanceWarning: DataFrame is highly fragmented.  This is usually the result of calling `frame.insert` many times, which has poor performance.  Consider joining all columns at once using pd.concat(axis=1) instead. To get a de-fragmented frame, use `newframe = frame.copy()`\n",
      "  sea_word_freq[sea_wa_only_words] = 0\n",
      "C:\\Users\\John\\AppData\\Local\\Temp\\ipykernel_6492\\3662047222.py:9: PerformanceWarning: DataFrame is highly fragmented.  This is usually the result of calling `frame.insert` many times, which has poor performance.  Consider joining all columns at once using pd.concat(axis=1) instead. To get a de-fragmented frame, use `newframe = frame.copy()`\n",
      "  sea_word_freq[sea_wa_only_words] = 0\n",
      "C:\\Users\\John\\AppData\\Local\\Temp\\ipykernel_6492\\3662047222.py:9: PerformanceWarning: DataFrame is highly fragmented.  This is usually the result of calling `frame.insert` many times, which has poor performance.  Consider joining all columns at once using pd.concat(axis=1) instead. To get a de-fragmented frame, use `newframe = frame.copy()`\n",
      "  sea_word_freq[sea_wa_only_words] = 0\n",
      "C:\\Users\\John\\AppData\\Local\\Temp\\ipykernel_6492\\3662047222.py:9: PerformanceWarning: DataFrame is highly fragmented.  This is usually the result of calling `frame.insert` many times, which has poor performance.  Consider joining all columns at once using pd.concat(axis=1) instead. To get a de-fragmented frame, use `newframe = frame.copy()`\n",
      "  sea_word_freq[sea_wa_only_words] = 0\n",
      "C:\\Users\\John\\AppData\\Local\\Temp\\ipykernel_6492\\3662047222.py:9: PerformanceWarning: DataFrame is highly fragmented.  This is usually the result of calling `frame.insert` many times, which has poor performance.  Consider joining all columns at once using pd.concat(axis=1) instead. To get a de-fragmented frame, use `newframe = frame.copy()`\n",
      "  sea_word_freq[sea_wa_only_words] = 0\n",
      "C:\\Users\\John\\AppData\\Local\\Temp\\ipykernel_6492\\3662047222.py:9: PerformanceWarning: DataFrame is highly fragmented.  This is usually the result of calling `frame.insert` many times, which has poor performance.  Consider joining all columns at once using pd.concat(axis=1) instead. To get a de-fragmented frame, use `newframe = frame.copy()`\n",
      "  sea_word_freq[sea_wa_only_words] = 0\n",
      "C:\\Users\\John\\AppData\\Local\\Temp\\ipykernel_6492\\3662047222.py:9: PerformanceWarning: DataFrame is highly fragmented.  This is usually the result of calling `frame.insert` many times, which has poor performance.  Consider joining all columns at once using pd.concat(axis=1) instead. To get a de-fragmented frame, use `newframe = frame.copy()`\n",
      "  sea_word_freq[sea_wa_only_words] = 0\n",
      "C:\\Users\\John\\AppData\\Local\\Temp\\ipykernel_6492\\3662047222.py:9: PerformanceWarning: DataFrame is highly fragmented.  This is usually the result of calling `frame.insert` many times, which has poor performance.  Consider joining all columns at once using pd.concat(axis=1) instead. To get a de-fragmented frame, use `newframe = frame.copy()`\n",
      "  sea_word_freq[sea_wa_only_words] = 0\n",
      "C:\\Users\\John\\AppData\\Local\\Temp\\ipykernel_6492\\3662047222.py:9: PerformanceWarning: DataFrame is highly fragmented.  This is usually the result of calling `frame.insert` many times, which has poor performance.  Consider joining all columns at once using pd.concat(axis=1) instead. To get a de-fragmented frame, use `newframe = frame.copy()`\n",
      "  sea_word_freq[sea_wa_only_words] = 0\n",
      "C:\\Users\\John\\AppData\\Local\\Temp\\ipykernel_6492\\3662047222.py:9: PerformanceWarning: DataFrame is highly fragmented.  This is usually the result of calling `frame.insert` many times, which has poor performance.  Consider joining all columns at once using pd.concat(axis=1) instead. To get a de-fragmented frame, use `newframe = frame.copy()`\n",
      "  sea_word_freq[sea_wa_only_words] = 0\n",
      "C:\\Users\\John\\AppData\\Local\\Temp\\ipykernel_6492\\3662047222.py:9: PerformanceWarning: DataFrame is highly fragmented.  This is usually the result of calling `frame.insert` many times, which has poor performance.  Consider joining all columns at once using pd.concat(axis=1) instead. To get a de-fragmented frame, use `newframe = frame.copy()`\n",
      "  sea_word_freq[sea_wa_only_words] = 0\n",
      "C:\\Users\\John\\AppData\\Local\\Temp\\ipykernel_6492\\3662047222.py:9: PerformanceWarning: DataFrame is highly fragmented.  This is usually the result of calling `frame.insert` many times, which has poor performance.  Consider joining all columns at once using pd.concat(axis=1) instead. To get a de-fragmented frame, use `newframe = frame.copy()`\n",
      "  sea_word_freq[sea_wa_only_words] = 0\n",
      "C:\\Users\\John\\AppData\\Local\\Temp\\ipykernel_6492\\3662047222.py:9: PerformanceWarning: DataFrame is highly fragmented.  This is usually the result of calling `frame.insert` many times, which has poor performance.  Consider joining all columns at once using pd.concat(axis=1) instead. To get a de-fragmented frame, use `newframe = frame.copy()`\n",
      "  sea_word_freq[sea_wa_only_words] = 0\n",
      "C:\\Users\\John\\AppData\\Local\\Temp\\ipykernel_6492\\3662047222.py:9: PerformanceWarning: DataFrame is highly fragmented.  This is usually the result of calling `frame.insert` many times, which has poor performance.  Consider joining all columns at once using pd.concat(axis=1) instead. To get a de-fragmented frame, use `newframe = frame.copy()`\n",
      "  sea_word_freq[sea_wa_only_words] = 0\n",
      "C:\\Users\\John\\AppData\\Local\\Temp\\ipykernel_6492\\3662047222.py:9: PerformanceWarning: DataFrame is highly fragmented.  This is usually the result of calling `frame.insert` many times, which has poor performance.  Consider joining all columns at once using pd.concat(axis=1) instead. To get a de-fragmented frame, use `newframe = frame.copy()`\n",
      "  sea_word_freq[sea_wa_only_words] = 0\n",
      "C:\\Users\\John\\AppData\\Local\\Temp\\ipykernel_6492\\3662047222.py:9: PerformanceWarning: DataFrame is highly fragmented.  This is usually the result of calling `frame.insert` many times, which has poor performance.  Consider joining all columns at once using pd.concat(axis=1) instead. To get a de-fragmented frame, use `newframe = frame.copy()`\n",
      "  sea_word_freq[sea_wa_only_words] = 0\n",
      "C:\\Users\\John\\AppData\\Local\\Temp\\ipykernel_6492\\3662047222.py:9: PerformanceWarning: DataFrame is highly fragmented.  This is usually the result of calling `frame.insert` many times, which has poor performance.  Consider joining all columns at once using pd.concat(axis=1) instead. To get a de-fragmented frame, use `newframe = frame.copy()`\n",
      "  sea_word_freq[sea_wa_only_words] = 0\n",
      "C:\\Users\\John\\AppData\\Local\\Temp\\ipykernel_6492\\3662047222.py:9: PerformanceWarning: DataFrame is highly fragmented.  This is usually the result of calling `frame.insert` many times, which has poor performance.  Consider joining all columns at once using pd.concat(axis=1) instead. To get a de-fragmented frame, use `newframe = frame.copy()`\n",
      "  sea_word_freq[sea_wa_only_words] = 0\n",
      "C:\\Users\\John\\AppData\\Local\\Temp\\ipykernel_6492\\3662047222.py:9: PerformanceWarning: DataFrame is highly fragmented.  This is usually the result of calling `frame.insert` many times, which has poor performance.  Consider joining all columns at once using pd.concat(axis=1) instead. To get a de-fragmented frame, use `newframe = frame.copy()`\n",
      "  sea_word_freq[sea_wa_only_words] = 0\n",
      "C:\\Users\\John\\AppData\\Local\\Temp\\ipykernel_6492\\3662047222.py:9: PerformanceWarning: DataFrame is highly fragmented.  This is usually the result of calling `frame.insert` many times, which has poor performance.  Consider joining all columns at once using pd.concat(axis=1) instead. To get a de-fragmented frame, use `newframe = frame.copy()`\n",
      "  sea_word_freq[sea_wa_only_words] = 0\n",
      "C:\\Users\\John\\AppData\\Local\\Temp\\ipykernel_6492\\3662047222.py:9: PerformanceWarning: DataFrame is highly fragmented.  This is usually the result of calling `frame.insert` many times, which has poor performance.  Consider joining all columns at once using pd.concat(axis=1) instead. To get a de-fragmented frame, use `newframe = frame.copy()`\n",
      "  sea_word_freq[sea_wa_only_words] = 0\n",
      "C:\\Users\\John\\AppData\\Local\\Temp\\ipykernel_6492\\3662047222.py:9: PerformanceWarning: DataFrame is highly fragmented.  This is usually the result of calling `frame.insert` many times, which has poor performance.  Consider joining all columns at once using pd.concat(axis=1) instead. To get a de-fragmented frame, use `newframe = frame.copy()`\n",
      "  sea_word_freq[sea_wa_only_words] = 0\n",
      "C:\\Users\\John\\AppData\\Local\\Temp\\ipykernel_6492\\3662047222.py:9: PerformanceWarning: DataFrame is highly fragmented.  This is usually the result of calling `frame.insert` many times, which has poor performance.  Consider joining all columns at once using pd.concat(axis=1) instead. To get a de-fragmented frame, use `newframe = frame.copy()`\n",
      "  sea_word_freq[sea_wa_only_words] = 0\n",
      "C:\\Users\\John\\AppData\\Local\\Temp\\ipykernel_6492\\3662047222.py:9: PerformanceWarning: DataFrame is highly fragmented.  This is usually the result of calling `frame.insert` many times, which has poor performance.  Consider joining all columns at once using pd.concat(axis=1) instead. To get a de-fragmented frame, use `newframe = frame.copy()`\n",
      "  sea_word_freq[sea_wa_only_words] = 0\n",
      "C:\\Users\\John\\AppData\\Local\\Temp\\ipykernel_6492\\3662047222.py:9: PerformanceWarning: DataFrame is highly fragmented.  This is usually the result of calling `frame.insert` many times, which has poor performance.  Consider joining all columns at once using pd.concat(axis=1) instead. To get a de-fragmented frame, use `newframe = frame.copy()`\n",
      "  sea_word_freq[sea_wa_only_words] = 0\n",
      "C:\\Users\\John\\AppData\\Local\\Temp\\ipykernel_6492\\3662047222.py:9: PerformanceWarning: DataFrame is highly fragmented.  This is usually the result of calling `frame.insert` many times, which has poor performance.  Consider joining all columns at once using pd.concat(axis=1) instead. To get a de-fragmented frame, use `newframe = frame.copy()`\n",
      "  sea_word_freq[sea_wa_only_words] = 0\n",
      "C:\\Users\\John\\AppData\\Local\\Temp\\ipykernel_6492\\3662047222.py:9: PerformanceWarning: DataFrame is highly fragmented.  This is usually the result of calling `frame.insert` many times, which has poor performance.  Consider joining all columns at once using pd.concat(axis=1) instead. To get a de-fragmented frame, use `newframe = frame.copy()`\n",
      "  sea_word_freq[sea_wa_only_words] = 0\n",
      "C:\\Users\\John\\AppData\\Local\\Temp\\ipykernel_6492\\3662047222.py:9: PerformanceWarning: DataFrame is highly fragmented.  This is usually the result of calling `frame.insert` many times, which has poor performance.  Consider joining all columns at once using pd.concat(axis=1) instead. To get a de-fragmented frame, use `newframe = frame.copy()`\n",
      "  sea_word_freq[sea_wa_only_words] = 0\n",
      "C:\\Users\\John\\AppData\\Local\\Temp\\ipykernel_6492\\3662047222.py:9: PerformanceWarning: DataFrame is highly fragmented.  This is usually the result of calling `frame.insert` many times, which has poor performance.  Consider joining all columns at once using pd.concat(axis=1) instead. To get a de-fragmented frame, use `newframe = frame.copy()`\n",
      "  sea_word_freq[sea_wa_only_words] = 0\n",
      "C:\\Users\\John\\AppData\\Local\\Temp\\ipykernel_6492\\3662047222.py:9: PerformanceWarning: DataFrame is highly fragmented.  This is usually the result of calling `frame.insert` many times, which has poor performance.  Consider joining all columns at once using pd.concat(axis=1) instead. To get a de-fragmented frame, use `newframe = frame.copy()`\n",
      "  sea_word_freq[sea_wa_only_words] = 0\n",
      "C:\\Users\\John\\AppData\\Local\\Temp\\ipykernel_6492\\3662047222.py:9: PerformanceWarning: DataFrame is highly fragmented.  This is usually the result of calling `frame.insert` many times, which has poor performance.  Consider joining all columns at once using pd.concat(axis=1) instead. To get a de-fragmented frame, use `newframe = frame.copy()`\n",
      "  sea_word_freq[sea_wa_only_words] = 0\n"
     ]
    },
    {
     "ename": "KeyboardInterrupt",
     "evalue": "",
     "output_type": "error",
     "traceback": [
      "\u001b[1;31m---------------------------------------------------------------------------\u001b[0m",
      "\u001b[1;31mKeyError\u001b[0m                                  Traceback (most recent call last)",
      "File \u001b[1;32m~\\anaconda3\\lib\\site-packages\\pandas\\core\\indexes\\base.py:3621\u001b[0m, in \u001b[0;36mIndex.get_loc\u001b[1;34m(self, key, method, tolerance)\u001b[0m\n\u001b[0;32m   3620\u001b[0m \u001b[38;5;28;01mtry\u001b[39;00m:\n\u001b[1;32m-> 3621\u001b[0m     \u001b[38;5;28;01mreturn\u001b[39;00m \u001b[38;5;28;43mself\u001b[39;49m\u001b[38;5;241;43m.\u001b[39;49m\u001b[43m_engine\u001b[49m\u001b[38;5;241;43m.\u001b[39;49m\u001b[43mget_loc\u001b[49m\u001b[43m(\u001b[49m\u001b[43mcasted_key\u001b[49m\u001b[43m)\u001b[49m\n\u001b[0;32m   3622\u001b[0m \u001b[38;5;28;01mexcept\u001b[39;00m \u001b[38;5;167;01mKeyError\u001b[39;00m \u001b[38;5;28;01mas\u001b[39;00m err:\n",
      "File \u001b[1;32m~\\anaconda3\\lib\\site-packages\\pandas\\_libs\\index.pyx:136\u001b[0m, in \u001b[0;36mpandas._libs.index.IndexEngine.get_loc\u001b[1;34m()\u001b[0m\n",
      "File \u001b[1;32m~\\anaconda3\\lib\\site-packages\\pandas\\_libs\\index.pyx:163\u001b[0m, in \u001b[0;36mpandas._libs.index.IndexEngine.get_loc\u001b[1;34m()\u001b[0m\n",
      "File \u001b[1;32mpandas\\_libs\\hashtable_class_helper.pxi:5198\u001b[0m, in \u001b[0;36mpandas._libs.hashtable.PyObjectHashTable.get_item\u001b[1;34m()\u001b[0m\n",
      "File \u001b[1;32mpandas\\_libs\\hashtable_class_helper.pxi:5206\u001b[0m, in \u001b[0;36mpandas._libs.hashtable.PyObjectHashTable.get_item\u001b[1;34m()\u001b[0m\n",
      "\u001b[1;31mKeyError\u001b[0m: 'vulcan'",
      "\nThe above exception was the direct cause of the following exception:\n",
      "\u001b[1;31mKeyError\u001b[0m                                  Traceback (most recent call last)",
      "File \u001b[1;32m~\\anaconda3\\lib\\site-packages\\pandas\\core\\frame.py:3799\u001b[0m, in \u001b[0;36mDataFrame._set_item_mgr\u001b[1;34m(self, key, value)\u001b[0m\n\u001b[0;32m   3798\u001b[0m \u001b[38;5;28;01mtry\u001b[39;00m:\n\u001b[1;32m-> 3799\u001b[0m     loc \u001b[38;5;241m=\u001b[39m \u001b[38;5;28;43mself\u001b[39;49m\u001b[38;5;241;43m.\u001b[39;49m\u001b[43m_info_axis\u001b[49m\u001b[38;5;241;43m.\u001b[39;49m\u001b[43mget_loc\u001b[49m\u001b[43m(\u001b[49m\u001b[43mkey\u001b[49m\u001b[43m)\u001b[49m\n\u001b[0;32m   3800\u001b[0m \u001b[38;5;28;01mexcept\u001b[39;00m \u001b[38;5;167;01mKeyError\u001b[39;00m:\n\u001b[0;32m   3801\u001b[0m     \u001b[38;5;66;03m# This item wasn't present, just insert at end\u001b[39;00m\n",
      "File \u001b[1;32m~\\anaconda3\\lib\\site-packages\\pandas\\core\\indexes\\base.py:3623\u001b[0m, in \u001b[0;36mIndex.get_loc\u001b[1;34m(self, key, method, tolerance)\u001b[0m\n\u001b[0;32m   3622\u001b[0m \u001b[38;5;28;01mexcept\u001b[39;00m \u001b[38;5;167;01mKeyError\u001b[39;00m \u001b[38;5;28;01mas\u001b[39;00m err:\n\u001b[1;32m-> 3623\u001b[0m     \u001b[38;5;28;01mraise\u001b[39;00m \u001b[38;5;167;01mKeyError\u001b[39;00m(key) \u001b[38;5;28;01mfrom\u001b[39;00m \u001b[38;5;21;01merr\u001b[39;00m\n\u001b[0;32m   3624\u001b[0m \u001b[38;5;28;01mexcept\u001b[39;00m \u001b[38;5;167;01mTypeError\u001b[39;00m:\n\u001b[0;32m   3625\u001b[0m     \u001b[38;5;66;03m# If we have a listlike key, _check_indexing_error will raise\u001b[39;00m\n\u001b[0;32m   3626\u001b[0m     \u001b[38;5;66;03m#  InvalidIndexError. Otherwise we fall through and re-raise\u001b[39;00m\n\u001b[0;32m   3627\u001b[0m     \u001b[38;5;66;03m#  the TypeError.\u001b[39;00m\n",
      "\u001b[1;31mKeyError\u001b[0m: 'vulcan'",
      "\nDuring handling of the above exception, another exception occurred:\n",
      "\u001b[1;31mKeyboardInterrupt\u001b[0m                         Traceback (most recent call last)",
      "Input \u001b[1;32mIn [67]\u001b[0m, in \u001b[0;36m<cell line: 9>\u001b[1;34m()\u001b[0m\n\u001b[0;32m      6\u001b[0m sea_only_words \u001b[38;5;241m=\u001b[39m \u001b[38;5;28mlist\u001b[39m(sea_words \u001b[38;5;241m-\u001b[39m words_in_common)\n\u001b[0;32m      7\u001b[0m sea_wa_only_words \u001b[38;5;241m=\u001b[39m \u001b[38;5;28mlist\u001b[39m(sea_wa_words \u001b[38;5;241m-\u001b[39m words_in_common)\n\u001b[1;32m----> 9\u001b[0m sea_word_freq[sea_wa_only_words] \u001b[38;5;241m=\u001b[39m \u001b[38;5;241m0\u001b[39m\n",
      "File \u001b[1;32m~\\anaconda3\\lib\\site-packages\\pandas\\core\\frame.py:3643\u001b[0m, in \u001b[0;36mDataFrame.__setitem__\u001b[1;34m(self, key, value)\u001b[0m\n\u001b[0;32m   3641\u001b[0m     \u001b[38;5;28mself\u001b[39m\u001b[38;5;241m.\u001b[39m_setitem_frame(key, value)\n\u001b[0;32m   3642\u001b[0m \u001b[38;5;28;01melif\u001b[39;00m \u001b[38;5;28misinstance\u001b[39m(key, (Series, np\u001b[38;5;241m.\u001b[39mndarray, \u001b[38;5;28mlist\u001b[39m, Index)):\n\u001b[1;32m-> 3643\u001b[0m     \u001b[38;5;28;43mself\u001b[39;49m\u001b[38;5;241;43m.\u001b[39;49m\u001b[43m_setitem_array\u001b[49m\u001b[43m(\u001b[49m\u001b[43mkey\u001b[49m\u001b[43m,\u001b[49m\u001b[43m \u001b[49m\u001b[43mvalue\u001b[49m\u001b[43m)\u001b[49m\n\u001b[0;32m   3644\u001b[0m \u001b[38;5;28;01melif\u001b[39;00m \u001b[38;5;28misinstance\u001b[39m(value, DataFrame):\n\u001b[0;32m   3645\u001b[0m     \u001b[38;5;28mself\u001b[39m\u001b[38;5;241m.\u001b[39m_set_item_frame_value(key, value)\n",
      "File \u001b[1;32m~\\anaconda3\\lib\\site-packages\\pandas\\core\\frame.py:3691\u001b[0m, in \u001b[0;36mDataFrame._setitem_array\u001b[1;34m(self, key, value)\u001b[0m\n\u001b[0;32m   3689\u001b[0m \u001b[38;5;28;01melif\u001b[39;00m \u001b[38;5;129;01mnot\u001b[39;00m is_list_like(value):\n\u001b[0;32m   3690\u001b[0m     \u001b[38;5;28;01mfor\u001b[39;00m col \u001b[38;5;129;01min\u001b[39;00m key:\n\u001b[1;32m-> 3691\u001b[0m         \u001b[38;5;28mself\u001b[39m[col] \u001b[38;5;241m=\u001b[39m value\n\u001b[0;32m   3693\u001b[0m \u001b[38;5;28;01melif\u001b[39;00m \u001b[38;5;28misinstance\u001b[39m(value, np\u001b[38;5;241m.\u001b[39mndarray) \u001b[38;5;129;01mand\u001b[39;00m value\u001b[38;5;241m.\u001b[39mndim \u001b[38;5;241m==\u001b[39m \u001b[38;5;241m2\u001b[39m:\n\u001b[0;32m   3694\u001b[0m     \u001b[38;5;28mself\u001b[39m\u001b[38;5;241m.\u001b[39m_iset_not_inplace(key, value)\n",
      "File \u001b[1;32m~\\anaconda3\\lib\\site-packages\\pandas\\core\\frame.py:3655\u001b[0m, in \u001b[0;36mDataFrame.__setitem__\u001b[1;34m(self, key, value)\u001b[0m\n\u001b[0;32m   3652\u001b[0m     \u001b[38;5;28mself\u001b[39m\u001b[38;5;241m.\u001b[39m_setitem_array([key], value)\n\u001b[0;32m   3653\u001b[0m \u001b[38;5;28;01melse\u001b[39;00m:\n\u001b[0;32m   3654\u001b[0m     \u001b[38;5;66;03m# set column\u001b[39;00m\n\u001b[1;32m-> 3655\u001b[0m     \u001b[38;5;28;43mself\u001b[39;49m\u001b[38;5;241;43m.\u001b[39;49m\u001b[43m_set_item\u001b[49m\u001b[43m(\u001b[49m\u001b[43mkey\u001b[49m\u001b[43m,\u001b[49m\u001b[43m \u001b[49m\u001b[43mvalue\u001b[49m\u001b[43m)\u001b[49m\n",
      "File \u001b[1;32m~\\anaconda3\\lib\\site-packages\\pandas\\core\\frame.py:3845\u001b[0m, in \u001b[0;36mDataFrame._set_item\u001b[1;34m(self, key, value)\u001b[0m\n\u001b[0;32m   3842\u001b[0m         \u001b[38;5;28;01mif\u001b[39;00m \u001b[38;5;28misinstance\u001b[39m(existing_piece, DataFrame):\n\u001b[0;32m   3843\u001b[0m             value \u001b[38;5;241m=\u001b[39m np\u001b[38;5;241m.\u001b[39mtile(value, (\u001b[38;5;28mlen\u001b[39m(existing_piece\u001b[38;5;241m.\u001b[39mcolumns), \u001b[38;5;241m1\u001b[39m))\u001b[38;5;241m.\u001b[39mT\n\u001b[1;32m-> 3845\u001b[0m \u001b[38;5;28;43mself\u001b[39;49m\u001b[38;5;241;43m.\u001b[39;49m\u001b[43m_set_item_mgr\u001b[49m\u001b[43m(\u001b[49m\u001b[43mkey\u001b[49m\u001b[43m,\u001b[49m\u001b[43m \u001b[49m\u001b[43mvalue\u001b[49m\u001b[43m)\u001b[49m\n",
      "File \u001b[1;32m~\\anaconda3\\lib\\site-packages\\pandas\\core\\frame.py:3802\u001b[0m, in \u001b[0;36mDataFrame._set_item_mgr\u001b[1;34m(self, key, value)\u001b[0m\n\u001b[0;32m   3799\u001b[0m     loc \u001b[38;5;241m=\u001b[39m \u001b[38;5;28mself\u001b[39m\u001b[38;5;241m.\u001b[39m_info_axis\u001b[38;5;241m.\u001b[39mget_loc(key)\n\u001b[0;32m   3800\u001b[0m \u001b[38;5;28;01mexcept\u001b[39;00m \u001b[38;5;167;01mKeyError\u001b[39;00m:\n\u001b[0;32m   3801\u001b[0m     \u001b[38;5;66;03m# This item wasn't present, just insert at end\u001b[39;00m\n\u001b[1;32m-> 3802\u001b[0m     \u001b[38;5;28;43mself\u001b[39;49m\u001b[38;5;241;43m.\u001b[39;49m\u001b[43m_mgr\u001b[49m\u001b[38;5;241;43m.\u001b[39;49m\u001b[43minsert\u001b[49m\u001b[43m(\u001b[49m\u001b[38;5;28;43mlen\u001b[39;49m\u001b[43m(\u001b[49m\u001b[38;5;28;43mself\u001b[39;49m\u001b[38;5;241;43m.\u001b[39;49m\u001b[43m_info_axis\u001b[49m\u001b[43m)\u001b[49m\u001b[43m,\u001b[49m\u001b[43m \u001b[49m\u001b[43mkey\u001b[49m\u001b[43m,\u001b[49m\u001b[43m \u001b[49m\u001b[43mvalue\u001b[49m\u001b[43m)\u001b[49m\n\u001b[0;32m   3803\u001b[0m \u001b[38;5;28;01melse\u001b[39;00m:\n\u001b[0;32m   3804\u001b[0m     \u001b[38;5;28mself\u001b[39m\u001b[38;5;241m.\u001b[39m_iset_item_mgr(loc, value)\n",
      "File \u001b[1;32m~\\anaconda3\\lib\\site-packages\\pandas\\core\\internals\\managers.py:1230\u001b[0m, in \u001b[0;36mBlockManager.insert\u001b[1;34m(self, loc, item, value)\u001b[0m\n\u001b[0;32m   1220\u001b[0m \u001b[38;5;124;03m\"\"\"\u001b[39;00m\n\u001b[0;32m   1221\u001b[0m \u001b[38;5;124;03mInsert item at selected position.\u001b[39;00m\n\u001b[0;32m   1222\u001b[0m \n\u001b[1;32m   (...)\u001b[0m\n\u001b[0;32m   1227\u001b[0m \u001b[38;5;124;03mvalue : np.ndarray or ExtensionArray\u001b[39;00m\n\u001b[0;32m   1228\u001b[0m \u001b[38;5;124;03m\"\"\"\u001b[39;00m\n\u001b[0;32m   1229\u001b[0m \u001b[38;5;66;03m# insert to the axis; this could possibly raise a TypeError\u001b[39;00m\n\u001b[1;32m-> 1230\u001b[0m new_axis \u001b[38;5;241m=\u001b[39m \u001b[38;5;28;43mself\u001b[39;49m\u001b[38;5;241;43m.\u001b[39;49m\u001b[43mitems\u001b[49m\u001b[38;5;241;43m.\u001b[39;49m\u001b[43minsert\u001b[49m\u001b[43m(\u001b[49m\u001b[43mloc\u001b[49m\u001b[43m,\u001b[49m\u001b[43m \u001b[49m\u001b[43mitem\u001b[49m\u001b[43m)\u001b[49m\n\u001b[0;32m   1232\u001b[0m \u001b[38;5;28;01mif\u001b[39;00m value\u001b[38;5;241m.\u001b[39mndim \u001b[38;5;241m==\u001b[39m \u001b[38;5;241m2\u001b[39m:\n\u001b[0;32m   1233\u001b[0m     value \u001b[38;5;241m=\u001b[39m value\u001b[38;5;241m.\u001b[39mT\n",
      "File \u001b[1;32m~\\anaconda3\\lib\\site-packages\\pandas\\core\\indexes\\base.py:6602\u001b[0m, in \u001b[0;36mIndex.insert\u001b[1;34m(self, loc, item)\u001b[0m\n\u001b[0;32m   6595\u001b[0m \u001b[38;5;28;01mif\u001b[39;00m arr\u001b[38;5;241m.\u001b[39mdtype \u001b[38;5;241m!=\u001b[39m \u001b[38;5;28mobject\u001b[39m \u001b[38;5;129;01mor\u001b[39;00m \u001b[38;5;129;01mnot\u001b[39;00m \u001b[38;5;28misinstance\u001b[39m(\n\u001b[0;32m   6596\u001b[0m     item, (\u001b[38;5;28mtuple\u001b[39m, np\u001b[38;5;241m.\u001b[39mdatetime64, np\u001b[38;5;241m.\u001b[39mtimedelta64)\n\u001b[0;32m   6597\u001b[0m ):\n\u001b[0;32m   6598\u001b[0m     \u001b[38;5;66;03m# with object-dtype we need to worry about numpy incorrectly casting\u001b[39;00m\n\u001b[0;32m   6599\u001b[0m     \u001b[38;5;66;03m# dt64/td64 to integer, also about treating tuples as sequences\u001b[39;00m\n\u001b[0;32m   6600\u001b[0m     \u001b[38;5;66;03m# special-casing dt64/td64 https://github.com/numpy/numpy/issues/12550\u001b[39;00m\n\u001b[0;32m   6601\u001b[0m     casted \u001b[38;5;241m=\u001b[39m arr\u001b[38;5;241m.\u001b[39mdtype\u001b[38;5;241m.\u001b[39mtype(item)\n\u001b[1;32m-> 6602\u001b[0m     new_values \u001b[38;5;241m=\u001b[39m \u001b[43mnp\u001b[49m\u001b[38;5;241;43m.\u001b[39;49m\u001b[43minsert\u001b[49m\u001b[43m(\u001b[49m\u001b[43marr\u001b[49m\u001b[43m,\u001b[49m\u001b[43m \u001b[49m\u001b[43mloc\u001b[49m\u001b[43m,\u001b[49m\u001b[43m \u001b[49m\u001b[43mcasted\u001b[49m\u001b[43m)\u001b[49m\n\u001b[0;32m   6604\u001b[0m \u001b[38;5;28;01melse\u001b[39;00m:\n\u001b[0;32m   6605\u001b[0m     \u001b[38;5;66;03m# No overload variant of \"insert\" matches argument types\u001b[39;00m\n\u001b[0;32m   6606\u001b[0m     \u001b[38;5;66;03m# \"ndarray[Any, Any]\", \"int\", \"None\"  [call-overload]\u001b[39;00m\n\u001b[0;32m   6607\u001b[0m     new_values \u001b[38;5;241m=\u001b[39m np\u001b[38;5;241m.\u001b[39minsert(arr, loc, \u001b[38;5;28;01mNone\u001b[39;00m)  \u001b[38;5;66;03m# type: ignore[call-overload]\u001b[39;00m\n",
      "File \u001b[1;32m<__array_function__ internals>:5\u001b[0m, in \u001b[0;36minsert\u001b[1;34m(*args, **kwargs)\u001b[0m\n",
      "File \u001b[1;32m~\\anaconda3\\lib\\site-packages\\numpy\\lib\\function_base.py:4720\u001b[0m, in \u001b[0;36minsert\u001b[1;34m(arr, obj, values, axis)\u001b[0m\n\u001b[0;32m   4718\u001b[0m numnew \u001b[38;5;241m=\u001b[39m values\u001b[38;5;241m.\u001b[39mshape[axis]\n\u001b[0;32m   4719\u001b[0m newshape[axis] \u001b[38;5;241m+\u001b[39m\u001b[38;5;241m=\u001b[39m numnew\n\u001b[1;32m-> 4720\u001b[0m new \u001b[38;5;241m=\u001b[39m \u001b[43mempty\u001b[49m\u001b[43m(\u001b[49m\u001b[43mnewshape\u001b[49m\u001b[43m,\u001b[49m\u001b[43m \u001b[49m\u001b[43marr\u001b[49m\u001b[38;5;241;43m.\u001b[39;49m\u001b[43mdtype\u001b[49m\u001b[43m,\u001b[49m\u001b[43m \u001b[49m\u001b[43marrorder\u001b[49m\u001b[43m)\u001b[49m\n\u001b[0;32m   4721\u001b[0m slobj[axis] \u001b[38;5;241m=\u001b[39m \u001b[38;5;28mslice\u001b[39m(\u001b[38;5;28;01mNone\u001b[39;00m, index)\n\u001b[0;32m   4722\u001b[0m new[\u001b[38;5;28mtuple\u001b[39m(slobj)] \u001b[38;5;241m=\u001b[39m arr[\u001b[38;5;28mtuple\u001b[39m(slobj)]\n",
      "\u001b[1;31mKeyboardInterrupt\u001b[0m: "
     ]
    }
   ],
   "source": [
    "sea_words = set(sea_word_freq.columns)\n",
    "sea_wa_words = set(sea_wa_word_freq.columns)\n",
    "\n",
    "words_in_common = sea_words.intersection(sea_wa_words)\n",
    "\n",
    "sea_only_words_list = list(sea_words - words_in_common)\n",
    "sea_wa_only_words_list = list(sea_wa_words - words_in_common)\n",
    "\n",
    "sea_word_freq[sea_wa_only_words] = 0\n"
   ]
  },
  {
   "cell_type": "code",
   "execution_count": 56,
   "id": "bed92d30-1c35-48d9-86bd-be93eff8abc3",
   "metadata": {},
   "outputs": [
    {
     "data": {
      "text/plain": [
       "12442"
      ]
     },
     "execution_count": 56,
     "metadata": {},
     "output_type": "execute_result"
    }
   ],
   "source": [
    "len(sea_words)"
   ]
  },
  {
   "cell_type": "code",
   "execution_count": 57,
   "id": "e429282f-ebc6-49db-8c77-e289ed5e2c32",
   "metadata": {},
   "outputs": [
    {
     "data": {
      "text/plain": [
       "11935"
      ]
     },
     "execution_count": 57,
     "metadata": {},
     "output_type": "execute_result"
    }
   ],
   "source": [
    "len(sea_wa_words)"
   ]
  },
  {
   "cell_type": "code",
   "execution_count": null,
   "id": "f9abf2c6-fba4-4534-a42e-caea0f55d691",
   "metadata": {},
   "outputs": [],
   "source": []
  },
  {
   "cell_type": "code",
   "execution_count": null,
   "id": "56181b92-da9b-4585-a844-f21074d85727",
   "metadata": {},
   "outputs": [],
   "source": []
  },
  {
   "cell_type": "code",
   "execution_count": null,
   "id": "4dbbebd6-7438-4643-955d-d08abc1945ab",
   "metadata": {},
   "outputs": [],
   "source": []
  },
  {
   "cell_type": "code",
   "execution_count": 37,
   "id": "a25b2d92-22ab-4037-8ca3-71c275bbc2e7",
   "metadata": {},
   "outputs": [
    {
     "data": {
      "text/plain": [
       "186"
      ]
     },
     "execution_count": 37,
     "metadata": {},
     "output_type": "execute_result"
    }
   ],
   "source": [
    "sea_word_freq['home'].sum()"
   ]
  },
  {
   "cell_type": "code",
   "execution_count": 38,
   "id": "eaef5350-67a9-4522-8a20-d4de0c03bf73",
   "metadata": {},
   "outputs": [
    {
     "data": {
      "text/plain": [
       "109"
      ]
     },
     "execution_count": 38,
     "metadata": {},
     "output_type": "execute_result"
    }
   ],
   "source": [
    "sea_word_freq['homeless'].sum()"
   ]
  },
  {
   "cell_type": "code",
   "execution_count": 40,
   "id": "24de9266-9479-4e89-9d2c-7e6c1d0c093b",
   "metadata": {},
   "outputs": [
    {
     "data": {
      "text/plain": [
       "196"
      ]
     },
     "execution_count": 40,
     "metadata": {},
     "output_type": "execute_result"
    }
   ],
   "source": [
    "sea_wa_word_freq['home'].sum()"
   ]
  },
  {
   "cell_type": "code",
   "execution_count": 41,
   "id": "d8785703-2516-45e4-8509-f444c9cc74ba",
   "metadata": {},
   "outputs": [
    {
     "data": {
      "text/plain": [
       "159"
      ]
     },
     "execution_count": 41,
     "metadata": {},
     "output_type": "execute_result"
    }
   ],
   "source": [
    "sea_wa_word_freq['homeless'].sum()"
   ]
  },
  {
   "cell_type": "code",
   "execution_count": 112,
   "id": "fcf5c3b4-a295-448c-949e-54fed03635ff",
   "metadata": {},
   "outputs": [],
   "source": [
    "# before dropping and stemming, analyze length (build word count column)\n",
    "# concatenate"
   ]
  },
  {
   "cell_type": "code",
   "execution_count": 65,
   "id": "9d66ec73-0a28-4574-b505-ebd62314db73",
   "metadata": {},
   "outputs": [],
   "source": [
    "# drop stopwords and then stem the text data\n",
    "sea['text'] = sea['text'].apply(drop_stop_and_stem)\n",
    "sea_wa['text'] = sea_wa['text'].apply(drop_stop_and_stem)"
   ]
  },
  {
   "cell_type": "code",
   "execution_count": 67,
   "id": "4d37edf7-0ca3-432a-8394-42ba77abc5d7",
   "metadata": {},
   "outputs": [],
   "source": [
    "sea.drop(columns = ['title', 'selftext'], inplace = True)\n",
    "sea_wa.drop(columns = ['title', 'selftext'], inplace = True)"
   ]
  },
  {
   "cell_type": "code",
   "execution_count": null,
   "id": "88208df9-e1de-4697-9a53-dd8448cd2f40",
   "metadata": {},
   "outputs": [],
   "source": []
  },
  {
   "cell_type": "code",
   "execution_count": null,
   "id": "5787aed6-99a9-4529-aa83-0350d574e515",
   "metadata": {},
   "outputs": [],
   "source": []
  },
  {
   "cell_type": "code",
   "execution_count": null,
   "id": "5723e1ce-92bd-408a-86cc-524defd9307f",
   "metadata": {},
   "outputs": [],
   "source": []
  },
  {
   "cell_type": "code",
   "execution_count": null,
   "id": "7fd37c9e-b269-4955-a210-5d785d879285",
   "metadata": {},
   "outputs": [],
   "source": []
  },
  {
   "cell_type": "code",
   "execution_count": null,
   "id": "d904d721-5c70-416c-96a8-f7bb14495a89",
   "metadata": {},
   "outputs": [],
   "source": []
  },
  {
   "cell_type": "code",
   "execution_count": null,
   "id": "f6bf4ad6-7dfa-4712-894e-209f527fba6d",
   "metadata": {},
   "outputs": [],
   "source": []
  },
  {
   "cell_type": "code",
   "execution_count": null,
   "id": "185d193d-e56a-41cf-bfed-b53c6c9d273b",
   "metadata": {},
   "outputs": [],
   "source": [
    "pd.concat([sea, sea_wa])"
   ]
  },
  {
   "cell_type": "code",
   "execution_count": 31,
   "id": "93e9b40e-fc5d-437c-8548-470ed318023e",
   "metadata": {},
   "outputs": [
    {
     "data": {
      "text/plain": [
       "'special educ seattl surround areas? i’ll reloc seattl come month daughter down syndrom join special educ class somewher still look henc post ani recommend privat school specif school district better equip provid need has? i’d like time learn aid life skill build home, also inclus time children art, pe, danc classes. thank you.'"
      ]
     },
     "execution_count": 31,
     "metadata": {},
     "output_type": "execute_result"
    }
   ],
   "source": [
    "sea['text'].iloc[0]"
   ]
  },
  {
   "cell_type": "code",
   "execution_count": 15,
   "id": "a17b9777-03cc-4842-82e7-e98930a7bfa5",
   "metadata": {},
   "outputs": [
    {
     "data": {
      "text/plain": [
       "0       archspir fans? i'm ladi obsessed. i need frien...\n",
       "1       is overseed season yet? those maintain lawn: a...\n",
       "2       showbox box office? ha anybodi recent bought t...\n",
       "3       patti murray d lead tiffani smiley r 52.0 - 40...\n",
       "4       ga price go back up? just watch local ga stati...\n",
       "                              ...                        \n",
       "2494    place similar the ave udistrict? i move downto...\n",
       "2495    stolen bag seatac i carri bag stolen airport s...\n",
       "2496    bad bunni ticket hello all, my friend i tri se...\n",
       "2497    plan vacation! what reddit recommend? just tit...\n",
       "2498    day-hik suggest end march? hello, i'm visit se...\n",
       "Name: text, Length: 2496, dtype: object"
      ]
     },
     "execution_count": 15,
     "metadata": {},
     "output_type": "execute_result"
    }
   ],
   "source": [
    "sea_wa['text'].apply(lambda text: ' '.join(pstem.stem(word) for word in text.split() if word not in stopwords.words('english')))"
   ]
  },
  {
   "cell_type": "code",
   "execution_count": null,
   "id": "bc244991-ad80-4854-a692-4e89962feef7",
   "metadata": {},
   "outputs": [],
   "source": [
    "CountVectorizer()"
   ]
  },
  {
   "cell_type": "code",
   "execution_count": 111,
   "id": "85a7bb5f-30c6-422a-8c25-6b036d78bbd3",
   "metadata": {},
   "outputs": [
    {
     "name": "stdout",
     "output_type": "stream",
     "text": [
      "special educ in seattl or surround areas? i’ll be reloc to seattl in the come month and my daughter ha down syndrom and will be join a special educ class somewher still look and henc thi post ani recommend on privat school or ani specif school district better equip to provid the need she has? i’d like for her to have time to learn with an aid the life skill we build on at home, but to also have some inclus time with the other children dure art, pe, or danc classes. thank you.\n",
      "best lyche martini in seattle? i’m on the hunt for the best lyche martini in seattle. ani recommend for where to go? thanks!\n",
      "save a life! hi! i just learn in a cpr first aid class that there' a program for washington residents, where you can have free nalaxon mail to you. it easi to use if you think someon is have an overdose. and two import things: it will not hurt someon who is not have an overdose, becaus it onli bind to opioid receptors. so if the person is on someth else, or not in full overdose, they’ll be annoy but not harmed. and you are protect by the good samaritan law. pleas consid order one and keep it in your car, purse, or mayb with your dog poop bags? that \"sleep person.\" may realli need your help. 💕💕💕\n",
      "seattl for a singl day i have a weird layov that give me about 12 hour in seattl yay cheap flights. fli in around 10 am on friday and fli out that same night around 11 pm. what could i realist do in that time? if i could honestli just go to a nice restaur for lunch and then spend an even walk around someplac with a realli nice view, that would be perfect. prefer not too far from seattle-tacoma airport.\n",
      "mount rainier in late octob hi all! my boyfriend and i are plan a trip to the pnw with a stop at rainier for a coupl weekday in late oct, stay in packwood. look at the np website, seem like most visitor center will be close due to winter starting, so i'm tri to get togeth all the info advic i can befor we get there. ani trail that are recommend dure thi time of year? we'r prepar for both rain and snow. for context - we'r look for a thrill and the paradis to camp muir day hike ha piqu our interest. we are experienc hiker but have no experi in mountaineering. base on what i'v read the biggest threat is a surpris white out, outsid of know how to stay on a safe route. we would have good gp and an emerg kit. is thi someth that' doable? if not - ani less danger hike that could scratch the \"thrill\" itch? ani and all rec are welcome! thank you!\n"
     ]
    }
   ],
   "source": [
    "for i in range(5):\n",
    "    print(sea['text'].iloc[i])"
   ]
  },
  {
   "cell_type": "code",
   "execution_count": 84,
   "id": "8770899d-c674-4fbc-a850-d4ead86a645a",
   "metadata": {},
   "outputs": [
    {
     "data": {
      "text/plain": [
       "\"Vancouver Arby's manager was peeing in milkshake mix \""
      ]
     },
     "execution_count": 84,
     "metadata": {},
     "output_type": "execute_result"
    }
   ],
   "source": [
    "sea_wa.loc[sea_wa['text'].str.contains('manager was peeing in milkshake mix'), 'text'].iloc[0]"
   ]
  },
  {
   "cell_type": "code",
   "execution_count": 64,
   "id": "6b1fb269-6947-4aa5-be70-12316c11797f",
   "metadata": {},
   "outputs": [
    {
     "name": "stdout",
     "output_type": "stream",
     "text": [
      "Anyone want a new $250K year job? It actually sounds like an awesome gig for the right person. I worry the environment would be awfully woke I'd have to really count to 10 everytime I had to meet with Kevin but overall it seems like sort of a dream job.\n",
      "----------\n",
      "\n",
      "Softball Leagues Hi all! Just moved to Seattle and I love to play softball and looking for a little a bit of help finding a team league. Seeking a Friday night or Saturday morning league for the fall. Open to men’s, co-ed, slow pitch or fast pitch that is more competitive than not. Ideally double headers, but ok if not. Willing to drive up to 45 mins in any direction from south Seattle. I was able to find Underdog on Google, but didn’t look like there was any Friday or Saturday options, and no double headers. Was thinking there may be better options slightly outside the city. Also would love to know of any pickup games going on during the week. Please comment or shoot me a DM if you know of anything. Thanks in advance!\n",
      "----------\n",
      "\n",
      "Looking for a Blackout tattoo artist in Seattle Looking for a specialist that is experienced in blackout and can take on a project asap\n",
      "----------\n",
      "\n"
     ]
    }
   ],
   "source": [
    "for entry in sea_wa['text'].sample(3):\n",
    "    print(entry)\n",
    "    print('----------\\n')"
   ]
  },
  {
   "cell_type": "markdown",
   "id": "7e81d12f-587b-4349-9af3-15b4ca36a6e7",
   "metadata": {},
   "source": [
    "---\n",
    "\n",
    "As alluded to above, there are several rows with repeated title and selftext. We print out the repetitions below. Whether these posts are repeated intentionally (maybe as advertisement) or not, it is probably fair to remove these posts."
   ]
  },
  {
   "cell_type": "markdown",
   "id": "c75f3e4d-14f8-47ca-9320-9b060dc2dcb2",
   "metadata": {},
   "source": [
    "We should also be weary of posts containing minimal title text **and** minimal selftext. For example, posts with links and no substance will likely not be helpful in creating a strong performing model. **Let us remove posts with a `selftext` and `title` word counts are both less than or equal to five.**"
   ]
  },
  {
   "cell_type": "code",
   "execution_count": 146,
   "id": "bc238100-5bb7-4889-b0aa-195143065168",
   "metadata": {},
   "outputs": [
    {
     "data": {
      "image/png": "[encoded data removed]",
      "text/plain": [
       "<Figure size 1008x576 with 4 Axes>"
      ]
     },
     "metadata": {
      "needs_background": "light"
     },
     "output_type": "display_data"
    }
   ],
   "source": [
    "plt.figure(figsize = (14,8))\n",
    "\n",
    "# iterator for subp\n",
    "i = 1\n",
    "for subreddit in [sea, sea_wa]:\n",
    "    for col in ['selftext', 'title']:\n",
    "        plt.subplot(2,2,i)\n",
    "        plt.title(f\"{subreddit['subreddit'].iloc[0]} {col} Word Count\", size = 20)\n",
    "        plt.hist(subreddit[col].str.split().str.len(), bins = 20);\n",
    "        \n",
    "        i += 1"
   ]
  },
  {
   "cell_type": "code",
   "execution_count": 93,
   "id": "d331b671-db5f-42fc-a78a-6cfb031b28de",
   "metadata": {},
   "outputs": [
    {
     "name": "stdout",
     "output_type": "stream",
     "text": [
      "11 posts removed from r/Seattle\n",
      "29 posts removed from r/SeattleWA\n"
     ]
    }
   ],
   "source": [
    "# boolean list of entries with fewer than 5 'words' in Seattle\n",
    "sea_selftext_lt5 = (sea['selftext'].str.split().str.len() <= 5)\n",
    "sea_title_lt5 = (sea['title'].str.split().str.len() <= 5)\n",
    "\n",
    "# boolean list of entries with fewer than 5 'words' in SeattleWA\n",
    "sea_wa_selftext_lt5 = (sea_wa['selftext'].str.split().str.len() <= 5)\n",
    "sea_wa_title_lt5 = (sea_wa['title'].str.split().str.len() <= 5)\n",
    "\n",
    "# print number of posts removed from filtering\n",
    "print(f'{len(sea[sea_selftext_lt5 & sea_title_lt5])} posts removed from r/Seattle')\n",
    "print(f'{len(sea_wa[sea_wa_selftext_lt5 & sea_wa_title_lt5])} posts removed from r/SeattleWA')\n",
    "\n",
    "#filter out posts with fewer than 5 words in selftext and title\n",
    "sea = sea[(~sea_selftext_lt5) & (~sea_title_lt5)].copy()\n",
    "sea_wa = sea_wa[(~sea_wa_selftext_lt5) & (~sea_wa_title_lt5)].copy()"
   ]
  },
  {
   "cell_type": "markdown",
   "id": "d8f39ac0-36e6-43bf-964c-08ca9350a62f",
   "metadata": {},
   "source": [
    "This did not remove many posts, but was performed out of an abundance of caution.\n",
    "\n",
    "We could also explore posts with large word counts, but there is little reason to be suspicious of such posts. Although more rare, the occassional lengthy post is fairly expected."
   ]
  },
  {
   "cell_type": "code",
   "execution_count": 168,
   "id": "91dc95b4-1a3c-4c5a-8c55-05d802d782d6",
   "metadata": {},
   "outputs": [
    {
     "data": {
      "text/plain": [
       "(5,)"
      ]
     },
     "execution_count": 168,
     "metadata": {},
     "output_type": "execute_result"
    }
   ],
   "source": [
    "sea.loc[sea['selftext'].str.split().str.len() > 1500, 'selftext'].shape"
   ]
  },
  {
   "cell_type": "markdown",
   "id": "b425e850-6793-409c-a35f-dc84a7c23a20",
   "metadata": {},
   "source": [
    "---\n",
    "\n",
    "## Feature Engineering\n",
    "\n",
    "Before we perform any string vectorization, let us perform some basic feature engineering. Our plan is to:\n",
    "- combine title and selftext columns for a single column to vectorize\n",
    "- create a word count column\n",
    "- create a sentiment column"
   ]
  },
  {
   "cell_type": "markdown",
   "id": "6420d370-76f4-44b1-a23c-93ac87bc41c6",
   "metadata": {},
   "source": [
    "#### Combine `title` and `selftext`"
   ]
  },
  {
   "cell_type": "code",
   "execution_count": 94,
   "id": "9dbc0162-30bb-4b9f-b435-b0c0d076f8ed",
   "metadata": {},
   "outputs": [],
   "source": [
    "# create a new column from joining title text and selftext\n",
    "sea['text'] = sea['title'] + ' ' + sea['selftext']\n",
    "sea_wa['text'] = sea_wa['title'] + ' ' + sea_wa['selftext']"
   ]
  },
  {
   "cell_type": "markdown",
   "id": "b7431d0c-9a44-4586-9f99-0555e32b0973",
   "metadata": {},
   "source": [
    "#### Create a `word_count` Column"
   ]
  },
  {
   "cell_type": "code",
   "execution_count": 95,
   "id": "928fe29c-9e32-4fbd-84a2-b3986a68937e",
   "metadata": {},
   "outputs": [],
   "source": [
    "sea['word_count'] = sea['text'].str.split().str.len()\n",
    "sea_wa['word_count'] = sea_wa['text'].str.split().str.len()"
   ]
  },
  {
   "cell_type": "markdown",
   "id": "26e871d6-1aee-4968-8736-405347efa23f",
   "metadata": {
    "tags": []
   },
   "source": [
    "#### Create Sentiment Columns"
   ]
  },
  {
   "cell_type": "code",
   "execution_count": 96,
   "id": "1225a1c2-43a5-4746-af0a-15a81602d4ec",
   "metadata": {},
   "outputs": [],
   "source": [
    "sent = SentimentIntensityAnalyzer()"
   ]
  },
  {
   "cell_type": "code",
   "execution_count": 97,
   "id": "43938f32-7d80-433c-b4ed-e068e34b0c75",
   "metadata": {},
   "outputs": [],
   "source": [
    "sea['sent_pos'] = sea['text'].map(lambda x: sent.polarity_scores(x)['pos'])\n",
    "sea['sent_neg'] = sea['text'].map(lambda x: sent.polarity_scores(x)['neg'])\n",
    "\n",
    "sea_wa['sent_pos'] = sea_wa['text'].map(lambda x: sent.polarity_scores(x)['pos'])\n",
    "sea_wa['sent_neg'] = sea_wa['text'].map(lambda x: sent.polarity_scores(x)['neg'])"
   ]
  },
  {
   "cell_type": "code",
   "execution_count": null,
   "id": "0188fd4e-4c94-456e-a8b3-acc646fcc6ec",
   "metadata": {},
   "outputs": [],
   "source": []
  },
  {
   "cell_type": "markdown",
   "id": "39d9ca5a-add1-4ee7-b05b-c17913a03cfc",
   "metadata": {},
   "source": [
    "---\n",
    "\n",
    "## Predicting From Strictly Text Data"
   ]
  },
  {
   "cell_type": "code",
   "execution_count": null,
   "id": "d2072154-3542-45d7-a1f8-bedfeb04ba48",
   "metadata": {},
   "outputs": [],
   "source": []
  },
  {
   "cell_type": "code",
   "execution_count": null,
   "id": "74e39c8b-fe81-48df-b9d3-eae08916ede4",
   "metadata": {},
   "outputs": [],
   "source": []
  },
  {
   "cell_type": "code",
   "execution_count": null,
   "id": "da3965ad-e609-462b-bea5-54d96f4fee08",
   "metadata": {},
   "outputs": [],
   "source": []
  },
  {
   "cell_type": "code",
   "execution_count": null,
   "id": "0d1874ec-08a2-45de-88f1-0a220f1f2527",
   "metadata": {},
   "outputs": [],
   "source": []
  },
  {
   "cell_type": "code",
   "execution_count": null,
   "id": "e568a6f8-9021-4e43-b3d8-35ff5d84f808",
   "metadata": {},
   "outputs": [],
   "source": []
  },
  {
   "cell_type": "code",
   "execution_count": null,
   "id": "9de8b6c9-a119-4507-9bd1-5e80be04590f",
   "metadata": {},
   "outputs": [],
   "source": []
  },
  {
   "cell_type": "code",
   "execution_count": null,
   "id": "0c3d2014-46d9-41e2-8c06-d658578d05ec",
   "metadata": {},
   "outputs": [],
   "source": []
  },
  {
   "cell_type": "code",
   "execution_count": null,
   "id": "dad9f47f-219e-4cb7-b5a2-e9f2617338ef",
   "metadata": {},
   "outputs": [],
   "source": []
  },
  {
   "cell_type": "code",
   "execution_count": null,
   "id": "937d85dc-6751-4341-a279-0ac72452ad3c",
   "metadata": {},
   "outputs": [],
   "source": []
  },
  {
   "cell_type": "code",
   "execution_count": null,
   "id": "254961fb-0e1f-4b57-94cd-b041f71553b8",
   "metadata": {},
   "outputs": [],
   "source": []
  },
  {
   "cell_type": "code",
   "execution_count": null,
   "id": "4ab5652a-c7d7-416d-9d50-b7aa2dd0ce91",
   "metadata": {},
   "outputs": [],
   "source": []
  },
  {
   "cell_type": "code",
   "execution_count": null,
   "id": "f4db956a-2c55-4184-9d60-013a92c6cafe",
   "metadata": {},
   "outputs": [],
   "source": []
  },
  {
   "cell_type": "code",
   "execution_count": null,
   "id": "c1b7f09d-f542-4057-9f64-86564c13ac35",
   "metadata": {},
   "outputs": [],
   "source": []
  },
  {
   "cell_type": "code",
   "execution_count": null,
   "id": "abbfffe2-28fd-445c-b9c8-8cfb5a2612e6",
   "metadata": {},
   "outputs": [],
   "source": []
  },
  {
   "cell_type": "code",
   "execution_count": null,
   "id": "01bf8ed1-1c6d-4ce4-ac80-4afe7722659e",
   "metadata": {},
   "outputs": [],
   "source": []
  },
  {
   "cell_type": "code",
   "execution_count": null,
   "id": "9a7eb7f0-57a3-4f2d-aeac-b5c29aac76f7",
   "metadata": {},
   "outputs": [],
   "source": []
  },
  {
   "cell_type": "markdown",
   "id": "bfbc8ea9-61cb-49e4-bf25-e9315ffcb201",
   "metadata": {},
   "source": [
    "When we look at self text with fewer than three spaces they consist of:\n",
    "- emojis,\n",
    "- links,\n",
    "- '\\[deleted\\]'\n",
    "- some variations on 'title' or 'thank you' or '...'\n",
    "\n",
    "It seems reasonable to assume that posts corresponding to the last bullet have a more thorough title. It is probably fine to keep these rows. The string vectorizers drop emojis unless we tell it not to, so we do not have to worry about them for now. The deleted entry should be removed.\n",
    "\n",
    "It is harder to know what to do with links. Let us explore this a bit more thoroughly after performing some light cleaning."
   ]
  },
  {
   "cell_type": "markdown",
   "id": "601a5fd1-7abb-4d5b-aaa4-4faaff694af6",
   "metadata": {},
   "source": [
    "Another thing to notice is that some links, 'deleted', and 'removed' are wrapped in square brackets. We explore this below to see if this unveils anything we should deal with."
   ]
  },
  {
   "cell_type": "code",
   "execution_count": 255,
   "id": "b8395280-616f-44ec-9ebe-bbfd2d1b65ce",
   "metadata": {},
   "outputs": [
    {
     "data": {
      "text/plain": [
       "269     It's Banned Books Week - [https://www.thenewst...\n",
       "458     This guy just flew over me super low and accor...\n",
       "660     [https://www.kuow.org/stories/making-good-prog...\n",
       "750     As we enter the third missed day of school it'...\n",
       "873                                               [Title]\n",
       "926     [Desk in question](https://www.ikea.com/us/en/...\n",
       "1190    Looking to park overnight a few nights while l...\n",
       "1292    [https://youtu.be/DMNSvHswljM](https://youtu.b...\n",
       "1498    Got about 20 paintings I made a while back tha...\n",
       "1735    There is a ton of balanced and accurate info [...\n",
       "1766    [https://www.kuow.org/stories/seattle-passes-p...\n",
       "1810    [Festival Lineup](https://i.imgur.com/sSUkny1....\n",
       "1903    What are some of your hacks and pro tips? Whet...\n",
       "2137    [https://content.govdelivery.com/bulletins/gd/...\n",
       "2303    [https://www.scribd.com/document/232200355/Upd...\n",
       "2337                                            [deleted]\n",
       "2381    [like this one for LA](https://www.lataco.com/...\n",
       "Name: selftext, dtype: object"
      ]
     },
     "execution_count": 255,
     "metadata": {},
     "output_type": "execute_result"
    }
   ],
   "source": [
    "sea.loc[(sea['selftext'].str.contains('\\[')) & (sea['selftext'].str.len() < 300), 'selftext'].head(20)"
   ]
  },
  {
   "cell_type": "code",
   "execution_count": 252,
   "id": "afbb7f1e-f886-44a0-87e7-e6fd170344b6",
   "metadata": {},
   "outputs": [
    {
     "data": {
      "text/plain": [
       "\"[Desk in question](https://www.ikea.com/us/en/p/trotten-desk-sit-stand-white-s79429602/)\\n\\nI bought it just 6 months ago but upgraded. It has a lever for the height adjustment. It's fully assembled.\""
      ]
     },
     "execution_count": 252,
     "metadata": {},
     "output_type": "execute_result"
    }
   ],
   "source": [
    "sea.loc[926, 'selftext']"
   ]
  },
  {
   "cell_type": "code",
   "execution_count": 254,
   "id": "c5eb2aac-44ec-4a35-8a20-47b9a8db11a8",
   "metadata": {},
   "outputs": [
    {
     "data": {
      "text/plain": [
       "'Looking to park overnight a few nights while lodging in Belltown. Where’s the closest neighborhoods to park for free? [cat tax ](https://imgur.com/a/TMVxjEQ)'"
      ]
     },
     "execution_count": 254,
     "metadata": {},
     "output_type": "execute_result"
    }
   ],
   "source": [
    "sea.loc[1190, 'selftext']"
   ]
  },
  {
   "cell_type": "code",
   "execution_count": 253,
   "id": "0c7acd6c-b32b-4174-ab0c-a885e0105baf",
   "metadata": {},
   "outputs": [
    {
     "data": {
      "text/plain": [
       "'[https://youtu.be/DMNSvHswljM](https://youtu.be/DMNSvHswljM)'"
      ]
     },
     "execution_count": 253,
     "metadata": {},
     "output_type": "execute_result"
    }
   ],
   "source": [
    "sea.loc[1292, 'selftext']"
   ]
  },
  {
   "cell_type": "code",
   "execution_count": null,
   "id": "9d002786-f7a3-449c-b37d-aeaca0c7275b",
   "metadata": {},
   "outputs": [],
   "source": []
  },
  {
   "cell_type": "code",
   "execution_count": null,
   "id": "790af31e-95f0-4553-be23-43f0394f91f3",
   "metadata": {},
   "outputs": [],
   "source": []
  },
  {
   "cell_type": "code",
   "execution_count": null,
   "id": "4b7d2fb5-0345-47cb-918c-cc61319abcd4",
   "metadata": {},
   "outputs": [],
   "source": []
  },
  {
   "cell_type": "code",
   "execution_count": null,
   "id": "9db03aee-db0d-4e89-849b-827b92528fa3",
   "metadata": {},
   "outputs": [],
   "source": []
  },
  {
   "cell_type": "code",
   "execution_count": null,
   "id": "c74f3faa-bcee-43dc-9c5c-d088f2390f71",
   "metadata": {},
   "outputs": [],
   "source": []
  },
  {
   "cell_type": "code",
   "execution_count": null,
   "id": "3b3bf99d-9ab7-4c9d-93f5-d0b1961d73e0",
   "metadata": {},
   "outputs": [],
   "source": []
  },
  {
   "cell_type": "code",
   "execution_count": null,
   "id": "2e3b2dad-829a-4888-991f-d79e8368e1db",
   "metadata": {},
   "outputs": [],
   "source": []
  },
  {
   "cell_type": "code",
   "execution_count": null,
   "id": "156e3bc9-57de-48bb-8246-0d087666800a",
   "metadata": {},
   "outputs": [],
   "source": []
  },
  {
   "cell_type": "code",
   "execution_count": null,
   "id": "9372949e-8c7e-4d45-a61f-bbc5de08d173",
   "metadata": {},
   "outputs": [],
   "source": []
  },
  {
   "cell_type": "code",
   "execution_count": null,
   "id": "3b387351-e05f-4f0a-89f1-73564a0a9d3c",
   "metadata": {},
   "outputs": [],
   "source": []
  }
 ],
 "metadata": {
  "kernelspec": {
   "display_name": "Python 3 (ipykernel)",
   "language": "python",
   "name": "python3"
  },
  "language_info": {
   "codemirror_mode": {
    "name": "ipython",
    "version": 3
   },
   "file_extension": ".py",
   "mimetype": "text/x-python",
   "name": "python",
   "nbconvert_exporter": "python",
   "pygments_lexer": "ipython3",
   "version": "3.9.12"
  }
 },
 "nbformat": 4,
 "nbformat_minor": 5
}
