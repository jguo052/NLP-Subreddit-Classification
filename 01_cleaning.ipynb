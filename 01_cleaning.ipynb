{
 "cells": [
  {
   "cell_type": "code",
   "execution_count": 24,
   "id": "12ea0d0a-3cbe-4356-ab2a-3e71e00a2542",
   "metadata": {},
   "outputs": [],
   "source": [
    "# compare most frequent words\n",
    "# compare sentiment in most frequent common post size? in short posts?\n",
    "\n",
    "# say more on rank analysis of individual words\n",
    "# say more on analysis of pairs of words\n",
    "\n",
    "# obtain true counts of emphasized words\n",
    "# in both subreddits for comparison"
   ]
  },
  {
   "cell_type": "markdown",
   "id": "fe5e0838-cfb3-427a-a413-5a41b2ebecff",
   "metadata": {},
   "source": [
    "# Distinguishing r/Seattle and r/SeattleWA"
   ]
  },
  {
   "cell_type": "markdown",
   "id": "57600735-922c-463b-8324-7e1be89e81d0",
   "metadata": {
    "jp-MarkdownHeadingCollapsed": true,
    "tags": []
   },
   "source": [
    "## Problem Statement\n",
    "\n",
    "#### Background\n",
    "*Reddit* is a forum like website that is partitioned into many communities called *subreddits*. These subreddits, often prefixed with 'r/', provide a space for people all over the world to interact with one another and share things related to the specific subreddit. Some examples of subreddits or r/explainlikeimfive, r/cooking, and r/SanFrancisco.\n",
    " \n",
    "Since anyone can create a subreddit, many subreddits exist that appear to serve the same purpose on the surface. Usually these subreddits will still have their own differences that distinguish them from one another and justify their existence.\n",
    "\n",
    "For example, there are several subreddits related to the city of Seattle: r/Seattle and r/SeattleWA. Someone who has not explored these subreddits very thoroughly may have a question to ask about Seattle and not know which subreddit would be the most fitting to post in.\n",
    "\n",
    "#### Problem Statement\n",
    "In this project we:\n",
    "- explore the text data from posts on r/Seattle and r/SeattleWA\n",
    "- try to identify notable ways in how these two subreddits differ\n",
    "- and build classification models to try and predict if a post is more likely to come from r/Seattle or r/SeattleWA\n",
    "\n",
    "Since r/Seattle and r/SeattleWA are likely to have very similar users and posts (there are certainly people who participate in both subreddits), it will be challenging to build a model that can perform strong predictions. We will deem our model successful if it can correctly classify which subreddit a post belongs to more than 60% of the time."
   ]
  },
  {
   "cell_type": "markdown",
   "id": "8b23487a-03ea-4d35-821e-0db3b35512d4",
   "metadata": {},
   "source": [
    "---\n",
    "\n",
    "## Imports and Functions"
   ]
  },
  {
   "cell_type": "code",
   "execution_count": 25,
   "id": "e095bc62-e37c-42c2-a48a-b3d0d200b694",
   "metadata": {},
   "outputs": [],
   "source": [
    "# for pulling data and slowing request rate\n",
    "import requests\n",
    "import time\n",
    "\n",
    "# basic imports\n",
    "import pandas as pd\n",
    "import numpy as np\n",
    "import matplotlib.pyplot as plt\n",
    "import seaborn as sns\n",
    "\n",
    "# text imports\n",
    "import re\n",
    "from nltk.sentiment.vader import SentimentIntensityAnalyzer\n",
    "from nltk.stem.porter import PorterStemmer\n",
    "from nltk.corpus import stopwords\n",
    "from sklearn.feature_extraction.text import CountVectorizer, TfidfVectorizer\n",
    "\n",
    "# visualization import\n",
    "import plotly.express as px"
   ]
  },
  {
   "cell_type": "code",
   "execution_count": 57,
   "id": "8e778607-582b-423f-ace4-9f612cb0a016",
   "metadata": {},
   "outputs": [
    {
     "data": {
      "text/plain": [
       "'posit'"
      ]
     },
     "execution_count": 57,
     "metadata": {},
     "output_type": "execute_result"
    }
   ],
   "source": [
    "ps = PorterStemmer()\n",
    "ps.stem('positive')"
   ]
  },
  {
   "cell_type": "code",
   "execution_count": 26,
   "id": "6283908f-353e-4345-8ff5-151a39374b34",
   "metadata": {},
   "outputs": [],
   "source": [
    "def scrape_subreddit(subreddit):\n",
    "    '''\n",
    "    Given subreddit's name, request the most recent 2,250\n",
    "    posts from the given subreddit.\n",
    "    \n",
    "    Combines the data into a csv file.\n",
    "    '''\n",
    "    \n",
    "    url = 'https://api.pushshift.io/reddit/search/submission'\n",
    "    params = {'subreddit': subreddit,\n",
    "              'size': 250,\n",
    "              'is_self': True,\n",
    "              'selftext:not': '[removed]'}\n",
    "    \n",
    "    # assigns post data to variable 'posts'\n",
    "    data = requests.get(url, params).json()\n",
    "    posts = data['data']\n",
    "    \n",
    "    # adds the earliest post time to the 'before' API parameter\n",
    "    # next request will collect posts before this time\n",
    "    params['before'] = posts[-1]['created_utc']\n",
    "    \n",
    "    time.sleep(30)\n",
    "    \n",
    "    while len(posts) < 2_250:\n",
    "        # collects next batch of posts data as 'next_posts'\n",
    "        next_data = requests.get(url, params).json()\n",
    "        next_posts = next_data['data']\n",
    "        \n",
    "        # concatenate posts data to 'posts'\n",
    "        posts += next_posts\n",
    "        \n",
    "        # update API parameters to so the following 250 posts\n",
    "        # will be requested in the next iteration of the loop\n",
    "        earliest_post_time = next_posts[-1]['created_utc']\n",
    "        params['before'] = earliest_post_time\n",
    "        \n",
    "        # delay next request and not spam the API\n",
    "        time.sleep(30)\n",
    "        \n",
    "    posts_df = pd.DataFrame(posts)\n",
    "    posts_df.to_csv(f'datasets/{subreddit}.csv', index = False)\n",
    "    \n",
    "\n",
    "def text_cleaning(text):\n",
    "    '''\n",
    "    Cleans text by removing [bracketed statements], urls, emails,\n",
    "    some special characters (parentheses and stars), and some common html phrases.\n",
    "    \n",
    "    Returns the cleaned text\n",
    "    '''\n",
    "    \n",
    "    # remove new lines\n",
    "    text = re.sub('\\n', ' ', text)\n",
    "    \n",
    "    # remove parentheses and asterisks\n",
    "    text = re.sub(\"[\\(\\)\\*]\", '', text)\n",
    "    \n",
    "    # remove urls and do not include closing bracket ]\n",
    "    text = re.sub('http\\S+|www\\.\\S+', '', text)\n",
    "    \n",
    "    # remove email accounts\n",
    "    text = re.sub('\\S+@\\S+', '', text)\n",
    "    \n",
    "    # remove bracketed strings\n",
    "    text = re.sub('\\[(\\w|\\s)*\\]', '', text)\n",
    "    \n",
    "    # remove any leftover brackets\n",
    "    text = re.sub('[\\[\\]]', '', text)\n",
    "    \n",
    "    # replace parentheses with spaces\n",
    "    text = re.sub(\"/\", ' ', text)\n",
    "    \n",
    "    # remove some common html phrases\n",
    "    text = re.sub('&(gt|lt);', '', text)\n",
    "    text = re.sub('&?amp;', '', text)\n",
    "    text = re.sub('&?#x200b;?', '', text)\n",
    "    text = re.sub('&?#x200B;?', '', text) \n",
    "    \n",
    "    # replace whitespace with single space\n",
    "    text = re.sub('\\s+', ' ', text)\n",
    "    \n",
    "    # punctuation will be dropped after collecting sentiment\n",
    "    # , ; : . ! ?\n",
    "        \n",
    "    return text\n",
    "\n",
    "\n",
    "# although stop_drop_and_stem is a cooler name\n",
    "# it would be slightly less clear :(\n",
    "def drop_stop_and_stem(text):\n",
    "    '''\n",
    "    Takes a string, drops the stop words,\n",
    "    and stems the remaining words with PorterStemmer.\n",
    "    \n",
    "    Returns the stemmed, non-stopwords\n",
    "    '''\n",
    "    \n",
    "    pstem = PorterStemmer()\n",
    "    \n",
    "    #stem non-stopwords and put into a list\n",
    "    stemmed_list = [pstem.stem(word) for word in text.split()\n",
    "                    if word not in stopwords.words('english')]\n",
    "    \n",
    "    # return words separated by a space\n",
    "    return ' '.join(stemmed_list)\n",
    "\n",
    "\n",
    "def create_sentiment(df):\n",
    "    '''\n",
    "    Using Vader, collects sentiment from a DataFrame's \"text\" column.\n",
    "    Creates three new columns titled \"sent_pos\", \"sent_neg\", and \"sent_comp\" from the \n",
    "    positive, negative, and compound sentiment scores.\n",
    "    \n",
    "    Returns the DataFrame with additional columns \"sent_pos\", \"sent_neg\", and \"sent_comp\".\n",
    "    '''\n",
    "    \n",
    "    sent = SentimentIntensityAnalyzer()\n",
    "    \n",
    "    df['sent_pos'] = df['text'].apply(lambda x: sent.polarity_scores(x)['pos'])\n",
    "    df['sent_neg'] = df['text'].apply(lambda x: sent.polarity_scores(x)['neg'])\n",
    "    df['sent_compound'] = df['text'].apply(lambda x: sent.polarity_scores(x)['compound'])\n",
    "    \n",
    "\n",
    "def sample_three(series):\n",
    "    '''\n",
    "    Prints three random entries from a given series.\n",
    "    '''\n",
    "    for entry in series.sample(3):\n",
    "        print(entry)\n",
    "        print('----------\\n')"
   ]
  },
  {
   "cell_type": "markdown",
   "id": "c3f501b0-5421-432c-a46e-8e462955a901",
   "metadata": {},
   "source": [
    "---\n",
    "\n",
    "## Collecting the Data\n",
    "\n",
    "The code cell below uses the function `scrape_subreddit` to collect data on more than 2,000 posts from each subreddit r/Seattle and r/SeattleWA using [pushshift API](https://github.com/pushshift/api). The cell is commented out so that the results are consistent based on originally scraped datasets."
   ]
  },
  {
   "cell_type": "code",
   "execution_count": 27,
   "id": "a597840a-240f-40fa-ab65-cd25ffee0f96",
   "metadata": {},
   "outputs": [],
   "source": [
    "# collect more than 2,250 posts from /r/Seattle and /r/SeattleWA subreddits\n",
    "# commented out because the data has already been collected\n",
    "\n",
    "#scrape_subreddit('Seattle')\n",
    "#scrape_subreddit('SeattleWA')"
   ]
  },
  {
   "cell_type": "markdown",
   "id": "2c6650a2-1002-4d85-865b-03793cac443a",
   "metadata": {},
   "source": [
    "---\n",
    "\n",
    "## Cleaning\n",
    "#### First Impressions"
   ]
  },
  {
   "cell_type": "markdown",
   "id": "1d9c4f35-338e-422d-8d56-48a86ae3c50d",
   "metadata": {},
   "source": [
    "Let us read in the data and get a sense of what the data looks like."
   ]
  },
  {
   "cell_type": "code",
   "execution_count": 28,
   "id": "019e4993-2d4c-459a-bb45-01b34db5309f",
   "metadata": {},
   "outputs": [],
   "source": [
    "sea = pd.read_csv('datasets/Seattle.csv')\n",
    "sea_wa = pd.read_csv('datasets/SeattleWA.csv')"
   ]
  },
  {
   "cell_type": "code",
   "execution_count": 29,
   "id": "b6864720-fb41-4b63-8cd6-d26e3c78ba25",
   "metadata": {
    "tags": []
   },
   "outputs": [
    {
     "data": {
      "text/html": [
       "<div>\n",
       "<style scoped>\n",
       "    .dataframe tbody tr th:only-of-type {\n",
       "        vertical-align: middle;\n",
       "    }\n",
       "\n",
       "    .dataframe tbody tr th {\n",
       "        vertical-align: top;\n",
       "    }\n",
       "\n",
       "    .dataframe thead th {\n",
       "        text-align: right;\n",
       "    }\n",
       "</style>\n",
       "<table border=\"1\" class=\"dataframe\">\n",
       "  <thead>\n",
       "    <tr style=\"text-align: right;\">\n",
       "      <th></th>\n",
       "      <th>all_awardings</th>\n",
       "      <th>allow_live_comments</th>\n",
       "      <th>author</th>\n",
       "      <th>author_flair_css_class</th>\n",
       "      <th>author_flair_richtext</th>\n",
       "      <th>author_flair_text</th>\n",
       "      <th>author_flair_type</th>\n",
       "      <th>author_fullname</th>\n",
       "      <th>author_is_blocked</th>\n",
       "      <th>author_patreon_flair</th>\n",
       "      <th>...</th>\n",
       "      <th>thumbnail_width</th>\n",
       "      <th>post_hint</th>\n",
       "      <th>preview</th>\n",
       "      <th>collections</th>\n",
       "      <th>author_flair_template_id</th>\n",
       "      <th>author_cakeday</th>\n",
       "      <th>distinguished</th>\n",
       "      <th>call_to_action</th>\n",
       "      <th>category</th>\n",
       "      <th>removed_by_category</th>\n",
       "    </tr>\n",
       "  </thead>\n",
       "  <tbody>\n",
       "    <tr>\n",
       "      <th>0</th>\n",
       "      <td>[]</td>\n",
       "      <td>False</td>\n",
       "      <td>Remarkable-Salt610</td>\n",
       "      <td>NaN</td>\n",
       "      <td>[]</td>\n",
       "      <td>NaN</td>\n",
       "      <td>text</td>\n",
       "      <td>t2_ni0lq3vz</td>\n",
       "      <td>False</td>\n",
       "      <td>False</td>\n",
       "      <td>...</td>\n",
       "      <td>NaN</td>\n",
       "      <td>NaN</td>\n",
       "      <td>NaN</td>\n",
       "      <td>NaN</td>\n",
       "      <td>NaN</td>\n",
       "      <td>NaN</td>\n",
       "      <td>NaN</td>\n",
       "      <td>NaN</td>\n",
       "      <td>NaN</td>\n",
       "      <td>NaN</td>\n",
       "    </tr>\n",
       "    <tr>\n",
       "      <th>1</th>\n",
       "      <td>[]</td>\n",
       "      <td>False</td>\n",
       "      <td>westrox11</td>\n",
       "      <td>NaN</td>\n",
       "      <td>[]</td>\n",
       "      <td>NaN</td>\n",
       "      <td>text</td>\n",
       "      <td>t2_12a2u1</td>\n",
       "      <td>False</td>\n",
       "      <td>False</td>\n",
       "      <td>...</td>\n",
       "      <td>NaN</td>\n",
       "      <td>NaN</td>\n",
       "      <td>NaN</td>\n",
       "      <td>NaN</td>\n",
       "      <td>NaN</td>\n",
       "      <td>NaN</td>\n",
       "      <td>NaN</td>\n",
       "      <td>NaN</td>\n",
       "      <td>NaN</td>\n",
       "      <td>NaN</td>\n",
       "    </tr>\n",
       "    <tr>\n",
       "      <th>2</th>\n",
       "      <td>[]</td>\n",
       "      <td>False</td>\n",
       "      <td>Soggy_Sneakers87</td>\n",
       "      <td>NaN</td>\n",
       "      <td>[]</td>\n",
       "      <td>NaN</td>\n",
       "      <td>text</td>\n",
       "      <td>t2_a0vuvfra</td>\n",
       "      <td>False</td>\n",
       "      <td>False</td>\n",
       "      <td>...</td>\n",
       "      <td>NaN</td>\n",
       "      <td>NaN</td>\n",
       "      <td>NaN</td>\n",
       "      <td>NaN</td>\n",
       "      <td>NaN</td>\n",
       "      <td>NaN</td>\n",
       "      <td>NaN</td>\n",
       "      <td>NaN</td>\n",
       "      <td>NaN</td>\n",
       "      <td>NaN</td>\n",
       "    </tr>\n",
       "    <tr>\n",
       "      <th>3</th>\n",
       "      <td>[]</td>\n",
       "      <td>False</td>\n",
       "      <td>LittleShallot</td>\n",
       "      <td>NaN</td>\n",
       "      <td>[]</td>\n",
       "      <td>NaN</td>\n",
       "      <td>text</td>\n",
       "      <td>t2_13biud</td>\n",
       "      <td>False</td>\n",
       "      <td>False</td>\n",
       "      <td>...</td>\n",
       "      <td>NaN</td>\n",
       "      <td>NaN</td>\n",
       "      <td>NaN</td>\n",
       "      <td>NaN</td>\n",
       "      <td>NaN</td>\n",
       "      <td>NaN</td>\n",
       "      <td>NaN</td>\n",
       "      <td>NaN</td>\n",
       "      <td>NaN</td>\n",
       "      <td>NaN</td>\n",
       "    </tr>\n",
       "    <tr>\n",
       "      <th>4</th>\n",
       "      <td>[]</td>\n",
       "      <td>False</td>\n",
       "      <td>Chuckforpresident</td>\n",
       "      <td>NaN</td>\n",
       "      <td>[]</td>\n",
       "      <td>NaN</td>\n",
       "      <td>text</td>\n",
       "      <td>t2_3xq1mh9j</td>\n",
       "      <td>False</td>\n",
       "      <td>False</td>\n",
       "      <td>...</td>\n",
       "      <td>NaN</td>\n",
       "      <td>NaN</td>\n",
       "      <td>NaN</td>\n",
       "      <td>NaN</td>\n",
       "      <td>NaN</td>\n",
       "      <td>NaN</td>\n",
       "      <td>NaN</td>\n",
       "      <td>NaN</td>\n",
       "      <td>NaN</td>\n",
       "      <td>NaN</td>\n",
       "    </tr>\n",
       "  </tbody>\n",
       "</table>\n",
       "<p>5 rows × 76 columns</p>\n",
       "</div>"
      ],
      "text/plain": [
       "  all_awardings  allow_live_comments              author  \\\n",
       "0            []                False  Remarkable-Salt610   \n",
       "1            []                False           westrox11   \n",
       "2            []                False    Soggy_Sneakers87   \n",
       "3            []                False       LittleShallot   \n",
       "4            []                False   Chuckforpresident   \n",
       "\n",
       "  author_flair_css_class author_flair_richtext author_flair_text  \\\n",
       "0                    NaN                    []               NaN   \n",
       "1                    NaN                    []               NaN   \n",
       "2                    NaN                    []               NaN   \n",
       "3                    NaN                    []               NaN   \n",
       "4                    NaN                    []               NaN   \n",
       "\n",
       "  author_flair_type author_fullname  author_is_blocked author_patreon_flair  \\\n",
       "0              text     t2_ni0lq3vz              False                False   \n",
       "1              text       t2_12a2u1              False                False   \n",
       "2              text     t2_a0vuvfra              False                False   \n",
       "3              text       t2_13biud              False                False   \n",
       "4              text     t2_3xq1mh9j              False                False   \n",
       "\n",
       "   ... thumbnail_width post_hint  preview  collections  \\\n",
       "0  ...             NaN       NaN      NaN          NaN   \n",
       "1  ...             NaN       NaN      NaN          NaN   \n",
       "2  ...             NaN       NaN      NaN          NaN   \n",
       "3  ...             NaN       NaN      NaN          NaN   \n",
       "4  ...             NaN       NaN      NaN          NaN   \n",
       "\n",
       "   author_flair_template_id author_cakeday distinguished call_to_action  \\\n",
       "0                       NaN            NaN           NaN            NaN   \n",
       "1                       NaN            NaN           NaN            NaN   \n",
       "2                       NaN            NaN           NaN            NaN   \n",
       "3                       NaN            NaN           NaN            NaN   \n",
       "4                       NaN            NaN           NaN            NaN   \n",
       "\n",
       "  category  removed_by_category  \n",
       "0      NaN                  NaN  \n",
       "1      NaN                  NaN  \n",
       "2      NaN                  NaN  \n",
       "3      NaN                  NaN  \n",
       "4      NaN                  NaN  \n",
       "\n",
       "[5 rows x 76 columns]"
      ]
     },
     "execution_count": 29,
     "metadata": {},
     "output_type": "execute_result"
    }
   ],
   "source": [
    "sea.head(5)"
   ]
  },
  {
   "cell_type": "code",
   "execution_count": 30,
   "id": "32c80109-3613-4b30-b53d-a4e7f158ad6e",
   "metadata": {},
   "outputs": [
    {
     "data": {
      "text/plain": [
       "Index(['all_awardings', 'allow_live_comments', 'author',\n",
       "       'author_flair_css_class', 'author_flair_richtext', 'author_flair_text',\n",
       "       'author_flair_type', 'author_fullname', 'author_is_blocked',\n",
       "       'author_patreon_flair', 'author_premium', 'awarders', 'can_mod_post',\n",
       "       'contest_mode', 'created_utc', 'domain', 'full_link', 'gildings', 'id',\n",
       "       'is_created_from_ads_ui', 'is_crosspostable', 'is_meta',\n",
       "       'is_original_content', 'is_reddit_media_domain', 'is_robot_indexable',\n",
       "       'is_self', 'is_video', 'link_flair_background_color',\n",
       "       'link_flair_richtext', 'link_flair_text_color', 'link_flair_type',\n",
       "       'locked', 'media_only', 'no_follow', 'num_comments', 'num_crossposts',\n",
       "       'over_18', 'parent_whitelist_status', 'permalink', 'pinned', 'pwls',\n",
       "       'retrieved_on', 'score', 'selftext', 'send_replies', 'spoiler',\n",
       "       'stickied', 'subreddit', 'subreddit_id', 'subreddit_subscribers',\n",
       "       'subreddit_type', 'thumbnail', 'title', 'total_awards_received',\n",
       "       'treatment_tags', 'upvote_ratio', 'url', 'whitelist_status', 'wls',\n",
       "       'link_flair_css_class', 'link_flair_template_id', 'link_flair_text',\n",
       "       'author_flair_background_color', 'author_flair_text_color',\n",
       "       'media_metadata', 'thumbnail_height', 'thumbnail_width', 'post_hint',\n",
       "       'preview', 'collections', 'author_flair_template_id', 'author_cakeday',\n",
       "       'distinguished', 'call_to_action', 'category', 'removed_by_category'],\n",
       "      dtype='object')"
      ]
     },
     "execution_count": 30,
     "metadata": {},
     "output_type": "execute_result"
    }
   ],
   "source": [
    "sea.columns"
   ]
  },
  {
   "cell_type": "markdown",
   "id": "42d173d3-e5c5-4085-807b-a985f8256703",
   "metadata": {},
   "source": [
    "Most of the data is filled with missing and most of the columns seem irrelevant to our goals. The `subreddit`, `title`, and `selftext` columns are our main interest since we want to distinguish the two subreddits based on the text content of each post.\n",
    "\n",
    "Beyond this, `author` and `created_utc` may be relevant so let us keep these columns too."
   ]
  },
  {
   "cell_type": "code",
   "execution_count": 31,
   "id": "00f91eaa-60f6-4025-821b-0a54022d3c11",
   "metadata": {},
   "outputs": [],
   "source": [
    "# columns of interest\n",
    "init_cols = ['subreddit', 'author', 'created_utc', 'title', 'selftext']\n",
    "\n",
    "sea = sea[init_cols].copy()\n",
    "sea_wa = sea_wa[init_cols].copy()"
   ]
  },
  {
   "cell_type": "markdown",
   "id": "85d5f9cc-dbe1-494c-88aa-3d00b76b5cab",
   "metadata": {},
   "source": [
    "Let us see if there are any blatant things to clean in the data."
   ]
  },
  {
   "cell_type": "code",
   "execution_count": 32,
   "id": "aa5be538-45e1-4845-a4b0-6802aad26d61",
   "metadata": {},
   "outputs": [
    {
     "data": {
      "text/plain": [
       "subreddit      0\n",
       "author         0\n",
       "created_utc    0\n",
       "title          0\n",
       "selftext       0\n",
       "dtype: int64"
      ]
     },
     "execution_count": 32,
     "metadata": {},
     "output_type": "execute_result"
    }
   ],
   "source": [
    "sea.isnull().sum()"
   ]
  },
  {
   "cell_type": "code",
   "execution_count": 33,
   "id": "fe3e443b-dc02-4e80-b292-3dcefd960783",
   "metadata": {},
   "outputs": [
    {
     "data": {
      "text/plain": [
       "subreddit      0\n",
       "author         0\n",
       "created_utc    0\n",
       "title          0\n",
       "selftext       3\n",
       "dtype: int64"
      ]
     },
     "execution_count": 33,
     "metadata": {},
     "output_type": "execute_result"
    }
   ],
   "source": [
    "sea_wa.isnull().sum()"
   ]
  },
  {
   "cell_type": "code",
   "execution_count": 34,
   "id": "b9a278c4-7b82-43d2-966c-5ea62d49234f",
   "metadata": {},
   "outputs": [
    {
     "name": "stdout",
     "output_type": "stream",
     "text": [
      "(2499, 5)\n",
      "(2499, 5)\n"
     ]
    }
   ],
   "source": [
    "print(sea.shape)\n",
    "print(sea_wa.shape)"
   ]
  },
  {
   "cell_type": "markdown",
   "id": "b1b3d422-b8db-4d49-9933-c21e38202d41",
   "metadata": {},
   "source": [
    "There should not be any harm in removing three entries with missing selftext data out of nearly 2,500 posts."
   ]
  },
  {
   "cell_type": "code",
   "execution_count": 35,
   "id": "2d71575e-111f-447a-8390-5fb2a130e932",
   "metadata": {},
   "outputs": [],
   "source": [
    "sea_wa.dropna(inplace = True)"
   ]
  },
  {
   "cell_type": "markdown",
   "id": "c581fea7-40e2-4274-ae1c-f63802a20103",
   "metadata": {},
   "source": [
    "#### Feature Engineering: Combined Text, Sentiment, and Word Count"
   ]
  },
  {
   "cell_type": "markdown",
   "id": "a086ef10-a4f6-4600-aeca-2dd5e6cb3421",
   "metadata": {},
   "source": [
    "One thing we will want to collect is the sentiment and word count of each post in case there are any general differences here between the two subreddits.\n",
    "\n",
    "Before we do this, we can make our lives a little easier by concatenating the `title` and `selftext` data into a single column."
   ]
  },
  {
   "cell_type": "code",
   "execution_count": 36,
   "id": "42a18621-efad-40ba-a8b5-7bb800fdb2f9",
   "metadata": {},
   "outputs": [],
   "source": [
    "# create a new column from joining title text and selftext\n",
    "sea['text'] = sea['title'] + ' ' + sea['selftext']\n",
    "sea_wa['text'] = sea_wa['title'] + ' ' + sea_wa['selftext']\n",
    "\n",
    "# drop former text columns\n",
    "sea.drop(columns = ['title', 'selftext'], inplace = True)\n",
    "sea_wa.drop(columns = ['title', 'selftext'], inplace = True)"
   ]
  },
  {
   "cell_type": "markdown",
   "id": "f1f5a02c-8075-4983-8ae8-0fd9686fc9cb",
   "metadata": {},
   "source": [
    "We will also need to clean our text data before we collect the sentiment and word counts. This will hopefully make the resulting values more meaningful. Below we use our `text_cleaning` function to do basic cleaning like remove urls, select special characters, and bracketed text."
   ]
  },
  {
   "cell_type": "code",
   "execution_count": 37,
   "id": "24e00aaa-09b7-4595-a8f7-440a2bdd65a5",
   "metadata": {},
   "outputs": [],
   "source": [
    "# remove urls and emails, special characters ()/*, and [bracketed strings]\n",
    "sea['text'] = sea['text'].apply(text_cleaning)\n",
    "sea_wa['text'] = sea_wa['text'].apply(text_cleaning)"
   ]
  },
  {
   "cell_type": "markdown",
   "id": "555080cc-22dd-42c3-b583-47ead39465a5",
   "metadata": {},
   "source": [
    "Finally we use `vader` from `nltk` to collect the sentiment. Afterwards we drop the stopwords and stem. We collect sentiment first because `vader` may have trouble performing sentiment analysis on stemmed text."
   ]
  },
  {
   "cell_type": "code",
   "execution_count": 38,
   "id": "37f9ff68-5bd3-4504-95f7-7bf4c0f8f0d6",
   "metadata": {},
   "outputs": [],
   "source": [
    "# in place methods that generate positive and negative sentiment scores\n",
    "# for the given dataframes\n",
    "create_sentiment(sea)\n",
    "create_sentiment(sea_wa)"
   ]
  },
  {
   "cell_type": "code",
   "execution_count": 39,
   "id": "b54a6aa5-b647-428d-8d9d-6be84fefe9cd",
   "metadata": {},
   "outputs": [],
   "source": [
    "# drop some leftover punctuation - some of which was necessary for sentiment analysis\n",
    "sea['text'] = sea['text'].apply(lambda text: re.sub('[,;\\.!\\?]', '', text))\n",
    "sea_wa['text'] = sea_wa['text'].apply(lambda text: re.sub('[,;\\.!\\?]', '', text))"
   ]
  },
  {
   "cell_type": "code",
   "execution_count": 40,
   "id": "25bffcbb-6004-4ec4-a90a-53028e7f022b",
   "metadata": {},
   "outputs": [],
   "source": [
    "# count number of words by splitting text across white space and recording list length\n",
    "sea['word_count'] = sea['text'].str.split().str.len()\n",
    "sea_wa['word_count'] = sea_wa['text'].str.split().str.len()"
   ]
  },
  {
   "cell_type": "markdown",
   "id": "ff09d5e9-84e4-40bb-9857-27f6d4d6d316",
   "metadata": {},
   "source": [
    "As a sanity check, let us see if the head of our DataFrames match our general expectations."
   ]
  },
  {
   "cell_type": "code",
   "execution_count": 41,
   "id": "12fc0240-0954-4633-908c-9355fc5d4ed5",
   "metadata": {},
   "outputs": [
    {
     "data": {
      "text/html": [
       "<div>\n",
       "<style scoped>\n",
       "    .dataframe tbody tr th:only-of-type {\n",
       "        vertical-align: middle;\n",
       "    }\n",
       "\n",
       "    .dataframe tbody tr th {\n",
       "        vertical-align: top;\n",
       "    }\n",
       "\n",
       "    .dataframe thead th {\n",
       "        text-align: right;\n",
       "    }\n",
       "</style>\n",
       "<table border=\"1\" class=\"dataframe\">\n",
       "  <thead>\n",
       "    <tr style=\"text-align: right;\">\n",
       "      <th></th>\n",
       "      <th>subreddit</th>\n",
       "      <th>author</th>\n",
       "      <th>created_utc</th>\n",
       "      <th>text</th>\n",
       "      <th>sent_pos</th>\n",
       "      <th>sent_neg</th>\n",
       "      <th>sent_compound</th>\n",
       "      <th>word_count</th>\n",
       "    </tr>\n",
       "  </thead>\n",
       "  <tbody>\n",
       "    <tr>\n",
       "      <th>0</th>\n",
       "      <td>Seattle</td>\n",
       "      <td>Remarkable-Salt610</td>\n",
       "      <td>1664407377</td>\n",
       "      <td>Special Education in Seattle or surrounding ar...</td>\n",
       "      <td>0.111</td>\n",
       "      <td>0.000</td>\n",
       "      <td>0.8406</td>\n",
       "      <td>94</td>\n",
       "    </tr>\n",
       "    <tr>\n",
       "      <th>1</th>\n",
       "      <td>Seattle</td>\n",
       "      <td>westrox11</td>\n",
       "      <td>1664403922</td>\n",
       "      <td>Best Lychee martini in Seattle I’m on the hunt...</td>\n",
       "      <td>0.374</td>\n",
       "      <td>0.000</td>\n",
       "      <td>0.9178</td>\n",
       "      <td>23</td>\n",
       "    </tr>\n",
       "    <tr>\n",
       "      <th>2</th>\n",
       "      <td>Seattle</td>\n",
       "      <td>Soggy_Sneakers87</td>\n",
       "      <td>1664402515</td>\n",
       "      <td>Save a life Hi I just learned in a CPR first a...</td>\n",
       "      <td>0.211</td>\n",
       "      <td>0.014</td>\n",
       "      <td>0.9756</td>\n",
       "      <td>118</td>\n",
       "    </tr>\n",
       "  </tbody>\n",
       "</table>\n",
       "</div>"
      ],
      "text/plain": [
       "  subreddit              author  created_utc  \\\n",
       "0   Seattle  Remarkable-Salt610   1664407377   \n",
       "1   Seattle           westrox11   1664403922   \n",
       "2   Seattle    Soggy_Sneakers87   1664402515   \n",
       "\n",
       "                                                text  sent_pos  sent_neg  \\\n",
       "0  Special Education in Seattle or surrounding ar...     0.111     0.000   \n",
       "1  Best Lychee martini in Seattle I’m on the hunt...     0.374     0.000   \n",
       "2  Save a life Hi I just learned in a CPR first a...     0.211     0.014   \n",
       "\n",
       "   sent_compound  word_count  \n",
       "0         0.8406          94  \n",
       "1         0.9178          23  \n",
       "2         0.9756         118  "
      ]
     },
     "execution_count": 41,
     "metadata": {},
     "output_type": "execute_result"
    }
   ],
   "source": [
    "sea.head(3)"
   ]
  },
  {
   "cell_type": "code",
   "execution_count": 42,
   "id": "4dc32224-d66d-4414-a6ea-6b0540ba6289",
   "metadata": {},
   "outputs": [
    {
     "data": {
      "text/html": [
       "<div>\n",
       "<style scoped>\n",
       "    .dataframe tbody tr th:only-of-type {\n",
       "        vertical-align: middle;\n",
       "    }\n",
       "\n",
       "    .dataframe tbody tr th {\n",
       "        vertical-align: top;\n",
       "    }\n",
       "\n",
       "    .dataframe thead th {\n",
       "        text-align: right;\n",
       "    }\n",
       "</style>\n",
       "<table border=\"1\" class=\"dataframe\">\n",
       "  <thead>\n",
       "    <tr style=\"text-align: right;\">\n",
       "      <th></th>\n",
       "      <th>subreddit</th>\n",
       "      <th>author</th>\n",
       "      <th>created_utc</th>\n",
       "      <th>text</th>\n",
       "      <th>sent_pos</th>\n",
       "      <th>sent_neg</th>\n",
       "      <th>sent_compound</th>\n",
       "      <th>word_count</th>\n",
       "    </tr>\n",
       "  </thead>\n",
       "  <tbody>\n",
       "    <tr>\n",
       "      <th>0</th>\n",
       "      <td>SeattleWA</td>\n",
       "      <td>Sinkholediaries</td>\n",
       "      <td>1664416603</td>\n",
       "      <td>Archspire fans I'm a lady who is obsessed I ne...</td>\n",
       "      <td>0.206</td>\n",
       "      <td>0.284</td>\n",
       "      <td>-0.4939</td>\n",
       "      <td>31</td>\n",
       "    </tr>\n",
       "    <tr>\n",
       "      <th>1</th>\n",
       "      <td>SeattleWA</td>\n",
       "      <td>prf_q</td>\n",
       "      <td>1664406559</td>\n",
       "      <td>Is it the overseeding season yet Those who are...</td>\n",
       "      <td>0.069</td>\n",
       "      <td>0.000</td>\n",
       "      <td>0.3485</td>\n",
       "      <td>35</td>\n",
       "    </tr>\n",
       "    <tr>\n",
       "      <th>2</th>\n",
       "      <td>SeattleWA</td>\n",
       "      <td>eatmoremeatnow</td>\n",
       "      <td>1664404071</td>\n",
       "      <td>Showbox Box Office Has anybody recently bought...</td>\n",
       "      <td>0.034</td>\n",
       "      <td>0.058</td>\n",
       "      <td>-0.3270</td>\n",
       "      <td>55</td>\n",
       "    </tr>\n",
       "  </tbody>\n",
       "</table>\n",
       "</div>"
      ],
      "text/plain": [
       "   subreddit           author  created_utc  \\\n",
       "0  SeattleWA  Sinkholediaries   1664416603   \n",
       "1  SeattleWA            prf_q   1664406559   \n",
       "2  SeattleWA   eatmoremeatnow   1664404071   \n",
       "\n",
       "                                                text  sent_pos  sent_neg  \\\n",
       "0  Archspire fans I'm a lady who is obsessed I ne...     0.206     0.284   \n",
       "1  Is it the overseeding season yet Those who are...     0.069     0.000   \n",
       "2  Showbox Box Office Has anybody recently bought...     0.034     0.058   \n",
       "\n",
       "   sent_compound  word_count  \n",
       "0        -0.4939          31  \n",
       "1         0.3485          35  \n",
       "2        -0.3270          55  "
      ]
     },
     "execution_count": 42,
     "metadata": {},
     "output_type": "execute_result"
    }
   ],
   "source": [
    "sea_wa.head(3)"
   ]
  },
  {
   "cell_type": "markdown",
   "id": "cd1fb6f9-02df-46b7-88f4-963204282b4a",
   "metadata": {},
   "source": [
    "#### Cleaning"
   ]
  },
  {
   "cell_type": "markdown",
   "id": "2045fa97-aed1-4775-af0b-2a14c5911ada",
   "metadata": {},
   "source": [
    "We performed a lot of text cleaning, but there may be some posts that need to be removed on the whole due to having duplicate posts or being outliers.\n",
    "\n",
    "Below we see the number of duplicate posts in each subreddit and what they look like in r/SeattleWA."
   ]
  },
  {
   "cell_type": "code",
   "execution_count": 23,
   "id": "df6c1f6c-c797-4e1f-a891-0c60b9e4cba0",
   "metadata": {},
   "outputs": [
    {
     "name": "stdout",
     "output_type": "stream",
     "text": [
      "Number of duplicates posts in r/Seattle: 4\n",
      "Number of duplicates posts in r/SeattleWA: 35\n"
     ]
    },
    {
     "data": {
      "text/html": [
       "<div>\n",
       "<style scoped>\n",
       "    .dataframe tbody tr th:only-of-type {\n",
       "        vertical-align: middle;\n",
       "    }\n",
       "\n",
       "    .dataframe tbody tr th {\n",
       "        vertical-align: top;\n",
       "    }\n",
       "\n",
       "    .dataframe thead th {\n",
       "        text-align: right;\n",
       "    }\n",
       "</style>\n",
       "<table border=\"1\" class=\"dataframe\">\n",
       "  <thead>\n",
       "    <tr style=\"text-align: right;\">\n",
       "      <th></th>\n",
       "      <th>subreddit</th>\n",
       "      <th>author</th>\n",
       "      <th>created_utc</th>\n",
       "      <th>text</th>\n",
       "      <th>sent_pos</th>\n",
       "      <th>sent_neg</th>\n",
       "      <th>sent_compound</th>\n",
       "      <th>word_count</th>\n",
       "    </tr>\n",
       "  </thead>\n",
       "  <tbody>\n",
       "    <tr>\n",
       "      <th>97</th>\n",
       "      <td>SeattleWA</td>\n",
       "      <td>AutoModerator</td>\n",
       "      <td>1663238408</td>\n",
       "      <td>Seattle Reddit Community Open Chat Welcome to ...</td>\n",
       "      <td>0.084</td>\n",
       "      <td>0.0</td>\n",
       "      <td>0.8388</td>\n",
       "      <td>112</td>\n",
       "    </tr>\n",
       "    <tr>\n",
       "      <th>2328</th>\n",
       "      <td>SeattleWA</td>\n",
       "      <td>AutoModerator</td>\n",
       "      <td>1646912409</td>\n",
       "      <td>Seattle Reddit Community Open Chat Welcome to ...</td>\n",
       "      <td>0.084</td>\n",
       "      <td>0.0</td>\n",
       "      <td>0.8388</td>\n",
       "      <td>112</td>\n",
       "    </tr>\n",
       "    <tr>\n",
       "      <th>2197</th>\n",
       "      <td>SeattleWA</td>\n",
       "      <td>AutoModerator</td>\n",
       "      <td>1647513608</td>\n",
       "      <td>Seattle Reddit Community Open Chat Welcome to ...</td>\n",
       "      <td>0.084</td>\n",
       "      <td>0.0</td>\n",
       "      <td>0.8388</td>\n",
       "      <td>112</td>\n",
       "    </tr>\n",
       "    <tr>\n",
       "      <th>2119</th>\n",
       "      <td>SeattleWA</td>\n",
       "      <td>AutoModerator</td>\n",
       "      <td>1648118409</td>\n",
       "      <td>Seattle Reddit Community Open Chat Welcome to ...</td>\n",
       "      <td>0.084</td>\n",
       "      <td>0.0</td>\n",
       "      <td>0.8388</td>\n",
       "      <td>112</td>\n",
       "    </tr>\n",
       "    <tr>\n",
       "      <th>2024</th>\n",
       "      <td>SeattleWA</td>\n",
       "      <td>AutoModerator</td>\n",
       "      <td>1648723209</td>\n",
       "      <td>Seattle Reddit Community Open Chat Welcome to ...</td>\n",
       "      <td>0.084</td>\n",
       "      <td>0.0</td>\n",
       "      <td>0.8388</td>\n",
       "      <td>112</td>\n",
       "    </tr>\n",
       "    <tr>\n",
       "      <th>1944</th>\n",
       "      <td>SeattleWA</td>\n",
       "      <td>AutoModerator</td>\n",
       "      <td>1649328010</td>\n",
       "      <td>Seattle Reddit Community Open Chat Welcome to ...</td>\n",
       "      <td>0.084</td>\n",
       "      <td>0.0</td>\n",
       "      <td>0.8388</td>\n",
       "      <td>112</td>\n",
       "    </tr>\n",
       "    <tr>\n",
       "      <th>1887</th>\n",
       "      <td>SeattleWA</td>\n",
       "      <td>AutoModerator</td>\n",
       "      <td>1649932809</td>\n",
       "      <td>Seattle Reddit Community Open Chat Welcome to ...</td>\n",
       "      <td>0.084</td>\n",
       "      <td>0.0</td>\n",
       "      <td>0.8388</td>\n",
       "      <td>112</td>\n",
       "    </tr>\n",
       "    <tr>\n",
       "      <th>1798</th>\n",
       "      <td>SeattleWA</td>\n",
       "      <td>AutoModerator</td>\n",
       "      <td>1650537609</td>\n",
       "      <td>Seattle Reddit Community Open Chat Welcome to ...</td>\n",
       "      <td>0.084</td>\n",
       "      <td>0.0</td>\n",
       "      <td>0.8388</td>\n",
       "      <td>112</td>\n",
       "    </tr>\n",
       "    <tr>\n",
       "      <th>1716</th>\n",
       "      <td>SeattleWA</td>\n",
       "      <td>AutoModerator</td>\n",
       "      <td>1651142410</td>\n",
       "      <td>Seattle Reddit Community Open Chat Welcome to ...</td>\n",
       "      <td>0.084</td>\n",
       "      <td>0.0</td>\n",
       "      <td>0.8388</td>\n",
       "      <td>112</td>\n",
       "    </tr>\n",
       "    <tr>\n",
       "      <th>1464</th>\n",
       "      <td>SeattleWA</td>\n",
       "      <td>AutoModerator</td>\n",
       "      <td>1652956810</td>\n",
       "      <td>Seattle Reddit Community Open Chat Welcome to ...</td>\n",
       "      <td>0.084</td>\n",
       "      <td>0.0</td>\n",
       "      <td>0.8388</td>\n",
       "      <td>112</td>\n",
       "    </tr>\n",
       "  </tbody>\n",
       "</table>\n",
       "</div>"
      ],
      "text/plain": [
       "      subreddit         author  created_utc  \\\n",
       "97    SeattleWA  AutoModerator   1663238408   \n",
       "2328  SeattleWA  AutoModerator   1646912409   \n",
       "2197  SeattleWA  AutoModerator   1647513608   \n",
       "2119  SeattleWA  AutoModerator   1648118409   \n",
       "2024  SeattleWA  AutoModerator   1648723209   \n",
       "1944  SeattleWA  AutoModerator   1649328010   \n",
       "1887  SeattleWA  AutoModerator   1649932809   \n",
       "1798  SeattleWA  AutoModerator   1650537609   \n",
       "1716  SeattleWA  AutoModerator   1651142410   \n",
       "1464  SeattleWA  AutoModerator   1652956810   \n",
       "\n",
       "                                                   text  sent_pos  sent_neg  \\\n",
       "97    Seattle Reddit Community Open Chat Welcome to ...     0.084       0.0   \n",
       "2328  Seattle Reddit Community Open Chat Welcome to ...     0.084       0.0   \n",
       "2197  Seattle Reddit Community Open Chat Welcome to ...     0.084       0.0   \n",
       "2119  Seattle Reddit Community Open Chat Welcome to ...     0.084       0.0   \n",
       "2024  Seattle Reddit Community Open Chat Welcome to ...     0.084       0.0   \n",
       "1944  Seattle Reddit Community Open Chat Welcome to ...     0.084       0.0   \n",
       "1887  Seattle Reddit Community Open Chat Welcome to ...     0.084       0.0   \n",
       "1798  Seattle Reddit Community Open Chat Welcome to ...     0.084       0.0   \n",
       "1716  Seattle Reddit Community Open Chat Welcome to ...     0.084       0.0   \n",
       "1464  Seattle Reddit Community Open Chat Welcome to ...     0.084       0.0   \n",
       "\n",
       "      sent_compound  word_count  \n",
       "97           0.8388         112  \n",
       "2328         0.8388         112  \n",
       "2197         0.8388         112  \n",
       "2119         0.8388         112  \n",
       "2024         0.8388         112  \n",
       "1944         0.8388         112  \n",
       "1887         0.8388         112  \n",
       "1798         0.8388         112  \n",
       "1716         0.8388         112  \n",
       "1464         0.8388         112  "
      ]
     },
     "execution_count": 23,
     "metadata": {},
     "output_type": "execute_result"
    }
   ],
   "source": [
    "print(f\"Number of duplicates posts in r/Seattle: {sea[sea['text'].duplicated()].sort_values(by = 'author').shape[0]}\")\n",
    "print(f\"Number of duplicates posts in r/SeattleWA: {sea_wa[sea_wa['text'].duplicated()].sort_values(by = 'author').shape[0]}\")\n",
    "sea_wa[sea_wa['text'].duplicated()].sort_values(by = 'author').head(10)"
   ]
  },
  {
   "cell_type": "code",
   "execution_count": 43,
   "id": "e5caabb8-df36-414f-86a4-07691b0f33d5",
   "metadata": {},
   "outputs": [],
   "source": [
    "# drop duplicate entries\n",
    "sea.drop_duplicates('text', inplace = True)\n",
    "sea_wa.drop_duplicates('text', inplace = True)"
   ]
  },
  {
   "cell_type": "markdown",
   "id": "7fc4bd61-6a33-4e52-9a8a-4f93f2846c52",
   "metadata": {},
   "source": [
    "Next let us examine if there are any outliers."
   ]
  },
  {
   "cell_type": "code",
   "execution_count": 513,
   "id": "05233aea-867d-4604-a84f-65cdc26b13c2",
   "metadata": {},
   "outputs": [
    {
     "data": {
      "image/png": "[encoded data removed]",
      "text/plain": [
       "<Figure size 1152x360 with 2 Axes>"
      ]
     },
     "metadata": {
      "needs_background": "light"
     },
     "output_type": "display_data"
    }
   ],
   "source": [
    "fig, axes = plt.subplots(1,2, figsize = (16,5))\n",
    "\n",
    "fig.suptitle('Word Count Boxplots', size = 25, y = 1.02)\n",
    "sns.boxplot(x = sea['word_count'], ax = axes[0])\n",
    "axes[0].set_title('r/Seattle', size = 20)\n",
    "axes[0].set_xlabel('Word Count', size = 15)\n",
    "\n",
    "sns.boxplot(x = sea_wa['word_count'], ax = axes[1])\n",
    "axes[1].set_title('r/SeattleWA', size = 20)\n",
    "axes[1].set_xlabel('Word Count', size = 15);"
   ]
  },
  {
   "cell_type": "code",
   "execution_count": 514,
   "id": "a8fceb1b-906b-4a7a-94bc-60b985d6f278",
   "metadata": {},
   "outputs": [
    {
     "data": {
      "text/plain": [
       "count    2494.000000\n",
       "mean       93.372093\n",
       "std       127.130427\n",
       "min         0.000000\n",
       "25%        39.000000\n",
       "50%        62.000000\n",
       "75%       104.000000\n",
       "max      2088.000000\n",
       "Name: word_count, dtype: float64"
      ]
     },
     "execution_count": 514,
     "metadata": {},
     "output_type": "execute_result"
    }
   ],
   "source": [
    "sea['word_count'].describe()"
   ]
  },
  {
   "cell_type": "markdown",
   "id": "de07c935-659f-48a3-a9f4-d9b3a795e9b3",
   "metadata": {},
   "source": [
    "There are several extraordinarily long posts in r/Seattle and at least one longer post in r/Seattle. Let us print the contents of these post to see if they make sense to remove from our datasets."
   ]
  },
  {
   "cell_type": "code",
   "execution_count": 44,
   "id": "13727523-643f-4051-ae18-f7411d0eaaa2",
   "metadata": {
    "scrolled": true,
    "tags": []
   },
   "outputs": [
    {
     "name": "stdout",
     "output_type": "stream",
     "text": [
      "Seattle City Council Newsletters Reddit: Hey everyone I just wanted to introduce myself again My name is George and I am a rising junior at Stanford interested in civic engagement and politics I started working on a project with other students that’s been totally awesome and cool Basically we’ve made a newsletter that summarizes the info from Seattle City Council meetings in an accessible and easy way I have put an example from this week below though the real thing has a bit more formatting that doesn't translate into Reddit This project is very new so we would really appreciate any feedback you may have I would love to see comments and show me what I need to do to make this newsletter the best it can be I totally recommend joining Who doesn’t want to know what goes on behind the scenes of their own beautiful city If you are interested in receiving these weekly in your email inbox you can click this link: Example Newsletter: Seattle City Council Meeting Summaries - Week of September 12 2022 Council Briefing 9 12 Meeting Length - 1:32:07 All councilmembers were present Council Meeting 9 13 Meeting Length - 1:19:32 All councilmembers were present Presentations Amy Gore a member of the City Council Central Staff shared a during the briefing regarding Seattle Initiative 135 establishes the Seattle Social Housing Developer a new public development authority for social housing to develop own and maintain publicly financed mixed-income social housing developments The initiative will create a 13-member PDA board appointed by the Seattle Renters Commission 7 MLK Jr County Labor Council 1 El Centro de la Raza 1 City Council 2 Mayor’s Office 1 and Green New Deal Oversight Board 1 Half of the board will eventually be residents of PDA housing The city will have to fund the salary and benefits of the CEO and CFO for 18 months along with other support estimated to cost at least $750000 Seattle will also be required to conduct a feasibility study whenever considering the sale or gift of public land Councilmembers Updates Councilmember District 1 Brought attention to the upcoming QA on September 15 with the three candidates for the Permanent Chief of Police in Seattle Attended the King County Homelessness Meeting the Board of Health Meeting to receive a Monkeypox update and a meeting with the Metropolitan Democratic Club of Seattle to discuss legislation on abortion access Councilmember District 2 Approved in Neighborhood Education Civil Rights and Culture Committee which amends five preschool policies Attended several meetings including with the Office of Civil Rights Board of Health Committee and Beacon Hill Council Community Meeting Had the opportunity to meet with several community members and discuss safety along the Rainier Valley the Levy Oversight Committee’s efforts to increase funding for education programs labor rights for individuals contracted through third-party organizations and concerns around the Soto Shelter Expansion Announced the King County awarded $11 million to 45 community organizations Councilmember District 3 Brought awareness to current issues within the education realm urging contract negotiators to meet the needs of educators students and families Argued that the Democratic Party has not shown enough moral and financial support for educators Councilmember District 4 Seven items from the Department of Transportation and Public Utilities on agenda Six council bills to cover several slivers of city property and its repurposement The last bill was mentioned to be the most popular regarding the unanimous nomination of Greg Spotts as the Director of Seattle Department of Transportation Thanked everyone who helped phase out gasoline-powered leaf blowers and also thanked the individuals who helped reopen the West Seattle High Bridge Council President District 5 Proclaiming September 2022 as Childhood Cancer Awareness Month 9 signatures affixed No items from Governance Native Communities and Tribal Governments Committee Will meet September 15 to consider appointments for the City’s Human Resources Director and the Joint Apprenticeship Training Council Announced that the Aurora Commons has been able to fund $150 million for property acquisition in two years to provide services to women experiencing sexual exploitation citywide Councilmember District 6 Looking at various issues including homelessness public safety the education strike and plans for Ballard Avenue Welcomed Naomi Ruse as the new Land Use Committee clerk Councilmember District 7 Sponsored which celebrates the 50th anniversary of Discovery Park Held several meetings amongst colleague and community members about Metropolitan Park District priorities as votes will be held on September 23 regarding the district Announced that the Clean City Initiative disposed of 2350 needles and 100000 pounds of garbages Congratulated the Seattle Public Library system for providing $49 million annual in services provided to the community and stakeholders Councilmember Citywide The mayor will released his proposed budget on September 27 Moved around dates for budget hearing a balancing package hearing will be held November 7 and a public hearing for the Mayor’s budget will be held November 8 Congratulated several different labor groups throughout the city including the Seattle Education Association Starbucks United and Teamsters Local 174 for fighting for their labor rights Specifically applauded the Teamsters Local 174 for reaching successes including better medical coverage work rules and pension increases Councilmember Citywide The Economic Development Technology and City Lights Committee will meet on September 14 with significant issues to address an ordinance relating to the City Light Department amending rates terms and conditions for the use and sale of electricity supplied by the City Light Department for 2022 2023 and 2024 an ordinance relating to the establishment of the Seattle Film Commission Two appointments to the Seattle Music Commission: Appointments Three appointments to the City Light Review Panel: Appointments and Held several meetings with Greg Spotts regarding maintenance resource planning Gino Betts Downtown Seattle Association Cascade Bike Club Seattle Police Department Alona Lori and Senator Maria Cantwell Legislation Updates Public Housing: Report of the City Clerk on the Certificate of Sufficiency for Initiative No 135 concerning the Seattle Social Housing Public Development Authority PDA See presentation above from Amy Gore regarding what Seattle Initiative 135 concerns 9 Yes An ordinance relating to the redevelopment of Yesler Terrace by the Housing Authority of The City of Seattle authorizing the Mayor to execute an amendment to the Yesler Terrace Cooperative Agreement with the Housing Authority of the City of Seattle that was authorized by Ordinance 123961 authorizing the Director of Housing to implement the Cooperative Agreement as amended and ratifying and confirming certain prior acts Sponsored by Councilmember 9 Yes Seattle Office of Inspector General: Office of Inspector General request for an extension for the filing of September 2022 Annual Surveillance Technologies review reports Sponsored by Councilmember Nelson conveyed that the Seattle Office of Inspector General does not have the staffing and capacity to conduct sufficient surveillance reviews by the end of September and the organization requested to postpone the reviews until March 31 2023 9 Yes Celebrating Seattle Parks: A resolution celebrating the fiftieth anniversary of the adoption of the Discovery Park Master Plan Sponsored by Councilmember 9 Yes Environmental: An ordinance amending which adopted the 2022 Budget changing appropriations to various departments and budget control levels and from various funds in the Budget in order to advance the Seattle Green New Deal by funding actions to reduce greenhouse gas emissions funding climate-resilient community spaces and investing in net-zero affordable housing and ratifying and confirming certain prior acts Sponsored by Councilmembers 9 Yes Budget: An ordinance appropriating money to pay certain claims for the week of August 29 2022 through September 2 2022 and ordering the payment thereof and ratifying and confirming certain prior acts Sponsored by Councilmember 9 Yes Appointment: Appointment of Greg Spotts Director of Seattle Department of Transportation for a term to August 1 2026 Sponsored by Councilmember 9 Yes Land Rights: Ordinances accepting various deeds for street or alley purposes laying off opening widening extending and establishing portions of rights-of way placing the real priority conveyed by said deeds under the jurisdiction of the Seattle Department of Transportation and ratifying and confirming certain prior acts Sponsored by Councilmembers 9 Yes Sponsored by Councilmembers 9 Yes Sponsored by Councilmembers 9 Yes Sponsored by Councilmembers 9 Yes An ordinance accepting 21 limited purpose easements for public sidewalk and alley turn- around purposes placing the real property conveyed by such easements under the jurisdiction of the Seattle Department of Transportation and ratifying and confirming certain prior acts Sponsored by Councilmember 9 Yes A resolution accepting twenty-five limited purpose easements for public sidewalk and alley turn-around purposes placing the real property conveyed by such easements under the jurisdiction of the Seattle Department of Transportation and ratifying and confirming certain prior acts Sponsored by Councilmember 9 Yes Public Comments There were 6 total public comments: Half of the comments concerned public housing conveying that Seattle needed to prioritize minorities and homeless population These comments also emphasized that the City Council had not done enough to create more affordable housing for low-income families One commenter argued that Seattle needed to stop exempting drug pushers and sex crimes from jail as this ruined integrity The last two comments fought to defend a concerned citizen’s lost cannabis store Resource: If you have any questions or feedback please email us at and we will get the answers to your questions from the city council\n",
      "-------\n",
      "\n",
      "SPD should be barred from any display of Thin Blue Line symbols and SPOG should be abolished The Myth of the Lynchpin Officer Died in Uvalde With those dear children the myth of the lynchpin officer died in Uvalde By the doctrine of The Thin Blue Line police require broad discretion on use-of-force decisions This is because officers hold the line between order and chaos Improperly restrained and police may fail – in which case something terrible could happen lllllllllllllllllllllllllllllllllllllllllllllllllllllllllllllllllllllllllllllllllllllllllllllllllllllllllllllllllllllllllllllllllllllllllllllllllllllllllllllllllllllllllll A grand jury has been assembled in Denver after police shot six innocent bystanders in a failed attempt to kill a man who’d surrendered lllllllllllllllllllllllllllllllllllllllllllllllllllllllllllllllllllllllllllllllllllllllllllllllllllllllllllllllllllllllllllllllllllllllllllllllllllllllllllllllllllllllllll The Thin Blue Line has come to represent a distinct ideology widely adopted by police throughout the US This is clearly an extremist ideology though its simple propositions guide the organization training and professional conduct of law enforcement organizations nationwide This is a problem that requires immediate attention and forceful action Because police officers employed to protect and serve it turns out conduct themselves quite differently than officers employed as lynchpins against \"chaos\" The defund slogan got as far as it did let’s be honest because it doesn’t appear that our standing army of lynchpin officers is willing to stand under a banner of service through sacrifice – at least not by any standard view of what sacrifice might entail We expect police to accept risk on our behalf that’s the job I think we all agree on that at face value Yet through aggressive union representation and by the blessing of an apparently drunken judiciary police have foisted the dangers of policing onto the public to the point that the most obvious sacrifice involved with the vocation is carrying the emotional costs of committing horrific acts of violence Prolific cop trainer “Killology” author and blue line devotee Dave Grossman speaks to this directly The following quotes Grossman in a video titled “The Police Trainer Who Teaches Cops to Kill | The New Yorker” which is available on youtube “Are you emotionally spiritually psychologically prepared to snuff out a human life in defense of innocent lives If you can’t make that decision you need to find another job…Do you understand you could be sued for not shooting Stand there and do nothing while people are murdered what do they call that Cowardice malfeasance dereliction of duty…Don’t be afraid to get sued everybody gets sued just a chance for overtime Be afraid of being sued successfully” I didn’t have to go cherry picking for that quote or misrepresent the context to cast a shadow over policing – it was plainly said The blue line ideology is literally reducible to “shoot first ask questions later” without a hint of dishonesty or bad faith And the further you dig into the source of that quote or the culture he’s informed the more obvious it becomes that the decision to shoot 6 innocent bystanders in Denver was made in a classroom In this classroom pupils were taught to recognize split second decision making as cause to shoot - which is far different than training to make the right split second decision and then fostering a culture that enforces expectations of accuracy Nonetheless it will likely be decried as cherry picking to suggest that the argument for restricting police use of force is six times stronger than arguments in favor of officer discretion given what happened in Denver But that strength differential is not for the simple fact that Denver police shot six innocent people in a failed attempt to kill a man who’d surrendered No it’s because police authorities in Denver like everywhere else in this nation won’t straightaway condemn such acts or the mindset and training that delivered such results – because they’re blue line extremists willing to trade the well being of 6 innocent bystanders for phantoms of faith A simple value proposition The blue line proposes to maximize public safety through the surgical application of necessary violence A police force that worships of violence of action is a bargain for public safety the faith maintains so beneficial that its value is not diminished by distasteful appearances Like when police training materials in Louisiana were found to quote Hitler more than any other source for instance Because public safety is maximized when police are endowed with broad discretion on use-of-force decisions – as the many units of “chaos” held back by police violence effectively offsets the public safety costs of six innocent bystanders being shot for example It’s our fault I suppose for not demanding that these phantom public safety gains be demonstrated more clearly Because clearly a thousand people shot dead by police each year nationwide is too high a bar And that’s not to mention all those unnecessarily brutalized harassed or disrespected in nonlethal police encounters Given that policing isn’t in fact particularly dangerous it seems wise to ask: for whom is blue line policing a bargain A popular counterpoint to this anti-police rhetoric is that only a small percentage of police encounters become violent Therefore it’s held claims of rampant police violence are unfounded But if this is true then shouldn’t we also recognize that by the numbers which are overwhelmingly clear policing causes far more physical harm to innocent citizens than to police officers themselves and that the greatest threat to officer safety is their culture of impunity And that therefore the flagship content of blue line ideology is propagandist fiction I mean the majority of police deaths are traffic related which is probably not unrelated to the fact that so many police refuse to buckle up – though they’ll write you a ticket for doing the same Similarly the 55% spike in police deaths from 2020 to 2021 is attributable to COVID related deaths which is probably not unrelated to the fact that so many police refused to wear masks – even when mandated by laws they enforced against others It shouldn’t be controversial to recognize that by the numbers the value propositions of the blue line simply do not add up A derelict judiciary But what about the fact that so many police killings a clear majority are ruled “justified” That kind of shoots a hole in the reasoning above doesn’t it No – twist – actually it doesn’t Instead it’s simply a testament to how extreme policing has been allowed to become This is thanks to the persistent and growing dereliction of our judiciary Blue line extremism grew into what it is today in the shadow of a series of absurd legal delusions Without such cover the blue line would have surely been cleansed by the light of day Qualified immunity The “court created doctrine” of qualified immunity is likely the most notorious legal delusion of them all This doctrine holds that police are immune from civil liability except where it can be shown that an officer has violated an individual’s “clearly established rights” While lay people such as myself widely regard our first and fourth amendment rights as pretty fucking clearly established that is not how this works The test for whether or not an officer has violated clearly established rights comes down to whether or not the officer “reasonably” knew their actions would violate an individual’s rights In Texas in 2020 the US Fifth Circuit Court of Appeals ruled that it wasn’t reasonable to expect a corrections officer to understand that an unprovoked pepper spray attack against an inmate would violate his rights because the case cited by the plaintiff to demonstrate a clearly established right concerned prison guards beating and tasing inmates – not pepper spraying them In essence qualified immunity invokes the irrelevant to practically guarantee officers freedom from civil liability and it turns the concept of reasonableness into a brazen display of unlikely ignorance And better still since it was ruled that unprovoked pepper spray attacks against inmates warrant qualified immunity the right to be free from such attacks by demented prison guards has become clearly unestablished GrahamVConnor - 1989 A similar perversion of reasonableness is found in the 1989 supreme court ruling GrahamVConnor The court confirmed in Graham that excessive force claims against police should be evaluated with respect to the “objective reasonableness” standard of the 4th Amendment This test considers the severity of the suspect’s alleged crime the threat level posed by the suspect and whether or not the suspect is resisting or evading But and here’s the kicker those factors must be considered with respect for the fact that officers may be compelled to engage in split second decision making and “from the perspective of a reasonable officer on the scene rather than with the 20 20 vision of hindsight\" So in practice the “objective” reasonableness test dictated in Graham boils down to asking officers accused of excessive force whether or not they’re guilty Because what cop would testify to perceptions that would cast their use of force in an “unreasonable” light The result of this standard is that trigger-happy rambo cops have become the template for what passes as a “reasonable officer” A special bill of rights and police unions Finally we have the “Officer’s Bill of Rights” and the contractual legal favors achieved by police union negotiations These vary from state to state and from one police department to the next but in either case they often afford police due process rights beyond those available to ordinary citizens accused of crimes Police unions argue that these are necessary to protect police from overzealous prosecutors and internal affairs But it’s far easier to find hundreds of examples of these protecting police from warranted accountability – see Freddy Gray for example – than it is to find even a single case of a police officer being victimized by a bad faith prosecution Police are rarely charged much less prosecuted for abuses that are clearly unreasonable and unjustified by any standard definition of those terms Furthermore special favors written into the law strike against the legitimacy of our entire legal system given that legal authority in the US uniquely depends on the rule of law which basically holds that the law should be enforced equally against all according to the internet The Thin Blue Line is an extremist totem that should be abolished without a second thought US police are now firmly established at the intersection of Derelict Judiciary and Blue Line Extremism which I hope I’ve shown is a real and distinct ideological force inside our police departments At this place in policing officers can proudly provide perimeter security for a terrorist as he murders children while beating up any parent who tries to intervene or they can bravely unleash a hail of gunfire into a crowd on a Sunday night There appears to be no limit to this absurdity really as the aforementioned examples were not enough to compel forceful change The faith maintains against distasteful appearances And the police stand ready to beat back any forceful objection We marched for change in 2020 and the police beat us then We would have held them accountable for that but in Seattle they covered their badge numbers with a blue line The chief a snake assured us that this had nothing to do with individual officers avoiding accountability for the skulls they cracked during Seattle’s infamous Summer of Love and everything to do with honoring fallen officers Though apostates contend that with that blue line over their badge Seattle police shamelessly exploited the death of officers unaffiliated with the department to evade accountability while it simply abused the community – for no other obvious reason than to retain its impunity Because police in Seattle didn’t beat up too many rioters as any FOX News report from that time will confirm but they did consistently target press protest medics and constitutionally protected protesters So as the mythical lynchpin carries on past Uvalde like some kind of headless chicken I hope we can finally recognize the ability to reinforce as the true foundation of robust public safety We don’t need rambo cops if we have officers who view sacrifice as more of a willingness to face mortal danger and risk dying than a capacity for violence and risk killing unnecessarily With brave cops restrained from preemptive violence and backed by sophisticated reinforcement capabilities – which as it happens we already have – there’s no threat we cannot overcome There’s just one component missingbut SPOG stands in our way\n",
      "-------\n",
      "\n",
      "SPD should be barred from displaying Thin Blue Line symbols and SPOG should be abolished The Myth of the Lynchpin Officer Died in Uvalde With those dear children the myth of the lynchpin officer died in Uvalde By the doctrine of The Thin Blue Line police require broad discretion on use-of-force decisions This is because officers hold the line between order and chaos Improperly restrained and police may fail – in which case something terrible could happen \\----------------------------------------------------------------------------------------------------------------------------------------------------- A grand jury has been assembled in Denver after police shot six innocent bystanders in a failed attempt to kill a man who’d surrendered \\----------------------------------------------------------------------------------------------------------------------------------------------------- The Thin Blue Line has come to represent a distinct ideology widely adopted by police throughout the US This is clearly an extremist ideology hiding in plain sight though its simple propositions guide the organization training and professional conduct of law enforcement organizations nationwide This is a problem that requires immediate attention and forceful action Because police officers employed to protect and serve it turns out conduct themselves quite differently than officers employed as lynchpins against \"chaos\" The defund slogan got as far as it did let’s be honest because it doesn’t appear that our standing army of lynchpin officers is willing to stand under a banner of service through sacrifice – at least not by any standard view of what sacrifice might entail We expect police to accept risk on our behalf that’s the job I think we all agree on that at face value Yet through aggressive union representation and by the blessing of an apparently drunken judiciary police have foisted the dangers of policing onto the public to the point that the most obvious sacrifice involved with the vocation is carrying the emotional costs of committing horrific acts of violence Prolific cop trainer “Killology” author and blue line devotee Dave Grossman speaks to this directly The following quotes Grossman in a video titled “The Police Trainer Who Teaches Cops to Kill | The New Yorker” which is available on youtube “Are you emotionally spiritually psychologically prepared to snuff out a human life in defense of innocent lives If you can’t make that decision you need to find another job…Do you understand you could be sued for not shooting Stand there and do nothing while people are murdered what do they call that Cowardice malfeasance dereliction of duty…Don’t be afraid to get sued everybody gets sued just a chance for overtime Be afraid of being sued successfully” I didn’t have to go cherry picking for that quote or misrepresent the context to cast a shadow over policing – it was plainly said The blue line ideology is literally reducible to “shoot first ask questions later” without a hint of dishonesty or bad faith And the further you dig into the source of that quote or the culture he’s informed the more obvious it becomes that the decision to shoot 6 innocent bystanders in Denver was made in a classroom In this classroom pupils were taught to recognize split second decision making as cause to shoot - which is far different than training to make the right split second decision and then fostering a culture that enforces expectations of accuracy Nonetheless it will likely be decried as cherry picking to suggest that the argument for restricting police use of force is six times stronger than arguments in favor of officer discretion given what happened in Denver But that strength differential is not for the simple fact that Denver police shot six innocent people in a failed attempt to kill a man who’d surrendered No it’s because police authorities in Denver like everywhere else in this nation won’t straightaway condemn such acts or the mindset and training that delivered such results – because they’re blue line extremists willing to trade the well being of 6 innocent bystanders for phantoms of faith A simple value proposition The blue line proposes to maximize public safety through the surgical application of necessary violence A police force that worships of violence of action is a bargain for public safety the faith maintains so beneficial that its value is not diminished by distasteful appearances Like when police training materials in Louisiana were found to quote Hitler more than any other source for instance Because public safety is maximized when police are endowed with broad discretion on use-of-force decisions – as the many units of “chaos” held back by police violence effectively offsets the public safety costs of six innocent bystanders being shot for example It’s our fault I suppose for not demanding that these phantom public safety gains be demonstrated more clearly Because clearly a thousand people shot dead by police each year nationwide is too high a bar And that’s not to mention all those unnecessarily brutalized harassed or disrespected in nonlethal police encounters Given that policing isn’t in fact particularly dangerous it seems wise to ask: for whom is blue line policing a bargain A popular counterpoint to this anti-police rhetoric is that only a small percentage of police encounters become violent Therefore it’s held claims of rampant police violence are unfounded But if this is true then shouldn’t we also recognize that by the numbers which are overwhelmingly clear policing causes far more physical harm to innocent citizens than to police officers themselves and that the greatest threat to officer safety is their culture of impunity And that therefore the flagship content of blue line ideology is propagandist fiction I mean the majority of police deaths are traffic related which is probably not unrelated to the fact that so many police refuse to buckle up – though they’ll write you a ticket for doing the same Similarly the 55% spike in police deaths from 2020 to 2021 is attributable to COVID related deaths which is probably not unrelated to the fact that so many police refused to wear masks – even when mandated by laws they enforced against others It shouldn’t be controversial to recognize that by the numbers the value propositions of the blue line simply do not add up A derelict judiciary But what about the fact that so many police killings a clear majority are ruled “justified” That kind of shoots a hole in the reasoning above doesn’t it No – twist – actually it doesn’t Instead it’s simply a testament to how extreme policing has been allowed to become This is thanks to the persistent and growing dereliction of our judiciary Blue line extremism grew into what it is today in the shadow of a series of absurd legal delusions Without such cover the blue line would have surely been cleansed by the light of day Qualified immunity The “court created doctrine” of qualified immunity is likely the most notorious legal delusion of them all This doctrine holds that police are immune from civil liability except where it can be shown that an officer has violated an individual’s “clearly established rights” While lay people such as myself widely regard our first and fourth amendment rights as pretty fucking clearly established that is not how this works The test for whether or not an officer has violated clearly established rights comes down to whether or not the officer “reasonably” knew their actions would violate an individual’s rights In Texas in 2020 the US Fifth Circuit Court of Appeals ruled that it wasn’t reasonable to expect a corrections officer to understand that an unprovoked pepper spray attack against an inmate would violate his rights because the case cited by the plaintiff to demonstrate a clearly established right concerned prison guards beating and tasing inmates – not pepper spraying them In essence qualified immunity invokes the irrelevant to practically guarantee officers freedom from civil liability and it turns the concept of reasonableness into a brazen display of unlikely ignorance And better still since it was ruled that unprovoked pepper spray attacks against inmates warrant qualified immunity the right to be free from such attacks by demented prison guards has become clearly unestablished GrahamVConnor - 1989 A similar perversion of reasonableness is found in the 1989 supreme court ruling GrahamVConnor The court confirmed in Graham that excessive force claims against police should be evaluated with respect to the “objective reasonableness” standard of the 4th Amendment This test considers the severity of the suspect’s alleged crime the threat level posed by the suspect and whether or not the suspect is resisting or evading But and here’s the kicker those factors must be considered with respect for the fact that officers may be compelled to engage in split second decision making and “from the perspective of a reasonable officer on the scene rather than with the 20 20 vision of hindsight\" So in practice the “objective” reasonableness test dictated in Graham boils down to asking officers accused of excessive force whether or not they’re guilty Because what cop would testify to perceptions that would cast their use of force in an “unreasonable” light The result of this standard is that trigger-happy rambo cops have become the template for what passes as a “reasonable officer” A special bill of rights and police unions Finally we have the “Officer’s Bill of Rights” and the contractual legal favors achieved by police union negotiations These vary from state to state and from one police department to the next but in either case they often afford police due process rights beyond those available to ordinary citizens accused of crimes Police unions argue that these are necessary to protect police from overzealous prosecutors and internal affairs But it’s far easier to find hundreds of examples of these protecting police from warranted accountability – see Freddy Gray for example – than it is to find even a single case of a police officer being victimized by a bad faith prosecution Police are rarely charged much less prosecuted for abuses that are clearly unreasonable and unjustified by any standard definition of those terms Furthermore special favors written into the law strike against the legitimacy of our entire legal system given that legal authority in the US uniquely depends on the rule of law which basically holds that the law should be enforced equally against all according to the internet The Thin Blue Line is an extremist totem that perverts the nature of sacrifice and the concepts of reasonableness and justification to undermine public trust in police US police are now firmly established at the intersection of Derelict Judiciary and Blue Line Extremism which I hope I’ve shown is a real and distinct ideological force inside our police departments At this place in policing officers can proudly provide perimeter security for a terrorist as he murders children while beating up any parent who tries to intervene or they can bravely unleash a hail of gunfire into a crowd on a Sunday night There appears to be no limits to this absurdity really as the aforementioned examples were not enough to compel a forceful change The faith maintains against distasteful appearances And the police stand ready to beat back any forceful objection We marched for change in 2020 and the police beat us then We would have held them accountable for that but in Seattle they covered their badge numbers with a blue line The chief a snake assured us that this had nothing to do with individual officers avoiding accountability for the skulls they cracked during Seattle’s infamous Summer of Love and everything to do with honoring fallen officers Though apostates contend that with that blue line over their badge Seattle police shamelessly exploited the death of officers unaffiliated with the department to evade accountability while it simply abused the community – for no other obvious reason than to retain its impunity Because police in Seattle didn’t beat up too many rioters as any FOX News report from that time will confirm but they did consistently target press protest medics and constitutionally protected protesters So as the mythical lynchpin carries on past Uvalde like some kind of headless chicken I hope we can finally recognize the ability to reinforce as the true foundation of robust public safety We don’t need rambo cops if we have officers who view sacrifice as more of a willingness to face mortal danger and risk dying than a capacity for violence and risk killing unnecessarily With brave cops restrained from preemptive violence and backed by sophisticated reinforcement capabilities – which as it happens we already have – there’s no threat we cannot overcome There’s just one component missingyet SPOG stands in our way\n",
      "-------\n",
      "\n",
      "I sent my Seattle School Board director an email about the strike and negotiations and this morning she called and we talked for an hour Here are my notes Last night I sent an email to my Seattle School Board Director Chandra Hampson - SPS district 3 via her seattleschoolscom email address sharing my thoughts about the strike and union demands and asking that the board won't file an injunction against the striking teachers I was surprised this morning when Chandra called me directly and offered to discuss all my concerns What an amazing opportunity Luckily I was at my desk and ready to take notes She has time for calling one constituent each day and I was fortunate enough to be free at the time when she did call and had already written out a lot of questions and thoughts because of the ongoing strike We had an hour-long discussion and I asked about the strike the teacher demands the comprehensive school board plan details listed on the district website etc Hampson was super focused to get me answers and I'm thankful for her time Below are my notes from the conversation and I tried to leave out my own commentary or editorializing and focus on her responses until the very end Hampson has 3 kids in the Seattle public schools 2 of them have 504s in place and they went to Sandpoint Elementary As a parent she is also dealing with her kids being out of school due to the negotiations and strike She has been in the role of teacher parent and now elected to the Seattle School Board Hampson wanted to clarify a couple things about roles and responsibilities of the different groups involved As a parent I was also quite confused about what the focus and role are of the School Board and the district compared to the teacher's union and how each side is involved in the ongoing contract negotiations Before diving in - Hampson shared the Lighthouse study on school boards results of which are driving how school boards are being structured around the country It's the largest study on school board performance and is guiding our current board's methods for their own structures and policies: A school board director job is entirely about governance not customer support meaning: they are responsible with setting the direction of the schooling curriculum decisions guidance towards classroom and school best practices and ensuring that schools have resources available to execute on planned changes In the context of the inclusivity model more on that later Hampson clarified the School Board's job is to provide the direction and the goals for the inclusion clarify what is required at federal state levels and what is not permitted by law The director position is not like other elected officials because the school board is elected to represent the students first and foremost and the community in which they live It is \"the worst elected job\" because of how thankless their efforts are but also how impactful the decisions become Hampson was very clear that the board \"doesn't represent teachers or parents but instead represents the entire community when making decisions\" They have to think of what's best for the entire community in Seattle not one specific interest group or demographic Because the directors are so focused on governance they do not have time for \"customer support\" They do often help connect parents with resources or help solve problems at specific schools in their coverage They're full-time focus however is governance and decision making Some tactical changes are being made to address the problems around customer service Right now the board has hired a consultancy to perform a full communications audit of the district to try and figure out where and how they can improve communications internal and external and it's up to the superintendent to get the district staff to provide all the data and information Additionally the board is aware that they need to create a high-value customer service department to handle the myriad problems parents face when trying to navigate district policies and processes The community needs to understand that the only non-district entity involved is the SEA teachers union - by definition the union is created to advocate for teachers and teacher negotiation but the district and board are created to support the students and drive student success This may seem like semantics but it's a very clear distinction that the SEA union is an external entity that is hired to do a job much like an attorney is when representing clients The union will use every tactic to get what they need for their members because that is their primary purpose for which they are hired even if it isn't best for the students They will use spin and stalling tactics and others to get the agreed-upon list of demands The union is looking at teacher advocacy not student success The difference can seem subtle at first glance Now to a primary sticking point of the ongoing strike and negotiations: data and real-world experiences in other districts and states show that an inclusion model will get us out of being stuck with the problems the schools face when dumping money and resources into SEL multilingual and special ed but not getting results or pushing the needle Last year the existing model used in Seattle schools poured $120M in addition to all the state funding but the results were abysmal Everyone across the board including teachers staff admins all believe that the goals and results of a properly-executed inclusivity program at the district level is not only achievable but is the right path to follow It's clear that the 1:1 model of assignment for SEL does not produce the desired or federally mandated results and it just segregates students often along demographic lines that are historically underperforming The board believes that if we don't start with the inclusion mechanisms this year we may never catch up to the goals set by law In response to the need for the inclusivity model the SEA teachers union created a task force to come up with a plan on how to rollout and execute in the schools and to determine which resource would be needed The board is 100% behind the task force's plan toward inclusion and also getting the staff the resources they need to implement it To support the plan the School Board determined that no changes to staffing ratios will happen in the 2022 23 school year and instead the year should be used for onboarding teachers and admins support training and build out curricular resources for inclusion For this first year the School Board is asking for a 1-year contract The plan will take 5-10 years to unwind and rebuild for full implementation and it's clear that things will be more expensive at first before efficiencies materialize to decrease cost over a few years and to achieve all the expected student results The board is trying to update and modernize the practices of the district because it's clear that many students are not getting the experience and opportunities they need I asked Hampson what the role of a director is in the current strike She believes that the board and district didn't do enough to inform teachers and parents during the pandemic that this large uplift is coming For that reason and others there is a real trust gap and also a belief gap - people don't believe that the school board is reformed in their direction and their commitment to the schools and teachers The school board is primarily responsible for the belief gap The last superintendent put out communications that weren't true but the new board and district staff are committed to be ing extremely fact-based The superintendent has been directed to focus solely on student issues As a director Hampson is staying focused on the specific goals set for the district - things that must be done or are not allowed The board is keeping students at the center of their focus Sometimes that means asking tough questions like \"can we afford this\" Right now the SEA union is asking for $500M but the planned investment in school resources is already greater than what we currently spend No one is saying \"screw the inclusion thing\" and everyone agrees with the goals however there is disagreement on how to get there The current board cannot agree to things that will result in a deficit for the next board Okay so what's the plan to get teachers and parents onboarded Hampson has many points on what the board is doing to get us from here to there First is addressing the big trust gap with the community The first year of implementation is meant to be an onboarding time to work on aligning everyone on the process and goals hence the board asking for a 1-year contract The district will add additional staff and provide training opportunities for teachers admins and staff on how to handle the transition to the inclusivity model Not every classroom will become an inclusion classroom The board is also reminding everyone that change is hard especially transitioning from Seattle \"talking progressively\" about education and inclusivity to switching into execution mode and making actual changes that implement the goals Many other tactical changes are happening We have a brand new superintendent that is an expert in governance The superintendent job is not like school-administration but rather has to be someone who is an expert in governance this encompasses an entirely different skill set than a former principle or school administrator This is the first time that a superintendent is hired for that particular skill set and we haven't yet had the time to see what exactly that means at the scale of SPS because of his short tenure thus far The board is also asking the state and colleges to mandate teacher and administrator inclusivity and special ed training for all teachers graduating to work in our districts It's not currently required and has created a huge deficit in teacher abilities in working with inclusion classrooms The district is also buying curriculum for the first time What that means is teachers will have curriculum that is uniform across the district pre-made for them to use and they will be able to train on the curriculum to avoid surprises or having to fall back to previous year's plans The curricular support is aimed to reduce teacher burden so they can focus on classroom time more and student interaction and not the overhead of building out curriculum Individual plans do not scale to a system as large as SPS and having uniformity makes for easier teacher onboarding and long-term success My parting thoughts: I'm really thankful that I had the chance for a real discussion with a board member It's not often that we can hear directly from decision makers and get responses to our questions without a news source or press release as an intermediary It gives me validation that there are real people doing the hard work in those jobs As a parent Hampson knows what it's like working with the district and going through the 504 and IEP process with her own children and she knows the pains we feel watching these bureaucratic processes take place Our feelings as parents and community members right now are very real and the frustration is felt from all sides I got the impression that Hampson and the school board are genuinely invested in the success and future of Seattle schools students and the community I hope that we can all come together and collaborate for the sake of our students and for Seattle The board's comprehensive plan is available on the schools website along with the current negotiation details Here are some other resources that Hampson shared for reading on inclusion and school board data: The Lighthouse study article: Summary blog post of what is at stake in the current negotiation: \n",
      "-------\n",
      "\n",
      "Ren Faire Trip Report- Aug 14 Thought I would post a little about our experience at the Ren Faire this past Sunday the 14th A little about our party 3 adults and a 4 year old none of us had ever been to a Ren Faire Like a lot of people I’m sure we woke up Sunday morning to u OK-Worth-9525 ‘s post about avoiding the Ren Faire I read through all the reddit comments and the Google reviews and decided on some changes One packed more water than previously planned Two I packed a great load of snacks for the four year old and finally three we were leaving extra early Packing List: Water six bottles and a large yeti Sunscreen Hats for everyone Snacks for the four year old Walking sneakers Umbrellas not aesthetic but great for shade Cash iPad We arrived in Bonney Lake at 915 and parking was well directed and unremarkable we were out of the car by 920 There were portapotties in the lot so we made use and then wandered up to the gate It was a bit chaotic but there was a man yelling directions so we paused to hear them There was only one line- everyone had to go up to the cashiers to either purchase tickets or have prepurchased tickets validated and receive a stamp The line moved fast once they opened around 945 and we were in by 10:10 Maps menus and the event schedule were posted by QR code all over the place and each venue had its schedule posted out front BUT the data that day was not working at all We could SMS text or call but data was not happening which was annoying but not the event’s fault We had made a must-see list Saturday night off the website and one of our group had the foresight to screenshot the map so we were able to navigate fine before we got our bearings Some of the things we saw were in the same venue others were elsewhere so a lot of our vendor shopping happened as we moved between venues 1015 We stopped by the Sweden tent to put in our RSVP for the Princess Tea Ages 12 and under We overheard one of the staff comment that they were already 11 15 for spots so we were glad we went there first 1030 Raptor Events- This was educational and well presented Love a birb 1100 First Joust- Fun The first joust of the day was all tests of skill Each section cheered for a different knight and the section leaders were great Four thought it was boring  I know so we split from the others before the end for her to have her face painted She really really liked this It was totally smeared off by the end of the day but her joy made it worth the 25$ 1200 Lunch- It was SUPER busy in the lunch area this was kind of where the umbrella came in most handy to create portable shade while you’re standing waiting Seating was tough to find- there was a LOT but table turnover wasn’t really happening so we sat on the ground in the shade Vegetarian options were a bit thin and almost all the food was hot which was rough Expensive too but of course that’s no surprise for faire food Four ordered a plain hamburger and ate only the top bun and the fries The King of Spain came and performed quite a funny burlesque show for the eating crowd 100 Cydshow Cy the Sword Swallower- This was by far the most anticipated thing for Four and she loved it It’s not for the squeamish like myself one our group members split to peruse the vendors 130 Mermaid and Fairy Glen- Four was absolutely entranced by the mermaid and had a lot of fun interacting with the fairies She really enjoyed the bubbles too There was a colouring space but every single sheet was completely coloured which was a bummer 200 Princess Tea- Back at the Sweden tent we adults lounged around in the shade while the 15 kids sat round a table for tea lemonade and cupcakes Each kid got a gold paper crown and a little pinned badge with a unicorn Princess Cecilia served the drinks while her sister told the table a story about her unicorn She was really lovely clearly had a lot of experience with kids Once the meal was finished everyone got to go and pet the bunnies and feed the miniature ponies 300 Storytime with the Wytchwood Players- this was my favourite thing The lady told a wide variety of stories her voice carried magnificently and she was really engaging She also introduced a \\~10 year old girl and explained she’s still learning and would be telling us the story of how Thor got his hammer All the adults paid rapt attention she was soooo nervous it was super sweet 330 IPad time- Four was flagging hard at this point and becoming quite wiggly We were staying in the nice cool tent for the puppet show at 400 so I whipped out the iPad and loaded up a movie We attracted two more kids to the ipad which gave all us parents a chance to rest and chill Our other two adults ventured into the afternoon heat to bring back snow cones and a strawberry lemonade both of which received huge thumbs up from Four 400 Puppet Show- This was fun and very British which was enjoyed by all 445 Sirena- We split the group for the other two adults to go see the final joust at 500 since Four didn’t enjoy the morning joust Four wanted to hear music so we walked over to the village square to see Sirena I thought these ladies were awesome I loved their coordinated dancing and singing and drumming and the vibe was ethereal and spooky Four did not love it so we left to walk over to the jousting area to see if we could meet up with the others 500 Final Joust- We were late to the joust and it was the last of the day so it was a solid wall of people all the way around the ring Four and I found a spot in the shade to wait until it was over The other adults report that they sat front row on the ground and had a great view in the shade This joust actually involved the competitors riding at each other The cheering was exciting and I could sort of see from my spot The event ended about 530 and it seemed like most folks headed for the gates 545 Dinner- I walked over alone to see about scrounging up dinner and bringing it back to the group This was Sunday and obviously almost closing time a LOT of places were out of food particularly anything vegetarian Returned empty handed 600 Equestrian Chaos- Ladies on horseback doing trick archery shots The other two liked this I kind of thought it was just OK Four had absolutely had it and spent the entire time lying on the bleachers flopping around She got to pet one of the horses at the end which perked her up 645 Headed Home- Carried Four back to the car and we all used the toilet a final time It took us sub 10 minutes to get out totally unremarkable Stuff for Next Time: I would bring a small bag for Four She received a tiny trinket from nearly every place we visited and kids LOVE that stuff would be good to have a special place for them I would also love to do more outfit stuff next time the costumes on everyone were awesome I would just keep in mind the following: Linen and cotton ONLY no polyester fabrics Would have been nice to have a more aesthetic hat and a cuter parasol type situation Parent Pointers: This event was super family friendly as I hope you can see from my report LOADS of families of all ages If you have a wagon-style stroller that definitely seemed like the ticket Ground is bumpy so you’ll need all terrain wheels if you bring a push stroller Wish I had packed wet wipes and lysol wipes We found that every event had shade but the trick was arriving 5 minutes early so you could snag a good shady spot Four complained ceaselessly if in the sun longer than 5 minutes so for us hopping between stages made the most sense There are no refillable water stations and the water for sale is 4$ a bottle cash only so pack tons We passed several change table nursing stations that are well marked if you need that Lost Children marker is right by the entrance Medical tent is off the food court Unexpected: Tipping I’ve never been to a Renaissance Faire and every act we saw asked for tips Some even had their Venmo tag You weren’t obligated to but it was quite interesting Final Thoughts: This was super fun and we will go again next year though definitely on a Sunday not a Saturday Arriving early and leaving late appeared to be key for our smooth experience– I see from the FB page that departing in the late afternoon was a shitshow If we hadn’t come in one car I would have attempted to take Four home after the puppet show but she honestly managed really well even beyond her limits and I was very proud of her I was glad we had made a plan the night before and would do so again because I felt like we saw nearly everything we wanted to see TLDR It was fun Arrive early leave late bring sunscreen and extra extra extra water\n",
      "-------\n",
      "\n"
     ]
    }
   ],
   "source": [
    "for entry in sea.loc[sea['word_count'] > 1500, 'text']:\n",
    "    print(entry)\n",
    "    print('-------\\n')"
   ]
  },
  {
   "cell_type": "markdown",
   "id": "8eb434d7-b40b-4f77-8d69-302e66c2748a",
   "metadata": {},
   "source": [
    "The only posts that immediately seem worthwhile dropping from r/Seattle are the City Council Newsletter post (the first entry above) and the post referring to Uvalde police (the second and third post above).\n",
    "\n",
    "The City Council post seems to contain very specialized vocabulary and is lengthy by the nature of the post. These posts also seem regular though, so it would be out of place to drop just this especially lengthy post and not the other posts. Dropping all City Council posts by this person seems a bit excessive, so we will leave the City Council posts in.\n",
    "\n",
    "There are two posts about Uvalde police. They appear to be identical except for some select words and some repeated characters that are used to distinguish the heading and body. I am sure there are more posts that are slightly off from being identical. We cannot remove them all, but since we stumbled upon this pair, we may as well remove one of them."
   ]
  },
  {
   "cell_type": "code",
   "execution_count": 45,
   "id": "f4e60f2d-371a-411a-a0c2-6b18086ac021",
   "metadata": {},
   "outputs": [
    {
     "name": "stdout",
     "output_type": "stream",
     "text": [
      "Int64Index([536, 542], dtype='int64')\n"
     ]
    }
   ],
   "source": [
    "print(sea[sea['text'].str.contains('SPD should be barred from')].index)\n",
    "sea.drop(index = 542, inplace = True)"
   ]
  },
  {
   "cell_type": "code",
   "execution_count": 46,
   "id": "c89adb58-b8f3-454c-9fd6-e0bc6f527848",
   "metadata": {
    "scrolled": true,
    "tags": []
   },
   "outputs": [
    {
     "name": "stdout",
     "output_type": "stream",
     "text": [
      "Using Affordable Housing to get on The Property Ladder in Seattle The median home price in Seattle is now $934K A few years back I decided to settle down and buy a house but I couldn't come up with $200K for a down payment I used a fairly convoluted method to deal with that Someone on the forum asked me to elaborate how and why I did that so I thought I'd make a post When we started dating we were looking at places that were really farther from Seattle than is ideal Even places in Lynnwood were stretching our budget We were in a conundrum where it felt like our only option was having some nightmarish commute from Everett or renting indefinitely When the median home price in Seattle was $449K it was $182K in Las Vegas So we bought a place out there and rented it out Homes were so cheap one of the problems we had was getting financing Not because we couldn't qualify But because the loans were so small the banks didn't want to do them I learned that banks basically won't do loans for a home if the balance is under $100K I know that people think that a 15% year-over-year increase in home prices seems like a lot but Seattle Portland San Francisco Los Angeles are way in the back of the pack when it comes to this stuff For instance Vegas is up 305% in the last year The way that you make money on real estate is really basic: Can you borrow the money at a lower rate than what the property is going up If yes you make money For instance in 2020 you could borrow at 3% So if you invested a million in real estate in Vegas in 2021 you'd be up about $305K today and you would have spent $30000 to borrow the money leaving you a profit of about $275K in 2006 you could borrow at 6% So if you invested a million in real estate in 2006 it was a wash Basically once you paid your property taxes and you paid for maintenance all your profits had disappeared So if you're looking to buy affordable property you might consider looking at areas that are already performing well \"Past performance is not indicative of future results\" But real estate trends tend to move slowly One of the things that helps me sleep better at night is the realization that if you were looking at the right stats in 2005 you could have seen the 2007 Bubble coming and got out before it hit Hint: look at inventory stats Also the money tends to accumulate in a hurry We went from $35K to invest on a $135K house to where we're at now which is that we can afford to live almost anywhere even on modest IT salaries A few months ago we were considering a place for $4m We decided to pass on it and just bought another investment property In a nutshell once you've got $1M under management your investments are making you wealthier than your day job is So it's not like you have to be the CEO of a tech company to accumulate millions once you hit a certain level of wealth it tends to accumulate on it's own If you put $35K into an Everett fixer-upper in 2012 you'd have about half a million today If you did the same trick every other year for ten years you'd be a multi-millionaire Personally I am a big fan of investing in the cities where Californians are flocking to I think you could spend the rest of your life profiting from the exodus from California If you take the states from that infographic and you put their big cities in a spreadsheet I guarantee you that everyone of them is going up double digits in price During yesterday's discussion on the topic a lot of people were saying that \"California isn't shrinking\" I think the thing that people don't realize about California is that for every million people who LEAVE California there's a million who arrive from abroad When I moved from the Seattle area to California literally 75% of my neighbors were from China Korea and India First generation Americans moving to California largely for tech jobs This influx creates a never ending exodus OUT of California I'm on an Internet forum for people who are leaving California and nearly 100% of them are middle class people who have $500K-$1M in equity and are moving to lower COL areas So you can tap that demographic until the end of time if you're willing to be a landlord Obviously you won't be renting to the people leaving California you'll be renting to the people in the cities where Californians are moving to Basically the exodus of Californians is a boon for property owners in the cities where Californians are heading Please do your own research but here's some of mine: Bend Oregon has a median home price of $732K and has gone up 324% in the last year St George UT has a median home price of $535K and has gone up 389% in the last year Spokane has a median home price of $400K and has gone up 276% in the last year Those are just three YMMV but to me the investments that are reliably great are where Californians are headed You could even make a solid argument that Seattle has benefited from decades of Californians bailing and moving here I know this post sounds like some kind of infomercial I have nothing to sell I am just a dude who used to make the Godawful commute to work and I reached a point where I was like \"there's gotta be a better way\" I didn't even get into real estate out of any \"love\" for the industry I was purely looking for a way for my wife and I to afford a house that was reasonably sized and not too far from work We were totally priced out so we invested elsewhere then cashed out once we'd accumulated enough to get what we really wanted in the first place Another \"side benefit\" here is that getting a bunch of loans over time juices your credit score to a ridiculous degree When I first started working in Washington my score was so bad I couldn't even get a credit card\n",
      "-------\n",
      "\n"
     ]
    }
   ],
   "source": [
    "for entry in sea_wa.loc[sea_wa['word_count'] > 1000, 'text']:\n",
    "    print(entry)\n",
    "    print('-------\\n')"
   ]
  },
  {
   "cell_type": "markdown",
   "id": "bbf82f23-a2f8-4cd1-9354-d361a6ba9c98",
   "metadata": {},
   "source": [
    "Nothing about the lengthiest post in r/SeattleWA suggests it needs to be removed. Let us leave it in."
   ]
  },
  {
   "cell_type": "markdown",
   "id": "6b660377-3f6f-4655-b4c1-37511ad50312",
   "metadata": {},
   "source": [
    "Next let us look for posts that are too short to reasonably use."
   ]
  },
  {
   "cell_type": "code",
   "execution_count": 51,
   "id": "4a0d302c-c4a0-4017-8a8a-b67714f6ae63",
   "metadata": {},
   "outputs": [
    {
     "data": {
      "text/plain": [
       "400                      The West Seattle Bridge is OPEN \n",
       "423     What’s with the Fighter jets over south seattl...\n",
       "435               How has Seattle changed over the years \n",
       "757     Anyone recommend a good dental insurance compa...\n",
       "768                               Earthquake  around 1:08\n",
       "805                         Hi All Anyone from Kiingston \n",
       "1292                               Weaponizing your pets \n",
       "1346    Employment discrimination lawyer Any recommend...\n",
       "1422                                Yo Seattle area 🔌 hmu\n",
       "1425            Where’s the best quesadilla in town Title\n",
       "1748                    hey guys I just wanted to say hey\n",
       "1755         How’s the comedy scene here Need some laughs\n",
       "1766    Seattle passes protections for abortion and ge...\n",
       "1775    Best junkyards to pull parts from recommendati...\n",
       "1782                              It’s thunder Move along\n",
       "1838                              It's raining That's all\n",
       "2277                      Somen soba in the city Any recs\n",
       "2337                          stay away from this person \n",
       "Name: text, dtype: object"
      ]
     },
     "execution_count": 51,
     "metadata": {},
     "output_type": "execute_result"
    }
   ],
   "source": [
    "sea.loc[sea['word_count'] < 10, 'text']"
   ]
  },
  {
   "cell_type": "markdown",
   "id": "aa1a6483-82eb-4562-a782-4b6e69c3c651",
   "metadata": {},
   "source": [
    "The only post that obviously should be removed is the empty one at index 1191."
   ]
  },
  {
   "cell_type": "code",
   "execution_count": 47,
   "id": "c9e9b0a8-4946-4e1b-8c2c-4458c8ea37db",
   "metadata": {},
   "outputs": [],
   "source": [
    "sea.drop(index = 1191, inplace = True)"
   ]
  },
  {
   "cell_type": "markdown",
   "id": "9ff68d92-91de-450e-8aa8-d89f99738e17",
   "metadata": {},
   "source": [
    "For r/SeattleWA we can already see a pretty big difference below in the number of posts with fewer than 10 words and their content compared to r/Seattle. No posts here seem to require being dropped. Even the shorter posts convey a fair bit of sentiment.\n",
    "\n",
    "There are:\n",
    "- four posts about shootings (5, 6, 104, 2349)\n",
    "- two posts are about urine (38, 1494) \n",
    "- one Pepe Silvia post - a meme about conspiracy theories (323)\n",
    "- one post about being woke (1594)\n",
    "- several sarcastic or contextually negative posts (235, 322, 430)"
   ]
  },
  {
   "cell_type": "code",
   "execution_count": 521,
   "id": "03377111-8b0a-494a-a142-5b222ab3b730",
   "metadata": {},
   "outputs": [
    {
     "data": {
      "text/plain": [
       "5       Shooting near pioneer square Around 3:30 pm to...\n",
       "6                             Shooting in Pioneer square \n",
       "38             Will piss mania come to seattle Piss mania\n",
       "104                                   Another 1 Shooting \n",
       "110     Who's the most beautiful person you've seen in...\n",
       "142            Inslee ending Covid-19 state of emergency \n",
       "149     What is considered greater Seattle What’s cons...\n",
       "194                            Moderators what did I now \n",
       "235      Yup great minds coming through with the next ...\n",
       "322                                          it's ironic \n",
       "323                                          Pepe Silvia \n",
       "373          Saxophone Anyone down to teach me saxophone \n",
       "389     any ideas what happened here Processing img 83...\n",
       "403     didn't realize they put coloring books on the ...\n",
       "430                                          Bye Felicia \n",
       "607     Any breakfast recommendations on the eastside ...\n",
       "612                    Is this Seattle's signature scent \n",
       "749     Best sunrise spots nearby city Any recommendat...\n",
       "751     Seattle Plugs Anyone near downtown that’s gott...\n",
       "883                    Are dogs allowed on city beaches  \n",
       "896                             remember the SuperSonics \n",
       "924     any 🍃🔌s here recently moved to seattle from ch...\n",
       "948                                 Just trying this out \n",
       "987      ARE THERE ANY PORTUGUESE RESTAURANTS IN SEATTLE \n",
       "1019                         Failed pepper spray attempt \n",
       "1109                         Another state flag redesign \n",
       "1196                               HOW ARE YALL ALIVE HOW\n",
       "1257                           Is it that rough in there \n",
       "1377               Factoria Walmart to close permanently \n",
       "1399    Chicken Parm Hero Need chicken parm Where can get\n",
       "1483                            Updated Stanley Cup Odds \n",
       "1494    Vancouver Arby's manager was peeing in milksha...\n",
       "1534                        Seattle sunrise this morning \n",
       "1594                        Silly Woke Sign Real Meaning \n",
       "1645    Anybody wanna do anything I can’t sleep spanaw...\n",
       "1771    Pale Blue Dot Carl Sagan- inspiration for Eart...\n",
       "1849    \"Share the Cities\" has an idea Processing img ...\n",
       "1921                                        Nude Discord \n",
       "2041                    Bus assistance for PTSD commuter \n",
       "2141    Washington DC’s First-Ever Public-Private Part...\n",
       "2181                                Happy Holi ❤️🧡💛💚🤍🖤💜💙🤎\n",
       "2226     Paying for Nuru massage Message me if interested\n",
       "2322    The \"LEAD\" program has a softer gentler new name \n",
       "2349    Video of Seattle Police Shooting Downtown 3 5 22 \n",
       "2353    Farewell Russell Wilson Traded to Denver Broncos \n",
       "2357    Seattle's \"Premier Political Comic\" has achiev...\n",
       "2384          What's the best pizza in West Seattle Title\n",
       "2412       Music Production School This looks interesting\n",
       "Name: text, dtype: object"
      ]
     },
     "execution_count": 521,
     "metadata": {},
     "output_type": "execute_result"
    }
   ],
   "source": [
    "sea_wa.loc[sea_wa['word_count'] < 10, 'text']"
   ]
  },
  {
   "cell_type": "markdown",
   "id": "a0c901c8-417d-4882-97be-9aab8b52409c",
   "metadata": {},
   "source": [
    "Even when we examine an expanded the list of short posts from r/Seattle, the sentiment still differs from r/SeattleWA."
   ]
  },
  {
   "cell_type": "code",
   "execution_count": 52,
   "id": "2c4acdaa-cc05-4e5d-8ffb-489882595191",
   "metadata": {},
   "outputs": [
    {
     "data": {
      "text/plain": [
       "96      Anyone else currently drunk running from their...\n",
       "140     Recommend a nice sit-down lunch spot in the U ...\n",
       "176     Traffic-geddon 9 23 What the hell happened out...\n",
       "323     Best al pastor tacos in the area And do they u...\n",
       "400                      The West Seattle Bridge is OPEN \n",
       "423     What’s with the Fighter jets over south seattl...\n",
       "435               How has Seattle changed over the years \n",
       "436     Which do you like better Seattle or Vancouver ...\n",
       "507     Can I sell u some cigarettes I ask them 2 for ...\n",
       "538     Anyone have some insight on fun things to do d...\n",
       "623     Boxing Where’s the best bar Pub to watch Boxin...\n",
       "660     'Making good progress on negotiations' Seattle...\n",
       "757     Anyone recommend a good dental insurance compa...\n",
       "768                               Earthquake  around 1:08\n",
       "775     car exploded next to me on i5 Processing video...\n",
       "805                         Hi All Anyone from Kiingston \n",
       "929     Best Breakfast Burrito in Seattle What’s your ...\n",
       "978     Does anyone know why flowers is closed bar and...\n",
       "1016    Best fries in Seattle Where are the best fries...\n",
       "1137    Best Burger Near Downtown I am craving a good ...\n",
       "1261    Does anyone still pay for the light rail Just ...\n",
       "1289    Green Lake Lost Keys 8 23 Please let me know i...\n",
       "1292                               Weaponizing your pets \n",
       "1346    Employment discrimination lawyer Any recommend...\n",
       "1407    Anyone else see the same thing posted over and...\n",
       "1422                                Yo Seattle area 🔌 hmu\n",
       "1425            Where’s the best quesadilla in town Title\n",
       "1460    is it just me or does the air feel rlly muggy ...\n",
       "1461    air is it just me or does the air feel rlly mu...\n",
       "1509    Scotch Bonnet Peppers Does anybody know where ...\n",
       "1588           What bars should I go to in capital hill ^\n",
       "1593    Seattle Luxury Apartments What luxury apartmen...\n",
       "1638    Permanent registration Saw a car today with a ...\n",
       "1700    520 on ramp is now 1 lane Is this permanent Be...\n",
       "1715    Whenever you are in a bad mood Just look at th...\n",
       "1726    Beer Best place to get a beer in Pike Place ma...\n",
       "1748                    hey guys I just wanted to say hey\n",
       "1755         How’s the comedy scene here Need some laughs\n",
       "1763    Where to buy shirt that says “world’s best bf”...\n",
       "1766    Seattle passes protections for abortion and ge...\n",
       "1775    Best junkyards to pull parts from recommendati...\n",
       "1782                              It’s thunder Move along\n",
       "1838                              It's raining That's all\n",
       "1845    Another explosion anyone see anything Herd in ...\n",
       "1945    Best lesser known place to watch Blue Angels W...\n",
       "2016    1 Extra Mariners Ticket for Tomorrow Who’s dow...\n",
       "2032    What in the world is going on Are we getting n...\n",
       "2053    Blue Angels Where’s the best place in Seattle ...\n",
       "2089    Capitol Hill Shooting Did anyone else just hea...\n",
       "2189    Discounted tickets to odesza 7 31 $100 for the...\n",
       "2196    What’s the status of MDMA-assisted therapy in ...\n",
       "2235    Loud boom over Capitol hill CD Was that a10 wa...\n",
       "2270    Anyone know where to find realistic Deadpool c...\n",
       "2277                      Somen soba in the city Any recs\n",
       "2337                          stay away from this person \n",
       "2342    Who wants to be Pokémon Go friends 3198 8870 4584\n",
       "2356    Any recs for a good dentist One that isn’t try...\n",
       "2388    Took care of some local unfinished business in...\n",
       "2450    Are City of Seattle employees at will Or is ju...\n",
       "Name: text, dtype: object"
      ]
     },
     "execution_count": 52,
     "metadata": {},
     "output_type": "execute_result"
    }
   ],
   "source": [
    "sea.loc[sea['word_count'] < 15, 'text']"
   ]
  },
  {
   "cell_type": "markdown",
   "id": "56edcfd5-fe9e-4965-a5ff-f41fce77737b",
   "metadata": {},
   "source": [
    "Even if we are lax about identifying negative posts, the posts in r/Seattle just seem less surly than r/SeattleWA. Below are posts that might be viewed as negative:\n",
    "- explosions or booms (775, 1845, 2235)\n",
    "- weaponizing your pets (1292)\n",
    "- employment discrimination lawyer (1346)\n",
    "- what in the world is going on (2032)\n",
    "- shooting (2089)\n",
    "- stay away from this person (2337)"
   ]
  },
  {
   "cell_type": "markdown",
   "id": "b48623c8-65ca-45c2-aa20-8dee49a00408",
   "metadata": {},
   "source": [
    "#### Basic Visuals"
   ]
  },
  {
   "cell_type": "markdown",
   "id": "cbcd3476-5039-40b3-858b-5a905d3050a9",
   "metadata": {},
   "source": [
    "We saw earlier from boxplots that r/seattle has more posts with very high word counts. Let us compare the distribution of posts with word counts below 1000."
   ]
  },
  {
   "cell_type": "code",
   "execution_count": 56,
   "id": "cf8af1c8-6cf3-4c35-9512-c27cf56ad845",
   "metadata": {},
   "outputs": [
    {
     "data": {
      "image/png": "[encoded data removed]",
      "text/plain": [
       "<Figure size 1152x360 with 2 Axes>"
      ]
     },
     "metadata": {
      "needs_background": "light"
     },
     "output_type": "display_data"
    }
   ],
   "source": [
    "fig, axes = plt.subplots(1,2, figsize = (16,5))\n",
    "\n",
    "sea_sub_1000 = sea[sea['word_count'] < 1000]\n",
    "sea_wa_sub_1000 = sea_wa[sea_wa['word_count'] < 1000]\n",
    "\n",
    "fig.suptitle('Word Count Histograms', size = 25, y = 1.02)\n",
    "sns.histplot(x = sea_sub_1000['word_count'], ax = axes[0])\n",
    "axes[0].set_title('r/Seattle', size = 20)\n",
    "axes[0].set_xlabel('Word Count', size = 15)\n",
    "axes[0].set_xlim(-50, 1000)\n",
    "axes[0].set_ylim(-0, 300)\n",
    "\n",
    "sns.histplot(x = sea_wa_sub_1000['word_count'], ax = axes[1])\n",
    "axes[1].set_title('r/SeattleWA', size = 20)\n",
    "axes[1].set_xlabel('Word Count', size = 15)\n",
    "axes[1].set_xlim(-50, 1000)\n",
    "axes[1].set_ylim(-0, 300);"
   ]
  },
  {
   "cell_type": "markdown",
   "id": "c0e1eb24-62a6-4da9-a3cc-56d8f7eebd1c",
   "metadata": {},
   "source": [
    "The histogram shapes are nearly identical between the two subreddits. There may be slightly less volume on the left side of the r/SeattleWA histogram, but it is hard to say.\n",
    "\n",
    "Next we look at the distributions of sentiment scores."
   ]
  },
  {
   "cell_type": "code",
   "execution_count": 524,
   "id": "b2328fa8-2a07-437c-9e51-4c7efa463627",
   "metadata": {},
   "outputs": [
    {
     "data": {
      "image/png": "[encoded data removed]",
      "text/plain": [
       "<Figure size 1152x864 with 6 Axes>"
      ]
     },
     "metadata": {
      "needs_background": "light"
     },
     "output_type": "display_data"
    }
   ],
   "source": [
    "#from matplotlib.lines import Line2D\n",
    "\n",
    "fig, axes = plt.subplots(3,2, figsize = (16,12))\n",
    "\n",
    "fig.suptitle('Histograms of Compound, Positive, Negative Sentiment Scores', size = 25, y = 0.97)\n",
    "\n",
    "#---------------------------\n",
    "# r/Seattle sentiment scores\n",
    "#---------------------------\n",
    "sns.histplot(x = sea['sent_compound'], ax = axes[0,0])\n",
    "axes[0,0].set_title('r/Seattle', size = 25)\n",
    "axes[0,0].set_xlabel('', size = 15)\n",
    "axes[0,0].set_ylabel('Compound', size = 25)\n",
    "axes[0,0].set_ylim(0, 675)\n",
    "\n",
    "sns.histplot(x = sea['sent_pos'], ax = axes[1,0])\n",
    "#axes[1,0].set_title('Positive', size = 20)\n",
    "axes[1,0].set_xlabel('', size = 15)\n",
    "axes[1,0].set_ylabel('Positive', size = 25)\n",
    "axes[1,0].set_xlim(-0.025, 0.7)\n",
    "axes[1,0].set_ylim(0, 450)\n",
    "\n",
    "sns.histplot(x = sea['sent_neg'], ax = axes[2,0])\n",
    "#axes[2,0].set_title('Negative', size = 20)\n",
    "axes[2,0].set_xlabel('', size = 15)\n",
    "axes[2,0].set_ylabel('Negative', size = 25)\n",
    "axes[2,0].set_xlim(-0.01, 0.4)\n",
    "axes[2,0].set_ylim(0, 1100)\n",
    "\n",
    "\n",
    "#-------------------------------\n",
    "# # r/SeattleWA sentiment scores\n",
    "#-------------------------------\n",
    "sns.histplot(x = sea_wa['sent_compound'], ax = axes[0,1], color = 'green')\n",
    "axes[0,1].set_title('r/SeattleWA', size = 25)\n",
    "axes[0,1].set_xlabel('', size = 15)\n",
    "axes[0,1].set_ylabel('', size = 15)\n",
    "axes[0,1].set_ylim(0, 675)\n",
    "\n",
    "sns.histplot(x = sea_wa['sent_pos'], ax = axes[1,1], color = 'green')\n",
    "#axes[1,1].set_title('r/Seattle', size = 20)\n",
    "axes[1,1].set_xlabel('', size = 15)\n",
    "axes[1,1].set_ylabel('', size = 15)\n",
    "axes[1,1].set_xlim(-0.025, 0.7)\n",
    "axes[1,1].set_ylim(0, 450)\n",
    "\n",
    "sns.histplot(x = sea_wa['sent_neg'], ax = axes[2,1], color = 'green')\n",
    "#axes[1,2].set_title('r/Seattle', size = 20)\n",
    "axes[2,1].set_xlabel('', size = 15)\n",
    "axes[2,1].set_ylabel('', size = 15)\n",
    "axes[2,1].set_xlim(-0.01, 0.4)\n",
    "axes[2,1].set_ylim(0, 1100);\n",
    "\n",
    "# custom legend\n",
    "# legend_elements = [Line2D([0], [0], color='tab:blue', lw=4, label='r/Seattle'), \n",
    "#                    Line2D([0], [0], color='tab:green', lw=4, label='r/SeattleWA'),]\n",
    "\n",
    "# legend = axes[2,1].legend(handles = legend_elements, fontsize = 20);"
   ]
  },
  {
   "cell_type": "markdown",
   "id": "36394c0c-9777-49f3-a15f-79eb3b3a3f53",
   "metadata": {},
   "source": [
    "The above plots show that the sentiment scores between r/Seattle and r/SeattleWA look very similar. The most notable differences are:\n",
    "- the highest compound scores appear more frequently in r/Seattle\n",
    "- the lowest positive scores appear more frequently in r/SeattleWA\n",
    "- the higher negative scores appear slightly more frequently in r/SeattleWA\n",
    "\n",
    "The first bullet on compound scores stands out the most and agrees with the first impressions of each subreddit. The second bullet also aligns with our impressions, but the rest of the positive sentiment histograms (outside of the leftmost bar) do not illustrate any differences between the two subreddits. The last bullet is hardly notable at all."
   ]
  },
  {
   "cell_type": "code",
   "execution_count": 529,
   "id": "cee6561c-4af4-4255-b2bd-2ddf7a25fe73",
   "metadata": {},
   "outputs": [],
   "source": [
    "sea.to_csv('datasets/Cleaned_Seattle.csv', index = False)\n",
    "sea_wa.to_csv('datasets/Cleaned_SeattleWA.csv', index = False)"
   ]
  },
  {
   "cell_type": "markdown",
   "id": "ca06329d-0213-45a4-a4b1-82f2c1697add",
   "metadata": {},
   "source": [
    "---\n",
    "\n",
    "## End of document"
   ]
  },
  {
   "cell_type": "code",
   "execution_count": 301,
   "id": "330ebec5-42fe-4823-8ef0-66f9f5b2b975",
   "metadata": {},
   "outputs": [
    {
     "name": "stdout",
     "output_type": "stream",
     "text": [
      "a light rail interact wwyd r seattl thi first board lr ride airport when i walk car sat youngish mental ill woman baggi jean coat larg collect key chain like item midst rambl insult the aura gave someon enjoy parti one point life form self medic sinc consum mental ill i interact start brows phone i ride rail i begin realiz one side convers realli interact she begin say disord derogatori thing question at one point keep talk i said i want piss mom' mouth tri tell passeng i bomb ask i militari ask i want russian air strike i suck dick done coke serious ask question sometim actual question sometim word salad 45 minut without interact respond from time time would shout loudli tri get flinch at one point brought laser tri shine closer got airport escal attempt get attent she follow airport start scream hit object walk way i final trick duck park garag scream knock plastic sign howev clever manuev could escap persist wander ticket found follow tsa line stop board pass have dealt crazi peopl i decid react keep eye use window reflect around link it clear escal behavior closer i leav the time i felt like issu could break seemingli ask i want get mace i doubt would actual abl mace effect so r seattl would do think way prevent situat like occur would attempt move link car full obsess took hold\n",
      "---\n",
      "light rail tap hi stupid question i’v never taken public transport where tap board light rail is tap thank\n",
      "---\n",
      "shuffleboard court not tabl hello seattl my fianc i plan get marri wonder citi we met play shuffleboard - tabl top version old school larg ground court \"stick\" similar court we time special day want find somewher play celebr come empti hand option so anyon know court could play bar\n",
      "---\n",
      "standup paddl board price big factor i’m sure best sub question i figur lot folk stand paddl board right i’v look inflat one can’t decid one $150 rang one $600 rang are expens one realli much better i see lot amazon rate pretti well rel cheap $200 then i see blog recommend costco rei carri $600 i’v look fb marketplac craigslist common scenario someon want $200 isup bought pandem paid $300 compani sell product $150 mayb demand high pandem it’ lower price come anyway i’m look recommend do think shell $600 worth i plan go sound rel calm bay still it’ sound lake kid weigh 200lb togeth\n",
      "---\n"
     ]
    }
   ],
   "source": [
    "for entry in sea.loc[sea['text'].str.contains('board'), 'text'][:4]:\n",
    "    print(entry)\n",
    "    print('---')"
   ]
  },
  {
   "cell_type": "code",
   "execution_count": 60,
   "id": "06e01e8e-69c6-4813-be7b-3c49fbccbc1d",
   "metadata": {},
   "outputs": [],
   "source": [
    "# elements in top 2000 words of one subreddit but not the other\n",
    "sea_only_words_list = list(sea_words_set - set(words_in_common))\n",
    "sea_wa_only_words_list = list(sea_wa_words_set - set(words_in_common))"
   ]
  },
  {
   "cell_type": "code",
   "execution_count": 61,
   "id": "1d67746f-73ea-481f-aac9-400059dca011",
   "metadata": {},
   "outputs": [
    {
     "data": {
      "text/plain": [
       "354"
      ]
     },
     "execution_count": 61,
     "metadata": {},
     "output_type": "execute_result"
    }
   ],
   "source": [
    "len(sea_only_words_list)"
   ]
  },
  {
   "cell_type": "code",
   "execution_count": 62,
   "id": "0b7c4f60-34ae-4770-82d1-995b25e468e2",
   "metadata": {},
   "outputs": [
    {
     "data": {
      "text/plain": [
       "councilmemb    116\n",
       "weekli          47\n",
       "plane           34\n",
       "optim           34\n",
       "donat           33\n",
       "track           33\n",
       "adopt           33\n",
       "roll            33\n",
       "faq             31\n",
       "strike          30\n",
       "ordin           30\n",
       "amend           30\n",
       "zoo             30\n",
       "2023            27\n",
       "stick           27\n",
       "band            26\n",
       "quickli         25\n",
       "recycl          24\n",
       "director        24\n",
       "machin          23\n",
       "simpl           23\n",
       "inflat          23\n",
       "lyft            23\n",
       "built           23\n",
       "wide            23\n",
       "dtype: int64"
      ]
     },
     "execution_count": 62,
     "metadata": {},
     "output_type": "execute_result"
    }
   ],
   "source": [
    "sea_words_top_2k[sea_only_words_list].sort_values(ascending = False).head(25)"
   ]
  },
  {
   "cell_type": "code",
   "execution_count": 63,
   "id": "0ccb2ddb-aa72-4b79-b9a9-c9c7d3f63e97",
   "metadata": {},
   "outputs": [
    {
     "data": {
      "text/plain": [
       "march       39\n",
       "patient     35\n",
       "migrat      31\n",
       "april       29\n",
       "blog        28\n",
       "mandat      28\n",
       "client      26\n",
       "particip    25\n",
       "4th         23\n",
       "closur      22\n",
       "assault     21\n",
       "vegan       21\n",
       "john        21\n",
       "conserv     20\n",
       "judg        20\n",
       "crimin      20\n",
       "tab         19\n",
       "gain        19\n",
       "tv          19\n",
       "discount    19\n",
       "convert     19\n",
       "radio       19\n",
       "shower      19\n",
       "furnitur    19\n",
       "fellow      19\n",
       "dtype: int64"
      ]
     },
     "execution_count": 63,
     "metadata": {},
     "output_type": "execute_result"
    }
   ],
   "source": [
    "sea_wa_words_top_2k[sea_wa_only_words_list].sort_values(ascending = False).head(25)"
   ]
  },
  {
   "cell_type": "markdown",
   "id": "6f2a43f4-1e7c-49fd-bb33-d26a0c958e11",
   "metadata": {},
   "source": [
    "We see councilmemb appear quite a bit in r/Seattle and not appear in r/SeattleWA. This was because there was a Stanford student who would regularly post details about City Council meetings in r/Seattle.\n",
    "\n",
    "Besides that, notable words that appeared in r/Seattle but not r/SeattleWA:\n",
    "- optim\n",
    "- donat\n",
    "- adopt\n",
    "- strike\n",
    "- ordin\n",
    "- amend\n",
    "- recycl\n",
    "- inflat\n",
    "- lyft\n",
    "\n",
    "And notable words that appeared in r/SeattleWA but not r/Seattle:\n",
    "- patient\n",
    "- migrat\n",
    "- mandat\n",
    "- 4th\n",
    "- closur\n",
    "- assault\n",
    "- conserv\n",
    "- judg\n",
    "- crimin\n",
    "- convert\n",
    "\n"
   ]
  },
  {
   "cell_type": "code",
   "execution_count": 246,
   "id": "2d81088b-3d59-4378-b091-006dd7dc1306",
   "metadata": {},
   "outputs": [],
   "source": [
    "sea_only = sea_words_top_2k[sea_only_words_list].sort_values(ascending = False).head(25)\n",
    "sea_wa_only = sea_wa_words_top_2k[sea_wa_only_words_list].sort_values(ascending = False).head(25)\n",
    "sea_only_df = pd.DataFrame(sea_only, columns = ['count']).reset_index()\n",
    "sea_wa_only_df = pd.DataFrame(sea_wa_only, columns = ['count']).reset_index()"
   ]
  },
  {
   "cell_type": "code",
   "execution_count": 250,
   "id": "2d1c53c3-0cd1-4852-8a7a-80763e569b63",
   "metadata": {},
   "outputs": [
    {
     "name": "stderr",
     "output_type": "stream",
     "text": [
      "C:\\Users\\John\\anaconda3\\lib\\site-packages\\plotly\\express\\_core.py:1637: FutureWarning:\n",
      "\n",
      "The frame.append method is deprecated and will be removed from pandas in a future version. Use pandas.concat instead.\n",
      "\n",
      "C:\\Users\\John\\anaconda3\\lib\\site-packages\\plotly\\express\\_core.py:1637: FutureWarning:\n",
      "\n",
      "The frame.append method is deprecated and will be removed from pandas in a future version. Use pandas.concat instead.\n",
      "\n"
     ]
    },
    {
     "data": {
      "application/vnd.plotly.v1+json": {
       "config": {
        "plotlyServerURL": "https://plot.ly"
       },
       "data": [
        {
         "branchvalues": "total",
         "customdata": [
          [
           27
          ],
          [
           33
          ],
          [
           30
          ],
          [
           26
          ],
          [
           23
          ],
          [
           116
          ],
          [
           24
          ],
          [
           33
          ],
          [
           31
          ],
          [
           23
          ],
          [
           23
          ],
          [
           23
          ],
          [
           34
          ],
          [
           30
          ],
          [
           34
          ],
          [
           25
          ],
          [
           24
          ],
          [
           33
          ],
          [
           23
          ],
          [
           27
          ],
          [
           30
          ],
          [
           33
          ],
          [
           47
          ],
          [
           23
          ],
          [
           30
          ],
          [
           42.20993788819876
          ]
         ],
         "domain": {
          "x": [
           0,
           1
          ],
          "y": [
           0,
           1
          ]
         },
         "hovertemplate": "labels=%{label}<br>count_sum=%{value}<br>parent=%{parent}<br>id=%{id}<br>count=%{color}<extra></extra>",
         "ids": [
          "r/Seattle/2023",
          "r/Seattle/adopt",
          "r/Seattle/amend",
          "r/Seattle/band",
          "r/Seattle/built",
          "r/Seattle/councilmemb",
          "r/Seattle/director",
          "r/Seattle/donat",
          "r/Seattle/faq",
          "r/Seattle/inflat",
          "r/Seattle/lyft",
          "r/Seattle/machin",
          "r/Seattle/optim",
          "r/Seattle/ordin",
          "r/Seattle/plane",
          "r/Seattle/quickli",
          "r/Seattle/recycl",
          "r/Seattle/roll",
          "r/Seattle/simpl",
          "r/Seattle/stick",
          "r/Seattle/strike",
          "r/Seattle/track",
          "r/Seattle/weekli",
          "r/Seattle/wide",
          "r/Seattle/zoo",
          "r/Seattle"
         ],
         "labels": [
          "2023",
          "adopt",
          "amend",
          "band",
          "built",
          "councilmemb",
          "director",
          "donat",
          "faq",
          "inflat",
          "lyft",
          "machin",
          "optim",
          "ordin",
          "plane",
          "quickli",
          "recycl",
          "roll",
          "simpl",
          "stick",
          "strike",
          "track",
          "weekli",
          "wide",
          "zoo",
          "r/Seattle"
         ],
         "marker": {
          "coloraxis": "coloraxis",
          "colors": [
           27,
           33,
           30,
           26,
           23,
           116,
           24,
           33,
           31,
           23,
           23,
           23,
           34,
           30,
           34,
           25,
           24,
           33,
           23,
           27,
           30,
           33,
           47,
           23,
           30,
           42.20993788819876
          ]
         },
         "name": "",
         "parents": [
          "r/Seattle",
          "r/Seattle",
          "r/Seattle",
          "r/Seattle",
          "r/Seattle",
          "r/Seattle",
          "r/Seattle",
          "r/Seattle",
          "r/Seattle",
          "r/Seattle",
          "r/Seattle",
          "r/Seattle",
          "r/Seattle",
          "r/Seattle",
          "r/Seattle",
          "r/Seattle",
          "r/Seattle",
          "r/Seattle",
          "r/Seattle",
          "r/Seattle",
          "r/Seattle",
          "r/Seattle",
          "r/Seattle",
          "r/Seattle",
          "r/Seattle",
          ""
         ],
         "type": "treemap",
         "values": [
          27,
          33,
          30,
          26,
          23,
          116,
          24,
          33,
          31,
          23,
          23,
          23,
          34,
          30,
          34,
          25,
          24,
          33,
          23,
          27,
          30,
          33,
          47,
          23,
          30,
          805
         ]
        }
       ],
       "layout": {
        "coloraxis": {
         "cmid": 32.2,
         "colorbar": {
          "title": {
           "text": "count"
          }
         },
         "colorscale": [
          [
           0,
           "rgb(247,251,255)"
          ],
          [
           0.125,
           "rgb(222,235,247)"
          ],
          [
           0.25,
           "rgb(198,219,239)"
          ],
          [
           0.375,
           "rgb(158,202,225)"
          ],
          [
           0.5,
           "rgb(107,174,214)"
          ],
          [
           0.625,
           "rgb(66,146,198)"
          ],
          [
           0.75,
           "rgb(33,113,181)"
          ],
          [
           0.875,
           "rgb(8,81,156)"
          ],
          [
           1,
           "rgb(8,48,107)"
          ]
         ]
        },
        "height": 500,
        "legend": {
         "tracegroupgap": 0
        },
        "margin": {
         "t": 60
        },
        "template": {
         "data": {
          "bar": [
           {
            "error_x": {
             "color": "#2a3f5f"
            },
            "error_y": {
             "color": "#2a3f5f"
            },
            "marker": {
             "line": {
              "color": "#E5ECF6",
              "width": 0.5
             },
             "pattern": {
              "fillmode": "overlay",
              "size": 10,
              "solidity": 0.2
             }
            },
            "type": "bar"
           }
          ],
          "barpolar": [
           {
            "marker": {
             "line": {
              "color": "#E5ECF6",
              "width": 0.5
             },
             "pattern": {
              "fillmode": "overlay",
              "size": 10,
              "solidity": 0.2
             }
            },
            "type": "barpolar"
           }
          ],
          "carpet": [
           {
            "aaxis": {
             "endlinecolor": "#2a3f5f",
             "gridcolor": "white",
             "linecolor": "white",
             "minorgridcolor": "white",
             "startlinecolor": "#2a3f5f"
            },
            "baxis": {
             "endlinecolor": "#2a3f5f",
             "gridcolor": "white",
             "linecolor": "white",
             "minorgridcolor": "white",
             "startlinecolor": "#2a3f5f"
            },
            "type": "carpet"
           }
          ],
          "choropleth": [
           {
            "colorbar": {
             "outlinewidth": 0,
             "ticks": ""
            },
            "type": "choropleth"
           }
          ],
          "contour": [
           {
            "colorbar": {
             "outlinewidth": 0,
             "ticks": ""
            },
            "colorscale": [
             [
              0,
              "#0d0887"
             ],
             [
              0.1111111111111111,
              "#46039f"
             ],
             [
              0.2222222222222222,
              "#7201a8"
             ],
             [
              0.3333333333333333,
              "#9c179e"
             ],
             [
              0.4444444444444444,
              "#bd3786"
             ],
             [
              0.5555555555555556,
              "#d8576b"
             ],
             [
              0.6666666666666666,
              "#ed7953"
             ],
             [
              0.7777777777777778,
              "#fb9f3a"
             ],
             [
              0.8888888888888888,
              "#fdca26"
             ],
             [
              1,
              "#f0f921"
             ]
            ],
            "type": "contour"
           }
          ],
          "contourcarpet": [
           {
            "colorbar": {
             "outlinewidth": 0,
             "ticks": ""
            },
            "type": "contourcarpet"
           }
          ],
          "heatmap": [
           {
            "colorbar": {
             "outlinewidth": 0,
             "ticks": ""
            },
            "colorscale": [
             [
              0,
              "#0d0887"
             ],
             [
              0.1111111111111111,
              "#46039f"
             ],
             [
              0.2222222222222222,
              "#7201a8"
             ],
             [
              0.3333333333333333,
              "#9c179e"
             ],
             [
              0.4444444444444444,
              "#bd3786"
             ],
             [
              0.5555555555555556,
              "#d8576b"
             ],
             [
              0.6666666666666666,
              "#ed7953"
             ],
             [
              0.7777777777777778,
              "#fb9f3a"
             ],
             [
              0.8888888888888888,
              "#fdca26"
             ],
             [
              1,
              "#f0f921"
             ]
            ],
            "type": "heatmap"
           }
          ],
          "heatmapgl": [
           {
            "colorbar": {
             "outlinewidth": 0,
             "ticks": ""
            },
            "colorscale": [
             [
              0,
              "#0d0887"
             ],
             [
              0.1111111111111111,
              "#46039f"
             ],
             [
              0.2222222222222222,
              "#7201a8"
             ],
             [
              0.3333333333333333,
              "#9c179e"
             ],
             [
              0.4444444444444444,
              "#bd3786"
             ],
             [
              0.5555555555555556,
              "#d8576b"
             ],
             [
              0.6666666666666666,
              "#ed7953"
             ],
             [
              0.7777777777777778,
              "#fb9f3a"
             ],
             [
              0.8888888888888888,
              "#fdca26"
             ],
             [
              1,
              "#f0f921"
             ]
            ],
            "type": "heatmapgl"
           }
          ],
          "histogram": [
           {
            "marker": {
             "pattern": {
              "fillmode": "overlay",
              "size": 10,
              "solidity": 0.2
             }
            },
            "type": "histogram"
           }
          ],
          "histogram2d": [
           {
            "colorbar": {
             "outlinewidth": 0,
             "ticks": ""
            },
            "colorscale": [
             [
              0,
              "#0d0887"
             ],
             [
              0.1111111111111111,
              "#46039f"
             ],
             [
              0.2222222222222222,
              "#7201a8"
             ],
             [
              0.3333333333333333,
              "#9c179e"
             ],
             [
              0.4444444444444444,
              "#bd3786"
             ],
             [
              0.5555555555555556,
              "#d8576b"
             ],
             [
              0.6666666666666666,
              "#ed7953"
             ],
             [
              0.7777777777777778,
              "#fb9f3a"
             ],
             [
              0.8888888888888888,
              "#fdca26"
             ],
             [
              1,
              "#f0f921"
             ]
            ],
            "type": "histogram2d"
           }
          ],
          "histogram2dcontour": [
           {
            "colorbar": {
             "outlinewidth": 0,
             "ticks": ""
            },
            "colorscale": [
             [
              0,
              "#0d0887"
             ],
             [
              0.1111111111111111,
              "#46039f"
             ],
             [
              0.2222222222222222,
              "#7201a8"
             ],
             [
              0.3333333333333333,
              "#9c179e"
             ],
             [
              0.4444444444444444,
              "#bd3786"
             ],
             [
              0.5555555555555556,
              "#d8576b"
             ],
             [
              0.6666666666666666,
              "#ed7953"
             ],
             [
              0.7777777777777778,
              "#fb9f3a"
             ],
             [
              0.8888888888888888,
              "#fdca26"
             ],
             [
              1,
              "#f0f921"
             ]
            ],
            "type": "histogram2dcontour"
           }
          ],
          "mesh3d": [
           {
            "colorbar": {
             "outlinewidth": 0,
             "ticks": ""
            },
            "type": "mesh3d"
           }
          ],
          "parcoords": [
           {
            "line": {
             "colorbar": {
              "outlinewidth": 0,
              "ticks": ""
             }
            },
            "type": "parcoords"
           }
          ],
          "pie": [
           {
            "automargin": true,
            "type": "pie"
           }
          ],
          "scatter": [
           {
            "marker": {
             "colorbar": {
              "outlinewidth": 0,
              "ticks": ""
             }
            },
            "type": "scatter"
           }
          ],
          "scatter3d": [
           {
            "line": {
             "colorbar": {
              "outlinewidth": 0,
              "ticks": ""
             }
            },
            "marker": {
             "colorbar": {
              "outlinewidth": 0,
              "ticks": ""
             }
            },
            "type": "scatter3d"
           }
          ],
          "scattercarpet": [
           {
            "marker": {
             "colorbar": {
              "outlinewidth": 0,
              "ticks": ""
             }
            },
            "type": "scattercarpet"
           }
          ],
          "scattergeo": [
           {
            "marker": {
             "colorbar": {
              "outlinewidth": 0,
              "ticks": ""
             }
            },
            "type": "scattergeo"
           }
          ],
          "scattergl": [
           {
            "marker": {
             "colorbar": {
              "outlinewidth": 0,
              "ticks": ""
             }
            },
            "type": "scattergl"
           }
          ],
          "scattermapbox": [
           {
            "marker": {
             "colorbar": {
              "outlinewidth": 0,
              "ticks": ""
             }
            },
            "type": "scattermapbox"
           }
          ],
          "scatterpolar": [
           {
            "marker": {
             "colorbar": {
              "outlinewidth": 0,
              "ticks": ""
             }
            },
            "type": "scatterpolar"
           }
          ],
          "scatterpolargl": [
           {
            "marker": {
             "colorbar": {
              "outlinewidth": 0,
              "ticks": ""
             }
            },
            "type": "scatterpolargl"
           }
          ],
          "scatterternary": [
           {
            "marker": {
             "colorbar": {
              "outlinewidth": 0,
              "ticks": ""
             }
            },
            "type": "scatterternary"
           }
          ],
          "surface": [
           {
            "colorbar": {
             "outlinewidth": 0,
             "ticks": ""
            },
            "colorscale": [
             [
              0,
              "#0d0887"
             ],
             [
              0.1111111111111111,
              "#46039f"
             ],
             [
              0.2222222222222222,
              "#7201a8"
             ],
             [
              0.3333333333333333,
              "#9c179e"
             ],
             [
              0.4444444444444444,
              "#bd3786"
             ],
             [
              0.5555555555555556,
              "#d8576b"
             ],
             [
              0.6666666666666666,
              "#ed7953"
             ],
             [
              0.7777777777777778,
              "#fb9f3a"
             ],
             [
              0.8888888888888888,
              "#fdca26"
             ],
             [
              1,
              "#f0f921"
             ]
            ],
            "type": "surface"
           }
          ],
          "table": [
           {
            "cells": {
             "fill": {
              "color": "#EBF0F8"
             },
             "line": {
              "color": "white"
             }
            },
            "header": {
             "fill": {
              "color": "#C8D4E3"
             },
             "line": {
              "color": "white"
             }
            },
            "type": "table"
           }
          ]
         },
         "layout": {
          "annotationdefaults": {
           "arrowcolor": "#2a3f5f",
           "arrowhead": 0,
           "arrowwidth": 1
          },
          "autotypenumbers": "strict",
          "coloraxis": {
           "colorbar": {
            "outlinewidth": 0,
            "ticks": ""
           }
          },
          "colorscale": {
           "diverging": [
            [
             0,
             "#8e0152"
            ],
            [
             0.1,
             "#c51b7d"
            ],
            [
             0.2,
             "#de77ae"
            ],
            [
             0.3,
             "#f1b6da"
            ],
            [
             0.4,
             "#fde0ef"
            ],
            [
             0.5,
             "#f7f7f7"
            ],
            [
             0.6,
             "#e6f5d0"
            ],
            [
             0.7,
             "#b8e186"
            ],
            [
             0.8,
             "#7fbc41"
            ],
            [
             0.9,
             "#4d9221"
            ],
            [
             1,
             "#276419"
            ]
           ],
           "sequential": [
            [
             0,
             "#0d0887"
            ],
            [
             0.1111111111111111,
             "#46039f"
            ],
            [
             0.2222222222222222,
             "#7201a8"
            ],
            [
             0.3333333333333333,
             "#9c179e"
            ],
            [
             0.4444444444444444,
             "#bd3786"
            ],
            [
             0.5555555555555556,
             "#d8576b"
            ],
            [
             0.6666666666666666,
             "#ed7953"
            ],
            [
             0.7777777777777778,
             "#fb9f3a"
            ],
            [
             0.8888888888888888,
             "#fdca26"
            ],
            [
             1,
             "#f0f921"
            ]
           ],
           "sequentialminus": [
            [
             0,
             "#0d0887"
            ],
            [
             0.1111111111111111,
             "#46039f"
            ],
            [
             0.2222222222222222,
             "#7201a8"
            ],
            [
             0.3333333333333333,
             "#9c179e"
            ],
            [
             0.4444444444444444,
             "#bd3786"
            ],
            [
             0.5555555555555556,
             "#d8576b"
            ],
            [
             0.6666666666666666,
             "#ed7953"
            ],
            [
             0.7777777777777778,
             "#fb9f3a"
            ],
            [
             0.8888888888888888,
             "#fdca26"
            ],
            [
             1,
             "#f0f921"
            ]
           ]
          },
          "colorway": [
           "#636efa",
           "#EF553B",
           "#00cc96",
           "#ab63fa",
           "#FFA15A",
           "#19d3f3",
           "#FF6692",
           "#B6E880",
           "#FF97FF",
           "#FECB52"
          ],
          "font": {
           "color": "#2a3f5f"
          },
          "geo": {
           "bgcolor": "white",
           "lakecolor": "white",
           "landcolor": "#E5ECF6",
           "showlakes": true,
           "showland": true,
           "subunitcolor": "white"
          },
          "hoverlabel": {
           "align": "left"
          },
          "hovermode": "closest",
          "mapbox": {
           "style": "light"
          },
          "paper_bgcolor": "white",
          "plot_bgcolor": "#E5ECF6",
          "polar": {
           "angularaxis": {
            "gridcolor": "white",
            "linecolor": "white",
            "ticks": ""
           },
           "bgcolor": "#E5ECF6",
           "radialaxis": {
            "gridcolor": "white",
            "linecolor": "white",
            "ticks": ""
           }
          },
          "scene": {
           "xaxis": {
            "backgroundcolor": "#E5ECF6",
            "gridcolor": "white",
            "gridwidth": 2,
            "linecolor": "white",
            "showbackground": true,
            "ticks": "",
            "zerolinecolor": "white"
           },
           "yaxis": {
            "backgroundcolor": "#E5ECF6",
            "gridcolor": "white",
            "gridwidth": 2,
            "linecolor": "white",
            "showbackground": true,
            "ticks": "",
            "zerolinecolor": "white"
           },
           "zaxis": {
            "backgroundcolor": "#E5ECF6",
            "gridcolor": "white",
            "gridwidth": 2,
            "linecolor": "white",
            "showbackground": true,
            "ticks": "",
            "zerolinecolor": "white"
           }
          },
          "shapedefaults": {
           "line": {
            "color": "#2a3f5f"
           }
          },
          "ternary": {
           "aaxis": {
            "gridcolor": "white",
            "linecolor": "white",
            "ticks": ""
           },
           "baxis": {
            "gridcolor": "white",
            "linecolor": "white",
            "ticks": ""
           },
           "bgcolor": "#E5ECF6",
           "caxis": {
            "gridcolor": "white",
            "linecolor": "white",
            "ticks": ""
           }
          },
          "title": {
           "x": 0.05
          },
          "xaxis": {
           "automargin": true,
           "gridcolor": "white",
           "linecolor": "white",
           "ticks": "",
           "title": {
            "standoff": 15
           },
           "zerolinecolor": "white",
           "zerolinewidth": 2
          },
          "yaxis": {
           "automargin": true,
           "gridcolor": "white",
           "linecolor": "white",
           "ticks": "",
           "title": {
            "standoff": 15
           },
           "zerolinecolor": "white",
           "zerolinewidth": 2
          }
         }
        },
        "width": 1200
       }
      },
      "image/png": "[encoded data removed]",
      "text/html": [
       "<div>                            <div id=\"d4dbbb76-b9c5-4e19-9aed-772f2e6a91ed\" class=\"plotly-graph-div\" style=\"height:500px; width:1200px;\"></div>            <script type=\"text/javascript\">                require([\"plotly\"], function(Plotly) {                    window.PLOTLYENV=window.PLOTLYENV || {};                                    if (document.getElementById(\"d4dbbb76-b9c5-4e19-9aed-772f2e6a91ed\")) {                    Plotly.newPlot(                        \"d4dbbb76-b9c5-4e19-9aed-772f2e6a91ed\",                        [{\"branchvalues\":\"total\",\"customdata\":[[27.0],[33.0],[30.0],[26.0],[23.0],[116.0],[24.0],[33.0],[31.0],[23.0],[23.0],[23.0],[34.0],[30.0],[34.0],[25.0],[24.0],[33.0],[23.0],[27.0],[30.0],[33.0],[47.0],[23.0],[30.0],[42.20993788819876]],\"domain\":{\"x\":[0.0,1.0],\"y\":[0.0,1.0]},\"hovertemplate\":\"labels=%{label}<br>count_sum=%{value}<br>parent=%{parent}<br>id=%{id}<br>count=%{color}<extra></extra>\",\"ids\":[\"r/Seattle/2023\",\"r/Seattle/adopt\",\"r/Seattle/amend\",\"r/Seattle/band\",\"r/Seattle/built\",\"r/Seattle/councilmemb\",\"r/Seattle/director\",\"r/Seattle/donat\",\"r/Seattle/faq\",\"r/Seattle/inflat\",\"r/Seattle/lyft\",\"r/Seattle/machin\",\"r/Seattle/optim\",\"r/Seattle/ordin\",\"r/Seattle/plane\",\"r/Seattle/quickli\",\"r/Seattle/recycl\",\"r/Seattle/roll\",\"r/Seattle/simpl\",\"r/Seattle/stick\",\"r/Seattle/strike\",\"r/Seattle/track\",\"r/Seattle/weekli\",\"r/Seattle/wide\",\"r/Seattle/zoo\",\"r/Seattle\"],\"labels\":[\"2023\",\"adopt\",\"amend\",\"band\",\"built\",\"councilmemb\",\"director\",\"donat\",\"faq\",\"inflat\",\"lyft\",\"machin\",\"optim\",\"ordin\",\"plane\",\"quickli\",\"recycl\",\"roll\",\"simpl\",\"stick\",\"strike\",\"track\",\"weekli\",\"wide\",\"zoo\",\"r/Seattle\"],\"marker\":{\"coloraxis\":\"coloraxis\",\"colors\":[27.0,33.0,30.0,26.0,23.0,116.0,24.0,33.0,31.0,23.0,23.0,23.0,34.0,30.0,34.0,25.0,24.0,33.0,23.0,27.0,30.0,33.0,47.0,23.0,30.0,42.20993788819876]},\"name\":\"\",\"parents\":[\"r/Seattle\",\"r/Seattle\",\"r/Seattle\",\"r/Seattle\",\"r/Seattle\",\"r/Seattle\",\"r/Seattle\",\"r/Seattle\",\"r/Seattle\",\"r/Seattle\",\"r/Seattle\",\"r/Seattle\",\"r/Seattle\",\"r/Seattle\",\"r/Seattle\",\"r/Seattle\",\"r/Seattle\",\"r/Seattle\",\"r/Seattle\",\"r/Seattle\",\"r/Seattle\",\"r/Seattle\",\"r/Seattle\",\"r/Seattle\",\"r/Seattle\",\"\"],\"values\":[27,33,30,26,23,116,24,33,31,23,23,23,34,30,34,25,24,33,23,27,30,33,47,23,30,805],\"type\":\"treemap\"}],                        {\"template\":{\"data\":{\"bar\":[{\"error_x\":{\"color\":\"#2a3f5f\"},\"error_y\":{\"color\":\"#2a3f5f\"},\"marker\":{\"line\":{\"color\":\"#E5ECF6\",\"width\":0.5},\"pattern\":{\"fillmode\":\"overlay\",\"size\":10,\"solidity\":0.2}},\"type\":\"bar\"}],\"barpolar\":[{\"marker\":{\"line\":{\"color\":\"#E5ECF6\",\"width\":0.5},\"pattern\":{\"fillmode\":\"overlay\",\"size\":10,\"solidity\":0.2}},\"type\":\"barpolar\"}],\"carpet\":[{\"aaxis\":{\"endlinecolor\":\"#2a3f5f\",\"gridcolor\":\"white\",\"linecolor\":\"white\",\"minorgridcolor\":\"white\",\"startlinecolor\":\"#2a3f5f\"},\"baxis\":{\"endlinecolor\":\"#2a3f5f\",\"gridcolor\":\"white\",\"linecolor\":\"white\",\"minorgridcolor\":\"white\",\"startlinecolor\":\"#2a3f5f\"},\"type\":\"carpet\"}],\"choropleth\":[{\"colorbar\":{\"outlinewidth\":0,\"ticks\":\"\"},\"type\":\"choropleth\"}],\"contour\":[{\"colorbar\":{\"outlinewidth\":0,\"ticks\":\"\"},\"colorscale\":[[0.0,\"#0d0887\"],[0.1111111111111111,\"#46039f\"],[0.2222222222222222,\"#7201a8\"],[0.3333333333333333,\"#9c179e\"],[0.4444444444444444,\"#bd3786\"],[0.5555555555555556,\"#d8576b\"],[0.6666666666666666,\"#ed7953\"],[0.7777777777777778,\"#fb9f3a\"],[0.8888888888888888,\"#fdca26\"],[1.0,\"#f0f921\"]],\"type\":\"contour\"}],\"contourcarpet\":[{\"colorbar\":{\"outlinewidth\":0,\"ticks\":\"\"},\"type\":\"contourcarpet\"}],\"heatmap\":[{\"colorbar\":{\"outlinewidth\":0,\"ticks\":\"\"},\"colorscale\":[[0.0,\"#0d0887\"],[0.1111111111111111,\"#46039f\"],[0.2222222222222222,\"#7201a8\"],[0.3333333333333333,\"#9c179e\"],[0.4444444444444444,\"#bd3786\"],[0.5555555555555556,\"#d8576b\"],[0.6666666666666666,\"#ed7953\"],[0.7777777777777778,\"#fb9f3a\"],[0.8888888888888888,\"#fdca26\"],[1.0,\"#f0f921\"]],\"type\":\"heatmap\"}],\"heatmapgl\":[{\"colorbar\":{\"outlinewidth\":0,\"ticks\":\"\"},\"colorscale\":[[0.0,\"#0d0887\"],[0.1111111111111111,\"#46039f\"],[0.2222222222222222,\"#7201a8\"],[0.3333333333333333,\"#9c179e\"],[0.4444444444444444,\"#bd3786\"],[0.5555555555555556,\"#d8576b\"],[0.6666666666666666,\"#ed7953\"],[0.7777777777777778,\"#fb9f3a\"],[0.8888888888888888,\"#fdca26\"],[1.0,\"#f0f921\"]],\"type\":\"heatmapgl\"}],\"histogram\":[{\"marker\":{\"pattern\":{\"fillmode\":\"overlay\",\"size\":10,\"solidity\":0.2}},\"type\":\"histogram\"}],\"histogram2d\":[{\"colorbar\":{\"outlinewidth\":0,\"ticks\":\"\"},\"colorscale\":[[0.0,\"#0d0887\"],[0.1111111111111111,\"#46039f\"],[0.2222222222222222,\"#7201a8\"],[0.3333333333333333,\"#9c179e\"],[0.4444444444444444,\"#bd3786\"],[0.5555555555555556,\"#d8576b\"],[0.6666666666666666,\"#ed7953\"],[0.7777777777777778,\"#fb9f3a\"],[0.8888888888888888,\"#fdca26\"],[1.0,\"#f0f921\"]],\"type\":\"histogram2d\"}],\"histogram2dcontour\":[{\"colorbar\":{\"outlinewidth\":0,\"ticks\":\"\"},\"colorscale\":[[0.0,\"#0d0887\"],[0.1111111111111111,\"#46039f\"],[0.2222222222222222,\"#7201a8\"],[0.3333333333333333,\"#9c179e\"],[0.4444444444444444,\"#bd3786\"],[0.5555555555555556,\"#d8576b\"],[0.6666666666666666,\"#ed7953\"],[0.7777777777777778,\"#fb9f3a\"],[0.8888888888888888,\"#fdca26\"],[1.0,\"#f0f921\"]],\"type\":\"histogram2dcontour\"}],\"mesh3d\":[{\"colorbar\":{\"outlinewidth\":0,\"ticks\":\"\"},\"type\":\"mesh3d\"}],\"parcoords\":[{\"line\":{\"colorbar\":{\"outlinewidth\":0,\"ticks\":\"\"}},\"type\":\"parcoords\"}],\"pie\":[{\"automargin\":true,\"type\":\"pie\"}],\"scatter\":[{\"marker\":{\"colorbar\":{\"outlinewidth\":0,\"ticks\":\"\"}},\"type\":\"scatter\"}],\"scatter3d\":[{\"line\":{\"colorbar\":{\"outlinewidth\":0,\"ticks\":\"\"}},\"marker\":{\"colorbar\":{\"outlinewidth\":0,\"ticks\":\"\"}},\"type\":\"scatter3d\"}],\"scattercarpet\":[{\"marker\":{\"colorbar\":{\"outlinewidth\":0,\"ticks\":\"\"}},\"type\":\"scattercarpet\"}],\"scattergeo\":[{\"marker\":{\"colorbar\":{\"outlinewidth\":0,\"ticks\":\"\"}},\"type\":\"scattergeo\"}],\"scattergl\":[{\"marker\":{\"colorbar\":{\"outlinewidth\":0,\"ticks\":\"\"}},\"type\":\"scattergl\"}],\"scattermapbox\":[{\"marker\":{\"colorbar\":{\"outlinewidth\":0,\"ticks\":\"\"}},\"type\":\"scattermapbox\"}],\"scatterpolar\":[{\"marker\":{\"colorbar\":{\"outlinewidth\":0,\"ticks\":\"\"}},\"type\":\"scatterpolar\"}],\"scatterpolargl\":[{\"marker\":{\"colorbar\":{\"outlinewidth\":0,\"ticks\":\"\"}},\"type\":\"scatterpolargl\"}],\"scatterternary\":[{\"marker\":{\"colorbar\":{\"outlinewidth\":0,\"ticks\":\"\"}},\"type\":\"scatterternary\"}],\"surface\":[{\"colorbar\":{\"outlinewidth\":0,\"ticks\":\"\"},\"colorscale\":[[0.0,\"#0d0887\"],[0.1111111111111111,\"#46039f\"],[0.2222222222222222,\"#7201a8\"],[0.3333333333333333,\"#9c179e\"],[0.4444444444444444,\"#bd3786\"],[0.5555555555555556,\"#d8576b\"],[0.6666666666666666,\"#ed7953\"],[0.7777777777777778,\"#fb9f3a\"],[0.8888888888888888,\"#fdca26\"],[1.0,\"#f0f921\"]],\"type\":\"surface\"}],\"table\":[{\"cells\":{\"fill\":{\"color\":\"#EBF0F8\"},\"line\":{\"color\":\"white\"}},\"header\":{\"fill\":{\"color\":\"#C8D4E3\"},\"line\":{\"color\":\"white\"}},\"type\":\"table\"}]},\"layout\":{\"annotationdefaults\":{\"arrowcolor\":\"#2a3f5f\",\"arrowhead\":0,\"arrowwidth\":1},\"autotypenumbers\":\"strict\",\"coloraxis\":{\"colorbar\":{\"outlinewidth\":0,\"ticks\":\"\"}},\"colorscale\":{\"diverging\":[[0,\"#8e0152\"],[0.1,\"#c51b7d\"],[0.2,\"#de77ae\"],[0.3,\"#f1b6da\"],[0.4,\"#fde0ef\"],[0.5,\"#f7f7f7\"],[0.6,\"#e6f5d0\"],[0.7,\"#b8e186\"],[0.8,\"#7fbc41\"],[0.9,\"#4d9221\"],[1,\"#276419\"]],\"sequential\":[[0.0,\"#0d0887\"],[0.1111111111111111,\"#46039f\"],[0.2222222222222222,\"#7201a8\"],[0.3333333333333333,\"#9c179e\"],[0.4444444444444444,\"#bd3786\"],[0.5555555555555556,\"#d8576b\"],[0.6666666666666666,\"#ed7953\"],[0.7777777777777778,\"#fb9f3a\"],[0.8888888888888888,\"#fdca26\"],[1.0,\"#f0f921\"]],\"sequentialminus\":[[0.0,\"#0d0887\"],[0.1111111111111111,\"#46039f\"],[0.2222222222222222,\"#7201a8\"],[0.3333333333333333,\"#9c179e\"],[0.4444444444444444,\"#bd3786\"],[0.5555555555555556,\"#d8576b\"],[0.6666666666666666,\"#ed7953\"],[0.7777777777777778,\"#fb9f3a\"],[0.8888888888888888,\"#fdca26\"],[1.0,\"#f0f921\"]]},\"colorway\":[\"#636efa\",\"#EF553B\",\"#00cc96\",\"#ab63fa\",\"#FFA15A\",\"#19d3f3\",\"#FF6692\",\"#B6E880\",\"#FF97FF\",\"#FECB52\"],\"font\":{\"color\":\"#2a3f5f\"},\"geo\":{\"bgcolor\":\"white\",\"lakecolor\":\"white\",\"landcolor\":\"#E5ECF6\",\"showlakes\":true,\"showland\":true,\"subunitcolor\":\"white\"},\"hoverlabel\":{\"align\":\"left\"},\"hovermode\":\"closest\",\"mapbox\":{\"style\":\"light\"},\"paper_bgcolor\":\"white\",\"plot_bgcolor\":\"#E5ECF6\",\"polar\":{\"angularaxis\":{\"gridcolor\":\"white\",\"linecolor\":\"white\",\"ticks\":\"\"},\"bgcolor\":\"#E5ECF6\",\"radialaxis\":{\"gridcolor\":\"white\",\"linecolor\":\"white\",\"ticks\":\"\"}},\"scene\":{\"xaxis\":{\"backgroundcolor\":\"#E5ECF6\",\"gridcolor\":\"white\",\"gridwidth\":2,\"linecolor\":\"white\",\"showbackground\":true,\"ticks\":\"\",\"zerolinecolor\":\"white\"},\"yaxis\":{\"backgroundcolor\":\"#E5ECF6\",\"gridcolor\":\"white\",\"gridwidth\":2,\"linecolor\":\"white\",\"showbackground\":true,\"ticks\":\"\",\"zerolinecolor\":\"white\"},\"zaxis\":{\"backgroundcolor\":\"#E5ECF6\",\"gridcolor\":\"white\",\"gridwidth\":2,\"linecolor\":\"white\",\"showbackground\":true,\"ticks\":\"\",\"zerolinecolor\":\"white\"}},\"shapedefaults\":{\"line\":{\"color\":\"#2a3f5f\"}},\"ternary\":{\"aaxis\":{\"gridcolor\":\"white\",\"linecolor\":\"white\",\"ticks\":\"\"},\"baxis\":{\"gridcolor\":\"white\",\"linecolor\":\"white\",\"ticks\":\"\"},\"bgcolor\":\"#E5ECF6\",\"caxis\":{\"gridcolor\":\"white\",\"linecolor\":\"white\",\"ticks\":\"\"}},\"title\":{\"x\":0.05},\"xaxis\":{\"automargin\":true,\"gridcolor\":\"white\",\"linecolor\":\"white\",\"ticks\":\"\",\"title\":{\"standoff\":15},\"zerolinecolor\":\"white\",\"zerolinewidth\":2},\"yaxis\":{\"automargin\":true,\"gridcolor\":\"white\",\"linecolor\":\"white\",\"ticks\":\"\",\"title\":{\"standoff\":15},\"zerolinecolor\":\"white\",\"zerolinewidth\":2}}},\"coloraxis\":{\"colorbar\":{\"title\":{\"text\":\"count\"}},\"colorscale\":[[0.0,\"rgb(247,251,255)\"],[0.125,\"rgb(222,235,247)\"],[0.25,\"rgb(198,219,239)\"],[0.375,\"rgb(158,202,225)\"],[0.5,\"rgb(107,174,214)\"],[0.625,\"rgb(66,146,198)\"],[0.75,\"rgb(33,113,181)\"],[0.875,\"rgb(8,81,156)\"],[1.0,\"rgb(8,48,107)\"]],\"cmid\":32.2},\"legend\":{\"tracegroupgap\":0},\"margin\":{\"t\":60},\"height\":500,\"width\":1200},                        {\"responsive\": true}                    ).then(function(){\n",
       "                            \n",
       "var gd = document.getElementById('d4dbbb76-b9c5-4e19-9aed-772f2e6a91ed');\n",
       "var x = new MutationObserver(function (mutations, observer) {{\n",
       "        var display = window.getComputedStyle(gd).display;\n",
       "        if (!display || display === 'none') {{\n",
       "            console.log([gd, 'removed!']);\n",
       "            Plotly.purge(gd);\n",
       "            observer.disconnect();\n",
       "        }}\n",
       "}});\n",
       "\n",
       "// Listen for the removal of the full notebook cells\n",
       "var notebookContainer = gd.closest('#notebook-container');\n",
       "if (notebookContainer) {{\n",
       "    x.observe(notebookContainer, {childList: true});\n",
       "}}\n",
       "\n",
       "// Listen for the clearing of the current output cell\n",
       "var outputEl = gd.closest('.output');\n",
       "if (outputEl) {{\n",
       "    x.observe(outputEl, {childList: true});\n",
       "}}\n",
       "\n",
       "                        })                };                });            </script>        </div>"
      ]
     },
     "metadata": {},
     "output_type": "display_data"
    }
   ],
   "source": [
    "fig = px.treemap(sea_only_df, path=[px.Constant('r/Seattle'), 'index'], values='count', color = 'count', width = 1200, height = 500, color_continuous_scale= 'Blues', color_continuous_midpoint= np.mean(sea_only_df['count']))\n",
    "fig.show()"
   ]
  },
  {
   "cell_type": "code",
   "execution_count": 260,
   "id": "c67bd273-6287-436e-8b7c-13ddcd6a3d12",
   "metadata": {},
   "outputs": [
    {
     "name": "stderr",
     "output_type": "stream",
     "text": [
      "C:\\Users\\John\\anaconda3\\lib\\site-packages\\plotly\\express\\_core.py:1637: FutureWarning:\n",
      "\n",
      "The frame.append method is deprecated and will be removed from pandas in a future version. Use pandas.concat instead.\n",
      "\n",
      "C:\\Users\\John\\anaconda3\\lib\\site-packages\\plotly\\express\\_core.py:1637: FutureWarning:\n",
      "\n",
      "The frame.append method is deprecated and will be removed from pandas in a future version. Use pandas.concat instead.\n",
      "\n"
     ]
    },
    {
     "data": {
      "application/vnd.plotly.v1+json": {
       "config": {
        "plotlyServerURL": "https://plot.ly"
       },
       "data": [
        {
         "branchvalues": "total",
         "customdata": [
          [
           23
          ],
          [
           29
          ],
          [
           21
          ],
          [
           28
          ],
          [
           26
          ],
          [
           22
          ],
          [
           20
          ],
          [
           19
          ],
          [
           20
          ],
          [
           19
          ],
          [
           19
          ],
          [
           19
          ],
          [
           19
          ],
          [
           21
          ],
          [
           20
          ],
          [
           28
          ],
          [
           39
          ],
          [
           31
          ],
          [
           25
          ],
          [
           35
          ],
          [
           19
          ],
          [
           19
          ],
          [
           19
          ],
          [
           19
          ],
          [
           21
          ],
          [
           24.486206896551725
          ]
         ],
         "domain": {
          "x": [
           0,
           1
          ],
          "y": [
           0,
           1
          ]
         },
         "hovertemplate": "labels=%{label}<br>count_sum=%{value}<br>parent=%{parent}<br>id=%{id}<br>count=%{color}<extra></extra>",
         "ids": [
          "r/SeattleWA/4th",
          "r/SeattleWA/april",
          "r/SeattleWA/assault",
          "r/SeattleWA/blog",
          "r/SeattleWA/client",
          "r/SeattleWA/closur",
          "r/SeattleWA/conserv",
          "r/SeattleWA/convert",
          "r/SeattleWA/crimin",
          "r/SeattleWA/discount",
          "r/SeattleWA/fellow",
          "r/SeattleWA/furnitur",
          "r/SeattleWA/gain",
          "r/SeattleWA/john",
          "r/SeattleWA/judg",
          "r/SeattleWA/mandat",
          "r/SeattleWA/march",
          "r/SeattleWA/migrat",
          "r/SeattleWA/particip",
          "r/SeattleWA/patient",
          "r/SeattleWA/radio",
          "r/SeattleWA/shower",
          "r/SeattleWA/tab",
          "r/SeattleWA/tv",
          "r/SeattleWA/vegan",
          "r/SeattleWA"
         ],
         "labels": [
          "4th",
          "april",
          "assault",
          "blog",
          "client",
          "closur",
          "conserv",
          "convert",
          "crimin",
          "discount",
          "fellow",
          "furnitur",
          "gain",
          "john",
          "judg",
          "mandat",
          "march",
          "migrat",
          "particip",
          "patient",
          "radio",
          "shower",
          "tab",
          "tv",
          "vegan",
          "r/SeattleWA"
         ],
         "marker": {
          "coloraxis": "coloraxis",
          "colors": [
           23,
           29,
           21,
           28,
           26,
           22,
           20,
           19,
           20,
           19,
           19,
           19,
           19,
           21,
           20,
           28,
           39,
           31,
           25,
           35,
           19,
           19,
           19,
           19,
           21,
           24.486206896551725
          ]
         },
         "name": "",
         "parents": [
          "r/SeattleWA",
          "r/SeattleWA",
          "r/SeattleWA",
          "r/SeattleWA",
          "r/SeattleWA",
          "r/SeattleWA",
          "r/SeattleWA",
          "r/SeattleWA",
          "r/SeattleWA",
          "r/SeattleWA",
          "r/SeattleWA",
          "r/SeattleWA",
          "r/SeattleWA",
          "r/SeattleWA",
          "r/SeattleWA",
          "r/SeattleWA",
          "r/SeattleWA",
          "r/SeattleWA",
          "r/SeattleWA",
          "r/SeattleWA",
          "r/SeattleWA",
          "r/SeattleWA",
          "r/SeattleWA",
          "r/SeattleWA",
          "r/SeattleWA",
          ""
         ],
         "type": "treemap",
         "values": [
          23,
          29,
          21,
          28,
          26,
          22,
          20,
          19,
          20,
          19,
          19,
          19,
          19,
          21,
          20,
          28,
          39,
          31,
          25,
          35,
          19,
          19,
          19,
          19,
          21,
          580
         ]
        }
       ],
       "layout": {
        "coloraxis": {
         "cmid": 23.2,
         "colorbar": {
          "title": {
           "text": "count"
          }
         },
         "colorscale": [
          [
           0,
           "rgb(247,252,245)"
          ],
          [
           0.125,
           "rgb(229,245,224)"
          ],
          [
           0.25,
           "rgb(199,233,192)"
          ],
          [
           0.375,
           "rgb(161,217,155)"
          ],
          [
           0.5,
           "rgb(116,196,118)"
          ],
          [
           0.625,
           "rgb(65,171,93)"
          ],
          [
           0.75,
           "rgb(35,139,69)"
          ],
          [
           0.875,
           "rgb(0,109,44)"
          ],
          [
           1,
           "rgb(0,68,27)"
          ]
         ]
        },
        "height": 500,
        "legend": {
         "tracegroupgap": 0
        },
        "margin": {
         "t": 60
        },
        "template": {
         "data": {
          "bar": [
           {
            "error_x": {
             "color": "#2a3f5f"
            },
            "error_y": {
             "color": "#2a3f5f"
            },
            "marker": {
             "line": {
              "color": "#E5ECF6",
              "width": 0.5
             },
             "pattern": {
              "fillmode": "overlay",
              "size": 10,
              "solidity": 0.2
             }
            },
            "type": "bar"
           }
          ],
          "barpolar": [
           {
            "marker": {
             "line": {
              "color": "#E5ECF6",
              "width": 0.5
             },
             "pattern": {
              "fillmode": "overlay",
              "size": 10,
              "solidity": 0.2
             }
            },
            "type": "barpolar"
           }
          ],
          "carpet": [
           {
            "aaxis": {
             "endlinecolor": "#2a3f5f",
             "gridcolor": "white",
             "linecolor": "white",
             "minorgridcolor": "white",
             "startlinecolor": "#2a3f5f"
            },
            "baxis": {
             "endlinecolor": "#2a3f5f",
             "gridcolor": "white",
             "linecolor": "white",
             "minorgridcolor": "white",
             "startlinecolor": "#2a3f5f"
            },
            "type": "carpet"
           }
          ],
          "choropleth": [
           {
            "colorbar": {
             "outlinewidth": 0,
             "ticks": ""
            },
            "type": "choropleth"
           }
          ],
          "contour": [
           {
            "colorbar": {
             "outlinewidth": 0,
             "ticks": ""
            },
            "colorscale": [
             [
              0,
              "#0d0887"
             ],
             [
              0.1111111111111111,
              "#46039f"
             ],
             [
              0.2222222222222222,
              "#7201a8"
             ],
             [
              0.3333333333333333,
              "#9c179e"
             ],
             [
              0.4444444444444444,
              "#bd3786"
             ],
             [
              0.5555555555555556,
              "#d8576b"
             ],
             [
              0.6666666666666666,
              "#ed7953"
             ],
             [
              0.7777777777777778,
              "#fb9f3a"
             ],
             [
              0.8888888888888888,
              "#fdca26"
             ],
             [
              1,
              "#f0f921"
             ]
            ],
            "type": "contour"
           }
          ],
          "contourcarpet": [
           {
            "colorbar": {
             "outlinewidth": 0,
             "ticks": ""
            },
            "type": "contourcarpet"
           }
          ],
          "heatmap": [
           {
            "colorbar": {
             "outlinewidth": 0,
             "ticks": ""
            },
            "colorscale": [
             [
              0,
              "#0d0887"
             ],
             [
              0.1111111111111111,
              "#46039f"
             ],
             [
              0.2222222222222222,
              "#7201a8"
             ],
             [
              0.3333333333333333,
              "#9c179e"
             ],
             [
              0.4444444444444444,
              "#bd3786"
             ],
             [
              0.5555555555555556,
              "#d8576b"
             ],
             [
              0.6666666666666666,
              "#ed7953"
             ],
             [
              0.7777777777777778,
              "#fb9f3a"
             ],
             [
              0.8888888888888888,
              "#fdca26"
             ],
             [
              1,
              "#f0f921"
             ]
            ],
            "type": "heatmap"
           }
          ],
          "heatmapgl": [
           {
            "colorbar": {
             "outlinewidth": 0,
             "ticks": ""
            },
            "colorscale": [
             [
              0,
              "#0d0887"
             ],
             [
              0.1111111111111111,
              "#46039f"
             ],
             [
              0.2222222222222222,
              "#7201a8"
             ],
             [
              0.3333333333333333,
              "#9c179e"
             ],
             [
              0.4444444444444444,
              "#bd3786"
             ],
             [
              0.5555555555555556,
              "#d8576b"
             ],
             [
              0.6666666666666666,
              "#ed7953"
             ],
             [
              0.7777777777777778,
              "#fb9f3a"
             ],
             [
              0.8888888888888888,
              "#fdca26"
             ],
             [
              1,
              "#f0f921"
             ]
            ],
            "type": "heatmapgl"
           }
          ],
          "histogram": [
           {
            "marker": {
             "pattern": {
              "fillmode": "overlay",
              "size": 10,
              "solidity": 0.2
             }
            },
            "type": "histogram"
           }
          ],
          "histogram2d": [
           {
            "colorbar": {
             "outlinewidth": 0,
             "ticks": ""
            },
            "colorscale": [
             [
              0,
              "#0d0887"
             ],
             [
              0.1111111111111111,
              "#46039f"
             ],
             [
              0.2222222222222222,
              "#7201a8"
             ],
             [
              0.3333333333333333,
              "#9c179e"
             ],
             [
              0.4444444444444444,
              "#bd3786"
             ],
             [
              0.5555555555555556,
              "#d8576b"
             ],
             [
              0.6666666666666666,
              "#ed7953"
             ],
             [
              0.7777777777777778,
              "#fb9f3a"
             ],
             [
              0.8888888888888888,
              "#fdca26"
             ],
             [
              1,
              "#f0f921"
             ]
            ],
            "type": "histogram2d"
           }
          ],
          "histogram2dcontour": [
           {
            "colorbar": {
             "outlinewidth": 0,
             "ticks": ""
            },
            "colorscale": [
             [
              0,
              "#0d0887"
             ],
             [
              0.1111111111111111,
              "#46039f"
             ],
             [
              0.2222222222222222,
              "#7201a8"
             ],
             [
              0.3333333333333333,
              "#9c179e"
             ],
             [
              0.4444444444444444,
              "#bd3786"
             ],
             [
              0.5555555555555556,
              "#d8576b"
             ],
             [
              0.6666666666666666,
              "#ed7953"
             ],
             [
              0.7777777777777778,
              "#fb9f3a"
             ],
             [
              0.8888888888888888,
              "#fdca26"
             ],
             [
              1,
              "#f0f921"
             ]
            ],
            "type": "histogram2dcontour"
           }
          ],
          "mesh3d": [
           {
            "colorbar": {
             "outlinewidth": 0,
             "ticks": ""
            },
            "type": "mesh3d"
           }
          ],
          "parcoords": [
           {
            "line": {
             "colorbar": {
              "outlinewidth": 0,
              "ticks": ""
             }
            },
            "type": "parcoords"
           }
          ],
          "pie": [
           {
            "automargin": true,
            "type": "pie"
           }
          ],
          "scatter": [
           {
            "marker": {
             "colorbar": {
              "outlinewidth": 0,
              "ticks": ""
             }
            },
            "type": "scatter"
           }
          ],
          "scatter3d": [
           {
            "line": {
             "colorbar": {
              "outlinewidth": 0,
              "ticks": ""
             }
            },
            "marker": {
             "colorbar": {
              "outlinewidth": 0,
              "ticks": ""
             }
            },
            "type": "scatter3d"
           }
          ],
          "scattercarpet": [
           {
            "marker": {
             "colorbar": {
              "outlinewidth": 0,
              "ticks": ""
             }
            },
            "type": "scattercarpet"
           }
          ],
          "scattergeo": [
           {
            "marker": {
             "colorbar": {
              "outlinewidth": 0,
              "ticks": ""
             }
            },
            "type": "scattergeo"
           }
          ],
          "scattergl": [
           {
            "marker": {
             "colorbar": {
              "outlinewidth": 0,
              "ticks": ""
             }
            },
            "type": "scattergl"
           }
          ],
          "scattermapbox": [
           {
            "marker": {
             "colorbar": {
              "outlinewidth": 0,
              "ticks": ""
             }
            },
            "type": "scattermapbox"
           }
          ],
          "scatterpolar": [
           {
            "marker": {
             "colorbar": {
              "outlinewidth": 0,
              "ticks": ""
             }
            },
            "type": "scatterpolar"
           }
          ],
          "scatterpolargl": [
           {
            "marker": {
             "colorbar": {
              "outlinewidth": 0,
              "ticks": ""
             }
            },
            "type": "scatterpolargl"
           }
          ],
          "scatterternary": [
           {
            "marker": {
             "colorbar": {
              "outlinewidth": 0,
              "ticks": ""
             }
            },
            "type": "scatterternary"
           }
          ],
          "surface": [
           {
            "colorbar": {
             "outlinewidth": 0,
             "ticks": ""
            },
            "colorscale": [
             [
              0,
              "#0d0887"
             ],
             [
              0.1111111111111111,
              "#46039f"
             ],
             [
              0.2222222222222222,
              "#7201a8"
             ],
             [
              0.3333333333333333,
              "#9c179e"
             ],
             [
              0.4444444444444444,
              "#bd3786"
             ],
             [
              0.5555555555555556,
              "#d8576b"
             ],
             [
              0.6666666666666666,
              "#ed7953"
             ],
             [
              0.7777777777777778,
              "#fb9f3a"
             ],
             [
              0.8888888888888888,
              "#fdca26"
             ],
             [
              1,
              "#f0f921"
             ]
            ],
            "type": "surface"
           }
          ],
          "table": [
           {
            "cells": {
             "fill": {
              "color": "#EBF0F8"
             },
             "line": {
              "color": "white"
             }
            },
            "header": {
             "fill": {
              "color": "#C8D4E3"
             },
             "line": {
              "color": "white"
             }
            },
            "type": "table"
           }
          ]
         },
         "layout": {
          "annotationdefaults": {
           "arrowcolor": "#2a3f5f",
           "arrowhead": 0,
           "arrowwidth": 1
          },
          "autotypenumbers": "strict",
          "coloraxis": {
           "colorbar": {
            "outlinewidth": 0,
            "ticks": ""
           }
          },
          "colorscale": {
           "diverging": [
            [
             0,
             "#8e0152"
            ],
            [
             0.1,
             "#c51b7d"
            ],
            [
             0.2,
             "#de77ae"
            ],
            [
             0.3,
             "#f1b6da"
            ],
            [
             0.4,
             "#fde0ef"
            ],
            [
             0.5,
             "#f7f7f7"
            ],
            [
             0.6,
             "#e6f5d0"
            ],
            [
             0.7,
             "#b8e186"
            ],
            [
             0.8,
             "#7fbc41"
            ],
            [
             0.9,
             "#4d9221"
            ],
            [
             1,
             "#276419"
            ]
           ],
           "sequential": [
            [
             0,
             "#0d0887"
            ],
            [
             0.1111111111111111,
             "#46039f"
            ],
            [
             0.2222222222222222,
             "#7201a8"
            ],
            [
             0.3333333333333333,
             "#9c179e"
            ],
            [
             0.4444444444444444,
             "#bd3786"
            ],
            [
             0.5555555555555556,
             "#d8576b"
            ],
            [
             0.6666666666666666,
             "#ed7953"
            ],
            [
             0.7777777777777778,
             "#fb9f3a"
            ],
            [
             0.8888888888888888,
             "#fdca26"
            ],
            [
             1,
             "#f0f921"
            ]
           ],
           "sequentialminus": [
            [
             0,
             "#0d0887"
            ],
            [
             0.1111111111111111,
             "#46039f"
            ],
            [
             0.2222222222222222,
             "#7201a8"
            ],
            [
             0.3333333333333333,
             "#9c179e"
            ],
            [
             0.4444444444444444,
             "#bd3786"
            ],
            [
             0.5555555555555556,
             "#d8576b"
            ],
            [
             0.6666666666666666,
             "#ed7953"
            ],
            [
             0.7777777777777778,
             "#fb9f3a"
            ],
            [
             0.8888888888888888,
             "#fdca26"
            ],
            [
             1,
             "#f0f921"
            ]
           ]
          },
          "colorway": [
           "#636efa",
           "#EF553B",
           "#00cc96",
           "#ab63fa",
           "#FFA15A",
           "#19d3f3",
           "#FF6692",
           "#B6E880",
           "#FF97FF",
           "#FECB52"
          ],
          "font": {
           "color": "#2a3f5f"
          },
          "geo": {
           "bgcolor": "white",
           "lakecolor": "white",
           "landcolor": "#E5ECF6",
           "showlakes": true,
           "showland": true,
           "subunitcolor": "white"
          },
          "hoverlabel": {
           "align": "left"
          },
          "hovermode": "closest",
          "mapbox": {
           "style": "light"
          },
          "paper_bgcolor": "white",
          "plot_bgcolor": "#E5ECF6",
          "polar": {
           "angularaxis": {
            "gridcolor": "white",
            "linecolor": "white",
            "ticks": ""
           },
           "bgcolor": "#E5ECF6",
           "radialaxis": {
            "gridcolor": "white",
            "linecolor": "white",
            "ticks": ""
           }
          },
          "scene": {
           "xaxis": {
            "backgroundcolor": "#E5ECF6",
            "gridcolor": "white",
            "gridwidth": 2,
            "linecolor": "white",
            "showbackground": true,
            "ticks": "",
            "zerolinecolor": "white"
           },
           "yaxis": {
            "backgroundcolor": "#E5ECF6",
            "gridcolor": "white",
            "gridwidth": 2,
            "linecolor": "white",
            "showbackground": true,
            "ticks": "",
            "zerolinecolor": "white"
           },
           "zaxis": {
            "backgroundcolor": "#E5ECF6",
            "gridcolor": "white",
            "gridwidth": 2,
            "linecolor": "white",
            "showbackground": true,
            "ticks": "",
            "zerolinecolor": "white"
           }
          },
          "shapedefaults": {
           "line": {
            "color": "#2a3f5f"
           }
          },
          "ternary": {
           "aaxis": {
            "gridcolor": "white",
            "linecolor": "white",
            "ticks": ""
           },
           "baxis": {
            "gridcolor": "white",
            "linecolor": "white",
            "ticks": ""
           },
           "bgcolor": "#E5ECF6",
           "caxis": {
            "gridcolor": "white",
            "linecolor": "white",
            "ticks": ""
           }
          },
          "title": {
           "x": 0.05
          },
          "xaxis": {
           "automargin": true,
           "gridcolor": "white",
           "linecolor": "white",
           "ticks": "",
           "title": {
            "standoff": 15
           },
           "zerolinecolor": "white",
           "zerolinewidth": 2
          },
          "yaxis": {
           "automargin": true,
           "gridcolor": "white",
           "linecolor": "white",
           "ticks": "",
           "title": {
            "standoff": 15
           },
           "zerolinecolor": "white",
           "zerolinewidth": 2
          }
         }
        },
        "width": 1200
       }
      },
      "image/png": "[encoded data removed]",
      "text/html": [
       "<div>                            <div id=\"73a15f8e-0f17-47f2-954d-1cfeb6a6654e\" class=\"plotly-graph-div\" style=\"height:500px; width:1200px;\"></div>            <script type=\"text/javascript\">                require([\"plotly\"], function(Plotly) {                    window.PLOTLYENV=window.PLOTLYENV || {};                                    if (document.getElementById(\"73a15f8e-0f17-47f2-954d-1cfeb6a6654e\")) {                    Plotly.newPlot(                        \"73a15f8e-0f17-47f2-954d-1cfeb6a6654e\",                        [{\"branchvalues\":\"total\",\"customdata\":[[23.0],[29.0],[21.0],[28.0],[26.0],[22.0],[20.0],[19.0],[20.0],[19.0],[19.0],[19.0],[19.0],[21.0],[20.0],[28.0],[39.0],[31.0],[25.0],[35.0],[19.0],[19.0],[19.0],[19.0],[21.0],[24.486206896551725]],\"domain\":{\"x\":[0.0,1.0],\"y\":[0.0,1.0]},\"hovertemplate\":\"labels=%{label}<br>count_sum=%{value}<br>parent=%{parent}<br>id=%{id}<br>count=%{color}<extra></extra>\",\"ids\":[\"r/SeattleWA/4th\",\"r/SeattleWA/april\",\"r/SeattleWA/assault\",\"r/SeattleWA/blog\",\"r/SeattleWA/client\",\"r/SeattleWA/closur\",\"r/SeattleWA/conserv\",\"r/SeattleWA/convert\",\"r/SeattleWA/crimin\",\"r/SeattleWA/discount\",\"r/SeattleWA/fellow\",\"r/SeattleWA/furnitur\",\"r/SeattleWA/gain\",\"r/SeattleWA/john\",\"r/SeattleWA/judg\",\"r/SeattleWA/mandat\",\"r/SeattleWA/march\",\"r/SeattleWA/migrat\",\"r/SeattleWA/particip\",\"r/SeattleWA/patient\",\"r/SeattleWA/radio\",\"r/SeattleWA/shower\",\"r/SeattleWA/tab\",\"r/SeattleWA/tv\",\"r/SeattleWA/vegan\",\"r/SeattleWA\"],\"labels\":[\"4th\",\"april\",\"assault\",\"blog\",\"client\",\"closur\",\"conserv\",\"convert\",\"crimin\",\"discount\",\"fellow\",\"furnitur\",\"gain\",\"john\",\"judg\",\"mandat\",\"march\",\"migrat\",\"particip\",\"patient\",\"radio\",\"shower\",\"tab\",\"tv\",\"vegan\",\"r/SeattleWA\"],\"marker\":{\"coloraxis\":\"coloraxis\",\"colors\":[23.0,29.0,21.0,28.0,26.0,22.0,20.0,19.0,20.0,19.0,19.0,19.0,19.0,21.0,20.0,28.0,39.0,31.0,25.0,35.0,19.0,19.0,19.0,19.0,21.0,24.486206896551725]},\"name\":\"\",\"parents\":[\"r/SeattleWA\",\"r/SeattleWA\",\"r/SeattleWA\",\"r/SeattleWA\",\"r/SeattleWA\",\"r/SeattleWA\",\"r/SeattleWA\",\"r/SeattleWA\",\"r/SeattleWA\",\"r/SeattleWA\",\"r/SeattleWA\",\"r/SeattleWA\",\"r/SeattleWA\",\"r/SeattleWA\",\"r/SeattleWA\",\"r/SeattleWA\",\"r/SeattleWA\",\"r/SeattleWA\",\"r/SeattleWA\",\"r/SeattleWA\",\"r/SeattleWA\",\"r/SeattleWA\",\"r/SeattleWA\",\"r/SeattleWA\",\"r/SeattleWA\",\"\"],\"values\":[23,29,21,28,26,22,20,19,20,19,19,19,19,21,20,28,39,31,25,35,19,19,19,19,21,580],\"type\":\"treemap\"}],                        {\"template\":{\"data\":{\"bar\":[{\"error_x\":{\"color\":\"#2a3f5f\"},\"error_y\":{\"color\":\"#2a3f5f\"},\"marker\":{\"line\":{\"color\":\"#E5ECF6\",\"width\":0.5},\"pattern\":{\"fillmode\":\"overlay\",\"size\":10,\"solidity\":0.2}},\"type\":\"bar\"}],\"barpolar\":[{\"marker\":{\"line\":{\"color\":\"#E5ECF6\",\"width\":0.5},\"pattern\":{\"fillmode\":\"overlay\",\"size\":10,\"solidity\":0.2}},\"type\":\"barpolar\"}],\"carpet\":[{\"aaxis\":{\"endlinecolor\":\"#2a3f5f\",\"gridcolor\":\"white\",\"linecolor\":\"white\",\"minorgridcolor\":\"white\",\"startlinecolor\":\"#2a3f5f\"},\"baxis\":{\"endlinecolor\":\"#2a3f5f\",\"gridcolor\":\"white\",\"linecolor\":\"white\",\"minorgridcolor\":\"white\",\"startlinecolor\":\"#2a3f5f\"},\"type\":\"carpet\"}],\"choropleth\":[{\"colorbar\":{\"outlinewidth\":0,\"ticks\":\"\"},\"type\":\"choropleth\"}],\"contour\":[{\"colorbar\":{\"outlinewidth\":0,\"ticks\":\"\"},\"colorscale\":[[0.0,\"#0d0887\"],[0.1111111111111111,\"#46039f\"],[0.2222222222222222,\"#7201a8\"],[0.3333333333333333,\"#9c179e\"],[0.4444444444444444,\"#bd3786\"],[0.5555555555555556,\"#d8576b\"],[0.6666666666666666,\"#ed7953\"],[0.7777777777777778,\"#fb9f3a\"],[0.8888888888888888,\"#fdca26\"],[1.0,\"#f0f921\"]],\"type\":\"contour\"}],\"contourcarpet\":[{\"colorbar\":{\"outlinewidth\":0,\"ticks\":\"\"},\"type\":\"contourcarpet\"}],\"heatmap\":[{\"colorbar\":{\"outlinewidth\":0,\"ticks\":\"\"},\"colorscale\":[[0.0,\"#0d0887\"],[0.1111111111111111,\"#46039f\"],[0.2222222222222222,\"#7201a8\"],[0.3333333333333333,\"#9c179e\"],[0.4444444444444444,\"#bd3786\"],[0.5555555555555556,\"#d8576b\"],[0.6666666666666666,\"#ed7953\"],[0.7777777777777778,\"#fb9f3a\"],[0.8888888888888888,\"#fdca26\"],[1.0,\"#f0f921\"]],\"type\":\"heatmap\"}],\"heatmapgl\":[{\"colorbar\":{\"outlinewidth\":0,\"ticks\":\"\"},\"colorscale\":[[0.0,\"#0d0887\"],[0.1111111111111111,\"#46039f\"],[0.2222222222222222,\"#7201a8\"],[0.3333333333333333,\"#9c179e\"],[0.4444444444444444,\"#bd3786\"],[0.5555555555555556,\"#d8576b\"],[0.6666666666666666,\"#ed7953\"],[0.7777777777777778,\"#fb9f3a\"],[0.8888888888888888,\"#fdca26\"],[1.0,\"#f0f921\"]],\"type\":\"heatmapgl\"}],\"histogram\":[{\"marker\":{\"pattern\":{\"fillmode\":\"overlay\",\"size\":10,\"solidity\":0.2}},\"type\":\"histogram\"}],\"histogram2d\":[{\"colorbar\":{\"outlinewidth\":0,\"ticks\":\"\"},\"colorscale\":[[0.0,\"#0d0887\"],[0.1111111111111111,\"#46039f\"],[0.2222222222222222,\"#7201a8\"],[0.3333333333333333,\"#9c179e\"],[0.4444444444444444,\"#bd3786\"],[0.5555555555555556,\"#d8576b\"],[0.6666666666666666,\"#ed7953\"],[0.7777777777777778,\"#fb9f3a\"],[0.8888888888888888,\"#fdca26\"],[1.0,\"#f0f921\"]],\"type\":\"histogram2d\"}],\"histogram2dcontour\":[{\"colorbar\":{\"outlinewidth\":0,\"ticks\":\"\"},\"colorscale\":[[0.0,\"#0d0887\"],[0.1111111111111111,\"#46039f\"],[0.2222222222222222,\"#7201a8\"],[0.3333333333333333,\"#9c179e\"],[0.4444444444444444,\"#bd3786\"],[0.5555555555555556,\"#d8576b\"],[0.6666666666666666,\"#ed7953\"],[0.7777777777777778,\"#fb9f3a\"],[0.8888888888888888,\"#fdca26\"],[1.0,\"#f0f921\"]],\"type\":\"histogram2dcontour\"}],\"mesh3d\":[{\"colorbar\":{\"outlinewidth\":0,\"ticks\":\"\"},\"type\":\"mesh3d\"}],\"parcoords\":[{\"line\":{\"colorbar\":{\"outlinewidth\":0,\"ticks\":\"\"}},\"type\":\"parcoords\"}],\"pie\":[{\"automargin\":true,\"type\":\"pie\"}],\"scatter\":[{\"marker\":{\"colorbar\":{\"outlinewidth\":0,\"ticks\":\"\"}},\"type\":\"scatter\"}],\"scatter3d\":[{\"line\":{\"colorbar\":{\"outlinewidth\":0,\"ticks\":\"\"}},\"marker\":{\"colorbar\":{\"outlinewidth\":0,\"ticks\":\"\"}},\"type\":\"scatter3d\"}],\"scattercarpet\":[{\"marker\":{\"colorbar\":{\"outlinewidth\":0,\"ticks\":\"\"}},\"type\":\"scattercarpet\"}],\"scattergeo\":[{\"marker\":{\"colorbar\":{\"outlinewidth\":0,\"ticks\":\"\"}},\"type\":\"scattergeo\"}],\"scattergl\":[{\"marker\":{\"colorbar\":{\"outlinewidth\":0,\"ticks\":\"\"}},\"type\":\"scattergl\"}],\"scattermapbox\":[{\"marker\":{\"colorbar\":{\"outlinewidth\":0,\"ticks\":\"\"}},\"type\":\"scattermapbox\"}],\"scatterpolar\":[{\"marker\":{\"colorbar\":{\"outlinewidth\":0,\"ticks\":\"\"}},\"type\":\"scatterpolar\"}],\"scatterpolargl\":[{\"marker\":{\"colorbar\":{\"outlinewidth\":0,\"ticks\":\"\"}},\"type\":\"scatterpolargl\"}],\"scatterternary\":[{\"marker\":{\"colorbar\":{\"outlinewidth\":0,\"ticks\":\"\"}},\"type\":\"scatterternary\"}],\"surface\":[{\"colorbar\":{\"outlinewidth\":0,\"ticks\":\"\"},\"colorscale\":[[0.0,\"#0d0887\"],[0.1111111111111111,\"#46039f\"],[0.2222222222222222,\"#7201a8\"],[0.3333333333333333,\"#9c179e\"],[0.4444444444444444,\"#bd3786\"],[0.5555555555555556,\"#d8576b\"],[0.6666666666666666,\"#ed7953\"],[0.7777777777777778,\"#fb9f3a\"],[0.8888888888888888,\"#fdca26\"],[1.0,\"#f0f921\"]],\"type\":\"surface\"}],\"table\":[{\"cells\":{\"fill\":{\"color\":\"#EBF0F8\"},\"line\":{\"color\":\"white\"}},\"header\":{\"fill\":{\"color\":\"#C8D4E3\"},\"line\":{\"color\":\"white\"}},\"type\":\"table\"}]},\"layout\":{\"annotationdefaults\":{\"arrowcolor\":\"#2a3f5f\",\"arrowhead\":0,\"arrowwidth\":1},\"autotypenumbers\":\"strict\",\"coloraxis\":{\"colorbar\":{\"outlinewidth\":0,\"ticks\":\"\"}},\"colorscale\":{\"diverging\":[[0,\"#8e0152\"],[0.1,\"#c51b7d\"],[0.2,\"#de77ae\"],[0.3,\"#f1b6da\"],[0.4,\"#fde0ef\"],[0.5,\"#f7f7f7\"],[0.6,\"#e6f5d0\"],[0.7,\"#b8e186\"],[0.8,\"#7fbc41\"],[0.9,\"#4d9221\"],[1,\"#276419\"]],\"sequential\":[[0.0,\"#0d0887\"],[0.1111111111111111,\"#46039f\"],[0.2222222222222222,\"#7201a8\"],[0.3333333333333333,\"#9c179e\"],[0.4444444444444444,\"#bd3786\"],[0.5555555555555556,\"#d8576b\"],[0.6666666666666666,\"#ed7953\"],[0.7777777777777778,\"#fb9f3a\"],[0.8888888888888888,\"#fdca26\"],[1.0,\"#f0f921\"]],\"sequentialminus\":[[0.0,\"#0d0887\"],[0.1111111111111111,\"#46039f\"],[0.2222222222222222,\"#7201a8\"],[0.3333333333333333,\"#9c179e\"],[0.4444444444444444,\"#bd3786\"],[0.5555555555555556,\"#d8576b\"],[0.6666666666666666,\"#ed7953\"],[0.7777777777777778,\"#fb9f3a\"],[0.8888888888888888,\"#fdca26\"],[1.0,\"#f0f921\"]]},\"colorway\":[\"#636efa\",\"#EF553B\",\"#00cc96\",\"#ab63fa\",\"#FFA15A\",\"#19d3f3\",\"#FF6692\",\"#B6E880\",\"#FF97FF\",\"#FECB52\"],\"font\":{\"color\":\"#2a3f5f\"},\"geo\":{\"bgcolor\":\"white\",\"lakecolor\":\"white\",\"landcolor\":\"#E5ECF6\",\"showlakes\":true,\"showland\":true,\"subunitcolor\":\"white\"},\"hoverlabel\":{\"align\":\"left\"},\"hovermode\":\"closest\",\"mapbox\":{\"style\":\"light\"},\"paper_bgcolor\":\"white\",\"plot_bgcolor\":\"#E5ECF6\",\"polar\":{\"angularaxis\":{\"gridcolor\":\"white\",\"linecolor\":\"white\",\"ticks\":\"\"},\"bgcolor\":\"#E5ECF6\",\"radialaxis\":{\"gridcolor\":\"white\",\"linecolor\":\"white\",\"ticks\":\"\"}},\"scene\":{\"xaxis\":{\"backgroundcolor\":\"#E5ECF6\",\"gridcolor\":\"white\",\"gridwidth\":2,\"linecolor\":\"white\",\"showbackground\":true,\"ticks\":\"\",\"zerolinecolor\":\"white\"},\"yaxis\":{\"backgroundcolor\":\"#E5ECF6\",\"gridcolor\":\"white\",\"gridwidth\":2,\"linecolor\":\"white\",\"showbackground\":true,\"ticks\":\"\",\"zerolinecolor\":\"white\"},\"zaxis\":{\"backgroundcolor\":\"#E5ECF6\",\"gridcolor\":\"white\",\"gridwidth\":2,\"linecolor\":\"white\",\"showbackground\":true,\"ticks\":\"\",\"zerolinecolor\":\"white\"}},\"shapedefaults\":{\"line\":{\"color\":\"#2a3f5f\"}},\"ternary\":{\"aaxis\":{\"gridcolor\":\"white\",\"linecolor\":\"white\",\"ticks\":\"\"},\"baxis\":{\"gridcolor\":\"white\",\"linecolor\":\"white\",\"ticks\":\"\"},\"bgcolor\":\"#E5ECF6\",\"caxis\":{\"gridcolor\":\"white\",\"linecolor\":\"white\",\"ticks\":\"\"}},\"title\":{\"x\":0.05},\"xaxis\":{\"automargin\":true,\"gridcolor\":\"white\",\"linecolor\":\"white\",\"ticks\":\"\",\"title\":{\"standoff\":15},\"zerolinecolor\":\"white\",\"zerolinewidth\":2},\"yaxis\":{\"automargin\":true,\"gridcolor\":\"white\",\"linecolor\":\"white\",\"ticks\":\"\",\"title\":{\"standoff\":15},\"zerolinecolor\":\"white\",\"zerolinewidth\":2}}},\"coloraxis\":{\"colorbar\":{\"title\":{\"text\":\"count\"}},\"colorscale\":[[0.0,\"rgb(247,252,245)\"],[0.125,\"rgb(229,245,224)\"],[0.25,\"rgb(199,233,192)\"],[0.375,\"rgb(161,217,155)\"],[0.5,\"rgb(116,196,118)\"],[0.625,\"rgb(65,171,93)\"],[0.75,\"rgb(35,139,69)\"],[0.875,\"rgb(0,109,44)\"],[1.0,\"rgb(0,68,27)\"]],\"cmid\":23.2},\"legend\":{\"tracegroupgap\":0},\"margin\":{\"t\":60},\"height\":500,\"width\":1200},                        {\"responsive\": true}                    ).then(function(){\n",
       "                            \n",
       "var gd = document.getElementById('73a15f8e-0f17-47f2-954d-1cfeb6a6654e');\n",
       "var x = new MutationObserver(function (mutations, observer) {{\n",
       "        var display = window.getComputedStyle(gd).display;\n",
       "        if (!display || display === 'none') {{\n",
       "            console.log([gd, 'removed!']);\n",
       "            Plotly.purge(gd);\n",
       "            observer.disconnect();\n",
       "        }}\n",
       "}});\n",
       "\n",
       "// Listen for the removal of the full notebook cells\n",
       "var notebookContainer = gd.closest('#notebook-container');\n",
       "if (notebookContainer) {{\n",
       "    x.observe(notebookContainer, {childList: true});\n",
       "}}\n",
       "\n",
       "// Listen for the clearing of the current output cell\n",
       "var outputEl = gd.closest('.output');\n",
       "if (outputEl) {{\n",
       "    x.observe(outputEl, {childList: true});\n",
       "}}\n",
       "\n",
       "                        })                };                });            </script>        </div>"
      ]
     },
     "metadata": {},
     "output_type": "display_data"
    }
   ],
   "source": [
    "fig = px.treemap(sea_wa_only_df, path=[px.Constant('r/SeattleWA'), 'index'], values='count', color = 'count', width = 1200, height = 500, color_continuous_scale= 'Greens', color_continuous_midpoint= np.mean(sea_wa_only_df['count']))\n",
    "fig.show()"
   ]
  },
  {
   "cell_type": "code",
   "execution_count": 69,
   "id": "9f10019a-1579-4202-b9b6-1a181ee80366",
   "metadata": {},
   "outputs": [
    {
     "data": {
      "text/plain": [
       "success    0.0\n",
       "well       0.0\n",
       "anywher    0.0\n",
       "anyth      0.0\n",
       "folk       0.0\n",
       "anyon      0.0\n",
       "check      0.0\n",
       "sick       0.0\n",
       "part       0.0\n",
       "like       0.0\n",
       "seattl     0.0\n",
       "doesn      0.0\n",
       "find       0.0\n",
       "fli        0.0\n",
       "thing      0.0\n",
       "confirm    0.0\n",
       "liter      0.0\n",
       "author     0.0\n",
       "came       0.0\n",
       "mention    0.0\n",
       "could      0.0\n",
       "bu         0.0\n",
       "dtype: float64"
      ]
     },
     "execution_count": 69,
     "metadata": {},
     "output_type": "execute_result"
    }
   ],
   "source": [
    "ranking_difference[ranking_difference == 0]"
   ]
  },
  {
   "cell_type": "markdown",
   "id": "677fc5be-0721-4ebe-8919-df4c7814d850",
   "metadata": {},
   "source": [
    "Here are words that had the same ranking in both subreddits. Nothing too interesting here."
   ]
  },
  {
   "cell_type": "code",
   "execution_count": 261,
   "id": "e410a451-e7bb-4464-8e9e-fcdd77622774",
   "metadata": {},
   "outputs": [],
   "source": [
    "cvec = CountVectorizer(max_features = 1000, ngram_range=(2,2))\n",
    "\n",
    "# collect 1,000 most frequent bi-grams appearing in r/Seattle\n",
    "sea_bigram_freq = cvec.fit_transform(sea['text'])\n",
    "sea_bigram_freq = pd.DataFrame(sea_bigram_freq.todense(), columns = cvec.get_feature_names_out())\n",
    "sea_bigrams = sea_bigram_freq.sum().sort_values(ascending = False)\n",
    "\n",
    "# collect 1,000 most frequent bi-grams appearing in r/SeattleWA\n",
    "sea_wa_bigram_freq = cvec.fit_transform(sea_wa['text'])\n",
    "sea_wa_bigram_freq = pd.DataFrame(sea_wa_bigram_freq.todense(), columns = cvec.get_feature_names_out())\n",
    "sea_wa_bigrams = sea_wa_bigram_freq.sum().sort_values(ascending = False)"
   ]
  },
  {
   "cell_type": "code",
   "execution_count": 265,
   "id": "8e25d0cb-03d0-44d3-a065-3ee0c21cd043",
   "metadata": {},
   "outputs": [
    {
     "data": {
      "text/plain": [
       "anyon know         200\n",
       "doe anyon          160\n",
       "seattl area        129\n",
       "move seattl        126\n",
       "thank advanc        97\n",
       "first time          82\n",
       "would like          82\n",
       "anyon els           76\n",
       "capitol hill        75\n",
       "would love          75\n",
       "light rail          70\n",
       "visit seattl        67\n",
       "seem like           65\n",
       "feel like           65\n",
       "ani recommend       59\n",
       "let know            53\n",
       "west seattl         53\n",
       "look like           51\n",
       "ha anyon            50\n",
       "year old            50\n",
       "year ago            47\n",
       "king counti         47\n",
       "pike place          47\n",
       "ani suggest         46\n",
       "anyon recommend     44\n",
       "dtype: int64"
      ]
     },
     "execution_count": 265,
     "metadata": {},
     "output_type": "execute_result"
    }
   ],
   "source": [
    "sea_bigrams.head(25)"
   ]
  },
  {
   "cell_type": "code",
   "execution_count": 266,
   "id": "a4fd7fbc-067c-441e-8f81-ca2c9f1745f9",
   "metadata": {},
   "outputs": [
    {
     "data": {
      "text/plain": [
       "anyon know          159\n",
       "move seattl         141\n",
       "doe anyon           129\n",
       "seattl area         126\n",
       "thank advanc         81\n",
       "would like           76\n",
       "king counti          68\n",
       "capitol hill         62\n",
       "visit seattl         62\n",
       "would love           60\n",
       "anyon els            58\n",
       "let know             57\n",
       "look like            57\n",
       "feel like            54\n",
       "seem like            54\n",
       "first time           51\n",
       "year old             50\n",
       "downtown seattl      46\n",
       "live seattl          46\n",
       "last year            43\n",
       "west seattl          43\n",
       "washington state     41\n",
       "anyon recommend      40\n",
       "wonder anyon         38\n",
       "ani recommend        38\n",
       "dtype: int64"
      ]
     },
     "execution_count": 266,
     "metadata": {},
     "output_type": "execute_result"
    }
   ],
   "source": [
    "sea_wa_bigrams.head(25)"
   ]
  },
  {
   "cell_type": "code",
   "execution_count": 271,
   "id": "8b82f17a-10de-40a0-93b4-90502dc842bd",
   "metadata": {},
   "outputs": [],
   "source": [
    "sea_bigrams_set = set(sea_bigrams.index)\n",
    "sea_wa_bigrams_set = set(sea_wa_bigrams.index)\n",
    "\n",
    "common_bi = sea_bigrams_set.intersection(sea_wa_bigrams_set)\n",
    "sea_only_bi = sea_bigrams_set - common_bi\n",
    "sea_wa_only_bi = sea_wa_bigrams_set - common_bi"
   ]
  },
  {
   "cell_type": "code",
   "execution_count": 281,
   "id": "d3358b08-e523-481b-912e-9fa8057bbebb",
   "metadata": {},
   "outputs": [],
   "source": [
    "sea_bigrams_top15 = sea_bigrams[list(common_bi)].sort_values(ascending = False).head(15)\n",
    "sea_wa_bigrams_top15 = sea_wa_bigrams[list(common_bi)].sort_values(ascending = False).head(15)"
   ]
  },
  {
   "cell_type": "code",
   "execution_count": 282,
   "id": "905fff10-9f64-4f22-8403-f12488332919",
   "metadata": {},
   "outputs": [
    {
     "data": {
      "text/plain": [
       "anyon know       200\n",
       "doe anyon        160\n",
       "seattl area      129\n",
       "move seattl      126\n",
       "thank advanc      97\n",
       "first time        82\n",
       "would like        82\n",
       "anyon els         76\n",
       "capitol hill      75\n",
       "would love        75\n",
       "light rail        70\n",
       "visit seattl      67\n",
       "seem like         65\n",
       "feel like         65\n",
       "ani recommend     59\n",
       "dtype: int64"
      ]
     },
     "execution_count": 282,
     "metadata": {},
     "output_type": "execute_result"
    }
   ],
   "source": [
    "sea_bigrams_top15"
   ]
  },
  {
   "cell_type": "code",
   "execution_count": 283,
   "id": "44303f70-2235-4bd9-b0ac-42c98e89187e",
   "metadata": {},
   "outputs": [
    {
     "data": {
      "text/plain": [
       "anyon know      159\n",
       "move seattl     141\n",
       "doe anyon       129\n",
       "seattl area     126\n",
       "thank advanc     81\n",
       "would like       76\n",
       "king counti      68\n",
       "capitol hill     62\n",
       "visit seattl     62\n",
       "would love       60\n",
       "anyon els        58\n",
       "look like        57\n",
       "let know         57\n",
       "seem like        54\n",
       "feel like        54\n",
       "dtype: int64"
      ]
     },
     "execution_count": 283,
     "metadata": {},
     "output_type": "execute_result"
    }
   ],
   "source": [
    "sea_wa_bigrams_top15"
   ]
  },
  {
   "cell_type": "code",
   "execution_count": 285,
   "id": "2f8fa4d7-686a-4f8c-a967-24c967e36415",
   "metadata": {},
   "outputs": [
    {
     "data": {
      "text/plain": [
       "sponsor councilmemb     42\n",
       "if question             23\n",
       "blue line               22\n",
       "council meet            20\n",
       "move visit              20\n",
       "citi light              20\n",
       "know there              20\n",
       "councilmemb ye          20\n",
       "school board            18\n",
       "councilmemb district    18\n",
       "seattl song             18\n",
       "would go                18\n",
       "board game              17\n",
       "let us                  17\n",
       "uber lyft               17\n",
       "dtype: int64"
      ]
     },
     "execution_count": 285,
     "metadata": {},
     "output_type": "execute_result"
    }
   ],
   "source": [
    "sea_bigrams[list(sea_only_bi)].sort_values(ascending = False).head(15)"
   ]
  },
  {
   "cell_type": "code",
   "execution_count": 303,
   "id": "ac41effe-30b6-4fe8-bbde-7574e9095477",
   "metadata": {},
   "outputs": [
    {
     "name": "stdout",
     "output_type": "stream",
     "text": [
      "spd bar display thin blue line symbol spog abolish the myth lynchpin offic die uvald with dear children myth lynchpin offic die uvald by doctrin the thin blue line polic requir broad discret use-of-forc decis thi offic hold line order chao improperli restrain polic may fail – case someth terribl could happen lllllllllllllllllllllllllllllllllllllllllllllllllllllllllllllllllllllllllllllllllllllllllllllllllllllllllllllllllllllllllllllllllllllllllllllllllllllllllllllllllllllllllll a grand juri assembl denver polic shot six innoc bystand fail attempt kill man who’d surrend lllllllllllllllllllllllllllllllllllllllllllllllllllllllllllllllllllllllllllllllllllllllllllllllllllllllllllllllllllllllllllllllllllllllllllllllllllllllllllllllllllllllllll the thin blue line come repres distinct ideolog wide adopt polic throughout us thi clearli extremist ideolog though simpl proposit guid organ train profession conduct law enforc organ nationwid thi problem requir immedi attent forc action becaus polic offic employ protect serv turn conduct quit differ offic employ lynchpin \"chaos\" the defund slogan got far let’ honest doesn’t appear stand armi lynchpin offic will stand banner servic sacrific – least standard view sacrific might entail we expect polic accept risk behalf that’ job i think agre face valu yet aggress union represent bless appar drunken judiciari polic foist danger polic onto public point obviou sacrific involv vocat carri emot cost commit horrif act violenc prolif cop trainer “killology” author blue line devote dave grossman speak directli the follow quot grossman video titl “the polic trainer who teach cop kill | the new yorker” avail youtub “are emot spiritu psycholog prepar snuff human life defens innoc live if can’t make decis need find anoth job…do understand could su shoot stand noth peopl murder call cowardic malfeas derelict duty…don’t afraid get su everybodi get su chanc overtim be afraid su successfully” i didn’t go cherri pick quot misrepres context cast shadow polic – plainli said the blue line ideolog liter reduc “shoot first ask question later” without hint dishonesti bad faith and dig sourc quot cultur he’ inform obviou becom decis shoot 6 innoc bystand denver made classroom in classroom pupil taught recogn split second decis make caus shoot - far differ train make right split second decis foster cultur enforc expect accuraci nonetheless like decri cherri pick suggest argument restrict polic use forc six time stronger argument favor offic discret given happen denver but strength differenti simpl fact denver polic shot six innoc peopl fail attempt kill man who’d surrend no it’ polic author denver like everywher els nation won’t straightaway condemn act mindset train deliv result – they’r blue line extremist will trade well 6 innoc bystand phantom faith a simpl valu proposit the blue line propos maxim public safeti surgic applic necessari violenc a polic forc worship violenc action bargain public safeti faith maintain benefici valu diminish distast appear like polic train materi louisiana found quot hitler sourc instanc becaus public safeti maxim polic endow broad discret use-of-forc decis – mani unit “chaos” held back polic violenc effect offset public safeti cost six innoc bystand shot exampl it’ fault i suppos demand phantom public safeti gain demonstr clearli becaus clearli thousand peopl shot dead polic year nationwid high bar and that’ mention unnecessarili brutal harass disrespect nonleth polic encount given polic isn’t fact particularli danger seem wise ask: blue line polic bargain a popular counterpoint anti-polic rhetor small percentag polic encount becom violent therefor it’ held claim rampant polic violenc unfound but true shouldn’t also recogn number overwhelmingli clear polic caus far physic harm innoc citizen polic offic greatest threat offic safeti cultur impun and therefor flagship content blue line ideolog propagandist fiction i mean major polic death traffic relat probabl unrel fact mani polic refus buckl – though they’ll write ticket similarli 55% spike polic death 2020 2021 attribut covid relat death probabl unrel fact mani polic refus wear mask – even mandat law enforc other it shouldn’t controversi recogn number valu proposit blue line simpli add a derelict judiciari but fact mani polic kill clear major rule “justified” that kind shoot hole reason doesn’t no – twist – actual doesn’t instead it’ simpli testament extrem polic allow becom thi thank persist grow derelict judiciari blue line extrem grew today shadow seri absurd legal delus without cover blue line would sure cleans light day qualifi immun the “court creat doctrine” qualifi immun like notori legal delus thi doctrin hold polic immun civil liabil except shown offic violat individual’ “clearli establish rights” while lay peopl wide regard first fourth amend right pretti fuck clearli establish work the test whether offic violat clearli establish right come whether offic “reasonably” knew action would violat individual’ right in texa 2020 us fifth circuit court appeal rule wasn’t reason expect correct offic understand unprovok pepper spray attack inmat would violat right case cite plaintiff demonstr clearli establish right concern prison guard beat tase inmat – pepper spray in essenc qualifi immun invok irrelev practic guarante offic freedom civil liabil turn concept reason brazen display unlik ignor and better still sinc rule unprovok pepper spray attack inmat warrant qualifi immun right free attack dement prison guard becom clearli unestablish grahamvconnor - 1989 a similar pervers reason found 1989 suprem court rule grahamvconnor the court confirm graham excess forc claim polic evalu respect “object reasonableness” standard 4th amend thi test consid sever suspect’ alleg crime threat level pose suspect whether suspect resist evad but here’ kicker factor must consid respect fact offic may compel engag split second decis make “from perspect reason offic scene rather 20 20 vision hindsight\" so practic “objective” reason test dictat graham boil ask offic accus excess forc whether they’r guilti becaus cop would testifi percept would cast use forc “unreasonable” light the result standard trigger-happi rambo cop becom templat pass “reason officer” a special bill right polic union final “officer’ bill rights” contractu legal favor achiev polic union negoti these vari state state one polic depart next either case often afford polic due process right beyond avail ordinari citizen accus crime polic union argu necessari protect polic overzeal prosecutor intern affair but it’ far easier find hundr exampl protect polic warrant account – see freddi gray exampl – find even singl case polic offic victim bad faith prosecut polic rare charg much less prosecut abus clearli unreason unjustifi standard definit term furthermor special favor written law strike legitimaci entir legal system given legal author us uniqu depend rule law basic hold law enforc equal accord internet the thin blue line extremist totem abolish without second thought us polic firmli establish intersect derelict judiciari blue line extrem i hope i’v shown real distinct ideolog forc insid polic depart at place polic offic proudli provid perimet secur terrorist murder children beat parent tri interven brave unleash hail gunfir crowd sunday night there appear limit absurd realli aforement exampl enough compel forc chang the faith maintain distast appear and polic stand readi beat back forc object we march chang 2020 polic beat us we would held account seattl cover badg number blue line the chief snake assur us noth individu offic avoid account skull crack seattle’ infam summer love everyth honor fallen offic though apost contend blue line badg seattl polic shamelessli exploit death offic unaffili depart evad account simpli abus commun – obviou reason retain impun becaus polic seattl didn’t beat mani rioter fox new report time confirm consist target press protest medic constitut protect protest so mythic lynchpin carri past uvald like kind headless chicken i hope final recogn abil reinforc true foundat robust public safeti we don’t need rambo cop offic view sacrific willing face mortal danger risk die capac violenc risk kill unnecessarili with brave cop restrain preemptiv violenc back sophist reinforc capabl – happen alreadi – there’ threat cannot overcom there’ one compon missingbut spog stand way\n",
      "---\n",
      "requir spd never initi violenc let us fire - it' time new push seattl ramp new era crime control polic we demand department polici prohibit proactiv polic violenc creat mechan fire offend offic without recours beyond influenc spog proposal: spd offic may use forc proactiv in event offic use forc proactiv victim action decid file claim valid forc shall judg \"jury\" randomli select seattl citizen hear claim involv in event use forc judg improp juri citizen power termin officer' employ without possibl outsid recours offic concern that' pitch justif seattl spog' hostag it' time join rest develop world creat effect mechan allow commun purg violent crimin polic forc polic us shape paramilitari form as citizen guarante right outlin bill right us constitut power author purg crimin paramilitari element polic depart the tactic mindset us polic power inform novel vocat ideolog that' ubiquit among polic across nation the particular ideolog front center write polic consult \"killology\" author dave grossman thi ideolog express display \"blue line\" symbol spd quit fond in essenc ideolog contend polic righteou forc hold back otherwis immin wave crime calcul use discretionari violenc thi ideolog turn offic lynchpin crime we'd sure overrun wave crimin hord polic restrict proactiv use violenc but ever true haven't polic disproven cost benefit proposit novel ideolog we recogn myth lynchpin offic also die uvald thi \\\\\\ ideolog turn far ass armi polic arm teeth bother save children slaughter singl untrain shooter but typic fashion polic success beat threaten parent effect hold perimet secur dement terrorist in typic fashion polic lie happen fact in typic fashion polic harass threaten woman manag slip perimet save child too far thi must end now we saw spd conduct manner similar sent armi arrest man who'd film pepper spray small child spd firm subscrib vocat ideolog brought us uvald make proud display blue line symbol the ideolog behind symbol inform spd' deliber decis put commun danger broadcast fals inform proud boy bear polic brutal protest it inform spd' decis deliber withhold servic could lie bar access crime scene spd repeatedli demonstr willing put commun risk achiev goal contrari democrat it' time recogn blue line terrorist symbol foster extremist mindset that' activ threaten rule law constitut right basic human digniti isol polic commun serv it' time polic find secur good relat keep commun - cart blanch use violenc becaus abil reinforc keep us safe in crisi magnitud abil reinforc power determin favor resolut lynchpin rambo-cop undepend costli tragic proven time time but steadi inflow reinforc never fail secur scene of cours could imagin scenario rambo-cop skill save day but better observ glare realiti rambo-cop fail live end bargain it' time call way blue line extrem foist danger polic shoulder let polic danger chosen profess demand department polici requir offic withhold violenc threat object proven give mean fire offend that' immun union influenc thi problem polic oper good faith consent commun serv\n",
      "---\n",
      "the incom polic chief - a public messag mayor polic seattl dear mayor seattle' get new polic chief king counti new prosecutor meanwhil public sentiment regard homeless crime seem like support new era aggress polic prosecut seattl nonetheless remain true signific portion local popul regard spd outright illegitim past misconduct i second popul spd far i concern surrend legitimaci engag polit violenc strateg derelict duti 2020 how propos spd fit caus system legal author depend directli rule law democrat consent you need clarifi i'm go deepli review item spd misconduct make case they'r unfit caus we'r way past well document wide known despit appar effort scrub evid internet rampant misconduct 2020 particular spd' campaign violenc plainli demonstr see mani us forgotten ever forget we saw instanc chain command serv spd crime-cov effect serv public restrain department' unnecessarili violent hostil postur the entir world saw opa serv spd account shield contrari ostens function we watch media parrot pro-polic propaganda outright lie real time capit hill held lock - simpli polic could assert domin furthermor polic riot 2020 spd wore blue line badg number and miss blue line flag took front center violent mob swarm nation' capit i'm will entertain fiction polic requir ignor obviou march toward authoritarian no i sent oversea fight war freedom bullshit i came home find polic transform paramilitari treat common citizen enemi nope nope nope nope not gonna happen we need leader brave put wayward institut law enforc back place if are comfort send messag citizen protect ego ideolog driven polic violenc what mechan protect we need real polici solut effect account mechan respond widespread system polic misconduct thi urgent ever polic effect postur law beat back disapprov public without proper respons local state feder offici so far we'v gotten elect offici cover institut that' becom overtli hostil meant serv but i'm offer critic without propos solut there one simpl thing could done great effect mayor power implement propos department polici it would far reach implic practic symbol you must dictat seattl polic shall initi violenc without automat place job merci \"jury\" randomli select citizen so instanc spd offic shoot someon initi violenc offic public officer' job merci citizen assembl either valid reject legitimaci use forc crimin account must come elsewher i understand it' time dictat polic find secur mainten good relat keep commun serv current howev polic find secur abil commit horrif act violenc without fear legal peril how work give polic cart blanch initi violenc it' great offic safeti polic well protect king' men ever but they'r hate furthermor specif public serv provid polic wide latitud initi violenc the basic argument approach public safeti best serv offic employ violenc without fear legal peril given misstep may occur high stress environ essenti view notabl champion killolog author polic consult dave grossman polic offic proverbi lynchpin hold line impend wave intoler crime discretionari violenc but practic efficaci like instanc how'd cost benefit approach work uvald suppos greatest util possibl spd selfish cowardli polic uvald - know conduct 2020 it' time end cruel joke we'r get none paid though we'r saddl ever-ris cost authoritarian polic it' time let polic danger chosen profess fuck mike solan union citi hostag becaus violence-en polic keep us safe the abil to reinforc keep us safe in crisi magnitud time reinforc variabl influenti favor resolut absolut could imagin scenario restrain rambo-cop result unfavor outcom but outsid imagin realiti rambo-cop fail and polic doctrin enabl yoke around neck it' time start act like you'v got option sincer a busi own seattl resid combat veteran\n",
      "---\n"
     ]
    }
   ],
   "source": [
    "# Three posts on r/Seattle contain all instances of blue line\n",
    "for entry in sea.loc[sea['text'].str.contains('blue line'), 'text'][:5]:\n",
    "    print(entry)\n",
    "    print('---')"
   ]
  },
  {
   "cell_type": "code",
   "execution_count": 284,
   "id": "e1ba9bfe-e5fe-44cd-be69-908aa605ea4f",
   "metadata": {},
   "outputs": [
    {
     "data": {
      "text/plain": [
       "wear mask          24\n",
       "two ticket         23\n",
       "sell ticket        19\n",
       "south lake         18\n",
       "think move         17\n",
       "red light          16\n",
       "dental hygien      16\n",
       "long stori         16\n",
       "speed limit        16\n",
       "mask mandat        16\n",
       "seattl bellevu     16\n",
       "catalyt convert    15\n",
       "hygien student     15\n",
       "state depart       14\n",
       "park ticket        14\n",
       "dtype: int64"
      ]
     },
     "execution_count": 284,
     "metadata": {},
     "output_type": "execute_result"
    }
   ],
   "source": [
    "sea_wa_bigrams[list(sea_wa_only_bi)].sort_values(ascending = False).head(15)"
   ]
  },
  {
   "cell_type": "code",
   "execution_count": 304,
   "id": "5628976a-6d8f-4ecf-b259-24088ad7ed36",
   "metadata": {},
   "outputs": [
    {
     "name": "stdout",
     "output_type": "stream",
     "text": [
      "i know linger mask requir bother i close saint bread week ago want treat drove look park saw still requir mask even though counter basic outsid their outdoor patio patron wear mask so i kept drive went anoth bakeri there' \"the science\" suggest wear mask scenario measur impact \\duck cover\\ haha\n",
      "---\n",
      "employ requir me come back covid posit i work front desk hotel bellevu i test posit covid manag ask come regardless wear mask is legal consid stage covid i’m familiar regul covid today help would appreci folk\n",
      "---\n",
      "whi mostli asian still wear mask is alreadi use communist authoritarian countri\n",
      "---\n",
      "to wear mask wrong i find baffl mani peopl i see wear mask wrong day almost nowher requir mask day want wear one it' two year feel wear one sure know right so what' not hear shit anyon stir pot i find behavior bizarr\n",
      "---\n",
      "look like custom servic seattle' king counti prioriti anymor i multipl experi i thought custom servic suck 1 thi chipotl redmond wa: never order prepar time around 30% time forget prepar order show order receipt 2 i multipl subway in subway veggi liter thrown sub i'm ask extra courteou prepar food least good 3 i went pizza place they close 9:00 i order onlin pickup reach 8:58 pm the door lock i liter knock glass door 5 minut piss 3 employe sit insid restaur even get open door ultim one person arriv yell \"we'r close\" after i told i order onlin like \"email refund\" 4 there restaur pandem server guy recept even wear mask i ask they'll wear mask give mean facial express rare i encount good custom servic i never say argu anyth would escal thing i'm interest ruin day server' behavior i understand one want work minimum wage hey problem i focus career educ the good custom servic i ever experienc starbuck i-hop besid asian famili market bellevu\n",
      "---\n"
     ]
    }
   ],
   "source": [
    "# Three posts on r/Seattle contain all instances of blue line\n",
    "for entry in sea_wa.loc[sea_wa['text'].str.contains('wear mask'), 'text'][:5]:\n",
    "    print(entry)\n",
    "    print('---')"
   ]
  },
  {
   "cell_type": "code",
   "execution_count": 310,
   "id": "d1b70999-3f6c-4db4-bbbc-fcd296bad9ef",
   "metadata": {},
   "outputs": [],
   "source": [
    "#sea_wa_bigrams_top15 = sea_wa_bigrams[list(common_bi)].sort_values(ascending = False).head(15)"
   ]
  }
 ],
 "metadata": {
  "kernelspec": {
   "display_name": "Python 3 (ipykernel)",
   "language": "python",
   "name": "python3"
  },
  "language_info": {
   "codemirror_mode": {
    "name": "ipython",
    "version": 3
   },
   "file_extension": ".py",
   "mimetype": "text/x-python",
   "name": "python",
   "nbconvert_exporter": "python",
   "pygments_lexer": "ipython3",
   "version": "3.9.12"
  }
 },
 "nbformat": 4,
 "nbformat_minor": 5
}
